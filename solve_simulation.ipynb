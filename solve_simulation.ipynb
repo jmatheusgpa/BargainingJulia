{
 "cells": [
  {
   "cell_type": "markdown",
   "metadata": {},
   "source": [
    "Dou et al. (2020) model\n",
    "\n",
    "Agora em Julia versão 1.5.3\n",
    "\n",
    "This script simulates the model"
   ]
  },
  {
   "cell_type": "code",
   "execution_count": 1,
   "metadata": {},
   "outputs": [],
   "source": [
    "using LinearAlgebra, Statistics\n",
    "\n",
    "# using Distributions, Expectations, NLsolve, Roots, Random, Plots, Parameters\n",
    "\n",
    "\n",
    "using DataFrames\n",
    "using Gadfly\n",
    "\n",
    "\n",
    "\n"
   ]
  },
  {
   "cell_type": "markdown",
   "metadata": {},
   "source": [
    "Testando a solução do jogo"
   ]
  },
  {
   "cell_type": "code",
   "execution_count": 2,
   "metadata": {},
   "outputs": [
    {
     "name": "stderr",
     "output_type": "stream",
     "text": [
      "┌ Info: Precompiling NBInclude [0db19996-df87-5ea3-a455-e3a50d440464]\n",
      "└ @ Base loading.jl:1278\n"
     ]
    },
    {
     "data": {
      "text/plain": [
       "solve_tree (generic function with 5 methods)"
      ]
     },
     "execution_count": 2,
     "metadata": {},
     "output_type": "execute_result"
    }
   ],
   "source": [
    "using NBInclude\n",
    "@nbinclude(\"solve_model.ipynb\")\n",
    "\n",
    "#importou a função solve_tree"
   ]
  },
  {
   "cell_type": "code",
   "execution_count": 3,
   "metadata": {},
   "outputs": [],
   "source": [
    "#Vh/D, L/D, Dj/D\n",
    "data = [1.0, 0.25, 0.68]; \n",
    "\n",
    "#ρ, β, c0, λj\n",
    "game_parameters = [0.884, 9.84, 0.044, 0.346];"
   ]
  },
  {
   "cell_type": "code",
   "execution_count": 4,
   "metadata": {},
   "outputs": [
    {
     "name": "stdout",
     "output_type": "stream",
     "text": [
      "  9.990974 seconds (36.24 M allocations: 4.522 GiB, 8.17% gc time)\n",
      " 15.906430 seconds (37.51 M allocations: 7.913 GiB, 8.51% gc time)\n",
      " 19.038876 seconds (41.72 M allocations: 10.702 GiB, 9.53% gc time)\n",
      " 21.987984 seconds (44.98 M allocations: 13.054 GiB, 10.03% gc time)\n",
      " 24.094338 seconds (47.56 M allocations: 14.973 GiB, 10.48% gc time)\n",
      " 25.958872 seconds (49.48 M allocations: 16.466 GiB, 10.80% gc time)\n",
      " 27.627828 seconds (51.28 M allocations: 17.897 GiB, 11.09% gc time)\n",
      " 28.853620 seconds (52.51 M allocations: 18.904 GiB, 11.20% gc time)\n",
      " 29.504661 seconds (53.44 M allocations: 19.679 GiB, 11.37% gc time)\n",
      " 31.221634 seconds (54.32 M allocations: 20.419 GiB, 11.64% gc time)\n",
      " 31.307498 seconds (54.96 M allocations: 20.966 GiB, 11.60% gc time)\n",
      " 31.690341 seconds (55.60 M allocations: 21.502 GiB, 11.75% gc time)\n",
      " 32.267691 seconds (56.52 M allocations: 22.359 GiB, 12.01% gc time)\n",
      "329.667166 seconds (636.17 M allocations: 209.359 GiB, 10.93% gc time)\n"
     ]
    }
   ],
   "source": [
    "s_W, j_W, Pst_array, Pjt_array, Ds, Dj = solve_tree(data, game_parameters);"
   ]
  },
  {
   "cell_type": "markdown",
   "metadata": {},
   "source": [
    "Simulation parameters"
   ]
  },
  {
   "cell_type": "code",
   "execution_count": 126,
   "metadata": {},
   "outputs": [],
   "source": [
    "#θs0, θj0, μ\n",
    "simulation_parameters = [28, 36, 4.566]\n",
    "\n",
    "θs0, θj0, μ = simulation_parameters;\n",
    "θs0 = Int64(θs0);\n",
    "θj0 = Int64(θj0);"
   ]
  },
  {
   "cell_type": "markdown",
   "metadata": {},
   "source": [
    "### Criando funções para simular o jogo"
   ]
  },
  {
   "cell_type": "code",
   "execution_count": 127,
   "metadata": {},
   "outputs": [],
   "source": [
    "#parameters to some functions that are similar as the ones in solve_model\n",
    "\n",
    "c0 = game_parameters[3];\n",
    "c1 = Float64(0.015);\n",
    "\n",
    "ρ = game_parameters[1];\n",
    "λj = game_parameters[4];\n",
    "\n",
    "\n",
    "Vmax = data[1];\n",
    "L = data[2];\n",
    "D = Ds + Dj;\n"
   ]
  },
  {
   "cell_type": "code",
   "execution_count": 128,
   "metadata": {},
   "outputs": [
    {
     "data": {
      "text/plain": [
       "Ct (generic function with 1 method)"
      ]
     },
     "execution_count": 128,
     "metadata": {},
     "output_type": "execute_result"
    }
   ],
   "source": [
    "#cost function\n",
    "function Ct(t)\n",
    "    #cost at period t=0(index1) is 0\n",
    "    if(t <= 1)\n",
    "        return 0\n",
    "    else\n",
    "        return c0 * D + c1 * (t-1) * D #test to make index==1 be t==0\n",
    "    end\n",
    "end\n",
    "\n"
   ]
  },
  {
   "cell_type": "code",
   "execution_count": 129,
   "metadata": {},
   "outputs": [
    {
     "data": {
      "text/plain": [
       "j_L (generic function with 1 method)"
      ]
     },
     "execution_count": 129,
     "metadata": {},
     "output_type": "execute_result"
    }
   ],
   "source": [
    "#liquidation payoffs\n",
    "\n",
    "function s_L(t)\n",
    "    return min(L - Ct(t), Ds)\n",
    "end\n",
    "\n",
    "\n",
    "function j_L(t)\n",
    "    return min(L - Ct(t) - s_L(t), Dj)\n",
    "end\n"
   ]
  },
  {
   "cell_type": "code",
   "execution_count": 130,
   "metadata": {},
   "outputs": [
    {
     "data": {
      "text/plain": [
       "proposal (generic function with 1 method)"
      ]
     },
     "execution_count": 130,
     "metadata": {},
     "output_type": "execute_result"
    }
   ],
   "source": [
    "function proposal(Pkt_array, t, hkt, lmt)\n",
    "    \n",
    "    #pkt array será sempre do propositor, quem responder às propostas apenas olhará o seu valor de continuação\n",
    "    \n",
    "    return policy, payoff_prop, payment, lm_next = Pkt_array[t, hkt, lmt, [end,end-1, 1, 2]]\n",
    "    \n",
    "end\n",
    "    "
   ]
  },
  {
   "cell_type": "code",
   "execution_count": 131,
   "metadata": {},
   "outputs": [
    {
     "data": {
      "text/plain": [
       "Vt (generic function with 1 method)"
      ]
     },
     "execution_count": 131,
     "metadata": {},
     "output_type": "execute_result"
    }
   ],
   "source": [
    "#maximum value of reorganization each period\n",
    "function Vt(Vmax, ρ, t)\n",
    "\n",
    "    if(t <=1)\n",
    "        return Vmax\n",
    "    else\n",
    "        #(t-2) instead of (t-1) because we shifted the indexes in the game so as to include t==0 at index==1\n",
    "        return ρ^(t-2) * Vmax\n",
    "    end\n",
    "\n",
    "\n",
    "end"
   ]
  },
  {
   "cell_type": "code",
   "execution_count": 132,
   "metadata": {},
   "outputs": [
    {
     "data": {
      "text/plain": [
       "answer_liq (generic function with 1 method)"
      ]
     },
     "execution_count": 132,
     "metadata": {},
     "output_type": "execute_result"
    }
   ],
   "source": [
    "# answer_liq\n",
    "function answer_liq(m_L, t, hm_next, payoff_prop)\n",
    "    \n",
    "    liq = (m_L(t), Vt(Vmax, ρ, t) * hm_next/100 - payoff_prop)\n",
    "    \n",
    "    payoff_liq, answer = findmax(liq)\n",
    "    \n",
    "    return payoff_liq, answer\n",
    "end"
   ]
  },
  {
   "cell_type": "code",
   "execution_count": 133,
   "metadata": {},
   "outputs": [
    {
     "data": {
      "text/plain": [
       "answer_reorg (generic function with 1 method)"
      ]
     },
     "execution_count": 133,
     "metadata": {},
     "output_type": "execute_result"
    }
   ],
   "source": [
    "function answer_reorg(payment, Cont_val, t, hm_next, lm_next, lk_next)\n",
    "    \n",
    "    reorg_value = (payment, Cont_val[t+1, hm_next, lm_next, lk_next])\n",
    "\n",
    "    payoff_reorg, answer = findmax(reorg_value)\n",
    "    \n",
    "    return payoff_reorg, answer\n",
    "end"
   ]
  },
  {
   "cell_type": "code",
   "execution_count": 134,
   "metadata": {},
   "outputs": [
    {
     "data": {
      "text/plain": [
       "update_beliefs (generic function with 1 method)"
      ]
     },
     "execution_count": 134,
     "metadata": {},
     "output_type": "execute_result"
    }
   ],
   "source": [
    "function update_beliefs(propositor, hk_next, hm_next, lk_next, lm_next)\n",
    "    \n",
    "    if(propositor==\"s\")\n",
    "        hst = hk_next\n",
    "        lst = lk_next\n",
    "        \n",
    "        hjt = hm_next\n",
    "        ljt = lm_next\n",
    "        \n",
    "    else\n",
    "        hst = hm_next\n",
    "        lst = lm_next\n",
    "        \n",
    "        hjt = hk_next\n",
    "        ljt = lk_next\n",
    "    end\n",
    "    \n",
    "    \n",
    "    return hst, lst, hjt, ljt\n",
    "end\n",
    "\n",
    "        "
   ]
  },
  {
   "cell_type": "code",
   "execution_count": 135,
   "metadata": {},
   "outputs": [
    {
     "data": {
      "text/plain": [
       "draw_beta (generic function with 3 methods)"
      ]
     },
     "execution_count": 135,
     "metadata": {},
     "output_type": "execute_result"
    }
   ],
   "source": [
    "#código para tirar um draw da beta\n",
    "\n",
    "function draw_beta(hkt, β=game_parameters[2], grid=100)\n",
    "\n",
    "    u = rand()\n",
    "\n",
    "    if(hkt == 100)\n",
    "        \n",
    "        return 100\n",
    "\n",
    "    else\n",
    "        \n",
    "        x = 1.0 - exp(1.0/β * (log(1.0 - u) + β * log(1.0 - hkt/grid)))\n",
    "        x = round(x * 100, digits=0)\n",
    "#         return Int64(x * 100) #to convert in an integer\n",
    "        return Int64(x)\n",
    "        \n",
    "    end\n",
    "end\n",
    "\n",
    "        \n",
    "\n",
    "# @code_warntype draw_beta(10)\n",
    "\n"
   ]
  },
  {
   "cell_type": "code",
   "execution_count": 136,
   "metadata": {},
   "outputs": [],
   "source": [
    "function choose_parameters(propositor, hst, lst, hjt, ljt)\n",
    "    \n",
    "    if(propositor==\"s\")\n",
    "        \n",
    "        Pkt_array = Pst_array\n",
    "        Cont_val = j_W\n",
    "        prop_index = 1\n",
    "        respondent_index = 2 #índice de j, para organizar o payoff\n",
    "        m_L = j_L\n",
    "\n",
    "        hkt = hst\n",
    "        lkt = lst\n",
    "        \n",
    "        hmt = hjt\n",
    "        lmt = ljt\n",
    "\n",
    "\n",
    "        lk_next = hkt\n",
    "\n",
    "        hk_next = draw_beta(hkt)\n",
    "        hm_next = draw_beta(hmt)\n",
    "        \n",
    "    elseif(propositor==\"j\")\n",
    "        Pkt_array = Pjt_array\n",
    "        Cont_val = s_W\n",
    "        prop_index = 2\n",
    "        respondent_index = 1\n",
    "        m_L = s_L\n",
    "\n",
    "        hkt = hjt\n",
    "        lkt = ljt\n",
    "        \n",
    "        hmt = hst\n",
    "        lmt = lst\n",
    "\n",
    "\n",
    "        lk_next = hkt\n",
    "\n",
    "\n",
    "        hk_next = draw_beta(hkt)\n",
    "        hm_next = draw_beta(hmt)\n",
    "\n",
    "    else\n",
    "        \n",
    "        println(\"error: propositor not valid\")\n",
    "        \n",
    "    end\n",
    "    \n",
    "    return Pkt_array, Cont_val, prop_index, respondent_index, m_L, hkt, lkt, hmt, lmt, lk_next, hk_next, hm_next\n",
    "end\n",
    "\n",
    "\n",
    "\n",
    "\n",
    "#test\n",
    "Hs0 = 30\n",
    "Hj0 = 28\n",
    "\n",
    "\n",
    "hst = Hs0\n",
    "hjt = Hj0\n",
    "\n",
    "#assumindo que lower bounds nos períodos iniciais são as próprias habilidades iniciais\n",
    "lst = hst\n",
    "ljt = hjt\n",
    "\n",
    "\n",
    "\n",
    "\n",
    "choose_parameters(\"s\", hst, lst, hjt, ljt);\n",
    "    \n",
    "    "
   ]
  },
  {
   "cell_type": "code",
   "execution_count": 178,
   "metadata": {},
   "outputs": [
    {
     "data": {
      "text/plain": [
       "simulate_game (generic function with 7 methods)"
      ]
     },
     "execution_count": 178,
     "metadata": {},
     "output_type": "execute_result"
    }
   ],
   "source": [
    "function simulate_game(Hs0, Hj0, μ, λj, s_W=s_W, j_W=j_W, Pst_array=Pst_array, Pjt_array=Pjt_array, t=1, grid=100)\n",
    "    \n",
    "    hst = Hs0\n",
    "    hjt = Hj0\n",
    "\n",
    "    #assumindo que lower bounds nos períodos iniciais são as próprias habilidades iniciais\n",
    "    lst = hst\n",
    "    ljt = hjt\n",
    "    \n",
    "    result = zeros(5);\n",
    "    \n",
    "    #number of observed proposals\n",
    "    observed_proposals = 0.0\n",
    "    \n",
    "    \n",
    "    #recovering \"T+1\" from s_W \n",
    "    T = size(s_W,1)\n",
    "    \n",
    "    \n",
    "    while(result[1]==0.0 && t < T)\n",
    "        \n",
    "        \n",
    "        u = rand()\n",
    "\n",
    "        if(u < λj)\n",
    "            propositor = \"j\"\n",
    "\n",
    "        else\n",
    "            propositor = \"s\"\n",
    "\n",
    "        end\n",
    "\n",
    "        \n",
    "        #setting the default variables according to the propositor\n",
    "        Pkt_array, Cont_val, prop_index, respondent_index, m_L, hkt, lkt, hmt, lmt, lk_next, hk_next, hm_next = choose_parameters(propositor, hst, lst, hjt, ljt)\n",
    "        \n",
    "        \n",
    "        #proposal ####\n",
    "        policy, payoff_prop, payment, lm_next = proposal(Pkt_array, t, hkt, lmt)\n",
    "\n",
    "        #lm_next is the update of the adversary's lower bound\n",
    "        if(lm_next==grid+2 || policy!= 3.0) #para evitar update de lowerbound quando proponente não propõe reorg\n",
    "            lm_next = lmt\n",
    "        else\n",
    "            lm_next = Int64(lm_next)\n",
    "        end\n",
    "        \n",
    "        \n",
    "        \n",
    "        if(policy==3.0)\n",
    "            \n",
    "            observed_proposals += 1.0\n",
    "    \n",
    "            payoff_respondent, answer = answer_reorg(payment, Cont_val, t, hm_next, lm_next, lk_next)\n",
    "\n",
    "\n",
    "            if(answer==1.0)\n",
    "\n",
    "                result[prop_index] = payoff_prop\n",
    "                result[respondent_index] = payoff_respondent\n",
    "                result[3] = 3.0\n",
    "                result[4] = t\n",
    "                result[5] = observed_proposals\n",
    "\n",
    "            else\n",
    "                \n",
    "                t+=1\n",
    "\n",
    "                hst, lst, hjt, ljt = update_beliefs(propositor, hk_next, hm_next, lk_next, lm_next)\n",
    "            end\n",
    "\n",
    "        elseif(policy==2.0)\n",
    "            \n",
    "            t+=1\n",
    "            \n",
    "            hst, lst, hjt, ljt = update_beliefs(propositor, hk_next, hm_next, lk_next, lm_next)\n",
    "            \n",
    "            \n",
    "\n",
    "        else      \n",
    "            #(policy==1.0)\n",
    "            \n",
    "            observed_proposals += 1.0\n",
    "\n",
    "            payoff_respondent, answer = answer_liq(m_L, t, hm_next, payoff_prop)\n",
    "\n",
    "            if(answer==1.0)\n",
    "\n",
    "                result[prop_index] = payoff_prop\n",
    "                result[respondent_index] = payoff_respondent\n",
    "                result[3] = 1.0\n",
    "                result[4] = t\n",
    "                result[5] = observed_proposals\n",
    "\n",
    "            else\n",
    "\n",
    "                result[prop_index] = payoff_prop\n",
    "                result[respondent_index] = payoff_respondent\n",
    "                result[3] = 3.0\n",
    "                result[4] = t\n",
    "                result[5] = observed_proposals\n",
    "\n",
    "\n",
    "            end\n",
    "        end\n",
    "\n",
    "\n",
    "        if(t==T)\n",
    "            \n",
    "            result[1] = s_W[T, 1, 1, 1]#todos os valores finais de S são iguais, então acessarei o índice 1\n",
    "            result[2] = j_W[T, 1, 1, 1]\n",
    "            result[3] = 1.0\n",
    "            result[4] = t\n",
    "            result[5] = observed_proposals\n",
    "            \n",
    "        end\n",
    "        \n",
    "\n",
    "\n",
    "\n",
    "\n",
    "    end\n",
    "    \n",
    "    \n",
    "    return result\n",
    "end\n",
    "\n",
    "        \n",
    "        \n",
    "#precisa colocar uma condição IF aqui para caso o jogo vá até o último período?\n",
    "    "
   ]
  },
  {
   "cell_type": "code",
   "execution_count": 192,
   "metadata": {},
   "outputs": [
    {
     "data": {
      "text/plain": [
       "5-element Array{Float64,1}:\n",
       " 0.25\n",
       " 0.14\n",
       " 3.0\n",
       " 1.0\n",
       " 1.0"
      ]
     },
     "execution_count": 192,
     "metadata": {},
     "output_type": "execute_result"
    }
   ],
   "source": [
    "simulate_game(θs0, θj0, μ, λj, s_W, j_W, Pst_array, Pjt_array)"
   ]
  },
  {
   "cell_type": "code",
   "execution_count": 193,
   "metadata": {},
   "outputs": [
    {
     "name": "stdout",
     "output_type": "stream",
     "text": [
      "  0.100413 seconds (487.53 k allocations: 22.627 MiB)\n"
     ]
    }
   ],
   "source": [
    "S = 40\n",
    "N = 75\n",
    "Results = zeros(S, N, 7)\n",
    "\n",
    "#últimas entradas de Results são os valores das dívidas\n",
    "Results[:,:, end-1] .= Dj\n",
    "Results[:,:, end] .= Ds\n",
    "\n",
    "@time begin\n",
    "    \n",
    "\n",
    "    for s in 1:S\n",
    "        for n in 1:N\n",
    "            Results[s,n,1:5] .= simulate_game(θs0, θj0, μ, λj)\n",
    "\n",
    "        end\n",
    "    end\n",
    "    \n",
    "end\n",
    "\n",
    "\n"
   ]
  },
  {
   "cell_type": "code",
   "execution_count": 362,
   "metadata": {},
   "outputs": [],
   "source": [
    "function loop_simulations(S, N, θs0, θj0, μ, λj, s_W=s_W, j_W=j_W, Pst_array=Pst_array, Pjt_array=Pjt_array)\n",
    "    \n",
    "    #S is the number of simulations\n",
    "    #N is the number of observations\n",
    "    \n",
    "    #no futuro os argumentos podem ser arrays de arrays, assim ele faz o loop para cada cluster\n",
    "    \n",
    "    Results = zeros(S, N, 7)\n",
    "\n",
    "    #últimas entradas de Results são os valores das dívidas\n",
    "    Results[:,:, end-1] .= Dj\n",
    "    Results[:,:, end] .= Ds\n",
    "\n",
    "\n",
    "    for s in 1:S\n",
    "        for n in 1:N\n",
    "            Results[s,n,1:5] .= simulate_game(θs0, θj0, μ, λj)\n",
    "        end\n",
    "    end\n",
    "\n",
    "    return Results\n",
    "    \n",
    "end\n",
    "\n",
    "    \n",
    "loop_simulations(40, 75, θs0, θj0, μ, λj);"
   ]
  },
  {
   "cell_type": "code",
   "execution_count": 366,
   "metadata": {},
   "outputs": [
    {
     "name": "stdout",
     "output_type": "stream",
     "text": [
      "  12.024 ms (139620 allocations: 5.06 MiB)\n"
     ]
    },
    {
     "data": {
      "text/plain": [
       "1×8 Array{Float64,2}:\n",
       " 1.13276  1.0  2.23534  0.133333  0.712953  0.271853  0.46742  0.392606"
      ]
     },
     "execution_count": 366,
     "metadata": {},
     "output_type": "execute_result"
    }
   ],
   "source": [
    "function simulate_moments(S, N, θs0, θj0, μ, λj)\n",
    "    \n",
    "    \n",
    "    Results = loop_simulations(S, N, θs0, θj0, μ, λj)\n",
    "    \n",
    "    \n",
    "    Moments = zeros(S, 8)\n",
    "    \n",
    "    \n",
    "    for s in 1:S\n",
    "        \n",
    "        DF = DataFrame()\n",
    "        DF.payoff_s = Results[1,:,1];\n",
    "        DF.payoff_j = Results[1,:,2];\n",
    "        DF.out = Results[1,:,3];\n",
    "        DF.t = Results[1,:,4];\n",
    "        DF.observed_proposals = Results[1,:,5];\n",
    "        DF.Dj = Results[1,:,6];\n",
    "        DF.Ds = Results[1,:,7];\n",
    "        \n",
    "        \n",
    "        DF.outcome = ifelse.(DF.out .==3.0, \"R\", \"L\");\n",
    "\n",
    "\n",
    "        #desfazendo o deslocamento no índice de t\n",
    "        DF.t = DF.t .- 1.0;\n",
    "\n",
    "        # DF.incourt = ifelse.(DF.t .> 0.0, \"incourt\", \"precourt\");\n",
    "\n",
    "        INCOURT = filter(DF -> DF.t .> 0.0, DF);\n",
    "        PRECOURT = filter(DF -> DF.t .<= 0.0, DF);\n",
    "        \n",
    "        #cálculo dos momentos\n",
    "        #1. avg log number of months between observed proposals incourt\n",
    "\n",
    "        mm1 = INCOURT\n",
    "        mm1 = log.(mm1.t .* μ ./ mm1.observed_proposals)\n",
    "        mm1 = mean(mm1)\n",
    "\n",
    "        #2. fraction reorganized given that the case went into court\n",
    "\n",
    "        mm2 = INCOURT\n",
    "        mm2 = size(filter(mm2 -> mm2.outcome .== \"R\", mm2),1)/ size(mm2,1)\n",
    "\n",
    "        #3. ln duration of court cases in months\n",
    "\n",
    "        mm3 = INCOURT\n",
    "        mm3 = filter(mm3 -> mm3.t .> 0.0, mm3) #removendo os casos 0 para não poluir a média\n",
    "        mm3.t = mm3.t .* μ\n",
    "        mm3 = mean(log.(mm3.t)) #log here uses exp as base, so it's the same as ln\n",
    "\n",
    "        #4. fraction of cases incourt\n",
    "        mm4 = size(INCOURT,1) / size(DF, 1)\n",
    "\n",
    "        #5. avg recovery rate for senior given precourt\n",
    "\n",
    "        #aqui nós temos Ds, então é mais fácil. Preciso automatizar isso no código quando for tudo escalado\n",
    "\n",
    "        mm5 = PRECOURT\n",
    "        mm5.payoff_s = mm5.payoff_s ./ PRECOURT.Ds\n",
    "        mm5 = mean(mm5.payoff_s)\n",
    "\n",
    "\n",
    "        #6. avg recovery rate for junior given precourt\n",
    "\n",
    "        #aqui nós temos Ds, então é mais fácil. Preciso automatizar isso no código quando for tudo escalado\n",
    "\n",
    "        mm6 = PRECOURT\n",
    "        mm6.payoff_j = mm6.payoff_j ./ PRECOURT.Dj\n",
    "        mm6 = mean(mm6.payoff_j)\n",
    "\n",
    "\n",
    "        #7. junior avg fraction gain given incourt\n",
    "\n",
    "        mm7 = INCOURT\n",
    "        mm7 = mean(mm7.payoff_j ./ (mm7.payoff_j .+ mm7.payoff_s )) \n",
    "\n",
    "        #8. total recovery rate given incourt\n",
    "\n",
    "        mm8 = INCOURT\n",
    "        mm8 = mean( mm8.payoff_s .+ mm8.payoff_j)\n",
    "        \n",
    "    \n",
    "        \n",
    "        Moments[s,:] .= [mm1, mm2, mm3, mm4, mm5, mm6, mm7, mm8]\n",
    "        \n",
    "    end\n",
    "    \n",
    "    return mean(Moments, dims=1)\n",
    "end\n",
    "\n",
    "        \n",
    "        \n",
    "#test\n",
    "S = 40\n",
    "N = 75\n",
    "\n",
    "using BenchmarkTools\n",
    "@btime simulate_moments(S, N, θs0, θj0, μ, λj)\n",
    "\n",
    "\n",
    "    \n",
    "    "
   ]
  },
  {
   "cell_type": "code",
   "execution_count": 338,
   "metadata": {},
   "outputs": [],
   "source": [
    "#criei assim porque é um saco renomear colunas em Julia\n",
    "\n",
    "\n",
    "\n",
    "DF = DataFrame()\n",
    "DF.payoff_s = Results[1,:,1];\n",
    "DF.payoff_j = Results[1,:,2];\n",
    "DF.out = Results[1,:,3];\n",
    "DF.t = Results[1,:,4];\n",
    "DF.observed_proposals = Results[1,:,5];\n",
    "DF.Dj = Results[1,:,6];\n",
    "DF.Ds = Results[1,:,7];"
   ]
  },
  {
   "cell_type": "code",
   "execution_count": 339,
   "metadata": {},
   "outputs": [
    {
     "data": {
      "text/html": [
       "<table class=\"data-frame\"><thead><tr><th></th><th>payoff_s</th><th>payoff_j</th><th>out</th><th>t</th><th>observed_proposals</th><th>Dj</th><th>Ds</th></tr><tr><th></th><th>Float64</th><th>Float64</th><th>Float64</th><th>Float64</th><th>Float64</th><th>Float64</th><th>Float64</th></tr></thead><tbody><p>75 rows × 7 columns</p><tr><th>1</th><td>0.171052</td><td>0.175884</td><td>3.0</td><td>3.0</td><td>3.0</td><td>0.68</td><td>0.32</td></tr><tr><th>2</th><td>0.25</td><td>0.12</td><td>3.0</td><td>1.0</td><td>1.0</td><td>0.68</td><td>0.32</td></tr><tr><th>3</th><td>0.25</td><td>0.12</td><td>3.0</td><td>1.0</td><td>1.0</td><td>0.68</td><td>0.32</td></tr><tr><th>4</th><td>0.25</td><td>0.16</td><td>3.0</td><td>1.0</td><td>1.0</td><td>0.68</td><td>0.32</td></tr><tr><th>5</th><td>0.25</td><td>0.14</td><td>3.0</td><td>1.0</td><td>1.0</td><td>0.68</td><td>0.32</td></tr><tr><th>6</th><td>0.25</td><td>0.13</td><td>3.0</td><td>1.0</td><td>1.0</td><td>0.68</td><td>0.32</td></tr><tr><th>7</th><td>0.195362</td><td>0.206382</td><td>3.0</td><td>1.0</td><td>1.0</td><td>0.68</td><td>0.32</td></tr><tr><th>8</th><td>0.25</td><td>0.23</td><td>3.0</td><td>1.0</td><td>1.0</td><td>0.68</td><td>0.32</td></tr><tr><th>9</th><td>0.195362</td><td>0.206382</td><td>3.0</td><td>1.0</td><td>1.0</td><td>0.68</td><td>0.32</td></tr><tr><th>10</th><td>0.25</td><td>0.12</td><td>3.0</td><td>1.0</td><td>1.0</td><td>0.68</td><td>0.32</td></tr><tr><th>11</th><td>0.25</td><td>0.13</td><td>3.0</td><td>1.0</td><td>1.0</td><td>0.68</td><td>0.32</td></tr><tr><th>12</th><td>0.25</td><td>0.23</td><td>3.0</td><td>1.0</td><td>1.0</td><td>0.68</td><td>0.32</td></tr><tr><th>13</th><td>0.25</td><td>0.11</td><td>3.0</td><td>1.0</td><td>1.0</td><td>0.68</td><td>0.32</td></tr><tr><th>14</th><td>0.25</td><td>0.12</td><td>3.0</td><td>1.0</td><td>1.0</td><td>0.68</td><td>0.32</td></tr><tr><th>15</th><td>0.195362</td><td>0.206382</td><td>3.0</td><td>1.0</td><td>1.0</td><td>0.68</td><td>0.32</td></tr><tr><th>16</th><td>0.252789</td><td>0.141551</td><td>3.0</td><td>4.0</td><td>4.0</td><td>0.68</td><td>0.32</td></tr><tr><th>17</th><td>0.25</td><td>0.15</td><td>3.0</td><td>1.0</td><td>1.0</td><td>0.68</td><td>0.32</td></tr><tr><th>18</th><td>0.195362</td><td>0.206382</td><td>3.0</td><td>1.0</td><td>1.0</td><td>0.68</td><td>0.32</td></tr><tr><th>19</th><td>0.195362</td><td>0.206382</td><td>3.0</td><td>1.0</td><td>1.0</td><td>0.68</td><td>0.32</td></tr><tr><th>20</th><td>0.25</td><td>0.14</td><td>3.0</td><td>1.0</td><td>1.0</td><td>0.68</td><td>0.32</td></tr><tr><th>21</th><td>0.25</td><td>0.2</td><td>3.0</td><td>1.0</td><td>1.0</td><td>0.68</td><td>0.32</td></tr><tr><th>22</th><td>0.25</td><td>0.23</td><td>3.0</td><td>1.0</td><td>1.0</td><td>0.68</td><td>0.32</td></tr><tr><th>23</th><td>0.25</td><td>0.16</td><td>3.0</td><td>1.0</td><td>1.0</td><td>0.68</td><td>0.32</td></tr><tr><th>24</th><td>0.25</td><td>0.18</td><td>3.0</td><td>1.0</td><td>1.0</td><td>0.68</td><td>0.32</td></tr><tr><th>25</th><td>0.25</td><td>0.2</td><td>3.0</td><td>1.0</td><td>1.0</td><td>0.68</td><td>0.32</td></tr><tr><th>26</th><td>0.25</td><td>0.17</td><td>3.0</td><td>1.0</td><td>1.0</td><td>0.68</td><td>0.32</td></tr><tr><th>27</th><td>0.195362</td><td>0.206382</td><td>3.0</td><td>1.0</td><td>1.0</td><td>0.68</td><td>0.32</td></tr><tr><th>28</th><td>0.25</td><td>0.22</td><td>3.0</td><td>1.0</td><td>1.0</td><td>0.68</td><td>0.32</td></tr><tr><th>29</th><td>0.195362</td><td>0.206382</td><td>3.0</td><td>1.0</td><td>1.0</td><td>0.68</td><td>0.32</td></tr><tr><th>30</th><td>0.25</td><td>0.15</td><td>3.0</td><td>1.0</td><td>1.0</td><td>0.68</td><td>0.32</td></tr><tr><th>&vellip;</th><td>&vellip;</td><td>&vellip;</td><td>&vellip;</td><td>&vellip;</td><td>&vellip;</td><td>&vellip;</td><td>&vellip;</td></tr></tbody></table>"
      ],
      "text/latex": [
       "\\begin{tabular}{r|ccccccc}\n",
       "\t& payoff\\_s & payoff\\_j & out & t & observed\\_proposals & Dj & Ds\\\\\n",
       "\t\\hline\n",
       "\t& Float64 & Float64 & Float64 & Float64 & Float64 & Float64 & Float64\\\\\n",
       "\t\\hline\n",
       "\t1 & 0.171052 & 0.175884 & 3.0 & 3.0 & 3.0 & 0.68 & 0.32 \\\\\n",
       "\t2 & 0.25 & 0.12 & 3.0 & 1.0 & 1.0 & 0.68 & 0.32 \\\\\n",
       "\t3 & 0.25 & 0.12 & 3.0 & 1.0 & 1.0 & 0.68 & 0.32 \\\\\n",
       "\t4 & 0.25 & 0.16 & 3.0 & 1.0 & 1.0 & 0.68 & 0.32 \\\\\n",
       "\t5 & 0.25 & 0.14 & 3.0 & 1.0 & 1.0 & 0.68 & 0.32 \\\\\n",
       "\t6 & 0.25 & 0.13 & 3.0 & 1.0 & 1.0 & 0.68 & 0.32 \\\\\n",
       "\t7 & 0.195362 & 0.206382 & 3.0 & 1.0 & 1.0 & 0.68 & 0.32 \\\\\n",
       "\t8 & 0.25 & 0.23 & 3.0 & 1.0 & 1.0 & 0.68 & 0.32 \\\\\n",
       "\t9 & 0.195362 & 0.206382 & 3.0 & 1.0 & 1.0 & 0.68 & 0.32 \\\\\n",
       "\t10 & 0.25 & 0.12 & 3.0 & 1.0 & 1.0 & 0.68 & 0.32 \\\\\n",
       "\t11 & 0.25 & 0.13 & 3.0 & 1.0 & 1.0 & 0.68 & 0.32 \\\\\n",
       "\t12 & 0.25 & 0.23 & 3.0 & 1.0 & 1.0 & 0.68 & 0.32 \\\\\n",
       "\t13 & 0.25 & 0.11 & 3.0 & 1.0 & 1.0 & 0.68 & 0.32 \\\\\n",
       "\t14 & 0.25 & 0.12 & 3.0 & 1.0 & 1.0 & 0.68 & 0.32 \\\\\n",
       "\t15 & 0.195362 & 0.206382 & 3.0 & 1.0 & 1.0 & 0.68 & 0.32 \\\\\n",
       "\t16 & 0.252789 & 0.141551 & 3.0 & 4.0 & 4.0 & 0.68 & 0.32 \\\\\n",
       "\t17 & 0.25 & 0.15 & 3.0 & 1.0 & 1.0 & 0.68 & 0.32 \\\\\n",
       "\t18 & 0.195362 & 0.206382 & 3.0 & 1.0 & 1.0 & 0.68 & 0.32 \\\\\n",
       "\t19 & 0.195362 & 0.206382 & 3.0 & 1.0 & 1.0 & 0.68 & 0.32 \\\\\n",
       "\t20 & 0.25 & 0.14 & 3.0 & 1.0 & 1.0 & 0.68 & 0.32 \\\\\n",
       "\t21 & 0.25 & 0.2 & 3.0 & 1.0 & 1.0 & 0.68 & 0.32 \\\\\n",
       "\t22 & 0.25 & 0.23 & 3.0 & 1.0 & 1.0 & 0.68 & 0.32 \\\\\n",
       "\t23 & 0.25 & 0.16 & 3.0 & 1.0 & 1.0 & 0.68 & 0.32 \\\\\n",
       "\t24 & 0.25 & 0.18 & 3.0 & 1.0 & 1.0 & 0.68 & 0.32 \\\\\n",
       "\t25 & 0.25 & 0.2 & 3.0 & 1.0 & 1.0 & 0.68 & 0.32 \\\\\n",
       "\t26 & 0.25 & 0.17 & 3.0 & 1.0 & 1.0 & 0.68 & 0.32 \\\\\n",
       "\t27 & 0.195362 & 0.206382 & 3.0 & 1.0 & 1.0 & 0.68 & 0.32 \\\\\n",
       "\t28 & 0.25 & 0.22 & 3.0 & 1.0 & 1.0 & 0.68 & 0.32 \\\\\n",
       "\t29 & 0.195362 & 0.206382 & 3.0 & 1.0 & 1.0 & 0.68 & 0.32 \\\\\n",
       "\t30 & 0.25 & 0.15 & 3.0 & 1.0 & 1.0 & 0.68 & 0.32 \\\\\n",
       "\t$\\dots$ & $\\dots$ & $\\dots$ & $\\dots$ & $\\dots$ & $\\dots$ & $\\dots$ & $\\dots$ \\\\\n",
       "\\end{tabular}\n"
      ],
      "text/plain": [
       "75×7 DataFrame. Omitted printing of 1 columns\n",
       "│ Row │ payoff_s │ payoff_j │ out     │ t       │ observed_proposals │ Dj      │\n",
       "│     │ \u001b[90mFloat64\u001b[39m  │ \u001b[90mFloat64\u001b[39m  │ \u001b[90mFloat64\u001b[39m │ \u001b[90mFloat64\u001b[39m │ \u001b[90mFloat64\u001b[39m            │ \u001b[90mFloat64\u001b[39m │\n",
       "├─────┼──────────┼──────────┼─────────┼─────────┼────────────────────┼─────────┤\n",
       "│ 1   │ 0.171052 │ 0.175884 │ 3.0     │ 3.0     │ 3.0                │ 0.68    │\n",
       "│ 2   │ 0.25     │ 0.12     │ 3.0     │ 1.0     │ 1.0                │ 0.68    │\n",
       "│ 3   │ 0.25     │ 0.12     │ 3.0     │ 1.0     │ 1.0                │ 0.68    │\n",
       "│ 4   │ 0.25     │ 0.16     │ 3.0     │ 1.0     │ 1.0                │ 0.68    │\n",
       "│ 5   │ 0.25     │ 0.14     │ 3.0     │ 1.0     │ 1.0                │ 0.68    │\n",
       "│ 6   │ 0.25     │ 0.13     │ 3.0     │ 1.0     │ 1.0                │ 0.68    │\n",
       "│ 7   │ 0.195362 │ 0.206382 │ 3.0     │ 1.0     │ 1.0                │ 0.68    │\n",
       "│ 8   │ 0.25     │ 0.23     │ 3.0     │ 1.0     │ 1.0                │ 0.68    │\n",
       "│ 9   │ 0.195362 │ 0.206382 │ 3.0     │ 1.0     │ 1.0                │ 0.68    │\n",
       "│ 10  │ 0.25     │ 0.12     │ 3.0     │ 1.0     │ 1.0                │ 0.68    │\n",
       "⋮\n",
       "│ 65  │ 0.25     │ 0.25     │ 3.0     │ 1.0     │ 1.0                │ 0.68    │\n",
       "│ 66  │ 0.25     │ 0.13     │ 3.0     │ 1.0     │ 1.0                │ 0.68    │\n",
       "│ 67  │ 0.25     │ 0.11     │ 3.0     │ 1.0     │ 1.0                │ 0.68    │\n",
       "│ 68  │ 0.25     │ 0.38     │ 3.0     │ 1.0     │ 1.0                │ 0.68    │\n",
       "│ 69  │ 0.195362 │ 0.206382 │ 3.0     │ 1.0     │ 1.0                │ 0.68    │\n",
       "│ 70  │ 0.25     │ 0.27     │ 3.0     │ 1.0     │ 1.0                │ 0.68    │\n",
       "│ 71  │ 0.25163  │ 0.120565 │ 3.0     │ 3.0     │ 3.0                │ 0.68    │\n",
       "│ 72  │ 0.25     │ 0.11     │ 3.0     │ 1.0     │ 1.0                │ 0.68    │\n",
       "│ 73  │ 0.195362 │ 0.206382 │ 3.0     │ 1.0     │ 1.0                │ 0.68    │\n",
       "│ 74  │ 0.25     │ 0.12     │ 3.0     │ 1.0     │ 1.0                │ 0.68    │\n",
       "│ 75  │ 0.195362 │ 0.206382 │ 3.0     │ 1.0     │ 1.0                │ 0.68    │"
      ]
     },
     "execution_count": 339,
     "metadata": {},
     "output_type": "execute_result"
    }
   ],
   "source": [
    "DF"
   ]
  },
  {
   "cell_type": "code",
   "execution_count": 340,
   "metadata": {},
   "outputs": [],
   "source": [
    "#como criar variável dummy\n",
    "# Y = ifelse.(DF.x3 .== 3.0, \"Reorganized\", \"Liquidated\");"
   ]
  },
  {
   "cell_type": "code",
   "execution_count": 341,
   "metadata": {},
   "outputs": [],
   "source": [
    "DF.outcome = ifelse.(DF.out .==3.0, \"R\", \"L\");\n",
    "\n",
    "\n",
    "#desfazendo o deslocamento no índice de t\n",
    "DF.t = DF.t .- 1.0;\n",
    "\n",
    "# DF.incourt = ifelse.(DF.t .> 0.0, \"incourt\", \"precourt\");\n",
    "\n",
    "INCOURT = filter(DF -> DF.t .> 0.0, DF);\n",
    "PRECOURT = filter(DF -> DF.t .<= 0.0, DF);"
   ]
  },
  {
   "cell_type": "markdown",
   "metadata": {},
   "source": [
    "Calculando momentos"
   ]
  },
  {
   "cell_type": "code",
   "execution_count": 344,
   "metadata": {},
   "outputs": [
    {
     "data": {
      "text/plain": [
       "1.1584555061134787"
      ]
     },
     "execution_count": 344,
     "metadata": {},
     "output_type": "execute_result"
    }
   ],
   "source": [
    "#1. avg log number of months between observed proposals incourt\n",
    "\n",
    "mm1 = INCOURT\n",
    "mm1 = log.(mm1.t .* μ ./ mm1.observed_proposals)\n",
    "mm1 = mean(mm1)\n",
    "\n",
    "#2. fraction reorganized given that the case went into court\n",
    "\n",
    "mm2 = INCOURT\n",
    "mm2 = size(filter(mm2 -> mm2.outcome .== \"R\", mm2),1)/ size(mm2,1)\n",
    "\n",
    "#3. ln duration of court cases in months\n",
    "\n",
    "mm3 = INCOURT\n",
    "mm3 = filter(mm3 -> mm3.t .> 0.0, mm3) #removendo os casos 0 para não poluir a média\n",
    "mm3.t = mm3.t .* μ\n",
    "mm3 = mean(log.(mm3.t)) #log here uses exp as base, so it's the same as ln\n",
    "\n",
    "#4. fraction of cases incourt\n",
    "mm4 = size(INCOURT,1) / size(DF, 1)\n",
    "\n",
    "#5. avg recovery rate for senior given precourt\n",
    "\n",
    "#aqui nós temos Ds, então é mais fácil. Preciso automatizar isso no código quando for tudo escalado\n",
    "\n",
    "mm5 = PRECOURT\n",
    "mm5.payoff_s = mm5.payoff_s ./ PRECOURT.Ds\n",
    "mm5 = mean(mm5.payoff_s)\n",
    "\n",
    "\n",
    "#6. avg recovery rate for junior given precourt\n",
    "\n",
    "#aqui nós temos Ds, então é mais fácil. Preciso automatizar isso no código quando for tudo escalado\n",
    "\n",
    "mm6 = PRECOURT\n",
    "mm6.payoff_j = mm6.payoff_j ./ PRECOURT.Dj\n",
    "mm6 = mean(mm6.payoff_j)\n",
    "\n",
    "\n",
    "#7. junior avg fraction gain given incourt\n",
    "\n",
    "mm7 = INCOURT\n",
    "mm7 = mean(mm7.payoff_j ./ (mm7.payoff_j .+ mm7.payoff_s )) \n",
    "\n",
    "#8. total recovery rate given incourt\n",
    "\n",
    "mm8 = INCOURT\n",
    "mm8 = mean( mm8.payoff_s .+ mm8.payoff_j)"
   ]
  },
  {
   "cell_type": "code",
   "execution_count": null,
   "metadata": {},
   "outputs": [],
   "source": []
  }
 ],
 "metadata": {
  "kernelspec": {
   "display_name": "Julia 1.5.3",
   "language": "julia",
   "name": "julia-1.5"
  },
  "language_info": {
   "file_extension": ".jl",
   "mimetype": "application/julia",
   "name": "julia",
   "version": "1.5.3"
  }
 },
 "nbformat": 4,
 "nbformat_minor": 4
}
