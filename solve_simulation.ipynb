{
 "cells": [
  {
   "cell_type": "markdown",
   "metadata": {},
   "source": [
    "Makes simulations based on the provided model and calculates the moments generated "
   ]
  },
  {
   "cell_type": "markdown",
   "metadata": {},
   "source": [
    "To do:\n",
    "1. importar os arrays gerados pela função solve_model (algo como o \"source\" do R)\n",
    "\n",
    "2. definir argumentos: número de clusters, valores que virão dos dados, parâmetros a serem estimados, tamanho da amostra de dados (75) e número de simulações (salvo engano os autores usam 40X o tamanho da amostra)"
   ]
  }
 ],
 "metadata": {
  "kernelspec": {
   "display_name": "Julia 1.5.3",
   "language": "julia",
   "name": "julia-1.5"
  },
  "language_info": {
   "file_extension": ".jl",
   "mimetype": "application/julia",
   "name": "julia",
   "version": "1.5.3"
  }
 },
 "nbformat": 4,
 "nbformat_minor": 4
}
