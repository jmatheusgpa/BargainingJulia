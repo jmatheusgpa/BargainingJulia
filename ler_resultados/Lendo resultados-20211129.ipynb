{
 "cells": [
  {
   "cell_type": "code",
   "execution_count": 1,
   "metadata": {},
   "outputs": [],
   "source": [
    "using DelimitedFiles"
   ]
  },
  {
   "cell_type": "code",
   "execution_count": 2,
   "metadata": {},
   "outputs": [
    {
     "data": {
      "text/plain": [
       "ler_resultados (generic function with 1 method)"
      ]
     },
     "execution_count": 2,
     "metadata": {},
     "output_type": "execute_result"
    }
   ],
   "source": [
    "function ler_resultados(pasta, gn, dir, extension)\n",
    "    \n",
    "    \n",
    "    file = \"fvals\"\n",
    "    filename = string(dir, pasta, gn, file, extension)\n",
    "    fvals = readdlm(filename, ',')\n",
    "\n",
    "\n",
    "    file = \"gvals\"\n",
    "    filename = string(dir, pasta, gn, file, extension)\n",
    "    gvals = readdlm(filename, ',')\n",
    "\n",
    "    file = \"svals\"\n",
    "    filename = string(dir, pasta, gn, file, extension)\n",
    "    svals = readdlm(filename, ',')\n",
    "    \n",
    "    df = hcat(fvals, gvals, svals)\n",
    "    \n",
    "    return df\n",
    "    \n",
    "end\n"
   ]
  },
  {
   "cell_type": "code",
   "execution_count": 4,
   "metadata": {},
   "outputs": [
    {
     "data": {
      "text/plain": [
       "1000×8 Array{Float64,2}:\n",
       " 14191.4        0.407   4.249  0.1    0.99   10.0  42.0  20.732\n",
       " 14191.4        0.407   4.249  0.1    0.99   10.0  42.0  20.732\n",
       "  6675.42       0.434   7.226  0.082  0.99   10.0  31.0  20.111\n",
       "  6675.42       0.434   7.226  0.082  0.99   10.0  31.0  20.111\n",
       "  6675.42       0.434   7.226  0.082  0.99   10.0  31.0  20.111\n",
       "  6675.42       0.434   7.226  0.082  0.99   10.0  31.0  20.111\n",
       "  6675.42       0.434   7.226  0.082  0.99   10.0  31.0  20.111\n",
       "  6675.42       0.434   7.226  0.082  0.99   10.0  31.0  20.111\n",
       "  6675.42       0.434   7.226  0.082  0.99   10.0  31.0  20.111\n",
       "  6675.42       0.434   7.226  0.082  0.99   10.0  31.0  20.111\n",
       "  6675.42       0.434   7.226  0.082  0.99   10.0  31.0  20.111\n",
       "  4972.36       0.439   6.946  0.1    0.868  12.0  37.0  20.17\n",
       "  4972.36       0.439   6.946  0.1    0.868  12.0  37.0  20.17\n",
       "     ⋮                                        ⋮          \n",
       " 12331.7        0.593   9.738  0.011  0.672  10.0  47.0   9.569\n",
       "     2.3917e5   0.524  15.24   0.005  0.152  10.0  87.0   2.693\n",
       "  8292.66       0.533   9.793  0.025  0.678  10.0  62.0  10.831\n",
       " 61178.1        0.4    13.301  0.012  0.581  10.0  38.0   7.429\n",
       "  5408.94       0.4     3.925  0.1    0.931  10.0  31.0  15.071\n",
       " 35282.5        0.93   16.0    0.009  0.551  13.0  83.0   6.174\n",
       " 15677.6        0.501  15.758  0.004  0.656  17.0  90.0  10.735\n",
       "  6845.28       0.672   5.758  0.046  0.99   29.0  25.0  22.292\n",
       "  6845.28       0.672   5.758  0.046  0.99   29.0  25.0  22.292\n",
       "     1.81932e5  0.706   1.0    0.002  0.747  57.0  10.0   2.285\n",
       "  9402.5        0.413  10.892  0.001  0.1    10.0  88.0   4.989\n",
       " 15275.1        0.627   6.877  0.074  0.986  32.0  49.0  23.897"
      ]
     },
     "execution_count": 4,
     "metadata": {},
     "output_type": "execute_result"
    }
   ],
   "source": [
    "dir = \"C:/Arquivos/Mestrado/Dissert/_Plano de Ação/Acesso ao servidor da USP/20211125\"\n",
    "\n",
    "pasta = \"/c1/\"\n",
    "extension = \".csv\"\n",
    "gn = \"c1g1\"\n",
    "g1 = ler_resultados(pasta, gn, dir, extension)"
   ]
  },
  {
   "cell_type": "code",
   "execution_count": 5,
   "metadata": {},
   "outputs": [
    {
     "data": {
      "text/plain": [
       "8×8 Array{Float64,2}:\n",
       " 1283.27  0.44    3.597  0.058  0.99   11.0  12.0  14.16\n",
       " 1344.51  0.401   3.698  0.064  0.99   10.0  14.0  14.875\n",
       " 1920.59  0.715   3.225  0.074  0.988  21.0  10.0  13.565\n",
       " 2187.51  0.4     3.886  0.062  0.99   19.0  21.0  15.562\n",
       " 2572.32  0.831   8.598  0.013  0.975  10.0  10.0   6.394\n",
       " 2628.83  0.701   4.958  0.024  0.93   14.0  39.0  14.471\n",
       " 2823.48  0.826  15.718  0.1    0.855  19.0  28.0  21.467\n",
       " 2829.02  0.47   10.14   0.083  0.925  21.0  32.0  20.339"
      ]
     },
     "execution_count": 5,
     "metadata": {},
     "output_type": "execute_result"
    }
   ],
   "source": [
    "function best_fvals(pasta, gn, dir, extension, k)\n",
    "    \n",
    "    #retorna os k-ésimos melhores valores da função critério\n",
    "    \n",
    "    df = ler_resultados(pasta, gn, dir, extension)\n",
    "    \n",
    "    df = unique(df, dims = 1)\n",
    "\n",
    "    index = sortperm(df[:,1])\n",
    "    df = df[index,:]\n",
    "    best = df[1:k, :]\n",
    "    \n",
    "    return best\n",
    "    \n",
    "    \n",
    "end\n",
    "\n",
    "k = 8\n",
    "g1 = best_fvals(pasta, gn, dir, extension, k)"
   ]
  },
  {
   "cell_type": "code",
   "execution_count": 6,
   "metadata": {},
   "outputs": [
    {
     "data": {
      "text/plain": [
       "8×8 Array{Float64,2}:\n",
       " 1003.77  0.928   9.375  0.005  0.99   10.0  18.0   3.045\n",
       " 1064.56  0.93    9.983  0.01   0.98   18.0  19.0   3.064\n",
       " 1279.84  0.627   4.33   0.055  0.99   10.0  12.0  13.141\n",
       " 1328.64  0.626   4.563  0.056  0.99   10.0  13.0  13.435\n",
       " 2199.14  0.874   8.323  0.013  0.976  20.0  22.0   6.832\n",
       " 2343.72  0.862   2.651  0.1    0.959  10.0  11.0  11.528\n",
       " 2380.07  0.93   16.0    0.008  0.99   19.0  15.0   2.968\n",
       " 2381.29  0.4     2.846  0.069  0.954  10.0  28.0  15.839"
      ]
     },
     "execution_count": 6,
     "metadata": {},
     "output_type": "execute_result"
    }
   ],
   "source": [
    "gn = \"c1g2\"\n",
    "g2 = best_fvals(pasta, gn, dir, extension, k)"
   ]
  },
  {
   "cell_type": "code",
   "execution_count": 7,
   "metadata": {},
   "outputs": [
    {
     "data": {
      "text/plain": [
       "8×8 Array{Float64,2}:\n",
       " 1106.83  0.578   5.209  0.044  0.99   12.0  16.0  14.543\n",
       " 1139.77  0.453   4.845  0.045  0.966  10.0  15.0  14.288\n",
       " 1535.61  0.578   5.03   0.047  0.99   12.0  20.0  15.397\n",
       " 1563.63  0.4     4.981  0.044  0.941  13.0  21.0  14.542\n",
       " 2313.5   0.93    7.479  0.003  0.99   10.0  10.0   2.312\n",
       " 2409.59  0.93   15.996  0.1    0.809  10.0  32.0  20.639\n",
       " 2792.74  0.797  13.071  0.1    0.82   19.0  33.0  19.289\n",
       " 2921.26  0.4    16.0    0.063  0.99   35.0  28.0  24.0"
      ]
     },
     "execution_count": 7,
     "metadata": {},
     "output_type": "execute_result"
    }
   ],
   "source": [
    "gn = \"c1g3\"\n",
    "g3 = best_fvals(pasta, gn, dir, extension, k)"
   ]
  },
  {
   "cell_type": "code",
   "execution_count": 8,
   "metadata": {},
   "outputs": [
    {
     "data": {
      "text/plain": [
       "8×8 Array{Float64,2}:\n",
       "  862.767  0.923   9.441  0.011  0.983  48.0  13.0   3.011\n",
       "  976.74   0.93    8.75   0.01   0.99   48.0  10.0   3.022\n",
       "  997.968  0.93    8.187  0.005  0.98   10.0  10.0   2.506\n",
       " 1210.74   0.926   8.035  0.004  0.99   26.0  10.0   2.388\n",
       " 1412.01   0.925   7.674  0.004  0.99   26.0  10.0   2.592\n",
       " 2209.23   0.93    7.917  0.003  0.99   25.0  10.0   2.095\n",
       " 2213.9    0.671   2.066  0.1    0.917  20.0  19.0  14.0\n",
       " 2456.41   0.93   13.513  0.1    0.846  10.0  31.0  20.476"
      ]
     },
     "execution_count": 8,
     "metadata": {},
     "output_type": "execute_result"
    }
   ],
   "source": [
    "gn = \"c1g4\"\n",
    "g4 = best_fvals(pasta, gn, dir, extension, k)"
   ]
  },
  {
   "cell_type": "code",
   "execution_count": 9,
   "metadata": {},
   "outputs": [
    {
     "data": {
      "text/plain": [
       "8×8 Array{Float64,2}:\n",
       " 1240.16  0.93   10.491  0.013  0.99   10.0  23.0   4.122\n",
       " 1470.84  0.93   10.12   0.012  0.989  59.0  24.0   4.038\n",
       " 1668.84  0.833   5.541  0.025  0.971  10.0  10.0   7.089\n",
       " 1863.16  0.93   10.11   0.012  0.989  59.0  27.0   4.793\n",
       " 2068.34  0.825   5.483  0.025  0.961  10.0  10.0   7.057\n",
       " 2084.63  0.824   5.425  0.025  0.962  10.0  10.0   7.139\n",
       " 2449.39  0.929  15.898  0.1    0.727  10.0  35.0  22.465\n",
       " 2503.87  0.93    3.031  0.1    0.99   68.0  10.0  10.308"
      ]
     },
     "execution_count": 9,
     "metadata": {},
     "output_type": "execute_result"
    }
   ],
   "source": [
    "gn = \"c1g5\"\n",
    "g5 = best_fvals(pasta, gn, dir, extension, k)"
   ]
  },
  {
   "cell_type": "code",
   "execution_count": 11,
   "metadata": {},
   "outputs": [],
   "source": [
    "gbest = vcat(g1, g2, g3, g4, g5)\n",
    "index = sortperm(gbest[:,1])\n",
    "gbest = gbest[index,:]\n",
    "\n",
    "gbest = gbest[1:20, :]\n",
    "\n",
    "writedlm(\"gbest_20211129.csv\", gbest, ',')"
   ]
  },
  {
   "cell_type": "code",
   "execution_count": 12,
   "metadata": {},
   "outputs": [
    {
     "data": {
      "text/plain": [
       "20×8 Array{Float64,2}:\n",
       "  862.767  0.923   9.441  0.011  0.983  48.0  13.0   3.011\n",
       "  976.74   0.93    8.75   0.01   0.99   48.0  10.0   3.022\n",
       "  997.968  0.93    8.187  0.005  0.98   10.0  10.0   2.506\n",
       " 1003.77   0.928   9.375  0.005  0.99   10.0  18.0   3.045\n",
       " 1064.56   0.93    9.983  0.01   0.98   18.0  19.0   3.064\n",
       " 1106.83   0.578   5.209  0.044  0.99   12.0  16.0  14.543\n",
       " 1139.77   0.453   4.845  0.045  0.966  10.0  15.0  14.288\n",
       " 1210.74   0.926   8.035  0.004  0.99   26.0  10.0   2.388\n",
       " 1240.16   0.93   10.491  0.013  0.99   10.0  23.0   4.122\n",
       " 1279.84   0.627   4.33   0.055  0.99   10.0  12.0  13.141\n",
       " 1283.27   0.44    3.597  0.058  0.99   11.0  12.0  14.16\n",
       " 1328.64   0.626   4.563  0.056  0.99   10.0  13.0  13.435\n",
       " 1344.51   0.401   3.698  0.064  0.99   10.0  14.0  14.875\n",
       " 1412.01   0.925   7.674  0.004  0.99   26.0  10.0   2.592\n",
       " 1470.84   0.93   10.12   0.012  0.989  59.0  24.0   4.038\n",
       " 1535.61   0.578   5.03   0.047  0.99   12.0  20.0  15.397\n",
       " 1563.63   0.4     4.981  0.044  0.941  13.0  21.0  14.542\n",
       " 1668.84   0.833   5.541  0.025  0.971  10.0  10.0   7.089\n",
       " 1863.16   0.93   10.11   0.012  0.989  59.0  27.0   4.793\n",
       " 1920.59   0.715   3.225  0.074  0.988  21.0  10.0  13.565"
      ]
     },
     "execution_count": 12,
     "metadata": {},
     "output_type": "execute_result"
    }
   ],
   "source": [
    "gbest"
   ]
  }
 ],
 "metadata": {
  "kernelspec": {
   "display_name": "Julia 1.5.3",
   "language": "julia",
   "name": "julia-1.5"
  },
  "language_info": {
   "file_extension": ".jl",
   "mimetype": "application/julia",
   "name": "julia",
   "version": "1.5.3"
  }
 },
 "nbformat": 4,
 "nbformat_minor": 4
}
