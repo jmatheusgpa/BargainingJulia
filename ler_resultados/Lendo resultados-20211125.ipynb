{
 "cells": [
  {
   "cell_type": "code",
   "execution_count": 2,
   "metadata": {},
   "outputs": [],
   "source": [
    "using DelimitedFiles"
   ]
  },
  {
   "cell_type": "code",
   "execution_count": 3,
   "metadata": {},
   "outputs": [
    {
     "data": {
      "text/plain": [
       "ler_resultados (generic function with 1 method)"
      ]
     },
     "execution_count": 3,
     "metadata": {},
     "output_type": "execute_result"
    }
   ],
   "source": [
    "function ler_resultados(pasta, gn, dir, extension)\n",
    "    \n",
    "    \n",
    "    file = \"fvals\"\n",
    "    filename = string(dir, pasta, gn, file, extension)\n",
    "    fvals = readdlm(filename, ',')\n",
    "\n",
    "\n",
    "    file = \"gvals\"\n",
    "    filename = string(dir, pasta, gn, file, extension)\n",
    "    gvals = readdlm(filename, ',')\n",
    "\n",
    "    file = \"svals\"\n",
    "    filename = string(dir, pasta, gn, file, extension)\n",
    "    svals = readdlm(filename, ',')\n",
    "    \n",
    "    df = hcat(fvals, gvals, svals)\n",
    "    \n",
    "    return df\n",
    "    \n",
    "end\n"
   ]
  },
  {
   "cell_type": "code",
   "execution_count": 9,
   "metadata": {},
   "outputs": [
    {
     "data": {
      "text/plain": [
       "1000×8 Array{Float64,2}:\n",
       "  9624.4   0.407   4.249  0.166  0.99   10.0  24.0  12.308\n",
       "  9444.24  0.4     3.359  0.166  0.99   17.0  25.0  12.928\n",
       "  8378.32  0.4     3.901  0.157  0.99   10.0  32.0  13.97\n",
       "  8378.32  0.4     3.901  0.157  0.99   10.0  32.0  13.97\n",
       "  8378.32  0.4     3.901  0.157  0.99   10.0  32.0  13.97\n",
       "  8378.32  0.4     3.901  0.157  0.99   10.0  32.0  13.97\n",
       "  8378.32  0.4     3.901  0.157  0.99   10.0  32.0  13.97\n",
       "  8378.32  0.4     3.901  0.157  0.99   10.0  32.0  13.97\n",
       "  8378.32  0.4     3.901  0.157  0.99   10.0  32.0  13.97\n",
       "  8252.84  0.409   4.06   0.151  0.989  12.0  32.0  13.985\n",
       "  8252.84  0.409   4.06   0.151  0.989  12.0  32.0  13.985\n",
       "  7732.79  0.871   6.715  0.084  0.99   11.0  11.0   3.083\n",
       "  2711.78  0.865   6.876  0.104  0.99   11.0  10.0   3.807\n",
       "     ⋮                                   ⋮          \n",
       " 43785.9   0.423  15.57   0.093  0.486  11.0  46.0   6.284\n",
       " 16283.2   0.583  14.334  0.03   0.473  10.0  62.0   6.751\n",
       " 55182.8   0.624   4.163  0.098  0.666  10.0  84.0  12.294\n",
       "  7711.74  0.721  12.023  0.171  0.534  10.0  51.0   8.576\n",
       " 31376.7   0.527  13.554  0.118  0.01   25.0  90.0  17.759\n",
       "  8839.64  0.896  15.609  0.18   0.948  10.0  10.0   6.932\n",
       "  6007.22  0.89   15.591  0.18   0.948  13.0  23.0  24.0\n",
       "  6007.22  0.89   15.591  0.18   0.948  13.0  23.0  24.0\n",
       "  5213.49  0.4    11.857  0.175  0.981  36.0  24.0  23.198\n",
       "  5213.49  0.4    11.857  0.175  0.981  36.0  24.0  23.198\n",
       "  5213.49  0.4    11.857  0.175  0.981  36.0  24.0  23.198\n",
       "  5213.49  0.4    11.857  0.175  0.981  36.0  24.0  23.198"
      ]
     },
     "execution_count": 9,
     "metadata": {},
     "output_type": "execute_result"
    }
   ],
   "source": [
    "dir = \"C:/Arquivos/Mestrado/Dissert/_Plano de Ação/Acesso ao servidor da USP/20211125\"\n",
    "\n",
    "pasta = \"/jogo/\"\n",
    "extension = \".csv\"\n",
    "gn = \"g1\"\n",
    "g1 = ler_resultados(pasta, gn, dir, extension)"
   ]
  },
  {
   "cell_type": "code",
   "execution_count": 11,
   "metadata": {},
   "outputs": [
    {
     "data": {
      "text/plain": [
       "8×8 Array{Float64,2}:\n",
       "  657.749  0.923   7.707  0.085  0.99   10.0  10.0   2.636\n",
       " 1652.8    0.887   7.446  0.104  0.99   10.0  10.0   3.292\n",
       " 1660.23   0.93    8.525  0.155  0.99   35.0  10.0   2.71\n",
       " 2711.78   0.865   6.876  0.104  0.99   11.0  10.0   3.807\n",
       " 2988.82   0.402  10.304  0.169  0.99   27.0  24.0  24.0\n",
       " 3429.72   0.401  13.523  0.18   0.944  32.0  27.0  24.0\n",
       " 3522.08   0.4     7.145  0.17   0.912  10.0  33.0  19.532\n",
       " 3698.8    0.405  13.309  0.18   0.955  34.0  25.0  22.74"
      ]
     },
     "execution_count": 11,
     "metadata": {},
     "output_type": "execute_result"
    }
   ],
   "source": [
    "function best_fvals(pasta, gn, dir, extension, k)\n",
    "    \n",
    "    #retorna os k-ésimos melhores valores da função critério\n",
    "    \n",
    "    df = ler_resultados(pasta, gn, dir, extension)\n",
    "    \n",
    "    df = unique(df, dims = 1)\n",
    "\n",
    "    index = sortperm(df[:,1])\n",
    "    df = df[index,:]\n",
    "    best = df[1:k, :]\n",
    "    \n",
    "    return best\n",
    "    \n",
    "    \n",
    "end\n",
    "\n",
    "k = 8\n",
    "g1 = best_fvals(pasta, gn, dir, extension, k)"
   ]
  },
  {
   "cell_type": "code",
   "execution_count": 13,
   "metadata": {},
   "outputs": [
    {
     "data": {
      "text/plain": [
       "8×8 Array{Float64,2}:\n",
       "  716.905  0.93    9.285  0.105  0.984  32.0  10.0   2.257\n",
       "  769.142  0.93    9.368  0.102  0.99   30.0  10.0   2.438\n",
       "  893.75   0.93    9.392  0.105  0.99   33.0  10.0   2.459\n",
       " 2887.96   0.4    15.672  0.18   0.931  31.0  28.0  24.0\n",
       " 3509.29   0.4    12.813  0.18   0.937  33.0  26.0  21.604\n",
       " 3972.58   0.93   13.834  0.176  0.989  10.0  36.0  19.21\n",
       " 3983.89   0.584  12.783  0.132  0.988  14.0  35.0  21.592\n",
       " 4074.71   0.93   10.167  0.084  0.99   10.0  20.0   2.286"
      ]
     },
     "execution_count": 13,
     "metadata": {},
     "output_type": "execute_result"
    }
   ],
   "source": [
    "gn = \"g2\"\n",
    "g2 = best_fvals(pasta, gn, dir, extension, k)"
   ]
  },
  {
   "cell_type": "code",
   "execution_count": 14,
   "metadata": {},
   "outputs": [
    {
     "data": {
      "text/plain": [
       "8×8 Array{Float64,2}:\n",
       "  523.793  0.93    5.575  0.18   0.93   13.0  10.0   2.557\n",
       "  535.135  0.93    5.364  0.18   0.931  10.0  10.0   2.747\n",
       " 1120.24   0.922   8.255  0.155  0.99   43.0  10.0   2.378\n",
       " 2843.36   0.44   11.043  0.145  0.99   10.0  28.0  24.0\n",
       " 2882.67   0.44   11.143  0.14   0.99   11.0  30.0  24.0\n",
       " 2970.22   0.465  11.203  0.14   0.99   12.0  31.0  24.0\n",
       " 3199.97   0.4     8.89   0.168  0.924  12.0  29.0  21.202\n",
       " 3250.93   0.4    10.1    0.14   0.99   10.0  32.0  22.798"
      ]
     },
     "execution_count": 14,
     "metadata": {},
     "output_type": "execute_result"
    }
   ],
   "source": [
    "gn = \"g3\"\n",
    "g3 = best_fvals(pasta, gn, dir, extension, k)"
   ]
  },
  {
   "cell_type": "code",
   "execution_count": 15,
   "metadata": {},
   "outputs": [
    {
     "data": {
      "text/plain": [
       "8×8 Array{Float64,2}:\n",
       " 1824.86  0.596   2.774  0.14   0.986  38.0  10.0  13.332\n",
       " 2234.35  0.93    4.255  0.112  0.928  68.0  44.0   5.014\n",
       " 2371.95  0.93    7.405  0.082  0.99   10.0  17.0   3.222\n",
       " 2723.06  0.4    10.7    0.18   0.946  28.0  30.0  23.496\n",
       " 3033.05  0.4    13.039  0.129  0.979  24.0  33.0  23.578\n",
       " 3048.18  0.4     7.374  0.179  0.85   10.0  37.0  20.279\n",
       " 3128.49  0.93    4.347  0.151  0.886  10.0  19.0   2.384\n",
       " 3271.27  0.423   9.884  0.17   0.901  13.0  32.0  21.802"
      ]
     },
     "execution_count": 15,
     "metadata": {},
     "output_type": "execute_result"
    }
   ],
   "source": [
    "gn = \"g4\"\n",
    "g4 = best_fvals(pasta, gn, dir, extension, k)"
   ]
  },
  {
   "cell_type": "code",
   "execution_count": 16,
   "metadata": {},
   "outputs": [
    {
     "data": {
      "text/plain": [
       "8×8 Array{Float64,2}:\n",
       "  714.718  0.93   7.861  0.144  0.99  49.0  10.0  2.708\n",
       " 1182.6    0.926  7.892  0.145  0.99  50.0  10.0  2.819\n",
       " 1686.18   0.93   8.689  0.158  0.99  10.0  10.0  2.549\n",
       " 1724.06   0.93   8.742  0.157  0.99  10.0  10.0  2.521\n",
       " 1805.35   0.929  8.761  0.156  0.99  10.0  10.0  2.526\n",
       " 2005.84   0.928  7.316  0.18   0.99  52.0  10.0  2.905\n",
       " 2415.52   0.877  5.748  0.113  0.99  10.0  10.0  5.101\n",
       " 2448.33   0.93   7.974  0.145  0.99  30.0  10.0  2.961"
      ]
     },
     "execution_count": 16,
     "metadata": {},
     "output_type": "execute_result"
    }
   ],
   "source": [
    "gn = \"g5\"\n",
    "g5 = best_fvals(pasta, gn, dir, extension, k)"
   ]
  },
  {
   "cell_type": "code",
   "execution_count": 17,
   "metadata": {},
   "outputs": [],
   "source": [
    "gbest = vcat(g1, g2, g3, g4)\n",
    "index = sortperm(gbest[:,1])\n",
    "gbest = gbest[index,:]\n",
    "\n",
    "gbest = gbest[1:20, :]\n",
    "\n",
    "writedlm(\"gbest_20211125.csv\", gbest, ',')"
   ]
  },
  {
   "cell_type": "code",
   "execution_count": 18,
   "metadata": {},
   "outputs": [
    {
     "data": {
      "text/plain": [
       "20×8 Array{Float64,2}:\n",
       "  523.793  0.93    5.575  0.18   0.93   13.0  10.0   2.557\n",
       "  535.135  0.93    5.364  0.18   0.931  10.0  10.0   2.747\n",
       "  657.749  0.923   7.707  0.085  0.99   10.0  10.0   2.636\n",
       "  716.905  0.93    9.285  0.105  0.984  32.0  10.0   2.257\n",
       "  769.142  0.93    9.368  0.102  0.99   30.0  10.0   2.438\n",
       "  893.75   0.93    9.392  0.105  0.99   33.0  10.0   2.459\n",
       " 1120.24   0.922   8.255  0.155  0.99   43.0  10.0   2.378\n",
       " 1652.8    0.887   7.446  0.104  0.99   10.0  10.0   3.292\n",
       " 1660.23   0.93    8.525  0.155  0.99   35.0  10.0   2.71\n",
       " 1824.86   0.596   2.774  0.14   0.986  38.0  10.0  13.332\n",
       " 2234.35   0.93    4.255  0.112  0.928  68.0  44.0   5.014\n",
       " 2371.95   0.93    7.405  0.082  0.99   10.0  17.0   3.222\n",
       " 2711.78   0.865   6.876  0.104  0.99   11.0  10.0   3.807\n",
       " 2723.06   0.4    10.7    0.18   0.946  28.0  30.0  23.496\n",
       " 2843.36   0.44   11.043  0.145  0.99   10.0  28.0  24.0\n",
       " 2882.67   0.44   11.143  0.14   0.99   11.0  30.0  24.0\n",
       " 2887.96   0.4    15.672  0.18   0.931  31.0  28.0  24.0\n",
       " 2970.22   0.465  11.203  0.14   0.99   12.0  31.0  24.0\n",
       " 2988.82   0.402  10.304  0.169  0.99   27.0  24.0  24.0\n",
       " 3033.05   0.4    13.039  0.129  0.979  24.0  33.0  23.578"
      ]
     },
     "execution_count": 18,
     "metadata": {},
     "output_type": "execute_result"
    }
   ],
   "source": [
    "gbest"
   ]
  }
 ],
 "metadata": {
  "kernelspec": {
   "display_name": "Julia 1.5.3",
   "language": "julia",
   "name": "julia-1.5"
  },
  "language_info": {
   "file_extension": ".jl",
   "mimetype": "application/julia",
   "name": "julia",
   "version": "1.5.3"
  }
 },
 "nbformat": 4,
 "nbformat_minor": 4
}
