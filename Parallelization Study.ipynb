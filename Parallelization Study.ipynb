{
 "cells": [
  {
   "cell_type": "code",
   "execution_count": 1,
   "metadata": {},
   "outputs": [],
   "source": [
    "using BenchmarkTools\n",
    "using FLoops\n",
    "\n",
    "using Distributed\n",
    "\n"
   ]
  },
  {
   "cell_type": "markdown",
   "metadata": {},
   "source": [
    "https://discourse.julialang.org/t/questions-about-getting-started-with-parallel-computing/25341"
   ]
  },
  {
   "cell_type": "markdown",
   "metadata": {},
   "source": [
    "Distributed"
   ]
  },
  {
   "cell_type": "code",
   "execution_count": 3,
   "metadata": {},
   "outputs": [
    {
     "data": {
      "text/plain": [
       "1"
      ]
     },
     "execution_count": 3,
     "metadata": {},
     "output_type": "execute_result"
    }
   ],
   "source": [
    "nprocs()"
   ]
  },
  {
   "cell_type": "code",
   "execution_count": 4,
   "metadata": {},
   "outputs": [
    {
     "data": {
      "text/plain": [
       "4-element Array{Int64,1}:\n",
       " 2\n",
       " 3\n",
       " 4\n",
       " 5"
      ]
     },
     "execution_count": 4,
     "metadata": {},
     "output_type": "execute_result"
    }
   ],
   "source": [
    "addprocs(4)"
   ]
  },
  {
   "cell_type": "code",
   "execution_count": 5,
   "metadata": {},
   "outputs": [
    {
     "data": {
      "text/plain": [
       "5"
      ]
     },
     "execution_count": 5,
     "metadata": {},
     "output_type": "execute_result"
    }
   ],
   "source": [
    "nprocs()"
   ]
  },
  {
   "cell_type": "code",
   "execution_count": 15,
   "metadata": {},
   "outputs": [],
   "source": [
    "@everywhere using NBInclude\n",
    "@everywhere @nbinclude(\"solve_model.ipynb\")"
   ]
  },
  {
   "cell_type": "code",
   "execution_count": 12,
   "metadata": {},
   "outputs": [],
   "source": [
    "#Vh/D, L/D, Dj/D\n",
    "@everywhere data = [1.0, 0.25, 0.68]; \n",
    "\n",
    "#ρ, β, c0, λj\n",
    "@everywhere game_parameters = [0.884, 9.84, 0.044, 0.346];"
   ]
  },
  {
   "cell_type": "code",
   "execution_count": 9,
   "metadata": {},
   "outputs": [],
   "source": [
    "@everywhere function solve_tree_serial(n, data=data, game_parameters=game_parameters)\n",
    "    for i in 1:n\n",
    "        solve_tree(data, game_parameters)\n",
    "        \n",
    "    end\n",
    "end\n",
    "\n",
    "    \n",
    "    "
   ]
  },
  {
   "cell_type": "code",
   "execution_count": 10,
   "metadata": {},
   "outputs": [
    {
     "data": {
      "text/plain": [
       "solve_tree_parallel (generic function with 1 method)"
      ]
     },
     "execution_count": 10,
     "metadata": {},
     "output_type": "execute_result"
    }
   ],
   "source": [
    "function solve_tree_parallel(n)\n",
    "    pmap(solve_tree_serial, n)\n",
    "end\n"
   ]
  },
  {
   "cell_type": "code",
   "execution_count": 16,
   "metadata": {},
   "outputs": [
    {
     "name": "stdout",
     "output_type": "stream",
     "text": [
      "      From worker 4:\t303.242164 seconds (635.94 M allocations: 210.131 GiB, 8.79% gc time)\n",
      "      From worker 4:\t330.995468 seconds (632.36 M allocations: 209.969 GiB, 10.06% gc time)\n",
      "636.397515 seconds (45.48 k allocations: 1.868 MiB)\n"
     ]
    }
   ],
   "source": [
    "@time solve_tree_parallel(2)"
   ]
  },
  {
   "cell_type": "code",
   "execution_count": 20,
   "metadata": {},
   "outputs": [
    {
     "data": {
      "text/plain": [
       "solve_tree_parallel (generic function with 1 method)"
      ]
     },
     "execution_count": 20,
     "metadata": {},
     "output_type": "execute_result"
    }
   ],
   "source": [
    "function solve_tree_parallel(n)\n",
    "    pmap(solve_tree_serial, n, distributed=true)\n",
    "end"
   ]
  },
  {
   "cell_type": "code",
   "execution_count": 21,
   "metadata": {},
   "outputs": [
    {
     "name": "stdout",
     "output_type": "stream",
     "text": [
      "      From worker 3:\t310.403359 seconds (635.94 M allocations: 210.131 GiB, 8.73% gc time)\n",
      "      From worker 3:\t325.235513 seconds (632.36 M allocations: 209.969 GiB, 10.36% gc time)\n",
      "638.206392 seconds (19.76 k allocations: 585.562 KiB)\n"
     ]
    }
   ],
   "source": [
    "@time solve_tree_parallel(2)"
   ]
  },
  {
   "cell_type": "code",
   "execution_count": 22,
   "metadata": {},
   "outputs": [
    {
     "data": {
      "text/plain": [
       "5-element Array{Int64,1}:\n",
       " 1\n",
       " 2\n",
       " 3\n",
       " 4\n",
       " 5"
      ]
     },
     "execution_count": 22,
     "metadata": {},
     "output_type": "execute_result"
    }
   ],
   "source": [
    "procs()"
   ]
  },
  {
   "cell_type": "code",
   "execution_count": 23,
   "metadata": {},
   "outputs": [
    {
     "name": "stdout",
     "output_type": "stream",
     "text": [
      "      From worker 2:\t346.466306 seconds (635.94 M allocations: 210.131 GiB, 8.67% gc time)\n",
      "      From worker 5:\t360.064234 seconds (635.94 M allocations: 210.131 GiB, 9.48% gc time)\n",
      "362.812039 seconds (195.62 k allocations: 10.088 MiB)\n"
     ]
    },
    {
     "data": {
      "text/plain": [
       "2-element Array{Nothing,1}:\n",
       " nothing\n",
       " nothing"
      ]
     },
     "execution_count": 23,
     "metadata": {},
     "output_type": "execute_result"
    }
   ],
   "source": [
    "@time solve_tree_parallel([1,1])"
   ]
  },
  {
   "cell_type": "markdown",
   "metadata": {},
   "source": [
    "#### Teste: gerar draws da uniforme"
   ]
  },
  {
   "cell_type": "code",
   "execution_count": null,
   "metadata": {},
   "outputs": [],
   "source": [
    "@btime rand(1000);"
   ]
  },
  {
   "cell_type": "code",
   "execution_count": null,
   "metadata": {},
   "outputs": [],
   "source": [
    "@btime for i in 1:1000\n",
    "    rand()\n",
    "end"
   ]
  },
  {
   "cell_type": "code",
   "execution_count": null,
   "metadata": {},
   "outputs": [],
   "source": [
    "@btime @floop for i in 1:1000\n",
    "    rand()\n",
    "end"
   ]
  },
  {
   "cell_type": "code",
   "execution_count": null,
   "metadata": {},
   "outputs": [],
   "source": [
    "@btime @distributed for i in 1:1000\n",
    "    rand()\n",
    "end"
   ]
  },
  {
   "cell_type": "markdown",
   "metadata": {},
   "source": [
    "Somando os draws"
   ]
  },
  {
   "cell_type": "code",
   "execution_count": null,
   "metadata": {},
   "outputs": [],
   "source": [
    "function draws(ndraws, ncores)\n",
    "    \n",
    "    v=0\n",
    "    \n",
    "    for n in 1:ndraws\n",
    "        v+=rand()\n",
    "    end\n",
    "    \n",
    "end   "
   ]
  },
  {
   "cell_type": "code",
   "execution_count": null,
   "metadata": {},
   "outputs": [],
   "source": [
    "@btime draws(1000, 1)"
   ]
  },
  {
   "cell_type": "code",
   "execution_count": null,
   "metadata": {},
   "outputs": [],
   "source": [
    "function draws_floop(ndraws, ncores)\n",
    "    \n",
    "    v=0\n",
    "    \n",
    "    #parece importante usar ÷, se usar \\ dá um erro\n",
    "    @floop ThreadedEx(basesize = ndraws ÷ ncores) for n in 1:ndraws\n",
    "        @reduce(v+=rand())\n",
    "    end\n",
    "end"
   ]
  },
  {
   "cell_type": "code",
   "execution_count": null,
   "metadata": {},
   "outputs": [],
   "source": [
    "@btime draws_floop(1000, 1)"
   ]
  },
  {
   "cell_type": "code",
   "execution_count": null,
   "metadata": {},
   "outputs": [],
   "source": [
    "@btime draws_floop(1000, 2)"
   ]
  },
  {
   "cell_type": "code",
   "execution_count": null,
   "metadata": {},
   "outputs": [],
   "source": [
    "@btime draws_floop(1000, 3)"
   ]
  },
  {
   "cell_type": "code",
   "execution_count": null,
   "metadata": {},
   "outputs": [],
   "source": [
    "@btime draws_floop(1000, 4)"
   ]
  },
  {
   "cell_type": "markdown",
   "metadata": {},
   "source": [
    "Conclusão: ou estou fazendo errado ou operações com rand() ficam melhores usando apenas 1 core"
   ]
  },
  {
   "cell_type": "markdown",
   "metadata": {},
   "source": [
    "#### Teste: somar valores em um loop"
   ]
  },
  {
   "cell_type": "code",
   "execution_count": null,
   "metadata": {},
   "outputs": [],
   "source": [
    "function somar(n)\n",
    "    s=0\n",
    "    for i in 1:n\n",
    "        s+=i\n",
    "    end\n",
    "    return s\n",
    "end\n",
    "        "
   ]
  },
  {
   "cell_type": "code",
   "execution_count": null,
   "metadata": {},
   "outputs": [],
   "source": [
    "@btime somar(1_000_000_000)"
   ]
  },
  {
   "cell_type": "code",
   "execution_count": null,
   "metadata": {},
   "outputs": [],
   "source": [
    "function somar_floop(n, executor)\n",
    "    s=0\n",
    "    @floop executor for i in 1:n\n",
    "        @reduce(s+=i)\n",
    "    end\n",
    "    return s\n",
    "end\n",
    "\n",
    "\n",
    "base = 2;\n",
    "ex1 = SequentialEx(simd = Val(true));\n",
    "ex2 = ThreadedEx(basesize = base)\n",
    "ex3 = DistributedEx(threads_basesize = base);"
   ]
  },
  {
   "cell_type": "code",
   "execution_count": null,
   "metadata": {},
   "outputs": [],
   "source": [
    "@btime somar_floop(10, ex1)"
   ]
  },
  {
   "cell_type": "code",
   "execution_count": null,
   "metadata": {},
   "outputs": [],
   "source": [
    "@btime somar_floop(10, ex2)"
   ]
  },
  {
   "cell_type": "code",
   "execution_count": null,
   "metadata": {},
   "outputs": [],
   "source": [
    "@btime somar_floop(10, ex3)"
   ]
  },
  {
   "cell_type": "markdown",
   "metadata": {},
   "source": [
    "## Threads"
   ]
  },
  {
   "cell_type": "code",
   "execution_count": null,
   "metadata": {},
   "outputs": [],
   "source": [
    "#mudei a variavel ambiente JULIA_NUM_THREADS no windows 10\n",
    "Threads.nthreads()"
   ]
  },
  {
   "cell_type": "markdown",
   "metadata": {},
   "source": [
    "### Exemplo de rodar o código da solução do modelo"
   ]
  },
  {
   "cell_type": "code",
   "execution_count": null,
   "metadata": {},
   "outputs": [],
   "source": [
    "#Vh/D, L/D, Dj/D\n",
    "data = [1.0, 0.25, 0.68]; \n",
    "\n",
    "#ρ, β, c0, λj\n",
    "game_parameters = [0.884, 9.84, 0.044, 0.346];"
   ]
  },
  {
   "cell_type": "markdown",
   "metadata": {},
   "source": [
    "Sem paralelizar"
   ]
  },
  {
   "cell_type": "markdown",
   "metadata": {},
   "source": [
    "@time for i in 1:2\n",
    "    solve_tree(data, game_parameters);\n",
    "end\n",
    "    "
   ]
  },
  {
   "cell_type": "markdown",
   "metadata": {},
   "source": [
    "Com paralelização"
   ]
  },
  {
   "cell_type": "markdown",
   "metadata": {},
   "source": [
    "@time @floop ThreadedEx(basesize=1) for i in 1:2\n",
    "    solve_tree(data, game_parameters);\n",
    "end"
   ]
  },
  {
   "cell_type": "markdown",
   "metadata": {},
   "source": [
    "@time @floop ThreadedEx(basesize=1) for i in 1:4\n",
    "    solve_tree(data, game_parameters);\n",
    "end"
   ]
  },
  {
   "cell_type": "markdown",
   "metadata": {},
   "source": [
    "### Distributed"
   ]
  },
  {
   "cell_type": "code",
   "execution_count": null,
   "metadata": {},
   "outputs": [],
   "source": [
    "nprocs()"
   ]
  },
  {
   "cell_type": "code",
   "execution_count": null,
   "metadata": {},
   "outputs": [],
   "source": [
    "addprocs(4)"
   ]
  },
  {
   "cell_type": "code",
   "execution_count": null,
   "metadata": {},
   "outputs": [],
   "source": [
    "nprocs()"
   ]
  },
  {
   "cell_type": "code",
   "execution_count": null,
   "metadata": {},
   "outputs": [],
   "source": []
  },
  {
   "cell_type": "code",
   "execution_count": null,
   "metadata": {},
   "outputs": [],
   "source": [
    "@sync @distributed for i in 1:2\n",
    "    solve_tree(data, game_parameters)\n",
    "end"
   ]
  },
  {
   "cell_type": "code",
   "execution_count": null,
   "metadata": {},
   "outputs": [],
   "source": []
  }
 ],
 "metadata": {
  "kernelspec": {
   "display_name": "Julia 1.5.3",
   "language": "julia",
   "name": "julia-1.5"
  },
  "language_info": {
   "file_extension": ".jl",
   "mimetype": "application/julia",
   "name": "julia",
   "version": "1.5.3"
  }
 },
 "nbformat": 4,
 "nbformat_minor": 4
}
