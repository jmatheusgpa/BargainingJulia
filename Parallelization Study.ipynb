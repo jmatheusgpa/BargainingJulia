{
 "cells": [
  {
   "cell_type": "code",
   "execution_count": 1,
   "metadata": {},
   "outputs": [
    {
     "data": {
      "text/plain": [
       "solve_tree (generic function with 5 methods)"
      ]
     },
     "execution_count": 1,
     "metadata": {},
     "output_type": "execute_result"
    }
   ],
   "source": [
    "using BenchmarkTools\n",
    "using Distributed\n",
    "using Base.Threads\n",
    "\n",
    "using NBInclude\n",
    "@nbinclude(\"solve_model.ipynb\")\n"
   ]
  },
  {
   "cell_type": "markdown",
   "metadata": {},
   "source": [
    "Teste simples: gerar draws da uniforme"
   ]
  },
  {
   "cell_type": "code",
   "execution_count": 2,
   "metadata": {},
   "outputs": [
    {
     "name": "stdout",
     "output_type": "stream",
     "text": [
      "  935.294 ns (1 allocation: 7.94 KiB)\n"
     ]
    }
   ],
   "source": [
    "@btime rand(1000);"
   ]
  },
  {
   "cell_type": "code",
   "execution_count": 3,
   "metadata": {},
   "outputs": [
    {
     "name": "stdout",
     "output_type": "stream",
     "text": [
      "  2.833 μs (0 allocations: 0 bytes)\n"
     ]
    }
   ],
   "source": [
    "@btime for i in 1:1000\n",
    "    rand()\n",
    "end"
   ]
  },
  {
   "cell_type": "markdown",
   "metadata": {},
   "source": [
    "Usando Threads"
   ]
  },
  {
   "cell_type": "code",
   "execution_count": 4,
   "metadata": {},
   "outputs": [
    {
     "data": {
      "text/plain": [
       "4"
      ]
     },
     "execution_count": 4,
     "metadata": {},
     "output_type": "execute_result"
    }
   ],
   "source": [
    "#mudei a variavel ambiente JULIA_NUM_THREADS no windows 10\n",
    "Threads.nthreads()"
   ]
  },
  {
   "cell_type": "code",
   "execution_count": 6,
   "metadata": {},
   "outputs": [
    {
     "name": "stdout",
     "output_type": "stream",
     "text": [
      "  5.620 μs (21 allocations: 3.42 KiB)\n"
     ]
    }
   ],
   "source": [
    "@btime @threads for i in 1:1000\n",
    "    rand()\n",
    "    end\n"
   ]
  },
  {
   "cell_type": "markdown",
   "metadata": {},
   "source": [
    "### Exemplo de rodar o código da solução do modelo"
   ]
  },
  {
   "cell_type": "code",
   "execution_count": 7,
   "metadata": {},
   "outputs": [],
   "source": [
    "#Vh/D, L/D, Dj/D\n",
    "data = [1.0, 0.25, 0.68]; \n",
    "\n",
    "#ρ, β, c0, λj\n",
    "game_parameters = [0.884, 9.84, 0.044, 0.346];"
   ]
  },
  {
   "cell_type": "markdown",
   "metadata": {},
   "source": [
    "Sem paralelizar"
   ]
  },
  {
   "cell_type": "code",
   "execution_count": 8,
   "metadata": {},
   "outputs": [
    {
     "name": "stdout",
     "output_type": "stream",
     "text": [
      "308.328711 seconds (635.93 M allocations: 210.131 GiB, 8.80% gc time)\n",
      "356.105231 seconds (632.36 M allocations: 209.969 GiB, 9.76% gc time)\n",
      "666.623594 seconds (1.27 G allocations: 420.816 GiB, 9.30% gc time)\n"
     ]
    }
   ],
   "source": [
    "@time for i in 1:2\n",
    "    solve_tree(data, game_parameters);\n",
    "end\n",
    "    "
   ]
  },
  {
   "cell_type": "markdown",
   "metadata": {},
   "source": [
    "Com paralelização"
   ]
  },
  {
   "cell_type": "code",
   "execution_count": 9,
   "metadata": {},
   "outputs": [
    {
     "name": "stdout",
     "output_type": "stream",
     "text": [
      "558.320433 seconds (1.25 G allocations: 418.808 GiB, 21.37% gc time)\n",
      "563.971564 seconds (1.26 G allocations: 419.918 GiB, 21.22% gc time)\n",
      "564.537617 seconds (1.27 G allocations: 420.445 GiB, 21.23% gc time)\n"
     ]
    }
   ],
   "source": [
    "@time @threads for i in 1:2\n",
    "    solve_tree(data, game_parameters);\n",
    "end"
   ]
  },
  {
   "cell_type": "code",
   "execution_count": 10,
   "metadata": {},
   "outputs": [
    {
     "name": "stdout",
     "output_type": "stream",
     "text": [
      "1106.335033 seconds (2.51 G allocations: 838.457 GiB, 32.48% gc time)\n",
      "1110.202050 seconds (2.53 G allocations: 839.586 GiB, 32.42% gc time)\n",
      "1110.419510 seconds (2.53 G allocations: 839.661 GiB, 32.42% gc time)\n",
      "1111.147823 seconds (2.53 G allocations: 839.873 GiB, 32.40% gc time)\n",
      "1111.836986 seconds (2.53 G allocations: 840.869 GiB, 32.38% gc time)\n"
     ]
    }
   ],
   "source": [
    "@time @threads for i in 1:4\n",
    "    solve_tree(data, game_parameters);\n",
    "end"
   ]
  }
 ],
 "metadata": {
  "kernelspec": {
   "display_name": "Julia 1.5.3",
   "language": "julia",
   "name": "julia-1.5"
  },
  "language_info": {
   "file_extension": ".jl",
   "mimetype": "application/julia",
   "name": "julia",
   "version": "1.5.3"
  }
 },
 "nbformat": 4,
 "nbformat_minor": 4
}
