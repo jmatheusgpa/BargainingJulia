{
 "cells": [
  {
   "cell_type": "markdown",
   "metadata": {},
   "source": [
    "Script para estudar parelalização e depois aplicar no código de Simulated Annealing\n",
    "\n",
    "Referências:\n",
    "\n",
    "1. https://discourse.julialang.org/t/questions-about-getting-started-with-parallel-computing/25341\n",
    "\n",
    "2. https://github.com/crstnbr/JuliaWorkshop18/blob/master/5%20Parallel%20computing/parallel-computing.ipynb"
   ]
  },
  {
   "cell_type": "code",
   "execution_count": 2,
   "metadata": {},
   "outputs": [],
   "source": [
    "using BenchmarkTools\n",
    "using FLoops\n",
    "using Distributed\n"
   ]
  },
  {
   "cell_type": "markdown",
   "metadata": {},
   "source": [
    "Distributed"
   ]
  },
  {
   "cell_type": "code",
   "execution_count": 3,
   "metadata": {},
   "outputs": [
    {
     "data": {
      "text/plain": [
       "1"
      ]
     },
     "execution_count": 3,
     "metadata": {},
     "output_type": "execute_result"
    }
   ],
   "source": [
    "nprocs()"
   ]
  },
  {
   "cell_type": "code",
   "execution_count": 4,
   "metadata": {},
   "outputs": [
    {
     "data": {
      "text/plain": [
       "4-element Array{Int64,1}:\n",
       " 2\n",
       " 3\n",
       " 4\n",
       " 5"
      ]
     },
     "execution_count": 4,
     "metadata": {},
     "output_type": "execute_result"
    }
   ],
   "source": [
    "addprocs(4)"
   ]
  },
  {
   "cell_type": "code",
   "execution_count": 5,
   "metadata": {},
   "outputs": [
    {
     "data": {
      "text/plain": [
       "5"
      ]
     },
     "execution_count": 5,
     "metadata": {},
     "output_type": "execute_result"
    }
   ],
   "source": [
    "nprocs() #número de cores. O primeiro core é sempre o mestre"
   ]
  },
  {
   "cell_type": "code",
   "execution_count": 6,
   "metadata": {},
   "outputs": [
    {
     "data": {
      "text/plain": [
       "4"
      ]
     },
     "execution_count": 6,
     "metadata": {},
     "output_type": "execute_result"
    }
   ],
   "source": [
    "nworkers() #número de cores trabalhadores"
   ]
  },
  {
   "cell_type": "markdown",
   "metadata": {},
   "source": [
    "A macro `@everywhere` faz os pacotes, funções ou dados serem distribuídos a todos os processadores, em todos os lugares"
   ]
  },
  {
   "cell_type": "code",
   "execution_count": 9,
   "metadata": {},
   "outputs": [],
   "source": [
    "@everywhere using NBInclude\n",
    "@everywhere @nbinclude(\"solve_model.ipynb\")"
   ]
  },
  {
   "cell_type": "code",
   "execution_count": 10,
   "metadata": {},
   "outputs": [],
   "source": [
    "#Vh/D, L/D, Dj/D\n",
    "@everywhere data = [1.0, 0.25, 0.68]; \n",
    "\n",
    "#ρ, β, c0, λj\n",
    "@everywhere game_parameters = [0.884, 9.84, 0.044, 0.346];"
   ]
  },
  {
   "cell_type": "code",
   "execution_count": 13,
   "metadata": {},
   "outputs": [],
   "source": [
    "@everywhere function solve_tree_serial(n, data=data, game_parameters=game_parameters)\n",
    "    for i in 1:n\n",
    "        solve_tree(data, game_parameters)\n",
    "        \n",
    "    end\n",
    "end"
   ]
  },
  {
   "cell_type": "code",
   "execution_count": 14,
   "metadata": {},
   "outputs": [
    {
     "name": "stdout",
     "output_type": "stream",
     "text": [
      "339.344697 seconds (635.94 M allocations: 210.131 GiB, 8.98% gc time)\n",
      "340.972184 seconds (638.98 M allocations: 210.524 GiB, 9.00% gc time)\n"
     ]
    }
   ],
   "source": [
    "@time solve_tree_serial(1)"
   ]
  },
  {
   "cell_type": "code",
   "execution_count": 15,
   "metadata": {
    "scrolled": false
   },
   "outputs": [
    {
     "data": {
      "text/latex": [
       "\\begin{verbatim}\n",
       "pmap(f, [::AbstractWorkerPool], c...; distributed=true, batch_size=1, on_error=nothing, retry_delays=[], retry_check=nothing) -> collection\n",
       "\\end{verbatim}\n",
       "Transform collection \\texttt{c} by applying \\texttt{f} to each element using available workers and tasks.\n",
       "\n",
       "For multiple collection arguments, apply \\texttt{f} elementwise.\n",
       "\n",
       "Note that \\texttt{f} must be made available to all worker processes; see \\href{@ref code-availability}{Code Availability and Loading Packages} for details.\n",
       "\n",
       "If a worker pool is not specified, all available workers, i.e., the default worker pool is used.\n",
       "\n",
       "By default, \\texttt{pmap} distributes the computation over all specified workers. To use only the local process and distribute over tasks, specify \\texttt{distributed=false}. This is equivalent to using \\href{@ref}{\\texttt{asyncmap}}. For example, \\texttt{pmap(f, c; distributed=false)} is equivalent to \\texttt{asyncmap(f,c; ntasks=()->nworkers())}\n",
       "\n",
       "\\texttt{pmap} can also use a mix of processes and tasks via the \\texttt{batch\\_size} argument. For batch sizes greater than 1, the collection is processed in multiple batches, each of length \\texttt{batch\\_size} or less. A batch is sent as a single request to a free worker, where a local \\href{@ref}{\\texttt{asyncmap}} processes elements from the batch using multiple concurrent tasks.\n",
       "\n",
       "Any error stops \\texttt{pmap} from processing the remainder of the collection. To override this behavior you can specify an error handling function via argument \\texttt{on\\_error} which takes in a single argument, i.e., the exception. The function can stop the processing by rethrowing the error, or, to continue, return any value which is then returned inline with the results to the caller.\n",
       "\n",
       "Consider the following two examples. The first one returns the exception object inline, the second a 0 in place of any exception:\n",
       "\n",
       "\\begin{verbatim}\n",
       "julia> pmap(x->iseven(x) ? error(\"foo\") : x, 1:4; on_error=identity)\n",
       "4-element Array{Any,1}:\n",
       " 1\n",
       "  ErrorException(\"foo\")\n",
       " 3\n",
       "  ErrorException(\"foo\")\n",
       "\n",
       "julia> pmap(x->iseven(x) ? error(\"foo\") : x, 1:4; on_error=ex->0)\n",
       "4-element Array{Int64,1}:\n",
       " 1\n",
       " 0\n",
       " 3\n",
       " 0\n",
       "\\end{verbatim}\n",
       "Errors can also be handled by retrying failed computations. Keyword arguments \\texttt{retry\\_delays} and \\texttt{retry\\_check} are passed through to \\href{@ref}{\\texttt{retry}} as keyword arguments \\texttt{delays} and \\texttt{check} respectively. If batching is specified, and an entire batch fails, all items in the batch are retried.\n",
       "\n",
       "Note that if both \\texttt{on\\_error} and \\texttt{retry\\_delays} are specified, the \\texttt{on\\_error} hook is called before retrying. If \\texttt{on\\_error} does not throw (or rethrow) an exception, the element will not be retried.\n",
       "\n",
       "Example: On errors, retry \\texttt{f} on an element a maximum of 3 times without any delay between retries.\n",
       "\n",
       "\\begin{verbatim}\n",
       "pmap(f, c; retry_delays = zeros(3))\n",
       "\\end{verbatim}\n",
       "Example: Retry \\texttt{f} only if the exception is not of type \\href{@ref}{\\texttt{InexactError}}, with exponentially increasing delays up to 3 times. Return a \\texttt{NaN} in place for all \\texttt{InexactError} occurrences.\n",
       "\n",
       "\\begin{verbatim}\n",
       "pmap(f, c; on_error = e->(isa(e, InexactError) ? NaN : rethrow()), retry_delays = ExponentialBackOff(n = 3))\n",
       "\\end{verbatim}\n"
      ],
      "text/markdown": [
       "```\n",
       "pmap(f, [::AbstractWorkerPool], c...; distributed=true, batch_size=1, on_error=nothing, retry_delays=[], retry_check=nothing) -> collection\n",
       "```\n",
       "\n",
       "Transform collection `c` by applying `f` to each element using available workers and tasks.\n",
       "\n",
       "For multiple collection arguments, apply `f` elementwise.\n",
       "\n",
       "Note that `f` must be made available to all worker processes; see [Code Availability and Loading Packages](@ref code-availability) for details.\n",
       "\n",
       "If a worker pool is not specified, all available workers, i.e., the default worker pool is used.\n",
       "\n",
       "By default, `pmap` distributes the computation over all specified workers. To use only the local process and distribute over tasks, specify `distributed=false`. This is equivalent to using [`asyncmap`](@ref). For example, `pmap(f, c; distributed=false)` is equivalent to `asyncmap(f,c; ntasks=()->nworkers())`\n",
       "\n",
       "`pmap` can also use a mix of processes and tasks via the `batch_size` argument. For batch sizes greater than 1, the collection is processed in multiple batches, each of length `batch_size` or less. A batch is sent as a single request to a free worker, where a local [`asyncmap`](@ref) processes elements from the batch using multiple concurrent tasks.\n",
       "\n",
       "Any error stops `pmap` from processing the remainder of the collection. To override this behavior you can specify an error handling function via argument `on_error` which takes in a single argument, i.e., the exception. The function can stop the processing by rethrowing the error, or, to continue, return any value which is then returned inline with the results to the caller.\n",
       "\n",
       "Consider the following two examples. The first one returns the exception object inline, the second a 0 in place of any exception:\n",
       "\n",
       "```julia-repl\n",
       "julia> pmap(x->iseven(x) ? error(\"foo\") : x, 1:4; on_error=identity)\n",
       "4-element Array{Any,1}:\n",
       " 1\n",
       "  ErrorException(\"foo\")\n",
       " 3\n",
       "  ErrorException(\"foo\")\n",
       "\n",
       "julia> pmap(x->iseven(x) ? error(\"foo\") : x, 1:4; on_error=ex->0)\n",
       "4-element Array{Int64,1}:\n",
       " 1\n",
       " 0\n",
       " 3\n",
       " 0\n",
       "```\n",
       "\n",
       "Errors can also be handled by retrying failed computations. Keyword arguments `retry_delays` and `retry_check` are passed through to [`retry`](@ref) as keyword arguments `delays` and `check` respectively. If batching is specified, and an entire batch fails, all items in the batch are retried.\n",
       "\n",
       "Note that if both `on_error` and `retry_delays` are specified, the `on_error` hook is called before retrying. If `on_error` does not throw (or rethrow) an exception, the element will not be retried.\n",
       "\n",
       "Example: On errors, retry `f` on an element a maximum of 3 times without any delay between retries.\n",
       "\n",
       "```julia\n",
       "pmap(f, c; retry_delays = zeros(3))\n",
       "```\n",
       "\n",
       "Example: Retry `f` only if the exception is not of type [`InexactError`](@ref), with exponentially increasing delays up to 3 times. Return a `NaN` in place for all `InexactError` occurrences.\n",
       "\n",
       "```julia\n",
       "pmap(f, c; on_error = e->(isa(e, InexactError) ? NaN : rethrow()), retry_delays = ExponentialBackOff(n = 3))\n",
       "```\n"
      ],
      "text/plain": [
       "\u001b[36m  pmap(f, [::AbstractWorkerPool], c...; distributed=true, batch_size=1, on_error=nothing, retry_delays=[], retry_check=nothing) -> collection\u001b[39m\n",
       "\n",
       "  Transform collection \u001b[36mc\u001b[39m by applying \u001b[36mf\u001b[39m to each element using available workers\n",
       "  and tasks.\n",
       "\n",
       "  For multiple collection arguments, apply \u001b[36mf\u001b[39m elementwise.\n",
       "\n",
       "  Note that \u001b[36mf\u001b[39m must be made available to all worker processes; see Code\n",
       "  Availability and Loading Packages for details.\n",
       "\n",
       "  If a worker pool is not specified, all available workers, i.e., the default\n",
       "  worker pool is used.\n",
       "\n",
       "  By default, \u001b[36mpmap\u001b[39m distributes the computation over all specified workers. To\n",
       "  use only the local process and distribute over tasks, specify\n",
       "  \u001b[36mdistributed=false\u001b[39m. This is equivalent to using \u001b[36masyncmap\u001b[39m. For example,\n",
       "  \u001b[36mpmap(f, c; distributed=false)\u001b[39m is equivalent to \u001b[36masyncmap(f,c;\n",
       "  ntasks=()->nworkers())\u001b[39m\n",
       "\n",
       "  \u001b[36mpmap\u001b[39m can also use a mix of processes and tasks via the \u001b[36mbatch_size\u001b[39m argument.\n",
       "  For batch sizes greater than 1, the collection is processed in multiple\n",
       "  batches, each of length \u001b[36mbatch_size\u001b[39m or less. A batch is sent as a single\n",
       "  request to a free worker, where a local \u001b[36masyncmap\u001b[39m processes elements from the\n",
       "  batch using multiple concurrent tasks.\n",
       "\n",
       "  Any error stops \u001b[36mpmap\u001b[39m from processing the remainder of the collection. To\n",
       "  override this behavior you can specify an error handling function via\n",
       "  argument \u001b[36mon_error\u001b[39m which takes in a single argument, i.e., the exception. The\n",
       "  function can stop the processing by rethrowing the error, or, to continue,\n",
       "  return any value which is then returned inline with the results to the\n",
       "  caller.\n",
       "\n",
       "  Consider the following two examples. The first one returns the exception\n",
       "  object inline, the second a 0 in place of any exception:\n",
       "\n",
       "\u001b[36m  julia> pmap(x->iseven(x) ? error(\"foo\") : x, 1:4; on_error=identity)\u001b[39m\n",
       "\u001b[36m  4-element Array{Any,1}:\u001b[39m\n",
       "\u001b[36m   1\u001b[39m\n",
       "\u001b[36m    ErrorException(\"foo\")\u001b[39m\n",
       "\u001b[36m   3\u001b[39m\n",
       "\u001b[36m    ErrorException(\"foo\")\u001b[39m\n",
       "\u001b[36m  \u001b[39m\n",
       "\u001b[36m  julia> pmap(x->iseven(x) ? error(\"foo\") : x, 1:4; on_error=ex->0)\u001b[39m\n",
       "\u001b[36m  4-element Array{Int64,1}:\u001b[39m\n",
       "\u001b[36m   1\u001b[39m\n",
       "\u001b[36m   0\u001b[39m\n",
       "\u001b[36m   3\u001b[39m\n",
       "\u001b[36m   0\u001b[39m\n",
       "\n",
       "  Errors can also be handled by retrying failed computations. Keyword\n",
       "  arguments \u001b[36mretry_delays\u001b[39m and \u001b[36mretry_check\u001b[39m are passed through to \u001b[36mretry\u001b[39m as\n",
       "  keyword arguments \u001b[36mdelays\u001b[39m and \u001b[36mcheck\u001b[39m respectively. If batching is specified,\n",
       "  and an entire batch fails, all items in the batch are retried.\n",
       "\n",
       "  Note that if both \u001b[36mon_error\u001b[39m and \u001b[36mretry_delays\u001b[39m are specified, the \u001b[36mon_error\u001b[39m hook\n",
       "  is called before retrying. If \u001b[36mon_error\u001b[39m does not throw (or rethrow) an\n",
       "  exception, the element will not be retried.\n",
       "\n",
       "  Example: On errors, retry \u001b[36mf\u001b[39m on an element a maximum of 3 times without any\n",
       "  delay between retries.\n",
       "\n",
       "\u001b[36m  pmap(f, c; retry_delays = zeros(3))\u001b[39m\n",
       "\n",
       "  Example: Retry \u001b[36mf\u001b[39m only if the exception is not of type \u001b[36mInexactError\u001b[39m, with\n",
       "  exponentially increasing delays up to 3 times. Return a \u001b[36mNaN\u001b[39m in place for all\n",
       "  \u001b[36mInexactError\u001b[39m occurrences.\n",
       "\n",
       "\u001b[36m  pmap(f, c; on_error = e->(isa(e, InexactError) ? NaN : rethrow()), retry_delays = ExponentialBackOff(n = 3))\u001b[39m"
      ]
     },
     "execution_count": 15,
     "metadata": {},
     "output_type": "execute_result"
    }
   ],
   "source": [
    "?pmap()"
   ]
  },
  {
   "cell_type": "code",
   "execution_count": 16,
   "metadata": {},
   "outputs": [
    {
     "data": {
      "text/plain": [
       "solve_tree_parallel (generic function with 1 method)"
      ]
     },
     "execution_count": 16,
     "metadata": {},
     "output_type": "execute_result"
    }
   ],
   "source": [
    "function solve_tree_parallel(n_array)\n",
    "    pmap(solve_tree_serial, n_array)\n",
    "end\n"
   ]
  },
  {
   "cell_type": "code",
   "execution_count": 17,
   "metadata": {},
   "outputs": [
    {
     "name": "stdout",
     "output_type": "stream",
     "text": [
      "      From worker 5:\t404.974531 seconds (635.94 M allocations: 210.131 GiB, 8.08% gc time)\n",
      "      From worker 2:\t405.674996 seconds (635.94 M allocations: 210.131 GiB, 8.13% gc time)\n",
      "408.413957 seconds (389.69 k allocations: 20.075 MiB)\n"
     ]
    },
    {
     "data": {
      "text/plain": [
       "2-element Array{Nothing,1}:\n",
       " nothing\n",
       " nothing"
      ]
     },
     "execution_count": 17,
     "metadata": {},
     "output_type": "execute_result"
    }
   ],
   "source": [
    "@time solve_tree_parallel([1,1])"
   ]
  },
  {
   "cell_type": "code",
   "execution_count": 18,
   "metadata": {},
   "outputs": [
    {
     "data": {
      "text/plain": [
       "2-element Array{Int64,1}:\n",
       " 1\n",
       " 1"
      ]
     },
     "execution_count": 18,
     "metadata": {},
     "output_type": "execute_result"
    }
   ],
   "source": [
    "[1,1]"
   ]
  },
  {
   "cell_type": "code",
   "execution_count": 21,
   "metadata": {},
   "outputs": [
    {
     "ename": "LoadError",
     "evalue": "MethodError: no method matching ones(::Int64, ::Type{Int64})\nClosest candidates are:\n  ones(!Matched::Union{Integer, AbstractUnitRange}...) at array.jl:520",
     "output_type": "error",
     "traceback": [
      "MethodError: no method matching ones(::Int64, ::Type{Int64})\nClosest candidates are:\n  ones(!Matched::Union{Integer, AbstractUnitRange}...) at array.jl:520",
      "",
      "Stacktrace:",
      " [1] top-level scope at In[21]:1"
     ]
    }
   ],
   "source": [
    "ones(nworkers(), Int6)"
   ]
  },
  {
   "cell_type": "code",
   "execution_count": 28,
   "metadata": {},
   "outputs": [
    {
     "name": "stdout",
     "output_type": "stream",
     "text": [
      "      From worker 3:\t678.712641 seconds (635.94 M allocations: 210.131 GiB, 7.00% gc time)\n",
      "      From worker 4:\t687.703812 seconds (635.94 M allocations: 210.131 GiB, 6.73% gc time)\n",
      "      From worker 5:\t708.036772 seconds (632.36 M allocations: 209.969 GiB, 7.90% gc time)\n",
      "      From worker 2:\t709.146085 seconds (632.36 M allocations: 209.969 GiB, 7.88% gc time)\n",
      "709.404949 seconds (19.64 k allocations: 595.422 KiB)\n"
     ]
    },
    {
     "data": {
      "text/plain": [
       "4-element Array{Nothing,1}:\n",
       " nothing\n",
       " nothing\n",
       " nothing\n",
       " nothing"
      ]
     },
     "execution_count": 28,
     "metadata": {},
     "output_type": "execute_result"
    }
   ],
   "source": [
    "array_workers = ones(Int64, nworkers());\n",
    "\n",
    "@time solve_tree_parallel(array_workers)"
   ]
  }
 ],
 "metadata": {
  "kernelspec": {
   "display_name": "Julia 1.5.3",
   "language": "julia",
   "name": "julia-1.5"
  },
  "language_info": {
   "file_extension": ".jl",
   "mimetype": "application/julia",
   "name": "julia",
   "version": "1.5.3"
  }
 },
 "nbformat": 4,
 "nbformat_minor": 4
}
