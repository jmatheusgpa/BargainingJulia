{
 "cells": [
  {
   "cell_type": "code",
   "execution_count": 2,
   "metadata": {},
   "outputs": [
    {
     "name": "stderr",
     "output_type": "stream",
     "text": [
      "┌ Info: Precompiling FLoops [cc61a311-1640-44b5-9fba-1b764f453329]\n",
      "└ @ Base loading.jl:1278\n"
     ]
    },
    {
     "data": {
      "text/plain": [
       "solve_tree (generic function with 5 methods)"
      ]
     },
     "execution_count": 2,
     "metadata": {},
     "output_type": "execute_result"
    }
   ],
   "source": [
    "using BenchmarkTools\n",
    "using Distributed\n",
    "using FLoops\n",
    "\n",
    "\n",
    "using NBInclude\n",
    "@nbinclude(\"solve_model.ipynb\")\n"
   ]
  },
  {
   "cell_type": "markdown",
   "metadata": {},
   "source": [
    "#### Teste: gerar draws da uniforme"
   ]
  },
  {
   "cell_type": "code",
   "execution_count": 3,
   "metadata": {},
   "outputs": [
    {
     "name": "stdout",
     "output_type": "stream",
     "text": [
      "  930.100 ns (1 allocation: 7.94 KiB)\n"
     ]
    }
   ],
   "source": [
    "@btime rand(1000);"
   ]
  },
  {
   "cell_type": "code",
   "execution_count": 4,
   "metadata": {},
   "outputs": [
    {
     "name": "stdout",
     "output_type": "stream",
     "text": [
      "  2.822 μs (0 allocations: 0 bytes)\n"
     ]
    }
   ],
   "source": [
    "@btime for i in 1:1000\n",
    "    rand()\n",
    "end"
   ]
  },
  {
   "cell_type": "code",
   "execution_count": 32,
   "metadata": {},
   "outputs": [
    {
     "data": {
      "text/plain": [
       "draws (generic function with 1 method)"
      ]
     },
     "execution_count": 32,
     "metadata": {},
     "output_type": "execute_result"
    }
   ],
   "source": [
    "function draws(ndraws, ncores)\n",
    "    \n",
    "    v=0\n",
    "    \n",
    "    for n in 1:ndraws\n",
    "        v+=rand()\n",
    "    end\n",
    "    \n",
    "end   "
   ]
  },
  {
   "cell_type": "code",
   "execution_count": 33,
   "metadata": {},
   "outputs": [
    {
     "name": "stdout",
     "output_type": "stream",
     "text": [
      "  3.300 μs (0 allocations: 0 bytes)\n"
     ]
    }
   ],
   "source": [
    "@btime draws(1000, 1)"
   ]
  },
  {
   "cell_type": "code",
   "execution_count": 34,
   "metadata": {},
   "outputs": [
    {
     "data": {
      "text/plain": [
       "draws_floop (generic function with 1 method)"
      ]
     },
     "execution_count": 34,
     "metadata": {},
     "output_type": "execute_result"
    }
   ],
   "source": [
    "function draws_floop(ndraws, ncores)\n",
    "    \n",
    "    v=0\n",
    "    \n",
    "    #parece importante usar ÷, se usar \\ dá um erro\n",
    "    @floop ThreadedEx(basesize = ndraws ÷ ncores) for n in 1:ndraws\n",
    "        @reduce(v+=rand())\n",
    "    end\n",
    "end"
   ]
  },
  {
   "cell_type": "code",
   "execution_count": 36,
   "metadata": {},
   "outputs": [
    {
     "name": "stdout",
     "output_type": "stream",
     "text": [
      "  3.200 μs (0 allocations: 0 bytes)\n"
     ]
    }
   ],
   "source": [
    "@btime draws_floop(1000, 1)"
   ]
  },
  {
   "cell_type": "code",
   "execution_count": 37,
   "metadata": {},
   "outputs": [
    {
     "name": "stdout",
     "output_type": "stream",
     "text": [
      "  5.500 μs (12 allocations: 992 bytes)\n"
     ]
    }
   ],
   "source": [
    "@btime draws_floop(1000, 2)"
   ]
  },
  {
   "cell_type": "code",
   "execution_count": 38,
   "metadata": {},
   "outputs": [
    {
     "name": "stdout",
     "output_type": "stream",
     "text": [
      "  5.450 μs (28 allocations: 2.76 KiB)\n"
     ]
    }
   ],
   "source": [
    "@btime draws_floop(1000, 3)"
   ]
  },
  {
   "cell_type": "code",
   "execution_count": 39,
   "metadata": {},
   "outputs": [
    {
     "name": "stdout",
     "output_type": "stream",
     "text": [
      "  5.475 μs (28 allocations: 2.77 KiB)\n"
     ]
    }
   ],
   "source": [
    "@btime draws_floop(1000, 4)"
   ]
  },
  {
   "cell_type": "markdown",
   "metadata": {},
   "source": [
    "Conclusão: ou estou fazendo errado ou operações com rand() ficam melhores usando apenas 1 core"
   ]
  },
  {
   "cell_type": "markdown",
   "metadata": {},
   "source": [
    "#### Teste: somar valores em um loop"
   ]
  },
  {
   "cell_type": "code",
   "execution_count": 48,
   "metadata": {},
   "outputs": [
    {
     "data": {
      "text/plain": [
       "somar (generic function with 1 method)"
      ]
     },
     "execution_count": 48,
     "metadata": {},
     "output_type": "execute_result"
    }
   ],
   "source": [
    "function somar(n)\n",
    "    s=0\n",
    "    for i in 1:n\n",
    "        s+=i\n",
    "    end\n",
    "    return s\n",
    "end\n",
    "        "
   ]
  },
  {
   "cell_type": "code",
   "execution_count": 54,
   "metadata": {},
   "outputs": [
    {
     "name": "stdout",
     "output_type": "stream",
     "text": [
      "  1.399 ns (0 allocations: 0 bytes)\n"
     ]
    },
    {
     "data": {
      "text/plain": [
       "500000000500000000"
      ]
     },
     "execution_count": 54,
     "metadata": {},
     "output_type": "execute_result"
    }
   ],
   "source": [
    "@btime somar(1_000_000_000)"
   ]
  },
  {
   "cell_type": "code",
   "execution_count": 70,
   "metadata": {},
   "outputs": [],
   "source": [
    "function somar_floop(n, executor)\n",
    "    s=0\n",
    "    @floop executor for i in 1:n\n",
    "        @reduce(s+=i)\n",
    "    end\n",
    "    return s\n",
    "end\n",
    "\n",
    "\n",
    "base = 2;\n",
    "ex1 = SequentialEx(simd = Val(true));\n",
    "ex2 = ThreadedEx(basesize = base)\n",
    "ex3 = DistributedEx(threads_basesize = base);"
   ]
  },
  {
   "cell_type": "code",
   "execution_count": 71,
   "metadata": {},
   "outputs": [
    {
     "name": "stdout",
     "output_type": "stream",
     "text": [
      "  20.260 ns (0 allocations: 0 bytes)\n"
     ]
    },
    {
     "data": {
      "text/plain": [
       "55"
      ]
     },
     "execution_count": 71,
     "metadata": {},
     "output_type": "execute_result"
    }
   ],
   "source": [
    "@btime somar_floop(10, ex1)"
   ]
  },
  {
   "cell_type": "code",
   "execution_count": 72,
   "metadata": {},
   "outputs": [
    {
     "name": "stdout",
     "output_type": "stream",
     "text": [
      "  6.167 μs (44 allocations: 4.55 KiB)\n"
     ]
    },
    {
     "data": {
      "text/plain": [
       "55"
      ]
     },
     "execution_count": 72,
     "metadata": {},
     "output_type": "execute_result"
    }
   ],
   "source": [
    "@btime somar_floop(10, ex2)"
   ]
  },
  {
   "cell_type": "code",
   "execution_count": 73,
   "metadata": {},
   "outputs": [
    {
     "data": {
      "text/plain": [
       "55"
      ]
     },
     "execution_count": 73,
     "metadata": {},
     "output_type": "execute_result"
    },
    {
     "name": "stdout",
     "output_type": "stream",
     "text": [
      "  154.899 μs (190 allocations: 12.14 KiB)\n"
     ]
    }
   ],
   "source": [
    "@btime somar_floop(10, ex3)"
   ]
  },
  {
   "cell_type": "markdown",
   "metadata": {},
   "source": [
    "## Threads"
   ]
  },
  {
   "cell_type": "code",
   "execution_count": null,
   "metadata": {},
   "outputs": [],
   "source": []
  },
  {
   "cell_type": "code",
   "execution_count": 8,
   "metadata": {},
   "outputs": [
    {
     "data": {
      "text/plain": [
       "4"
      ]
     },
     "execution_count": 8,
     "metadata": {},
     "output_type": "execute_result"
    }
   ],
   "source": [
    "#mudei a variavel ambiente JULIA_NUM_THREADS no windows 10\n",
    "Threads.nthreads()"
   ]
  },
  {
   "cell_type": "code",
   "execution_count": 6,
   "metadata": {},
   "outputs": [
    {
     "name": "stdout",
     "output_type": "stream",
     "text": [
      "  5.620 μs (21 allocations: 3.42 KiB)\n"
     ]
    }
   ],
   "source": [
    "@btime @threads for i in 1:1000\n",
    "    rand()\n",
    "    end\n"
   ]
  },
  {
   "cell_type": "markdown",
   "metadata": {},
   "source": [
    "### Exemplo de rodar o código da solução do modelo"
   ]
  },
  {
   "cell_type": "code",
   "execution_count": 74,
   "metadata": {},
   "outputs": [],
   "source": [
    "#Vh/D, L/D, Dj/D\n",
    "data = [1.0, 0.25, 0.68]; \n",
    "\n",
    "#ρ, β, c0, λj\n",
    "game_parameters = [0.884, 9.84, 0.044, 0.346];"
   ]
  },
  {
   "cell_type": "markdown",
   "metadata": {},
   "source": [
    "Sem paralelizar"
   ]
  },
  {
   "cell_type": "code",
   "execution_count": 75,
   "metadata": {},
   "outputs": [
    {
     "name": "stdout",
     "output_type": "stream",
     "text": [
      "327.289926 seconds (635.93 M allocations: 210.130 GiB, 9.17% gc time)\n",
      "343.756724 seconds (632.36 M allocations: 209.969 GiB, 10.04% gc time)\n",
      "673.037577 seconds (1.27 G allocations: 420.811 GiB, 9.60% gc time)\n"
     ]
    }
   ],
   "source": [
    "@time for i in 1:2\n",
    "    solve_tree(data, game_parameters);\n",
    "end\n",
    "    "
   ]
  },
  {
   "cell_type": "markdown",
   "metadata": {},
   "source": [
    "Com paralelização"
   ]
  },
  {
   "cell_type": "code",
   "execution_count": 77,
   "metadata": {},
   "outputs": [
    {
     "name": "stdout",
     "output_type": "stream",
     "text": [
      "573.967866 seconds (1.25 G allocations: 418.378 GiB, 26.39% gc time)\n",
      "585.336963 seconds (1.26 G allocations: 419.923 GiB, 25.97% gc time)\n",
      "587.342296 seconds (1.27 G allocations: 420.467 GiB, 25.90% gc time)\n"
     ]
    }
   ],
   "source": [
    "@time @floop ThreadedEx(basesize=1) for i in 1:2\n",
    "    solve_tree(data, game_parameters);\n",
    "end"
   ]
  },
  {
   "cell_type": "code",
   "execution_count": 78,
   "metadata": {},
   "outputs": [
    {
     "name": "stdout",
     "output_type": "stream",
     "text": [
      "1101.369947 seconds1105.853144 seconds1110.221093 seconds (2.52 G allocations:  (2.51 G allocations:  (2.53 G allocations: 1107.273044 seconds (2.52 G allocations: 840.212 GiB839.012 GiB837.832 GiB839.732 GiB, 34.79% gc time), 34.99% gc time, )34.89% gc time), 34.86% gc time)\n",
      "\n",
      "\n",
      "\n",
      "1120.696898 seconds (2.53 G allocations: 840.882 GiB, 34.47% gc time)\n"
     ]
    }
   ],
   "source": [
    "@time @floop ThreadedEx(basesize=1) for i in 1:4\n",
    "    solve_tree(data, game_parameters);\n",
    "end"
   ]
  }
 ],
 "metadata": {
  "kernelspec": {
   "display_name": "Julia 1.5.3",
   "language": "julia",
   "name": "julia-1.5"
  },
  "language_info": {
   "file_extension": ".jl",
   "mimetype": "application/julia",
   "name": "julia",
   "version": "1.5.3"
  }
 },
 "nbformat": 4,
 "nbformat_minor": 4
}
