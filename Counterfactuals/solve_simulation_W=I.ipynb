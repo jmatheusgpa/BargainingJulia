{
 "cells": [
  {
   "cell_type": "markdown",
   "metadata": {},
   "source": [
    "Dou et al. (2020) model\n",
    "\n",
    "Agora em Julia versão 1.5.3\n",
    "\n",
    "This script simulates the model\n",
    "\n",
    "We will use the results of the estimation using W=Identity"
   ]
  },
  {
   "cell_type": "code",
   "execution_count": 1,
   "metadata": {},
   "outputs": [],
   "source": [
    "using LinearAlgebra, Statistics\n",
    "\n",
    "# using Distributions, Expectations, NLsolve, Roots, Random, Plots, Parameters\n",
    "\n",
    "\n",
    "using DataFrames\n",
    "using BenchmarkTools\n",
    "\n"
   ]
  },
  {
   "cell_type": "code",
   "execution_count": 2,
   "metadata": {},
   "outputs": [],
   "source": [
    "using NBInclude\n",
    "@nbinclude(\"solve_model_cf.ipynb\")\n",
    "\n",
    "#importou a função solve_tree"
   ]
  },
  {
   "cell_type": "code",
   "execution_count": 3,
   "metadata": {},
   "outputs": [],
   "source": [
    "#Vh/D, L/D, Dj/D\n",
    "data = [1.32, 0.32, 0.78]; \n",
    "\n",
    "#ρ, β, c0, λj\n",
    "game_parameters = [0.52, 22.59, 0.2, 0.01];\n",
    "\n",
    "#counterfactual parameters####\n",
    "D = Float64(1.0)\n",
    "\n",
    "#simulation of baseline model, tsym=1\n",
    "tsym = Int64(1)\n",
    "dip = Float64(0.00)\n",
    "\n",
    "additional_cost = dip * D\n",
    "ac_s = additional_cost\n",
    "ac_j = additional_cost\n",
    "\n",
    "counterfactual_parameters = [tsym, additional_cost, ac_s, ac_j];"
   ]
  },
  {
   "cell_type": "code",
   "execution_count": 4,
   "metadata": {},
   "outputs": [
    {
     "name": "stdout",
     "output_type": "stream",
     "text": [
      "  5.374993 seconds (44.49 M allocations: 921.648 MiB, 5.39% gc time)\n",
      "  8.088032 seconds (43.22 M allocations: 858.002 MiB, 1.04% gc time)\n",
      "  9.861009 seconds (43.22 M allocations: 858.002 MiB, 0.81% gc time)\n",
      "  9.313095 seconds (40.16 M allocations: 811.310 MiB, 0.77% gc time)\n",
      " 33.090234 seconds (171.13 M allocations: 3.370 GiB, 1.59% gc time)\n"
     ]
    }
   ],
   "source": [
    "s_W, j_W, Pst_array, Pjt_array, Ds, Dj = solve_tree(data, game_parameters, counterfactual_parameters);"
   ]
  },
  {
   "cell_type": "markdown",
   "metadata": {},
   "source": [
    "Simulation parameters"
   ]
  },
  {
   "cell_type": "code",
   "execution_count": 5,
   "metadata": {},
   "outputs": [],
   "source": [
    "#θs0, θj0, μ\n",
    "simulation_parameters = [45, 99, 3.11];"
   ]
  },
  {
   "cell_type": "markdown",
   "metadata": {},
   "source": [
    "### Criando funções para simular o jogo"
   ]
  },
  {
   "cell_type": "code",
   "execution_count": 6,
   "metadata": {},
   "outputs": [],
   "source": [
    "θs0, θj0, μ = simulation_parameters;\n",
    "θs0 = Int64(θs0);\n",
    "θj0 = Int64(θj0);\n",
    "\n",
    "#parameters to some functions that are similar as the ones in solve_model\n",
    "\n",
    "c0 = game_parameters[3];\n",
    "c1 = Float64(0.0015);\n",
    "\n",
    "ρ = game_parameters[1];\n",
    "λj = game_parameters[4];\n",
    "\n",
    "\n",
    "Vmax = data[1];\n",
    "L = data[2];\n",
    "Dj = data[3];\n",
    "\n",
    "D = Float64(1.0)\n",
    "Ds = D - Dj;\n"
   ]
  },
  {
   "cell_type": "code",
   "execution_count": 7,
   "metadata": {},
   "outputs": [],
   "source": [
    "#counterfactual parameters\n",
    "tsym = counterfactual_parameters[1]\n",
    "additional_cost = counterfactual_parameters[2]\n",
    "ac_s = counterfactual_parameters[3]\n",
    "ac_j = counterfactual_parameters[4];"
   ]
  },
  {
   "cell_type": "code",
   "execution_count": 8,
   "metadata": {},
   "outputs": [
    {
     "data": {
      "text/plain": [
       "update_beliefs (generic function with 1 method)"
      ]
     },
     "execution_count": 8,
     "metadata": {},
     "output_type": "execute_result"
    }
   ],
   "source": [
    "#cost function\n",
    "function Ct(t)\n",
    "    #cost at period t=0(index1) is 0\n",
    "    if(t <= 1)\n",
    "        return 0\n",
    "    else\n",
    "        return c0 * D + c1 * (t-1) * D #test to make index==1 be t==0\n",
    "    end\n",
    "end\n",
    "\n",
    "\n",
    "\n",
    "#liquidation payoffs\n",
    "\n",
    "function s_L(t, additional_cost=ac_s, Ds=Ds)\n",
    "    S_L = min(L - Ct(t) - additional_cost, Ds)\n",
    "    return max(S_L, zero(0.0))\n",
    "end\n",
    "\n",
    "function j_L(t, additional_cost=ac_j, Dj=Dj)\n",
    "    J_L = min(L - Ct(t) - additional_cost - s_L(t), Dj)\n",
    "    return max(J_L, zero(0.0))\n",
    "end\n",
    "\n",
    "\n",
    "function proposal(Pkt_array, t, hkt, lmt)\n",
    "    \n",
    "    #pkt array será sempre do propositor, quem responder às propostas apenas olhará o seu valor de continuação\n",
    "    \n",
    "    return policy, payoff_prop, payment, lm_next = Pkt_array[t, hkt, lmt, [end,end-1, 1, 2]]\n",
    "    \n",
    "end\n",
    "    \n",
    "\n",
    "#maximum value of reorganization each period\n",
    "function Vt(Vmax, ρ, t, additional_cost)\n",
    "\n",
    "    if(t <=1)\n",
    "        return Vmax - additional_cost\n",
    "    else\n",
    "        #(t-2) instead of (t-1) because we shifted the indexes in the game so as to include t==0 at index==1\n",
    "        return ρ^(t-2) * Vmax - additional_cost\n",
    "    end\n",
    "\n",
    "\n",
    "end\n",
    "\n",
    "# answer_liq\n",
    "function answer_liq(m_L, t, hm_next, payoff_prop, additional_cost, ac_s, ac_j)\n",
    "    \n",
    "    liq = (m_L(t), Vt(Vmax, ρ, t, additional_cost) * hm_next/100 - payoff_prop)\n",
    "    \n",
    "    payoff_liq, answer = findmax(liq)\n",
    "    \n",
    "    return payoff_liq, answer\n",
    "end\n",
    "\n",
    "function answer_reorg(payment, Cont_val, t, hm_next, lm_next, lk_next)\n",
    "    \n",
    "    reorg_value = (payment, Cont_val[t+1, hm_next, lm_next, lk_next])\n",
    "\n",
    "    payoff_reorg, answer = findmax(reorg_value)\n",
    "    \n",
    "    return payoff_reorg, answer\n",
    "end\n",
    "\n",
    "function update_beliefs(propositor, hk_next, hm_next, lk_next, lm_next, t, tsym)\n",
    "    \n",
    "    if(t<=tsym)\n",
    "        \n",
    "        #t <= tsym, there is symmetric information\n",
    "        \n",
    "         if(propositor==\"s\")\n",
    "            hst = hk_next\n",
    "            lst = hk_next\n",
    "\n",
    "            hjt = hm_next\n",
    "            ljt = hm_next\n",
    "\n",
    "        else\n",
    "            hst = hm_next\n",
    "            lst = hm_next\n",
    "\n",
    "            hjt = hk_next\n",
    "            ljt = hk_next\n",
    "        end\n",
    "        \n",
    "    else\n",
    "        \n",
    "        #t > tsym, there is asymmetric information\n",
    "\n",
    "\n",
    "        if(propositor==\"s\")\n",
    "            hst = hk_next\n",
    "            lst = lk_next\n",
    "\n",
    "            hjt = hm_next\n",
    "            ljt = lm_next\n",
    "\n",
    "        else\n",
    "            hst = hm_next\n",
    "            lst = lm_next\n",
    "\n",
    "            hjt = hk_next\n",
    "            ljt = lk_next\n",
    "        end\n",
    "    end\n",
    "\n",
    "    \n",
    "    return hst, lst, hjt, ljt\n",
    "end\n",
    "\n",
    "        "
   ]
  },
  {
   "cell_type": "code",
   "execution_count": 9,
   "metadata": {},
   "outputs": [
    {
     "data": {
      "text/plain": [
       "draw_beta (generic function with 3 methods)"
      ]
     },
     "execution_count": 9,
     "metadata": {},
     "output_type": "execute_result"
    }
   ],
   "source": [
    "#código para tirar um draw da beta\n",
    "\n",
    "function draw_beta(hkt, β=game_parameters[2], grid=100)\n",
    "\n",
    "    u = rand()\n",
    "\n",
    "    if(hkt == 100)\n",
    "        \n",
    "        return 100\n",
    "\n",
    "    else\n",
    "        \n",
    "        x = 1.0 - exp(1.0/β * (log(1.0 - u) + β * log(1.0 - hkt/grid)))\n",
    "        x = round(x * 100, digits=0)\n",
    "#         return Int64(x * 100) #to convert in an integer\n",
    "        return Int64(x)\n",
    "        \n",
    "    end\n",
    "end\n",
    "\n",
    "        \n",
    "\n",
    "# @code_warntype draw_beta(10)\n",
    "\n"
   ]
  },
  {
   "cell_type": "code",
   "execution_count": 10,
   "metadata": {},
   "outputs": [],
   "source": [
    "function choose_parameters(propositor, hst, lst, hjt, ljt)\n",
    "    \n",
    "    if(propositor==\"s\")\n",
    "        \n",
    "        Pkt_array = Pst_array\n",
    "        Cont_val = j_W\n",
    "        prop_index = 1\n",
    "        respondent_index = 2 #índice de j, para organizar o payoff\n",
    "        m_L = j_L\n",
    "\n",
    "        hkt = hst\n",
    "        lkt = lst\n",
    "        \n",
    "        hmt = hjt\n",
    "        lmt = ljt\n",
    "\n",
    "\n",
    "        lk_next = hkt\n",
    "\n",
    "        hk_next = draw_beta(hkt)\n",
    "        hm_next = draw_beta(hmt)\n",
    "        \n",
    "    elseif(propositor==\"j\")\n",
    "        Pkt_array = Pjt_array\n",
    "        Cont_val = s_W\n",
    "        prop_index = 2\n",
    "        respondent_index = 1\n",
    "        m_L = s_L\n",
    "\n",
    "        hkt = hjt\n",
    "        lkt = ljt\n",
    "        \n",
    "        hmt = hst\n",
    "        lmt = lst\n",
    "\n",
    "\n",
    "        lk_next = hkt\n",
    "\n",
    "\n",
    "        hk_next = draw_beta(hkt)\n",
    "        hm_next = draw_beta(hmt)\n",
    "\n",
    "    else\n",
    "        \n",
    "        println(\"error: propositor not valid\")\n",
    "        \n",
    "    end\n",
    "    \n",
    "    return Pkt_array, Cont_val, prop_index, respondent_index, m_L, hkt, lkt, hmt, lmt, lk_next, hk_next, hm_next\n",
    "end\n",
    "\n",
    "\n",
    "\n",
    "\n",
    "#test\n",
    "Hs0 = 30\n",
    "Hj0 = 28\n",
    "\n",
    "\n",
    "hst = Hs0\n",
    "hjt = Hj0\n",
    "\n",
    "#assumindo que lower bounds nos períodos iniciais são as próprias habilidades iniciais\n",
    "lst = hst\n",
    "ljt = hjt\n",
    "\n",
    "\n",
    "\n",
    "\n",
    "choose_parameters(\"s\", hst, lst, hjt, ljt);\n",
    "    \n",
    "    "
   ]
  },
  {
   "cell_type": "code",
   "execution_count": 11,
   "metadata": {},
   "outputs": [
    {
     "data": {
      "text/plain": [
       "simulate_game (generic function with 7 methods)"
      ]
     },
     "execution_count": 11,
     "metadata": {},
     "output_type": "execute_result"
    }
   ],
   "source": [
    "function simulate_game(Hs0, Hj0, μ, λj, counterfactual_parameters, s_W=s_W, j_W=j_W, Pst_array=Pst_array, Pjt_array=Pjt_array, t=1, grid=100)\n",
    "    \n",
    "    hst = Hs0\n",
    "    hjt = Hj0\n",
    "\n",
    "    #assumindo que lower bounds nos períodos iniciais são as próprias habilidades iniciais\n",
    "    lst = hst\n",
    "    ljt = hjt\n",
    "    \n",
    "    result = zeros(5);\n",
    "    \n",
    "    #number of observed proposals\n",
    "    observed_proposals = 0.0\n",
    "    \n",
    "    \n",
    "    #recovering \"T+1\" from s_W \n",
    "    T = size(s_W,1)\n",
    "    \n",
    "    \n",
    "    #counterfactual parameters\n",
    "    tsym = counterfactual_parameters[1]\n",
    "    additional_cost = counterfactual_parameters[2]\n",
    "    ac_s = counterfactual_parameters[3]\n",
    "    ac_j = counterfactual_parameters[4];\n",
    "    \n",
    "    \n",
    "    \n",
    "    while(result[1]==0.0 && t < T)\n",
    "        \n",
    "        \n",
    "        u = rand()\n",
    "\n",
    "        if(u < λj)\n",
    "            propositor = \"j\"\n",
    "\n",
    "        else\n",
    "            propositor = \"s\"\n",
    "\n",
    "        end\n",
    "\n",
    "        \n",
    "        #setting the default variables according to the propositor\n",
    "        Pkt_array, Cont_val, prop_index, respondent_index, m_L, hkt, lkt, hmt, lmt, lk_next, hk_next, hm_next = choose_parameters(propositor, hst, lst, hjt, ljt)\n",
    "        \n",
    "        \n",
    "        #proposal ####\n",
    "        policy, payoff_prop, payment, lm_next = proposal(Pkt_array, t, hkt, lmt)\n",
    "\n",
    "        #lm_next is the update of the adversary's lower bound\n",
    "        if(lm_next>=grid+1 || policy!= 3.0) #para evitar update de lowerbound quando proponente não propõe reorg\n",
    "            lm_next = lmt\n",
    "        else\n",
    "            lm_next = Int64(lm_next)\n",
    "        end\n",
    "        \n",
    "        \n",
    "        \n",
    "        if(policy==3.0)\n",
    "            \n",
    "            observed_proposals += 1.0\n",
    "    \n",
    "            payoff_respondent, answer = answer_reorg(payment, Cont_val, t, hm_next, lm_next, lk_next)\n",
    "\n",
    "\n",
    "            if(answer==1.0)\n",
    "\n",
    "                result[prop_index] = payoff_prop\n",
    "                result[respondent_index] = payoff_respondent\n",
    "                result[3] = 3.0\n",
    "                result[4] = t\n",
    "                result[5] = observed_proposals\n",
    "\n",
    "            else\n",
    "                \n",
    "                t+=1\n",
    "\n",
    "                hst, lst, hjt, ljt = update_beliefs(propositor, hk_next, hm_next, lk_next, lm_next, t, tsym)\n",
    "            end\n",
    "\n",
    "        elseif(policy==2.0)\n",
    "            \n",
    "            t+=1\n",
    "            \n",
    "            hst, lst, hjt, ljt = update_beliefs(propositor, hk_next, hm_next, lk_next, lm_next, t, tsym)\n",
    "            \n",
    "            \n",
    "\n",
    "        else      \n",
    "            #(policy==1.0)\n",
    "            \n",
    "            observed_proposals += 1.0\n",
    "\n",
    "            payoff_respondent, answer = answer_liq(m_L, t, hm_next, payoff_prop, additional_cost, ac_s, ac_j)\n",
    "\n",
    "            if(answer==1.0)\n",
    "\n",
    "                result[prop_index] = payoff_prop\n",
    "                result[respondent_index] = payoff_respondent\n",
    "                result[3] = 1.0\n",
    "                result[4] = t\n",
    "                result[5] = observed_proposals\n",
    "\n",
    "            else\n",
    "\n",
    "                result[prop_index] = payoff_prop\n",
    "                result[respondent_index] = payoff_respondent\n",
    "                result[3] = 3.0\n",
    "                result[4] = t\n",
    "                result[5] = observed_proposals\n",
    "\n",
    "\n",
    "            end\n",
    "        end\n",
    "\n",
    "\n",
    "        if(t==T)\n",
    "            \n",
    "            result[1] = s_W[T, 1, 1, 1]#todos os valores finais de S são iguais, então acessarei o índice 1\n",
    "            result[2] = j_W[T, 1, 1, 1]\n",
    "            result[3] = 1.0\n",
    "            result[4] = t\n",
    "            result[5] = max(observed_proposals, 1.0) #to avoid observed_proposals==0.0\n",
    "            \n",
    "        end\n",
    "        \n",
    "\n",
    "\n",
    "\n",
    "\n",
    "    end\n",
    "    \n",
    "    \n",
    "    return result\n",
    "end\n",
    "\n",
    "        \n",
    "        \n",
    "#precisa colocar uma condição IF aqui para caso o jogo vá até o último período?\n",
    "    "
   ]
  },
  {
   "cell_type": "code",
   "execution_count": 12,
   "metadata": {},
   "outputs": [],
   "source": [
    "# simulate_game(θs0, θj0, μ, λj, s_W, j_W, Pst_array, Pjt_array)"
   ]
  },
  {
   "cell_type": "code",
   "execution_count": 13,
   "metadata": {},
   "outputs": [],
   "source": [
    "function loop_simulations(S, N, θs0, θj0, μ, λj, counterfactual_parameters, s_W=s_W, j_W=j_W, Pst_array=Pst_array, Pjt_array=Pjt_array)\n",
    "    \n",
    "    #S is the number of simulations\n",
    "    #N is the number of observations\n",
    "    \n",
    "    #no futuro os argumentos podem ser arrays de arrays, assim ele faz o loop para cada cluster\n",
    "    \n",
    "    Results = zeros(S, N, 7)\n",
    "\n",
    "    #últimas entradas de Results são os valores das dívidas\n",
    "    Results[:,:, end-1] .= Dj\n",
    "    Results[:,:, end] .= Ds\n",
    "\n",
    "\n",
    "    for s in 1:S\n",
    "        for n in 1:N\n",
    "            Results[s,n,1:5] .= simulate_game(θs0, θj0, μ, λj, counterfactual_parameters)\n",
    "        end\n",
    "    end\n",
    "\n",
    "    return Results\n",
    "    \n",
    "end\n",
    "\n",
    "    \n",
    "# loop_simulations(40, 75, θs0, θj0, μ, λj);"
   ]
  },
  {
   "cell_type": "code",
   "execution_count": 14,
   "metadata": {},
   "outputs": [
    {
     "data": {
      "text/plain": [
       "simulate_moments (generic function with 5 methods)"
      ]
     },
     "execution_count": 14,
     "metadata": {},
     "output_type": "execute_result"
    }
   ],
   "source": [
    "function simulate_moments(S, N, θs0, θj0, μ, λj, counterfactual_parameters, s_W=s_W, j_W=j_W, Pst_array=Pst_array, Pjt_array=Pjt_array)\n",
    "    \n",
    "    \n",
    "    Results = loop_simulations(S, N, θs0, θj0, μ, λj, counterfactual_parameters)\n",
    "    \n",
    "    \n",
    "    Moments = zeros(S, 8)\n",
    "    \n",
    "    \n",
    "    for s in 1:S\n",
    "\n",
    "            DF = DataFrame()\n",
    "            DF.payoff_s = Results[s,:,1];\n",
    "            DF.payoff_j = Results[s,:,2];\n",
    "            DF.out = Results[s,:,3];\n",
    "            DF.t = Results[s,:,4];\n",
    "            DF.observed_proposals = Results[s,:,5];\n",
    "            DF.Dj = Results[s,:,6];\n",
    "            DF.Ds = Results[s,:,7];\n",
    "\n",
    "\n",
    "            DF.outcome = ifelse.(DF.out .==3.0, \"R\", \"L\");\n",
    "\n",
    "\n",
    "            #desfazendo o deslocamento no índice de t\n",
    "            DF.t = DF.t .- 1.0;\n",
    "\n",
    "            # DF.incourt = ifelse.(DF.t .> 0.0, \"incourt\", \"precourt\");\n",
    "\n",
    "            INCOURT = filter(DF -> DF.t .> 0.0, DF);\n",
    "            PRECOURT = filter(DF -> DF.t .<= 0.0, DF);\n",
    "\n",
    "            PRECOURT_REORG = filter(PRECOURT -> PRECOURT.outcome .== \"R\", PRECOURT)\n",
    "            INCOURT_REORG = filter(INCOURT -> INCOURT.outcome .== \"R\", INCOURT)\n",
    "\n",
    "            #cálculo dos momentos\n",
    "            #1. avg log number of months between observed proposals incourt\n",
    "\n",
    "            mm1 = INCOURT\n",
    "            mm1 = log.(mm1.t .* μ ./ mm1.observed_proposals)\n",
    "            mm1 = mean(mm1)\n",
    "\n",
    "            #2. fraction reorganized given that the case went into court\n",
    "\n",
    "            mm2 = INCOURT\n",
    "            mm2 = size(filter(mm2 -> mm2.outcome .== \"R\", mm2),1)/ size(mm2,1)\n",
    "\n",
    "            #3. ln duration of court cases in months\n",
    "\n",
    "            mm3 = INCOURT\n",
    "            mm3 = filter(mm3 -> mm3.t .> 0.0, mm3) #removendo os casos 0 para não poluir a média\n",
    "            mm3.t = mm3.t .* μ\n",
    "            mm3 = mean(log.(mm3.t)) #log here uses exp as base, so it's the same as ln\n",
    "\n",
    "            #4. fraction of cases incourt\n",
    "            mm4 = size(INCOURT,1) / size(DF, 1)\n",
    "\n",
    "            #5. avg recovery rate for senior given precourt REORGANIZATION\n",
    "\n",
    "            #aqui nós temos Ds, então é mais fácil. Preciso automatizar isso no código quando for tudo escalado\n",
    "\n",
    "            mm5 = PRECOURT_REORG\n",
    "            mm5.R_s = mm5.payoff_s ./ mm5.Ds\n",
    "            mm5 = mean(mm5.R_s)\n",
    "\n",
    "            #if there are no precourt cases, it will return zero\n",
    "            if(isnan(mm5))\n",
    "                mm5 = zero(0.0)\n",
    "            end\n",
    "\n",
    "\n",
    "            #6. avg recovery rate for junior given precourt REORGANIZATION\n",
    "\n",
    "            #aqui nós temos Ds, então é mais fácil. Preciso automatizar isso no código quando for tudo escalado\n",
    "\n",
    "            mm6 = PRECOURT_REORG\n",
    "            mm6.R_j = mm6.payoff_j ./ mm6.Dj\n",
    "            mm6 = mean(mm6.R_j)\n",
    "\n",
    "            #if there are no precourt cases, it will return zero\n",
    "            if(isnan(mm6))\n",
    "                mm6 = zero(0.0)\n",
    "            end\n",
    "\n",
    "\n",
    "            #7. junior avg fraction gain given incourt REORGANIZATION\n",
    "\n",
    "            mm7 = INCOURT_REORG\n",
    "            mm7 = mean(mm7.payoff_j ./ (mm7.payoff_j .+ mm7.payoff_s )) \n",
    "\n",
    "            #8. total recovery rate given incourt REORGANIZATION\n",
    "\n",
    "            mm8 = INCOURT_REORG\n",
    "            mm8 = mean( mm8.payoff_s .+ mm8.payoff_j)\n",
    "\n",
    "\n",
    "\n",
    "            Moments[s,:] .= [mm1, mm2, mm3, mm4, mm5, mm6, mm7, mm8]\n",
    "\n",
    "            #if there are no INCOURT or no PRECOURT cases, it will return NaN\n",
    "            #thus, we replace it by zero\n",
    "            Moments[s,:] .= replace!(Moments[s,:], NaN=> zero(0.0))\n",
    "\n",
    "        end\n",
    "    return vec(mean(Moments, dims=1))\n",
    "end"
   ]
  },
  {
   "cell_type": "code",
   "execution_count": 15,
   "metadata": {},
   "outputs": [],
   "source": [
    "using Random"
   ]
  },
  {
   "cell_type": "code",
   "execution_count": 16,
   "metadata": {},
   "outputs": [],
   "source": [
    "Random.seed!(123);"
   ]
  },
  {
   "cell_type": "code",
   "execution_count": 17,
   "metadata": {},
   "outputs": [
    {
     "data": {
      "text/plain": [
       "8-element Array{Float64,1}:\n",
       " 0.7913410679678007\n",
       " 1.0\n",
       " 2.0439931603666666\n",
       " 0.9920454545454545\n",
       " 0.42052405405405413\n",
       " 0.3670327319143748\n",
       " 0.7396036809070171\n",
       " 0.5009733693532986"
      ]
     },
     "execution_count": 17,
     "metadata": {},
     "output_type": "execute_result"
    }
   ],
   "source": [
    "#test\n",
    "S = 40\n",
    "N = 66\n",
    "\n",
    "\n",
    "simulated_moments = simulate_moments(S, N, θs0, θj0, μ, λj, counterfactual_parameters)"
   ]
  },
  {
   "cell_type": "markdown",
   "metadata": {},
   "source": [
    "Comparing with the actual data moments"
   ]
  },
  {
   "cell_type": "code",
   "execution_count": 18,
   "metadata": {},
   "outputs": [],
   "source": [
    "#data_moments\n",
    "data_moments = [0.728, 0.843, 2.76, 0.969, 0.6235, 0.5569, 0.773, 0.497];"
   ]
  },
  {
   "cell_type": "code",
   "execution_count": 19,
   "metadata": {},
   "outputs": [
    {
     "data": {
      "text/plain": [
       "error_vector (generic function with 1 method)"
      ]
     },
     "execution_count": 19,
     "metadata": {},
     "output_type": "execute_result"
    }
   ],
   "source": [
    "function error_vector(data_moments, simulated_moments)\n",
    "    #two arrays with the data moments and the simulated moments\n",
    "    \n",
    "# #     return (simulated_moments .- data_moments) ./ data_moments\n",
    "#     \n",
    "    return (simulated_moments .- data_moments)\n",
    "    \n",
    "end"
   ]
  },
  {
   "cell_type": "code",
   "execution_count": 20,
   "metadata": {},
   "outputs": [
    {
     "data": {
      "text/plain": [
       "8-element Array{Float64,1}:\n",
       "  0.0633410679678007\n",
       "  0.15700000000000003\n",
       " -0.7160068396333332\n",
       "  0.02304545454545448\n",
       " -0.20297594594594592\n",
       " -0.18986726808562515\n",
       " -0.03339631909298291\n",
       "  0.003973369353298617"
      ]
     },
     "execution_count": 20,
     "metadata": {},
     "output_type": "execute_result"
    }
   ],
   "source": [
    "error_vector(data_moments, simulated_moments)"
   ]
  },
  {
   "cell_type": "markdown",
   "metadata": {},
   "source": [
    "Derivative of moments w.r.t. parameters"
   ]
  },
  {
   "cell_type": "code",
   "execution_count": 21,
   "metadata": {},
   "outputs": [
    {
     "data": {
      "text/plain": [
       "3-element Array{Float64,1}:\n",
       " 45.0\n",
       " 99.0\n",
       "  3.11"
      ]
     },
     "execution_count": 21,
     "metadata": {},
     "output_type": "execute_result"
    }
   ],
   "source": [
    "game_parameters\n",
    "simulation_parameters"
   ]
  },
  {
   "cell_type": "markdown",
   "metadata": {},
   "source": [
    "Derivative w.r.t. to $\\rho$"
   ]
  },
  {
   "cell_type": "code",
   "execution_count": 22,
   "metadata": {},
   "outputs": [
    {
     "data": {
      "text/plain": [
       "0.53"
      ]
     },
     "execution_count": 22,
     "metadata": {},
     "output_type": "execute_result"
    }
   ],
   "source": [
    "#changing from 0.52 to 0.53\n",
    "game_parameters[1] = 0.53"
   ]
  },
  {
   "cell_type": "code",
   "execution_count": 23,
   "metadata": {},
   "outputs": [
    {
     "data": {
      "text/plain": [
       "4-element Array{Float64,1}:\n",
       "  0.53\n",
       " 22.59\n",
       "  0.2\n",
       "  0.01"
      ]
     },
     "execution_count": 23,
     "metadata": {},
     "output_type": "execute_result"
    }
   ],
   "source": [
    "game_parameters"
   ]
  },
  {
   "cell_type": "code",
   "execution_count": 24,
   "metadata": {},
   "outputs": [
    {
     "name": "stdout",
     "output_type": "stream",
     "text": [
      "  4.583231 seconds (43.22 M allocations: 858.002 MiB, 2.27% gc time)\n",
      "  7.898391 seconds (43.22 M allocations: 858.002 MiB, 1.44% gc time)\n",
      "  8.911555 seconds (43.22 M allocations: 858.002 MiB, 1.35% gc time)\n",
      "  9.133704 seconds (40.16 M allocations: 811.310 MiB, 1.20% gc time)\n",
      " 30.837155 seconds (169.82 M allocations: 3.306 GiB, 1.45% gc time)\n"
     ]
    }
   ],
   "source": [
    "s_W, j_W, Pst_array, Pjt_array, Ds, Dj = solve_tree(data, game_parameters, counterfactual_parameters);"
   ]
  },
  {
   "cell_type": "code",
   "execution_count": 25,
   "metadata": {},
   "outputs": [],
   "source": [
    "θs0, θj0, μ = simulation_parameters;\n",
    "θs0 = Int64(θs0);\n",
    "θj0 = Int64(θj0);\n",
    "\n",
    "λj = game_parameters[4];"
   ]
  },
  {
   "cell_type": "code",
   "execution_count": 26,
   "metadata": {},
   "outputs": [
    {
     "data": {
      "text/plain": [
       "8-element Array{Float64,1}:\n",
       " 0.8468760916818384\n",
       " 1.0\n",
       " 1.9927716835969727\n",
       " 0.9928030303030303\n",
       " 0.41644513513513515\n",
       " 0.4049620840856666\n",
       " 0.7602188530966536\n",
       " 0.5431488406937196"
      ]
     },
     "execution_count": 26,
     "metadata": {},
     "output_type": "execute_result"
    }
   ],
   "source": [
    "new_simulated_moments = simulate_moments(S, N, θs0, θj0, μ, λj, counterfactual_parameters)"
   ]
  },
  {
   "cell_type": "code",
   "execution_count": 27,
   "metadata": {},
   "outputs": [
    {
     "data": {
      "text/plain": [
       "8-element Array{Float64,1}:\n",
       "  0.055535023714037735\n",
       "  0.0\n",
       " -0.05122147676969391\n",
       "  0.0007575757575758457\n",
       " -0.004078918918918983\n",
       "  0.037929352171291786\n",
       "  0.020615172189636488\n",
       "  0.04217547134042099"
      ]
     },
     "execution_count": 27,
     "metadata": {},
     "output_type": "execute_result"
    }
   ],
   "source": [
    "new_simulated_moments - simulated_moments"
   ]
  },
  {
   "cell_type": "code",
   "execution_count": 28,
   "metadata": {},
   "outputs": [
    {
     "data": {
      "text/plain": [
       "4-element Array{Float64,1}:\n",
       " 0.0053\n",
       " 0.2259\n",
       " 0.002\n",
       " 0.0001"
      ]
     },
     "execution_count": 28,
     "metadata": {},
     "output_type": "execute_result"
    }
   ],
   "source": [
    "game_parameters * 0.01"
   ]
  },
  {
   "cell_type": "code",
   "execution_count": 29,
   "metadata": {},
   "outputs": [
    {
     "data": {
      "text/plain": [
       "3-element Array{Float64,1}:\n",
       " 0.45\n",
       " 0.99\n",
       " 0.0311"
      ]
     },
     "execution_count": 29,
     "metadata": {},
     "output_type": "execute_result"
    }
   ],
   "source": [
    "simulation_parameters * 0.01"
   ]
  },
  {
   "cell_type": "code",
   "execution_count": 30,
   "metadata": {},
   "outputs": [
    {
     "data": {
      "text/plain": [
       "derivative_moments (generic function with 1 method)"
      ]
     },
     "execution_count": 30,
     "metadata": {},
     "output_type": "execute_result"
    }
   ],
   "source": [
    "#calculando a derivada em relação a ρ\n",
    "\n",
    "function derivative_moments(S, N, game_parameters, simulation_parameters, counterfactual_parameters, simulated_moments)\n",
    "    \n",
    "    \n",
    "    P = size(game_parameters,1)+size(simulation_parameters,1)\n",
    "    M = size(simulated_moments,1)\n",
    "    D = zeros(M, P)\n",
    "    \n",
    "    estimated_game_parameters = game_parameters\n",
    "    estimated_simulation_parameters = simulation_parameters\n",
    "    \n",
    "    #delta for each parameter\n",
    "    #approximately 1% or the lowest decimal point\n",
    "    #[game_parameters, simulation_parameters]\n",
    "    delta = [0.01, 0.22, 0.002, 0.01, 1.0, 1.0, 0.03]\n",
    "    \n",
    "    for i in 1:P\n",
    "        if(i<=size(game_parameters,1))\n",
    "            game_parameters = copy(estimated_game_parameters)\n",
    "            \n",
    "            game_parameters[i] = game_parameters[i] + delta[i]\n",
    "            \n",
    "        else\n",
    "            simulation_parameters = copy(estimated_simulation_parameters)\n",
    "            simulation_parameters[i-size(game_parameters,1)] = simulation_parameters[i-size(game_parameters,1)] + delta[i]\n",
    "            \n",
    "            \n",
    "        end\n",
    "        \n",
    "    \n",
    "        θs0, θj0, μ = simulation_parameters;\n",
    "        θs0 = Int64(round(θs0, digits=0));\n",
    "        θj0 = Int64(round(θj0, digits=0));\n",
    "\n",
    "        λj = game_parameters[4];\n",
    "\n",
    "        s_W, j_W, Pst_array, Pjt_array, Ds, Dj = solve_tree(data, game_parameters, counterfactual_parameters);\n",
    "        new_simulated_moments = simulate_moments(S, N, θs0, θj0, μ, λj, counterfactual_parameters)\n",
    "        \n",
    "        D[:, i] = new_simulated_moments - simulated_moments\n",
    "        \n",
    "    end\n",
    "    \n",
    "    \n",
    "    \n",
    "    return D\n",
    "    \n",
    "end\n"
   ]
  },
  {
   "cell_type": "code",
   "execution_count": 31,
   "metadata": {},
   "outputs": [
    {
     "name": "stdout",
     "output_type": "stream",
     "text": [
      "  5.064712 seconds (43.22 M allocations: 858.002 MiB, 6.22% gc time)\n",
      "  8.142379 seconds (43.22 M allocations: 858.002 MiB, 1.28% gc time)\n",
      "  8.929732 seconds (43.22 M allocations: 858.002 MiB, 1.14% gc time)\n",
      "  9.407681 seconds (40.16 M allocations: 811.310 MiB, 1.06% gc time)\n",
      " 31.772078 seconds (169.82 M allocations: 3.306 GiB, 1.95% gc time)\n",
      "  4.722656 seconds (43.22 M allocations: 858.002 MiB, 3.22% gc time)\n",
      "  8.001295 seconds (43.22 M allocations: 858.002 MiB, 1.36% gc time)\n",
      "  8.994210 seconds (43.22 M allocations: 858.002 MiB, 1.27% gc time)\n",
      "  9.309080 seconds (40.16 M allocations: 811.310 MiB, 1.28% gc time)\n",
      " 31.179673 seconds (169.82 M allocations: 3.306 GiB, 1.58% gc time)\n",
      "  4.598813 seconds (43.22 M allocations: 858.002 MiB, 2.20% gc time)\n",
      "  7.875185 seconds (43.22 M allocations: 858.002 MiB, 1.78% gc time)\n",
      "  8.976042 seconds (43.22 M allocations: 858.002 MiB, 1.44% gc time)\n",
      "  9.233771 seconds (40.16 M allocations: 811.310 MiB, 1.09% gc time)\n",
      " 30.930084 seconds (169.82 M allocations: 3.306 GiB, 1.52% gc time)\n",
      "  4.856354 seconds (43.22 M allocations: 858.002 MiB, 5.77% gc time)\n",
      "  8.187868 seconds (43.22 M allocations: 858.002 MiB, 1.44% gc time)\n",
      "  9.470339 seconds (43.22 M allocations: 858.002 MiB, 1.29% gc time)\n",
      "  9.404487 seconds (40.16 M allocations: 811.310 MiB, 1.22% gc time)\n",
      " 32.387584 seconds (169.82 M allocations: 3.306 GiB, 1.96% gc time)\n",
      "  4.607946 seconds (43.22 M allocations: 858.002 MiB, 4.28% gc time)\n",
      "  8.071273 seconds (43.22 M allocations: 858.002 MiB, 1.43% gc time)\n",
      "  9.507002 seconds (43.22 M allocations: 858.002 MiB, 1.16% gc time)\n",
      "  9.181593 seconds (40.16 M allocations: 811.310 MiB, 1.06% gc time)\n",
      " 31.483237 seconds (169.82 M allocations: 3.306 GiB, 1.65% gc time)\n",
      "  4.698283 seconds (43.22 M allocations: 858.002 MiB, 2.34% gc time)\n",
      "  7.849586 seconds (43.22 M allocations: 858.002 MiB, 1.37% gc time)\n",
      "  9.339479 seconds (43.22 M allocations: 858.002 MiB, 1.21% gc time)\n",
      "  9.328088 seconds (40.16 M allocations: 811.310 MiB, 1.32% gc time)\n",
      " 31.484131 seconds (169.82 M allocations: 3.306 GiB, 1.44% gc time)\n",
      "  4.945209 seconds (43.22 M allocations: 858.002 MiB, 2.22% gc time)\n",
      "  8.037862 seconds (43.22 M allocations: 858.002 MiB, 1.66% gc time)\n",
      "  9.462333 seconds (43.22 M allocations: 858.002 MiB, 1.33% gc time)\n",
      "  9.143548 seconds (40.16 M allocations: 811.310 MiB, 1.11% gc time)\n",
      " 31.909162 seconds (169.82 M allocations: 3.306 GiB, 1.47% gc time)\n"
     ]
    },
    {
     "data": {
      "text/plain": [
       "8×7 Array{Float64,2}:\n",
       "  0.0515188    0.0493572   0.0557503   …  -0.0842709   0.0660739\n",
       "  0.0          0.0         0.0             0.0         0.0\n",
       " -0.0594556   -0.0542616  -0.0501574      -0.233582   -0.048092\n",
       " -0.00113636   0.0        -0.00340909     -0.0106061  -0.00795455\n",
       "  0.144651     0.0256672   0.23389         0.391938    0.293382\n",
       "  0.182559     0.0668552   0.269336    …   0.458453    0.327188\n",
       "  0.0238279    0.0231585   0.0198318       0.0572709   0.0186821\n",
       "  0.0482291    0.0450781   0.0408163       0.205444    0.0425594"
      ]
     },
     "execution_count": 31,
     "metadata": {},
     "output_type": "execute_result"
    }
   ],
   "source": [
    "D = derivative_moments(S, N, game_parameters, simulation_parameters, counterfactual_parameters, simulated_moments)"
   ]
  },
  {
   "cell_type": "code",
   "execution_count": null,
   "metadata": {},
   "outputs": [],
   "source": []
  }
 ],
 "metadata": {
  "kernelspec": {
   "display_name": "Julia 1.5.3",
   "language": "julia",
   "name": "julia-1.5"
  },
  "language_info": {
   "file_extension": ".jl",
   "mimetype": "application/julia",
   "name": "julia",
   "version": "1.5.3"
  }
 },
 "nbformat": 4,
 "nbformat_minor": 4
}
