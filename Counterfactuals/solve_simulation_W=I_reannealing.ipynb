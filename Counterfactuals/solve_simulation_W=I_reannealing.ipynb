{
 "cells": [
  {
   "cell_type": "markdown",
   "metadata": {},
   "source": [
    "Dou et al. (2020) model\n",
    "\n",
    "Agora em Julia versão 1.5.3\n",
    "\n",
    "This script simulates the model\n",
    "\n",
    "We will use the results of the estimation using W=Identity"
   ]
  },
  {
   "cell_type": "code",
   "execution_count": 2,
   "metadata": {},
   "outputs": [],
   "source": [
    "using LinearAlgebra, Statistics\n",
    "\n",
    "# using Distributions, Expectations, NLsolve, Roots, Random, Plots, Parameters\n",
    "\n",
    "\n",
    "using DataFrames\n",
    "using BenchmarkTools\n",
    "\n"
   ]
  },
  {
   "cell_type": "code",
   "execution_count": 3,
   "metadata": {},
   "outputs": [],
   "source": [
    "using NBInclude\n",
    "@nbinclude(\"solve_model_cf.ipynb\")\n",
    "\n",
    "#importou a função solve_tree"
   ]
  },
  {
   "cell_type": "code",
   "execution_count": 1,
   "metadata": {},
   "outputs": [],
   "source": [
    "#  end of cycle = 600, g = [0.884, 8.87, 0.31, 0.01], s = [41.0, 100.0, 1.85], fc = 0.07544662517643264\n",
    "# 355350.652183 seconds (36.70 M allocations: 2.369 GiB, 0.00% gc time)"
   ]
  },
  {
   "cell_type": "code",
   "execution_count": 4,
   "metadata": {},
   "outputs": [],
   "source": [
    "#Vh/D, L/D, Dj/D\n",
    "data = [1.32, 0.32, 0.78]; \n",
    "\n",
    "#ρ, β, c0, λj\n",
    "game_parameters = [0.884, 8.87, 0.31, 0.01];\n",
    "\n",
    "#counterfactual parameters####\n",
    "D = Float64(1.0)\n",
    "\n",
    "#simulation of baseline model, tsym=1\n",
    "tsym = Int64(1)\n",
    "dip = Float64(0.00)\n",
    "\n",
    "additional_cost = dip * D\n",
    "ac_s = additional_cost\n",
    "ac_j = additional_cost\n",
    "\n",
    "counterfactual_parameters = [tsym, additional_cost, ac_s, ac_j];"
   ]
  },
  {
   "cell_type": "code",
   "execution_count": 5,
   "metadata": {},
   "outputs": [
    {
     "name": "stdout",
     "output_type": "stream",
     "text": [
      "  4.729179 seconds (44.49 M allocations: 921.645 MiB, 6.80% gc time)\n",
      "  7.681522 seconds (43.22 M allocations: 858.002 MiB, 1.73% gc time)\n",
      "  8.107171 seconds (43.22 M allocations: 858.002 MiB, 1.26% gc time)\n",
      "  8.515104 seconds (43.22 M allocations: 858.002 MiB, 1.67% gc time)\n",
      "  8.736187 seconds (43.22 M allocations: 858.002 MiB, 1.19% gc time)\n",
      "  9.534149 seconds (43.22 M allocations: 858.002 MiB, 1.36% gc time)\n",
      "  9.800692 seconds (43.22 M allocations: 858.002 MiB, 1.21% gc time)\n",
      " 10.109784 seconds (43.22 M allocations: 858.002 MiB, 1.30% gc time)\n",
      "  9.755481 seconds (43.22 M allocations: 858.002 MiB, 1.08% gc time)\n",
      "  9.891919 seconds (43.22 M allocations: 858.002 MiB, 1.32% gc time)\n",
      " 10.189103 seconds (43.22 M allocations: 858.002 MiB, 1.11% gc time)\n",
      " 10.083914 seconds (43.22 M allocations: 858.002 MiB, 1.21% gc time)\n",
      " 10.810496 seconds (40.16 M allocations: 811.310 MiB, 0.97% gc time)\n",
      "119.180060 seconds (560.12 M allocations: 10.912 GiB, 1.48% gc time)\n"
     ]
    }
   ],
   "source": [
    "s_W, j_W, Pst_array, Pjt_array, Ds, Dj = solve_tree(data, game_parameters, counterfactual_parameters);"
   ]
  },
  {
   "cell_type": "markdown",
   "metadata": {},
   "source": [
    "Simulation parameters"
   ]
  },
  {
   "cell_type": "code",
   "execution_count": 6,
   "metadata": {},
   "outputs": [],
   "source": [
    "#θs0, θj0, μ\n",
    "simulation_parameters = [41, 100, 1.85];"
   ]
  },
  {
   "cell_type": "markdown",
   "metadata": {},
   "source": [
    "### Criando funções para simular o jogo"
   ]
  },
  {
   "cell_type": "code",
   "execution_count": 41,
   "metadata": {},
   "outputs": [],
   "source": [
    "θs0, θj0, μ = simulation_parameters;\n",
    "θs0 = Int64(θs0);\n",
    "θj0 = Int64(θj0);\n",
    "\n",
    "#parameters to some functions that are similar as the ones in solve_model\n",
    "\n",
    "c0 = game_parameters[3];\n",
    "c1 = Float64(0.0015);\n",
    "\n",
    "ρ = game_parameters[1];\n",
    "λj = game_parameters[4];\n",
    "\n",
    "\n",
    "Vmax = data[1];\n",
    "L = data[2];\n",
    "Dj = data[3];\n",
    "\n",
    "D = Float64(1.0)\n",
    "Ds = D - Dj;\n"
   ]
  },
  {
   "cell_type": "code",
   "execution_count": 42,
   "metadata": {},
   "outputs": [],
   "source": [
    "#counterfactual parameters\n",
    "tsym = counterfactual_parameters[1]\n",
    "additional_cost = counterfactual_parameters[2]\n",
    "ac_s = counterfactual_parameters[3]\n",
    "ac_j = counterfactual_parameters[4];"
   ]
  },
  {
   "cell_type": "code",
   "execution_count": 43,
   "metadata": {},
   "outputs": [
    {
     "data": {
      "text/plain": [
       "update_beliefs (generic function with 1 method)"
      ]
     },
     "execution_count": 43,
     "metadata": {},
     "output_type": "execute_result"
    }
   ],
   "source": [
    "#cost function\n",
    "function Ct(t)\n",
    "    #cost at period t=0(index1) is 0\n",
    "    if(t <= 1)\n",
    "        return 0\n",
    "    else\n",
    "        return c0 * D + c1 * (t-1) * D #test to make index==1 be t==0\n",
    "    end\n",
    "end\n",
    "\n",
    "\n",
    "\n",
    "#liquidation payoffs\n",
    "\n",
    "function s_L(t, additional_cost=ac_s, Ds=Ds)\n",
    "    S_L = min(L - Ct(t) - additional_cost, Ds)\n",
    "    return max(S_L, zero(0.0))\n",
    "end\n",
    "\n",
    "function j_L(t, additional_cost=ac_j, Dj=Dj)\n",
    "    J_L = min(L - Ct(t) - additional_cost - s_L(t), Dj)\n",
    "    return max(J_L, zero(0.0))\n",
    "end\n",
    "\n",
    "\n",
    "function proposal(Pkt_array, t, hkt, lmt)\n",
    "    \n",
    "    #pkt array será sempre do propositor, quem responder às propostas apenas olhará o seu valor de continuação\n",
    "    \n",
    "    return policy, payoff_prop, payment, lm_next = Pkt_array[t, hkt, lmt, [end,end-1, 1, 2]]\n",
    "    \n",
    "end\n",
    "    \n",
    "\n",
    "#maximum value of reorganization each period\n",
    "function Vt(Vmax, ρ, t, additional_cost)\n",
    "\n",
    "    if(t <=1)\n",
    "        return Vmax - additional_cost\n",
    "    else\n",
    "        #(t-2) instead of (t-1) because we shifted the indexes in the game so as to include t==0 at index==1\n",
    "        return ρ^(t-2) * Vmax - additional_cost\n",
    "    end\n",
    "\n",
    "\n",
    "end\n",
    "\n",
    "# answer_liq\n",
    "function answer_liq(m_L, t, hm_next, payoff_prop, additional_cost, ac_s, ac_j)\n",
    "    \n",
    "    liq = (m_L(t), Vt(Vmax, ρ, t, additional_cost) * hm_next/100 - payoff_prop)\n",
    "    \n",
    "    payoff_liq, answer = findmax(liq)\n",
    "    \n",
    "    return payoff_liq, answer\n",
    "end\n",
    "\n",
    "function answer_reorg(payment, Cont_val, t, hm_next, lm_next, lk_next)\n",
    "    \n",
    "    reorg_value = (payment, Cont_val[t+1, hm_next, lm_next, lk_next])\n",
    "\n",
    "    payoff_reorg, answer = findmax(reorg_value)\n",
    "    \n",
    "    return payoff_reorg, answer\n",
    "end\n",
    "\n",
    "function update_beliefs(propositor, hk_next, hm_next, lk_next, lm_next, t, tsym)\n",
    "    \n",
    "    if(t<=tsym)\n",
    "        \n",
    "        #t <= tsym, there is symmetric information\n",
    "        \n",
    "         if(propositor==\"s\")\n",
    "            hst = hk_next\n",
    "            lst = hk_next\n",
    "\n",
    "            hjt = hm_next\n",
    "            ljt = hm_next\n",
    "\n",
    "        else\n",
    "            hst = hm_next\n",
    "            lst = hm_next\n",
    "\n",
    "            hjt = hk_next\n",
    "            ljt = hk_next\n",
    "        end\n",
    "        \n",
    "    else\n",
    "        \n",
    "        #t > tsym, there is asymmetric information\n",
    "\n",
    "\n",
    "        if(propositor==\"s\")\n",
    "            hst = hk_next\n",
    "            lst = lk_next\n",
    "\n",
    "            hjt = hm_next\n",
    "            ljt = lm_next\n",
    "\n",
    "        else\n",
    "            hst = hm_next\n",
    "            lst = lm_next\n",
    "\n",
    "            hjt = hk_next\n",
    "            ljt = lk_next\n",
    "        end\n",
    "    end\n",
    "\n",
    "    \n",
    "    return hst, lst, hjt, ljt\n",
    "end\n",
    "\n",
    "        "
   ]
  },
  {
   "cell_type": "code",
   "execution_count": 44,
   "metadata": {},
   "outputs": [
    {
     "data": {
      "text/plain": [
       "draw_beta (generic function with 3 methods)"
      ]
     },
     "execution_count": 44,
     "metadata": {},
     "output_type": "execute_result"
    }
   ],
   "source": [
    "#código para tirar um draw da beta\n",
    "\n",
    "function draw_beta(hkt, β=game_parameters[2], grid=100)\n",
    "\n",
    "    u = rand()\n",
    "\n",
    "    if(hkt == 100)\n",
    "        \n",
    "        return 100\n",
    "\n",
    "    else\n",
    "        \n",
    "        x = 1.0 - exp(1.0/β * (log(1.0 - u) + β * log(1.0 - hkt/grid)))\n",
    "        x = round(x * 100, digits=0)\n",
    "#         return Int64(x * 100) #to convert in an integer\n",
    "        return Int64(x)\n",
    "        \n",
    "    end\n",
    "end\n",
    "\n",
    "        \n",
    "\n",
    "# @code_warntype draw_beta(10)\n",
    "\n"
   ]
  },
  {
   "cell_type": "code",
   "execution_count": 45,
   "metadata": {},
   "outputs": [],
   "source": [
    "function choose_parameters(propositor, hst, lst, hjt, ljt)\n",
    "    \n",
    "    if(propositor==\"s\")\n",
    "        \n",
    "        Pkt_array = Pst_array\n",
    "        Cont_val = j_W\n",
    "        prop_index = 1\n",
    "        respondent_index = 2 #índice de j, para organizar o payoff\n",
    "        m_L = j_L\n",
    "\n",
    "        hkt = hst\n",
    "        lkt = lst\n",
    "        \n",
    "        hmt = hjt\n",
    "        lmt = ljt\n",
    "\n",
    "\n",
    "        lk_next = hkt\n",
    "\n",
    "        hk_next = draw_beta(hkt)\n",
    "        hm_next = draw_beta(hmt)\n",
    "        \n",
    "    elseif(propositor==\"j\")\n",
    "        Pkt_array = Pjt_array\n",
    "        Cont_val = s_W\n",
    "        prop_index = 2\n",
    "        respondent_index = 1\n",
    "        m_L = s_L\n",
    "\n",
    "        hkt = hjt\n",
    "        lkt = ljt\n",
    "        \n",
    "        hmt = hst\n",
    "        lmt = lst\n",
    "\n",
    "\n",
    "        lk_next = hkt\n",
    "\n",
    "\n",
    "        hk_next = draw_beta(hkt)\n",
    "        hm_next = draw_beta(hmt)\n",
    "\n",
    "    else\n",
    "        \n",
    "        println(\"error: propositor not valid\")\n",
    "        \n",
    "    end\n",
    "    \n",
    "    return Pkt_array, Cont_val, prop_index, respondent_index, m_L, hkt, lkt, hmt, lmt, lk_next, hk_next, hm_next\n",
    "end\n",
    "\n",
    "\n",
    "\n",
    "\n",
    "#test\n",
    "Hs0 = 30\n",
    "Hj0 = 28\n",
    "\n",
    "\n",
    "hst = Hs0\n",
    "hjt = Hj0\n",
    "\n",
    "#assumindo que lower bounds nos períodos iniciais são as próprias habilidades iniciais\n",
    "lst = hst\n",
    "ljt = hjt\n",
    "\n",
    "\n",
    "\n",
    "\n",
    "choose_parameters(\"s\", hst, lst, hjt, ljt);\n",
    "    \n",
    "    "
   ]
  },
  {
   "cell_type": "code",
   "execution_count": 46,
   "metadata": {},
   "outputs": [
    {
     "data": {
      "text/plain": [
       "simulate_game (generic function with 7 methods)"
      ]
     },
     "execution_count": 46,
     "metadata": {},
     "output_type": "execute_result"
    }
   ],
   "source": [
    "function simulate_game(Hs0, Hj0, μ, λj, counterfactual_parameters, s_W=s_W, j_W=j_W, Pst_array=Pst_array, Pjt_array=Pjt_array, t=1, grid=100)\n",
    "    \n",
    "    hst = Hs0\n",
    "    hjt = Hj0\n",
    "\n",
    "    #assumindo que lower bounds nos períodos iniciais são as próprias habilidades iniciais\n",
    "    lst = hst\n",
    "    ljt = hjt\n",
    "    \n",
    "    result = zeros(5);\n",
    "    \n",
    "    #number of observed proposals\n",
    "    observed_proposals = 0.0\n",
    "    \n",
    "    \n",
    "    #recovering \"T+1\" from s_W \n",
    "    T = size(s_W,1)\n",
    "    \n",
    "    \n",
    "    #counterfactual parameters\n",
    "    tsym = counterfactual_parameters[1]\n",
    "    additional_cost = counterfactual_parameters[2]\n",
    "    ac_s = counterfactual_parameters[3]\n",
    "    ac_j = counterfactual_parameters[4];\n",
    "    \n",
    "    \n",
    "    \n",
    "    while(result[1]==0.0 && t < T)\n",
    "        \n",
    "        \n",
    "        u = rand()\n",
    "\n",
    "        if(u < λj)\n",
    "            propositor = \"j\"\n",
    "\n",
    "        else\n",
    "            propositor = \"s\"\n",
    "\n",
    "        end\n",
    "\n",
    "        \n",
    "        #setting the default variables according to the propositor\n",
    "        Pkt_array, Cont_val, prop_index, respondent_index, m_L, hkt, lkt, hmt, lmt, lk_next, hk_next, hm_next = choose_parameters(propositor, hst, lst, hjt, ljt)\n",
    "        \n",
    "        \n",
    "        #proposal ####\n",
    "        policy, payoff_prop, payment, lm_next = proposal(Pkt_array, t, hkt, lmt)\n",
    "\n",
    "        #lm_next is the update of the adversary's lower bound\n",
    "        if(lm_next>=grid+1 || policy!= 3.0) #para evitar update de lowerbound quando proponente não propõe reorg\n",
    "            lm_next = lmt\n",
    "        else\n",
    "            lm_next = Int64(lm_next)\n",
    "        end\n",
    "        \n",
    "        \n",
    "        \n",
    "        if(policy==3.0)\n",
    "            \n",
    "            observed_proposals += 1.0\n",
    "    \n",
    "            payoff_respondent, answer = answer_reorg(payment, Cont_val, t, hm_next, lm_next, lk_next)\n",
    "\n",
    "\n",
    "            if(answer==1.0)\n",
    "\n",
    "                result[prop_index] = payoff_prop\n",
    "                result[respondent_index] = payoff_respondent\n",
    "                result[3] = 3.0\n",
    "                result[4] = t\n",
    "                result[5] = observed_proposals\n",
    "\n",
    "            else\n",
    "                \n",
    "                t+=1\n",
    "\n",
    "                hst, lst, hjt, ljt = update_beliefs(propositor, hk_next, hm_next, lk_next, lm_next, t, tsym)\n",
    "            end\n",
    "\n",
    "        elseif(policy==2.0)\n",
    "            \n",
    "            t+=1\n",
    "            \n",
    "            hst, lst, hjt, ljt = update_beliefs(propositor, hk_next, hm_next, lk_next, lm_next, t, tsym)\n",
    "            \n",
    "            \n",
    "\n",
    "        else      \n",
    "            #(policy==1.0)\n",
    "            \n",
    "            observed_proposals += 1.0\n",
    "\n",
    "            payoff_respondent, answer = answer_liq(m_L, t, hm_next, payoff_prop, additional_cost, ac_s, ac_j)\n",
    "\n",
    "            if(answer==1.0)\n",
    "\n",
    "                result[prop_index] = payoff_prop\n",
    "                result[respondent_index] = payoff_respondent\n",
    "                result[3] = 1.0\n",
    "                result[4] = t\n",
    "                result[5] = observed_proposals\n",
    "\n",
    "            else\n",
    "\n",
    "                result[prop_index] = payoff_prop\n",
    "                result[respondent_index] = payoff_respondent\n",
    "                result[3] = 3.0\n",
    "                result[4] = t\n",
    "                result[5] = observed_proposals\n",
    "\n",
    "\n",
    "            end\n",
    "        end\n",
    "\n",
    "\n",
    "        if(t==T)\n",
    "            \n",
    "            result[1] = s_W[T, 1, 1, 1]#todos os valores finais de S são iguais, então acessarei o índice 1\n",
    "            result[2] = j_W[T, 1, 1, 1]\n",
    "            result[3] = 1.0\n",
    "            result[4] = t\n",
    "            result[5] = max(observed_proposals, 1.0) #to avoid observed_proposals==0.0\n",
    "            \n",
    "        end\n",
    "        \n",
    "\n",
    "\n",
    "\n",
    "\n",
    "    end\n",
    "    \n",
    "    \n",
    "    return result\n",
    "end\n",
    "\n",
    "        \n",
    "        \n",
    "#precisa colocar uma condição IF aqui para caso o jogo vá até o último período?\n",
    "    "
   ]
  },
  {
   "cell_type": "code",
   "execution_count": 47,
   "metadata": {},
   "outputs": [],
   "source": [
    "# simulate_game(θs0, θj0, μ, λj, s_W, j_W, Pst_array, Pjt_array)"
   ]
  },
  {
   "cell_type": "code",
   "execution_count": 48,
   "metadata": {},
   "outputs": [],
   "source": [
    "function loop_simulations(S, N, θs0, θj0, μ, λj, counterfactual_parameters, s_W=s_W, j_W=j_W, Pst_array=Pst_array, Pjt_array=Pjt_array)\n",
    "    \n",
    "    #S is the number of simulations\n",
    "    #N is the number of observations\n",
    "    \n",
    "    #no futuro os argumentos podem ser arrays de arrays, assim ele faz o loop para cada cluster\n",
    "    \n",
    "    Results = zeros(S, N, 7)\n",
    "\n",
    "    #últimas entradas de Results são os valores das dívidas\n",
    "    Results[:,:, end-1] .= Dj\n",
    "    Results[:,:, end] .= Ds\n",
    "\n",
    "\n",
    "    for s in 1:S\n",
    "        for n in 1:N\n",
    "            Results[s,n,1:5] .= simulate_game(θs0, θj0, μ, λj, counterfactual_parameters)\n",
    "        end\n",
    "    end\n",
    "\n",
    "    return Results\n",
    "    \n",
    "end\n",
    "\n",
    "    \n",
    "# loop_simulations(40, 75, θs0, θj0, μ, λj);"
   ]
  },
  {
   "cell_type": "code",
   "execution_count": 49,
   "metadata": {},
   "outputs": [
    {
     "data": {
      "text/plain": [
       "simulate_moments (generic function with 5 methods)"
      ]
     },
     "execution_count": 49,
     "metadata": {},
     "output_type": "execute_result"
    }
   ],
   "source": [
    "function simulate_moments(S, N, θs0, θj0, μ, λj, counterfactual_parameters, s_W=s_W, j_W=j_W, Pst_array=Pst_array, Pjt_array=Pjt_array)\n",
    "    \n",
    "    \n",
    "    Results = loop_simulations(S, N, θs0, θj0, μ, λj, counterfactual_parameters)\n",
    "    \n",
    "    \n",
    "    Moments = zeros(S, 8)\n",
    "    \n",
    "    \n",
    "    for s in 1:S\n",
    "\n",
    "            DF = DataFrame()\n",
    "            DF.payoff_s = Results[s,:,1];\n",
    "            DF.payoff_j = Results[s,:,2];\n",
    "            DF.out = Results[s,:,3];\n",
    "            DF.t = Results[s,:,4];\n",
    "            DF.observed_proposals = Results[s,:,5];\n",
    "            DF.Dj = Results[s,:,6];\n",
    "            DF.Ds = Results[s,:,7];\n",
    "\n",
    "\n",
    "            DF.outcome = ifelse.(DF.out .==3.0, \"R\", \"L\");\n",
    "\n",
    "\n",
    "            #desfazendo o deslocamento no índice de t\n",
    "            DF.t = DF.t .- 1.0;\n",
    "\n",
    "            # DF.incourt = ifelse.(DF.t .> 0.0, \"incourt\", \"precourt\");\n",
    "\n",
    "            INCOURT = filter(DF -> DF.t .> 0.0, DF);\n",
    "            PRECOURT = filter(DF -> DF.t .<= 0.0, DF);\n",
    "\n",
    "            PRECOURT_REORG = filter(PRECOURT -> PRECOURT.outcome .== \"R\", PRECOURT)\n",
    "            INCOURT_REORG = filter(INCOURT -> INCOURT.outcome .== \"R\", INCOURT)\n",
    "\n",
    "            #cálculo dos momentos\n",
    "            #1. avg log number of months between observed proposals incourt\n",
    "\n",
    "            mm1 = INCOURT\n",
    "            mm1 = log.(mm1.t .* μ ./ mm1.observed_proposals)\n",
    "            mm1 = mean(mm1)\n",
    "\n",
    "            #2. fraction reorganized given that the case went into court\n",
    "\n",
    "            mm2 = INCOURT\n",
    "            mm2 = size(filter(mm2 -> mm2.outcome .== \"R\", mm2),1)/ size(mm2,1)\n",
    "\n",
    "            #3. ln duration of court cases in months\n",
    "\n",
    "            mm3 = INCOURT\n",
    "            mm3 = filter(mm3 -> mm3.t .> 0.0, mm3) #removendo os casos 0 para não poluir a média\n",
    "            mm3.t = mm3.t .* μ\n",
    "            mm3 = mean(log.(mm3.t)) #log here uses exp as base, so it's the same as ln\n",
    "\n",
    "            #4. fraction of cases incourt\n",
    "            mm4 = size(INCOURT,1) / size(DF, 1)\n",
    "\n",
    "            #5. avg recovery rate for senior given precourt REORGANIZATION\n",
    "\n",
    "            #aqui nós temos Ds, então é mais fácil. Preciso automatizar isso no código quando for tudo escalado\n",
    "\n",
    "            mm5 = PRECOURT_REORG\n",
    "            mm5.R_s = mm5.payoff_s ./ mm5.Ds\n",
    "            mm5 = mean(mm5.R_s)\n",
    "\n",
    "            #if there are no precourt cases, it will return zero\n",
    "            if(isnan(mm5))\n",
    "                mm5 = zero(0.0)\n",
    "            end\n",
    "\n",
    "\n",
    "            #6. avg recovery rate for junior given precourt REORGANIZATION\n",
    "\n",
    "            #aqui nós temos Ds, então é mais fácil. Preciso automatizar isso no código quando for tudo escalado\n",
    "\n",
    "            mm6 = PRECOURT_REORG\n",
    "            mm6.R_j = mm6.payoff_j ./ mm6.Dj\n",
    "            mm6 = mean(mm6.R_j)\n",
    "\n",
    "            #if there are no precourt cases, it will return zero\n",
    "            if(isnan(mm6))\n",
    "                mm6 = zero(0.0)\n",
    "            end\n",
    "\n",
    "\n",
    "            #7. junior avg fraction gain given incourt REORGANIZATION\n",
    "\n",
    "            mm7 = INCOURT_REORG\n",
    "            mm7 = mean(mm7.payoff_j ./ (mm7.payoff_j .+ mm7.payoff_s )) \n",
    "\n",
    "            #8. total recovery rate given incourt REORGANIZATION\n",
    "\n",
    "            mm8 = INCOURT_REORG\n",
    "            mm8 = mean( mm8.payoff_s .+ mm8.payoff_j)\n",
    "\n",
    "\n",
    "\n",
    "            Moments[s,:] .= [mm1, mm2, mm3, mm4, mm5, mm6, mm7, mm8]\n",
    "\n",
    "            #if there are no INCOURT or no PRECOURT cases, it will return NaN\n",
    "            #thus, we replace it by zero\n",
    "            Moments[s,:] .= replace!(Moments[s,:], NaN=> zero(0.0))\n",
    "\n",
    "        end\n",
    "    return vec(mean(Moments, dims=1))\n",
    "end"
   ]
  },
  {
   "cell_type": "code",
   "execution_count": 50,
   "metadata": {},
   "outputs": [],
   "source": [
    "using Random"
   ]
  },
  {
   "cell_type": "code",
   "execution_count": 51,
   "metadata": {},
   "outputs": [],
   "source": [
    "Random.seed!(123);"
   ]
  },
  {
   "cell_type": "code",
   "execution_count": 52,
   "metadata": {},
   "outputs": [
    {
     "data": {
      "text/plain": [
       "8-element Array{Float64,1}:\n",
       " 0.09783602875193581\n",
       " 1.0\n",
       " 1.3405875012834592\n",
       " 0.9901515151515152\n",
       " 0.9762747747747753\n",
       " 0.4941665641479725\n",
       " 0.11199937791871614\n",
       " 0.33708934834574744"
      ]
     },
     "execution_count": 52,
     "metadata": {},
     "output_type": "execute_result"
    }
   ],
   "source": [
    "#test\n",
    "S = 40\n",
    "N = 66\n",
    "\n",
    "\n",
    "simulated_moments = simulate_moments(S, N, θs0, θj0, μ, λj, counterfactual_parameters)"
   ]
  },
  {
   "cell_type": "markdown",
   "metadata": {},
   "source": [
    "Comparing with the actual data moments"
   ]
  },
  {
   "cell_type": "code",
   "execution_count": 19,
   "metadata": {},
   "outputs": [],
   "source": [
    "#data_moments\n",
    "data_moments = [0.728, 0.843, 2.76, 0.969, 0.6235, 0.5569, 0.773, 0.497];"
   ]
  },
  {
   "cell_type": "code",
   "execution_count": 20,
   "metadata": {},
   "outputs": [
    {
     "data": {
      "text/plain": [
       "error_vector (generic function with 1 method)"
      ]
     },
     "execution_count": 20,
     "metadata": {},
     "output_type": "execute_result"
    }
   ],
   "source": [
    "function error_vector(data_moments, simulated_moments)\n",
    "    #two arrays with the data moments and the simulated moments\n",
    "    \n",
    "# #     return (simulated_moments .- data_moments) ./ data_moments\n",
    "#     \n",
    "    return (simulated_moments .- data_moments)\n",
    "    \n",
    "end"
   ]
  },
  {
   "cell_type": "code",
   "execution_count": 21,
   "metadata": {},
   "outputs": [
    {
     "data": {
      "text/plain": [
       "8-element Array{Float64,1}:\n",
       " -0.6301639712480642\n",
       "  0.15700000000000003\n",
       " -1.4194124987165406\n",
       "  0.021151515151515254\n",
       "  0.35277477477477526\n",
       " -0.06273343585202745\n",
       " -0.6610006220812839\n",
       " -0.15991065165425256"
      ]
     },
     "execution_count": 21,
     "metadata": {},
     "output_type": "execute_result"
    }
   ],
   "source": [
    "error_vector(data_moments, simulated_moments)"
   ]
  },
  {
   "cell_type": "markdown",
   "metadata": {},
   "source": [
    "Derivative of moments w.r.t. parameters"
   ]
  },
  {
   "cell_type": "code",
   "execution_count": 39,
   "metadata": {},
   "outputs": [
    {
     "data": {
      "text/plain": [
       "4-element Array{Float64,1}:\n",
       " 0.884\n",
       " 8.87\n",
       " 0.31\n",
       " 0.01"
      ]
     },
     "execution_count": 39,
     "metadata": {},
     "output_type": "execute_result"
    }
   ],
   "source": [
    "game_parameters"
   ]
  },
  {
   "cell_type": "code",
   "execution_count": 40,
   "metadata": {},
   "outputs": [
    {
     "data": {
      "text/plain": [
       "3-element Array{Float64,1}:\n",
       "  41.0\n",
       " 100.0\n",
       "   1.85"
      ]
     },
     "execution_count": 40,
     "metadata": {},
     "output_type": "execute_result"
    }
   ],
   "source": [
    "simulation_parameters"
   ]
  },
  {
   "cell_type": "code",
   "execution_count": 56,
   "metadata": {},
   "outputs": [
    {
     "data": {
      "text/plain": [
       "derivative_moments (generic function with 1 method)"
      ]
     },
     "execution_count": 56,
     "metadata": {},
     "output_type": "execute_result"
    }
   ],
   "source": [
    "#calculando a derivada em relação a ρ\n",
    "\n",
    "function derivative_moments(S, N, game_parameters, simulation_parameters, counterfactual_parameters, simulated_moments)\n",
    "    \n",
    "    \n",
    "    P = size(game_parameters,1)+size(simulation_parameters,1)\n",
    "    M = size(simulated_moments,1)\n",
    "    D = zeros(M, P)\n",
    "    \n",
    "    estimated_game_parameters = game_parameters\n",
    "    estimated_simulation_parameters = simulation_parameters\n",
    "    \n",
    "    #delta for each parameter\n",
    "    #approximately 1% or the lowest decimal point\n",
    "    #[game_parameters, simulation_parameters]\n",
    "    delta = [0.01, 0.08, 0.01, 0.01, 1.0, -1.0, 0.02]\n",
    "    \n",
    "    for i in 1:P\n",
    "        \n",
    "        println(\"moment \",i)\n",
    "        if(i<=size(game_parameters,1))\n",
    "            game_parameters = copy(estimated_game_parameters)\n",
    "            \n",
    "            game_parameters[i] = game_parameters[i] + delta[i]\n",
    "            \n",
    "        else\n",
    "            simulation_parameters = copy(estimated_simulation_parameters)\n",
    "            simulation_parameters[i-size(game_parameters,1)] = simulation_parameters[i-size(game_parameters,1)] + delta[i]\n",
    "            \n",
    "            \n",
    "        end\n",
    "        \n",
    "    \n",
    "        θs0, θj0, μ = simulation_parameters;\n",
    "        θs0 = Int64(round(θs0, digits=0));\n",
    "        θj0 = Int64(round(θj0, digits=0));\n",
    "\n",
    "        λj = game_parameters[4];\n",
    "\n",
    "        s_W, j_W, Pst_array, Pjt_array, Ds, Dj = solve_tree(data, game_parameters, counterfactual_parameters);\n",
    "        new_simulated_moments = simulate_moments(S, N, θs0, θj0, μ, λj, counterfactual_parameters)\n",
    "        \n",
    "        D[:, i] = new_simulated_moments - simulated_moments\n",
    "        \n",
    "    end\n",
    "    \n",
    "    \n",
    "    \n",
    "    return D\n",
    "    \n",
    "end\n"
   ]
  },
  {
   "cell_type": "code",
   "execution_count": 57,
   "metadata": {},
   "outputs": [
    {
     "name": "stdout",
     "output_type": "stream",
     "text": [
      "moment 1\n",
      "  3.843121 seconds (43.22 M allocations: 858.002 MiB, 4.92% gc time)\n",
      "  7.671746 seconds (43.22 M allocations: 858.002 MiB, 1.77% gc time)\n",
      "  8.160688 seconds (43.22 M allocations: 858.002 MiB, 2.08% gc time)\n",
      "  8.521073 seconds (43.22 M allocations: 858.002 MiB, 1.36% gc time)\n",
      "  8.795221 seconds (43.22 M allocations: 858.002 MiB, 1.87% gc time)\n",
      "  9.428979 seconds (43.22 M allocations: 858.002 MiB, 1.22% gc time)\n",
      "  9.392590 seconds (43.22 M allocations: 858.002 MiB, 1.25% gc time)\n",
      "  9.774160 seconds (43.22 M allocations: 858.002 MiB, 1.58% gc time)\n",
      "  9.800386 seconds (43.22 M allocations: 858.002 MiB, 1.15% gc time)\n",
      " 10.217810 seconds (43.22 M allocations: 858.002 MiB, 1.13% gc time)\n",
      " 10.001742 seconds (43.22 M allocations: 858.002 MiB, 1.62% gc time)\n",
      " 10.050388 seconds (43.22 M allocations: 858.002 MiB, 1.14% gc time)\n",
      "  9.863473 seconds (43.22 M allocations: 858.002 MiB, 1.19% gc time)\n",
      " 10.978998 seconds (40.16 M allocations: 811.310 MiB, 1.36% gc time)\n",
      "127.566835 seconds (602.02 M allocations: 11.685 GiB, 1.52% gc time)\n",
      "moment 2\n",
      "  3.688123 seconds (43.22 M allocations: 858.002 MiB, 5.60% gc time)\n",
      "  7.752979 seconds (43.22 M allocations: 858.002 MiB, 1.75% gc time)\n",
      "  8.378302 seconds (43.22 M allocations: 858.002 MiB, 1.88% gc time)\n",
      "  8.665485 seconds (43.22 M allocations: 858.002 MiB, 1.31% gc time)\n",
      "  8.864893 seconds (43.22 M allocations: 858.002 MiB, 1.81% gc time)\n",
      "  9.771186 seconds (43.22 M allocations: 858.002 MiB, 1.07% gc time)\n",
      "  9.501465 seconds (43.22 M allocations: 858.002 MiB, 1.61% gc time)\n",
      "  9.935938 seconds (43.22 M allocations: 858.002 MiB, 1.16% gc time)\n",
      " 10.147243 seconds (43.22 M allocations: 858.002 MiB, 1.47% gc time)\n",
      " 10.189291 seconds (43.22 M allocations: 858.002 MiB, 1.03% gc time)\n",
      "  9.949734 seconds (43.22 M allocations: 858.002 MiB, 1.44% gc time)\n",
      " 10.098697 seconds (43.22 M allocations: 858.002 MiB, 1.21% gc time)\n",
      " 10.883473 seconds (40.16 M allocations: 811.310 MiB, 0.98% gc time)\n",
      "119.060434 seconds (558.80 M allocations: 10.847 GiB, 1.49% gc time)\n",
      "moment 3\n",
      "  3.609000 seconds (43.22 M allocations: 858.002 MiB, 4.70% gc time)\n",
      "  6.347000 seconds (43.22 M allocations: 858.002 MiB, 3.07% gc time)\n",
      "  8.853168 seconds (43.22 M allocations: 858.002 MiB, 1.42% gc time)\n",
      "  8.933199 seconds (43.22 M allocations: 858.002 MiB, 1.98% gc time)\n",
      "  8.927081 seconds (43.22 M allocations: 858.002 MiB, 1.31% gc time)\n",
      "  9.481956 seconds (43.22 M allocations: 858.002 MiB, 1.19% gc time)\n",
      "  9.440048 seconds (43.22 M allocations: 858.002 MiB, 1.68% gc time)\n",
      "  9.786001 seconds (43.22 M allocations: 858.002 MiB, 1.10% gc time)\n",
      "  9.838429 seconds (43.22 M allocations: 858.002 MiB, 1.65% gc time)\n",
      "  9.998213 seconds (43.22 M allocations: 858.002 MiB, 1.04% gc time)\n",
      " 10.103997 seconds (43.22 M allocations: 858.002 MiB, 1.57% gc time)\n",
      "  9.774867 seconds (43.22 M allocations: 858.002 MiB, 1.06% gc time)\n",
      " 11.072230 seconds (40.16 M allocations: 811.310 MiB, 1.49% gc time)\n",
      "117.423062 seconds (558.80 M allocations: 10.847 GiB, 1.58% gc time)\n",
      "moment 4\n",
      "  3.681801 seconds (43.22 M allocations: 858.002 MiB, 5.11% gc time)\n",
      "  7.788503 seconds (43.22 M allocations: 858.002 MiB, 2.20% gc time)\n",
      "  8.643856 seconds (43.22 M allocations: 858.002 MiB, 1.33% gc time)\n",
      "  8.848900 seconds (43.22 M allocations: 858.002 MiB, 1.95% gc time)\n",
      "  9.038297 seconds (43.22 M allocations: 858.002 MiB, 1.13% gc time)\n",
      "  9.340860 seconds (43.22 M allocations: 858.002 MiB, 1.17% gc time)\n",
      "  9.768117 seconds (43.22 M allocations: 858.002 MiB, 1.55% gc time)\n",
      "  9.902973 seconds (43.22 M allocations: 858.002 MiB, 1.04% gc time)\n",
      " 10.203162 seconds (43.22 M allocations: 858.002 MiB, 1.49% gc time)\n",
      " 10.108292 seconds (43.22 M allocations: 858.002 MiB, 1.04% gc time)\n",
      " 10.104954 seconds (43.22 M allocations: 858.002 MiB, 1.49% gc time)\n",
      " 10.285373 seconds (43.22 M allocations: 858.002 MiB, 1.06% gc time)\n",
      " 11.250585 seconds (40.16 M allocations: 811.310 MiB, 1.40% gc time)\n",
      "119.828815 seconds (558.80 M allocations: 10.847 GiB, 1.49% gc time)\n",
      "moment 5\n",
      "  3.521502 seconds (43.22 M allocations: 858.002 MiB, 4.96% gc time)\n",
      "  7.927757 seconds (43.22 M allocations: 858.002 MiB, 2.32% gc time)\n",
      "  8.216253 seconds (43.22 M allocations: 858.002 MiB, 1.31% gc time)\n",
      "  8.545737 seconds (43.22 M allocations: 858.002 MiB, 1.81% gc time)\n",
      "  9.093158 seconds (43.22 M allocations: 858.002 MiB, 1.22% gc time)\n",
      "  9.409697 seconds (43.22 M allocations: 858.002 MiB, 1.13% gc time)\n",
      "  9.441755 seconds (43.22 M allocations: 858.002 MiB, 1.57% gc time)\n",
      "  9.820780 seconds (43.22 M allocations: 858.002 MiB, 1.16% gc time)\n",
      " 10.116116 seconds (43.22 M allocations: 858.002 MiB, 1.49% gc time)\n",
      " 10.132501 seconds (43.22 M allocations: 858.002 MiB, 1.04% gc time)\n",
      " 10.294847 seconds (43.22 M allocations: 858.002 MiB, 1.52% gc time)\n",
      " 10.457581 seconds (43.22 M allocations: 858.002 MiB, 1.16% gc time)\n",
      " 10.915179 seconds (40.16 M allocations: 811.310 MiB, 1.31% gc time)\n",
      "119.588732 seconds (558.80 M allocations: 10.847 GiB, 1.49% gc time)\n",
      "moment 6\n",
      "  3.790047 seconds (43.22 M allocations: 858.002 MiB, 4.80% gc time)\n",
      "  7.683209 seconds (43.22 M allocations: 858.002 MiB, 2.27% gc time)\n",
      "  8.368888 seconds (43.22 M allocations: 858.002 MiB, 1.31% gc time)\n",
      "  8.696441 seconds (43.22 M allocations: 858.002 MiB, 1.86% gc time)\n",
      "  8.900792 seconds (43.22 M allocations: 858.002 MiB, 1.27% gc time)\n",
      "  9.262716 seconds (43.22 M allocations: 858.002 MiB, 1.27% gc time)\n",
      "  9.813809 seconds (43.22 M allocations: 858.002 MiB, 1.56% gc time)\n",
      "  9.866550 seconds (43.22 M allocations: 858.002 MiB, 1.19% gc time)\n",
      "  9.836769 seconds (43.22 M allocations: 858.002 MiB, 1.67% gc time)\n",
      "  9.960159 seconds (43.22 M allocations: 858.002 MiB, 1.01% gc time)\n",
      " 10.004251 seconds (43.22 M allocations: 858.002 MiB, 1.51% gc time)\n",
      " 10.108874 seconds (43.22 M allocations: 858.002 MiB, 1.08% gc time)\n",
      " 11.328683 seconds (40.16 M allocations: 811.310 MiB, 1.49% gc time)\n",
      "118.666455 seconds (558.80 M allocations: 10.847 GiB, 1.53% gc time)\n",
      "moment 7\n",
      "  3.623935 seconds (43.22 M allocations: 858.002 MiB, 5.09% gc time)\n",
      "  7.659153 seconds (43.22 M allocations: 858.002 MiB, 2.38% gc time)\n",
      "  8.100029 seconds (43.22 M allocations: 858.002 MiB, 1.34% gc time)\n",
      "  8.637394 seconds (43.22 M allocations: 858.002 MiB, 1.90% gc time)\n",
      "  9.012136 seconds (43.22 M allocations: 858.002 MiB, 1.24% gc time)\n",
      "  9.382081 seconds (43.22 M allocations: 858.002 MiB, 1.09% gc time)\n",
      "  9.740725 seconds (43.22 M allocations: 858.002 MiB, 1.61% gc time)\n",
      " 10.038809 seconds (43.22 M allocations: 858.002 MiB, 1.05% gc time)\n",
      " 10.262206 seconds (43.22 M allocations: 858.002 MiB, 1.59% gc time)\n",
      " 10.042473 seconds (43.22 M allocations: 858.002 MiB, 1.06% gc time)\n",
      " 10.081622 seconds (43.22 M allocations: 858.002 MiB, 1.60% gc time)\n",
      " 10.642470 seconds (43.22 M allocations: 858.002 MiB, 1.07% gc time)\n",
      " 11.321633 seconds (40.16 M allocations: 811.310 MiB, 1.37% gc time)\n",
      "119.851007 seconds (558.80 M allocations: 10.847 GiB, 1.51% gc time)\n"
     ]
    },
    {
     "data": {
      "text/plain": [
       "8×7 Array{Float64,2}:\n",
       "  0.00428308    0.002073    -0.00521184   …  -0.00422097   0.0414262\n",
       "  0.0           0.0          0.0              0.0          0.0\n",
       "  0.0338813     0.00572744  -0.018391        -0.271359    -0.0129037\n",
       "  0.00113636    0.00113636   0.000757576     -0.0117424   -0.00719697\n",
       "  0.102766     -0.0513829    0.0513829        0.515826     0.513829\n",
       "  0.0520175    -0.0260088    0.0260088    …   0.24813      0.260088\n",
       " -0.000755518  -0.00187356  -0.00414785      -0.0294078   -0.000354046\n",
       " -0.0012879     0.00186361   0.000406257      0.0445638    0.0150855"
      ]
     },
     "execution_count": 57,
     "metadata": {},
     "output_type": "execute_result"
    }
   ],
   "source": [
    "Derivative = derivative_moments(S, N, game_parameters, simulation_parameters, counterfactual_parameters, simulated_moments)"
   ]
  },
  {
   "cell_type": "code",
   "execution_count": 60,
   "metadata": {},
   "outputs": [
    {
     "data": {
      "text/plain": [
       "8×7 Array{Float64,2}:\n",
       "  0.00428308    0.002073    -0.00521184   …  -0.00422097   0.0414262\n",
       "  0.0           0.0          0.0              0.0          0.0\n",
       "  0.0338813     0.00572744  -0.018391        -0.271359    -0.0129037\n",
       "  0.00113636    0.00113636   0.000757576     -0.0117424   -0.00719697\n",
       "  0.102766     -0.0513829    0.0513829        0.515826     0.513829\n",
       "  0.0520175    -0.0260088    0.0260088    …   0.24813      0.260088\n",
       " -0.000755518  -0.00187356  -0.00414785      -0.0294078   -0.000354046\n",
       " -0.0012879     0.00186361   0.000406257      0.0445638    0.0150855"
      ]
     },
     "execution_count": 60,
     "metadata": {},
     "output_type": "execute_result"
    }
   ],
   "source": [
    "Derivative"
   ]
  },
  {
   "cell_type": "code",
   "execution_count": 61,
   "metadata": {},
   "outputs": [
    {
     "data": {
      "text/plain": [
       "7-element Array{Float64,1}:\n",
       "  0.0\n",
       "  0.0\n",
       "  0.0\n",
       "  0.0\n",
       " -0.9\n",
       "  0.0\n",
       "  0.0"
      ]
     },
     "execution_count": 61,
     "metadata": {},
     "output_type": "execute_result"
    }
   ],
   "source": [
    "Derivative[2,:]"
   ]
  }
 ],
 "metadata": {
  "kernelspec": {
   "display_name": "Julia 1.5.3",
   "language": "julia",
   "name": "julia-1.5"
  },
  "language_info": {
   "file_extension": ".jl",
   "mimetype": "application/julia",
   "name": "julia",
   "version": "1.5.3"
  }
 },
 "nbformat": 4,
 "nbformat_minor": 4
}
