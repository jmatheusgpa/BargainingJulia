{
 "cells": [
  {
   "cell_type": "markdown",
   "metadata": {},
   "source": [
    "Script para comparar os resultados dos contrafactuais"
   ]
  },
  {
   "cell_type": "code",
   "execution_count": 1,
   "metadata": {},
   "outputs": [],
   "source": [
    "data_moments = [1.8192, 0.8281, 2.7704, 0.9696, 0.5652, 0.5562, 0.7835, 0.4987, -0.0962];"
   ]
  },
  {
   "cell_type": "code",
   "execution_count": 2,
   "metadata": {},
   "outputs": [],
   "source": [
    "moments = [\"1. avg log number of months between observed proposals incourt\",\n",
    "    \"2. fraction reorganized given that the case went into court\",\n",
    "    \"3. ln duration of court cases in months\",\n",
    "    \"4. fraction of cases incourt\",\n",
    "    \"5. avg recovery rate for S given a REORGANIZATION in the 25% fastest cases\",\n",
    "    \"6. avg recovery rate for J given a REORGANIZATION in the 25% fastest cases\",\n",
    "    \"7. junior avg fraction gain given incourt REORGANIZATION\",\n",
    "    \"8. total recovery rate given incourt REORGANIZATION\",\n",
    "    \"9. slope of the regression of log(recovery rate | incourt reorg) ~ log(duration)\"];"
   ]
  },
  {
   "cell_type": "code",
   "execution_count": 3,
   "metadata": {},
   "outputs": [],
   "source": [
    "using DelimitedFiles\n"
   ]
  },
  {
   "cell_type": "code",
   "execution_count": 4,
   "metadata": {},
   "outputs": [
    {
     "data": {
      "text/plain": [
       "9×1 Array{Float64,2}:\n",
       "  2.090634682918589\n",
       "  0.9940691120673548\n",
       "  2.7783345596208107\n",
       "  0.9498484848484847\n",
       "  0.5413354135704804\n",
       "  0.5355452934130291\n",
       "  0.7728370987692509\n",
       "  0.47547555453434603\n",
       " -0.17563527195825115"
      ]
     },
     "execution_count": 4,
     "metadata": {},
     "output_type": "execute_result"
    }
   ],
   "source": [
    "g1 = readdlm(\"g1simulated_moments.csv\")\n",
    "g2 = readdlm(\"g2simulated_moments.csv\")\n",
    "g3 = readdlm(\"g2simulated_moments.csv\")\n",
    "g4 = readdlm(\"g2simulated_moments.csv\")\n",
    "g5 = readdlm(\"g2simulated_moments.csv\")\n",
    "g6 = readdlm(\"g2simulated_moments.csv\")\n",
    "g7 = readdlm(\"g2simulated_moments.csv\")\n",
    "g8 = readdlm(\"g2simulated_moments.csv\")\n",
    "g9 = readdlm(\"g2simulated_moments.csv\")\n",
    "g10 = readdlm(\"g2simulated_moments.csv\")"
   ]
  },
  {
   "cell_type": "code",
   "execution_count": 5,
   "metadata": {},
   "outputs": [
    {
     "data": {
      "text/plain": [
       "9-element Array{String,1}:\n",
       " \"1. avg log number of months between observed proposals incourt\"\n",
       " \"2. fraction reorganized given that the case went into court\"\n",
       " \"3. ln duration of court cases in months\"\n",
       " \"4. fraction of cases incourt\"\n",
       " \"5. avg recovery rate for S given a REORGANIZATION in the 25% fastest cases\"\n",
       " \"6. avg recovery rate for J given a REORGANIZATION in the 25% fastest cases\"\n",
       " \"7. junior avg fraction gain given incourt REORGANIZATION\"\n",
       " \"8. total recovery rate given incourt REORGANIZATION\"\n",
       " \"9. slope of the regression of log(recovery rate | incourt reorg) ~ log(duration)\""
      ]
     },
     "execution_count": 5,
     "metadata": {},
     "output_type": "execute_result"
    }
   ],
   "source": [
    "moments"
   ]
  },
  {
   "cell_type": "code",
   "execution_count": 18,
   "metadata": {},
   "outputs": [
    {
     "name": "stderr",
     "output_type": "stream",
     "text": [
      "┌ Info: Precompiling Latexify [23fbe1c1-3f47-55db-b15f-69d7ec21a316]\n",
      "└ @ Base loading.jl:1278\n"
     ]
    }
   ],
   "source": [
    "using Latexify"
   ]
  },
  {
   "cell_type": "code",
   "execution_count": 24,
   "metadata": {},
   "outputs": [
    {
     "data": {
      "text/plain": [
       "9×6 Array{Float64,2}:\n",
       "  1.8192   2.01855    2.09063    2.09063    2.09063    2.09063\n",
       "  0.8281   0.991704   0.994069   0.994069   0.994069   0.994069\n",
       "  2.7704   2.7217     2.77833    2.77833    2.77833    2.77833\n",
       "  0.9696   0.949242   0.949848   0.949848   0.949848   0.949848\n",
       "  0.5652   0.55127    0.541335   0.541335   0.541335   0.541335\n",
       "  0.5562   0.514079   0.535545   0.535545   0.535545   0.535545\n",
       "  0.7835   0.759097   0.772837   0.772837   0.772837   0.772837\n",
       "  0.4987   0.464736   0.475476   0.475476   0.475476   0.475476\n",
       " -0.0962  -0.17584   -0.175635  -0.175635  -0.175635  -0.175635"
      ]
     },
     "execution_count": 24,
     "metadata": {},
     "output_type": "execute_result"
    }
   ],
   "source": [
    "hcat(data_moments, g1, g2, g3, g4, g5)"
   ]
  },
  {
   "cell_type": "code",
   "execution_count": 27,
   "metadata": {},
   "outputs": [
    {
     "name": "stderr",
     "output_type": "stream",
     "text": [
      "\u001b[32m\u001b[1m  Resolving\u001b[22m\u001b[39m package versions...\n",
      "\u001b[32m\u001b[1m  Installed\u001b[22m\u001b[39m LatexPrint ─ v1.0.0\n",
      "\u001b[32m\u001b[1mUpdating\u001b[22m\u001b[39m `C:\\Users\\Zé\\.julia\\environments\\v1.5\\Project.toml`\n",
      " \u001b[90m [d2208f48] \u001b[39m\u001b[92m+ LatexPrint v1.0.0\u001b[39m\n",
      "\u001b[32m\u001b[1mUpdating\u001b[22m\u001b[39m `C:\\Users\\Zé\\.julia\\environments\\v1.5\\Manifest.toml`\n",
      " \u001b[90m [d2208f48] \u001b[39m\u001b[92m+ LatexPrint v1.0.0\u001b[39m\n"
     ]
    }
   ],
   "source": [
    "Pkg.add(\"LatexPrint\")"
   ]
  },
  {
   "cell_type": "code",
   "execution_count": 28,
   "metadata": {},
   "outputs": [
    {
     "name": "stderr",
     "output_type": "stream",
     "text": [
      "┌ Info: Precompiling LatexPrint [d2208f48-c256-5759-9089-c25ed2a93924]\n",
      "└ @ Base loading.jl:1278\n"
     ]
    }
   ],
   "source": [
    "using LatexPrint"
   ]
  },
  {
   "cell_type": "code",
   "execution_count": 34,
   "metadata": {},
   "outputs": [
    {
     "data": {
      "text/latex": [
       "\\texttt{tabular(A)} returns a LaTeX version of the two-dimensional array \\texttt{A}. This function takes two optional (named) arguments:\n",
       "\n",
       "\\begin{itemize}\n",
       "\\item \\texttt{alignment} is a \\texttt{String} giving the LaTeX alignment codes for the columns.   For example, if \\texttt{A} is a \\texttt{2}-by-\\texttt{3} array, then \\texttt{\"cc|r\"} would specify that the   first two columns are centered, then a vertical bar,   and then the third column is right justified. Default   is that all columns are \\texttt{c} unless this default is changed by \\texttt{set\\_align()}.\n",
       "\n",
       "\n",
       "\\item \\texttt{hlines} is a \\texttt{Bool} for controlling the addition of \\texttt{{\\textbackslash}hline} at the end of   every row (except the last row). This is \\texttt{false} by default.\n",
       "\n",
       "\\end{itemize}\n"
      ],
      "text/markdown": [
       "`tabular(A)` returns a LaTeX version of the two-dimensional array `A`. This function takes two optional (named) arguments:\n",
       "\n",
       "  * `alignment` is a `String` giving the LaTeX alignment codes for the columns.   For example, if `A` is a `2`-by-`3` array, then `\"cc|r\"` would specify that the   first two columns are centered, then a vertical bar,   and then the third column is right justified. Default   is that all columns are `c` unless this default is changed by `set_align()`.\n",
       "  * `hlines` is a `Bool` for controlling the addition of `\\hline` at the end of   every row (except the last row). This is `false` by default.\n"
      ],
      "text/plain": [
       "  \u001b[36mtabular(A)\u001b[39m returns a LaTeX version of the two-dimensional array \u001b[36mA\u001b[39m. This\n",
       "  function takes two optional (named) arguments:\n",
       "\n",
       "    •    \u001b[36malignment\u001b[39m is a \u001b[36mString\u001b[39m giving the LaTeX alignment codes for the\n",
       "        columns. For example, if \u001b[36mA\u001b[39m is a \u001b[36m2\u001b[39m-by-\u001b[36m3\u001b[39m array, then \u001b[36m\"cc|r\"\u001b[39m would\n",
       "        specify that the first two columns are centered, then a vertical\n",
       "        bar, and then the third column is right justified. Default is that\n",
       "        all columns are \u001b[36mc\u001b[39m unless this default is changed by \u001b[36mset_align()\u001b[39m.\n",
       "\n",
       "    •    \u001b[36mhlines\u001b[39m is a \u001b[36mBool\u001b[39m for controlling the addition of \u001b[36m\\hline\u001b[39m at the end\n",
       "        of every row (except the last row). This is \u001b[36mfalse\u001b[39m by default."
      ]
     },
     "execution_count": 34,
     "metadata": {},
     "output_type": "execute_result"
    }
   ],
   "source": [
    "?tabular()"
   ]
  },
  {
   "cell_type": "code",
   "execution_count": 39,
   "metadata": {},
   "outputs": [
    {
     "name": "stdout",
     "output_type": "stream",
     "text": [
      "\\left[\n",
      "\\begin{array}{cccccc}\n",
      "1.8192 & 2.018546988139978 & 2.090634682918589 & 2.090634682918589 & 2.090634682918589 & 2.090634682918589 \\\\\n",
      "0.8281 & 0.9917044903539427 & 0.9940691120673548 & 0.9940691120673548 & 0.9940691120673548 & 0.9940691120673548 \\\\\n",
      "2.7704 & 2.721704390506778 & 2.7783345596208107 & 2.7783345596208107 & 2.7783345596208107 & 2.7783345596208107 \\\\\n",
      "0.9696 & 0.9492424242424241 & 0.9498484848484847 & 0.9498484848484847 & 0.9498484848484847 & 0.9498484848484847 \\\\\n",
      "0.5652 & 0.5512702625649903 & 0.5413354135704804 & 0.5413354135704804 & 0.5413354135704804 & 0.5413354135704804 \\\\\n",
      "0.5562 & 0.514078958461064 & 0.5355452934130291 & 0.5355452934130291 & 0.5355452934130291 & 0.5355452934130291 \\\\\n",
      "0.7835 & 0.7590974271927741 & 0.7728370987692509 & 0.7728370987692509 & 0.7728370987692509 & 0.7728370987692509 \\\\\n",
      "0.4987 & 0.4647359201947635 & 0.47547555453434603 & 0.47547555453434603 & 0.47547555453434603 & 0.47547555453434603 \\\\\n",
      "-0.0962 & -0.17584004336669123 & -0.17563527195825115 & -0.17563527195825115 & -0.17563527195825115 & -0.17563527195825115 \\\\\n",
      "\\end{array}\n",
      "\\right]\n"
     ]
    }
   ],
   "source": [
    "laprintln( hcat(data_moments, g1, g2, g3, g4, g5))"
   ]
  },
  {
   "cell_type": "code",
   "execution_count": 26,
   "metadata": {},
   "outputs": [
    {
     "name": "stdout",
     "output_type": "stream",
     "text": [
      "\\begin{equation}\n",
      "\\left[\n",
      "\\begin{array}{cccccc}\n",
      "1.8192 & 2.018546988139978 & 2.090634682918589 & 2.090634682918589 & 2.090634682918589 & 2.090634682918589 \\\\\n",
      "0.8281 & 0.9917044903539427 & 0.9940691120673548 & 0.9940691120673548 & 0.9940691120673548 & 0.9940691120673548 \\\\\n",
      "2.7704 & 2.721704390506778 & 2.7783345596208107 & 2.7783345596208107 & 2.7783345596208107 & 2.7783345596208107 \\\\\n",
      "0.9696 & 0.9492424242424241 & 0.9498484848484847 & 0.9498484848484847 & 0.9498484848484847 & 0.9498484848484847 \\\\\n",
      "0.5652 & 0.5512702625649903 & 0.5413354135704804 & 0.5413354135704804 & 0.5413354135704804 & 0.5413354135704804 \\\\\n",
      "0.5562 & 0.514078958461064 & 0.5355452934130291 & 0.5355452934130291 & 0.5355452934130291 & 0.5355452934130291 \\\\\n",
      "0.7835 & 0.7590974271927741 & 0.7728370987692509 & 0.7728370987692509 & 0.7728370987692509 & 0.7728370987692509 \\\\\n",
      "0.4987 & 0.4647359201947635 & 0.47547555453434603 & 0.47547555453434603 & 0.47547555453434603 & 0.47547555453434603 \\\\\n",
      "-0.0962 & -0.17584004336669123 & -0.17563527195825115 & -0.17563527195825115 & -0.17563527195825115 & -0.17563527195825115 \\\\\n",
      "\\end{array}\n",
      "\\right]\n",
      "\\end{equation}\n"
     ]
    }
   ],
   "source": [
    "latexify( hcat(data_moments, g1, g2, g3, g4, g5) ) |> print\n",
    "\n"
   ]
  },
  {
   "cell_type": "code",
   "execution_count": 8,
   "metadata": {},
   "outputs": [
    {
     "data": {
      "text/plain": [
       "9×6 Array{Float64,2}:\n",
       "  1.8192   2.09063    2.09063    2.09063    2.09063    2.09063\n",
       "  0.8281   0.994069   0.994069   0.994069   0.994069   0.994069\n",
       "  2.7704   2.77833    2.77833    2.77833    2.77833    2.77833\n",
       "  0.9696   0.949848   0.949848   0.949848   0.949848   0.949848\n",
       "  0.5652   0.541335   0.541335   0.541335   0.541335   0.541335\n",
       "  0.5562   0.535545   0.535545   0.535545   0.535545   0.535545\n",
       "  0.7835   0.772837   0.772837   0.772837   0.772837   0.772837\n",
       "  0.4987   0.475476   0.475476   0.475476   0.475476   0.475476\n",
       " -0.0962  -0.175635  -0.175635  -0.175635  -0.175635  -0.175635"
      ]
     },
     "execution_count": 8,
     "metadata": {},
     "output_type": "execute_result"
    }
   ],
   "source": [
    "hcat(data_moments, g6, g7, g9, g9, g10)"
   ]
  },
  {
   "cell_type": "code",
   "execution_count": 22,
   "metadata": {},
   "outputs": [
    {
     "data": {
      "text/plain": [
       "9×9 Array{Float64,2}:\n",
       " 504739.0        -7.37773e5  …   5.82004e6   4.31208e6  -1.30073e6\n",
       "     -7.37773e5   1.1092e6      -8.67806e6  -6.4245e6    1.94857e6\n",
       "      5.3924e6   -8.04175e6      6.31246e7   4.677e7    -1.41587e7\n",
       "      2.23011e6  -3.32276e6      2.60853e7   1.93264e7  -5.84978e6\n",
       "      1.21021e7  -1.80194e7      1.4154e8    1.04895e8  -3.17407e7\n",
       "     -1.62709e7   2.42619e7  …  -1.90512e8  -1.41192e8   4.27353e7\n",
       "      5.82004e6  -8.67806e6      6.811e7     5.04519e7  -1.52749e7\n",
       "      4.31208e6  -6.4245e6       5.04519e7   3.7395e7   -1.13157e7\n",
       "     -1.30073e6   1.94857e6     -1.52749e7  -1.13157e7   3.42892e6"
      ]
     },
     "execution_count": 22,
     "metadata": {},
     "output_type": "execute_result"
    }
   ],
   "source": [
    "W_hat = readdlm(\"WCluster.csv\", ',')"
   ]
  },
  {
   "cell_type": "code",
   "execution_count": 23,
   "metadata": {},
   "outputs": [
    {
     "data": {
      "text/plain": [
       "criterion (generic function with 1 method)"
      ]
     },
     "execution_count": 23,
     "metadata": {},
     "output_type": "execute_result"
    }
   ],
   "source": [
    "function criterion(data_moments, simulated_moments, W_hat)\n",
    "    \n",
    "    #calculate the value of the objective function\n",
    "    \n",
    "    err = error_vector(data_moments, simulated_moments)\n",
    "    \n",
    "    #* in this case represents matrix multiplication\n",
    "    criterion_val = transpose(err) * W_hat\n",
    "    criterion_val = criterion_val * err\n",
    "    \n",
    "#     return (transpose(err) * W_hat) * err\n",
    "    return criterion_val\n",
    "    \n",
    "end"
   ]
  },
  {
   "cell_type": "code",
   "execution_count": 24,
   "metadata": {},
   "outputs": [
    {
     "data": {
      "text/plain": [
       "2.0253734691278577e7"
      ]
     },
     "execution_count": 24,
     "metadata": {},
     "output_type": "execute_result"
    }
   ],
   "source": [
    "fc = criterion(data_moments, simulated_moments, W_hat)"
   ]
  },
  {
   "cell_type": "code",
   "execution_count": null,
   "metadata": {},
   "outputs": [],
   "source": [
    "println(\"fc = $fc\")"
   ]
  }
 ],
 "metadata": {
  "kernelspec": {
   "display_name": "Julia 1.5.3",
   "language": "julia",
   "name": "julia-1.5"
  },
  "language_info": {
   "file_extension": ".jl",
   "mimetype": "application/julia",
   "name": "julia",
   "version": "1.5.3"
  }
 },
 "nbformat": 4,
 "nbformat_minor": 4
}
