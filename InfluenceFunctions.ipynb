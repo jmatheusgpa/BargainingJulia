{
 "cells": [
  {
   "cell_type": "markdown",
   "metadata": {},
   "source": [
    "Tentando calcular as funções influência dos momentos que vou usar na estimação"
   ]
  },
  {
   "cell_type": "markdown",
   "metadata": {},
   "source": [
    "1. Ler os dados do projeto dentro de Julia\n",
    "2. Calcular os momentos usando os dados\n",
    "3. Calcular IF\n",
    "    * se a observação não pertence ao conjunto (i.e., o momento é sobre casos pré-corte e a observação fica dentro da corte), IF = 0\n",
    "    * do contrário, IF = x - Momento(X), onde x é a observação e X é a amostra correspondente àquele momento"
   ]
  },
  {
   "cell_type": "markdown",
   "metadata": {},
   "source": [
    "Estamos trocando alguns momentos\n",
    "\n",
    "- 5 e 6 serão taxas de recuperação para S e J em casos \"rápidos\" reorganizados dentro da corte\n",
    "    - entrarão no lugar da taxa de recuperação pre-court, pois temos só 2 observações para estes\n",
    "    \n",
    "- 9 e 10 serão as variâncias das taxas de recuperação de S e J para reorganizações dentro da corte\n",
    "    - mais momentos para identificar habilidades iniciais de S e de J\n",
    "    \n",
    "- 11 será a variância da duração total de casos ~reorganizados~ dentro da corte\n",
    "    - ajudará a identificar \\rho, torcemos\n",
    "    - teste no aguia foi com casos reorganizados, mas o MM3 é a média da duração de todos os casos dentro da corte. Portanto, vou calcular a variância de todos os casos dentro da corte no MM11\n",
    "    \n",
    "- 12 será o coeficiente da regressão da taxa de recuperação total na duração total para casos reorganizados dentro da corte\n",
    "    - é o momento 9 de Dou et al, que serve para identificar \\rho"
   ]
  },
  {
   "cell_type": "code",
   "execution_count": 1,
   "metadata": {},
   "outputs": [],
   "source": [
    "#lendo dados do projeto: trilemma_data.xlsx\n",
    "# using Pkg\n",
    "# Pkg.add(\"XLSX\")\n",
    "\n",
    "using XLSX"
   ]
  },
  {
   "cell_type": "code",
   "execution_count": 2,
   "metadata": {},
   "outputs": [],
   "source": [
    "using DataFrames"
   ]
  },
  {
   "cell_type": "code",
   "execution_count": 3,
   "metadata": {},
   "outputs": [],
   "source": [
    "using Statistics"
   ]
  },
  {
   "cell_type": "code",
   "execution_count": 4,
   "metadata": {},
   "outputs": [
    {
     "data": {
      "text/plain": [
       "240"
      ]
     },
     "execution_count": 4,
     "metadata": {},
     "output_type": "execute_result"
    }
   ],
   "source": [
    "ENV[\"COLUMNS\"] = 240 #para aumentar o número de colunas mostradas"
   ]
  },
  {
   "cell_type": "code",
   "execution_count": 115,
   "metadata": {},
   "outputs": [
    {
     "data": {
      "text/html": [
       "<table class=\"data-frame\"><thead><tr><th></th><th>processo</th><th>fil_date</th><th>data_start</th><th>plan_date</th><th>final_date</th><th>months_fil_start</th><th>months_start_plan</th><th>months_plan_final</th><th>months_fil_final</th><th>in_court</th><th>D_junior</th><th>D_labor</th><th>D_senior</th><th>R_junior</th><th>R_labor</th><th>R_senior</th><th>assets_total</th><th>assets_fixed</th></tr><tr><th></th><th>Any</th><th>Any</th><th>Any</th><th>Any</th><th>Any</th><th>Any</th><th>Any</th><th>Any</th><th>Any</th><th>Any</th><th>Any</th><th>Any</th><th>Any</th><th>Any</th><th>Any</th><th>Any</th><th>Any</th><th>Any</th></tr></thead><tbody><p>66 rows × 32 columns (omitted printing of 14 columns)</p><tr><th>1</th><td>0000547-55.2014.8.26.0291</td><td>2014-01-22</td><td>2014-01-29</td><td>2015-09-16</td><td>2018-07-12</td><td>0.233333</td><td>19.8333</td><td>34.3333</td><td>54.4</td><td>1.0</td><td>3.49201e6</td><td>1.38557e6</td><td>3.656e6</td><td>0.442533</td><td>0.941905</td><td>0.442533</td><td>2.53837e7</td><td>2.36164e7</td></tr><tr><th>2</th><td>0000731-65.2011.8.26.0695</td><td>2011-03-22</td><td>2011-04-08</td><td>2011-10-20</td><td>2017-04-20</td><td>0.566667</td><td>6.5</td><td>66.9667</td><td>74.0333</td><td>1.0</td><td>1.58332e6</td><td>9.64064e5</td><td>1.61192e5</td><td>0.81201</td><td>0.941905</td><td>0.81201</td><td>2.77487e6</td><td>1.0668e6</td></tr><tr><th>3</th><td>0003124-79.2014.8.26.0299</td><td>2014-05-28</td><td>2014-09-25</td><td>2016-07-18</td><td>2018-07-02</td><td>4.0</td><td>22.0667</td><td>23.8</td><td>49.8667</td><td>1.0</td><td>9.85081e6</td><td>1.63535e5</td><td>3.30049e6</td><td>0.36744</td><td>0.968244</td><td>0.36744</td><td>1.1296e7</td><td>3.32642e6</td></tr><tr><th>4</th><td>0006202-38.2010.8.26.0100</td><td>2010-02-12</td><td>2010-03-29</td><td>2011-01-03</td><td>2017-08-25</td><td>1.5</td><td>9.33333</td><td>80.8667</td><td>91.7</td><td>1.0</td><td>3.58351e7</td><td>1.72202e6</td><td>4.18984e5</td><td>0.535184</td><td>0.941905</td><td>0.535184</td><td>1.65361e7</td><td>1.15454e7</td></tr><tr><th>5</th><td>0011100-26.2012.8.26.0100</td><td>2012-03-06</td><td>2012-04-04</td><td>2014-05-15</td><td>2015-11-24</td><td>0.966667</td><td>25.7</td><td>18.6</td><td>45.2667</td><td>1.0</td><td>1.43452e7</td><td>0.0</td><td>1.41472e7</td><td>0.465931</td><td>0.0</td><td>0.465931</td><td>1.86502e7</td><td>5.63179e6</td></tr><tr><th>6</th><td>0014297-52.2013.8.26.0100</td><td>2013-02-07</td><td>2013-02-22</td><td>2014-07-21</td><td>2018-05-15</td><td>0.5</td><td>17.1333</td><td>46.4667</td><td>64.1</td><td>1.0</td><td>3.1438e7</td><td>1.41865e6</td><td>1.48989e7</td><td>0.396523</td><td>0.941905</td><td>0.536727</td><td>6.79508e7</td><td>1.23996e7</td></tr><tr><th>7</th><td>0016095-59.2013.8.26.0161</td><td>2013-06-17</td><td>2014-03-18</td><td>2016-06-06</td><td>2018-11-01</td><td>9.13333</td><td>27.0333</td><td>29.2667</td><td>65.4333</td><td>1.0</td><td>1.00002e7</td><td>75754.0</td><td>1.02842e5</td><td>0.814917</td><td>0.941905</td><td>0.814917</td><td>3.684e6</td><td>259066.0</td></tr><tr><th>8</th><td>0023189-81.2012.8.26.0100</td><td>2012-05-07</td><td>2012-06-22</td><td>2013-06-07</td><td>2019-01-15</td><td>1.53333</td><td>11.6667</td><td>68.2667</td><td>81.4667</td><td>1.0</td><td>4.86213e6</td><td>0.0</td><td>3.844e6</td><td>0.206332</td><td>0.0</td><td>0.206332</td><td>2.43727e6</td><td>755068.0</td></tr><tr><th>9</th><td>0025113-93.2013.8.26.0100</td><td>2013-04-03</td><td>2013-08-16</td><td>2014-09-17</td><td>2018-09-24</td><td>4.5</td><td>13.2333</td><td>48.9333</td><td>66.6667</td><td>1.0</td><td>1.07158e6</td><td>0.0</td><td>150000.0</td><td>0.448017</td><td>0.0</td><td>0.448017</td><td>299845.0</td><td>243594.0</td></tr><tr><th>10</th><td>0025535-05.2012.8.26.0100</td><td>2012-05-18</td><td>2012-09-03</td><td>2013-06-07</td><td>2015-10-08</td><td>3.6</td><td>9.23333</td><td>28.4333</td><td>41.2667</td><td>1.0</td><td>8.35837e6</td><td>3.05502e5</td><td>1.26003e6</td><td>0.726299</td><td>0.941905</td><td>0.726299</td><td>2.62484e7</td><td>812587.0</td></tr><tr><th>11</th><td>0026883-58.2012.8.26.0100</td><td>2012-05-28</td><td>2012-05-30</td><td>2014-04-23</td><td>2014-04-23</td><td>0.0666667</td><td>23.1</td><td>0.0</td><td>23.1667</td><td>1.0</td><td>3.49639e7</td><td>1.16436e7</td><td>7.81251e6</td><td>0.208349</td><td>0.941905</td><td>0.208349</td><td>1.16454e8</td><td>2.26655e7</td></tr><tr><th>12</th><td>0031706-12.2011.8.26.0100</td><td>2011-07-12</td><td>2011-08-30</td><td>2013-01-14</td><td>2017-03-13</td><td>1.63333</td><td>16.7667</td><td>50.6333</td><td>69.0333</td><td>1.0</td><td>4.88285e7</td><td>541684.0</td><td>7.02685e6</td><td>0.332966</td><td>0.941905</td><td>0.743505</td><td>7.16827e7</td><td>1.279e7</td></tr><tr><th>13</th><td>0036392-76.2013.8.26.0100</td><td>2013-05-27</td><td>2013-07-04</td><td>2014-07-03</td><td>2015-12-03</td><td>1.26667</td><td>12.1333</td><td>17.2667</td><td>30.6667</td><td>1.0</td><td>1.31804e7</td><td>213276.0</td><td>441615.0</td><td>0.419574</td><td>0.947734</td><td>0.419574</td><td>2.12593e7</td><td>464973.0</td></tr><tr><th>14</th><td>0037381-82.2013.8.26.0100</td><td>2013-06-03</td><td>2013-08-02</td><td>2015-06-02</td><td>2018-03-05</td><td>2.0</td><td>22.3</td><td>33.5667</td><td>57.8667</td><td>1.0</td><td>8.60174e7</td><td>1.47172e6</td><td>3.56249e7</td><td>0.208876</td><td>0.941905</td><td>0.208876</td><td>5.11649e7</td><td>3.36238e6</td></tr><tr><th>15</th><td>0038881-23.2012.8.26.0100</td><td>2012-08-02</td><td>2012-09-06</td><td>2013-12-13</td><td>2016-05-19</td><td>1.16667</td><td>15.4333</td><td>29.6</td><td>46.2</td><td>1.0</td><td>4.04983e6</td><td>0.0</td><td>29067.6</td><td>0.552554</td><td>0.0</td><td>0.537302</td><td>282919.0</td><td>128934.0</td></tr><tr><th>16</th><td>0040759-80.2012.8.26.0100</td><td>2012-08-13</td><td>2012-08-17</td><td>2014-08-07</td><td>2019-04-24</td><td>0.133333</td><td>24.0</td><td>57.3667</td><td>81.5</td><td>1.0</td><td>6.23264e7</td><td>4.06458e6</td><td>3.71427e7</td><td>0.435687</td><td>0.941905</td><td>0.995025</td><td>7.67627e7</td><td>3.97866e7</td></tr><tr><th>17</th><td>0047633-52.2010.8.26.0100</td><td>2010-11-25</td><td>2010-12-14</td><td>2012-01-20</td><td>2016-11-28</td><td>0.633333</td><td>13.4</td><td>59.1333</td><td>73.1667</td><td>1.0</td><td>1.58493e7</td><td>3.33707e5</td><td>2.39977e6</td><td>0.806265</td><td>0.968244</td><td>0.806265</td><td>2.82795e7</td><td>3.31912e6</td></tr><tr><th>18</th><td>0049410-04.2012.8.26.0100</td><td>2012-09-21</td><td>2012-10-19</td><td>2014-05-14</td><td>2014-05-14</td><td>0.933333</td><td>19.0667</td><td>0.0</td><td>20.0</td><td>1.0</td><td>3.24187e7</td><td>1.0339e5</td><td>3.34975e6</td><td>0.389777</td><td>0.985157</td><td>0.467732</td><td>2.97062e7</td><td>963051.0</td></tr><tr><th>19</th><td>0050926-59.2012.8.26.0100</td><td>2012-10-01</td><td>2012-10-04</td><td>2014-02-14</td><td>2016-07-12</td><td>0.1</td><td>16.6</td><td>29.3</td><td>46.0</td><td>1.0</td><td>9.92458e6</td><td>346732.0</td><td>1.1956e6</td><td>0.360493</td><td>0.941905</td><td>0.580947</td><td>2.11199e7</td><td>444084.0</td></tr><tr><th>20</th><td>0052597-54.2011.8.26.0100</td><td>2011-11-03</td><td>2011-12-13</td><td>2013-03-19</td><td>2016-02-25</td><td>1.33333</td><td>15.4</td><td>35.7667</td><td>52.5</td><td>1.0</td><td>3.33873e7</td><td>2860.0</td><td>20000.0</td><td>0.496396</td><td>0.941905</td><td>0.496396</td><td>8.89775e6</td><td>3.31661e6</td></tr><tr><th>21</th><td>0057122-11.2013.8.26.0100</td><td>2013-08-28</td><td>2013-10-09</td><td>2014-10-08</td><td>2016-03-23</td><td>1.4</td><td>12.1333</td><td>17.7333</td><td>31.2667</td><td>1.0</td><td>1.25869e6</td><td>91267.0</td><td>3.07896e6</td><td>0.555154</td><td>0.968244</td><td>0.751999</td><td>6.30519e6</td><td>3.80922e6</td></tr><tr><th>22</th><td>0057970-95.2013.8.26.0100</td><td>2013-09-02</td><td>2013-09-17</td><td>2015-02-02</td><td>2019-04-04</td><td>0.5</td><td>16.7667</td><td>50.7333</td><td>68.0</td><td>1.0</td><td>1.21831e7</td><td>4.32772e6</td><td>316500.0</td><td>0.620106</td><td>0.941905</td><td>0.620106</td><td>1.88919e7</td><td>7.85528e6</td></tr><tr><th>23</th><td>0064111-67.2012.8.26.0100</td><td>2012-11-14</td><td>2013-01-29</td><td>2014-07-30</td><td>2017-07-10</td><td>2.53333</td><td>18.2333</td><td>35.8667</td><td>56.6333</td><td>1.0</td><td>1.60199e7</td><td>3.2556e6</td><td>176530.0</td><td>0.655437</td><td>0.941905</td><td>0.449309</td><td>7.58655e7</td><td>1.34885e7</td></tr><tr><th>24</th><td>0111888-53.2009.8.26.0100</td><td>2009-02-03</td><td>2009-03-24</td><td>2010-10-06</td><td>2016-02-03</td><td>1.63333</td><td>18.7</td><td>64.8667</td><td>85.2</td><td>1.0</td><td>2.82823e7</td><td>2.52368e5</td><td>1.51566e5</td><td>0.422266</td><td>0.941905</td><td>0.422266</td><td>8.61028e7</td><td>3.05071e6</td></tr><tr><th>25</th><td>0128335-19.2009.8.26.0100</td><td>2009-03-19</td><td>2009-04-30</td><td>2010-06-17</td><td>2013-12-18</td><td>1.4</td><td>13.7667</td><td>42.6667</td><td>57.8333</td><td>1.0</td><td>1.21287e7</td><td>1.71332e6</td><td>2.03739e6</td><td>0.665932</td><td>0.968244</td><td>0.995025</td><td>4.8867e7</td><td>1.98944e7</td></tr><tr><th>26</th><td>0133085-64.2009.8.26.0100</td><td>2009-04-01</td><td>2009-05-19</td><td>2010-03-19</td><td>2018-12-04</td><td>1.6</td><td>10.1333</td><td>106.067</td><td>117.8</td><td>1.0</td><td>1.66432e7</td><td>89600.0</td><td>1.12e6</td><td>0.377744</td><td>0.995025</td><td>0.377744</td><td>1.25236e7</td><td>1.60186e6</td></tr><tr><th>27</th><td>0166925-02.2008.8.26.0100</td><td>2008-07-07</td><td>2008-08-07</td><td>2009-08-28</td><td>2014-10-03</td><td>1.03333</td><td>12.8667</td><td>62.0667</td><td>75.9667</td><td>1.0</td><td>3.51184e6</td><td>138030.0</td><td>140000.0</td><td>0.775821</td><td>0.953758</td><td>0.775821</td><td>5.7835e6</td><td>2.27378e6</td></tr><tr><th>28</th><td>0195566-97.2008.8.26.0100</td><td>2008-09-15</td><td>2008-11-10</td><td>2009-10-20</td><td>2017-02-23</td><td>1.86667</td><td>11.4667</td><td>89.4333</td><td>102.767</td><td>1.0</td><td>2.06378e7</td><td>3.27136e6</td><td>5.06453e6</td><td>0.812916</td><td>0.953758</td><td>0.812916</td><td>6.00031e7</td><td>5.04528e6</td></tr><tr><th>29</th><td>0199374-13.2008.8.26.0100</td><td>2008-09-23</td><td>2008-10-30</td><td>2009-09-09</td><td>2017-09-20</td><td>1.23333</td><td>10.4667</td><td>97.7667</td><td>109.467</td><td>1.0</td><td>6.89941e6</td><td>11642.0</td><td>1.16586e6</td><td>0.687773</td><td>0.941905</td><td>0.687773</td><td>8.34309e6</td><td>718390.0</td></tr><tr><th>30</th><td>0228439-53.2008.8.26.0100</td><td>2008-06-15</td><td>2009-01-09</td><td>2009-11-12</td><td>2016-04-19</td><td>6.93333</td><td>10.2333</td><td>78.3333</td><td>95.5</td><td>1.0</td><td>4.24744e7</td><td>9.57444e5</td><td>684573.0</td><td>0.598274</td><td>0.941905</td><td>0.598274</td><td>1.46139e7</td><td>6.41127e6</td></tr><tr><th>&vellip;</th><td>&vellip;</td><td>&vellip;</td><td>&vellip;</td><td>&vellip;</td><td>&vellip;</td><td>&vellip;</td><td>&vellip;</td><td>&vellip;</td><td>&vellip;</td><td>&vellip;</td><td>&vellip;</td><td>&vellip;</td><td>&vellip;</td><td>&vellip;</td><td>&vellip;</td><td>&vellip;</td><td>&vellip;</td><td>&vellip;</td></tr></tbody></table>"
      ],
      "text/latex": [
       "\\begin{tabular}{r|ccccccccccccccccccc}\n",
       "\t& processo & fil\\_date & data\\_start & plan\\_date & final\\_date & months\\_fil\\_start & months\\_start\\_plan & months\\_plan\\_final & months\\_fil\\_final & in\\_court & D\\_junior & D\\_labor & D\\_senior & R\\_junior & R\\_labor & R\\_senior & assets\\_total & assets\\_fixed & \\\\\n",
       "\t\\hline\n",
       "\t& Any & Any & Any & Any & Any & Any & Any & Any & Any & Any & Any & Any & Any & Any & Any & Any & Any & Any & \\\\\n",
       "\t\\hline\n",
       "\t1 & 0000547-55.2014.8.26.0291 & 2014-01-22 & 2014-01-29 & 2015-09-16 & 2018-07-12 & 0.233333 & 19.8333 & 34.3333 & 54.4 & 1.0 & 3.49201e6 & 1.38557e6 & 3.656e6 & 0.442533 & 0.941905 & 0.442533 & 2.53837e7 & 2.36164e7 & $\\dots$ \\\\\n",
       "\t2 & 0000731-65.2011.8.26.0695 & 2011-03-22 & 2011-04-08 & 2011-10-20 & 2017-04-20 & 0.566667 & 6.5 & 66.9667 & 74.0333 & 1.0 & 1.58332e6 & 9.64064e5 & 1.61192e5 & 0.81201 & 0.941905 & 0.81201 & 2.77487e6 & 1.0668e6 & $\\dots$ \\\\\n",
       "\t3 & 0003124-79.2014.8.26.0299 & 2014-05-28 & 2014-09-25 & 2016-07-18 & 2018-07-02 & 4.0 & 22.0667 & 23.8 & 49.8667 & 1.0 & 9.85081e6 & 1.63535e5 & 3.30049e6 & 0.36744 & 0.968244 & 0.36744 & 1.1296e7 & 3.32642e6 & $\\dots$ \\\\\n",
       "\t4 & 0006202-38.2010.8.26.0100 & 2010-02-12 & 2010-03-29 & 2011-01-03 & 2017-08-25 & 1.5 & 9.33333 & 80.8667 & 91.7 & 1.0 & 3.58351e7 & 1.72202e6 & 4.18984e5 & 0.535184 & 0.941905 & 0.535184 & 1.65361e7 & 1.15454e7 & $\\dots$ \\\\\n",
       "\t5 & 0011100-26.2012.8.26.0100 & 2012-03-06 & 2012-04-04 & 2014-05-15 & 2015-11-24 & 0.966667 & 25.7 & 18.6 & 45.2667 & 1.0 & 1.43452e7 & 0.0 & 1.41472e7 & 0.465931 & 0.0 & 0.465931 & 1.86502e7 & 5.63179e6 & $\\dots$ \\\\\n",
       "\t6 & 0014297-52.2013.8.26.0100 & 2013-02-07 & 2013-02-22 & 2014-07-21 & 2018-05-15 & 0.5 & 17.1333 & 46.4667 & 64.1 & 1.0 & 3.1438e7 & 1.41865e6 & 1.48989e7 & 0.396523 & 0.941905 & 0.536727 & 6.79508e7 & 1.23996e7 & $\\dots$ \\\\\n",
       "\t7 & 0016095-59.2013.8.26.0161 & 2013-06-17 & 2014-03-18 & 2016-06-06 & 2018-11-01 & 9.13333 & 27.0333 & 29.2667 & 65.4333 & 1.0 & 1.00002e7 & 75754.0 & 1.02842e5 & 0.814917 & 0.941905 & 0.814917 & 3.684e6 & 259066.0 & $\\dots$ \\\\\n",
       "\t8 & 0023189-81.2012.8.26.0100 & 2012-05-07 & 2012-06-22 & 2013-06-07 & 2019-01-15 & 1.53333 & 11.6667 & 68.2667 & 81.4667 & 1.0 & 4.86213e6 & 0.0 & 3.844e6 & 0.206332 & 0.0 & 0.206332 & 2.43727e6 & 755068.0 & $\\dots$ \\\\\n",
       "\t9 & 0025113-93.2013.8.26.0100 & 2013-04-03 & 2013-08-16 & 2014-09-17 & 2018-09-24 & 4.5 & 13.2333 & 48.9333 & 66.6667 & 1.0 & 1.07158e6 & 0.0 & 150000.0 & 0.448017 & 0.0 & 0.448017 & 299845.0 & 243594.0 & $\\dots$ \\\\\n",
       "\t10 & 0025535-05.2012.8.26.0100 & 2012-05-18 & 2012-09-03 & 2013-06-07 & 2015-10-08 & 3.6 & 9.23333 & 28.4333 & 41.2667 & 1.0 & 8.35837e6 & 3.05502e5 & 1.26003e6 & 0.726299 & 0.941905 & 0.726299 & 2.62484e7 & 812587.0 & $\\dots$ \\\\\n",
       "\t11 & 0026883-58.2012.8.26.0100 & 2012-05-28 & 2012-05-30 & 2014-04-23 & 2014-04-23 & 0.0666667 & 23.1 & 0.0 & 23.1667 & 1.0 & 3.49639e7 & 1.16436e7 & 7.81251e6 & 0.208349 & 0.941905 & 0.208349 & 1.16454e8 & 2.26655e7 & $\\dots$ \\\\\n",
       "\t12 & 0031706-12.2011.8.26.0100 & 2011-07-12 & 2011-08-30 & 2013-01-14 & 2017-03-13 & 1.63333 & 16.7667 & 50.6333 & 69.0333 & 1.0 & 4.88285e7 & 541684.0 & 7.02685e6 & 0.332966 & 0.941905 & 0.743505 & 7.16827e7 & 1.279e7 & $\\dots$ \\\\\n",
       "\t13 & 0036392-76.2013.8.26.0100 & 2013-05-27 & 2013-07-04 & 2014-07-03 & 2015-12-03 & 1.26667 & 12.1333 & 17.2667 & 30.6667 & 1.0 & 1.31804e7 & 213276.0 & 441615.0 & 0.419574 & 0.947734 & 0.419574 & 2.12593e7 & 464973.0 & $\\dots$ \\\\\n",
       "\t14 & 0037381-82.2013.8.26.0100 & 2013-06-03 & 2013-08-02 & 2015-06-02 & 2018-03-05 & 2.0 & 22.3 & 33.5667 & 57.8667 & 1.0 & 8.60174e7 & 1.47172e6 & 3.56249e7 & 0.208876 & 0.941905 & 0.208876 & 5.11649e7 & 3.36238e6 & $\\dots$ \\\\\n",
       "\t15 & 0038881-23.2012.8.26.0100 & 2012-08-02 & 2012-09-06 & 2013-12-13 & 2016-05-19 & 1.16667 & 15.4333 & 29.6 & 46.2 & 1.0 & 4.04983e6 & 0.0 & 29067.6 & 0.552554 & 0.0 & 0.537302 & 282919.0 & 128934.0 & $\\dots$ \\\\\n",
       "\t16 & 0040759-80.2012.8.26.0100 & 2012-08-13 & 2012-08-17 & 2014-08-07 & 2019-04-24 & 0.133333 & 24.0 & 57.3667 & 81.5 & 1.0 & 6.23264e7 & 4.06458e6 & 3.71427e7 & 0.435687 & 0.941905 & 0.995025 & 7.67627e7 & 3.97866e7 & $\\dots$ \\\\\n",
       "\t17 & 0047633-52.2010.8.26.0100 & 2010-11-25 & 2010-12-14 & 2012-01-20 & 2016-11-28 & 0.633333 & 13.4 & 59.1333 & 73.1667 & 1.0 & 1.58493e7 & 3.33707e5 & 2.39977e6 & 0.806265 & 0.968244 & 0.806265 & 2.82795e7 & 3.31912e6 & $\\dots$ \\\\\n",
       "\t18 & 0049410-04.2012.8.26.0100 & 2012-09-21 & 2012-10-19 & 2014-05-14 & 2014-05-14 & 0.933333 & 19.0667 & 0.0 & 20.0 & 1.0 & 3.24187e7 & 1.0339e5 & 3.34975e6 & 0.389777 & 0.985157 & 0.467732 & 2.97062e7 & 963051.0 & $\\dots$ \\\\\n",
       "\t19 & 0050926-59.2012.8.26.0100 & 2012-10-01 & 2012-10-04 & 2014-02-14 & 2016-07-12 & 0.1 & 16.6 & 29.3 & 46.0 & 1.0 & 9.92458e6 & 346732.0 & 1.1956e6 & 0.360493 & 0.941905 & 0.580947 & 2.11199e7 & 444084.0 & $\\dots$ \\\\\n",
       "\t20 & 0052597-54.2011.8.26.0100 & 2011-11-03 & 2011-12-13 & 2013-03-19 & 2016-02-25 & 1.33333 & 15.4 & 35.7667 & 52.5 & 1.0 & 3.33873e7 & 2860.0 & 20000.0 & 0.496396 & 0.941905 & 0.496396 & 8.89775e6 & 3.31661e6 & $\\dots$ \\\\\n",
       "\t21 & 0057122-11.2013.8.26.0100 & 2013-08-28 & 2013-10-09 & 2014-10-08 & 2016-03-23 & 1.4 & 12.1333 & 17.7333 & 31.2667 & 1.0 & 1.25869e6 & 91267.0 & 3.07896e6 & 0.555154 & 0.968244 & 0.751999 & 6.30519e6 & 3.80922e6 & $\\dots$ \\\\\n",
       "\t22 & 0057970-95.2013.8.26.0100 & 2013-09-02 & 2013-09-17 & 2015-02-02 & 2019-04-04 & 0.5 & 16.7667 & 50.7333 & 68.0 & 1.0 & 1.21831e7 & 4.32772e6 & 316500.0 & 0.620106 & 0.941905 & 0.620106 & 1.88919e7 & 7.85528e6 & $\\dots$ \\\\\n",
       "\t23 & 0064111-67.2012.8.26.0100 & 2012-11-14 & 2013-01-29 & 2014-07-30 & 2017-07-10 & 2.53333 & 18.2333 & 35.8667 & 56.6333 & 1.0 & 1.60199e7 & 3.2556e6 & 176530.0 & 0.655437 & 0.941905 & 0.449309 & 7.58655e7 & 1.34885e7 & $\\dots$ \\\\\n",
       "\t24 & 0111888-53.2009.8.26.0100 & 2009-02-03 & 2009-03-24 & 2010-10-06 & 2016-02-03 & 1.63333 & 18.7 & 64.8667 & 85.2 & 1.0 & 2.82823e7 & 2.52368e5 & 1.51566e5 & 0.422266 & 0.941905 & 0.422266 & 8.61028e7 & 3.05071e6 & $\\dots$ \\\\\n",
       "\t25 & 0128335-19.2009.8.26.0100 & 2009-03-19 & 2009-04-30 & 2010-06-17 & 2013-12-18 & 1.4 & 13.7667 & 42.6667 & 57.8333 & 1.0 & 1.21287e7 & 1.71332e6 & 2.03739e6 & 0.665932 & 0.968244 & 0.995025 & 4.8867e7 & 1.98944e7 & $\\dots$ \\\\\n",
       "\t26 & 0133085-64.2009.8.26.0100 & 2009-04-01 & 2009-05-19 & 2010-03-19 & 2018-12-04 & 1.6 & 10.1333 & 106.067 & 117.8 & 1.0 & 1.66432e7 & 89600.0 & 1.12e6 & 0.377744 & 0.995025 & 0.377744 & 1.25236e7 & 1.60186e6 & $\\dots$ \\\\\n",
       "\t27 & 0166925-02.2008.8.26.0100 & 2008-07-07 & 2008-08-07 & 2009-08-28 & 2014-10-03 & 1.03333 & 12.8667 & 62.0667 & 75.9667 & 1.0 & 3.51184e6 & 138030.0 & 140000.0 & 0.775821 & 0.953758 & 0.775821 & 5.7835e6 & 2.27378e6 & $\\dots$ \\\\\n",
       "\t28 & 0195566-97.2008.8.26.0100 & 2008-09-15 & 2008-11-10 & 2009-10-20 & 2017-02-23 & 1.86667 & 11.4667 & 89.4333 & 102.767 & 1.0 & 2.06378e7 & 3.27136e6 & 5.06453e6 & 0.812916 & 0.953758 & 0.812916 & 6.00031e7 & 5.04528e6 & $\\dots$ \\\\\n",
       "\t29 & 0199374-13.2008.8.26.0100 & 2008-09-23 & 2008-10-30 & 2009-09-09 & 2017-09-20 & 1.23333 & 10.4667 & 97.7667 & 109.467 & 1.0 & 6.89941e6 & 11642.0 & 1.16586e6 & 0.687773 & 0.941905 & 0.687773 & 8.34309e6 & 718390.0 & $\\dots$ \\\\\n",
       "\t30 & 0228439-53.2008.8.26.0100 & 2008-06-15 & 2009-01-09 & 2009-11-12 & 2016-04-19 & 6.93333 & 10.2333 & 78.3333 & 95.5 & 1.0 & 4.24744e7 & 9.57444e5 & 684573.0 & 0.598274 & 0.941905 & 0.598274 & 1.46139e7 & 6.41127e6 & $\\dots$ \\\\\n",
       "\t$\\dots$ & $\\dots$ & $\\dots$ & $\\dots$ & $\\dots$ & $\\dots$ & $\\dots$ & $\\dots$ & $\\dots$ & $\\dots$ & $\\dots$ & $\\dots$ & $\\dots$ & $\\dots$ & $\\dots$ & $\\dots$ & $\\dots$ & $\\dots$ & $\\dots$ &  \\\\\n",
       "\\end{tabular}\n"
      ],
      "text/plain": [
       "66×32 DataFrame. Omitted printing of 17 columns\n",
       "│ Row │ processo                  │ fil_date   │ data_start │ plan_date  │ final_date │ months_fil_start │ months_start_plan │ months_plan_final │ months_fil_final │ in_court │ D_junior  │ D_labor   │ D_senior  │ R_junior │ R_labor  │\n",
       "│     │ \u001b[90mAny\u001b[39m                       │ \u001b[90mAny\u001b[39m        │ \u001b[90mAny\u001b[39m        │ \u001b[90mAny\u001b[39m        │ \u001b[90mAny\u001b[39m        │ \u001b[90mAny\u001b[39m              │ \u001b[90mAny\u001b[39m               │ \u001b[90mAny\u001b[39m               │ \u001b[90mAny\u001b[39m              │ \u001b[90mAny\u001b[39m      │ \u001b[90mAny\u001b[39m       │ \u001b[90mAny\u001b[39m       │ \u001b[90mAny\u001b[39m       │ \u001b[90mAny\u001b[39m      │ \u001b[90mAny\u001b[39m      │\n",
       "├─────┼───────────────────────────┼────────────┼────────────┼────────────┼────────────┼──────────────────┼───────────────────┼───────────────────┼──────────────────┼──────────┼───────────┼───────────┼───────────┼──────────┼──────────┤\n",
       "│ 1   │ 0000547-55.2014.8.26.0291 │ 2014-01-22 │ 2014-01-29 │ 2015-09-16 │ 2018-07-12 │ 0.233333         │ 19.8333           │ 34.3333           │ 54.4             │ 1.0      │ 3.49201e6 │ 1.38557e6 │ 3.656e6   │ 0.442533 │ 0.941905 │\n",
       "│ 2   │ 0000731-65.2011.8.26.0695 │ 2011-03-22 │ 2011-04-08 │ 2011-10-20 │ 2017-04-20 │ 0.566667         │ 6.5               │ 66.9667           │ 74.0333          │ 1.0      │ 1.58332e6 │ 9.64064e5 │ 1.61192e5 │ 0.81201  │ 0.941905 │\n",
       "│ 3   │ 0003124-79.2014.8.26.0299 │ 2014-05-28 │ 2014-09-25 │ 2016-07-18 │ 2018-07-02 │ 4.0              │ 22.0667           │ 23.8              │ 49.8667          │ 1.0      │ 9.85081e6 │ 1.63535e5 │ 3.30049e6 │ 0.36744  │ 0.968244 │\n",
       "│ 4   │ 0006202-38.2010.8.26.0100 │ 2010-02-12 │ 2010-03-29 │ 2011-01-03 │ 2017-08-25 │ 1.5              │ 9.33333           │ 80.8667           │ 91.7             │ 1.0      │ 3.58351e7 │ 1.72202e6 │ 4.18984e5 │ 0.535184 │ 0.941905 │\n",
       "│ 5   │ 0011100-26.2012.8.26.0100 │ 2012-03-06 │ 2012-04-04 │ 2014-05-15 │ 2015-11-24 │ 0.966667         │ 25.7              │ 18.6              │ 45.2667          │ 1.0      │ 1.43452e7 │ 0.0       │ 1.41472e7 │ 0.465931 │ 0.0      │\n",
       "│ 6   │ 0014297-52.2013.8.26.0100 │ 2013-02-07 │ 2013-02-22 │ 2014-07-21 │ 2018-05-15 │ 0.5              │ 17.1333           │ 46.4667           │ 64.1             │ 1.0      │ 3.1438e7  │ 1.41865e6 │ 1.48989e7 │ 0.396523 │ 0.941905 │\n",
       "│ 7   │ 0016095-59.2013.8.26.0161 │ 2013-06-17 │ 2014-03-18 │ 2016-06-06 │ 2018-11-01 │ 9.13333          │ 27.0333           │ 29.2667           │ 65.4333          │ 1.0      │ 1.00002e7 │ 75754.0   │ 1.02842e5 │ 0.814917 │ 0.941905 │\n",
       "│ 8   │ 0023189-81.2012.8.26.0100 │ 2012-05-07 │ 2012-06-22 │ 2013-06-07 │ 2019-01-15 │ 1.53333          │ 11.6667           │ 68.2667           │ 81.4667          │ 1.0      │ 4.86213e6 │ 0.0       │ 3.844e6   │ 0.206332 │ 0.0      │\n",
       "│ 9   │ 0025113-93.2013.8.26.0100 │ 2013-04-03 │ 2013-08-16 │ 2014-09-17 │ 2018-09-24 │ 4.5              │ 13.2333           │ 48.9333           │ 66.6667          │ 1.0      │ 1.07158e6 │ 0.0       │ 150000.0  │ 0.448017 │ 0.0      │\n",
       "│ 10  │ 0025535-05.2012.8.26.0100 │ 2012-05-18 │ 2012-09-03 │ 2013-06-07 │ 2015-10-08 │ 3.6              │ 9.23333           │ 28.4333           │ 41.2667          │ 1.0      │ 8.35837e6 │ 3.05502e5 │ 1.26003e6 │ 0.726299 │ 0.941905 │\n",
       "⋮\n",
       "│ 56  │ 1085873-20.2015.8.26.0100 │ 2015-08-24 │ 2016-03-16 │ 2017-05-09 │ 2018-08-10 │ 6.83333          │ 13.9667           │ 15.2667           │ 36.0667          │ 1.0      │ 3.39584e6 │ 4085.73   │ 7.72192e5 │ 0.512246 │ 0.941905 │\n",
       "│ 57  │ 1085973-43.2013.8.26.0100 │ 2013-11-01 │ 2013-11-22 │ 2014-12-10 │ 2017-03-14 │ 0.7              │ 12.7667           │ 27.5              │ 40.9667          │ 1.0      │ 3.1628e8  │ 1.76287e7 │ 9.46264e7 │ 0.596823 │ 0.941905 │\n",
       "│ 58  │ 1093571-43.2016.8.26.0100 │ 2016-08-23 │ 2016-08-24 │ 2018-06-06 │ 2018-06-06 │ 0.0333333        │ 21.7              │ 0.0               │ 21.7333          │ 1.0      │ 5.39331e7 │ 6.40385e6 │ 7.27368e6 │ 0.298644 │ 0.941905 │\n",
       "│ 59  │ 1094025-28.2013.8.26.0100 │ 2013-11-26 │ 2014-01-30 │ 2014-11-07 │ 2017-02-09 │ 2.16667          │ 9.36667           │ 27.5              │ 39.0333          │ 1.0      │ 1.35187e7 │ 2.0442e6  │ 1.27225e6 │ 0.748413 │ 0.941905 │\n",
       "│ 60  │ 1106266-34.2013.8.26.0100 │ 2014-01-07 │ 2014-01-30 │ 2014-10-29 │ 2018-12-05 │ 0.766667         │ 9.06667           │ 49.9333           │ 59.7667          │ 1.0      │ 1.072e7   │ 737470.0  │ 466674.0  │ 0.482878 │ 0.941905 │\n",
       "│ 61  │ 4000115-91.2013.8.26.0132 │ 2013-08-14 │ 2013-09-16 │ 2015-04-15 │ 2020-01-20 │ 1.1              │ 19.2              │ 58.0333           │ 78.3333          │ 1.0      │ 3.97191e7 │ 74587.0   │ 1.64344e7 │ 0.358702 │ 0.953758 │\n",
       "│ 62  │ 4000620-71.2013.8.26.0362 │ 2013-04-26 │ 2013-05-07 │ 2015-07-07 │ 2015-07-07 │ 0.366667         │ 26.3667           │ 0.0               │ 26.7333          │ 1.0      │ 4.02089e6 │ 268610.0  │ 2.82959e6 │ 0.417389 │ 0.941905 │\n",
       "│ 63  │ 4004399-75.2013.8.26.0510 │ 2013-09-23 │ 2013-09-27 │ 2015-05-15 │ 2018-04-02 │ 0.133333         │ 19.8333           │ 35.1              │ 55.0667          │ 1.0      │ 2.94475e7 │ 306210.0  │ 4.18556e6 │ 0.34911  │ 0.875152 │\n",
       "│ 64  │ 4011896-58.2013.8.26.0602 │ 2013-09-16 │ 2013-11-14 │ 2017-10-27 │ 2018-05-24 │ 1.96667          │ 48.1              │ 6.96667           │ 57.0333          │ 1.0      │ 3.24095e6 │ 1.00179e5 │ 1.09539e6 │ 0.441475 │ 0.941905 │\n",
       "│ 65  │ 1071904-64.2017.8.26.0100 │ 0          │ 0          │ 0          │ 0          │ 0.0              │ 0.0               │ 0.0               │ 0.0              │ 0.0      │ 1.66866e9 │ 0.0       │ 4.44703e8 │ 0.805483 │ 0.0      │\n",
       "│ 66  │ 1125916-28.2017.8.26.0100 │ 0          │ 0          │ 0          │ 0          │ 0.0              │ 0.0               │ 0.0               │ 0.0              │ 0.0      │ 4.7173e5  │ 0.0       │ 3.30293e6 │ 0.308326 │ 0.0      │"
      ]
     },
     "execution_count": 115,
     "metadata": {},
     "output_type": "execute_result"
    }
   ],
   "source": [
    "df = DataFrame(XLSX.readtable(\"trilemma_data.xlsx\", \"Sheet1\")...)"
   ]
  },
  {
   "cell_type": "code",
   "execution_count": 117,
   "metadata": {},
   "outputs": [
    {
     "data": {
      "text/plain": [
       "32-element Array{Symbol,1}:\n",
       " :processo\n",
       " :fil_date\n",
       " :data_start\n",
       " :plan_date\n",
       " :final_date\n",
       " :months_fil_start\n",
       " :months_start_plan\n",
       " :months_plan_final\n",
       " :months_fil_final\n",
       " :in_court\n",
       " :D_junior\n",
       " :D_labor\n",
       " :D_senior\n",
       " ⋮\n",
       " :Vh\n",
       " :L\n",
       " :D\n",
       " :Dj_D\n",
       " :L_D\n",
       " :Vh_D\n",
       " :Reorg_incourt\n",
       " :Reorg_precourt\n",
       " :Liq_incourt\n",
       " :Liq_precourt\n",
       " :tempo_medio_agc\n",
       " :ln_n_months"
      ]
     },
     "execution_count": 117,
     "metadata": {},
     "output_type": "execute_result"
    }
   ],
   "source": [
    "names(df)"
   ]
  },
  {
   "cell_type": "code",
   "execution_count": 118,
   "metadata": {},
   "outputs": [],
   "source": [
    "INCOURT = filter(df -> df.in_court .== 1.0, df);\n",
    "PRECOURT = filter(df -> df.in_court .== 0.0, df);"
   ]
  },
  {
   "cell_type": "code",
   "execution_count": 119,
   "metadata": {},
   "outputs": [
    {
     "data": {
      "text/html": [
       "<table class=\"data-frame\"><thead><tr><th></th><th>processo</th><th>fil_date</th><th>data_start</th><th>plan_date</th><th>final_date</th><th>months_fil_start</th><th>months_start_plan</th><th>months_plan_final</th><th>months_fil_final</th><th>in_court</th><th>D_junior</th><th>D_labor</th><th>D_senior</th><th>R_junior</th><th>R_labor</th><th>R_senior</th><th>assets_total</th><th>assets_fixed</th><th>outcome_bargain</th></tr><tr><th></th><th>Any</th><th>Any</th><th>Any</th><th>Any</th><th>Any</th><th>Any</th><th>Any</th><th>Any</th><th>Any</th><th>Any</th><th>Any</th><th>Any</th><th>Any</th><th>Any</th><th>Any</th><th>Any</th><th>Any</th><th>Any</th><th>Any</th></tr></thead><tbody><p>0 rows × 32 columns (omitted printing of 13 columns)</p></tbody></table>"
      ],
      "text/latex": [
       "\\begin{tabular}{r|cccccccccccccccccccc}\n",
       "\t& processo & fil\\_date & data\\_start & plan\\_date & final\\_date & months\\_fil\\_start & months\\_start\\_plan & months\\_plan\\_final & months\\_fil\\_final & in\\_court & D\\_junior & D\\_labor & D\\_senior & R\\_junior & R\\_labor & R\\_senior & assets\\_total & assets\\_fixed & outcome\\_bargain & \\\\\n",
       "\t\\hline\n",
       "\t& Any & Any & Any & Any & Any & Any & Any & Any & Any & Any & Any & Any & Any & Any & Any & Any & Any & Any & Any & \\\\\n",
       "\t\\hline\n",
       "\\end{tabular}\n"
      ],
      "text/plain": [
       "0×32 DataFrame\n"
      ]
     },
     "execution_count": 119,
     "metadata": {},
     "output_type": "execute_result"
    }
   ],
   "source": [
    "filter(INCOURT -> INCOURT.months_start_plan .== 0, INCOURT)"
   ]
  },
  {
   "cell_type": "markdown",
   "metadata": {},
   "source": [
    "MM1: average log number of months between observed proposals, for incourt cases"
   ]
  },
  {
   "cell_type": "code",
   "execution_count": 120,
   "metadata": {},
   "outputs": [
    {
     "data": {
      "text/plain": [
       "2.1118291318473066"
      ]
     },
     "execution_count": 120,
     "metadata": {},
     "output_type": "execute_result"
    }
   ],
   "source": [
    "mm1 = mean(skipmissing(df.ln_n_months))"
   ]
  },
  {
   "cell_type": "code",
   "execution_count": 124,
   "metadata": {},
   "outputs": [
    {
     "data": {
      "text/plain": [
       "false"
      ]
     },
     "execution_count": 124,
     "metadata": {},
     "output_type": "execute_result"
    }
   ],
   "source": [
    "if1 = zeros(nrow(df));\n",
    "\n",
    "for i in 1:length(if1)\n",
    "    if(ismissing(df.ln_n_months[i]))\n",
    "        if1[i] = zero(0.0)\n",
    "    else\n",
    "        if1[i] = df.ln_n_months[i] - mm1\n",
    "    end\n",
    "end\n",
    "\n",
    "#testando se a média é maior que zero\n",
    "#qual seria o zero em Julia?\n",
    "mean(if1)> 0.000000000000001"
   ]
  },
  {
   "cell_type": "code",
   "execution_count": 125,
   "metadata": {},
   "outputs": [
    {
     "data": {
      "text/plain": [
       "66-element Array{Float64,1}:\n",
       "  0.18238771147622224\n",
       "  0.0\n",
       "  0.0\n",
       "  0.12176308965978766\n",
       "  0.4415146794939222\n",
       "  0.036049571385757595\n",
       "  1.185241540605951\n",
       " -1.9576784520200483\n",
       "  0.47090976717772826\n",
       "  0.0\n",
       "  1.0280034856804412\n",
       " -0.6787307045296134\n",
       "  0.0\n",
       "  ⋮\n",
       "  0.6935494132154658\n",
       "  0.0\n",
       " -0.6636038129969257\n",
       "  0.0\n",
       "  0.1253281558242838\n",
       "  0.0\n",
       "  0.8430811471864295\n",
       "  0.0\n",
       " -0.9162245771918873\n",
       "  0.0\n",
       "  0.0\n",
       "  0.0"
      ]
     },
     "execution_count": 125,
     "metadata": {},
     "output_type": "execute_result"
    }
   ],
   "source": [
    "if1"
   ]
  },
  {
   "cell_type": "markdown",
   "metadata": {},
   "source": [
    "MM2: fraction reorganized given that the case went into court"
   ]
  },
  {
   "cell_type": "code",
   "execution_count": 126,
   "metadata": {},
   "outputs": [
    {
     "data": {
      "text/plain": [
       "0.84375"
      ]
     },
     "execution_count": 126,
     "metadata": {},
     "output_type": "execute_result"
    }
   ],
   "source": [
    "mm2 = INCOURT\n",
    "mm2 = size(filter(mm2 -> mm2.outcome_bargain .== \"reorganized\", mm2),1)/ size(mm2,1)"
   ]
  },
  {
   "cell_type": "code",
   "execution_count": 127,
   "metadata": {},
   "outputs": [
    {
     "data": {
      "text/plain": [
       "0.0"
      ]
     },
     "execution_count": 127,
     "metadata": {},
     "output_type": "execute_result"
    }
   ],
   "source": [
    "if2 = zeros(nrow(df));\n",
    "\n",
    "for i in 1:length(if2)\n",
    "    if(df.in_court[i]==0.0)\n",
    "        if2[i] = zero(0.0)\n",
    "    else\n",
    "        if2[i] = df.Reorg_incourt[i] - mm2\n",
    "    end\n",
    "end\n",
    "\n",
    "mean(if2)"
   ]
  },
  {
   "cell_type": "markdown",
   "metadata": {},
   "source": [
    "MM3: avg ln duration of court cases in months"
   ]
  },
  {
   "cell_type": "code",
   "execution_count": 128,
   "metadata": {},
   "outputs": [
    {
     "data": {
      "text/plain": [
       "2.760695631787451"
      ]
     },
     "execution_count": 128,
     "metadata": {},
     "output_type": "execute_result"
    }
   ],
   "source": [
    "mm3 = mean(log.(INCOURT.months_start_plan))"
   ]
  },
  {
   "cell_type": "code",
   "execution_count": 129,
   "metadata": {},
   "outputs": [
    {
     "data": {
      "text/plain": [
       "2.4895910249170175e-16"
      ]
     },
     "execution_count": 129,
     "metadata": {},
     "output_type": "execute_result"
    }
   ],
   "source": [
    "if3 = zeros(nrow(df));\n",
    "\n",
    "for i in 1:length(if3)\n",
    "    if(df.in_court[i]==0.0)\n",
    "        if3[i] = zero(0.0)\n",
    "    else\n",
    "        if3[i] = log(df.months_start_plan[i]) - mm3\n",
    "    end\n",
    "end\n",
    "\n",
    "mean(if3)"
   ]
  },
  {
   "cell_type": "markdown",
   "metadata": {},
   "source": [
    "MM4: Fraction of cases incourt"
   ]
  },
  {
   "cell_type": "code",
   "execution_count": 130,
   "metadata": {},
   "outputs": [
    {
     "data": {
      "text/plain": [
       "0.9696969696969697"
      ]
     },
     "execution_count": 130,
     "metadata": {},
     "output_type": "execute_result"
    }
   ],
   "source": [
    "mm4 = mean(df.in_court)"
   ]
  },
  {
   "cell_type": "code",
   "execution_count": 131,
   "metadata": {},
   "outputs": [],
   "source": [
    "#função influência do mm4:\n",
    "if4 = zeros(nrow(df));\n",
    "\n",
    "# for i in 1:length(if4)\n",
    "#     println(i)\n",
    "# end\n",
    "\n",
    "for i in 1:length(if4)\n",
    "    if4[i] = df.in_court[i] - mm4\n",
    "end"
   ]
  },
  {
   "cell_type": "code",
   "execution_count": 132,
   "metadata": {},
   "outputs": [
    {
     "data": {
      "text/plain": [
       "-2.6914497566670462e-17"
      ]
     },
     "execution_count": 132,
     "metadata": {},
     "output_type": "execute_result"
    }
   ],
   "source": [
    "mean(if4)"
   ]
  },
  {
   "cell_type": "markdown",
   "metadata": {},
   "source": [
    "MM5: avg recovery rate for S given REORGANIZATION in the 25% fastest cases\n",
    "\n",
    "Includes PRECOURT and INCOURT cases"
   ]
  },
  {
   "cell_type": "code",
   "execution_count": 133,
   "metadata": {},
   "outputs": [
    {
     "data": {
      "text/html": [
       "<table class=\"data-frame\"><thead><tr><th></th><th>processo</th><th>fil_date</th><th>data_start</th><th>plan_date</th><th>final_date</th><th>months_fil_start</th><th>months_start_plan</th><th>months_plan_final</th><th>months_fil_final</th><th>in_court</th><th>D_junior</th><th>D_labor</th><th>D_senior</th><th>R_junior</th><th>R_labor</th><th>R_senior</th><th>assets_total</th><th>assets_fixed</th></tr><tr><th></th><th>Any</th><th>Any</th><th>Any</th><th>Any</th><th>Any</th><th>Any</th><th>Any</th><th>Any</th><th>Any</th><th>Any</th><th>Any</th><th>Any</th><th>Any</th><th>Any</th><th>Any</th><th>Any</th><th>Any</th><th>Any</th></tr></thead><tbody><p>56 rows × 32 columns (omitted printing of 14 columns)</p><tr><th>1</th><td>0000547-55.2014.8.26.0291</td><td>2014-01-22</td><td>2014-01-29</td><td>2015-09-16</td><td>2018-07-12</td><td>0.233333</td><td>19.8333</td><td>34.3333</td><td>54.4</td><td>1.0</td><td>3.49201e6</td><td>1.38557e6</td><td>3.656e6</td><td>0.442533</td><td>0.941905</td><td>0.442533</td><td>2.53837e7</td><td>2.36164e7</td></tr><tr><th>2</th><td>0000731-65.2011.8.26.0695</td><td>2011-03-22</td><td>2011-04-08</td><td>2011-10-20</td><td>2017-04-20</td><td>0.566667</td><td>6.5</td><td>66.9667</td><td>74.0333</td><td>1.0</td><td>1.58332e6</td><td>9.64064e5</td><td>1.61192e5</td><td>0.81201</td><td>0.941905</td><td>0.81201</td><td>2.77487e6</td><td>1.0668e6</td></tr><tr><th>3</th><td>0003124-79.2014.8.26.0299</td><td>2014-05-28</td><td>2014-09-25</td><td>2016-07-18</td><td>2018-07-02</td><td>4.0</td><td>22.0667</td><td>23.8</td><td>49.8667</td><td>1.0</td><td>9.85081e6</td><td>1.63535e5</td><td>3.30049e6</td><td>0.36744</td><td>0.968244</td><td>0.36744</td><td>1.1296e7</td><td>3.32642e6</td></tr><tr><th>4</th><td>0006202-38.2010.8.26.0100</td><td>2010-02-12</td><td>2010-03-29</td><td>2011-01-03</td><td>2017-08-25</td><td>1.5</td><td>9.33333</td><td>80.8667</td><td>91.7</td><td>1.0</td><td>3.58351e7</td><td>1.72202e6</td><td>4.18984e5</td><td>0.535184</td><td>0.941905</td><td>0.535184</td><td>1.65361e7</td><td>1.15454e7</td></tr><tr><th>5</th><td>0011100-26.2012.8.26.0100</td><td>2012-03-06</td><td>2012-04-04</td><td>2014-05-15</td><td>2015-11-24</td><td>0.966667</td><td>25.7</td><td>18.6</td><td>45.2667</td><td>1.0</td><td>1.43452e7</td><td>0.0</td><td>1.41472e7</td><td>0.465931</td><td>0.0</td><td>0.465931</td><td>1.86502e7</td><td>5.63179e6</td></tr><tr><th>6</th><td>0014297-52.2013.8.26.0100</td><td>2013-02-07</td><td>2013-02-22</td><td>2014-07-21</td><td>2018-05-15</td><td>0.5</td><td>17.1333</td><td>46.4667</td><td>64.1</td><td>1.0</td><td>3.1438e7</td><td>1.41865e6</td><td>1.48989e7</td><td>0.396523</td><td>0.941905</td><td>0.536727</td><td>6.79508e7</td><td>1.23996e7</td></tr><tr><th>7</th><td>0016095-59.2013.8.26.0161</td><td>2013-06-17</td><td>2014-03-18</td><td>2016-06-06</td><td>2018-11-01</td><td>9.13333</td><td>27.0333</td><td>29.2667</td><td>65.4333</td><td>1.0</td><td>1.00002e7</td><td>75754.0</td><td>1.02842e5</td><td>0.814917</td><td>0.941905</td><td>0.814917</td><td>3.684e6</td><td>259066.0</td></tr><tr><th>8</th><td>0023189-81.2012.8.26.0100</td><td>2012-05-07</td><td>2012-06-22</td><td>2013-06-07</td><td>2019-01-15</td><td>1.53333</td><td>11.6667</td><td>68.2667</td><td>81.4667</td><td>1.0</td><td>4.86213e6</td><td>0.0</td><td>3.844e6</td><td>0.206332</td><td>0.0</td><td>0.206332</td><td>2.43727e6</td><td>755068.0</td></tr><tr><th>9</th><td>0025113-93.2013.8.26.0100</td><td>2013-04-03</td><td>2013-08-16</td><td>2014-09-17</td><td>2018-09-24</td><td>4.5</td><td>13.2333</td><td>48.9333</td><td>66.6667</td><td>1.0</td><td>1.07158e6</td><td>0.0</td><td>150000.0</td><td>0.448017</td><td>0.0</td><td>0.448017</td><td>299845.0</td><td>243594.0</td></tr><tr><th>10</th><td>0025535-05.2012.8.26.0100</td><td>2012-05-18</td><td>2012-09-03</td><td>2013-06-07</td><td>2015-10-08</td><td>3.6</td><td>9.23333</td><td>28.4333</td><td>41.2667</td><td>1.0</td><td>8.35837e6</td><td>3.05502e5</td><td>1.26003e6</td><td>0.726299</td><td>0.941905</td><td>0.726299</td><td>2.62484e7</td><td>812587.0</td></tr><tr><th>11</th><td>0031706-12.2011.8.26.0100</td><td>2011-07-12</td><td>2011-08-30</td><td>2013-01-14</td><td>2017-03-13</td><td>1.63333</td><td>16.7667</td><td>50.6333</td><td>69.0333</td><td>1.0</td><td>4.88285e7</td><td>541684.0</td><td>7.02685e6</td><td>0.332966</td><td>0.941905</td><td>0.743505</td><td>7.16827e7</td><td>1.279e7</td></tr><tr><th>12</th><td>0036392-76.2013.8.26.0100</td><td>2013-05-27</td><td>2013-07-04</td><td>2014-07-03</td><td>2015-12-03</td><td>1.26667</td><td>12.1333</td><td>17.2667</td><td>30.6667</td><td>1.0</td><td>1.31804e7</td><td>213276.0</td><td>441615.0</td><td>0.419574</td><td>0.947734</td><td>0.419574</td><td>2.12593e7</td><td>464973.0</td></tr><tr><th>13</th><td>0037381-82.2013.8.26.0100</td><td>2013-06-03</td><td>2013-08-02</td><td>2015-06-02</td><td>2018-03-05</td><td>2.0</td><td>22.3</td><td>33.5667</td><td>57.8667</td><td>1.0</td><td>8.60174e7</td><td>1.47172e6</td><td>3.56249e7</td><td>0.208876</td><td>0.941905</td><td>0.208876</td><td>5.11649e7</td><td>3.36238e6</td></tr><tr><th>14</th><td>0038881-23.2012.8.26.0100</td><td>2012-08-02</td><td>2012-09-06</td><td>2013-12-13</td><td>2016-05-19</td><td>1.16667</td><td>15.4333</td><td>29.6</td><td>46.2</td><td>1.0</td><td>4.04983e6</td><td>0.0</td><td>29067.6</td><td>0.552554</td><td>0.0</td><td>0.537302</td><td>282919.0</td><td>128934.0</td></tr><tr><th>15</th><td>0040759-80.2012.8.26.0100</td><td>2012-08-13</td><td>2012-08-17</td><td>2014-08-07</td><td>2019-04-24</td><td>0.133333</td><td>24.0</td><td>57.3667</td><td>81.5</td><td>1.0</td><td>6.23264e7</td><td>4.06458e6</td><td>3.71427e7</td><td>0.435687</td><td>0.941905</td><td>0.995025</td><td>7.67627e7</td><td>3.97866e7</td></tr><tr><th>16</th><td>0047633-52.2010.8.26.0100</td><td>2010-11-25</td><td>2010-12-14</td><td>2012-01-20</td><td>2016-11-28</td><td>0.633333</td><td>13.4</td><td>59.1333</td><td>73.1667</td><td>1.0</td><td>1.58493e7</td><td>3.33707e5</td><td>2.39977e6</td><td>0.806265</td><td>0.968244</td><td>0.806265</td><td>2.82795e7</td><td>3.31912e6</td></tr><tr><th>17</th><td>0050926-59.2012.8.26.0100</td><td>2012-10-01</td><td>2012-10-04</td><td>2014-02-14</td><td>2016-07-12</td><td>0.1</td><td>16.6</td><td>29.3</td><td>46.0</td><td>1.0</td><td>9.92458e6</td><td>346732.0</td><td>1.1956e6</td><td>0.360493</td><td>0.941905</td><td>0.580947</td><td>2.11199e7</td><td>444084.0</td></tr><tr><th>18</th><td>0052597-54.2011.8.26.0100</td><td>2011-11-03</td><td>2011-12-13</td><td>2013-03-19</td><td>2016-02-25</td><td>1.33333</td><td>15.4</td><td>35.7667</td><td>52.5</td><td>1.0</td><td>3.33873e7</td><td>2860.0</td><td>20000.0</td><td>0.496396</td><td>0.941905</td><td>0.496396</td><td>8.89775e6</td><td>3.31661e6</td></tr><tr><th>19</th><td>0057122-11.2013.8.26.0100</td><td>2013-08-28</td><td>2013-10-09</td><td>2014-10-08</td><td>2016-03-23</td><td>1.4</td><td>12.1333</td><td>17.7333</td><td>31.2667</td><td>1.0</td><td>1.25869e6</td><td>91267.0</td><td>3.07896e6</td><td>0.555154</td><td>0.968244</td><td>0.751999</td><td>6.30519e6</td><td>3.80922e6</td></tr><tr><th>20</th><td>0057970-95.2013.8.26.0100</td><td>2013-09-02</td><td>2013-09-17</td><td>2015-02-02</td><td>2019-04-04</td><td>0.5</td><td>16.7667</td><td>50.7333</td><td>68.0</td><td>1.0</td><td>1.21831e7</td><td>4.32772e6</td><td>316500.0</td><td>0.620106</td><td>0.941905</td><td>0.620106</td><td>1.88919e7</td><td>7.85528e6</td></tr><tr><th>21</th><td>0064111-67.2012.8.26.0100</td><td>2012-11-14</td><td>2013-01-29</td><td>2014-07-30</td><td>2017-07-10</td><td>2.53333</td><td>18.2333</td><td>35.8667</td><td>56.6333</td><td>1.0</td><td>1.60199e7</td><td>3.2556e6</td><td>176530.0</td><td>0.655437</td><td>0.941905</td><td>0.449309</td><td>7.58655e7</td><td>1.34885e7</td></tr><tr><th>22</th><td>0111888-53.2009.8.26.0100</td><td>2009-02-03</td><td>2009-03-24</td><td>2010-10-06</td><td>2016-02-03</td><td>1.63333</td><td>18.7</td><td>64.8667</td><td>85.2</td><td>1.0</td><td>2.82823e7</td><td>2.52368e5</td><td>1.51566e5</td><td>0.422266</td><td>0.941905</td><td>0.422266</td><td>8.61028e7</td><td>3.05071e6</td></tr><tr><th>23</th><td>0128335-19.2009.8.26.0100</td><td>2009-03-19</td><td>2009-04-30</td><td>2010-06-17</td><td>2013-12-18</td><td>1.4</td><td>13.7667</td><td>42.6667</td><td>57.8333</td><td>1.0</td><td>1.21287e7</td><td>1.71332e6</td><td>2.03739e6</td><td>0.665932</td><td>0.968244</td><td>0.995025</td><td>4.8867e7</td><td>1.98944e7</td></tr><tr><th>24</th><td>0133085-64.2009.8.26.0100</td><td>2009-04-01</td><td>2009-05-19</td><td>2010-03-19</td><td>2018-12-04</td><td>1.6</td><td>10.1333</td><td>106.067</td><td>117.8</td><td>1.0</td><td>1.66432e7</td><td>89600.0</td><td>1.12e6</td><td>0.377744</td><td>0.995025</td><td>0.377744</td><td>1.25236e7</td><td>1.60186e6</td></tr><tr><th>25</th><td>0166925-02.2008.8.26.0100</td><td>2008-07-07</td><td>2008-08-07</td><td>2009-08-28</td><td>2014-10-03</td><td>1.03333</td><td>12.8667</td><td>62.0667</td><td>75.9667</td><td>1.0</td><td>3.51184e6</td><td>138030.0</td><td>140000.0</td><td>0.775821</td><td>0.953758</td><td>0.775821</td><td>5.7835e6</td><td>2.27378e6</td></tr><tr><th>26</th><td>0195566-97.2008.8.26.0100</td><td>2008-09-15</td><td>2008-11-10</td><td>2009-10-20</td><td>2017-02-23</td><td>1.86667</td><td>11.4667</td><td>89.4333</td><td>102.767</td><td>1.0</td><td>2.06378e7</td><td>3.27136e6</td><td>5.06453e6</td><td>0.812916</td><td>0.953758</td><td>0.812916</td><td>6.00031e7</td><td>5.04528e6</td></tr><tr><th>27</th><td>0199374-13.2008.8.26.0100</td><td>2008-09-23</td><td>2008-10-30</td><td>2009-09-09</td><td>2017-09-20</td><td>1.23333</td><td>10.4667</td><td>97.7667</td><td>109.467</td><td>1.0</td><td>6.89941e6</td><td>11642.0</td><td>1.16586e6</td><td>0.687773</td><td>0.941905</td><td>0.687773</td><td>8.34309e6</td><td>718390.0</td></tr><tr><th>28</th><td>0228439-53.2008.8.26.0100</td><td>2008-06-15</td><td>2009-01-09</td><td>2009-11-12</td><td>2016-04-19</td><td>6.93333</td><td>10.2333</td><td>78.3333</td><td>95.5</td><td>1.0</td><td>4.24744e7</td><td>9.57444e5</td><td>684573.0</td><td>0.598274</td><td>0.941905</td><td>0.598274</td><td>1.46139e7</td><td>6.41127e6</td></tr><tr><th>29</th><td>1000278-42.2014.8.26.0309</td><td>2014-01-14</td><td>2014-01-15</td><td>2016-08-16</td><td>2018-04-02</td><td>0.0333333</td><td>31.4667</td><td>19.8</td><td>51.3</td><td>1.0</td><td>1.19971e6</td><td>213093.0</td><td>5.81974e6</td><td>0.608107</td><td>0.951114</td><td>0.25852</td><td>1.53428e7</td><td>5.62199e6</td></tr><tr><th>30</th><td>1000283-63.2014.8.26.0568</td><td>2014-01-29</td><td>2014-01-30</td><td>2015-08-17</td><td>2018-03-09</td><td>0.0333333</td><td>18.8</td><td>31.1667</td><td>50.0</td><td>1.0</td><td>1.0922e7</td><td>0.0</td><td>677000.0</td><td>0.469827</td><td>0.0</td><td>0.469827</td><td>1.24853e7</td><td>2.56786e6</td></tr><tr><th>&vellip;</th><td>&vellip;</td><td>&vellip;</td><td>&vellip;</td><td>&vellip;</td><td>&vellip;</td><td>&vellip;</td><td>&vellip;</td><td>&vellip;</td><td>&vellip;</td><td>&vellip;</td><td>&vellip;</td><td>&vellip;</td><td>&vellip;</td><td>&vellip;</td><td>&vellip;</td><td>&vellip;</td><td>&vellip;</td><td>&vellip;</td></tr></tbody></table>"
      ],
      "text/latex": [
       "\\begin{tabular}{r|ccccccccccccccccccc}\n",
       "\t& processo & fil\\_date & data\\_start & plan\\_date & final\\_date & months\\_fil\\_start & months\\_start\\_plan & months\\_plan\\_final & months\\_fil\\_final & in\\_court & D\\_junior & D\\_labor & D\\_senior & R\\_junior & R\\_labor & R\\_senior & assets\\_total & assets\\_fixed & \\\\\n",
       "\t\\hline\n",
       "\t& Any & Any & Any & Any & Any & Any & Any & Any & Any & Any & Any & Any & Any & Any & Any & Any & Any & Any & \\\\\n",
       "\t\\hline\n",
       "\t1 & 0000547-55.2014.8.26.0291 & 2014-01-22 & 2014-01-29 & 2015-09-16 & 2018-07-12 & 0.233333 & 19.8333 & 34.3333 & 54.4 & 1.0 & 3.49201e6 & 1.38557e6 & 3.656e6 & 0.442533 & 0.941905 & 0.442533 & 2.53837e7 & 2.36164e7 & $\\dots$ \\\\\n",
       "\t2 & 0000731-65.2011.8.26.0695 & 2011-03-22 & 2011-04-08 & 2011-10-20 & 2017-04-20 & 0.566667 & 6.5 & 66.9667 & 74.0333 & 1.0 & 1.58332e6 & 9.64064e5 & 1.61192e5 & 0.81201 & 0.941905 & 0.81201 & 2.77487e6 & 1.0668e6 & $\\dots$ \\\\\n",
       "\t3 & 0003124-79.2014.8.26.0299 & 2014-05-28 & 2014-09-25 & 2016-07-18 & 2018-07-02 & 4.0 & 22.0667 & 23.8 & 49.8667 & 1.0 & 9.85081e6 & 1.63535e5 & 3.30049e6 & 0.36744 & 0.968244 & 0.36744 & 1.1296e7 & 3.32642e6 & $\\dots$ \\\\\n",
       "\t4 & 0006202-38.2010.8.26.0100 & 2010-02-12 & 2010-03-29 & 2011-01-03 & 2017-08-25 & 1.5 & 9.33333 & 80.8667 & 91.7 & 1.0 & 3.58351e7 & 1.72202e6 & 4.18984e5 & 0.535184 & 0.941905 & 0.535184 & 1.65361e7 & 1.15454e7 & $\\dots$ \\\\\n",
       "\t5 & 0011100-26.2012.8.26.0100 & 2012-03-06 & 2012-04-04 & 2014-05-15 & 2015-11-24 & 0.966667 & 25.7 & 18.6 & 45.2667 & 1.0 & 1.43452e7 & 0.0 & 1.41472e7 & 0.465931 & 0.0 & 0.465931 & 1.86502e7 & 5.63179e6 & $\\dots$ \\\\\n",
       "\t6 & 0014297-52.2013.8.26.0100 & 2013-02-07 & 2013-02-22 & 2014-07-21 & 2018-05-15 & 0.5 & 17.1333 & 46.4667 & 64.1 & 1.0 & 3.1438e7 & 1.41865e6 & 1.48989e7 & 0.396523 & 0.941905 & 0.536727 & 6.79508e7 & 1.23996e7 & $\\dots$ \\\\\n",
       "\t7 & 0016095-59.2013.8.26.0161 & 2013-06-17 & 2014-03-18 & 2016-06-06 & 2018-11-01 & 9.13333 & 27.0333 & 29.2667 & 65.4333 & 1.0 & 1.00002e7 & 75754.0 & 1.02842e5 & 0.814917 & 0.941905 & 0.814917 & 3.684e6 & 259066.0 & $\\dots$ \\\\\n",
       "\t8 & 0023189-81.2012.8.26.0100 & 2012-05-07 & 2012-06-22 & 2013-06-07 & 2019-01-15 & 1.53333 & 11.6667 & 68.2667 & 81.4667 & 1.0 & 4.86213e6 & 0.0 & 3.844e6 & 0.206332 & 0.0 & 0.206332 & 2.43727e6 & 755068.0 & $\\dots$ \\\\\n",
       "\t9 & 0025113-93.2013.8.26.0100 & 2013-04-03 & 2013-08-16 & 2014-09-17 & 2018-09-24 & 4.5 & 13.2333 & 48.9333 & 66.6667 & 1.0 & 1.07158e6 & 0.0 & 150000.0 & 0.448017 & 0.0 & 0.448017 & 299845.0 & 243594.0 & $\\dots$ \\\\\n",
       "\t10 & 0025535-05.2012.8.26.0100 & 2012-05-18 & 2012-09-03 & 2013-06-07 & 2015-10-08 & 3.6 & 9.23333 & 28.4333 & 41.2667 & 1.0 & 8.35837e6 & 3.05502e5 & 1.26003e6 & 0.726299 & 0.941905 & 0.726299 & 2.62484e7 & 812587.0 & $\\dots$ \\\\\n",
       "\t11 & 0031706-12.2011.8.26.0100 & 2011-07-12 & 2011-08-30 & 2013-01-14 & 2017-03-13 & 1.63333 & 16.7667 & 50.6333 & 69.0333 & 1.0 & 4.88285e7 & 541684.0 & 7.02685e6 & 0.332966 & 0.941905 & 0.743505 & 7.16827e7 & 1.279e7 & $\\dots$ \\\\\n",
       "\t12 & 0036392-76.2013.8.26.0100 & 2013-05-27 & 2013-07-04 & 2014-07-03 & 2015-12-03 & 1.26667 & 12.1333 & 17.2667 & 30.6667 & 1.0 & 1.31804e7 & 213276.0 & 441615.0 & 0.419574 & 0.947734 & 0.419574 & 2.12593e7 & 464973.0 & $\\dots$ \\\\\n",
       "\t13 & 0037381-82.2013.8.26.0100 & 2013-06-03 & 2013-08-02 & 2015-06-02 & 2018-03-05 & 2.0 & 22.3 & 33.5667 & 57.8667 & 1.0 & 8.60174e7 & 1.47172e6 & 3.56249e7 & 0.208876 & 0.941905 & 0.208876 & 5.11649e7 & 3.36238e6 & $\\dots$ \\\\\n",
       "\t14 & 0038881-23.2012.8.26.0100 & 2012-08-02 & 2012-09-06 & 2013-12-13 & 2016-05-19 & 1.16667 & 15.4333 & 29.6 & 46.2 & 1.0 & 4.04983e6 & 0.0 & 29067.6 & 0.552554 & 0.0 & 0.537302 & 282919.0 & 128934.0 & $\\dots$ \\\\\n",
       "\t15 & 0040759-80.2012.8.26.0100 & 2012-08-13 & 2012-08-17 & 2014-08-07 & 2019-04-24 & 0.133333 & 24.0 & 57.3667 & 81.5 & 1.0 & 6.23264e7 & 4.06458e6 & 3.71427e7 & 0.435687 & 0.941905 & 0.995025 & 7.67627e7 & 3.97866e7 & $\\dots$ \\\\\n",
       "\t16 & 0047633-52.2010.8.26.0100 & 2010-11-25 & 2010-12-14 & 2012-01-20 & 2016-11-28 & 0.633333 & 13.4 & 59.1333 & 73.1667 & 1.0 & 1.58493e7 & 3.33707e5 & 2.39977e6 & 0.806265 & 0.968244 & 0.806265 & 2.82795e7 & 3.31912e6 & $\\dots$ \\\\\n",
       "\t17 & 0050926-59.2012.8.26.0100 & 2012-10-01 & 2012-10-04 & 2014-02-14 & 2016-07-12 & 0.1 & 16.6 & 29.3 & 46.0 & 1.0 & 9.92458e6 & 346732.0 & 1.1956e6 & 0.360493 & 0.941905 & 0.580947 & 2.11199e7 & 444084.0 & $\\dots$ \\\\\n",
       "\t18 & 0052597-54.2011.8.26.0100 & 2011-11-03 & 2011-12-13 & 2013-03-19 & 2016-02-25 & 1.33333 & 15.4 & 35.7667 & 52.5 & 1.0 & 3.33873e7 & 2860.0 & 20000.0 & 0.496396 & 0.941905 & 0.496396 & 8.89775e6 & 3.31661e6 & $\\dots$ \\\\\n",
       "\t19 & 0057122-11.2013.8.26.0100 & 2013-08-28 & 2013-10-09 & 2014-10-08 & 2016-03-23 & 1.4 & 12.1333 & 17.7333 & 31.2667 & 1.0 & 1.25869e6 & 91267.0 & 3.07896e6 & 0.555154 & 0.968244 & 0.751999 & 6.30519e6 & 3.80922e6 & $\\dots$ \\\\\n",
       "\t20 & 0057970-95.2013.8.26.0100 & 2013-09-02 & 2013-09-17 & 2015-02-02 & 2019-04-04 & 0.5 & 16.7667 & 50.7333 & 68.0 & 1.0 & 1.21831e7 & 4.32772e6 & 316500.0 & 0.620106 & 0.941905 & 0.620106 & 1.88919e7 & 7.85528e6 & $\\dots$ \\\\\n",
       "\t21 & 0064111-67.2012.8.26.0100 & 2012-11-14 & 2013-01-29 & 2014-07-30 & 2017-07-10 & 2.53333 & 18.2333 & 35.8667 & 56.6333 & 1.0 & 1.60199e7 & 3.2556e6 & 176530.0 & 0.655437 & 0.941905 & 0.449309 & 7.58655e7 & 1.34885e7 & $\\dots$ \\\\\n",
       "\t22 & 0111888-53.2009.8.26.0100 & 2009-02-03 & 2009-03-24 & 2010-10-06 & 2016-02-03 & 1.63333 & 18.7 & 64.8667 & 85.2 & 1.0 & 2.82823e7 & 2.52368e5 & 1.51566e5 & 0.422266 & 0.941905 & 0.422266 & 8.61028e7 & 3.05071e6 & $\\dots$ \\\\\n",
       "\t23 & 0128335-19.2009.8.26.0100 & 2009-03-19 & 2009-04-30 & 2010-06-17 & 2013-12-18 & 1.4 & 13.7667 & 42.6667 & 57.8333 & 1.0 & 1.21287e7 & 1.71332e6 & 2.03739e6 & 0.665932 & 0.968244 & 0.995025 & 4.8867e7 & 1.98944e7 & $\\dots$ \\\\\n",
       "\t24 & 0133085-64.2009.8.26.0100 & 2009-04-01 & 2009-05-19 & 2010-03-19 & 2018-12-04 & 1.6 & 10.1333 & 106.067 & 117.8 & 1.0 & 1.66432e7 & 89600.0 & 1.12e6 & 0.377744 & 0.995025 & 0.377744 & 1.25236e7 & 1.60186e6 & $\\dots$ \\\\\n",
       "\t25 & 0166925-02.2008.8.26.0100 & 2008-07-07 & 2008-08-07 & 2009-08-28 & 2014-10-03 & 1.03333 & 12.8667 & 62.0667 & 75.9667 & 1.0 & 3.51184e6 & 138030.0 & 140000.0 & 0.775821 & 0.953758 & 0.775821 & 5.7835e6 & 2.27378e6 & $\\dots$ \\\\\n",
       "\t26 & 0195566-97.2008.8.26.0100 & 2008-09-15 & 2008-11-10 & 2009-10-20 & 2017-02-23 & 1.86667 & 11.4667 & 89.4333 & 102.767 & 1.0 & 2.06378e7 & 3.27136e6 & 5.06453e6 & 0.812916 & 0.953758 & 0.812916 & 6.00031e7 & 5.04528e6 & $\\dots$ \\\\\n",
       "\t27 & 0199374-13.2008.8.26.0100 & 2008-09-23 & 2008-10-30 & 2009-09-09 & 2017-09-20 & 1.23333 & 10.4667 & 97.7667 & 109.467 & 1.0 & 6.89941e6 & 11642.0 & 1.16586e6 & 0.687773 & 0.941905 & 0.687773 & 8.34309e6 & 718390.0 & $\\dots$ \\\\\n",
       "\t28 & 0228439-53.2008.8.26.0100 & 2008-06-15 & 2009-01-09 & 2009-11-12 & 2016-04-19 & 6.93333 & 10.2333 & 78.3333 & 95.5 & 1.0 & 4.24744e7 & 9.57444e5 & 684573.0 & 0.598274 & 0.941905 & 0.598274 & 1.46139e7 & 6.41127e6 & $\\dots$ \\\\\n",
       "\t29 & 1000278-42.2014.8.26.0309 & 2014-01-14 & 2014-01-15 & 2016-08-16 & 2018-04-02 & 0.0333333 & 31.4667 & 19.8 & 51.3 & 1.0 & 1.19971e6 & 213093.0 & 5.81974e6 & 0.608107 & 0.951114 & 0.25852 & 1.53428e7 & 5.62199e6 & $\\dots$ \\\\\n",
       "\t30 & 1000283-63.2014.8.26.0568 & 2014-01-29 & 2014-01-30 & 2015-08-17 & 2018-03-09 & 0.0333333 & 18.8 & 31.1667 & 50.0 & 1.0 & 1.0922e7 & 0.0 & 677000.0 & 0.469827 & 0.0 & 0.469827 & 1.24853e7 & 2.56786e6 & $\\dots$ \\\\\n",
       "\t$\\dots$ & $\\dots$ & $\\dots$ & $\\dots$ & $\\dots$ & $\\dots$ & $\\dots$ & $\\dots$ & $\\dots$ & $\\dots$ & $\\dots$ & $\\dots$ & $\\dots$ & $\\dots$ & $\\dots$ & $\\dots$ & $\\dots$ & $\\dots$ & $\\dots$ &  \\\\\n",
       "\\end{tabular}\n"
      ],
      "text/plain": [
       "56×32 DataFrame. Omitted printing of 17 columns\n",
       "│ Row │ processo                  │ fil_date   │ data_start │ plan_date  │ final_date │ months_fil_start │ months_start_plan │ months_plan_final │ months_fil_final │ in_court │ D_junior  │ D_labor   │ D_senior  │ R_junior │ R_labor  │\n",
       "│     │ \u001b[90mAny\u001b[39m                       │ \u001b[90mAny\u001b[39m        │ \u001b[90mAny\u001b[39m        │ \u001b[90mAny\u001b[39m        │ \u001b[90mAny\u001b[39m        │ \u001b[90mAny\u001b[39m              │ \u001b[90mAny\u001b[39m               │ \u001b[90mAny\u001b[39m               │ \u001b[90mAny\u001b[39m              │ \u001b[90mAny\u001b[39m      │ \u001b[90mAny\u001b[39m       │ \u001b[90mAny\u001b[39m       │ \u001b[90mAny\u001b[39m       │ \u001b[90mAny\u001b[39m      │ \u001b[90mAny\u001b[39m      │\n",
       "├─────┼───────────────────────────┼────────────┼────────────┼────────────┼────────────┼──────────────────┼───────────────────┼───────────────────┼──────────────────┼──────────┼───────────┼───────────┼───────────┼──────────┼──────────┤\n",
       "│ 1   │ 0000547-55.2014.8.26.0291 │ 2014-01-22 │ 2014-01-29 │ 2015-09-16 │ 2018-07-12 │ 0.233333         │ 19.8333           │ 34.3333           │ 54.4             │ 1.0      │ 3.49201e6 │ 1.38557e6 │ 3.656e6   │ 0.442533 │ 0.941905 │\n",
       "│ 2   │ 0000731-65.2011.8.26.0695 │ 2011-03-22 │ 2011-04-08 │ 2011-10-20 │ 2017-04-20 │ 0.566667         │ 6.5               │ 66.9667           │ 74.0333          │ 1.0      │ 1.58332e6 │ 9.64064e5 │ 1.61192e5 │ 0.81201  │ 0.941905 │\n",
       "│ 3   │ 0003124-79.2014.8.26.0299 │ 2014-05-28 │ 2014-09-25 │ 2016-07-18 │ 2018-07-02 │ 4.0              │ 22.0667           │ 23.8              │ 49.8667          │ 1.0      │ 9.85081e6 │ 1.63535e5 │ 3.30049e6 │ 0.36744  │ 0.968244 │\n",
       "│ 4   │ 0006202-38.2010.8.26.0100 │ 2010-02-12 │ 2010-03-29 │ 2011-01-03 │ 2017-08-25 │ 1.5              │ 9.33333           │ 80.8667           │ 91.7             │ 1.0      │ 3.58351e7 │ 1.72202e6 │ 4.18984e5 │ 0.535184 │ 0.941905 │\n",
       "│ 5   │ 0011100-26.2012.8.26.0100 │ 2012-03-06 │ 2012-04-04 │ 2014-05-15 │ 2015-11-24 │ 0.966667         │ 25.7              │ 18.6              │ 45.2667          │ 1.0      │ 1.43452e7 │ 0.0       │ 1.41472e7 │ 0.465931 │ 0.0      │\n",
       "│ 6   │ 0014297-52.2013.8.26.0100 │ 2013-02-07 │ 2013-02-22 │ 2014-07-21 │ 2018-05-15 │ 0.5              │ 17.1333           │ 46.4667           │ 64.1             │ 1.0      │ 3.1438e7  │ 1.41865e6 │ 1.48989e7 │ 0.396523 │ 0.941905 │\n",
       "│ 7   │ 0016095-59.2013.8.26.0161 │ 2013-06-17 │ 2014-03-18 │ 2016-06-06 │ 2018-11-01 │ 9.13333          │ 27.0333           │ 29.2667           │ 65.4333          │ 1.0      │ 1.00002e7 │ 75754.0   │ 1.02842e5 │ 0.814917 │ 0.941905 │\n",
       "│ 8   │ 0023189-81.2012.8.26.0100 │ 2012-05-07 │ 2012-06-22 │ 2013-06-07 │ 2019-01-15 │ 1.53333          │ 11.6667           │ 68.2667           │ 81.4667          │ 1.0      │ 4.86213e6 │ 0.0       │ 3.844e6   │ 0.206332 │ 0.0      │\n",
       "│ 9   │ 0025113-93.2013.8.26.0100 │ 2013-04-03 │ 2013-08-16 │ 2014-09-17 │ 2018-09-24 │ 4.5              │ 13.2333           │ 48.9333           │ 66.6667          │ 1.0      │ 1.07158e6 │ 0.0       │ 150000.0  │ 0.448017 │ 0.0      │\n",
       "│ 10  │ 0025535-05.2012.8.26.0100 │ 2012-05-18 │ 2012-09-03 │ 2013-06-07 │ 2015-10-08 │ 3.6              │ 9.23333           │ 28.4333           │ 41.2667          │ 1.0      │ 8.35837e6 │ 3.05502e5 │ 1.26003e6 │ 0.726299 │ 0.941905 │\n",
       "⋮\n",
       "│ 46  │ 1070215-24.2013.8.26.0100 │ 2013-09-20 │ 2013-10-10 │ 2014-12-05 │ 2019-04-17 │ 0.666667         │ 14.0333           │ 53.1333           │ 67.8333          │ 1.0      │ 2.98002e7 │ 1.16364e6 │ 3.92611e6 │ 0.746609 │ 0.946686 │\n",
       "│ 47  │ 1079269-43.2015.8.26.0100 │ 2015-08-06 │ 2015-11-06 │ 2017-03-16 │ 2020-01-09 │ 3.06667          │ 16.5333           │ 34.3              │ 53.9             │ 1.0      │ 2.1325e6  │ 2.7641e5  │ 27120.0   │ 0.299413 │ 0.963383 │\n",
       "│ 48  │ 1085873-20.2015.8.26.0100 │ 2015-08-24 │ 2016-03-16 │ 2017-05-09 │ 2018-08-10 │ 6.83333          │ 13.9667           │ 15.2667           │ 36.0667          │ 1.0      │ 3.39584e6 │ 4085.73   │ 7.72192e5 │ 0.512246 │ 0.941905 │\n",
       "│ 49  │ 1085973-43.2013.8.26.0100 │ 2013-11-01 │ 2013-11-22 │ 2014-12-10 │ 2017-03-14 │ 0.7              │ 12.7667           │ 27.5              │ 40.9667          │ 1.0      │ 3.1628e8  │ 1.76287e7 │ 9.46264e7 │ 0.596823 │ 0.941905 │\n",
       "│ 50  │ 1094025-28.2013.8.26.0100 │ 2013-11-26 │ 2014-01-30 │ 2014-11-07 │ 2017-02-09 │ 2.16667          │ 9.36667           │ 27.5              │ 39.0333          │ 1.0      │ 1.35187e7 │ 2.0442e6  │ 1.27225e6 │ 0.748413 │ 0.941905 │\n",
       "│ 51  │ 1106266-34.2013.8.26.0100 │ 2014-01-07 │ 2014-01-30 │ 2014-10-29 │ 2018-12-05 │ 0.766667         │ 9.06667           │ 49.9333           │ 59.7667          │ 1.0      │ 1.072e7   │ 737470.0  │ 466674.0  │ 0.482878 │ 0.941905 │\n",
       "│ 52  │ 4000115-91.2013.8.26.0132 │ 2013-08-14 │ 2013-09-16 │ 2015-04-15 │ 2020-01-20 │ 1.1              │ 19.2              │ 58.0333           │ 78.3333          │ 1.0      │ 3.97191e7 │ 74587.0   │ 1.64344e7 │ 0.358702 │ 0.953758 │\n",
       "│ 53  │ 4004399-75.2013.8.26.0510 │ 2013-09-23 │ 2013-09-27 │ 2015-05-15 │ 2018-04-02 │ 0.133333         │ 19.8333           │ 35.1              │ 55.0667          │ 1.0      │ 2.94475e7 │ 306210.0  │ 4.18556e6 │ 0.34911  │ 0.875152 │\n",
       "│ 54  │ 4011896-58.2013.8.26.0602 │ 2013-09-16 │ 2013-11-14 │ 2017-10-27 │ 2018-05-24 │ 1.96667          │ 48.1              │ 6.96667           │ 57.0333          │ 1.0      │ 3.24095e6 │ 1.00179e5 │ 1.09539e6 │ 0.441475 │ 0.941905 │\n",
       "│ 55  │ 1071904-64.2017.8.26.0100 │ 0          │ 0          │ 0          │ 0          │ 0.0              │ 0.0               │ 0.0               │ 0.0              │ 0.0      │ 1.66866e9 │ 0.0       │ 4.44703e8 │ 0.805483 │ 0.0      │\n",
       "│ 56  │ 1125916-28.2017.8.26.0100 │ 0          │ 0          │ 0          │ 0          │ 0.0              │ 0.0               │ 0.0               │ 0.0              │ 0.0      │ 4.7173e5  │ 0.0       │ 3.30293e6 │ 0.308326 │ 0.0      │"
      ]
     },
     "execution_count": 133,
     "metadata": {},
     "output_type": "execute_result"
    }
   ],
   "source": [
    "q = 0.25 #quartil desejado\n",
    "\n",
    "\n",
    "mm5 = filter(df -> df.outcome_bargain .== \"reorganized\", df) #casos reorganizados, dentro ou fora da corte"
   ]
  },
  {
   "cell_type": "code",
   "execution_count": 134,
   "metadata": {},
   "outputs": [
    {
     "data": {
      "text/plain": [
       "2.348195604246101"
      ]
     },
     "execution_count": 134,
     "metadata": {},
     "output_type": "execute_result"
    }
   ],
   "source": [
    "quartil = quantile(log.(mm5.months_start_plan), q)"
   ]
  },
  {
   "cell_type": "code",
   "execution_count": 135,
   "metadata": {},
   "outputs": [
    {
     "data": {
      "text/html": [
       "<table class=\"data-frame\"><thead><tr><th></th><th>processo</th><th>fil_date</th><th>data_start</th><th>plan_date</th><th>final_date</th><th>months_fil_start</th><th>months_start_plan</th><th>months_plan_final</th><th>months_fil_final</th><th>in_court</th><th>D_junior</th><th>D_labor</th><th>D_senior</th><th>R_junior</th><th>R_labor</th><th>R_senior</th><th>assets_total</th><th>assets_fixed</th></tr><tr><th></th><th>Any</th><th>Any</th><th>Any</th><th>Any</th><th>Any</th><th>Any</th><th>Any</th><th>Any</th><th>Any</th><th>Any</th><th>Any</th><th>Any</th><th>Any</th><th>Any</th><th>Any</th><th>Any</th><th>Any</th><th>Any</th></tr></thead><tbody><p>15 rows × 32 columns (omitted printing of 14 columns)</p><tr><th>1</th><td>0000731-65.2011.8.26.0695</td><td>2011-03-22</td><td>2011-04-08</td><td>2011-10-20</td><td>2017-04-20</td><td>0.566667</td><td>6.5</td><td>66.9667</td><td>74.0333</td><td>1.0</td><td>1.58332e6</td><td>9.64064e5</td><td>1.61192e5</td><td>0.81201</td><td>0.941905</td><td>0.81201</td><td>2.77487e6</td><td>1.0668e6</td></tr><tr><th>2</th><td>0006202-38.2010.8.26.0100</td><td>2010-02-12</td><td>2010-03-29</td><td>2011-01-03</td><td>2017-08-25</td><td>1.5</td><td>9.33333</td><td>80.8667</td><td>91.7</td><td>1.0</td><td>3.58351e7</td><td>1.72202e6</td><td>4.18984e5</td><td>0.535184</td><td>0.941905</td><td>0.535184</td><td>1.65361e7</td><td>1.15454e7</td></tr><tr><th>3</th><td>0025535-05.2012.8.26.0100</td><td>2012-05-18</td><td>2012-09-03</td><td>2013-06-07</td><td>2015-10-08</td><td>3.6</td><td>9.23333</td><td>28.4333</td><td>41.2667</td><td>1.0</td><td>8.35837e6</td><td>3.05502e5</td><td>1.26003e6</td><td>0.726299</td><td>0.941905</td><td>0.726299</td><td>2.62484e7</td><td>812587.0</td></tr><tr><th>4</th><td>0133085-64.2009.8.26.0100</td><td>2009-04-01</td><td>2009-05-19</td><td>2010-03-19</td><td>2018-12-04</td><td>1.6</td><td>10.1333</td><td>106.067</td><td>117.8</td><td>1.0</td><td>1.66432e7</td><td>89600.0</td><td>1.12e6</td><td>0.377744</td><td>0.995025</td><td>0.377744</td><td>1.25236e7</td><td>1.60186e6</td></tr><tr><th>5</th><td>0199374-13.2008.8.26.0100</td><td>2008-09-23</td><td>2008-10-30</td><td>2009-09-09</td><td>2017-09-20</td><td>1.23333</td><td>10.4667</td><td>97.7667</td><td>109.467</td><td>1.0</td><td>6.89941e6</td><td>11642.0</td><td>1.16586e6</td><td>0.687773</td><td>0.941905</td><td>0.687773</td><td>8.34309e6</td><td>718390.0</td></tr><tr><th>6</th><td>0228439-53.2008.8.26.0100</td><td>2008-06-15</td><td>2009-01-09</td><td>2009-11-12</td><td>2016-04-19</td><td>6.93333</td><td>10.2333</td><td>78.3333</td><td>95.5</td><td>1.0</td><td>4.24744e7</td><td>9.57444e5</td><td>684573.0</td><td>0.598274</td><td>0.941905</td><td>0.598274</td><td>1.46139e7</td><td>6.41127e6</td></tr><tr><th>7</th><td>1001156-81.2014.8.26.0077</td><td>2014-02-25</td><td>2014-03-07</td><td>2015-01-15</td><td>2018-10-16</td><td>0.333333</td><td>10.4667</td><td>45.6667</td><td>56.4667</td><td>1.0</td><td>1.73876e6</td><td>86650.6</td><td>8.51832e5</td><td>0.173783</td><td>0.941746</td><td>0.173783</td><td>2.06973e6</td><td>576866.0</td></tr><tr><th>8</th><td>1006499-72.2016.8.26.0664</td><td>2016-08-09</td><td>2016-09-12</td><td>2017-06-07</td><td>2019-08-14</td><td>1.13333</td><td>8.93333</td><td>26.6</td><td>36.6667</td><td>1.0</td><td>1.67434e6</td><td>60166.6</td><td>4.18353e6</td><td>0.182776</td><td>0.953758</td><td>0.180101</td><td>1.12756e7</td><td>3.3634e6</td></tr><tr><th>9</th><td>1015481-89.2014.8.26.0100</td><td>2014-02-18</td><td>2014-03-20</td><td>2014-11-06</td><td>2017-05-16</td><td>1.0</td><td>7.7</td><td>30.7333</td><td>39.4333</td><td>1.0</td><td>6.36258e6</td><td>3.82754e5</td><td>1.26671e7</td><td>0.278199</td><td>0.941905</td><td>0.278199</td><td>2.69186e7</td><td>3.36751e6</td></tr><tr><th>10</th><td>1065228-08.2014.8.26.0100</td><td>2014-07-16</td><td>2014-08-08</td><td>2015-05-26</td><td>2017-09-20</td><td>0.766667</td><td>9.7</td><td>28.2667</td><td>38.7333</td><td>1.0</td><td>6.06683e6</td><td>1.26824e5</td><td>6.78687e6</td><td>0.995025</td><td>1.0</td><td>0.995025</td><td>3.04557e7</td><td>2.14738e7</td></tr><tr><th>11</th><td>1065329-11.2015.8.26.0100</td><td>2015-07-01</td><td>2015-08-04</td><td>2016-05-13</td><td>2019-03-20</td><td>1.13333</td><td>9.43333</td><td>34.7</td><td>45.2667</td><td>1.0</td><td>2.10363e6</td><td>90000.0</td><td>68675.0</td><td>0.631971</td><td>0.953758</td><td>0.860937</td><td>5.43166e6</td><td>681269.0</td></tr><tr><th>12</th><td>1094025-28.2013.8.26.0100</td><td>2013-11-26</td><td>2014-01-30</td><td>2014-11-07</td><td>2017-02-09</td><td>2.16667</td><td>9.36667</td><td>27.5</td><td>39.0333</td><td>1.0</td><td>1.35187e7</td><td>2.0442e6</td><td>1.27225e6</td><td>0.748413</td><td>0.941905</td><td>0.523889</td><td>4.45576e7</td><td>1.03472e7</td></tr><tr><th>13</th><td>1106266-34.2013.8.26.0100</td><td>2014-01-07</td><td>2014-01-30</td><td>2014-10-29</td><td>2018-12-05</td><td>0.766667</td><td>9.06667</td><td>49.9333</td><td>59.7667</td><td>1.0</td><td>1.072e7</td><td>737470.0</td><td>466674.0</td><td>0.482878</td><td>0.941905</td><td>0.482878</td><td>1.35064e7</td><td>5.22647e6</td></tr><tr><th>14</th><td>1071904-64.2017.8.26.0100</td><td>0</td><td>0</td><td>0</td><td>0</td><td>0.0</td><td>0.0</td><td>0.0</td><td>0.0</td><td>0.0</td><td>1.66866e9</td><td>0.0</td><td>4.44703e8</td><td>0.805483</td><td>0.0</td><td>0.805483</td><td>2.07274e9</td><td>9.76e6</td></tr><tr><th>15</th><td>1125916-28.2017.8.26.0100</td><td>0</td><td>0</td><td>0</td><td>0</td><td>0.0</td><td>0.0</td><td>0.0</td><td>0.0</td><td>0.0</td><td>4.7173e5</td><td>0.0</td><td>3.30293e6</td><td>0.308326</td><td>0.0</td><td>0.441695</td><td>1.92569e6</td><td>25752.2</td></tr></tbody></table>"
      ],
      "text/latex": [
       "\\begin{tabular}{r|ccccccccccccccccccc}\n",
       "\t& processo & fil\\_date & data\\_start & plan\\_date & final\\_date & months\\_fil\\_start & months\\_start\\_plan & months\\_plan\\_final & months\\_fil\\_final & in\\_court & D\\_junior & D\\_labor & D\\_senior & R\\_junior & R\\_labor & R\\_senior & assets\\_total & assets\\_fixed & \\\\\n",
       "\t\\hline\n",
       "\t& Any & Any & Any & Any & Any & Any & Any & Any & Any & Any & Any & Any & Any & Any & Any & Any & Any & Any & \\\\\n",
       "\t\\hline\n",
       "\t1 & 0000731-65.2011.8.26.0695 & 2011-03-22 & 2011-04-08 & 2011-10-20 & 2017-04-20 & 0.566667 & 6.5 & 66.9667 & 74.0333 & 1.0 & 1.58332e6 & 9.64064e5 & 1.61192e5 & 0.81201 & 0.941905 & 0.81201 & 2.77487e6 & 1.0668e6 & $\\dots$ \\\\\n",
       "\t2 & 0006202-38.2010.8.26.0100 & 2010-02-12 & 2010-03-29 & 2011-01-03 & 2017-08-25 & 1.5 & 9.33333 & 80.8667 & 91.7 & 1.0 & 3.58351e7 & 1.72202e6 & 4.18984e5 & 0.535184 & 0.941905 & 0.535184 & 1.65361e7 & 1.15454e7 & $\\dots$ \\\\\n",
       "\t3 & 0025535-05.2012.8.26.0100 & 2012-05-18 & 2012-09-03 & 2013-06-07 & 2015-10-08 & 3.6 & 9.23333 & 28.4333 & 41.2667 & 1.0 & 8.35837e6 & 3.05502e5 & 1.26003e6 & 0.726299 & 0.941905 & 0.726299 & 2.62484e7 & 812587.0 & $\\dots$ \\\\\n",
       "\t4 & 0133085-64.2009.8.26.0100 & 2009-04-01 & 2009-05-19 & 2010-03-19 & 2018-12-04 & 1.6 & 10.1333 & 106.067 & 117.8 & 1.0 & 1.66432e7 & 89600.0 & 1.12e6 & 0.377744 & 0.995025 & 0.377744 & 1.25236e7 & 1.60186e6 & $\\dots$ \\\\\n",
       "\t5 & 0199374-13.2008.8.26.0100 & 2008-09-23 & 2008-10-30 & 2009-09-09 & 2017-09-20 & 1.23333 & 10.4667 & 97.7667 & 109.467 & 1.0 & 6.89941e6 & 11642.0 & 1.16586e6 & 0.687773 & 0.941905 & 0.687773 & 8.34309e6 & 718390.0 & $\\dots$ \\\\\n",
       "\t6 & 0228439-53.2008.8.26.0100 & 2008-06-15 & 2009-01-09 & 2009-11-12 & 2016-04-19 & 6.93333 & 10.2333 & 78.3333 & 95.5 & 1.0 & 4.24744e7 & 9.57444e5 & 684573.0 & 0.598274 & 0.941905 & 0.598274 & 1.46139e7 & 6.41127e6 & $\\dots$ \\\\\n",
       "\t7 & 1001156-81.2014.8.26.0077 & 2014-02-25 & 2014-03-07 & 2015-01-15 & 2018-10-16 & 0.333333 & 10.4667 & 45.6667 & 56.4667 & 1.0 & 1.73876e6 & 86650.6 & 8.51832e5 & 0.173783 & 0.941746 & 0.173783 & 2.06973e6 & 576866.0 & $\\dots$ \\\\\n",
       "\t8 & 1006499-72.2016.8.26.0664 & 2016-08-09 & 2016-09-12 & 2017-06-07 & 2019-08-14 & 1.13333 & 8.93333 & 26.6 & 36.6667 & 1.0 & 1.67434e6 & 60166.6 & 4.18353e6 & 0.182776 & 0.953758 & 0.180101 & 1.12756e7 & 3.3634e6 & $\\dots$ \\\\\n",
       "\t9 & 1015481-89.2014.8.26.0100 & 2014-02-18 & 2014-03-20 & 2014-11-06 & 2017-05-16 & 1.0 & 7.7 & 30.7333 & 39.4333 & 1.0 & 6.36258e6 & 3.82754e5 & 1.26671e7 & 0.278199 & 0.941905 & 0.278199 & 2.69186e7 & 3.36751e6 & $\\dots$ \\\\\n",
       "\t10 & 1065228-08.2014.8.26.0100 & 2014-07-16 & 2014-08-08 & 2015-05-26 & 2017-09-20 & 0.766667 & 9.7 & 28.2667 & 38.7333 & 1.0 & 6.06683e6 & 1.26824e5 & 6.78687e6 & 0.995025 & 1.0 & 0.995025 & 3.04557e7 & 2.14738e7 & $\\dots$ \\\\\n",
       "\t11 & 1065329-11.2015.8.26.0100 & 2015-07-01 & 2015-08-04 & 2016-05-13 & 2019-03-20 & 1.13333 & 9.43333 & 34.7 & 45.2667 & 1.0 & 2.10363e6 & 90000.0 & 68675.0 & 0.631971 & 0.953758 & 0.860937 & 5.43166e6 & 681269.0 & $\\dots$ \\\\\n",
       "\t12 & 1094025-28.2013.8.26.0100 & 2013-11-26 & 2014-01-30 & 2014-11-07 & 2017-02-09 & 2.16667 & 9.36667 & 27.5 & 39.0333 & 1.0 & 1.35187e7 & 2.0442e6 & 1.27225e6 & 0.748413 & 0.941905 & 0.523889 & 4.45576e7 & 1.03472e7 & $\\dots$ \\\\\n",
       "\t13 & 1106266-34.2013.8.26.0100 & 2014-01-07 & 2014-01-30 & 2014-10-29 & 2018-12-05 & 0.766667 & 9.06667 & 49.9333 & 59.7667 & 1.0 & 1.072e7 & 737470.0 & 466674.0 & 0.482878 & 0.941905 & 0.482878 & 1.35064e7 & 5.22647e6 & $\\dots$ \\\\\n",
       "\t14 & 1071904-64.2017.8.26.0100 & 0 & 0 & 0 & 0 & 0.0 & 0.0 & 0.0 & 0.0 & 0.0 & 1.66866e9 & 0.0 & 4.44703e8 & 0.805483 & 0.0 & 0.805483 & 2.07274e9 & 9.76e6 & $\\dots$ \\\\\n",
       "\t15 & 1125916-28.2017.8.26.0100 & 0 & 0 & 0 & 0 & 0.0 & 0.0 & 0.0 & 0.0 & 0.0 & 4.7173e5 & 0.0 & 3.30293e6 & 0.308326 & 0.0 & 0.441695 & 1.92569e6 & 25752.2 & $\\dots$ \\\\\n",
       "\\end{tabular}\n"
      ],
      "text/plain": [
       "15×32 DataFrame. Omitted printing of 17 columns\n",
       "│ Row │ processo                  │ fil_date   │ data_start │ plan_date  │ final_date │ months_fil_start │ months_start_plan │ months_plan_final │ months_fil_final │ in_court │ D_junior  │ D_labor   │ D_senior  │ R_junior │ R_labor  │\n",
       "│     │ \u001b[90mAny\u001b[39m                       │ \u001b[90mAny\u001b[39m        │ \u001b[90mAny\u001b[39m        │ \u001b[90mAny\u001b[39m        │ \u001b[90mAny\u001b[39m        │ \u001b[90mAny\u001b[39m              │ \u001b[90mAny\u001b[39m               │ \u001b[90mAny\u001b[39m               │ \u001b[90mAny\u001b[39m              │ \u001b[90mAny\u001b[39m      │ \u001b[90mAny\u001b[39m       │ \u001b[90mAny\u001b[39m       │ \u001b[90mAny\u001b[39m       │ \u001b[90mAny\u001b[39m      │ \u001b[90mAny\u001b[39m      │\n",
       "├─────┼───────────────────────────┼────────────┼────────────┼────────────┼────────────┼──────────────────┼───────────────────┼───────────────────┼──────────────────┼──────────┼───────────┼───────────┼───────────┼──────────┼──────────┤\n",
       "│ 1   │ 0000731-65.2011.8.26.0695 │ 2011-03-22 │ 2011-04-08 │ 2011-10-20 │ 2017-04-20 │ 0.566667         │ 6.5               │ 66.9667           │ 74.0333          │ 1.0      │ 1.58332e6 │ 9.64064e5 │ 1.61192e5 │ 0.81201  │ 0.941905 │\n",
       "│ 2   │ 0006202-38.2010.8.26.0100 │ 2010-02-12 │ 2010-03-29 │ 2011-01-03 │ 2017-08-25 │ 1.5              │ 9.33333           │ 80.8667           │ 91.7             │ 1.0      │ 3.58351e7 │ 1.72202e6 │ 4.18984e5 │ 0.535184 │ 0.941905 │\n",
       "│ 3   │ 0025535-05.2012.8.26.0100 │ 2012-05-18 │ 2012-09-03 │ 2013-06-07 │ 2015-10-08 │ 3.6              │ 9.23333           │ 28.4333           │ 41.2667          │ 1.0      │ 8.35837e6 │ 3.05502e5 │ 1.26003e6 │ 0.726299 │ 0.941905 │\n",
       "│ 4   │ 0133085-64.2009.8.26.0100 │ 2009-04-01 │ 2009-05-19 │ 2010-03-19 │ 2018-12-04 │ 1.6              │ 10.1333           │ 106.067           │ 117.8            │ 1.0      │ 1.66432e7 │ 89600.0   │ 1.12e6    │ 0.377744 │ 0.995025 │\n",
       "│ 5   │ 0199374-13.2008.8.26.0100 │ 2008-09-23 │ 2008-10-30 │ 2009-09-09 │ 2017-09-20 │ 1.23333          │ 10.4667           │ 97.7667           │ 109.467          │ 1.0      │ 6.89941e6 │ 11642.0   │ 1.16586e6 │ 0.687773 │ 0.941905 │\n",
       "│ 6   │ 0228439-53.2008.8.26.0100 │ 2008-06-15 │ 2009-01-09 │ 2009-11-12 │ 2016-04-19 │ 6.93333          │ 10.2333           │ 78.3333           │ 95.5             │ 1.0      │ 4.24744e7 │ 9.57444e5 │ 684573.0  │ 0.598274 │ 0.941905 │\n",
       "│ 7   │ 1001156-81.2014.8.26.0077 │ 2014-02-25 │ 2014-03-07 │ 2015-01-15 │ 2018-10-16 │ 0.333333         │ 10.4667           │ 45.6667           │ 56.4667          │ 1.0      │ 1.73876e6 │ 86650.6   │ 8.51832e5 │ 0.173783 │ 0.941746 │\n",
       "│ 8   │ 1006499-72.2016.8.26.0664 │ 2016-08-09 │ 2016-09-12 │ 2017-06-07 │ 2019-08-14 │ 1.13333          │ 8.93333           │ 26.6              │ 36.6667          │ 1.0      │ 1.67434e6 │ 60166.6   │ 4.18353e6 │ 0.182776 │ 0.953758 │\n",
       "│ 9   │ 1015481-89.2014.8.26.0100 │ 2014-02-18 │ 2014-03-20 │ 2014-11-06 │ 2017-05-16 │ 1.0              │ 7.7               │ 30.7333           │ 39.4333          │ 1.0      │ 6.36258e6 │ 3.82754e5 │ 1.26671e7 │ 0.278199 │ 0.941905 │\n",
       "│ 10  │ 1065228-08.2014.8.26.0100 │ 2014-07-16 │ 2014-08-08 │ 2015-05-26 │ 2017-09-20 │ 0.766667         │ 9.7               │ 28.2667           │ 38.7333          │ 1.0      │ 6.06683e6 │ 1.26824e5 │ 6.78687e6 │ 0.995025 │ 1.0      │\n",
       "│ 11  │ 1065329-11.2015.8.26.0100 │ 2015-07-01 │ 2015-08-04 │ 2016-05-13 │ 2019-03-20 │ 1.13333          │ 9.43333           │ 34.7              │ 45.2667          │ 1.0      │ 2.10363e6 │ 90000.0   │ 68675.0   │ 0.631971 │ 0.953758 │\n",
       "│ 12  │ 1094025-28.2013.8.26.0100 │ 2013-11-26 │ 2014-01-30 │ 2014-11-07 │ 2017-02-09 │ 2.16667          │ 9.36667           │ 27.5              │ 39.0333          │ 1.0      │ 1.35187e7 │ 2.0442e6  │ 1.27225e6 │ 0.748413 │ 0.941905 │\n",
       "│ 13  │ 1106266-34.2013.8.26.0100 │ 2014-01-07 │ 2014-01-30 │ 2014-10-29 │ 2018-12-05 │ 0.766667         │ 9.06667           │ 49.9333           │ 59.7667          │ 1.0      │ 1.072e7   │ 737470.0  │ 466674.0  │ 0.482878 │ 0.941905 │\n",
       "│ 14  │ 1071904-64.2017.8.26.0100 │ 0          │ 0          │ 0          │ 0          │ 0.0              │ 0.0               │ 0.0               │ 0.0              │ 0.0      │ 1.66866e9 │ 0.0       │ 4.44703e8 │ 0.805483 │ 0.0      │\n",
       "│ 15  │ 1125916-28.2017.8.26.0100 │ 0          │ 0          │ 0          │ 0          │ 0.0              │ 0.0               │ 0.0               │ 0.0              │ 0.0      │ 4.7173e5  │ 0.0       │ 3.30293e6 │ 0.308326 │ 0.0      │"
      ]
     },
     "execution_count": 135,
     "metadata": {},
     "output_type": "execute_result"
    }
   ],
   "source": [
    "mm5 = filter(mm5 -> log.(mm5.months_start_plan) .<= quartil, mm5)"
   ]
  },
  {
   "cell_type": "code",
   "execution_count": 136,
   "metadata": {},
   "outputs": [
    {
     "data": {
      "text/plain": [
       "0.5652848834410633"
      ]
     },
     "execution_count": 136,
     "metadata": {},
     "output_type": "execute_result"
    }
   ],
   "source": [
    "mm5 = mean(mm5.R_senior)"
   ]
  },
  {
   "cell_type": "code",
   "execution_count": 137,
   "metadata": {},
   "outputs": [
    {
     "data": {
      "text/plain": [
       "2.348195604246101"
      ]
     },
     "execution_count": 137,
     "metadata": {},
     "output_type": "execute_result"
    }
   ],
   "source": [
    "quartil"
   ]
  },
  {
   "cell_type": "code",
   "execution_count": 138,
   "metadata": {},
   "outputs": [
    {
     "data": {
      "text/plain": [
       "5.046468293750712e-18"
      ]
     },
     "execution_count": 138,
     "metadata": {},
     "output_type": "execute_result"
    }
   ],
   "source": [
    "if5 = zeros(nrow(df));\n",
    "\n",
    "for i in 1:length(if5)\n",
    "    #casos liquidados ou que não estão entre os 25% reorganizados mais rapidamente não influenciam este momento\n",
    "    if(df.outcome_bargain[i] == \"liquidated\")\n",
    "        if5[i] = zero(0.0)\n",
    "    elseif( (df.outcome_bargain[i] == \"reorganized\" && log(df.months_start_plan[i]) > quartil ) )\n",
    "        if5[i] = zero(0.0)\n",
    "    else\n",
    "        if5[i] = df.R_senior[i] - mm5\n",
    "    end\n",
    "end\n",
    "\n",
    "mean(if5)"
   ]
  },
  {
   "cell_type": "code",
   "execution_count": 139,
   "metadata": {},
   "outputs": [
    {
     "data": {
      "text/plain": [
       "15"
      ]
     },
     "execution_count": 139,
     "metadata": {},
     "output_type": "execute_result"
    }
   ],
   "source": [
    "#se a IF estiver certa, somente 15 observações não terão valor zero\n",
    "size(filter(if5 -> if5 .!= 0.0, if5), 1)\n",
    "\n",
    "#bingo!"
   ]
  },
  {
   "cell_type": "markdown",
   "metadata": {},
   "source": [
    "MM6: avg recovery arte for J given REORGANIZATION in the 25% fastest cases\n",
    "\n",
    "Includes PRECOURT and INCOURT cases"
   ]
  },
  {
   "cell_type": "code",
   "execution_count": 140,
   "metadata": {},
   "outputs": [
    {
     "data": {
      "text/plain": [
       "0.5562758267330555"
      ]
     },
     "execution_count": 140,
     "metadata": {},
     "output_type": "execute_result"
    }
   ],
   "source": [
    "q = 0.25 #quartil desejado\n",
    "\n",
    "mm6 = filter(df -> df.outcome_bargain .== \"reorganized\", df) #casos reorganizados, dentro ou fora da corte\n",
    "\n",
    "quartil = quantile(log.(mm6.months_start_plan), q)\n",
    "\n",
    "mm6 = filter(mm6 -> log.(mm6.months_start_plan) .<= quartil, mm6)\n",
    "\n",
    "mm6 = mean(mm6.R_junior)"
   ]
  },
  {
   "cell_type": "code",
   "execution_count": 141,
   "metadata": {},
   "outputs": [
    {
     "data": {
      "text/plain": [
       "3.027880976250427e-17"
      ]
     },
     "execution_count": 141,
     "metadata": {},
     "output_type": "execute_result"
    }
   ],
   "source": [
    "if6 = zeros(nrow(df));\n",
    "\n",
    "for i in 1:length(if6)\n",
    "    #casos liquidados ou que não estão entre os 25% reorganizados mais rapidamente não influenciam este momento\n",
    "    if(df.outcome_bargain[i] == \"liquidated\")\n",
    "        if6[i] = zero(0.0)\n",
    "    elseif( (df.outcome_bargain[i] == \"reorganized\" && log(df.months_start_plan[i]) > quartil ) )\n",
    "        if6[i] = zero(0.0)\n",
    "    else\n",
    "        if6[i] = df.R_junior[i] - mm6\n",
    "    end\n",
    "end\n",
    "\n",
    "\n",
    "\n",
    "mean(if6)"
   ]
  },
  {
   "cell_type": "code",
   "execution_count": 142,
   "metadata": {},
   "outputs": [
    {
     "data": {
      "text/plain": [
       "15"
      ]
     },
     "execution_count": 142,
     "metadata": {},
     "output_type": "execute_result"
    }
   ],
   "source": [
    "#se a IF estiver certa, somente 15 observações não terão valor zero\n",
    "size(filter(if6 -> if6 .!= 0.0, if6), 1)\n",
    "#bingo!"
   ]
  },
  {
   "cell_type": "markdown",
   "metadata": {},
   "source": [
    "MM7: junior creditor’s average fraction gain, conditional on an in-court reorganization"
   ]
  },
  {
   "cell_type": "code",
   "execution_count": 143,
   "metadata": {},
   "outputs": [],
   "source": [
    "INCOURT_REORG = filter(INCOURT -> INCOURT.outcome_bargain .== \"reorganized\", INCOURT);"
   ]
  },
  {
   "cell_type": "code",
   "execution_count": 145,
   "metadata": {},
   "outputs": [],
   "source": [
    "INCOURT_REORG.payoff_j = INCOURT_REORG.R_junior .* INCOURT_REORG.D_junior;\n",
    "INCOURT_REORG.payoff_s = INCOURT_REORG.R_senior .* INCOURT_REORG.D_senior;"
   ]
  },
  {
   "cell_type": "code",
   "execution_count": 146,
   "metadata": {},
   "outputs": [
    {
     "data": {
      "text/plain": [
       "0.7733661464016862"
      ]
     },
     "execution_count": 146,
     "metadata": {},
     "output_type": "execute_result"
    }
   ],
   "source": [
    "mm7 = INCOURT_REORG\n",
    "mm7 = mean(mm7.payoff_j ./ (mm7.payoff_j .+ mm7.payoff_s ))"
   ]
  },
  {
   "cell_type": "code",
   "execution_count": 147,
   "metadata": {},
   "outputs": [],
   "source": [
    "df.payoff_j = df.R_junior .* df.D_junior;\n",
    "df.payoff_s = df.R_senior .* df.D_senior;"
   ]
  },
  {
   "cell_type": "code",
   "execution_count": 148,
   "metadata": {},
   "outputs": [
    {
     "data": {
      "text/plain": [
       "-3.1960965860421176e-17"
      ]
     },
     "execution_count": 148,
     "metadata": {},
     "output_type": "execute_result"
    }
   ],
   "source": [
    "if7 = zeros(nrow(df));\n",
    "\n",
    "for i in 1:length(if7)\n",
    "    if(df.Reorg_incourt[i]== 0.0) #zero se a observação não for de reorganização dentro da corte\n",
    "        if7[i] = zero(0.0)\n",
    "    else\n",
    "        if7[i] = (df.payoff_j[i] / (df.payoff_j[i] + df.payoff_s[i]) ) - mm7\n",
    "    end\n",
    "end\n",
    "\n",
    "mean(if7)"
   ]
  },
  {
   "cell_type": "markdown",
   "metadata": {},
   "source": [
    "MM8: avg total recovery rate given incourt REORGANIZATION"
   ]
  },
  {
   "cell_type": "code",
   "execution_count": 149,
   "metadata": {},
   "outputs": [
    {
     "data": {
      "text/plain": [
       "0.4977287552407836"
      ]
     },
     "execution_count": 149,
     "metadata": {},
     "output_type": "execute_result"
    }
   ],
   "source": [
    "mm8 = INCOURT_REORG\n",
    "mm8 = mean((mm8.payoff_s .+ mm8.payoff_j) ./ (mm8.D_senior .+ mm8.D_junior))"
   ]
  },
  {
   "cell_type": "code",
   "execution_count": 150,
   "metadata": {},
   "outputs": [
    {
     "data": {
      "text/plain": [
       "-9.25185853854297e-18"
      ]
     },
     "execution_count": 150,
     "metadata": {},
     "output_type": "execute_result"
    }
   ],
   "source": [
    "if8 = zeros(nrow(df));\n",
    "\n",
    "for i in 1:length(if8)\n",
    "    if(df.Reorg_incourt[i]==0.0) #zero se a observação não for de reorganização dentro da corte\n",
    "        if8[i] = zero(0.0)\n",
    "    else\n",
    "        if8[i] = ((df.payoff_s[i] + df.payoff_j[i]) / (df.D_senior[i] + df.D_junior[i] ) )  - mm8\n",
    "    end\n",
    "end\n",
    "\n",
    "mean(if8)"
   ]
  },
  {
   "cell_type": "code",
   "execution_count": 151,
   "metadata": {},
   "outputs": [
    {
     "data": {
      "text/plain": [
       "66-element Array{Float64,1}:\n",
       " -0.05519535561448358\n",
       "  0.31428094257096345\n",
       " -0.13028884505016558\n",
       "  0.03745484319769937\n",
       " -0.03179753420385556\n",
       " -0.056125618203346384\n",
       "  0.3171884166107624\n",
       " -0.29139685705980456\n",
       " -0.049711984791891595\n",
       "  0.22857064470807936\n",
       "  0.0\n",
       " -0.113115061209212\n",
       " -0.0781546994540806\n",
       "  ⋮\n",
       " -0.19455627843283635\n",
       "  0.014516804047653376\n",
       "  0.09909386280285243\n",
       "  0.0\n",
       "  0.23137185581361525\n",
       " -0.014851125108793661\n",
       " -0.1285290563205761\n",
       "  0.0\n",
       " -0.14742536042306126\n",
       " -0.056253496253599544\n",
       "  0.0\n",
       "  0.0"
      ]
     },
     "execution_count": 151,
     "metadata": {},
     "output_type": "execute_result"
    }
   ],
   "source": [
    "if8"
   ]
  },
  {
   "cell_type": "markdown",
   "metadata": {},
   "source": [
    "MM9: variance of recovery rate of S given INCOURT REORG"
   ]
  },
  {
   "cell_type": "code",
   "execution_count": 152,
   "metadata": {},
   "outputs": [
    {
     "data": {
      "text/plain": [
       "0.04652980615833147"
      ]
     },
     "execution_count": 152,
     "metadata": {},
     "output_type": "execute_result"
    }
   ],
   "source": [
    "mm9 = INCOURT_REORG\n",
    "mm9 = var(mm9.R_senior)"
   ]
  },
  {
   "cell_type": "code",
   "execution_count": 153,
   "metadata": {},
   "outputs": [
    {
     "data": {
      "text/plain": [
       "-0.0007049970630050308"
      ]
     },
     "execution_count": 153,
     "metadata": {},
     "output_type": "execute_result"
    }
   ],
   "source": [
    "if9 = zeros(nrow(df));\n",
    "\n",
    "for i in 1:length(if9)\n",
    "    if(df.Reorg_incourt[i]==0.0) #zero se a observação não for de reorganização dentro da corte\n",
    "        if9[i] = zero(0.0)\n",
    "    else\n",
    "        if9[i] = (df.R_senior[i] - mean(INCOURT_REORG.R_senior))^2  - mm9\n",
    "    end\n",
    "end\n",
    "\n",
    "mean(if9)"
   ]
  },
  {
   "cell_type": "markdown",
   "metadata": {},
   "source": [
    "MM10: variance of recovery rate of J given INCOURT REORG"
   ]
  },
  {
   "cell_type": "code",
   "execution_count": 154,
   "metadata": {},
   "outputs": [
    {
     "data": {
      "text/plain": [
       "0.03647614100988236"
      ]
     },
     "execution_count": 154,
     "metadata": {},
     "output_type": "execute_result"
    }
   ],
   "source": [
    "mm10 = INCOURT_REORG\n",
    "mm10 = var(mm10.R_junior)"
   ]
  },
  {
   "cell_type": "code",
   "execution_count": 155,
   "metadata": {},
   "outputs": [
    {
     "data": {
      "text/plain": [
       "-0.0005526688031800269"
      ]
     },
     "execution_count": 155,
     "metadata": {},
     "output_type": "execute_result"
    }
   ],
   "source": [
    "if10 = zeros(nrow(df));\n",
    "\n",
    "for i in 1:length(if10)\n",
    "    if(df.Reorg_incourt[i]==0.0) #zero se a observação não for de reorganização dentro da corte\n",
    "        if10[i] = zero(0.0)\n",
    "    else\n",
    "        if10[i] = (df.R_junior[i] - mean(INCOURT_REORG.R_junior))^2  - mm10\n",
    "    end\n",
    "end\n",
    "\n",
    "mean(if10)"
   ]
  },
  {
   "cell_type": "markdown",
   "metadata": {},
   "source": [
    "MM11: variance ln duration of court cases in months\n",
    "\n",
    "É a parte de variância, ao invés da média (MM3)"
   ]
  },
  {
   "cell_type": "code",
   "execution_count": 156,
   "metadata": {},
   "outputs": [
    {
     "data": {
      "text/plain": [
       "0.16966778593934911"
      ]
     },
     "execution_count": 156,
     "metadata": {},
     "output_type": "execute_result"
    }
   ],
   "source": [
    "mm11 = var(log.(INCOURT.months_start_plan))"
   ]
  },
  {
   "cell_type": "code",
   "execution_count": 157,
   "metadata": {},
   "outputs": [
    {
     "data": {
      "text/html": [
       "<table class=\"data-frame\"><thead><tr><th></th><th>processo</th><th>fil_date</th><th>data_start</th><th>plan_date</th><th>final_date</th><th>months_fil_start</th><th>months_start_plan</th><th>months_plan_final</th><th>months_fil_final</th><th>in_court</th><th>D_junior</th><th>D_labor</th><th>D_senior</th><th>R_junior</th><th>R_labor</th><th>R_senior</th><th>assets_total</th><th>assets_fixed</th></tr><tr><th></th><th>Any</th><th>Any</th><th>Any</th><th>Any</th><th>Any</th><th>Any</th><th>Any</th><th>Any</th><th>Any</th><th>Any</th><th>Any</th><th>Any</th><th>Any</th><th>Any</th><th>Any</th><th>Any</th><th>Any</th><th>Any</th></tr></thead><tbody><p>2 rows × 34 columns (omitted printing of 16 columns)</p><tr><th>1</th><td>1071904-64.2017.8.26.0100</td><td>0</td><td>0</td><td>0</td><td>0</td><td>0.0</td><td>0.0</td><td>0.0</td><td>0.0</td><td>0.0</td><td>1.66866e9</td><td>0.0</td><td>4.44703e8</td><td>0.805483</td><td>0.0</td><td>0.805483</td><td>2.07274e9</td><td>9.76e6</td></tr><tr><th>2</th><td>1125916-28.2017.8.26.0100</td><td>0</td><td>0</td><td>0</td><td>0</td><td>0.0</td><td>0.0</td><td>0.0</td><td>0.0</td><td>0.0</td><td>4.7173e5</td><td>0.0</td><td>3.30293e6</td><td>0.308326</td><td>0.0</td><td>0.441695</td><td>1.92569e6</td><td>25752.2</td></tr></tbody></table>"
      ],
      "text/latex": [
       "\\begin{tabular}{r|ccccccccccccccccccc}\n",
       "\t& processo & fil\\_date & data\\_start & plan\\_date & final\\_date & months\\_fil\\_start & months\\_start\\_plan & months\\_plan\\_final & months\\_fil\\_final & in\\_court & D\\_junior & D\\_labor & D\\_senior & R\\_junior & R\\_labor & R\\_senior & assets\\_total & assets\\_fixed & \\\\\n",
       "\t\\hline\n",
       "\t& Any & Any & Any & Any & Any & Any & Any & Any & Any & Any & Any & Any & Any & Any & Any & Any & Any & Any & \\\\\n",
       "\t\\hline\n",
       "\t1 & 1071904-64.2017.8.26.0100 & 0 & 0 & 0 & 0 & 0.0 & 0.0 & 0.0 & 0.0 & 0.0 & 1.66866e9 & 0.0 & 4.44703e8 & 0.805483 & 0.0 & 0.805483 & 2.07274e9 & 9.76e6 & $\\dots$ \\\\\n",
       "\t2 & 1125916-28.2017.8.26.0100 & 0 & 0 & 0 & 0 & 0.0 & 0.0 & 0.0 & 0.0 & 0.0 & 4.7173e5 & 0.0 & 3.30293e6 & 0.308326 & 0.0 & 0.441695 & 1.92569e6 & 25752.2 & $\\dots$ \\\\\n",
       "\\end{tabular}\n"
      ],
      "text/plain": [
       "2×34 DataFrame. Omitted printing of 18 columns\n",
       "│ Row │ processo                  │ fil_date │ data_start │ plan_date │ final_date │ months_fil_start │ months_start_plan │ months_plan_final │ months_fil_final │ in_court │ D_junior  │ D_labor │ D_senior  │ R_junior │ R_labor │ R_senior │\n",
       "│     │ \u001b[90mAny\u001b[39m                       │ \u001b[90mAny\u001b[39m      │ \u001b[90mAny\u001b[39m        │ \u001b[90mAny\u001b[39m       │ \u001b[90mAny\u001b[39m        │ \u001b[90mAny\u001b[39m              │ \u001b[90mAny\u001b[39m               │ \u001b[90mAny\u001b[39m               │ \u001b[90mAny\u001b[39m              │ \u001b[90mAny\u001b[39m      │ \u001b[90mAny\u001b[39m       │ \u001b[90mAny\u001b[39m     │ \u001b[90mAny\u001b[39m       │ \u001b[90mAny\u001b[39m      │ \u001b[90mAny\u001b[39m     │ \u001b[90mAny\u001b[39m      │\n",
       "├─────┼───────────────────────────┼──────────┼────────────┼───────────┼────────────┼──────────────────┼───────────────────┼───────────────────┼──────────────────┼──────────┼───────────┼─────────┼───────────┼──────────┼─────────┼──────────┤\n",
       "│ 1   │ 1071904-64.2017.8.26.0100 │ 0        │ 0          │ 0         │ 0          │ 0.0              │ 0.0               │ 0.0               │ 0.0              │ 0.0      │ 1.66866e9 │ 0.0     │ 4.44703e8 │ 0.805483 │ 0.0     │ 0.805483 │\n",
       "│ 2   │ 1125916-28.2017.8.26.0100 │ 0        │ 0          │ 0         │ 0          │ 0.0              │ 0.0               │ 0.0               │ 0.0              │ 0.0      │ 4.7173e5  │ 0.0     │ 3.30293e6 │ 0.308326 │ 0.0     │ 0.441695 │"
      ]
     },
     "execution_count": 157,
     "metadata": {},
     "output_type": "execute_result"
    }
   ],
   "source": [
    "filter(df -> df.in_court .== 0, df)"
   ]
  },
  {
   "cell_type": "code",
   "execution_count": 158,
   "metadata": {},
   "outputs": [
    {
     "data": {
      "text/plain": [
       "4"
      ]
     },
     "execution_count": 158,
     "metadata": {},
     "output_type": "execute_result"
    }
   ],
   "source": [
    "(4-2)^2"
   ]
  },
  {
   "cell_type": "code",
   "execution_count": 159,
   "metadata": {},
   "outputs": [
    {
     "data": {
      "text/plain": [
       "-0.0025707240293840364"
      ]
     },
     "execution_count": 159,
     "metadata": {},
     "output_type": "execute_result"
    }
   ],
   "source": [
    "if11 = zeros(nrow(df));\n",
    "\n",
    "for i in 1:length(if11)\n",
    "    if(df.in_court[i]==0.0) #zero se a observação não for dentro da corte\n",
    "        if11[i] = zero(0.0)\n",
    "    else\n",
    "        if11[i] = (log(df.months_start_plan[i]) - mean(log.(INCOURT.months_start_plan)) )^2  - mm11\n",
    "    end\n",
    "end\n",
    "\n",
    "mean(if11)"
   ]
  },
  {
   "cell_type": "markdown",
   "metadata": {},
   "source": [
    "MM12: slope of regression of total recovery rate on total duration for incourt reorganizations\n",
    "\n",
    "Igual ao MM9 de Dou et al"
   ]
  },
  {
   "cell_type": "code",
   "execution_count": 160,
   "metadata": {},
   "outputs": [
    {
     "data": {
      "text/plain": [
       "-0.09822867075174749"
      ]
     },
     "execution_count": 160,
     "metadata": {},
     "output_type": "execute_result"
    }
   ],
   "source": [
    "y = INCOURT_REORG\n",
    "\n",
    "y = log.(y.months_start_plan)\n",
    "\n",
    "x = INCOURT_REORG\n",
    "x = log.( (x.payoff_s .+ x.payoff_j) ./ (x.D_senior .+ x.D_junior))\n",
    "\n",
    "X = [ones(size(x,1)) x]\n",
    "\n",
    "using LinearAlgebra\n",
    "mm12 = (X' * X) \\ (X' * y)\n",
    "\n",
    "mm12 = mm12[2]"
   ]
  },
  {
   "cell_type": "code",
   "execution_count": 161,
   "metadata": {},
   "outputs": [
    {
     "data": {
      "text/plain": [
       "-0.2082429957738625"
      ]
     },
     "execution_count": 161,
     "metadata": {},
     "output_type": "execute_result"
    }
   ],
   "source": [
    "x[2]"
   ]
  },
  {
   "cell_type": "code",
   "execution_count": 162,
   "metadata": {},
   "outputs": [
    {
     "data": {
      "text/plain": [
       "66"
      ]
     },
     "execution_count": 162,
     "metadata": {},
     "output_type": "execute_result"
    }
   ],
   "source": [
    "if12 = zeros(nrow(df));\n",
    "\n",
    "length(if12)"
   ]
  },
  {
   "cell_type": "code",
   "execution_count": 163,
   "metadata": {},
   "outputs": [
    {
     "data": {
      "text/plain": [
       "66-element Array{Float64,1}:\n",
       " -0.815239338001109\n",
       " -0.2082429957738625\n",
       " -1.0011954833838048\n",
       " -0.6251454163057129\n",
       " -0.763717250090964\n",
       " -0.817343680245939\n",
       " -0.20466880053592001\n",
       " -1.5782692504939808\n",
       " -0.8029246132300827\n",
       " -0.3197929525456788\n",
       " -1.568541694581116\n",
       " -0.9555158405550106\n",
       " -0.8685152351945186\n",
       "  ⋮\n",
       " -1.193453405033666\n",
       " -0.66895116093255\n",
       " -0.5161353319440475\n",
       " -1.208503993624127\n",
       " -0.31594354407601666\n",
       " -0.727992011193047\n",
       " -0.9964175918461682\n",
       " -0.9116146662622224\n",
       " -1.0489556576531676\n",
       " -0.8176332990424642\n",
       " -0.21631350816334852\n",
       " -0.8556012024942443"
      ]
     },
     "execution_count": 163,
     "metadata": {},
     "output_type": "execute_result"
    }
   ],
   "source": [
    "if12 = zeros(nrow(df));\n",
    "\n",
    "#precisa recriar y e x aqui embaixo para englobar todas va\n",
    "Y = log.(df.months_start_plan)\n",
    "X = log.( (df.payoff_s .+ df.payoff_j) ./ (df.D_senior .+ df.D_junior))"
   ]
  },
  {
   "cell_type": "code",
   "execution_count": 166,
   "metadata": {},
   "outputs": [
    {
     "data": {
      "text/plain": [
       "1.4903903027543768e-15"
      ]
     },
     "execution_count": 166,
     "metadata": {},
     "output_type": "execute_result"
    }
   ],
   "source": [
    "for i in 1:length(if12)\n",
    "    if(df.Reorg_incourt[i]== 0.0) #zero se a observação não for de reorganização dentro da corte\n",
    "        if12[i] = zero(0.0)\n",
    "        \n",
    "        #X e Y são as observações para toda a base de dados\n",
    "        #x e y são as observações somente para os casos reorganizados dentro da corte\n",
    "    else\n",
    "        if12[i] = ( (X[i] - mean(x)) / var(x) ) * (  (Y[i] - mean(y)) - mm12 * (X[i] - mean(x)))\n",
    "    end\n",
    "end\n",
    "\n",
    "mean(if12)"
   ]
  },
  {
   "cell_type": "markdown",
   "metadata": {},
   "source": [
    "## Momentos novos\n",
    "\n",
    "\n",
    "Lembrando que:\n",
    "- months_start_plan = duração total da barganha\n",
    "- ln_n_months = tempo entre AGCs, que tem vários valores faltando"
   ]
  },
  {
   "cell_type": "markdown",
   "metadata": {},
   "source": [
    "MM10: taxa de recuperação de reorganizações dentro da corte 25% mais rápidas\n",
    "\n",
    "OBS: a taxa de recuperação não é descrescente nos quartis. Nem sempre os casos mais rápidos são os que têm maior taxa de recuperação. "
   ]
  },
  {
   "cell_type": "code",
   "execution_count": 165,
   "metadata": {},
   "outputs": [
    {
     "data": {
      "text/plain": [
       "2.403082335814427"
      ]
     },
     "execution_count": 165,
     "metadata": {},
     "output_type": "execute_result"
    }
   ],
   "source": [
    "q = 0.25 #quartil desejado\n",
    "\n",
    "mm10 = INCOURT_REORG\n",
    "quartil = quantile(log.(mm10.months_start_plan), q)"
   ]
  },
  {
   "cell_type": "code",
   "execution_count": 166,
   "metadata": {},
   "outputs": [
    {
     "data": {
      "text/html": [
       "<table class=\"data-frame\"><thead><tr><th></th><th>processo</th><th>fil_date</th><th>data_start</th><th>plan_date</th><th>final_date</th><th>months_fil_start</th><th>months_start_plan</th><th>months_plan_final</th><th>months_fil_final</th><th>in_court</th><th>D_junior</th><th>D_labor</th><th>D_senior</th><th>R_junior</th><th>R_labor</th><th>R_senior</th><th>assets_total</th><th>assets_fixed</th></tr><tr><th></th><th>Any</th><th>Any</th><th>Any</th><th>Any</th><th>Any</th><th>Any</th><th>Any</th><th>Any</th><th>Any</th><th>Any</th><th>Any</th><th>Any</th><th>Any</th><th>Any</th><th>Any</th><th>Any</th><th>Any</th><th>Any</th></tr></thead><tbody><p>14 rows × 34 columns (omitted printing of 16 columns)</p><tr><th>1</th><td>0000731-65.2011.8.26.0695</td><td>2011-03-22</td><td>2011-04-08</td><td>2011-10-20</td><td>2017-04-20</td><td>0.566667</td><td>6.5</td><td>66.9667</td><td>74.0333</td><td>1.0</td><td>1.58332e6</td><td>9.64064e5</td><td>1.61192e5</td><td>0.81201</td><td>0.941905</td><td>0.81201</td><td>2.77487e6</td><td>1.0668e6</td></tr><tr><th>2</th><td>0006202-38.2010.8.26.0100</td><td>2010-02-12</td><td>2010-03-29</td><td>2011-01-03</td><td>2017-08-25</td><td>1.5</td><td>9.33333</td><td>80.8667</td><td>91.7</td><td>1.0</td><td>3.58351e7</td><td>1.72202e6</td><td>4.18984e5</td><td>0.535184</td><td>0.941905</td><td>0.535184</td><td>1.65361e7</td><td>1.15454e7</td></tr><tr><th>3</th><td>0025535-05.2012.8.26.0100</td><td>2012-05-18</td><td>2012-09-03</td><td>2013-06-07</td><td>2015-10-08</td><td>3.6</td><td>9.23333</td><td>28.4333</td><td>41.2667</td><td>1.0</td><td>8.35837e6</td><td>3.05502e5</td><td>1.26003e6</td><td>0.726299</td><td>0.941905</td><td>0.726299</td><td>2.62484e7</td><td>812587.0</td></tr><tr><th>4</th><td>0133085-64.2009.8.26.0100</td><td>2009-04-01</td><td>2009-05-19</td><td>2010-03-19</td><td>2018-12-04</td><td>1.6</td><td>10.1333</td><td>106.067</td><td>117.8</td><td>1.0</td><td>1.66432e7</td><td>89600.0</td><td>1.12e6</td><td>0.377744</td><td>0.995025</td><td>0.377744</td><td>1.25236e7</td><td>1.60186e6</td></tr><tr><th>5</th><td>0199374-13.2008.8.26.0100</td><td>2008-09-23</td><td>2008-10-30</td><td>2009-09-09</td><td>2017-09-20</td><td>1.23333</td><td>10.4667</td><td>97.7667</td><td>109.467</td><td>1.0</td><td>6.89941e6</td><td>11642.0</td><td>1.16586e6</td><td>0.687773</td><td>0.941905</td><td>0.687773</td><td>8.34309e6</td><td>718390.0</td></tr><tr><th>6</th><td>0228439-53.2008.8.26.0100</td><td>2008-06-15</td><td>2009-01-09</td><td>2009-11-12</td><td>2016-04-19</td><td>6.93333</td><td>10.2333</td><td>78.3333</td><td>95.5</td><td>1.0</td><td>4.24744e7</td><td>9.57444e5</td><td>684573.0</td><td>0.598274</td><td>0.941905</td><td>0.598274</td><td>1.46139e7</td><td>6.41127e6</td></tr><tr><th>7</th><td>1000926-42.2013.8.26.0152</td><td>2013-02-22</td><td>2013-04-15</td><td>2014-03-10</td><td>2016-02-05</td><td>1.73333</td><td>10.9667</td><td>23.2333</td><td>35.9333</td><td>1.0</td><td>9.653e6</td><td>33000.0</td><td>387000.0</td><td>0.167423</td><td>0.941905</td><td>0.167423</td><td>5.13303e6</td><td>108040.0</td></tr><tr><th>8</th><td>1001156-81.2014.8.26.0077</td><td>2014-02-25</td><td>2014-03-07</td><td>2015-01-15</td><td>2018-10-16</td><td>0.333333</td><td>10.4667</td><td>45.6667</td><td>56.4667</td><td>1.0</td><td>1.73876e6</td><td>86650.6</td><td>8.51832e5</td><td>0.173783</td><td>0.941746</td><td>0.173783</td><td>2.06973e6</td><td>576866.0</td></tr><tr><th>9</th><td>1006499-72.2016.8.26.0664</td><td>2016-08-09</td><td>2016-09-12</td><td>2017-06-07</td><td>2019-08-14</td><td>1.13333</td><td>8.93333</td><td>26.6</td><td>36.6667</td><td>1.0</td><td>1.67434e6</td><td>60166.6</td><td>4.18353e6</td><td>0.182776</td><td>0.953758</td><td>0.180101</td><td>1.12756e7</td><td>3.3634e6</td></tr><tr><th>10</th><td>1015481-89.2014.8.26.0100</td><td>2014-02-18</td><td>2014-03-20</td><td>2014-11-06</td><td>2017-05-16</td><td>1.0</td><td>7.7</td><td>30.7333</td><td>39.4333</td><td>1.0</td><td>6.36258e6</td><td>3.82754e5</td><td>1.26671e7</td><td>0.278199</td><td>0.941905</td><td>0.278199</td><td>2.69186e7</td><td>3.36751e6</td></tr><tr><th>11</th><td>1065228-08.2014.8.26.0100</td><td>2014-07-16</td><td>2014-08-08</td><td>2015-05-26</td><td>2017-09-20</td><td>0.766667</td><td>9.7</td><td>28.2667</td><td>38.7333</td><td>1.0</td><td>6.06683e6</td><td>1.26824e5</td><td>6.78687e6</td><td>0.995025</td><td>1.0</td><td>0.995025</td><td>3.04557e7</td><td>2.14738e7</td></tr><tr><th>12</th><td>1065329-11.2015.8.26.0100</td><td>2015-07-01</td><td>2015-08-04</td><td>2016-05-13</td><td>2019-03-20</td><td>1.13333</td><td>9.43333</td><td>34.7</td><td>45.2667</td><td>1.0</td><td>2.10363e6</td><td>90000.0</td><td>68675.0</td><td>0.631971</td><td>0.953758</td><td>0.860937</td><td>5.43166e6</td><td>681269.0</td></tr><tr><th>13</th><td>1094025-28.2013.8.26.0100</td><td>2013-11-26</td><td>2014-01-30</td><td>2014-11-07</td><td>2017-02-09</td><td>2.16667</td><td>9.36667</td><td>27.5</td><td>39.0333</td><td>1.0</td><td>1.35187e7</td><td>2.0442e6</td><td>1.27225e6</td><td>0.748413</td><td>0.941905</td><td>0.523889</td><td>4.45576e7</td><td>1.03472e7</td></tr><tr><th>14</th><td>1106266-34.2013.8.26.0100</td><td>2014-01-07</td><td>2014-01-30</td><td>2014-10-29</td><td>2018-12-05</td><td>0.766667</td><td>9.06667</td><td>49.9333</td><td>59.7667</td><td>1.0</td><td>1.072e7</td><td>737470.0</td><td>466674.0</td><td>0.482878</td><td>0.941905</td><td>0.482878</td><td>1.35064e7</td><td>5.22647e6</td></tr></tbody></table>"
      ],
      "text/latex": [
       "\\begin{tabular}{r|ccccccccccccccccccc}\n",
       "\t& processo & fil\\_date & data\\_start & plan\\_date & final\\_date & months\\_fil\\_start & months\\_start\\_plan & months\\_plan\\_final & months\\_fil\\_final & in\\_court & D\\_junior & D\\_labor & D\\_senior & R\\_junior & R\\_labor & R\\_senior & assets\\_total & assets\\_fixed & \\\\\n",
       "\t\\hline\n",
       "\t& Any & Any & Any & Any & Any & Any & Any & Any & Any & Any & Any & Any & Any & Any & Any & Any & Any & Any & \\\\\n",
       "\t\\hline\n",
       "\t1 & 0000731-65.2011.8.26.0695 & 2011-03-22 & 2011-04-08 & 2011-10-20 & 2017-04-20 & 0.566667 & 6.5 & 66.9667 & 74.0333 & 1.0 & 1.58332e6 & 9.64064e5 & 1.61192e5 & 0.81201 & 0.941905 & 0.81201 & 2.77487e6 & 1.0668e6 & $\\dots$ \\\\\n",
       "\t2 & 0006202-38.2010.8.26.0100 & 2010-02-12 & 2010-03-29 & 2011-01-03 & 2017-08-25 & 1.5 & 9.33333 & 80.8667 & 91.7 & 1.0 & 3.58351e7 & 1.72202e6 & 4.18984e5 & 0.535184 & 0.941905 & 0.535184 & 1.65361e7 & 1.15454e7 & $\\dots$ \\\\\n",
       "\t3 & 0025535-05.2012.8.26.0100 & 2012-05-18 & 2012-09-03 & 2013-06-07 & 2015-10-08 & 3.6 & 9.23333 & 28.4333 & 41.2667 & 1.0 & 8.35837e6 & 3.05502e5 & 1.26003e6 & 0.726299 & 0.941905 & 0.726299 & 2.62484e7 & 812587.0 & $\\dots$ \\\\\n",
       "\t4 & 0133085-64.2009.8.26.0100 & 2009-04-01 & 2009-05-19 & 2010-03-19 & 2018-12-04 & 1.6 & 10.1333 & 106.067 & 117.8 & 1.0 & 1.66432e7 & 89600.0 & 1.12e6 & 0.377744 & 0.995025 & 0.377744 & 1.25236e7 & 1.60186e6 & $\\dots$ \\\\\n",
       "\t5 & 0199374-13.2008.8.26.0100 & 2008-09-23 & 2008-10-30 & 2009-09-09 & 2017-09-20 & 1.23333 & 10.4667 & 97.7667 & 109.467 & 1.0 & 6.89941e6 & 11642.0 & 1.16586e6 & 0.687773 & 0.941905 & 0.687773 & 8.34309e6 & 718390.0 & $\\dots$ \\\\\n",
       "\t6 & 0228439-53.2008.8.26.0100 & 2008-06-15 & 2009-01-09 & 2009-11-12 & 2016-04-19 & 6.93333 & 10.2333 & 78.3333 & 95.5 & 1.0 & 4.24744e7 & 9.57444e5 & 684573.0 & 0.598274 & 0.941905 & 0.598274 & 1.46139e7 & 6.41127e6 & $\\dots$ \\\\\n",
       "\t7 & 1000926-42.2013.8.26.0152 & 2013-02-22 & 2013-04-15 & 2014-03-10 & 2016-02-05 & 1.73333 & 10.9667 & 23.2333 & 35.9333 & 1.0 & 9.653e6 & 33000.0 & 387000.0 & 0.167423 & 0.941905 & 0.167423 & 5.13303e6 & 108040.0 & $\\dots$ \\\\\n",
       "\t8 & 1001156-81.2014.8.26.0077 & 2014-02-25 & 2014-03-07 & 2015-01-15 & 2018-10-16 & 0.333333 & 10.4667 & 45.6667 & 56.4667 & 1.0 & 1.73876e6 & 86650.6 & 8.51832e5 & 0.173783 & 0.941746 & 0.173783 & 2.06973e6 & 576866.0 & $\\dots$ \\\\\n",
       "\t9 & 1006499-72.2016.8.26.0664 & 2016-08-09 & 2016-09-12 & 2017-06-07 & 2019-08-14 & 1.13333 & 8.93333 & 26.6 & 36.6667 & 1.0 & 1.67434e6 & 60166.6 & 4.18353e6 & 0.182776 & 0.953758 & 0.180101 & 1.12756e7 & 3.3634e6 & $\\dots$ \\\\\n",
       "\t10 & 1015481-89.2014.8.26.0100 & 2014-02-18 & 2014-03-20 & 2014-11-06 & 2017-05-16 & 1.0 & 7.7 & 30.7333 & 39.4333 & 1.0 & 6.36258e6 & 3.82754e5 & 1.26671e7 & 0.278199 & 0.941905 & 0.278199 & 2.69186e7 & 3.36751e6 & $\\dots$ \\\\\n",
       "\t11 & 1065228-08.2014.8.26.0100 & 2014-07-16 & 2014-08-08 & 2015-05-26 & 2017-09-20 & 0.766667 & 9.7 & 28.2667 & 38.7333 & 1.0 & 6.06683e6 & 1.26824e5 & 6.78687e6 & 0.995025 & 1.0 & 0.995025 & 3.04557e7 & 2.14738e7 & $\\dots$ \\\\\n",
       "\t12 & 1065329-11.2015.8.26.0100 & 2015-07-01 & 2015-08-04 & 2016-05-13 & 2019-03-20 & 1.13333 & 9.43333 & 34.7 & 45.2667 & 1.0 & 2.10363e6 & 90000.0 & 68675.0 & 0.631971 & 0.953758 & 0.860937 & 5.43166e6 & 681269.0 & $\\dots$ \\\\\n",
       "\t13 & 1094025-28.2013.8.26.0100 & 2013-11-26 & 2014-01-30 & 2014-11-07 & 2017-02-09 & 2.16667 & 9.36667 & 27.5 & 39.0333 & 1.0 & 1.35187e7 & 2.0442e6 & 1.27225e6 & 0.748413 & 0.941905 & 0.523889 & 4.45576e7 & 1.03472e7 & $\\dots$ \\\\\n",
       "\t14 & 1106266-34.2013.8.26.0100 & 2014-01-07 & 2014-01-30 & 2014-10-29 & 2018-12-05 & 0.766667 & 9.06667 & 49.9333 & 59.7667 & 1.0 & 1.072e7 & 737470.0 & 466674.0 & 0.482878 & 0.941905 & 0.482878 & 1.35064e7 & 5.22647e6 & $\\dots$ \\\\\n",
       "\\end{tabular}\n"
      ],
      "text/plain": [
       "14×34 DataFrame. Omitted printing of 19 columns\n",
       "│ Row │ processo                  │ fil_date   │ data_start │ plan_date  │ final_date │ months_fil_start │ months_start_plan │ months_plan_final │ months_fil_final │ in_court │ D_junior  │ D_labor   │ D_senior  │ R_junior │ R_labor  │\n",
       "│     │ \u001b[90mAny\u001b[39m                       │ \u001b[90mAny\u001b[39m        │ \u001b[90mAny\u001b[39m        │ \u001b[90mAny\u001b[39m        │ \u001b[90mAny\u001b[39m        │ \u001b[90mAny\u001b[39m              │ \u001b[90mAny\u001b[39m               │ \u001b[90mAny\u001b[39m               │ \u001b[90mAny\u001b[39m              │ \u001b[90mAny\u001b[39m      │ \u001b[90mAny\u001b[39m       │ \u001b[90mAny\u001b[39m       │ \u001b[90mAny\u001b[39m       │ \u001b[90mAny\u001b[39m      │ \u001b[90mAny\u001b[39m      │\n",
       "├─────┼───────────────────────────┼────────────┼────────────┼────────────┼────────────┼──────────────────┼───────────────────┼───────────────────┼──────────────────┼──────────┼───────────┼───────────┼───────────┼──────────┼──────────┤\n",
       "│ 1   │ 0000731-65.2011.8.26.0695 │ 2011-03-22 │ 2011-04-08 │ 2011-10-20 │ 2017-04-20 │ 0.566667         │ 6.5               │ 66.9667           │ 74.0333          │ 1.0      │ 1.58332e6 │ 9.64064e5 │ 1.61192e5 │ 0.81201  │ 0.941905 │\n",
       "│ 2   │ 0006202-38.2010.8.26.0100 │ 2010-02-12 │ 2010-03-29 │ 2011-01-03 │ 2017-08-25 │ 1.5              │ 9.33333           │ 80.8667           │ 91.7             │ 1.0      │ 3.58351e7 │ 1.72202e6 │ 4.18984e5 │ 0.535184 │ 0.941905 │\n",
       "│ 3   │ 0025535-05.2012.8.26.0100 │ 2012-05-18 │ 2012-09-03 │ 2013-06-07 │ 2015-10-08 │ 3.6              │ 9.23333           │ 28.4333           │ 41.2667          │ 1.0      │ 8.35837e6 │ 3.05502e5 │ 1.26003e6 │ 0.726299 │ 0.941905 │\n",
       "│ 4   │ 0133085-64.2009.8.26.0100 │ 2009-04-01 │ 2009-05-19 │ 2010-03-19 │ 2018-12-04 │ 1.6              │ 10.1333           │ 106.067           │ 117.8            │ 1.0      │ 1.66432e7 │ 89600.0   │ 1.12e6    │ 0.377744 │ 0.995025 │\n",
       "│ 5   │ 0199374-13.2008.8.26.0100 │ 2008-09-23 │ 2008-10-30 │ 2009-09-09 │ 2017-09-20 │ 1.23333          │ 10.4667           │ 97.7667           │ 109.467          │ 1.0      │ 6.89941e6 │ 11642.0   │ 1.16586e6 │ 0.687773 │ 0.941905 │\n",
       "│ 6   │ 0228439-53.2008.8.26.0100 │ 2008-06-15 │ 2009-01-09 │ 2009-11-12 │ 2016-04-19 │ 6.93333          │ 10.2333           │ 78.3333           │ 95.5             │ 1.0      │ 4.24744e7 │ 9.57444e5 │ 684573.0  │ 0.598274 │ 0.941905 │\n",
       "│ 7   │ 1000926-42.2013.8.26.0152 │ 2013-02-22 │ 2013-04-15 │ 2014-03-10 │ 2016-02-05 │ 1.73333          │ 10.9667           │ 23.2333           │ 35.9333          │ 1.0      │ 9.653e6   │ 33000.0   │ 387000.0  │ 0.167423 │ 0.941905 │\n",
       "│ 8   │ 1001156-81.2014.8.26.0077 │ 2014-02-25 │ 2014-03-07 │ 2015-01-15 │ 2018-10-16 │ 0.333333         │ 10.4667           │ 45.6667           │ 56.4667          │ 1.0      │ 1.73876e6 │ 86650.6   │ 8.51832e5 │ 0.173783 │ 0.941746 │\n",
       "│ 9   │ 1006499-72.2016.8.26.0664 │ 2016-08-09 │ 2016-09-12 │ 2017-06-07 │ 2019-08-14 │ 1.13333          │ 8.93333           │ 26.6              │ 36.6667          │ 1.0      │ 1.67434e6 │ 60166.6   │ 4.18353e6 │ 0.182776 │ 0.953758 │\n",
       "│ 10  │ 1015481-89.2014.8.26.0100 │ 2014-02-18 │ 2014-03-20 │ 2014-11-06 │ 2017-05-16 │ 1.0              │ 7.7               │ 30.7333           │ 39.4333          │ 1.0      │ 6.36258e6 │ 3.82754e5 │ 1.26671e7 │ 0.278199 │ 0.941905 │\n",
       "│ 11  │ 1065228-08.2014.8.26.0100 │ 2014-07-16 │ 2014-08-08 │ 2015-05-26 │ 2017-09-20 │ 0.766667         │ 9.7               │ 28.2667           │ 38.7333          │ 1.0      │ 6.06683e6 │ 1.26824e5 │ 6.78687e6 │ 0.995025 │ 1.0      │\n",
       "│ 12  │ 1065329-11.2015.8.26.0100 │ 2015-07-01 │ 2015-08-04 │ 2016-05-13 │ 2019-03-20 │ 1.13333          │ 9.43333           │ 34.7              │ 45.2667          │ 1.0      │ 2.10363e6 │ 90000.0   │ 68675.0   │ 0.631971 │ 0.953758 │\n",
       "│ 13  │ 1094025-28.2013.8.26.0100 │ 2013-11-26 │ 2014-01-30 │ 2014-11-07 │ 2017-02-09 │ 2.16667          │ 9.36667           │ 27.5              │ 39.0333          │ 1.0      │ 1.35187e7 │ 2.0442e6  │ 1.27225e6 │ 0.748413 │ 0.941905 │\n",
       "│ 14  │ 1106266-34.2013.8.26.0100 │ 2014-01-07 │ 2014-01-30 │ 2014-10-29 │ 2018-12-05 │ 0.766667         │ 9.06667           │ 49.9333           │ 59.7667          │ 1.0      │ 1.072e7   │ 737470.0  │ 466674.0  │ 0.482878 │ 0.941905 │"
      ]
     },
     "execution_count": 166,
     "metadata": {},
     "output_type": "execute_result"
    }
   ],
   "source": [
    "mm10 = filter(mm10 -> log.(mm10.months_start_plan) .<= quartil, mm10)"
   ]
  },
  {
   "cell_type": "code",
   "execution_count": 167,
   "metadata": {},
   "outputs": [
    {
     "data": {
      "text/plain": [
       "0.5274119591220352"
      ]
     },
     "execution_count": 167,
     "metadata": {},
     "output_type": "execute_result"
    }
   ],
   "source": [
    "mm10 = mean((mm10.payoff_s .+ mm10.payoff_j) ./ (mm10.D_senior .+ mm10.D_junior))"
   ]
  },
  {
   "cell_type": "markdown",
   "metadata": {},
   "source": [
    "MM11: taxa de recuperação de S em reorganizações dentro da corte 25% mais rápidas"
   ]
  },
  {
   "cell_type": "code",
   "execution_count": 171,
   "metadata": {},
   "outputs": [
    {
     "name": "stdout",
     "output_type": "stream",
     "text": [
      "mm11_teste = mean(mm11.R_senior) = 0.5285370654448899\n"
     ]
    },
    {
     "data": {
      "text/plain": [
       "0.5285370654448899"
      ]
     },
     "execution_count": 171,
     "metadata": {},
     "output_type": "execute_result"
    }
   ],
   "source": [
    "q = 0.25 #quartil desejado\n",
    "\n",
    "mm11 = INCOURT_REORG\n",
    "quartil = quantile(log.(mm11.months_start_plan), q)\n",
    "\n",
    "mm11 = filter(mm11 -> log.(mm11.months_start_plan) .<= quartil, mm11)\n",
    "@show mm11_teste = mean(mm11.R_senior) #dá no mesmo\n",
    "mm11 = mean((mm11.payoff_s ./ mm11.D_senior ))"
   ]
  },
  {
   "cell_type": "markdown",
   "metadata": {},
   "source": [
    "MM12: taxa de recuperação de J reorganizações dentro da corte 25% mais rápidas"
   ]
  },
  {
   "cell_type": "code",
   "execution_count": 172,
   "metadata": {},
   "outputs": [
    {
     "name": "stdout",
     "output_type": "stream",
     "text": [
      "mm12_teste = mean(mm12.R_junior) = 0.5284108439775381\n"
     ]
    },
    {
     "data": {
      "text/plain": [
       "0.528410843977538"
      ]
     },
     "execution_count": 172,
     "metadata": {},
     "output_type": "execute_result"
    }
   ],
   "source": [
    "q = 0.25 #quartil desejado\n",
    "\n",
    "mm12 = INCOURT_REORG\n",
    "quartil = quantile(log.(mm12.months_start_plan), q)\n",
    "\n",
    "mm12 = filter(mm12 -> log.(mm12.months_start_plan) .<= quartil, mm12)\n",
    "@show mm12_teste = mean(mm12.R_junior) #dá no mesmo\n",
    "mm12 = mean((mm12.payoff_j ./ mm12.D_junior ))"
   ]
  },
  {
   "cell_type": "markdown",
   "metadata": {},
   "source": [
    "MM13: variância do log da duração dos casos reorganizados dentro da corte"
   ]
  },
  {
   "cell_type": "code",
   "execution_count": 174,
   "metadata": {},
   "outputs": [
    {
     "data": {
      "text/plain": [
       "0.15666387636379916"
      ]
     },
     "execution_count": 174,
     "metadata": {},
     "output_type": "execute_result"
    }
   ],
   "source": [
    "mm13 = var(log.(INCOURT_REORG.months_start_plan))"
   ]
  },
  {
   "cell_type": "markdown",
   "metadata": {},
   "source": [
    "MM14: tempo médio dos casos que foram liquidados dentro da corte\n",
    "\n",
    "Como já tem a duração média de todos os casos dentro da corte (MM3), não precisa calcular a duração média das reorganizações dentro da corte porque elas se tornam redundantes."
   ]
  },
  {
   "cell_type": "code",
   "execution_count": 177,
   "metadata": {},
   "outputs": [
    {
     "data": {
      "text/plain": [
       "3.1496130110309557"
      ]
     },
     "execution_count": 177,
     "metadata": {},
     "output_type": "execute_result"
    }
   ],
   "source": [
    "INCOURT_LIQ = filter(INCOURT -> INCOURT.outcome_bargain .== \"liquidated\", INCOURT);\n",
    "\n",
    "mm14 = mean(log.(INCOURT_LIQ.months_start_plan))"
   ]
  },
  {
   "cell_type": "markdown",
   "metadata": {},
   "source": [
    "MM15: fração do valor do ativo da firma que foi extraído pelos credores\n",
    "\n",
    "A ideia é que isso possa identificar a chance de o Devedor ser sorteado a jogar, eventualmente"
   ]
  },
  {
   "cell_type": "code",
   "execution_count": 186,
   "metadata": {},
   "outputs": [
    {
     "data": {
      "text/plain": [
       "0.6966074986282449"
      ]
     },
     "execution_count": 186,
     "metadata": {},
     "output_type": "execute_result"
    }
   ],
   "source": [
    "mm15 = INCOURT_REORG\n",
    "\n",
    "mm15 = mean( ((mm15.payoff_s .+ mm15.payoff_j) ./ (mm15.D_senior .+ mm15.D_junior)) ./ mm15.Vh_D)\n",
    "\n",
    "# mean( (mm15.payoff_s .+ mm15.payoff_j) ./ mm15.Vh ) #se dividir por Vh dá no mesmo, D só está normalizando tudo"
   ]
  },
  {
   "cell_type": "markdown",
   "metadata": {},
   "source": [
    "MM16: variância da taxa de recuperação dentro da corte"
   ]
  },
  {
   "cell_type": "code",
   "execution_count": 187,
   "metadata": {},
   "outputs": [
    {
     "data": {
      "text/plain": [
       "0.03742054006325057"
      ]
     },
     "execution_count": 187,
     "metadata": {},
     "output_type": "execute_result"
    }
   ],
   "source": [
    "mm16 = INCOURT_REORG\n",
    "mm16 = var((mm16.payoff_s .+ mm16.payoff_j) ./ (mm16.D_senior .+ mm16.D_junior))"
   ]
  },
  {
   "cell_type": "markdown",
   "metadata": {},
   "source": [
    "MM 17: variância da taxa de recuperação de S dentro da corte"
   ]
  },
  {
   "cell_type": "code",
   "execution_count": 190,
   "metadata": {},
   "outputs": [
    {
     "data": {
      "text/plain": [
       "0.04652980615833147"
      ]
     },
     "execution_count": 190,
     "metadata": {},
     "output_type": "execute_result"
    }
   ],
   "source": [
    "mm17 = INCOURT_REORG\n",
    "mm17 = var((mm17.R_senior))"
   ]
  },
  {
   "cell_type": "markdown",
   "metadata": {},
   "source": [
    "MM18: variância da taxa de recuperação de J dentro da corte"
   ]
  },
  {
   "cell_type": "code",
   "execution_count": 191,
   "metadata": {},
   "outputs": [
    {
     "data": {
      "text/plain": [
       "0.03647614100988236"
      ]
     },
     "execution_count": 191,
     "metadata": {},
     "output_type": "execute_result"
    }
   ],
   "source": [
    "mm18 = INCOURT_REORG\n",
    "mm18 = var((mm18.R_junior))"
   ]
  },
  {
   "cell_type": "markdown",
   "metadata": {},
   "source": [
    "\n",
    "\n",
    "\n",
    "\n",
    "### Parte 2: empilhando as funções influência\n",
    "\n",
    "Seguindo o cálculo mostrado em Khan, página 6\n",
    "\n",
    "Checar depois se entendi\n",
    "\n",
    "IF = hcat(if1, if2, if3, if4, if5, if6, if7, if8)"
   ]
  },
  {
   "cell_type": "code",
   "execution_count": 36,
   "metadata": {},
   "outputs": [],
   "source": [
    "n = nrow(df);"
   ]
  },
  {
   "cell_type": "code",
   "execution_count": 37,
   "metadata": {},
   "outputs": [
    {
     "data": {
      "text/plain": [
       "4356"
      ]
     },
     "execution_count": 37,
     "metadata": {},
     "output_type": "execute_result"
    }
   ],
   "source": [
    "n^2"
   ]
  },
  {
   "cell_type": "code",
   "execution_count": 38,
   "metadata": {},
   "outputs": [
    {
     "data": {
      "text/plain": [
       "8×8 Array{Float64,2}:\n",
       "  0.00597747   -0.000437554   0.00114374   -2.03325e-19   0.0           0.0          -5.31024e-5   -4.01707e-5\n",
       " -0.000437554   0.00193698   -0.000892831  -1.1117e-20    0.0           0.0          -7.35587e-20  -1.60918e-20\n",
       "  0.00114374   -0.000892831   0.00245387    1.12634e-19   0.0           0.0          -0.000158145  -0.000178559\n",
       " -2.0073e-19   -9.79382e-21   1.14328e-19   0.000445224  -1.02573e-20  -2.21669e-20  -1.18291e-20  -7.81986e-21\n",
       "  0.0           0.0           0.0          -1.07859e-20   1.51907e-5    2.07598e-5    0.0           0.0\n",
       "  0.0           0.0           0.0          -1.69448e-20   2.07598e-5    2.83706e-5    0.0           0.0\n",
       " -5.31024e-5   -6.34745e-20  -0.000158145  -1.10154e-20   0.0           0.0           0.000646001   0.000103483\n",
       " -4.01707e-5   -2.20758e-20  -0.000178559  -7.38802e-21   0.0           0.0           0.000103483   0.0004553"
      ]
     },
     "execution_count": 38,
     "metadata": {},
     "output_type": "execute_result"
    }
   ],
   "source": [
    "W = 1/(n^2) * transpose(IF) * IF"
   ]
  },
  {
   "cell_type": "code",
   "execution_count": 39,
   "metadata": {},
   "outputs": [],
   "source": [
    "using LinearAlgebra"
   ]
  },
  {
   "cell_type": "code",
   "execution_count": 40,
   "metadata": {},
   "outputs": [
    {
     "data": {
      "text/plain": [
       "8-element Array{Float64,1}:\n",
       " 0.005977465822316409\n",
       " 0.001936983471074379\n",
       " 0.0024538729371393476\n",
       " 0.0004452235857194535\n",
       " 1.5190712068603778e-5\n",
       " 2.8370583805089904e-5\n",
       " 0.0006460012814914279\n",
       " 0.00045530041858408635"
      ]
     },
     "execution_count": 40,
     "metadata": {},
     "output_type": "execute_result"
    }
   ],
   "source": [
    "diag(W)"
   ]
  },
  {
   "cell_type": "code",
   "execution_count": 44,
   "metadata": {},
   "outputs": [
    {
     "data": {
      "text/plain": [
       "8×8 Array{Float64,2}:\n",
       " 183.829          1.63823      -86.5358           1.0552e-13      -2.53796e-13     1.85712e-13    -3.35731       -16.9554\n",
       "   1.63823      625.232        235.595           -4.07709e-14      9.80619e-14    -7.17555e-14    44.61           82.4009\n",
       " -86.5358       235.595        553.529           -1.68131e-13      4.04388e-13    -2.95905e-13    98.426         187.077\n",
       "   1.0475e-13    -4.33733e-14   -1.70071e-13   2246.06         -5402.22         3953.0             1.15495e-14    -2.15048e-14\n",
       "  -6.81608e-14    2.8223e-14     1.10665e-13  -1461.51             4.03353e20     -2.95148e20     -7.51524e-15     1.39931e-14\n",
       "   4.98757e-14   -2.06518e-14   -8.09777e-14   1069.44            -2.95148e20      2.15971e20      5.49918e-15    -1.02393e-14\n",
       "  -3.35731       44.61          98.426            9.38819e-15     -2.25804e-14     1.65229e-14  1624.83         -330.993\n",
       " -16.9554        82.4009       187.077           -2.23151e-14      5.36721e-14    -3.92739e-14  -330.993        2343.45"
      ]
     },
     "execution_count": 44,
     "metadata": {},
     "output_type": "execute_result"
    }
   ],
   "source": [
    "omega = inv(W)"
   ]
  },
  {
   "cell_type": "code",
   "execution_count": 45,
   "metadata": {},
   "outputs": [
    {
     "data": {
      "text/plain": [
       "8-element Array{Float64,1}:\n",
       "  183.8290114062524\n",
       "  625.2318823744095\n",
       "  553.5294882706805\n",
       " 2246.0625\n",
       "    4.0335252084388515e20\n",
       "    2.159705999841178e20\n",
       " 1624.8253631926632\n",
       " 2343.4530257884758"
      ]
     },
     "execution_count": 45,
     "metadata": {},
     "output_type": "execute_result"
    }
   ],
   "source": [
    "diag(omega)"
   ]
  },
  {
   "cell_type": "markdown",
   "metadata": {},
   "source": [
    "Clustering by year"
   ]
  },
  {
   "cell_type": "code",
   "execution_count": 112,
   "metadata": {},
   "outputs": [],
   "source": [
    "Years = df.processo[:];\n",
    "\n",
    "for i in 1:length(Years)\n",
    "    Years[i] = df.processo[i][12:15]\n",
    "end"
   ]
  },
  {
   "cell_type": "code",
   "execution_count": 118,
   "metadata": {
    "scrolled": true
   },
   "outputs": [
    {
     "data": {
      "text/plain": [
       "10-element Array{Any,1}:\n",
       " \"2008\"\n",
       " \"2009\"\n",
       " \"2010\"\n",
       " \"2011\"\n",
       " \"2012\"\n",
       " \"2013\"\n",
       " \"2014\"\n",
       " \"2015\"\n",
       " \"2016\"\n",
       " \"2017\""
      ]
     },
     "execution_count": 118,
     "metadata": {},
     "output_type": "execute_result"
    }
   ],
   "source": [
    "Unique_Years = sort(unique(Years))"
   ]
  },
  {
   "cell_type": "code",
   "execution_count": 168,
   "metadata": {},
   "outputs": [],
   "source": [
    "IFCluster = zeros(length(Unique_Years), size(IF,2));\n",
    "\n",
    "for (t, year) in enumerate(Unique_Years)\n",
    "    for i in 1:nrow(df)\n",
    "        if(Years[i]==year)\n",
    "            IFCluster[t,:] += IF[i, :]\n",
    "        end\n",
    "    end\n",
    "end\n",
    "\n"
   ]
  },
  {
   "cell_type": "code",
   "execution_count": 169,
   "metadata": {},
   "outputs": [
    {
     "data": {
      "text/plain": [
       "8×8 Array{Float64,2}:\n",
       "  0.0680611     0.00222196    0.0542794   …  -0.0167901   -0.0216484\n",
       "  0.00222196    0.126598     -0.0716563       0.0805699    0.0348444\n",
       "  0.0542794    -0.0716563     0.14343        -0.0810504   -0.0539249\n",
       " -0.0146745     0.0251951     0.00493282     -0.00672832  -0.00523013\n",
       "  6.10489e-19  -7.0966e-19    3.1157e-19      0.0          0.0\n",
       "  1.22098e-18  -1.41932e-18   6.2314e-19  …   0.0          0.0\n",
       " -0.0167901     0.0805699    -0.0810504       0.0733939    0.038145\n",
       " -0.0216484     0.0348444    -0.0539249       0.038145     0.0337322"
      ]
     },
     "execution_count": 169,
     "metadata": {},
     "output_type": "execute_result"
    }
   ],
   "source": [
    "W2 = 1/(n) * transpose(IFCluster) * IFCluster"
   ]
  },
  {
   "cell_type": "code",
   "execution_count": 171,
   "metadata": {},
   "outputs": [
    {
     "ename": "LoadError",
     "evalue": "\u001b[91mSingularException(8)\u001b[39m",
     "output_type": "error",
     "traceback": [
      "\u001b[91mSingularException(8)\u001b[39m",
      "",
      "Stacktrace:",
      " [1] checknonsingular at C:\\buildbot\\worker\\package_win64\\build\\usr\\share\\julia\\stdlib\\v1.5\\LinearAlgebra\\src\\factorization.jl:19 [inlined]",
      " [2] checknonsingular at C:\\buildbot\\worker\\package_win64\\build\\usr\\share\\julia\\stdlib\\v1.5\\LinearAlgebra\\src\\factorization.jl:21 [inlined]",
      " [3] lu!(::Array{Float64,2}, ::Val{true}; check::Bool) at C:\\buildbot\\worker\\package_win64\\build\\usr\\share\\julia\\stdlib\\v1.5\\LinearAlgebra\\src\\lu.jl:85",
      " [4] #lu#136 at C:\\buildbot\\worker\\package_win64\\build\\usr\\share\\julia\\stdlib\\v1.5\\LinearAlgebra\\src\\lu.jl:273 [inlined]",
      " [5] lu at C:\\buildbot\\worker\\package_win64\\build\\usr\\share\\julia\\stdlib\\v1.5\\LinearAlgebra\\src\\lu.jl:272 [inlined] (repeats 2 times)",
      " [6] inv(::Array{Float64,2}) at C:\\buildbot\\worker\\package_win64\\build\\usr\\share\\julia\\stdlib\\v1.5\\LinearAlgebra\\src\\dense.jl:781",
      " [7] top-level scope at In[171]:1"
     ]
    }
   ],
   "source": [
    "inv(W2)"
   ]
  }
 ],
 "metadata": {
  "kernelspec": {
   "display_name": "Julia 1.5.3",
   "language": "julia",
   "name": "julia-1.5"
  },
  "language_info": {
   "file_extension": ".jl",
   "mimetype": "application/julia",
   "name": "julia",
   "version": "1.5.3"
  }
 },
 "nbformat": 4,
 "nbformat_minor": 4
}
