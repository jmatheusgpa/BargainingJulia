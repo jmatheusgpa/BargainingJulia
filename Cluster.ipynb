{
 "cells": [
  {
   "cell_type": "markdown",
   "metadata": {},
   "source": [
    "Código para aprender a alocar processadores em nós distintos no aguia4"
   ]
  },
  {
   "cell_type": "code",
   "execution_count": 1,
   "metadata": {},
   "outputs": [
    {
     "ename": "LoadError",
     "evalue": "\u001b[91mArgumentError: Package ClusterManagers not found in current path:\u001b[39m\n\u001b[91m- Run `import Pkg; Pkg.add(\"ClusterManagers\")` to install the ClusterManagers package.\u001b[39m\n",
     "output_type": "error",
     "traceback": [
      "\u001b[91mArgumentError: Package ClusterManagers not found in current path:\u001b[39m\n\u001b[91m- Run `import Pkg; Pkg.add(\"ClusterManagers\")` to install the ClusterManagers package.\u001b[39m\n",
      "",
      "Stacktrace:",
      " [1] require(::Module, ::Symbol) at .\\loading.jl:893"
     ]
    }
   ],
   "source": [
    "using ClusterManagers"
   ]
  },
  {
   "cell_type": "code",
   "execution_count": null,
   "metadata": {},
   "outputs": [],
   "source": [
    "nprocs = 2;\n",
    "addprocs_slurm(nprocs)"
   ]
  },
  {
   "cell_type": "code",
   "execution_count": null,
   "metadata": {},
   "outputs": [],
   "source": [
    "for w in workers()\n",
    "    host, pid = fetch(@spawnat w (gethost(), getpid()))\n",
    "    println(host, pid)\n",
    "end"
   ]
  }
 ],
 "metadata": {
  "kernelspec": {
   "display_name": "Julia 1.5.3",
   "language": "julia",
   "name": "julia-1.5"
  },
  "language_info": {
   "file_extension": ".jl",
   "mimetype": "application/julia",
   "name": "julia",
   "version": "1.5.3"
  }
 },
 "nbformat": 4,
 "nbformat_minor": 4
}
