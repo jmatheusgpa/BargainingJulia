{
 "cells": [
  {
   "cell_type": "markdown",
   "metadata": {},
   "source": [
    "Script para calcular os erros padrão com base na matriz de derivada calculada anteriormente"
   ]
  },
  {
   "cell_type": "code",
   "execution_count": 3,
   "metadata": {},
   "outputs": [],
   "source": [
    "using LinearAlgebra\n",
    "using DelimitedFiles"
   ]
  },
  {
   "cell_type": "markdown",
   "metadata": {},
   "source": [
    "As estimações foram feitas usando a matriz Identidade, então usaremos ela para calcular os erros-padrão"
   ]
  },
  {
   "cell_type": "code",
   "execution_count": 4,
   "metadata": {},
   "outputs": [
    {
     "data": {
      "text/plain": [
       "100"
      ]
     },
     "execution_count": 4,
     "metadata": {},
     "output_type": "execute_result"
    }
   ],
   "source": [
    "#número de simulações \n",
    "S = 100"
   ]
  },
  {
   "cell_type": "code",
   "execution_count": 5,
   "metadata": {},
   "outputs": [
    {
     "data": {
      "text/plain": [
       "9×9 Array{Int64,2}:\n",
       " 1  0  0  0  0  0  0  0  0\n",
       " 0  1  0  0  0  0  0  0  0\n",
       " 0  0  1  0  0  0  0  0  0\n",
       " 0  0  0  1  0  0  0  0  0\n",
       " 0  0  0  0  1  0  0  0  0\n",
       " 0  0  0  0  0  1  0  0  0\n",
       " 0  0  0  0  0  0  1  0  0\n",
       " 0  0  0  0  0  0  0  1  0\n",
       " 0  0  0  0  0  0  0  0  1"
      ]
     },
     "execution_count": 5,
     "metadata": {},
     "output_type": "execute_result"
    }
   ],
   "source": [
    "W = Matrix{Int}(I, 9,9)"
   ]
  },
  {
   "cell_type": "code",
   "execution_count": 6,
   "metadata": {},
   "outputs": [
    {
     "data": {
      "text/plain": [
       "std_error (generic function with 1 method)"
      ]
     },
     "execution_count": 6,
     "metadata": {},
     "output_type": "execute_result"
    }
   ],
   "source": [
    "function std_error(D, W, S)\n",
    "    \n",
    "    #D is the derivative matrix\n",
    "    #W is the weighting matrix\n",
    "    #S is the number of simulations\n",
    "    \n",
    "    \n",
    "    Qs = (1 + 1/S) * inv((transpose(D) * W * D))\n",
    "    \n",
    "    \n",
    "    std_error = sqrt.(diag(Qs))\n",
    "    \n",
    "    return std_error\n",
    "end\n",
    "    "
   ]
  },
  {
   "cell_type": "markdown",
   "metadata": {},
   "source": [
    "Nocd50 - com a fórmula da derivada numerica consertada"
   ]
  },
  {
   "cell_type": "code",
   "execution_count": 7,
   "metadata": {},
   "outputs": [
    {
     "data": {
      "text/plain": [
       "7-element Array{Float64,1}:\n",
       "   0.3785433364046019\n",
       "  17.842770984500685\n",
       "   0.010151786380114611\n",
       "   1.3246302791639442\n",
       " 123.45190889102409\n",
       "  99.25794730631237\n",
       "  12.141694995436218"
      ]
     },
     "execution_count": 7,
     "metadata": {},
     "output_type": "execute_result"
    }
   ],
   "source": [
    "Dnocd50pct = readdlm(\"Derivative-nocd50_1pct.csv\", ',')\n",
    "\n",
    "std_error(Dnocd50pct, W, S)"
   ]
  }
 ],
 "metadata": {
  "kernelspec": {
   "display_name": "Julia 1.5.3",
   "language": "julia",
   "name": "julia-1.5"
  },
  "language_info": {
   "file_extension": ".jl",
   "mimetype": "application/julia",
   "name": "julia",
   "version": "1.5.3"
  }
 },
 "nbformat": 4,
 "nbformat_minor": 4
}
