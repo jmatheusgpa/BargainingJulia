{
 "cells": [
  {
   "cell_type": "markdown",
   "metadata": {},
   "source": [
    "Script para calcular os erros padrão com base na matriz de derivada calculada anteriormente"
   ]
  },
  {
   "cell_type": "code",
   "execution_count": 2,
   "metadata": {},
   "outputs": [],
   "source": [
    "using LinearAlgebra\n",
    "using DelimitedFiles"
   ]
  },
  {
   "cell_type": "markdown",
   "metadata": {},
   "source": [
    "As estimações foram feitas usando a matriz Identidade, então usaremos ela para calcular os erros-padrão"
   ]
  },
  {
   "cell_type": "code",
   "execution_count": 3,
   "metadata": {},
   "outputs": [
    {
     "data": {
      "text/plain": [
       "40"
      ]
     },
     "execution_count": 3,
     "metadata": {},
     "output_type": "execute_result"
    }
   ],
   "source": [
    "#número de simulações \n",
    "S = 40"
   ]
  },
  {
   "cell_type": "code",
   "execution_count": 4,
   "metadata": {},
   "outputs": [
    {
     "data": {
      "text/plain": [
       "8×8 Array{Int64,2}:\n",
       " 1  0  0  0  0  0  0  0\n",
       " 0  1  0  0  0  0  0  0\n",
       " 0  0  1  0  0  0  0  0\n",
       " 0  0  0  1  0  0  0  0\n",
       " 0  0  0  0  1  0  0  0\n",
       " 0  0  0  0  0  1  0  0\n",
       " 0  0  0  0  0  0  1  0\n",
       " 0  0  0  0  0  0  0  1"
      ]
     },
     "execution_count": 4,
     "metadata": {},
     "output_type": "execute_result"
    }
   ],
   "source": [
    "W = Matrix{Int}(I, 8,8)"
   ]
  },
  {
   "cell_type": "code",
   "execution_count": 5,
   "metadata": {},
   "outputs": [
    {
     "data": {
      "text/plain": [
       "std_error (generic function with 1 method)"
      ]
     },
     "execution_count": 5,
     "metadata": {},
     "output_type": "execute_result"
    }
   ],
   "source": [
    "function std_error(D, W, S)\n",
    "    \n",
    "    #D is the derivative matrix\n",
    "    #W is the weighting matrix\n",
    "    #S is the number of simulations\n",
    "    \n",
    "    \n",
    "    Qs = (1 + 1/S) * inv((transpose(D) * W * D))\n",
    "    \n",
    "    \n",
    "    std_error = sqrt.(diag(Qs))\n",
    "    \n",
    "    return std_error\n",
    "end\n",
    "    "
   ]
  },
  {
   "cell_type": "code",
   "execution_count": 7,
   "metadata": {},
   "outputs": [
    {
     "data": {
      "text/plain": [
       "7-element Array{Float64,1}:\n",
       " 205.60586998604387\n",
       " 564.7399067491322\n",
       " 358.8699365192175\n",
       " 255.64452780240606\n",
       " 201.01244280530915\n",
       " 143.56998526837674\n",
       " 349.9785266389698"
      ]
     },
     "execution_count": 7,
     "metadata": {},
     "output_type": "execute_result"
    }
   ],
   "source": [
    "D2 = readdlm(\"Derivative2.csv\", ',')\n",
    "\n",
    "std_error(D2, W, S)"
   ]
  },
  {
   "cell_type": "code",
   "execution_count": 8,
   "metadata": {},
   "outputs": [
    {
     "data": {
      "text/plain": [
       "7-element Array{Float64,1}:\n",
       "  62.193779620158026\n",
       " 209.44663496862074\n",
       "  65.89445204576305\n",
       "  25.90040773410115\n",
       "  95.0387494393898\n",
       "  34.08808223202522\n",
       " 312.6807218390999"
      ]
     },
     "execution_count": 8,
     "metadata": {},
     "output_type": "execute_result"
    }
   ],
   "source": [
    "#erros padrão da derivada em relação ao parâmetro 3 : c_0\n",
    "\n",
    "D3 = readdlm(\"Derivative3.csv\", ',')\n",
    "\n",
    "std_error(D3, W, S)"
   ]
  },
  {
   "cell_type": "code",
   "execution_count": 9,
   "metadata": {},
   "outputs": [
    {
     "data": {
      "text/plain": [
       "7-element Array{Float64,1}:\n",
       "   36.11547918712038\n",
       "   10.184016685378817\n",
       "    3.548892846365591\n",
       " 2687.13768276118\n",
       " 2224.423122677113\n",
       "  475.44407113151925\n",
       " 1026.9027556266594"
      ]
     },
     "execution_count": 9,
     "metadata": {},
     "output_type": "execute_result"
    }
   ],
   "source": [
    "#erros padrão da derivada em relação ao parâmetro 4 : λj\n",
    "\n",
    "D4 = readdlm(\"Derivative4.csv\", ',')\n",
    "\n",
    "std_error(D4, W, S)"
   ]
  },
  {
   "cell_type": "code",
   "execution_count": 10,
   "metadata": {},
   "outputs": [
    {
     "data": {
      "text/plain": [
       "7-element Array{Float64,1}:\n",
       " 1167.5416851066993\n",
       " 1068.1801919505758\n",
       "  772.4277617627896\n",
       " 5413.310565406905\n",
       "  899.8293542420854\n",
       " 6210.527555561685\n",
       " 1106.9198923222227"
      ]
     },
     "execution_count": 10,
     "metadata": {},
     "output_type": "execute_result"
    }
   ],
   "source": [
    "#erros padrão da derivada em relação ao parâmetro 5 : θ_{S,0}\n",
    "\n",
    "D5 = readdlm(\"Derivative5.csv\", ',')\n",
    "\n",
    "std_error(D5, W, S)"
   ]
  },
  {
   "cell_type": "code",
   "execution_count": 11,
   "metadata": {},
   "outputs": [
    {
     "data": {
      "text/plain": [
       "7-element Array{Float64,1}:\n",
       " 270.82606491135266\n",
       " 546.7340542675522\n",
       " 104.33559260969506\n",
       "  50.72654327585038\n",
       " 382.6570740602732\n",
       "  97.34996231502235\n",
       " 131.56677518040757"
      ]
     },
     "execution_count": 11,
     "metadata": {},
     "output_type": "execute_result"
    }
   ],
   "source": [
    "#erros padrão da derivada em relação ao parâmetro 6 : θ_{J,0}\n",
    "\n",
    "D6 = readdlm(\"Derivative6.csv\", ',')\n",
    "\n",
    "std_error(D6, W, S)"
   ]
  },
  {
   "cell_type": "code",
   "execution_count": 12,
   "metadata": {},
   "outputs": [
    {
     "data": {
      "text/plain": [
       "7-element Array{Float64,1}:\n",
       " 117.65009811475917\n",
       " 448.35144569579643\n",
       " 127.53769996847075\n",
       " 831.6491361177913\n",
       " 150.1579271749197\n",
       " 528.2551302974878\n",
       " 885.8504209019173"
      ]
     },
     "execution_count": 12,
     "metadata": {},
     "output_type": "execute_result"
    }
   ],
   "source": [
    "#erros padrão da derivada em relação ao parâmetro 7 : μ\n",
    "\n",
    "D7 = readdlm(\"Derivative7.csv\", ',')\n",
    "\n",
    "std_error(D7, W, S)"
   ]
  },
  {
   "cell_type": "markdown",
   "metadata": {},
   "source": [
    "Testes com os resultados de 24/06/2021"
   ]
  },
  {
   "cell_type": "code",
   "execution_count": 13,
   "metadata": {},
   "outputs": [],
   "source": [
    "S = 100;"
   ]
  },
  {
   "cell_type": "code",
   "execution_count": 15,
   "metadata": {},
   "outputs": [
    {
     "data": {
      "text/plain": [
       "8×7 Array{Float64,2}:\n",
       " -0.300285    -0.0373065    0.0327043  …   0.0254048    0.124509\n",
       " -0.00226709   0.0          0.0            0.0          0.0\n",
       " -0.31029      0.00390974   0.0115085     -0.0437529    0.00409063\n",
       " -0.640983    -0.220792    -0.380913       0.00518135  -0.00902557\n",
       " -0.0584648   -0.30347     -0.460987       1.1649       1.24341\n",
       " -0.33168     -0.163394    -0.135739   …   0.194657     0.163276\n",
       " -0.280611    -0.0351513   -0.0100293     -0.162802    -0.181693\n",
       "  0.54501      0.118657     0.245964       0.0631597    0.0484278"
      ]
     },
     "execution_count": 15,
     "metadata": {},
     "output_type": "execute_result"
    }
   ],
   "source": [
    "Dnocd50 = readdlm(\"Derivative-nocd50.csv\", ',')"
   ]
  },
  {
   "cell_type": "code",
   "execution_count": 16,
   "metadata": {},
   "outputs": [
    {
     "data": {
      "text/plain": [
       "7-element Array{Float64,1}:\n",
       "  6.971705979043645\n",
       " 25.74861491791794\n",
       "  6.1051698741870375\n",
       " 75.86684429101348\n",
       " 36.622948357866214\n",
       " 66.00974654132109\n",
       " 18.13639622610942"
      ]
     },
     "execution_count": 16,
     "metadata": {},
     "output_type": "execute_result"
    }
   ],
   "source": [
    "std_error(Dnocd50, W, S)"
   ]
  },
  {
   "cell_type": "code",
   "execution_count": 17,
   "metadata": {},
   "outputs": [
    {
     "data": {
      "text/plain": [
       "8×7 Array{Float64,2}:\n",
       " -0.148822    -0.0357788     0.0176293   …  -0.119911    0.150163\n",
       " -0.00742862  -0.000217391  -0.00025         0.0         0.0\n",
       " -0.224331    -0.00237266   -7.91148e-5     -0.0580445  -0.0165837\n",
       " -0.649006    -0.257062     -0.325255       -0.0130369  -0.0233996\n",
       " -0.491437    -0.436908     -0.482526        0.72015     0.795009\n",
       " -0.323535    -0.266328     -0.227439    …   0.0522102   0.0435086\n",
       " -0.30155     -0.044333     -0.0463852      -0.150843   -0.164202\n",
       "  0.545433     0.169037      0.213796        0.0730441   0.0587012"
      ]
     },
     "execution_count": 17,
     "metadata": {},
     "output_type": "execute_result"
    }
   ],
   "source": [
    "Dnocd90 = readdlm(\"Derivative-nocd90.csv\", ',')"
   ]
  },
  {
   "cell_type": "code",
   "execution_count": 18,
   "metadata": {},
   "outputs": [
    {
     "data": {
      "text/plain": [
       "7-element Array{Float64,1}:\n",
       "   7.2930130743349135\n",
       " 129.54509921275883\n",
       "  95.14509974270213\n",
       "  73.57804785154214\n",
       "  19.389064866612784\n",
       "  33.19276344529873\n",
       "  44.31180154641468"
      ]
     },
     "execution_count": 18,
     "metadata": {},
     "output_type": "execute_result"
    }
   ],
   "source": [
    "std_error(Dnocd90, W, S)"
   ]
  }
 ],
 "metadata": {
  "kernelspec": {
   "display_name": "Julia 1.5.3",
   "language": "julia",
   "name": "julia-1.5"
  },
  "language_info": {
   "file_extension": ".jl",
   "mimetype": "application/julia",
   "name": "julia",
   "version": "1.5.3"
  }
 },
 "nbformat": 4,
 "nbformat_minor": 4
}
