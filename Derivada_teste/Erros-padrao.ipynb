{
 "cells": [
  {
   "cell_type": "markdown",
   "metadata": {},
   "source": [
    "Script para calcular os erros padrão com base na matriz de derivada calculada anteriormente"
   ]
  },
  {
   "cell_type": "code",
   "execution_count": 1,
   "metadata": {},
   "outputs": [],
   "source": [
    "using LinearAlgebra\n",
    "using DelimitedFiles"
   ]
  },
  {
   "cell_type": "markdown",
   "metadata": {},
   "source": [
    "As estimações foram feitas usando a matriz Identidade, então usaremos ela para calcular os erros-padrão"
   ]
  },
  {
   "cell_type": "code",
   "execution_count": 8,
   "metadata": {},
   "outputs": [
    {
     "data": {
      "text/plain": [
       "40"
      ]
     },
     "execution_count": 8,
     "metadata": {},
     "output_type": "execute_result"
    }
   ],
   "source": [
    "#número de simulações \n",
    "S = 40"
   ]
  },
  {
   "cell_type": "code",
   "execution_count": 3,
   "metadata": {},
   "outputs": [
    {
     "data": {
      "text/plain": [
       "8×8 Array{Int64,2}:\n",
       " 1  0  0  0  0  0  0  0\n",
       " 0  1  0  0  0  0  0  0\n",
       " 0  0  1  0  0  0  0  0\n",
       " 0  0  0  1  0  0  0  0\n",
       " 0  0  0  0  1  0  0  0\n",
       " 0  0  0  0  0  1  0  0\n",
       " 0  0  0  0  0  0  1  0\n",
       " 0  0  0  0  0  0  0  1"
      ]
     },
     "execution_count": 3,
     "metadata": {},
     "output_type": "execute_result"
    }
   ],
   "source": [
    "W = Matrix{Int}(I, 8,8)"
   ]
  },
  {
   "cell_type": "code",
   "execution_count": 19,
   "metadata": {},
   "outputs": [
    {
     "data": {
      "text/plain": [
       "std_error (generic function with 1 method)"
      ]
     },
     "execution_count": 19,
     "metadata": {},
     "output_type": "execute_result"
    }
   ],
   "source": [
    "function std_error(D, W, S)\n",
    "    \n",
    "    #D is the derivative matrix\n",
    "    #W is the weighting matrix\n",
    "    #S is the number of simulations\n",
    "    \n",
    "    \n",
    "    Ws = (1 + 1/S) * (transpose(D) * W * D)\n",
    "    \n",
    "    Qs = inv(Ws)\n",
    "    \n",
    "    std_error = sqrt.(diag(Qs))\n",
    "    \n",
    "    return std_error\n",
    "end\n",
    "    "
   ]
  },
  {
   "cell_type": "code",
   "execution_count": 20,
   "metadata": {},
   "outputs": [
    {
     "data": {
      "text/plain": [
       "7-element Array{Float64,1}:\n",
       " 200.59109266932398\n",
       " 550.965762682118\n",
       " 350.1170112382854\n",
       " 249.40929541698463\n",
       " 196.10970029787526\n",
       " 140.0682783106208\n",
       " 341.4424650136495"
      ]
     },
     "execution_count": 20,
     "metadata": {},
     "output_type": "execute_result"
    }
   ],
   "source": [
    "#erros padrão da derivada em relação ao parâmetro 2 : β\n",
    "\n",
    "D2 = readdlm(\"Derivative2.csv\", ',')\n",
    "\n",
    "W2 = (1 + 1/S) * (transpose(D2) * W * D2)\n",
    "\n",
    "Q2 = inv(W1)\n",
    "\n",
    "\n",
    "sqrt.(diag(Q2))"
   ]
  },
  {
   "cell_type": "code",
   "execution_count": 21,
   "metadata": {},
   "outputs": [
    {
     "data": {
      "text/plain": [
       "7-element Array{Float64,1}:\n",
       " 200.59109266932398\n",
       " 550.965762682118\n",
       " 350.1170112382854\n",
       " 249.40929541698463\n",
       " 196.10970029787526\n",
       " 140.0682783106208\n",
       " 341.4424650136495"
      ]
     },
     "execution_count": 21,
     "metadata": {},
     "output_type": "execute_result"
    }
   ],
   "source": [
    "std_error(D2, W, S)"
   ]
  },
  {
   "cell_type": "code",
   "execution_count": 22,
   "metadata": {},
   "outputs": [
    {
     "data": {
      "text/plain": [
       "7-element Array{Float64,1}:\n",
       "  60.67685816600826\n",
       " 204.33818045719363\n",
       "  64.28727028854892\n",
       "  25.268690472293947\n",
       "  92.72073116037966\n",
       "  33.25666559221977\n",
       " 305.0543627698579"
      ]
     },
     "execution_count": 22,
     "metadata": {},
     "output_type": "execute_result"
    }
   ],
   "source": [
    "#erros padrão da derivada em relação ao parâmetro 3 : c_0\n",
    "\n",
    "D3 = readdlm(\"Derivative3.csv\", ',')\n",
    "\n",
    "std_error(D3, W, S)"
   ]
  },
  {
   "cell_type": "code",
   "execution_count": 23,
   "metadata": {},
   "outputs": [
    {
     "data": {
      "text/plain": [
       "7-element Array{Float64,1}:\n",
       "   35.2346138400345\n",
       "    9.935626034171003\n",
       "    3.4623344841728456\n",
       " 2621.5977391039187\n",
       " 2170.16890005926\n",
       "  463.8478742587076\n",
       " 1001.8563468819839"
      ]
     },
     "execution_count": 23,
     "metadata": {},
     "output_type": "execute_result"
    }
   ],
   "source": [
    "#erros padrão da derivada em relação ao parâmetro 4 : λj\n",
    "\n",
    "D4 = readdlm(\"Derivative4.csv\", ',')\n",
    "\n",
    "std_error(D4, W, S)"
   ]
  },
  {
   "cell_type": "code",
   "execution_count": 24,
   "metadata": {},
   "outputs": [
    {
     "data": {
      "text/plain": [
       "7-element Array{Float64,1}:\n",
       " 1139.0650586718166\n",
       " 1042.127016565762\n",
       "  753.5880602770204\n",
       " 5281.278600542355\n",
       "  877.8822968456321\n",
       " 6059.051273885465\n",
       " 1079.9218461976707"
      ]
     },
     "execution_count": 24,
     "metadata": {},
     "output_type": "execute_result"
    }
   ],
   "source": [
    "#erros padrão da derivada em relação ao parâmetro 5 : θ_{S,0}\n",
    "\n",
    "D5 = readdlm(\"Derivative5.csv\", ',')\n",
    "\n",
    "std_error(D5, W, S)"
   ]
  },
  {
   "cell_type": "code",
   "execution_count": 25,
   "metadata": {},
   "outputs": [
    {
     "data": {
      "text/plain": [
       "7-element Array{Float64,1}:\n",
       " 264.2205511330332\n",
       " 533.3990773342093\n",
       " 101.79082205824092\n",
       "  49.489310513025224\n",
       " 373.32397469295836\n",
       "  94.97557299026775\n",
       " 128.35782944430147"
      ]
     },
     "execution_count": 25,
     "metadata": {},
     "output_type": "execute_result"
    }
   ],
   "source": [
    "#erros padrão da derivada em relação ao parâmetro 6 : θ_{J,0}\n",
    "\n",
    "D6 = readdlm(\"Derivative6.csv\", ',')\n",
    "\n",
    "std_error(D6, W, S)"
   ]
  },
  {
   "cell_type": "code",
   "execution_count": 26,
   "metadata": {},
   "outputs": [
    {
     "data": {
      "text/plain": [
       "7-element Array{Float64,1}:\n",
       " 114.78058352661263\n",
       " 437.41604458133196\n",
       " 124.42702435950336\n",
       " 811.3650108467649\n",
       " 146.49553870723898\n",
       " 515.3708588269053\n",
       " 864.2443130751909"
      ]
     },
     "execution_count": 26,
     "metadata": {},
     "output_type": "execute_result"
    }
   ],
   "source": [
    "#erros padrão da derivada em relação ao parâmetro 7 : μ\n",
    "\n",
    "D7 = readdlm(\"Derivative7.csv\", ',')\n",
    "\n",
    "std_error(D7, W, S)"
   ]
  }
 ],
 "metadata": {
  "kernelspec": {
   "display_name": "Julia 1.5.3",
   "language": "julia",
   "name": "julia-1.5"
  },
  "language_info": {
   "file_extension": ".jl",
   "mimetype": "application/julia",
   "name": "julia",
   "version": "1.5.3"
  }
 },
 "nbformat": 4,
 "nbformat_minor": 4
}
