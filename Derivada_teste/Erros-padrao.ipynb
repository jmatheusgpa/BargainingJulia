{
 "cells": [
  {
   "cell_type": "markdown",
   "metadata": {},
   "source": [
    "Script para calcular os erros padrão com base na matriz de derivada calculada anteriormente"
   ]
  },
  {
   "cell_type": "code",
   "execution_count": 1,
   "metadata": {},
   "outputs": [],
   "source": [
    "using LinearAlgebra\n",
    "using DelimitedFiles"
   ]
  },
  {
   "cell_type": "markdown",
   "metadata": {},
   "source": [
    "As estimações foram feitas usando a matriz Identidade, então usaremos ela para calcular os erros-padrão"
   ]
  },
  {
   "cell_type": "code",
   "execution_count": 2,
   "metadata": {},
   "outputs": [
    {
     "data": {
      "text/plain": [
       "100"
      ]
     },
     "execution_count": 2,
     "metadata": {},
     "output_type": "execute_result"
    }
   ],
   "source": [
    "#número de simulações \n",
    "S = 100"
   ]
  },
  {
   "cell_type": "code",
   "execution_count": 3,
   "metadata": {},
   "outputs": [
    {
     "data": {
      "text/plain": [
       "9×9 Array{Float64,2}:\n",
       "   1286.31    -2012.24    -592.854     108.147  …   -1686.57     -986.56\n",
       "  -2012.24    62818.4   -22073.8    -27271.2        12471.0     15306.7\n",
       "   -592.854  -22073.8    14935.0     12678.0         5148.66    -5684.35\n",
       "    108.147  -27271.2    12678.0     14572.1         -920.316   -6649.63\n",
       " -11470.0     89429.6    -1091.06   -21204.2        60261.9     22825.8\n",
       "   2245.59   -24421.9   -26522.5     -7675.91   …  -61307.4     -1053.83\n",
       "   4060.27   -99192.1    37502.1     43832.4       -17772.1    -24954.0\n",
       "  -1686.57    12471.0     5148.66     -920.316      20967.3      2345.01\n",
       "   -986.56    15306.7    -5684.35    -6649.63        2345.01     4320.13"
      ]
     },
     "execution_count": 3,
     "metadata": {},
     "output_type": "execute_result"
    }
   ],
   "source": [
    "# n_moments = 9\n",
    "# W = Matrix{Int}(I, n_moments, n_moments)\n",
    "\n",
    "W = readdlm(\"WCluster.csv\", ',')"
   ]
  },
  {
   "cell_type": "code",
   "execution_count": 14,
   "metadata": {},
   "outputs": [
    {
     "data": {
      "text/plain": [
       "se (generic function with 1 method)"
      ]
     },
     "execution_count": 14,
     "metadata": {},
     "output_type": "execute_result"
    }
   ],
   "source": [
    "function se(D, W, S)\n",
    "    \n",
    "    #D is the derivative matrix\n",
    "    #W is the weighting matrix\n",
    "    #S is the number of simulations\n",
    "    \n",
    "    \n",
    "    Qs = (1 + 1/S) * inv((transpose(D) * W * D))\n",
    "    \n",
    "    \n",
    "    standard_error = sqrt.(diag(Qs))\n",
    "    \n",
    "    return standard_error\n",
    "end\n",
    "    "
   ]
  },
  {
   "cell_type": "markdown",
   "metadata": {},
   "source": [
    "nm500_2pct"
   ]
  },
  {
   "cell_type": "code",
   "execution_count": 15,
   "metadata": {},
   "outputs": [
    {
     "data": {
      "text/plain": [
       "7-element Array{Float64,1}:\n",
       "  0.06860368307972727\n",
       "  4.1568862732995875\n",
       "  0.017707360898924402\n",
       "  0.028679053681700536\n",
       " 15.859594978071252\n",
       "  2.3625977891059065\n",
       "  0.9558983482723864"
      ]
     },
     "execution_count": 15,
     "metadata": {},
     "output_type": "execute_result"
    }
   ],
   "source": [
    "D = readdlm(\"Derivative-nm500_2pct.csv\", ',')\n",
    "\n",
    "se(D, W, S)"
   ]
  },
  {
   "cell_type": "markdown",
   "metadata": {},
   "source": [
    "Simular teste (simulação dos momentos falseados)\n",
    "\n",
    "Versão antes de corrigir a derivada dos momentos 5 e 6"
   ]
  },
  {
   "cell_type": "code",
   "execution_count": 16,
   "metadata": {},
   "outputs": [
    {
     "data": {
      "text/plain": [
       "7-element Array{Float64,1}:\n",
       " 0.11467573858363585\n",
       " 0.48158059082383997\n",
       " 0.01206459251852551\n",
       " 0.05198608101700285\n",
       " 9.444863563936062\n",
       " 7.678495553406369\n",
       " 0.8327674714498228"
      ]
     },
     "execution_count": 16,
     "metadata": {},
     "output_type": "execute_result"
    }
   ],
   "source": [
    "D = readdlm(\"Derivative-simularteste.csv\", ',')\n",
    "\n",
    "se(D,W,S)"
   ]
  },
  {
   "cell_type": "markdown",
   "metadata": {},
   "source": [
    "Versão com momentos 5 e 6 corrigidos\n",
    "\n",
    "Lembrando: derivada a partir dos parâmetros que identificam perfeitamente os momentos falseados.\n",
    "É esperado que o erro-padrão seja baixo mesmo\n",
    "Talvez o errro padrão da estimação verdadeira fique mais alto porque não sabemos se o modelo está perfeitamente identificado nem sabemos se a estimação chegará exatamente no mínimo global"
   ]
  },
  {
   "cell_type": "code",
   "execution_count": 18,
   "metadata": {},
   "outputs": [
    {
     "data": {
      "text/plain": [
       "7-element Array{Float64,1}:\n",
       " 0.0589002939360488\n",
       " 1.3938307626431763\n",
       " 0.011830703666213365\n",
       " 0.017464307678624082\n",
       " 0.008727924420163917\n",
       " 0.008533385459837745\n",
       " 0.6497768130341407"
      ]
     },
     "execution_count": 18,
     "metadata": {},
     "output_type": "execute_result"
    }
   ],
   "source": [
    "D = readdlm(\"Derivative-simularteste-20210926.csv\", ',')\n",
    "\n",
    "se_ze = se(D,W,S)"
   ]
  },
  {
   "cell_type": "code",
   "execution_count": 20,
   "metadata": {},
   "outputs": [
    {
     "data": {
      "text/plain": [
       "7×4 Array{Float64,2}:\n",
       " 0.7  0.0589003   0.884  0.006\n",
       " 9.0  1.39383     9.835  1.046\n",
       " 0.1  0.0118307   0.044  0.00867\n",
       " 0.2  0.0174643   0.346  0.088\n",
       " 0.1  0.00872792  0.28   0.036\n",
       " 0.1  0.00853339  0.36   0.016\n",
       " 6.0  0.649777    4.566  0.609"
      ]
     },
     "execution_count": 20,
     "metadata": {},
     "output_type": "execute_result"
    }
   ],
   "source": [
    "param_ze = [0.7, 9.0, 0.1, 0.2, 0.1, 0.1, 6.0]\n",
    "param_dou = [0.884, 9.835, 0.044, 0.346, 0.28, 0.36, 4.566]\n",
    "se_dou = [0.006, 1.046, 0.00867, 0.088, 0.036, 0.016, 0.609 ]\n",
    "\n",
    "hcat(param_ze, se_ze, param_dou, se_dou)"
   ]
  }
 ],
 "metadata": {
  "kernelspec": {
   "display_name": "Julia 1.5.3",
   "language": "julia",
   "name": "julia-1.5"
  },
  "language_info": {
   "file_extension": ".jl",
   "mimetype": "application/julia",
   "name": "julia",
   "version": "1.5.3"
  }
 },
 "nbformat": 4,
 "nbformat_minor": 4
}
