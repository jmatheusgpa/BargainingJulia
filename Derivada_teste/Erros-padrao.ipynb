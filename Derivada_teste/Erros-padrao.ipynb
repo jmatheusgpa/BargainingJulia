{
 "cells": [
  {
   "cell_type": "markdown",
   "metadata": {},
   "source": [
    "Script para calcular os erros padrão com base na matriz de derivada calculada anteriormente"
   ]
  },
  {
   "cell_type": "code",
   "execution_count": 1,
   "metadata": {},
   "outputs": [],
   "source": [
    "using LinearAlgebra\n",
    "using DelimitedFiles"
   ]
  },
  {
   "cell_type": "markdown",
   "metadata": {},
   "source": [
    "As estimações foram feitas usando a matriz Identidade, então usaremos ela para calcular os erros-padrão"
   ]
  },
  {
   "cell_type": "code",
   "execution_count": 2,
   "metadata": {},
   "outputs": [
    {
     "data": {
      "text/plain": [
       "100"
      ]
     },
     "execution_count": 2,
     "metadata": {},
     "output_type": "execute_result"
    }
   ],
   "source": [
    "#número de simulações \n",
    "S = 100"
   ]
  },
  {
   "cell_type": "code",
   "execution_count": 3,
   "metadata": {},
   "outputs": [
    {
     "data": {
      "text/plain": [
       "8×8 Array{Int64,2}:\n",
       " 1  0  0  0  0  0  0  0\n",
       " 0  1  0  0  0  0  0  0\n",
       " 0  0  1  0  0  0  0  0\n",
       " 0  0  0  1  0  0  0  0\n",
       " 0  0  0  0  1  0  0  0\n",
       " 0  0  0  0  0  1  0  0\n",
       " 0  0  0  0  0  0  1  0\n",
       " 0  0  0  0  0  0  0  1"
      ]
     },
     "execution_count": 3,
     "metadata": {},
     "output_type": "execute_result"
    }
   ],
   "source": [
    "W = Matrix{Int}(I, 8,8)"
   ]
  },
  {
   "cell_type": "code",
   "execution_count": 4,
   "metadata": {},
   "outputs": [
    {
     "data": {
      "text/plain": [
       "std_error (generic function with 1 method)"
      ]
     },
     "execution_count": 4,
     "metadata": {},
     "output_type": "execute_result"
    }
   ],
   "source": [
    "function std_error(D, W, S)\n",
    "    \n",
    "    #D is the derivative matrix\n",
    "    #W is the weighting matrix\n",
    "    #S is the number of simulations\n",
    "    \n",
    "    \n",
    "    Qs = (1 + 1/S) * inv((transpose(D) * W * D))\n",
    "    \n",
    "    \n",
    "    std_error = sqrt.(diag(Qs))\n",
    "    \n",
    "    return std_error\n",
    "end\n",
    "    "
   ]
  },
  {
   "cell_type": "code",
   "execution_count": 5,
   "metadata": {},
   "outputs": [
    {
     "data": {
      "text/plain": [
       "7-element Array{Float64,1}:\n",
       "  61.73702597524827\n",
       " 207.90845037009228\n",
       "  65.41052051217478\n",
       "  25.71019408718259\n",
       "  94.34078100140093\n",
       "  33.83773797086997\n",
       " 310.3843819114533"
      ]
     },
     "execution_count": 5,
     "metadata": {},
     "output_type": "execute_result"
    }
   ],
   "source": [
    "#erros padrão da derivada em relação ao parâmetro 3 : c_0\n",
    "\n",
    "D3 = readdlm(\"Derivative3.csv\", ',')\n",
    "\n",
    "std_error(D3, W, S)"
   ]
  },
  {
   "cell_type": "markdown",
   "metadata": {},
   "source": [
    "Nocd50"
   ]
  },
  {
   "cell_type": "code",
   "execution_count": 6,
   "metadata": {},
   "outputs": [
    {
     "data": {
      "text/plain": [
       "7-element Array{Float64,1}:\n",
       "  115.52799069640794\n",
       "  229.75882912400712\n",
       "  376.63978525418827\n",
       " 1071.198520816629\n",
       "  334.38963862364227\n",
       "   53.3958719596664\n",
       " 1158.7244931664584"
      ]
     },
     "execution_count": 6,
     "metadata": {},
     "output_type": "execute_result"
    }
   ],
   "source": [
    "#primeira versão, sem dividir pelo delta\n",
    "Dnocd50 = readdlm(\"Derivative-nocd50.csv\", ',')\n",
    "\n",
    "std_error(Dnocd50, W, S)"
   ]
  },
  {
   "cell_type": "markdown",
   "metadata": {},
   "source": [
    "Nocd50 - com a fórmula da derivada numerica consertada"
   ]
  },
  {
   "cell_type": "code",
   "execution_count": 7,
   "metadata": {},
   "outputs": [
    {
     "data": {
      "text/plain": [
       "7-element Array{Float64,1}:\n",
       "   1.2422455481898407\n",
       " 158.82811944424674\n",
       "   1.5439257630987808\n",
       "   6.045778527088141\n",
       " 959.7405057852728\n",
       " 120.86818241892428\n",
       "  62.600191934889"
      ]
     },
     "execution_count": 7,
     "metadata": {},
     "output_type": "execute_result"
    }
   ],
   "source": [
    "Dnocd50pct = readdlm(\"Derivative-nocd50_1pct.csv\", ',')\n",
    "\n",
    "std_error(Dnocd50pct, W, S)"
   ]
  },
  {
   "cell_type": "markdown",
   "metadata": {},
   "source": [
    "Dou et al"
   ]
  },
  {
   "cell_type": "code",
   "execution_count": 6,
   "metadata": {},
   "outputs": [
    {
     "data": {
      "text/plain": [
       "7-element Array{Float64,1}:\n",
       "  59.011661141778106\n",
       " 118.86251009859218\n",
       " 171.6309720575049\n",
       "  31.633549733362404\n",
       "  93.98784139012834\n",
       "  58.82990570956569\n",
       " 119.6839458255179"
      ]
     },
     "execution_count": 6,
     "metadata": {},
     "output_type": "execute_result"
    }
   ],
   "source": [
    "#erros padrão da derivada em relação à estimação feita com momentos de Dou et al\n",
    "\n",
    "Ddou = readdlm(\"Derivative-douetal.csv\", ',')\n",
    "\n",
    "std_error(Ddou, W, S)"
   ]
  },
  {
   "cell_type": "code",
   "execution_count": 7,
   "metadata": {},
   "outputs": [
    {
     "data": {
      "text/plain": [
       "7-element Array{Float64,1}:\n",
       "   4.130816279934691\n",
       " 190.18001615809337\n",
       "   0.5148929161738619\n",
       "   1.2653419893347495\n",
       " 187.9756827806912\n",
       " 176.4897171290776\n",
       " 101.73135395195062"
      ]
     },
     "execution_count": 7,
     "metadata": {},
     "output_type": "execute_result"
    }
   ],
   "source": [
    "#erros padrão da derivada em relação à estimação feita com momentos de Dou et al\n",
    "#escalado\n",
    "\n",
    "Ddou_escalado = readdlm(\"Derivative-douetal-escalado.csv\", ',')\n",
    "\n",
    "std_error(Ddou_escalado, W, S)"
   ]
  },
  {
   "cell_type": "code",
   "execution_count": 8,
   "metadata": {},
   "outputs": [
    {
     "data": {
      "text/plain": [
       "7-element Array{Float64,1}:\n",
       "  92.2285925721934\n",
       " 129.25648952231438\n",
       " 362.6405703171167\n",
       "  54.42101080933954\n",
       " 200.29403100942497\n",
       " 137.5865160958265\n",
       " 282.01198310788783"
      ]
     },
     "execution_count": 8,
     "metadata": {},
     "output_type": "execute_result"
    }
   ],
   "source": [
    "#erros padrão da derivada em relação à estimação feita com momentos de Dou et al\n",
    "#novos momentos simulados\n",
    "\n",
    "Ddou_ns = readdlm(\"Derivative-douetal-ns.csv\", ',')\n",
    "\n",
    "std_error(Ddou_ns, W, S)"
   ]
  },
  {
   "cell_type": "markdown",
   "metadata": {},
   "source": [
    "Doumm5_6"
   ]
  },
  {
   "cell_type": "code",
   "execution_count": 9,
   "metadata": {},
   "outputs": [
    {
     "data": {
      "text/plain": [
       "7-element Array{Float64,1}:\n",
       "  13.491403407066228\n",
       " 137.40739338378748\n",
       " 202.88640917577067\n",
       "  83.67439927431646\n",
       "  32.016142344866445\n",
       "  41.82079139158862\n",
       " 119.18316191785989"
      ]
     },
     "execution_count": 9,
     "metadata": {},
     "output_type": "execute_result"
    }
   ],
   "source": [
    "mm56 = readdlm(\"Derivative-doumm5_6.csv\", ',')\n",
    "\n",
    "std_error(mm56, W, S)"
   ]
  },
  {
   "cell_type": "code",
   "execution_count": 10,
   "metadata": {},
   "outputs": [
    {
     "data": {
      "text/plain": [
       "7-element Array{Float64,1}:\n",
       "   1.2142263066386434\n",
       " 105.80369290574129\n",
       "   2.028864091761929\n",
       "   6.693951941943189\n",
       " 128.06456937941866\n",
       " 125.46237417492968\n",
       "  38.13861181379862"
      ]
     },
     "execution_count": 10,
     "metadata": {},
     "output_type": "execute_result"
    }
   ],
   "source": [
    "#escalado\n",
    "mm56_escalado = readdlm(\"Derivative-doumm5_6-escalado.csv\", ',')\n",
    "\n",
    "std_error(mm56_escalado, W, S)"
   ]
  }
 ],
 "metadata": {
  "kernelspec": {
   "display_name": "Julia 1.5.3",
   "language": "julia",
   "name": "julia-1.5"
  },
  "language_info": {
   "file_extension": ".jl",
   "mimetype": "application/julia",
   "name": "julia",
   "version": "1.5.3"
  }
 },
 "nbformat": 4,
 "nbformat_minor": 4
}
