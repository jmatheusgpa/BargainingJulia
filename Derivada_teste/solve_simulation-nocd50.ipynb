{
 "cells": [
  {
   "cell_type": "markdown",
   "metadata": {},
   "source": [
    "Dou et al. (2020) model\n",
    "\n",
    "Agora em Julia versão 1.5.3\n",
    "\n",
    "This script simulates the model\n",
    "\n",
    "Calculando a derivada fixando os parâmetros iguais aos de Dou et al. e substituindo pelo $\\beta$ encontrado na última estimação com 2 clusters"
   ]
  },
  {
   "cell_type": "code",
   "execution_count": 1,
   "metadata": {},
   "outputs": [],
   "source": [
    "using LinearAlgebra, Statistics\n",
    "\n",
    "using DataFrames\n",
    "using BenchmarkTools\n"
   ]
  },
  {
   "cell_type": "code",
   "execution_count": 2,
   "metadata": {},
   "outputs": [
    {
     "data": {
      "text/plain": [
       "3"
      ]
     },
     "execution_count": 2,
     "metadata": {},
     "output_type": "execute_result"
    }
   ],
   "source": [
    "using Distributed\n",
    "nprocs = 2\n",
    "addprocs(nprocs);\n",
    "\n",
    "@everywhere using NBInclude\n",
    "@everywhere @nbinclude(\"solve_model.ipynb\")\n",
    "\n",
    "#importou a função solve_tree\n",
    "\n",
    "pids = workers()\n",
    "aux = pids[nprocs]"
   ]
  },
  {
   "cell_type": "code",
   "execution_count": 3,
   "metadata": {},
   "outputs": [],
   "source": [
    "#Vh/D, L/D, Dj/D\n",
    "data1 = [0.86, 0.19, 0.8];\n",
    "n1 = 49\n",
    "\n",
    "data2 = [2.65, 0.69, 0.74];\n",
    "n2 = 17\n",
    "\n",
    "#ρ, β, c0, λj\n",
    "game_parameters = [0.4, 1.0, 0.167, 0.486];"
   ]
  },
  {
   "cell_type": "code",
   "execution_count": 4,
   "metadata": {},
   "outputs": [
    {
     "name": "stdout",
     "output_type": "stream",
     "text": [
      "       From worker 3:\t 23.564863 seconds (84.99 M allocations: 1.936 GiB, 1.52% gc time)\n",
      "25.909858 seconds (84.99 M allocations: 1.936 GiB, 1.54% gc time)\n"
     ]
    }
   ],
   "source": [
    "A2 = @spawnat aux solve_tree(data2, game_parameters)\n",
    "\n",
    "A1 = solve_tree(data1, game_parameters);\n",
    "\n",
    "A2 = fetch(A2);"
   ]
  },
  {
   "cell_type": "markdown",
   "metadata": {},
   "source": [
    "Simulation parameters"
   ]
  },
  {
   "cell_type": "code",
   "execution_count": 5,
   "metadata": {},
   "outputs": [],
   "source": [
    "#θs0, θj0, μ\n",
    "simulation_parameters = [10.0, 35.0, 11.412];"
   ]
  },
  {
   "cell_type": "markdown",
   "metadata": {},
   "source": [
    "### Criando funções para simular o jogo"
   ]
  },
  {
   "cell_type": "code",
   "execution_count": 6,
   "metadata": {},
   "outputs": [
    {
     "data": {
      "text/plain": [
       "update_beliefs (generic function with 1 method)"
      ]
     },
     "execution_count": 6,
     "metadata": {},
     "output_type": "execute_result"
    }
   ],
   "source": [
    "#cost function\n",
    "function Ct(t, c0=c0, c1=c1)\n",
    "    \n",
    "    #didn't use D because is normalized to D == 1.0\n",
    "    #cost at period t=0(index1) is 0\n",
    "    if(t <= 1)\n",
    "        return 0\n",
    "    else\n",
    "        return c0 + c1 * (t-1) #test to make index==1 be t==0\n",
    "    end\n",
    "end\n",
    "\n",
    "\n",
    "\n",
    "#liquidation payoffs\n",
    "function s_L(t, L, Ds, Dj, c0, c1)\n",
    "    return min(L - Ct(t, c0, c1), Ds)\n",
    "end\n",
    "\n",
    "\n",
    "function j_L(t, L, Ds, Dj, c0, c1)\n",
    "    return min(L - Ct(t, c0, c1) - s_L(t, L, Ds, Dj, c0, c1), Dj)\n",
    "end\n",
    "\n",
    "\n",
    "function proposal(Pkt_array, t, hkt, lmt)\n",
    "    \n",
    "    #pkt array será sempre do propositor, quem responder às propostas apenas olhará o seu valor de continuação\n",
    "    \n",
    "    return policy, payoff_prop, payment, lm_next = Pkt_array[t, hkt, lmt, [end,end-1, 1, 2]]\n",
    "    \n",
    "end\n",
    "    \n",
    "\n",
    "#maximum value of reorganization each period\n",
    "function Vt(Vmax, ρ, t)\n",
    "\n",
    "    if(t <=1)\n",
    "        return Vmax\n",
    "    else\n",
    "        #(t-2) instead of (t-1) because we shifted the indexes in the game so as to include t==0 at index==1\n",
    "        return ρ^(t-2) * Vmax\n",
    "    end\n",
    "\n",
    "\n",
    "end\n",
    "\n",
    "# answer_liq\n",
    "function answer_liq(m_L, t, hm_next, payoff_prop, L, Ds, Dj, Vmax, ρ, c0, c1)\n",
    "    \n",
    "    liq = (m_L(t, L, Ds, Dj, c0, c1), Vt(Vmax, ρ, t) * hm_next/100 - Ct(t, c0, c1) - payoff_prop)\n",
    "    \n",
    "    payoff_liq, answer = findmax(liq)\n",
    "    \n",
    "    return payoff_liq, answer\n",
    "end\n",
    "\n",
    "function answer_reorg(payment, Cont_val, t, hm_next, lm_next, lk_next)\n",
    "    \n",
    "    reorg_value = (payment, Cont_val[t+1, hm_next, lm_next, lk_next])\n",
    "\n",
    "    payoff_reorg, answer = findmax(reorg_value)\n",
    "    \n",
    "    return payoff_reorg, answer\n",
    "end\n",
    "\n",
    "function update_beliefs(propositor, hk_next, hm_next, lk_next, lm_next)\n",
    "    \n",
    "    if(propositor==\"s\")\n",
    "        hst = hk_next\n",
    "        lst = lk_next\n",
    "        \n",
    "        hjt = hm_next\n",
    "        ljt = lm_next\n",
    "        \n",
    "    else\n",
    "        hst = hm_next\n",
    "        lst = lm_next\n",
    "        \n",
    "        hjt = hk_next\n",
    "        ljt = lk_next\n",
    "    end\n",
    "    \n",
    "    \n",
    "    return hst, lst, hjt, ljt\n",
    "end\n",
    "\n",
    "        "
   ]
  },
  {
   "cell_type": "code",
   "execution_count": 7,
   "metadata": {},
   "outputs": [
    {
     "data": {
      "text/plain": [
       "draw_beta (generic function with 3 methods)"
      ]
     },
     "execution_count": 7,
     "metadata": {},
     "output_type": "execute_result"
    }
   ],
   "source": [
    "#código para tirar um draw da beta\n",
    "\n",
    "function draw_beta(hkt, β=game_parameters[2], grid=100)\n",
    "\n",
    "    u = rand()\n",
    "\n",
    "    if(hkt == grid)\n",
    "        \n",
    "        return grid\n",
    "\n",
    "    else\n",
    "        \n",
    "        x = 1.0 - exp(1.0/β * (log(1.0 - u) + β * log(1.0 - hkt/grid)))\n",
    "        x = round(x * 100, digits=0)\n",
    "#         return Int64(x * 100) #to convert in an integer\n",
    "        return Int64(x)\n",
    "        \n",
    "    end\n",
    "end\n",
    "\n",
    "        \n",
    "\n",
    "# @code_warntype draw_beta(10)\n",
    "\n"
   ]
  },
  {
   "cell_type": "code",
   "execution_count": 8,
   "metadata": {},
   "outputs": [],
   "source": [
    "function choose_parameters(propositor, hst, lst, hjt, ljt, Pst_array, Pjt_array, s_W, j_W)\n",
    "    \n",
    "    if(propositor==\"s\")\n",
    "        \n",
    "        Pkt_array = Pst_array\n",
    "        Cont_val = j_W\n",
    "        prop_index = 1\n",
    "        respondent_index = 2 #índice de j, para organizar o payoff\n",
    "        m_L = j_L\n",
    "\n",
    "        hkt = hst\n",
    "        lkt = lst\n",
    "        \n",
    "        hmt = hjt\n",
    "        lmt = ljt\n",
    "\n",
    "\n",
    "        lk_next = hkt\n",
    "\n",
    "        hk_next = draw_beta(hkt)\n",
    "        hm_next = draw_beta(hmt)\n",
    "        \n",
    "    elseif(propositor==\"j\")\n",
    "        Pkt_array = Pjt_array\n",
    "        Cont_val = s_W\n",
    "        prop_index = 2\n",
    "        respondent_index = 1\n",
    "        m_L = s_L\n",
    "\n",
    "        hkt = hjt\n",
    "        lkt = ljt\n",
    "        \n",
    "        hmt = hst\n",
    "        lmt = lst\n",
    "\n",
    "\n",
    "        lk_next = hkt\n",
    "\n",
    "\n",
    "        hk_next = draw_beta(hkt)\n",
    "        hm_next = draw_beta(hmt)\n",
    "\n",
    "    else\n",
    "        \n",
    "        println(\"error: propositor not valid\")\n",
    "        \n",
    "    end\n",
    "    \n",
    "    return Pkt_array, Cont_val, prop_index, respondent_index, m_L, hkt, lkt, hmt, lmt, lk_next, hk_next, hm_next\n",
    "end\n",
    "\n",
    "\n",
    "\n",
    "\n",
    "# #test\n",
    "# Hs0 = 30\n",
    "# Hj0 = 28\n",
    "\n",
    "\n",
    "# hst = Hs0\n",
    "# hjt = Hj0\n",
    "\n",
    "# #assumindo que lower bounds nos períodos iniciais são as próprias habilidades iniciais\n",
    "# lst = hst\n",
    "# ljt = hjt\n",
    "\n",
    "\n",
    "\n",
    "\n",
    "# choose_parameters(\"s\", hst, lst, hjt, ljt);\n",
    "    \n",
    "    "
   ]
  },
  {
   "cell_type": "code",
   "execution_count": 9,
   "metadata": {},
   "outputs": [
    {
     "data": {
      "text/plain": [
       "simulate_game (generic function with 7 methods)"
      ]
     },
     "execution_count": 9,
     "metadata": {},
     "output_type": "execute_result"
    }
   ],
   "source": [
    "function simulate_game(data, game_parameters, simulation_parameters, s_W=s_W, j_W=j_W, Pst_array=Pst_array, Pjt_array=Pjt_array, t=1, grid=100)\n",
    "    \n",
    "    \n",
    "    Vmax = data[1]\n",
    "    L = data[2]\n",
    "    Dj = data[3]\n",
    "    Ds = one(1.0) - Dj\n",
    "    \n",
    "    \n",
    "    c0 = game_parameters[3];\n",
    "    c1 = c0/30;\n",
    "\n",
    "    ρ = game_parameters[1];\n",
    "    λj = game_parameters[4];\n",
    "\n",
    "    \n",
    "    \n",
    "#     hst = Hs0\n",
    "#     hjt = Hj0\n",
    "    \n",
    "    hst = Int64(simulation_parameters[1])\n",
    "    hjt = Int64(simulation_parameters[2])\n",
    "\n",
    "    #assumindo que lower bounds nos períodos iniciais são as próprias habilidades iniciais\n",
    "    lst = hst\n",
    "    ljt = hjt\n",
    "    \n",
    "    result = zeros(5);\n",
    "    \n",
    "    #number of observed proposals\n",
    "    observed_proposals = 0.0\n",
    "    \n",
    "    \n",
    "    #recovering \"T+1\" from s_W \n",
    "    T = size(s_W,1)\n",
    "    \n",
    "    \n",
    "    while(result[1]==0.0 && t < T)\n",
    "        \n",
    "        \n",
    "        u = rand()\n",
    "\n",
    "        if(u < λj)\n",
    "            propositor = \"j\"\n",
    "\n",
    "        else\n",
    "            propositor = \"s\"\n",
    "\n",
    "        end\n",
    "\n",
    "        \n",
    "        #setting the default variables according to the propositor\n",
    "        Pkt_array, Cont_val, prop_index, respondent_index, m_L, hkt, lkt, hmt, lmt, lk_next, hk_next, hm_next = choose_parameters(propositor, hst, lst, hjt, ljt, Pst_array, Pjt_array, s_W, j_W)\n",
    "        \n",
    "        #proposal ####\n",
    "        policy, payoff_prop, payment, lm_next = proposal(Pkt_array, t, hkt, lmt)\n",
    "\n",
    "        #lm_next is the update of the adversary's lower bound\n",
    "        if(lm_next>=grid+1 || policy!= 3.0) #para evitar update de lowerbound quando proponente não propõe reorg\n",
    "            lm_next = lmt\n",
    "        else\n",
    "            lm_next = Int64(lm_next)\n",
    "        end\n",
    "        \n",
    "        \n",
    "        \n",
    "        if(policy==3.0)\n",
    "            \n",
    "            observed_proposals += 1.0\n",
    "    \n",
    "            payoff_respondent, answer = answer_reorg(payment, Cont_val, t, hm_next, lm_next, lk_next)\n",
    "\n",
    "\n",
    "            if(answer==1.0)\n",
    "\n",
    "                result[prop_index] = payoff_prop\n",
    "                result[respondent_index] = payoff_respondent\n",
    "                result[3] = 3.0\n",
    "                result[4] = t\n",
    "                result[5] = observed_proposals\n",
    "\n",
    "            else\n",
    "                \n",
    "                t+=1\n",
    "\n",
    "                hst, lst, hjt, ljt = update_beliefs(propositor, hk_next, hm_next, lk_next, lm_next)\n",
    "            end\n",
    "\n",
    "        elseif(policy==2.0)\n",
    "            \n",
    "            t+=1\n",
    "            \n",
    "            hst, lst, hjt, ljt = update_beliefs(propositor, hk_next, hm_next, lk_next, lm_next)\n",
    "            \n",
    "            \n",
    "\n",
    "        else      \n",
    "            #(policy==1.0)\n",
    "            \n",
    "            observed_proposals += 1.0\n",
    "\n",
    "            payoff_respondent, answer = answer_liq(m_L, t, hm_next, payoff_prop, L, Ds, Dj, Vmax, ρ, c0, c1)\n",
    "            \n",
    "            \n",
    "\n",
    "            if(answer==1.0)\n",
    "\n",
    "                result[prop_index] = payoff_prop\n",
    "                result[respondent_index] = payoff_respondent\n",
    "                result[3] = 1.0\n",
    "                result[4] = t\n",
    "                result[5] = observed_proposals\n",
    "\n",
    "            else\n",
    "\n",
    "                result[prop_index] = payoff_prop\n",
    "                result[respondent_index] = payoff_respondent\n",
    "                result[3] = 3.0\n",
    "                result[4] = t\n",
    "                result[5] = observed_proposals\n",
    "\n",
    "\n",
    "            end\n",
    "        end\n",
    "\n",
    "\n",
    "        if(t==T)\n",
    "            \n",
    "            result[1] = s_W[T, 1, 1, 1]#todos os valores finais de S são iguais, então acessarei o índice 1\n",
    "            result[2] = j_W[T, 1, 1, 1]\n",
    "            result[3] = 1.0\n",
    "            result[4] = t\n",
    "            result[5] = max(observed_proposals, 1.0)\n",
    "            \n",
    "        end\n",
    "        \n",
    "\n",
    "\n",
    "\n",
    "\n",
    "    end\n",
    "    \n",
    "    \n",
    "    return result\n",
    "end\n",
    "\n",
    "        \n",
    "        \n",
    "#precisa colocar uma condição IF aqui para caso o jogo vá até o último período?\n",
    "    "
   ]
  },
  {
   "cell_type": "code",
   "execution_count": 10,
   "metadata": {},
   "outputs": [
    {
     "name": "stdout",
     "output_type": "stream",
     "text": [
      "  3.275 μs (20 allocations: 924 bytes)\n"
     ]
    },
    {
     "data": {
      "text/plain": [
       "5-element Array{Float64,1}:\n",
       " 0.4296443713713729\n",
       " 0.07718896196196197\n",
       " 3.0\n",
       " 2.0\n",
       " 1.0"
      ]
     },
     "execution_count": 10,
     "metadata": {},
     "output_type": "execute_result"
    }
   ],
   "source": [
    "#unit testing\n",
    "@btime simulate_game(data1, game_parameters, simulation_parameters, A1[1], A1[2], A1[3], A1[4])"
   ]
  },
  {
   "cell_type": "code",
   "execution_count": 11,
   "metadata": {},
   "outputs": [],
   "source": [
    "function loop_simulations(S, N, game_parameters, simulation_parameters, data1, data2, A1, A2, n1)\n",
    "    \n",
    "    \n",
    "    \n",
    "    \n",
    "    \n",
    "    #S is the number of simulations\n",
    "    #N is the number of observations\n",
    "    #data1 is the center of the first cluster\n",
    "    #A1 is the collection of arrays from the first cluster (s_W, j_W, Pst, Pjt)\n",
    "    #n1 is the number of observations in the first cluster\n",
    "    \n",
    "    \n",
    "    \n",
    "    \n",
    "    #no futuro os argumentos podem ser arrays de arrays, assim ele faz o loop para cada cluster\n",
    "    Results = zeros(S, N, 7)\n",
    "\n",
    "    #últimas entradas de Results são os valores das dívidas\n",
    "    \n",
    "    \n",
    "    for s in 1:S\n",
    "        for n in 1:N\n",
    "            if(n <= n1)\n",
    "                Results[s,n,1:5] .= simulate_game(data1, game_parameters, simulation_parameters, A1[1], A1[2], A1[3], A1[4])\n",
    "                Results[s,n, end-1] = A1[5]\n",
    "                Results[s,n, end] = A1[6]\n",
    "            else\n",
    "                Results[s,n,1:5] .= simulate_game(data2, game_parameters, simulation_parameters, A2[1], A2[2], A2[3], A2[4])\n",
    "                Results[s,n, end-1] = A2[5]\n",
    "                Results[s,n, end] = A2[6]\n",
    "            end\n",
    "            \n",
    "        end\n",
    "    end\n",
    "\n",
    "    return Results\n",
    "    \n",
    "end\n",
    "\n",
    "    \n",
    "# loop_simulations(40, 75, θs0, θj0, μ, λj);"
   ]
  },
  {
   "cell_type": "code",
   "execution_count": 12,
   "metadata": {},
   "outputs": [
    {
     "data": {
      "text/plain": [
       "40×66×7 Array{Float64,3}:\n",
       "[:, :, 1] =\n",
       " 0.104978    0.0906085  0.40393    …  0.451748  0.451597  1.07078\n",
       " 0.0869441   0.0868832  0.0869769     1.98518   0.450784  0.451555\n",
       " 0.348065    0.412281   0.164208      0.61428   1.53405   0.451616\n",
       " 0.545038    0.105939   0.0974046     0.260561  0.43327   0.452353\n",
       " 0.00637732  0.0869954  0.601122      1.30937   0.451555  0.45079\n",
       " 0.0866831   0.0869769  0.0907068  …  0.452357  1.24252   1.15026\n",
       " 0.43388     0.0867046  0.0907068     0.452357  0.450832  0.43327\n",
       " 0.0875755   0.0866831  0.0868625     0.455469  0.43327   1.12362\n",
       " 0.364437    0.0907068  0.0869156     1.96992   1.2961    0.45251\n",
       " 0.52801     0.107702   0.579686      1.15026   1.28254   0.260643\n",
       " 0.0870229   0.511109   0.331976   …  1.83799   0.260561  0.451328\n",
       " 0.0907068   0.0866461  0.480839      0.450731  1.58766   0.45087\n",
       " 0.216084    0.358962   0.0974046     0.550283  0.450846  0.785616\n",
       " ⋮                                 ⋱                      ⋮\n",
       " 0.092225    0.0907068  0.0907068     0.451855  1.8243    1.69243\n",
       " 0.519475    0.0118667  0.164208      0.518884  1.85185   0.45076\n",
       " 0.0907068   0.463654   0.0870985  …  0.450742  1.99826   1.52029\n",
       " 0.459527    0.103963   0.321501      1.53405   0.46101   0.260734\n",
       " 0.0907068   0.0907068  0.601122      1.59981   0.43327   1.07078\n",
       " 0.100842    0.0907068  0.545038      0.524038  1.96992   2.02475\n",
       " 0.0997869   0.106747   0.455096      0.451071  1.90454   0.450521\n",
       " 0.0868772   0.579686   0.100155   …  1.69243   1.41432   1.6538\n",
       " 0.375642    0.321501   0.575237      0.451312  1.70627   0.451622\n",
       " 0.0868033   0.0867649  0.103526      1.16332   1.32226   1.13718\n",
       " 0.102997    0.0997869  0.0868364     1.46836   2.02475   0.451226\n",
       " 0.305805    0.0875755  0.0868033     1.7993    0.451909  1.12362\n",
       "\n",
       "[:, :, 2] =\n",
       " 0.320156   0.386125   0.0771035    …  1.80043   1.58859   0.426158\n",
       " 0.531689   0.47585    0.518756        0.426008  1.49665   1.77413\n",
       " 0.0899681  0.0773519  0.00165867      0.246386  0.426632  1.54882\n",
       " 0.0778956  0.314894   0.357829        0.621306  1.03606   1.93233\n",
       " 0.159489   0.488638   0.0777108       0.426063  1.77413   1.69539\n",
       " 0.41585    0.518756   0.313071     …  1.85283   0.426666  0.426172\n",
       " 0.077253   0.407229   0.313071        1.85283   1.4171    1.03606\n",
       " 0.397758   0.41585    0.471571        1.22696   1.03606   0.426314\n",
       " 0.0864967  0.313071   0.591918        0.428017  0.42608   2.02492\n",
       " 0.0777237  0.304531   0.0776476       0.426172  0.426396  0.562924\n",
       " 0.46281    0.0774248  0.0931573    …  0.427439  0.621306  1.46961\n",
       " 0.313071   0.527687   0.0775946       1.88095   0.426022  1.84106\n",
       " 0.0925395  0.0876718  0.357829        0.246784  1.31109   0.405926\n",
       " ⋮                                  ⋱                      ⋮\n",
       " 0.380208   0.313071   0.313071        1.89308   0.427888  0.427256\n",
       " 0.0776586  0.12992    0.00165867      0.246383  0.426834  1.94717\n",
       " 0.313071   0.0775792  0.587435     …  1.27144   0.42617   0.427145\n",
       " 0.0774066  0.32547    0.0950319       0.426632  1.19492   0.557533\n",
       " 0.313071   0.313071   0.0777108       0.42712   1.03606   0.426158\n",
       " 0.341492   0.313071   0.0778956       0.246529  0.428017  0.426181\n",
       " 0.346846   0.309787   0.0775371       1.60236   0.427143  1.44391\n",
       " 0.570456   0.0776476  0.000351467  …  0.427256  0.427114  0.426132\n",
       " 0.0838911  0.0950319  0.0777967       1.95987   0.426664  1.86681\n",
       " 0.44583    0.553368   0.000420267     0.426367  0.426422  0.426003\n",
       " 0.330736   0.346846   0.480197        0.426078  0.426181  1.68171\n",
       " 0.0978279  0.397758   0.44583         0.426381  1.61477   0.426314\n",
       "\n",
       "[:, :, 3] =\n",
       " 3.0  3.0  3.0  3.0  3.0  3.0  3.0  3.0  …  3.0  3.0  3.0  3.0  3.0  3.0  3.0\n",
       " 3.0  3.0  3.0  3.0  3.0  3.0  3.0  3.0     3.0  3.0  3.0  3.0  3.0  3.0  3.0\n",
       " 3.0  3.0  3.0  3.0  3.0  3.0  3.0  3.0     3.0  3.0  3.0  3.0  3.0  3.0  3.0\n",
       " 3.0  3.0  3.0  3.0  3.0  3.0  3.0  3.0     3.0  3.0  3.0  3.0  3.0  3.0  3.0\n",
       " 3.0  3.0  3.0  3.0  3.0  3.0  3.0  3.0     3.0  3.0  3.0  3.0  3.0  3.0  3.0\n",
       " 3.0  3.0  3.0  3.0  3.0  3.0  3.0  3.0  …  3.0  3.0  3.0  3.0  3.0  3.0  3.0\n",
       " 3.0  3.0  3.0  3.0  3.0  3.0  3.0  3.0     3.0  3.0  3.0  3.0  3.0  3.0  3.0\n",
       " 3.0  3.0  3.0  3.0  3.0  3.0  3.0  3.0     3.0  3.0  3.0  3.0  3.0  3.0  3.0\n",
       " 3.0  3.0  3.0  3.0  3.0  3.0  3.0  3.0     3.0  3.0  3.0  3.0  3.0  3.0  3.0\n",
       " 3.0  3.0  3.0  3.0  3.0  3.0  3.0  3.0     3.0  3.0  3.0  3.0  3.0  3.0  3.0\n",
       " 3.0  3.0  3.0  3.0  3.0  3.0  3.0  3.0  …  3.0  3.0  3.0  3.0  3.0  3.0  3.0\n",
       " 3.0  3.0  3.0  3.0  3.0  3.0  3.0  3.0     3.0  3.0  3.0  3.0  3.0  3.0  3.0\n",
       " 3.0  3.0  3.0  3.0  3.0  3.0  3.0  3.0     3.0  3.0  3.0  3.0  3.0  3.0  3.0\n",
       " ⋮                        ⋮              ⋱       ⋮                        ⋮\n",
       " 3.0  3.0  3.0  3.0  3.0  3.0  3.0  3.0     3.0  3.0  3.0  3.0  3.0  3.0  3.0\n",
       " 3.0  3.0  3.0  3.0  3.0  3.0  3.0  3.0     3.0  3.0  3.0  3.0  3.0  3.0  3.0\n",
       " 3.0  3.0  3.0  3.0  3.0  3.0  3.0  3.0  …  3.0  3.0  3.0  3.0  3.0  3.0  3.0\n",
       " 3.0  3.0  3.0  3.0  3.0  3.0  3.0  3.0     3.0  3.0  3.0  3.0  3.0  3.0  3.0\n",
       " 3.0  3.0  3.0  3.0  3.0  3.0  3.0  3.0     3.0  3.0  3.0  3.0  3.0  3.0  3.0\n",
       " 3.0  3.0  3.0  3.0  3.0  3.0  3.0  3.0     3.0  3.0  3.0  3.0  3.0  3.0  3.0\n",
       " 3.0  3.0  3.0  3.0  3.0  3.0  3.0  3.0     3.0  3.0  3.0  3.0  3.0  3.0  3.0\n",
       " 3.0  3.0  3.0  3.0  3.0  3.0  3.0  3.0  …  3.0  3.0  3.0  3.0  3.0  3.0  3.0\n",
       " 3.0  3.0  3.0  3.0  3.0  3.0  3.0  3.0     3.0  3.0  3.0  3.0  3.0  3.0  3.0\n",
       " 3.0  3.0  3.0  3.0  3.0  3.0  3.0  3.0     3.0  3.0  3.0  3.0  3.0  3.0  3.0\n",
       " 3.0  3.0  3.0  3.0  3.0  3.0  3.0  3.0     3.0  3.0  3.0  3.0  3.0  3.0  3.0\n",
       " 3.0  3.0  3.0  3.0  3.0  3.0  3.0  3.0     3.0  3.0  3.0  3.0  3.0  3.0  3.0\n",
       "\n",
       "[:, :, 4] =\n",
       " 2.0  2.0  2.0  1.0  2.0  2.0  1.0  2.0  …  2.0  2.0  2.0  2.0  2.0  2.0  2.0\n",
       " 2.0  2.0  2.0  2.0  1.0  2.0  1.0  2.0     2.0  2.0  1.0  2.0  2.0  2.0  2.0\n",
       " 2.0  2.0  3.0  3.0  2.0  3.0  2.0  2.0     2.0  2.0  2.0  2.0  3.0  2.0  2.0\n",
       " 2.0  2.0  2.0  2.0  2.0  2.0  2.0  2.0     2.0  2.0  2.0  2.0  3.0  1.0  2.0\n",
       " 3.0  2.0  2.0  2.0  2.0  3.0  2.0  2.0     2.0  2.0  2.0  2.0  2.0  2.0  2.0\n",
       " 2.0  2.0  1.0  2.0  2.0  2.0  2.0  2.0  …  2.0  2.0  2.0  2.0  2.0  2.0  2.0\n",
       " 2.0  2.0  1.0  2.0  2.0  3.0  2.0  2.0     2.0  2.0  2.0  2.0  2.0  2.0  1.0\n",
       " 2.0  2.0  2.0  2.0  1.0  2.0  2.0  3.0     2.0  2.0  2.0  2.0  2.0  1.0  2.0\n",
       " 2.0  1.0  2.0  2.0  2.0  2.0  2.0  2.0     2.0  3.0  2.0  2.0  2.0  2.0  2.0\n",
       " 2.0  2.0  2.0  2.0  2.0  2.0  2.0  2.0     2.0  2.0  2.0  2.0  2.0  2.0  3.0\n",
       " 2.0  2.0  2.0  3.0  2.0  2.0  2.0  2.0  …  1.0  2.0  2.0  2.0  2.0  3.0  2.0\n",
       " 1.0  2.0  2.0  2.0  1.0  2.0  2.0  2.0     2.0  2.0  3.0  2.0  2.0  2.0  2.0\n",
       " 2.0  2.0  2.0  2.0  2.0  2.0  2.0  2.0     2.0  2.0  2.0  2.0  3.0  2.0  2.0\n",
       " ⋮                        ⋮              ⋱       ⋮                        ⋮\n",
       " 2.0  1.0  1.0  2.0  2.0  2.0  2.0  2.0     2.0  2.0  2.0  2.0  2.0  2.0  2.0\n",
       " 2.0  3.0  3.0  2.0  2.0  3.0  2.0  2.0     2.0  2.0  2.0  3.0  3.0  2.0  2.0\n",
       " 1.0  2.0  2.0  2.0  2.0  2.0  2.0  2.0  …  2.0  2.0  2.0  2.0  2.0  2.0  2.0\n",
       " 2.0  2.0  2.0  2.0  1.0  3.0  3.0  2.0     2.0  2.0  2.0  2.0  2.0  2.0  3.0\n",
       " 1.0  1.0  2.0  2.0  1.0  2.0  2.0  2.0     2.0  2.0  2.0  2.0  2.0  1.0  2.0\n",
       " 2.0  1.0  2.0  2.0  2.0  2.0  2.0  2.0     2.0  2.0  2.0  2.0  3.0  2.0  2.0\n",
       " 2.0  2.0  2.0  2.0  3.0  2.0  2.0  2.0     1.0  2.0  2.0  2.0  2.0  2.0  2.0\n",
       " 2.0  2.0  3.0  3.0  2.0  2.0  2.0  2.0  …  3.0  2.0  2.0  2.0  2.0  2.0  2.0\n",
       " 2.0  2.0  2.0  2.0  2.0  1.0  2.0  2.0     2.0  2.0  3.0  2.0  2.0  2.0  2.0\n",
       " 2.0  2.0  3.0  2.0  2.0  2.0  2.0  2.0     2.0  2.0  2.0  1.0  2.0  2.0  2.0\n",
       " 2.0  2.0  2.0  2.0  2.0  3.0  2.0  3.0     3.0  2.0  2.0  2.0  2.0  2.0  2.0\n",
       " 2.0  2.0  2.0  2.0  2.0  2.0  2.0  1.0     2.0  2.0  2.0  2.0  2.0  2.0  2.0\n",
       "\n",
       "[:, :, 5] =\n",
       " 2.0  1.0  1.0  1.0  1.0  1.0  1.0  1.0  …  2.0  2.0  1.0  2.0  2.0  1.0  2.0\n",
       " 1.0  2.0  1.0  1.0  1.0  1.0  1.0  2.0     2.0  2.0  1.0  2.0  2.0  1.0  1.0\n",
       " 1.0  1.0  3.0  2.0  1.0  2.0  1.0  2.0     1.0  1.0  2.0  2.0  2.0  2.0  1.0\n",
       " 1.0  1.0  2.0  1.0  1.0  2.0  2.0  1.0     2.0  2.0  2.0  2.0  2.0  1.0  1.0\n",
       " 3.0  1.0  1.0  2.0  2.0  3.0  2.0  2.0     2.0  1.0  1.0  2.0  2.0  1.0  1.0\n",
       " 1.0  2.0  1.0  1.0  1.0  1.0  1.0  2.0  …  2.0  2.0  1.0  1.0  2.0  2.0  2.0\n",
       " 2.0  2.0  1.0  1.0  2.0  2.0  1.0  2.0     1.0  1.0  1.0  1.0  2.0  1.0  1.0\n",
       " 1.0  1.0  2.0  2.0  1.0  1.0  2.0  2.0     1.0  1.0  2.0  1.0  1.0  1.0  1.0\n",
       " 1.0  1.0  1.0  1.0  1.0  2.0  1.0  1.0     1.0  3.0  1.0  2.0  2.0  1.0  1.0\n",
       " 2.0  1.0  1.0  1.0  2.0  2.0  1.0  2.0     2.0  2.0  1.0  2.0  1.0  1.0  1.0\n",
       " 2.0  2.0  2.0  1.0  1.0  1.0  2.0  1.0  …  1.0  1.0  1.0  2.0  1.0  3.0  1.0\n",
       " 1.0  2.0  1.0  1.0  1.0  1.0  2.0  2.0     2.0  1.0  1.0  1.0  1.0  2.0  1.0\n",
       " 2.0  1.0  2.0  2.0  2.0  1.0  1.0  1.0     2.0  1.0  1.0  2.0  3.0  2.0  1.0\n",
       " ⋮                        ⋮              ⋱       ⋮                        ⋮\n",
       " 2.0  1.0  1.0  1.0  2.0  1.0  1.0  1.0     1.0  2.0  1.0  1.0  2.0  2.0  1.0\n",
       " 2.0  1.0  2.0  1.0  1.0  2.0  2.0  1.0     2.0  2.0  1.0  2.0  2.0  2.0  1.0\n",
       " 1.0  2.0  2.0  2.0  1.0  2.0  1.0  1.0  …  2.0  2.0  1.0  2.0  1.0  2.0  1.0\n",
       " 1.0  2.0  1.0  2.0  1.0  2.0  2.0  2.0     2.0  1.0  1.0  1.0  1.0  2.0  2.0\n",
       " 1.0  1.0  1.0  1.0  1.0  1.0  1.0  1.0     1.0  1.0  2.0  2.0  2.0  1.0  2.0\n",
       " 1.0  1.0  1.0  1.0  1.0  2.0  1.0  1.0     2.0  1.0  1.0  1.0  2.0  2.0  2.0\n",
       " 2.0  1.0  1.0  2.0  1.0  1.0  2.0  2.0     1.0  1.0  2.0  1.0  1.0  2.0  1.0\n",
       " 2.0  1.0  1.0  3.0  1.0  2.0  1.0  2.0  …  3.0  1.0  1.0  2.0  2.0  1.0  2.0\n",
       " 2.0  2.0  2.0  1.0  1.0  1.0  1.0  2.0     1.0  2.0  3.0  2.0  2.0  1.0  2.0\n",
       " 1.0  2.0  1.0  2.0  2.0  2.0  2.0  2.0     1.0  2.0  2.0  1.0  2.0  1.0  2.0\n",
       " 1.0  1.0  2.0  1.0  1.0  2.0  2.0  3.0     1.0  2.0  2.0  1.0  1.0  2.0  2.0\n",
       " 1.0  1.0  2.0  1.0  2.0  2.0  1.0  1.0     2.0  1.0  1.0  2.0  2.0  1.0  2.0\n",
       "\n",
       "[:, :, 6] =\n",
       " 0.2  0.2  0.2  0.2  0.2  0.2  0.2  …  0.26  0.26  0.26  0.26  0.26  0.26\n",
       " 0.2  0.2  0.2  0.2  0.2  0.2  0.2     0.26  0.26  0.26  0.26  0.26  0.26\n",
       " 0.2  0.2  0.2  0.2  0.2  0.2  0.2     0.26  0.26  0.26  0.26  0.26  0.26\n",
       " 0.2  0.2  0.2  0.2  0.2  0.2  0.2     0.26  0.26  0.26  0.26  0.26  0.26\n",
       " 0.2  0.2  0.2  0.2  0.2  0.2  0.2     0.26  0.26  0.26  0.26  0.26  0.26\n",
       " 0.2  0.2  0.2  0.2  0.2  0.2  0.2  …  0.26  0.26  0.26  0.26  0.26  0.26\n",
       " 0.2  0.2  0.2  0.2  0.2  0.2  0.2     0.26  0.26  0.26  0.26  0.26  0.26\n",
       " 0.2  0.2  0.2  0.2  0.2  0.2  0.2     0.26  0.26  0.26  0.26  0.26  0.26\n",
       " 0.2  0.2  0.2  0.2  0.2  0.2  0.2     0.26  0.26  0.26  0.26  0.26  0.26\n",
       " 0.2  0.2  0.2  0.2  0.2  0.2  0.2     0.26  0.26  0.26  0.26  0.26  0.26\n",
       " 0.2  0.2  0.2  0.2  0.2  0.2  0.2  …  0.26  0.26  0.26  0.26  0.26  0.26\n",
       " 0.2  0.2  0.2  0.2  0.2  0.2  0.2     0.26  0.26  0.26  0.26  0.26  0.26\n",
       " 0.2  0.2  0.2  0.2  0.2  0.2  0.2     0.26  0.26  0.26  0.26  0.26  0.26\n",
       " ⋮                        ⋮         ⋱  ⋮                             ⋮\n",
       " 0.2  0.2  0.2  0.2  0.2  0.2  0.2     0.26  0.26  0.26  0.26  0.26  0.26\n",
       " 0.2  0.2  0.2  0.2  0.2  0.2  0.2     0.26  0.26  0.26  0.26  0.26  0.26\n",
       " 0.2  0.2  0.2  0.2  0.2  0.2  0.2  …  0.26  0.26  0.26  0.26  0.26  0.26\n",
       " 0.2  0.2  0.2  0.2  0.2  0.2  0.2     0.26  0.26  0.26  0.26  0.26  0.26\n",
       " 0.2  0.2  0.2  0.2  0.2  0.2  0.2     0.26  0.26  0.26  0.26  0.26  0.26\n",
       " 0.2  0.2  0.2  0.2  0.2  0.2  0.2     0.26  0.26  0.26  0.26  0.26  0.26\n",
       " 0.2  0.2  0.2  0.2  0.2  0.2  0.2     0.26  0.26  0.26  0.26  0.26  0.26\n",
       " 0.2  0.2  0.2  0.2  0.2  0.2  0.2  …  0.26  0.26  0.26  0.26  0.26  0.26\n",
       " 0.2  0.2  0.2  0.2  0.2  0.2  0.2     0.26  0.26  0.26  0.26  0.26  0.26\n",
       " 0.2  0.2  0.2  0.2  0.2  0.2  0.2     0.26  0.26  0.26  0.26  0.26  0.26\n",
       " 0.2  0.2  0.2  0.2  0.2  0.2  0.2     0.26  0.26  0.26  0.26  0.26  0.26\n",
       " 0.2  0.2  0.2  0.2  0.2  0.2  0.2     0.26  0.26  0.26  0.26  0.26  0.26\n",
       "\n",
       "[:, :, 7] =\n",
       " 0.8  0.8  0.8  0.8  0.8  0.8  0.8  …  0.74  0.74  0.74  0.74  0.74  0.74\n",
       " 0.8  0.8  0.8  0.8  0.8  0.8  0.8     0.74  0.74  0.74  0.74  0.74  0.74\n",
       " 0.8  0.8  0.8  0.8  0.8  0.8  0.8     0.74  0.74  0.74  0.74  0.74  0.74\n",
       " 0.8  0.8  0.8  0.8  0.8  0.8  0.8     0.74  0.74  0.74  0.74  0.74  0.74\n",
       " 0.8  0.8  0.8  0.8  0.8  0.8  0.8     0.74  0.74  0.74  0.74  0.74  0.74\n",
       " 0.8  0.8  0.8  0.8  0.8  0.8  0.8  …  0.74  0.74  0.74  0.74  0.74  0.74\n",
       " 0.8  0.8  0.8  0.8  0.8  0.8  0.8     0.74  0.74  0.74  0.74  0.74  0.74\n",
       " 0.8  0.8  0.8  0.8  0.8  0.8  0.8     0.74  0.74  0.74  0.74  0.74  0.74\n",
       " 0.8  0.8  0.8  0.8  0.8  0.8  0.8     0.74  0.74  0.74  0.74  0.74  0.74\n",
       " 0.8  0.8  0.8  0.8  0.8  0.8  0.8     0.74  0.74  0.74  0.74  0.74  0.74\n",
       " 0.8  0.8  0.8  0.8  0.8  0.8  0.8  …  0.74  0.74  0.74  0.74  0.74  0.74\n",
       " 0.8  0.8  0.8  0.8  0.8  0.8  0.8     0.74  0.74  0.74  0.74  0.74  0.74\n",
       " 0.8  0.8  0.8  0.8  0.8  0.8  0.8     0.74  0.74  0.74  0.74  0.74  0.74\n",
       " ⋮                        ⋮         ⋱  ⋮                             ⋮\n",
       " 0.8  0.8  0.8  0.8  0.8  0.8  0.8     0.74  0.74  0.74  0.74  0.74  0.74\n",
       " 0.8  0.8  0.8  0.8  0.8  0.8  0.8     0.74  0.74  0.74  0.74  0.74  0.74\n",
       " 0.8  0.8  0.8  0.8  0.8  0.8  0.8  …  0.74  0.74  0.74  0.74  0.74  0.74\n",
       " 0.8  0.8  0.8  0.8  0.8  0.8  0.8     0.74  0.74  0.74  0.74  0.74  0.74\n",
       " 0.8  0.8  0.8  0.8  0.8  0.8  0.8     0.74  0.74  0.74  0.74  0.74  0.74\n",
       " 0.8  0.8  0.8  0.8  0.8  0.8  0.8     0.74  0.74  0.74  0.74  0.74  0.74\n",
       " 0.8  0.8  0.8  0.8  0.8  0.8  0.8     0.74  0.74  0.74  0.74  0.74  0.74\n",
       " 0.8  0.8  0.8  0.8  0.8  0.8  0.8  …  0.74  0.74  0.74  0.74  0.74  0.74\n",
       " 0.8  0.8  0.8  0.8  0.8  0.8  0.8     0.74  0.74  0.74  0.74  0.74  0.74\n",
       " 0.8  0.8  0.8  0.8  0.8  0.8  0.8     0.74  0.74  0.74  0.74  0.74  0.74\n",
       " 0.8  0.8  0.8  0.8  0.8  0.8  0.8     0.74  0.74  0.74  0.74  0.74  0.74\n",
       " 0.8  0.8  0.8  0.8  0.8  0.8  0.8     0.74  0.74  0.74  0.74  0.74  0.74"
      ]
     },
     "execution_count": 12,
     "metadata": {},
     "output_type": "execute_result"
    }
   ],
   "source": [
    "#unit testing\n",
    "S = 40\n",
    "N = 66\n",
    "\n",
    "using Random\n",
    "\n",
    "Random.seed!(2021)\n",
    "\n",
    "Results = loop_simulations(S, N, game_parameters, simulation_parameters, data1, data2, A1, A2, n1)"
   ]
  },
  {
   "cell_type": "code",
   "execution_count": 13,
   "metadata": {},
   "outputs": [
    {
     "data": {
      "text/plain": [
       "66-element Array{Float64,1}:\n",
       " 0.3201555472138814\n",
       " 0.38612488321655103\n",
       " 0.0771035145145145\n",
       " 0.31307099431550245\n",
       " 0.4329865408742088\n",
       " 0.07788031664998332\n",
       " 0.31307099431550245\n",
       " 0.42004351051051203\n",
       " 0.3977578134801477\n",
       " 0.0774856873540207\n",
       " 0.4587420657324002\n",
       " 0.07747137303970637\n",
       " 0.31307099431550245\n",
       " ⋮\n",
       " 0.42666323690357016\n",
       " 1.0360560392500568\n",
       " 0.42820662028695367\n",
       " 0.24671963430096763\n",
       " 0.42674083983983974\n",
       " 1.1949235338672037\n",
       " 0.426002972305639\n",
       " 1.8930787057057108\n",
       " 0.4278878585251919\n",
       " 1.80043487821155\n",
       " 1.5885861494828202\n",
       " 0.4261583053053053"
      ]
     },
     "execution_count": 13,
     "metadata": {},
     "output_type": "execute_result"
    }
   ],
   "source": [
    "Results[1,:, 2]"
   ]
  },
  {
   "cell_type": "code",
   "execution_count": 14,
   "metadata": {},
   "outputs": [
    {
     "data": {
      "text/plain": [
       "66-element Array{Float64,1}:\n",
       " 0.7530709123738767\n",
       " 0.8099389243809609\n",
       " 0.16028725905588176\n",
       " 0.7753547427616335\n",
       " 0.8330936522720774\n",
       " 0.11694911900588131\n",
       " 0.7753547427616335\n",
       " 0.8287606258017313\n",
       " 0.8195559343684347\n",
       " 0.1336113703081168\n",
       " 0.8409056563590357\n",
       " 0.12267186694770328\n",
       " 0.7753547427616335\n",
       " ⋮\n",
       " 0.1975811108949428\n",
       " 0.7051234558238629\n",
       " 0.17284284284284265\n",
       " 0.27976976976976975\n",
       " 0.25364502199582295\n",
       " 0.7216012322560498\n",
       " 0.27252271900649616\n",
       " 0.8073059812812191\n",
       " 0.18998802281868316\n",
       " 0.7994175481028983\n",
       " 0.7786487241258467\n",
       " 0.2846875647804209"
      ]
     },
     "execution_count": 14,
     "metadata": {},
     "output_type": "execute_result"
    }
   ],
   "source": [
    "s=1\n",
    "\n",
    "\n",
    "x = Results[s,:, 2] ./ (Results[s, :, 1] .+ Results[s,:, 2])"
   ]
  },
  {
   "cell_type": "code",
   "execution_count": 15,
   "metadata": {},
   "outputs": [
    {
     "data": {
      "text/plain": [
       "Summary Stats:\n",
       "Length:         66\n",
       "Missing Count:  0\n",
       "Mean:           0.500426\n",
       "Minimum:        0.002912\n",
       "1st Quartile:   0.156272\n",
       "Median:         0.699496\n",
       "3rd Quartile:   0.817873\n",
       "Maximum:        0.958232\n"
      ]
     },
     "execution_count": 15,
     "metadata": {},
     "output_type": "execute_result"
    }
   ],
   "source": [
    "using StatsBase\n",
    "summarystats(x)"
   ]
  },
  {
   "cell_type": "code",
   "execution_count": 16,
   "metadata": {},
   "outputs": [
    {
     "data": {
      "text/plain": [
       "67:66"
      ]
     },
     "execution_count": 16,
     "metadata": {},
     "output_type": "execute_result"
    }
   ],
   "source": [
    "searchsorted(x, Inf)"
   ]
  },
  {
   "cell_type": "code",
   "execution_count": 17,
   "metadata": {},
   "outputs": [
    {
     "data": {
      "text/plain": [
       "(0.9582315105258679, 38)"
      ]
     },
     "execution_count": 17,
     "metadata": {},
     "output_type": "execute_result"
    }
   ],
   "source": [
    "findmax(x)"
   ]
  },
  {
   "cell_type": "code",
   "execution_count": 18,
   "metadata": {},
   "outputs": [
    {
     "data": {
      "text/plain": [
       "0.24236824569221913"
      ]
     },
     "execution_count": 18,
     "metadata": {},
     "output_type": "execute_result"
    }
   ],
   "source": [
    "x[26]"
   ]
  },
  {
   "cell_type": "code",
   "execution_count": 19,
   "metadata": {},
   "outputs": [
    {
     "data": {
      "text/plain": [
       "7-element Array{Float64,1}:\n",
       " 0.30580543043043124\n",
       " 0.0978279029029029\n",
       " 3.0\n",
       " 2.0\n",
       " 1.0\n",
       " 0.19999999999999996\n",
       " 0.8"
      ]
     },
     "execution_count": 19,
     "metadata": {},
     "output_type": "execute_result"
    }
   ],
   "source": [
    "Results[s, 26, :]"
   ]
  },
  {
   "cell_type": "code",
   "execution_count": 20,
   "metadata": {},
   "outputs": [
    {
     "data": {
      "text/plain": [
       "Float64[]"
      ]
     },
     "execution_count": 20,
     "metadata": {},
     "output_type": "execute_result"
    }
   ],
   "source": [
    "x[x .== Inf]"
   ]
  },
  {
   "cell_type": "code",
   "execution_count": 21,
   "metadata": {},
   "outputs": [
    {
     "data": {
      "text/plain": [
       "simulate_moments (generic function with 1 method)"
      ]
     },
     "execution_count": 21,
     "metadata": {},
     "output_type": "execute_result"
    }
   ],
   "source": [
    "function simulate_moments(S, N, game_parameters, simulation_parameters, data1, data2, A1, A2, n1)\n",
    "    \n",
    "    \n",
    "    Results = loop_simulations(S, N, game_parameters, simulation_parameters, data1, data2, A1, A2, n1)\n",
    "    \n",
    "    Moments = zeros(S, 8)\n",
    "    \n",
    "    μ = simulation_parameters[3]\n",
    "    for s in 1:S\n",
    "\n",
    "            DF = DataFrame()\n",
    "            DF.payoff_s = Results[s,:,1];\n",
    "            DF.payoff_j = Results[s,:,2];\n",
    "            DF.out = Results[s,:,3];\n",
    "            DF.t = Results[s,:,4];\n",
    "            DF.observed_proposals = Results[s,:,5];\n",
    "            DF.Ds = Results[s,:,6];\n",
    "            DF.Dj = Results[s,:,7];\n",
    "\n",
    "\n",
    "            DF.outcome = ifelse.(DF.out .==3.0, \"R\", \"L\");\n",
    "\n",
    "\n",
    "            #desfazendo o deslocamento no índice de t\n",
    "            DF.t = DF.t .- 1.0;\n",
    "\n",
    "            # DF.incourt = ifelse.(DF.t .> 0.0, \"incourt\", \"precourt\");\n",
    "\n",
    "            INCOURT = filter(DF -> DF.t .> 0.0, DF);\n",
    "            PRECOURT = filter(DF -> DF.t .<= 0.0, DF);\n",
    "\n",
    "            PRECOURT_REORG = filter(PRECOURT -> PRECOURT.outcome .== \"R\", PRECOURT)\n",
    "            INCOURT_REORG = filter(INCOURT -> INCOURT.outcome .== \"R\", INCOURT)\n",
    "\n",
    "            #cálculo dos momentos\n",
    "            #1. avg log number of months between observed proposals incourt\n",
    "\n",
    "            mm1 = INCOURT\n",
    "            mm1 = log.(mm1.t .* μ ./ mm1.observed_proposals)\n",
    "            mm1 = mean(mm1)\n",
    "\n",
    "            #2. fraction reorganized given that the case went into court\n",
    "\n",
    "            mm2 = size(INCOURT_REORG,1)/ size(INCOURT,1)\n",
    "\n",
    "            #3. ln duration of court cases in months\n",
    "\n",
    "            mm3 = INCOURT\n",
    "            mm3 = filter(mm3 -> mm3.t .> 0.0, mm3) #removendo os casos 0 para não poluir a média\n",
    "            mm3.t = mm3.t .* μ\n",
    "            mm3 = mean(log.(mm3.t)) #log here uses exp as base, so it's the same as ln\n",
    "\n",
    "            #4. fraction of cases incourt\n",
    "            mm4 = size(INCOURT,1) / size(DF, 1)\n",
    "\n",
    "            #5. avg recovery rate for senior given precourt REORGANIZATION\n",
    "\n",
    "            #aqui nós temos Ds, então é mais fácil. Preciso automatizar isso no código quando for tudo escalado\n",
    "\n",
    "            mm5 = PRECOURT_REORG\n",
    "            mm5.R_s = mm5.payoff_s ./ mm5.Ds\n",
    "            mm5 = mean(mm5.R_s)\n",
    "\n",
    "\n",
    "\n",
    "            #6. avg recovery rate for junior given precourt REORGANIZATION\n",
    "\n",
    "            #aqui nós temos Ds, então é mais fácil. Preciso automatizar isso no código quando for tudo escalado\n",
    "\n",
    "            mm6 = PRECOURT_REORG\n",
    "            mm6.R_j = mm6.payoff_j ./ mm6.Dj\n",
    "            mm6 = mean(mm6.R_j)\n",
    "\n",
    "\n",
    "            #7. junior avg fraction gain given incourt REORGANIZATION\n",
    "\n",
    "            mm7 = INCOURT_REORG\n",
    "            mm7 = mean(mm7.payoff_j ./ (mm7.payoff_j .+ mm7.payoff_s )) \n",
    "\n",
    "            #8. total recovery rate given incourt REORGANIZATION\n",
    "\n",
    "            mm8 = INCOURT_REORG\n",
    "            mm8 = mean( mm8.payoff_s .+ mm8.payoff_j)\n",
    "        \n",
    "        \n",
    "            Moments[s,:] .= [mm1, mm2, mm3, mm4, mm5, mm6, mm7, mm8]\n",
    "\n",
    "            \n",
    "            #if there are no INCOURT or no PRECOURT cases, it will return NaN\n",
    "            #thus, we replace it by zero\n",
    "            Moments[s,:] .= replace!(Moments[s,:], NaN=> zero(0.0))\n",
    "\n",
    "        end\n",
    "    return vec(mean(Moments, dims=1))\n",
    "end\n",
    "\n",
    "\n",
    "\n",
    "  "
   ]
  },
  {
   "cell_type": "code",
   "execution_count": 22,
   "metadata": {
    "scrolled": true
   },
   "outputs": [
    {
     "data": {
      "text/plain": [
       "8-element Array{Float64,1}:\n",
       " 2.161338484102158\n",
       " 0.9990181544688391\n",
       " 2.501323744848641\n",
       " 0.9160606060606059\n",
       " 0.6210676743787299\n",
       " 0.530673632229998\n",
       " 0.5187075096432191\n",
       " 0.8744112948626278"
      ]
     },
     "execution_count": 22,
     "metadata": {},
     "output_type": "execute_result"
    }
   ],
   "source": [
    "using Random\n",
    "\n",
    "Random.seed!(2021)\n",
    "\n",
    "#test\n",
    "S = 100\n",
    "N = 66\n",
    "\n",
    "simulated_moments = simulate_moments(S, N, game_parameters, simulation_parameters, data1, data2, A1, A2, n1)"
   ]
  },
  {
   "cell_type": "markdown",
   "metadata": {},
   "source": [
    "Calculando a matriz de pesos ótima com os resultados dessa estimação\n",
    "\n",
    "\n",
    "Two-step variance covariance estimator of W\n",
    "https://notes.quantecon.org/submission/5b3db2ceb9eab00015b89f93\n",
    "\n"
   ]
  },
  {
   "cell_type": "code",
   "execution_count": 23,
   "metadata": {},
   "outputs": [],
   "source": [
    "#data_moments\n",
    "data_moments = [2.11, 0.843, 2.76, 0.969, 0.6235, 0.5569, 0.773, 0.497];"
   ]
  },
  {
   "cell_type": "code",
   "execution_count": 25,
   "metadata": {},
   "outputs": [
    {
     "data": {
      "text/plain": [
       "omega (generic function with 1 method)"
      ]
     },
     "execution_count": 25,
     "metadata": {},
     "output_type": "execute_result"
    }
   ],
   "source": [
    "function omega(N, data_moments, simulated_moments)\n",
    "    \n",
    "    error = (simulated_moments .- data_moments) ./ data_moments\n",
    "    \n",
    "    omega = 1/N * error * transpose(error)\n",
    "    \n",
    "    return omega\n",
    "end"
   ]
  },
  {
   "cell_type": "code",
   "execution_count": 26,
   "metadata": {},
   "outputs": [
    {
     "data": {
      "text/plain": [
       "8×8 Array{Float64,2}:\n",
       "   9.0388     8.70989  -31.2876    3.70248  …  -6.94905  -54.6771    4.53942\n",
       "   8.70989    8.39296  -30.1491    3.56775     -6.69619  -52.6875    4.37424\n",
       " -31.2876   -30.1491   108.301   -12.8161      24.054    189.263   -15.7131\n",
       "   3.70248    3.56775  -12.8161    1.51661     -2.84648  -22.3969    1.85944\n",
       "  -5.0205    -4.83781   17.3783   -2.0565       3.85977   30.3698   -2.52137\n",
       "  -6.94905   -6.69619   24.054    -2.84648  …   5.34245   42.0359   -3.48992\n",
       " -54.6771   -52.6875   189.263   -22.3969      42.0359   330.75    -27.4596\n",
       "   4.53942    4.37424  -15.7131    1.85944     -3.48992  -27.4596    2.27976"
      ]
     },
     "execution_count": 26,
     "metadata": {},
     "output_type": "execute_result"
    }
   ],
   "source": [
    "W_2step = pinv(omega(N, data_moments, simulated_moments))"
   ]
  },
  {
   "cell_type": "code",
   "execution_count": 27,
   "metadata": {},
   "outputs": [
    {
     "data": {
      "text/plain": [
       "8-element Array{Float64,1}:\n",
       "   9.038796990009615\n",
       "   8.39295849540429\n",
       " 108.3013383421914\n",
       "   1.5166132469418885\n",
       "   2.7885804316048124\n",
       "   5.342451905470017\n",
       " 330.7497607555904\n",
       "   2.279764469905542"
      ]
     },
     "execution_count": 27,
     "metadata": {},
     "output_type": "execute_result"
    }
   ],
   "source": [
    "#pesos dados a cada um dos momentos\n",
    "diag(W_2step)"
   ]
  },
  {
   "cell_type": "markdown",
   "metadata": {},
   "source": [
    "Calculando a derivada dos momentos em relação aos parâmetros"
   ]
  },
  {
   "cell_type": "code",
   "execution_count": 16,
   "metadata": {},
   "outputs": [
    {
     "data": {
      "text/plain": [
       "simulate_new_moments (generic function with 1 method)"
      ]
     },
     "execution_count": 16,
     "metadata": {},
     "output_type": "execute_result"
    }
   ],
   "source": [
    "function simulate_new_moments(i, S, N, game_parameters, simulation_parameters, data1, data2, A1, A2, n1)\n",
    "    \n",
    "    \n",
    "    println(\"parameter \",i, game_parameters, simulation_parameters)\n",
    "        \n",
    "    θs0, θj0, μ = simulation_parameters;\n",
    "    θs0 = Int64(round(θs0, digits=0));\n",
    "    θj0 = Int64(round(θj0, digits=0));\n",
    "\n",
    "    λj = game_parameters[4];\n",
    "    new_simulated_moments = simulate_moments(S, N, game_parameters, simulation_parameters, data1, data2, A1, A2, n1) \n",
    "    \n",
    "    return new_simulated_moments\n",
    "end"
   ]
  },
  {
   "cell_type": "code",
   "execution_count": 22,
   "metadata": {},
   "outputs": [
    {
     "data": {
      "text/plain": [
       "derivative_moments (generic function with 1 method)"
      ]
     },
     "execution_count": 22,
     "metadata": {},
     "output_type": "execute_result"
    }
   ],
   "source": [
    " \n",
    "function derivative_moments(S, N, game_parameters, simulation_parameters, data1, data2, n1, aux)\n",
    "\n",
    "    \n",
    "    \n",
    "    \n",
    "    #https://en.wikibooks.org/wiki/Introduction_to_Numerical_Methods/Numerical_Differentiation\n",
    "    #backward divided difference method\n",
    "\n",
    "   \n",
    "\n",
    "\n",
    "    estimated_game_parameters = game_parameters\n",
    "    estimated_simulation_parameters = simulation_parameters\n",
    "\n",
    "\n",
    "\n",
    "    A2 = @spawnat aux solve_tree(data2, game_parameters)\n",
    "    A1 = solve_tree(data1, game_parameters)\n",
    "    A2 = fetch(A2)\n",
    "    \n",
    "    \n",
    "    \n",
    "    simulated_moments = simulate_moments(S, N, game_parameters, simulation_parameters, data1, data2, A1, A2, n1)\n",
    "\n",
    "    P = size(game_parameters,1)+size(simulation_parameters,1)\n",
    "    M = size(simulated_moments,1)\n",
    "    D = zeros(M, P)\n",
    "    \n",
    "    #porcentagem de variação no parâmetro\n",
    "    pct = 1/100\n",
    "    \n",
    "    for p in P:-1:1\n",
    "\n",
    "        if(p>size(game_parameters,1))\n",
    "\n",
    "            simulation_parameters = copy(estimated_simulation_parameters)\n",
    "            \n",
    "            delta = simulation_parameters[p-size(game_parameters,1)] * pct\n",
    "\n",
    "            simulation_parameters[p-size(game_parameters,1)] -= delta\n",
    "\n",
    "\n",
    "            if(p == 5 || p ==6) #para ajustar caso seja habilidade inicial de S ou de J\n",
    "                simulation_parameters[p-size(game_parameters,1)] = round(simulation_parameters[p-size(game_parameters,1)], digits=0)\n",
    "            end\n",
    "            \n",
    "            \n",
    "            #caso a variação percentual não seja suficiente para reduzir habilidades iniciais, delta será 1\n",
    "            if(simulation_parameters[p-size(game_parameters,1)] == estimated_simulation_parameters[p-size(game_parameters,1)])\n",
    "                delta = Int64(1)\n",
    "                \n",
    "                simulation_parameters[p-size(game_parameters,1)] -= delta\n",
    "            end\n",
    "\n",
    "            new_simulated_moments = simulate_new_moments(p, S, N, game_parameters, simulation_parameters, data1, data2, A1, A2, n1)\n",
    "\n",
    "            D[:, p] = (simulated_moments - new_simulated_moments) ./ delta\n",
    "            \n",
    "        else\n",
    "\n",
    "            #se for um parâmetro de jogo, precisa recalcular o jogo\n",
    "\n",
    "            game_parameters = copy(estimated_game_parameters)\n",
    "            \n",
    "            delta = game_parameters[p] * pct\n",
    "            game_parameters[p] -= delta\n",
    "\n",
    "            A2 = @spawnat aux solve_tree(data2, game_parameters)\n",
    "            A1 = solve_tree(data1, game_parameters)\n",
    "            A2 = fetch(A2)\n",
    "\n",
    "\n",
    "\n",
    "            new_simulated_moments = simulate_new_moments(p, S, N, game_parameters, simulation_parameters, data1, data2, A1, A2, n1)\n",
    "\n",
    "            D[:, p] = (simulated_moments - new_simulated_moments) ./ delta\n",
    "\n",
    "\n",
    "        end\n",
    "\n",
    "\n",
    "    end\n",
    "    \n",
    "    \n",
    "    \n",
    "    return D\n",
    "end\n",
    "    "
   ]
  },
  {
   "cell_type": "code",
   "execution_count": 23,
   "metadata": {},
   "outputs": [
    {
     "name": "stdout",
     "output_type": "stream",
     "text": [
      "227.226370 seconds (633.40 M allocations: 14.035 GiB      From worker 3:\t178.121535 seconds (575.54 M allocations: 12.754 GiB, 1.22% gc time)\n",
      ", 18.91% gc time)\n",
      "parameter 7[0.93, 9.48, 0.09, 0.96][49.0, 30.0, 3.1976999999999998]\n",
      "parameter 6[0.93, 9.48, 0.09, 0.96][49.0, 29.0, 3.23]\n",
      "parameter 5[0.93, 9.48, 0.09, 0.96][48.0, 30.0, 3.23]\n",
      "190.808640 seconds (633.40 M allocations: 14.035 GiB      From worker 3:\t179.294523 seconds (575.54 M allocations: 12.754 GiB, 1.49% gc time)\n",
      ", 1.19% gc time)\n",
      "parameter 4[0.93, 9.48, 0.09, 0.9503999999999999][48.0, 30.0, 3.23]\n",
      "212.133684 seconds (633.40 M allocations: 14.035 GiB      From worker 3:\t201.467756 seconds (575.54 M allocations: 12.754 GiB, 9.56% gc time)\n",
      ", 8.89% gc time)\n",
      "parameter 3[0.93, 9.48, 0.0891, 0.96][48.0, 30.0, 3.23]\n",
      "189.300016 seconds (633.40 M allocations: 14.035 GiB      From worker 3:\t177.332139 seconds (575.54 M allocations: 12.754 GiB, 1.12% gc time)\n",
      ", 1.24% gc time)\n",
      "parameter 2[0.93, 9.385200000000001, 0.09, 0.96][48.0, 30.0, 3.23]\n",
      "168.954576 seconds (575.54 M allocations: 12.754 GiB      From worker 3:\t155.634996 seconds (517.68 M allocations: 11.474 GiB, 1.22% gc time)\n",
      ", 1.26% gc time)\n",
      "parameter 1[0.9207000000000001, 9.48, 0.09, 0.96][48.0, 30.0, 3.23]\n"
     ]
    },
    {
     "data": {
      "text/plain": [
       "8×7 Array{Float64,2}:\n",
       "   3.70976  -0.644874   -21.6085     3.02036  …  -0.307611      0.0858687\n",
       "   0.0       0.0          0.0        0.0          0.0           0.0\n",
       "   4.99149  -0.216007   -23.7351    -1.67029     -0.0303217     0.308496\n",
       "  42.7175    1.14915      2.52525   -6.01326     -0.0689394    -0.178253\n",
       "  19.6266    1.50413    -33.759    -46.8697      -0.539904     -1.11351\n",
       "   6.56945   0.611586    63.1491     5.14358  …  -0.107467     -0.200658\n",
       "   4.8599    0.0120066    4.0913     1.5965      -0.000517378  -0.0786309\n",
       " -17.279    -0.341621     2.42621    1.47016      0.0218955    -0.0225637"
      ]
     },
     "execution_count": 23,
     "metadata": {},
     "output_type": "execute_result"
    }
   ],
   "source": [
    "Derivative = derivative_moments(S, N, game_parameters, simulation_parameters, data1, data2, n1, aux)"
   ]
  },
  {
   "cell_type": "code",
   "execution_count": 24,
   "metadata": {},
   "outputs": [
    {
     "data": {
      "text/plain": [
       "8-element Array{Float64,1}:\n",
       " -0.6448739051931223\n",
       "  0.0\n",
       " -0.2160071124595145\n",
       "  1.1491497250990939\n",
       "  1.5041330656219154\n",
       "  0.6115857257822519\n",
       "  0.01200656270729233\n",
       " -0.3416208581357861"
      ]
     },
     "execution_count": 24,
     "metadata": {},
     "output_type": "execute_result"
    }
   ],
   "source": [
    "Derivative[:,2]"
   ]
  },
  {
   "cell_type": "code",
   "execution_count": 25,
   "metadata": {},
   "outputs": [],
   "source": [
    "using DelimitedFiles\n",
    "\n",
    "writedlm( \"Derivative-nocd50_1pct.csv\",  Derivative, ',')"
   ]
  }
 ],
 "metadata": {
  "kernelspec": {
   "display_name": "Julia 1.5.3",
   "language": "julia",
   "name": "julia-1.5"
  },
  "language_info": {
   "file_extension": ".jl",
   "mimetype": "application/julia",
   "name": "julia",
   "version": "1.5.3"
  }
 },
 "nbformat": 4,
 "nbformat_minor": 4
}
