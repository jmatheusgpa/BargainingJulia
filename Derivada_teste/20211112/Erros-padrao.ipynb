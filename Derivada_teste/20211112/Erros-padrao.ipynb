{
 "cells": [
  {
   "cell_type": "markdown",
   "metadata": {},
   "source": [
    "Script para calcular os erros padrão com base na matriz de derivada calculada anteriormente"
   ]
  },
  {
   "cell_type": "code",
   "execution_count": 1,
   "metadata": {},
   "outputs": [],
   "source": [
    "using LinearAlgebra\n",
    "using DelimitedFiles"
   ]
  },
  {
   "cell_type": "markdown",
   "metadata": {},
   "source": [
    "As estimações foram feitas usando a matriz Identidade, então usaremos ela para calcular os erros-padrão"
   ]
  },
  {
   "cell_type": "code",
   "execution_count": 2,
   "metadata": {},
   "outputs": [
    {
     "data": {
      "text/plain": [
       "100"
      ]
     },
     "execution_count": 2,
     "metadata": {},
     "output_type": "execute_result"
    }
   ],
   "source": [
    "#número de simulações \n",
    "S = 100"
   ]
  },
  {
   "cell_type": "code",
   "execution_count": 3,
   "metadata": {},
   "outputs": [
    {
     "data": {
      "text/plain": [
       "9×9 Array{Float64,2}:\n",
       " 504739.0        -7.37773e5  …   5.82004e6   4.31208e6  -1.30073e6\n",
       "     -7.37773e5   1.1092e6      -8.67806e6  -6.4245e6    1.94857e6\n",
       "      5.3924e6   -8.04175e6      6.31246e7   4.677e7    -1.41587e7\n",
       "      2.23011e6  -3.32276e6      2.60853e7   1.93264e7  -5.84978e6\n",
       "      1.21021e7  -1.80194e7      1.4154e8    1.04895e8  -3.17407e7\n",
       "     -1.62709e7   2.42619e7  …  -1.90512e8  -1.41192e8   4.27353e7\n",
       "      5.82004e6  -8.67806e6      6.811e7     5.04519e7  -1.52749e7\n",
       "      4.31208e6  -6.4245e6       5.04519e7   3.7395e7   -1.13157e7\n",
       "     -1.30073e6   1.94857e6     -1.52749e7  -1.13157e7   3.42892e6"
      ]
     },
     "execution_count": 3,
     "metadata": {},
     "output_type": "execute_result"
    }
   ],
   "source": [
    "# n_moments = 9\n",
    "# W = Matrix{Int}(I, n_moments, n_moments)\n",
    "\n",
    "W = readdlm(\"WCluster.csv\", ',')"
   ]
  },
  {
   "cell_type": "code",
   "execution_count": 4,
   "metadata": {},
   "outputs": [
    {
     "data": {
      "text/plain": [
       "se (generic function with 1 method)"
      ]
     },
     "execution_count": 4,
     "metadata": {},
     "output_type": "execute_result"
    }
   ],
   "source": [
    "function se(D, W, S)\n",
    "    \n",
    "    #D is the derivative matrix\n",
    "    #W is the weighting matrix\n",
    "    #S is the number of simulations\n",
    "    \n",
    "    \n",
    "    Qs = (1 + 1/S) * inv((transpose(D) * W * D))\n",
    "    \n",
    "    \n",
    "    standard_error = sqrt.(diag(Qs))\n",
    "    \n",
    "    return standard_error\n",
    "end\n",
    "    "
   ]
  },
  {
   "cell_type": "code",
   "execution_count": 5,
   "metadata": {},
   "outputs": [
    {
     "data": {
      "text/plain": [
       "7-element Array{Float64,1}:\n",
       " 0.08270582908548255\n",
       " 8.294603486236301\n",
       " 0.03373340657568703\n",
       " 0.07414640633497468\n",
       " 0.9313662761487478\n",
       " 0.6711895177656158\n",
       " 3.6755174351120004"
      ]
     },
     "execution_count": 5,
     "metadata": {},
     "output_type": "execute_result"
    }
   ],
   "source": [
    "D = readdlm(\"D_game.csv\", ',')\n",
    "\n",
    "se_ze = se(D,W,S)"
   ]
  },
  {
   "cell_type": "code",
   "execution_count": 6,
   "metadata": {},
   "outputs": [
    {
     "data": {
      "text/plain": [
       "7×4 Array{Float64,2}:\n",
       " 0.93   0.0827058  0.884  0.006\n",
       " 7.856  8.2946     9.835  1.046\n",
       " 0.116  0.0337334  0.044  0.00867\n",
       " 0.99   0.0741464  0.346  0.088\n",
       " 0.35   0.931366   0.28   0.036\n",
       " 0.1    0.67119    0.36   0.016\n",
       " 2.387  3.67552    4.566  0.609"
      ]
     },
     "execution_count": 6,
     "metadata": {},
     "output_type": "execute_result"
    }
   ],
   "source": [
    "param_ze = [0.93, 7.856, 0.116, 0.99, 0.35, 0.1, 2.387];\n",
    "param_dou = [0.884, 9.835, 0.044, 0.346, 0.28, 0.36, 4.566]\n",
    "se_dou = [0.006, 1.046, 0.00867, 0.088, 0.036, 0.016, 0.609 ]\n",
    "\n",
    "hcat(param_ze, se_ze, param_dou, se_dou)"
   ]
  },
  {
   "cell_type": "code",
   "execution_count": 7,
   "metadata": {},
   "outputs": [
    {
     "data": {
      "text/plain": [
       "7-element Array{Float64,1}:\n",
       " 0.019108647407595936\n",
       " 2.2210313855460297\n",
       " 0.010719807140193459\n",
       " 0.009668971741563824\n",
       " 0.12777461749421934\n",
       " 0.1939140900328686\n",
       " 0.8859144592829125"
      ]
     },
     "execution_count": 7,
     "metadata": {},
     "output_type": "execute_result"
    }
   ],
   "source": [
    "D = readdlm(\"D_game_1pct.csv\", ',')\n",
    "\n",
    "se_ze = se(D,W,S)"
   ]
  },
  {
   "cell_type": "code",
   "execution_count": 8,
   "metadata": {},
   "outputs": [
    {
     "data": {
      "text/plain": [
       "7×4 Array{Float64,2}:\n",
       " 0.93   0.0191086   0.884  0.006\n",
       " 7.856  2.22103     9.835  1.046\n",
       " 0.116  0.0107198   0.044  0.00867\n",
       " 0.99   0.00966897  0.346  0.088\n",
       " 0.35   0.127775    0.28   0.036\n",
       " 0.1    0.193914    0.36   0.016\n",
       " 2.387  0.885914    4.566  0.609"
      ]
     },
     "execution_count": 8,
     "metadata": {},
     "output_type": "execute_result"
    }
   ],
   "source": [
    "hcat(param_ze, se_ze, param_dou, se_dou)"
   ]
  }
 ],
 "metadata": {
  "kernelspec": {
   "display_name": "Julia 1.5.3",
   "language": "julia",
   "name": "julia-1.5"
  },
  "language_info": {
   "file_extension": ".jl",
   "mimetype": "application/julia",
   "name": "julia",
   "version": "1.5.3"
  }
 },
 "nbformat": 4,
 "nbformat_minor": 4
}
