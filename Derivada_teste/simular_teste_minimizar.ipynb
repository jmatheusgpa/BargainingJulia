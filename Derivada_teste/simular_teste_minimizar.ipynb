{
 "cells": [
  {
   "cell_type": "markdown",
   "metadata": {},
   "source": [
    "Dou et al. (2020) model\n",
    "\n",
    "Agora em Julia versão 1.5.3\n",
    "\n",
    "This script simulates the model\n",
    "\n",
    "Calcula momentos a partir de parâmetros arbitrários a fim de testar o algoritmo de minimização."
   ]
  },
  {
   "cell_type": "code",
   "execution_count": 1,
   "metadata": {},
   "outputs": [],
   "source": [
    "using LinearAlgebra, Statistics\n",
    "\n",
    "using DataFrames\n",
    "using BenchmarkTools\n"
   ]
  },
  {
   "cell_type": "code",
   "execution_count": 2,
   "metadata": {},
   "outputs": [
    {
     "data": {
      "text/plain": [
       "3"
      ]
     },
     "execution_count": 2,
     "metadata": {},
     "output_type": "execute_result"
    }
   ],
   "source": [
    "using Distributed\n",
    "nprocs = 2\n",
    "addprocs(nprocs);\n",
    "\n",
    "@everywhere using NBInclude\n",
    "@everywhere @nbinclude(\"solve_model.ipynb\")\n",
    "\n",
    "#importou a função solve_tree\n",
    "\n",
    "pids = workers()\n",
    "aux = pids[nprocs]"
   ]
  },
  {
   "cell_type": "code",
   "execution_count": 3,
   "metadata": {},
   "outputs": [],
   "source": [
    "#Vh/D, L/D, Dj/D\n",
    "data1 = [0.86, 0.19, 0.8];\n",
    "n1 = 49\n",
    "\n",
    "data2 = [2.65, 0.69, 0.74];\n",
    "n2 = 17\n",
    "\n",
    "#ρ, β, c0, λj\n",
    "game_parameters = [0.7, 9.0, 0.1, 0.2];"
   ]
  },
  {
   "cell_type": "code",
   "execution_count": 4,
   "metadata": {},
   "outputs": [
    {
     "name": "stdout",
     "output_type": "stream",
     "text": [
      "132.274148 seconds (171.78 M allocations: 3.856 GiB      From worker 3:\t113.009988 seconds (142.85 M allocations: 3.216 GiB, 0.99% gc time)\n",
      ", 1.02% gc time)\n"
     ]
    }
   ],
   "source": [
    "A2 = @spawnat aux solve_tree(data2, game_parameters)\n",
    "\n",
    "A1 = solve_tree(data1, game_parameters);\n",
    "\n",
    "A2 = fetch(A2);"
   ]
  },
  {
   "cell_type": "markdown",
   "metadata": {},
   "source": [
    "Simulation parameters"
   ]
  },
  {
   "cell_type": "code",
   "execution_count": 5,
   "metadata": {},
   "outputs": [],
   "source": [
    "#θs0, θj0, μ\n",
    "simulation_parameters = [10.0, 10.0, 6.0];"
   ]
  },
  {
   "cell_type": "markdown",
   "metadata": {},
   "source": [
    "### Criando funções para simular o jogo"
   ]
  },
  {
   "cell_type": "code",
   "execution_count": 6,
   "metadata": {},
   "outputs": [
    {
     "data": {
      "text/plain": [
       "update_beliefs (generic function with 1 method)"
      ]
     },
     "execution_count": 6,
     "metadata": {},
     "output_type": "execute_result"
    }
   ],
   "source": [
    "function simulate_moments(U, S, N, game_parameters, simulation_parameters, data1, data2, A1, A2, n1)\n",
    "    \n",
    "\n",
    "    Results = loop_simulations(U, S, N, game_parameters, simulation_parameters, data1, data2, A1, A2, n1)\n",
    "\n",
    "    Moments = zeros(S, 8)\n",
    "\n",
    "    μ = simulation_parameters[3]\n",
    "    for s in 1:S\n",
    "\n",
    "        DF = DataFrame()\n",
    "        DF.payoff_s = Results[s,:,1];\n",
    "        DF.payoff_j = Results[s,:,2];\n",
    "        DF.out = Results[s,:,3];\n",
    "        DF.t = Results[s,:,4];\n",
    "        DF.observed_proposals = Results[s,:,5];\n",
    "        DF.Ds = Results[s,:,6];\n",
    "        DF.Dj = Results[s,:,7];\n",
    "\n",
    "\n",
    "        DF.outcome = ifelse.(DF.out .==3.0, \"R\", \"L\");\n",
    "\n",
    "\n",
    "        #desfazendo o deslocamento no índice de t\n",
    "        DF.t = DF.t .- 1.0;\n",
    "\n",
    "        # DF.incourt = ifelse.(DF.t .> 0.0, \"incourt\", \"precourt\");\n",
    "\n",
    "        INCOURT = filter(DF -> DF.t .> 0.0, DF);\n",
    "        PRECOURT = filter(DF -> DF.t .<= 0.0, DF);\n",
    "\n",
    "        REORG = filter(DF -> DF.outcome .== \"R\", DF);#casos reorganizados dentro e fora da corte\n",
    "\n",
    "        PRECOURT_REORG = filter(PRECOURT -> PRECOURT.outcome .== \"R\", PRECOURT)\n",
    "        INCOURT_REORG = filter(INCOURT -> INCOURT.outcome .== \"R\", INCOURT)\n",
    "\n",
    "        #cálculo dos momentos\n",
    "        #1. avg log number of months between observed proposals incourt\n",
    "\n",
    "        mm1 = INCOURT\n",
    "        mm1 = log.(mm1.t .* μ ./ mm1.observed_proposals)\n",
    "        mm1 = mean(mm1)\n",
    "\n",
    "        #2. fraction reorganized given that the case went into court\n",
    "\n",
    "        mm2 = INCOURT\n",
    "        mm2 = size(filter(mm2 -> mm2.outcome .== \"R\", mm2),1)/ size(mm2,1)\n",
    "\n",
    "        #3. ln duration of court cases in months\n",
    "\n",
    "        mm3 = INCOURT\n",
    "        mm3 = filter(mm3 -> mm3.t .> 0.0, mm3) #removendo os casos 0 para não poluir a média\n",
    "        mm3.t = mm3.t .* μ\n",
    "        mm3 = mean(log.(mm3.t)) #log here uses exp as base, so it's the same as ln\n",
    "\n",
    "        #4. fraction of cases incourt\n",
    "        mm4 = size(INCOURT,1) / size(DF, 1)\n",
    "\n",
    "        #5. avg recovery rate for S given a REORGANIZATION in the 25% fastest cases\n",
    "        q = 0.25 #quartil desejado\n",
    "\n",
    "        mm5 = REORG\n",
    "\n",
    "        if( size(mm5, 1) == 0) #se não tiver casos de reorganização dentro ou fora da corte, retorna zero\n",
    "            mm5 = 0.0\n",
    "            mm6 = 0.0\n",
    "        else\n",
    "\n",
    "            mm5.t = mm5.t .* μ #total duration\n",
    "            quartil = quantile(log.(mm5.t), q)\n",
    "\n",
    "            mm5 = filter(mm5 -> log.(mm5.t) .<= quartil, mm5)\n",
    "            mm5.R_s = mm5.payoff_s ./ mm5.Ds\n",
    "            mm5 = mean(mm5.R_s)\n",
    "\n",
    "            #6. avg recovery rate for J given a REORGANIZATION in the 25% fastest cases\n",
    "            mm6 = REORG\n",
    "            mm6 = filter(mm6 -> log.(mm6.t) .<= quartil, mm6)\n",
    "            mm6.R_j = mm6.payoff_j ./ mm6.Dj\n",
    "            mm6 = mean(mm6.R_j)\n",
    "\n",
    "        end\n",
    "\n",
    "\n",
    "        #7. junior avg fraction gain given incourt REORGANIZATION\n",
    "\n",
    "        mm7 = INCOURT_REORG\n",
    "        mm7 = mean( (mm7.payoff_j ./ (mm7.payoff_j .+ mm7.payoff_s ))  )\n",
    "\n",
    "        #8. total recovery rate given incourt REORGANIZATION\n",
    "\n",
    "        mm8 = INCOURT_REORG\n",
    "        mm8 = mean( mm8.payoff_s .+ mm8.payoff_j)\n",
    "\n",
    "        Moments[s,:] .= [mm1, mm2, mm3, mm4, mm5, mm6, mm7, mm8]\n",
    "\n",
    "\n",
    "        #if there are no INCOURT or no PRECOURT cases, it will return NaN\n",
    "        #thus, we replace it by zero\n",
    "        Moments[s,:] .= replace!(Moments[s,:], NaN=> zero(0.0))\n",
    "\n",
    "    end\n",
    "\n",
    "\n",
    "\n",
    "\n",
    "\n",
    "    #9. slope of the regression of log(recovery rate | incourt reorg) ~ log(duration)\n",
    "\n",
    "    #fazendo a regressão do nono momento fora do loop para poupar tempo\n",
    "    #isto é, ao invés de fazer uma regressão para cada simulação,\n",
    "    #faremos uma regressão só usando todas as simulações\n",
    "    df = DataFrame()\n",
    "\n",
    "    for s in 1:S\n",
    "        df_result = DataFrame(Results[s,:, 1:4])\n",
    "        append!(df, df_result)\n",
    "    end\n",
    "\n",
    "    rename!(df, [:x1, :x2, :x3, :x4] .=> [:payoff_s, :payoff_j, :out, :t])\n",
    "\n",
    "\n",
    "\n",
    "    #desfazendo o deslocamento no índice de t\n",
    "    df.t = df.t .- 1.0;\n",
    "\n",
    "    #keeping only incourt reorganizations\n",
    "    df = filter(df -> df.t .> 0.0, df);\n",
    "    df = filter(df -> df.out .== 3.0, df)\n",
    "\n",
    "\n",
    "    x = log.(df.payoff_s .+ df.payoff_j)\n",
    "\n",
    "    X = [ones(size(x,1)) x]\n",
    "\n",
    "    y = log.(df.t .* μ)\n",
    "\n",
    "    if(size(df, 1) == 0 || rank(X' * X) != size(X,2))\n",
    "        #the second condition is to make sure that (X' * X) is singular before calculating mm9\n",
    "        mm9 = zero(0.0)\n",
    "    else\n",
    "        mm9 = (X' * X) \\ (X' * y)\n",
    "        mm9 = mm9[2]\n",
    "    end\n",
    "\n",
    "\n",
    "    MM = vec(mean(Moments, dims=1))\n",
    "    MM = vcat(MM, mm9)\n",
    "\n",
    "    return MM\n",
    "\n",
    "end\n",
    "    \n",
    "    \n",
    "\n",
    "function loop_simulations(U, S, N, game_parameters, simulation_parameters, data1, data2, A1, A2, n1)\n",
    "\n",
    "\n",
    "    #U is an array if dimensions S x N x 120 of fixed draws of the uniform distribution\n",
    "        #120 is the upper bound of draws needed: 4 for each round (with cram dowm), maximum of 30 rounds\n",
    "    #S is the number of simulations\n",
    "    #N is the number of observations\n",
    "\n",
    "    #data1 is the center of the first cluster\n",
    "    #A1 is the collection of arrays from the first cluster (s_W, j_W, Pst, Pjt)\n",
    "    #n1 is the number of observations in the first cluster\n",
    "\n",
    "\n",
    "\n",
    "    #no futuro os argumentos podem ser arrays de arrays, assim ele faz o loop para cada cluster\n",
    "    Results = zeros(S, N, 7)\n",
    "\n",
    "    #últimas entradas de Results são os valores das dívidas\n",
    "\n",
    "\n",
    "    for s in 1:S\n",
    "        for n in 1:N\n",
    "            if(n <= n1)\n",
    "                Results[s,n,1:5] .= simulate_game(U[s,n,:], 1, data1, game_parameters, simulation_parameters, A1[1], A1[2], A1[3], A1[4])\n",
    "                Results[s,n, end-1] = A1[5]\n",
    "                Results[s,n, end] = A1[6]\n",
    "            else\n",
    "                Results[s,n,1:5] .= simulate_game(U[s,n,:], 1, data2, game_parameters, simulation_parameters, A2[1], A2[2], A2[3], A2[4])\n",
    "                Results[s,n, end-1] = A2[5]\n",
    "                Results[s,n, end] = A2[6]\n",
    "            end\n",
    "\n",
    "        end\n",
    "    end\n",
    "\n",
    "    return Results\n",
    "\n",
    "end\n",
    "\n",
    "\n",
    "function simulate_game(U_sn, draw, data, game_parameters, simulation_parameters, s_W=s_W, j_W=j_W, Pst_array=Pst_array, Pjt_array=Pjt_array, t=1, grid=100)\n",
    "\n",
    "\n",
    "    #U_sn is a vector of U made for simulation s of observation n\n",
    "\n",
    "#         Vmax = data[1]\n",
    "#         L = data[2]\n",
    "#         Dj = data[3]\n",
    "\n",
    "    Vmax, L, Dj = data\n",
    "    Ds = one(1.0) - Dj\n",
    "\n",
    "\n",
    "\n",
    "    β, ρ, c0, λj = game_parameters;\n",
    "    c1 = c0/30;\n",
    "\n",
    "#         c0 = game_parameters[3];\n",
    "#         c1 = c0/30;\n",
    "\n",
    "#         ρ = game_parameters[1];\n",
    "#         λj = game_parameters[4];\n",
    "\n",
    "\n",
    "#         draw = 1 #index to indicate which draw it is\n",
    "\n",
    "\n",
    "\n",
    "#     hst = Hs0\n",
    "#     hjt = Hj0\n",
    "\n",
    "    hst = Int64(simulation_parameters[1])\n",
    "    hjt = Int64(simulation_parameters[2])\n",
    "\n",
    "    #assumindo que lower bounds nos períodos iniciais são as próprias habilidades iniciais\n",
    "    lst = hst\n",
    "    ljt = hjt\n",
    "\n",
    "    result = zeros(5);\n",
    "\n",
    "    #number of observed proposals\n",
    "    observed_proposals = 0.0\n",
    "\n",
    "\n",
    "    #recovering \"T+1\" from s_W \n",
    "    T = size(s_W,1)\n",
    "\n",
    "\n",
    "\n",
    "\n",
    "    while(result[1]==0.0 && t < T)\n",
    "\n",
    "\n",
    "        #3 draws per turn\n",
    "        u1 = U_sn[draw]\n",
    "        draw+=1\n",
    "\n",
    "        u2 = U_sn[draw]\n",
    "        draw+=1\n",
    "\n",
    "        u3 = U_sn[draw]\n",
    "        draw+=1\n",
    "\n",
    "\n",
    "        if(u1 < λj)\n",
    "            propositor = \"j\"\n",
    "\n",
    "        else\n",
    "            propositor = \"s\"\n",
    "\n",
    "        end\n",
    "\n",
    "\n",
    "        #setting the default variables according to the propositor\n",
    "        Pkt_array, Cont_val, prop_index, respondent_index, m_L, hkt, lkt, hmt, lmt, lk_next, hk_next, hm_next = choose_parameters(u2, u3, propositor, hst, lst, hjt, ljt, Pst_array, Pjt_array, s_W, j_W)\n",
    "\n",
    "        #proposal ####\n",
    "        policy, payoff_prop, payment, lm_next = proposal(Pkt_array, t, hkt, lmt)\n",
    "\n",
    "        #lm_next is the update of the adversary's lower bound\n",
    "        if(lm_next>=grid+1 || policy!= 3.0) #para evitar update de lowerbound quando proponente não propõe reorg\n",
    "            lm_next = lmt\n",
    "        else\n",
    "            lm_next = Int64(lm_next)\n",
    "        end\n",
    "\n",
    "\n",
    "\n",
    "        if(policy==3.0)\n",
    "\n",
    "            observed_proposals += 1.0\n",
    "\n",
    "            payoff_respondent, answer = answer_reorg(payment, Cont_val, t, hm_next, lm_next, lk_next)\n",
    "\n",
    "\n",
    "            if(answer==1.0)\n",
    "\n",
    "                result[prop_index] = payoff_prop\n",
    "                result[respondent_index] = payoff_respondent\n",
    "                result[3] = 3.0\n",
    "                result[4] = t\n",
    "                result[5] = observed_proposals\n",
    "\n",
    "            else\n",
    "\n",
    "                t+=1\n",
    "\n",
    "                hst, lst, hjt, ljt = update_beliefs(propositor, hk_next, hm_next, lk_next, lm_next)\n",
    "            end\n",
    "\n",
    "        elseif(policy==2.0)\n",
    "\n",
    "            t+=1\n",
    "\n",
    "            hst, lst, hjt, ljt = update_beliefs(propositor, hk_next, hm_next, lk_next, lm_next)\n",
    "\n",
    "\n",
    "\n",
    "        else      \n",
    "            #(policy==1.0)\n",
    "\n",
    "            observed_proposals += 1.0\n",
    "\n",
    "            payoff_respondent, answer = answer_liq(m_L, t, hm_next, payoff_prop, L, Ds, Dj, Vmax, ρ, c0, c1)\n",
    "\n",
    "\n",
    "\n",
    "            if(answer==1.0)\n",
    "\n",
    "                result[prop_index] = payoff_prop\n",
    "                result[respondent_index] = payoff_respondent\n",
    "                result[3] = 1.0\n",
    "                result[4] = t\n",
    "                result[5] = observed_proposals\n",
    "\n",
    "            else\n",
    "\n",
    "                result[prop_index] = payoff_prop\n",
    "                result[respondent_index] = payoff_respondent\n",
    "                result[3] = 3.0\n",
    "                result[4] = t\n",
    "                result[5] = observed_proposals\n",
    "\n",
    "\n",
    "            end\n",
    "        end\n",
    "\n",
    "\n",
    "        if(t==T)\n",
    "\n",
    "            result[1] = s_W[T, 1, 1, 1]#todos os valores finais de S são iguais, então acessarei o índice 1\n",
    "            result[2] = j_W[T, 1, 1, 1]\n",
    "            result[3] = 1.0\n",
    "            result[4] = t\n",
    "            result[5] = max(observed_proposals, 1.0)\n",
    "\n",
    "        end\n",
    "\n",
    "\n",
    "\n",
    "\n",
    "\n",
    "    end\n",
    "\n",
    "\n",
    "    return result\n",
    "end\n",
    "\n",
    "\n",
    "function choose_parameters(u2, u3, propositor, hst, lst, hjt, ljt, Pst_array, Pjt_array, s_W, j_W)\n",
    "\n",
    "    if(propositor==\"s\")\n",
    "\n",
    "        Pkt_array = Pst_array\n",
    "        Cont_val = j_W\n",
    "        prop_index = 1\n",
    "        respondent_index = 2 #índice de j, para organizar o payoff\n",
    "        m_L = j_L\n",
    "\n",
    "        hkt = hst\n",
    "        lkt = lst\n",
    "\n",
    "        hmt = hjt\n",
    "        lmt = ljt\n",
    "\n",
    "\n",
    "        lk_next = hkt\n",
    "\n",
    "\n",
    "        hk_next = draw_beta(u2, hkt)\n",
    "        hm_next = draw_beta(u3, hmt)\n",
    "\n",
    "    else\n",
    "#             propositor==\"j\"\n",
    "        Pkt_array = Pjt_array\n",
    "        Cont_val = s_W\n",
    "        prop_index = 2\n",
    "        respondent_index = 1\n",
    "        m_L = s_L\n",
    "\n",
    "        hkt = hjt\n",
    "        lkt = ljt\n",
    "\n",
    "        hmt = hst\n",
    "        lmt = lst\n",
    "\n",
    "\n",
    "        lk_next = hkt\n",
    "\n",
    "\n",
    "        hk_next = draw_beta(u2, hkt)\n",
    "        hm_next = draw_beta(u3, hmt)\n",
    "    end\n",
    "\n",
    "    return Pkt_array, Cont_val, prop_index, respondent_index, m_L, hkt, lkt, hmt, lmt, lk_next, hk_next, hm_next\n",
    "end\n",
    "\n",
    "\n",
    "function draw_beta(u, hkt, β=game_parameters[2], grid=100)\n",
    "\n",
    "\n",
    "    if(hkt == grid)\n",
    "\n",
    "        return grid\n",
    "\n",
    "    else\n",
    "\n",
    "        x = 1.0 - exp(1.0/β * (log(1.0 - u) + β * log(1.0 - hkt/grid)))\n",
    "        x = round(x * grid, digits=0)\n",
    "#         return Int64(x * 100) #to convert in an integer\n",
    "        return Int64(x)\n",
    "\n",
    "    end\n",
    "end\n",
    "\n",
    "\n",
    "#cost function\n",
    "function Ct(t, c0=c0, c1=c1)\n",
    "\n",
    "    #didn't use D because is normalized to D == 1.0\n",
    "    #cost at period t=0(index1) is 0\n",
    "    if(t <= 1)\n",
    "        return 0\n",
    "    else\n",
    "        return c0 + c1 * (t-1) #test to make index==1 be t==0\n",
    "    end\n",
    "end\n",
    "\n",
    "\n",
    "\n",
    "#liquidation payoffs\n",
    "function s_L(t, L, Ds, Dj, c0, c1)\n",
    "    return min(L - Ct(t, c0, c1), Ds)\n",
    "end\n",
    "\n",
    "\n",
    "function j_L(t, L, Ds, Dj, c0, c1)\n",
    "    return min(L - Ct(t, c0, c1) - s_L(t, L, Ds, Dj, c0, c1), Dj)\n",
    "end\n",
    "\n",
    "\n",
    "function proposal(Pkt_array, t, hkt, lmt)\n",
    "\n",
    "    #pkt array será sempre do propositor, quem responder às propostas apenas olhará o seu valor de continuação\n",
    "\n",
    "    return policy, payoff_prop, payment, lm_next = Pkt_array[t, hkt, lmt, [end,end-1, 1, 2]]\n",
    "\n",
    "end\n",
    "\n",
    "\n",
    "#maximum value of reorganization each period\n",
    "function Vt(Vmax, ρ, t)\n",
    "\n",
    "    if(t <=1)\n",
    "        return Vmax\n",
    "    else\n",
    "        #(t-2) instead of (t-1) because we shifted the indexes in the game so as to include t==0 at index==1\n",
    "        return ρ^(t-2) * Vmax\n",
    "    end\n",
    "\n",
    "\n",
    "end\n",
    "\n",
    "# answer_liq\n",
    "function answer_liq(m_L, t, hm_next, payoff_prop, L, Ds, Dj, Vmax, ρ, c0, c1)\n",
    "\n",
    "    liq = (m_L(t, L, Ds, Dj, c0, c1), Vt(Vmax, ρ, t) * hm_next/100 - Ct(t, c0, c1) - payoff_prop)\n",
    "\n",
    "    payoff_liq, answer = findmax(liq)\n",
    "\n",
    "    return payoff_liq, answer\n",
    "end\n",
    "\n",
    "function answer_reorg(payment, Cont_val, t, hm_next, lm_next, lk_next)\n",
    "\n",
    "    reorg_value = (payment, Cont_val[t+1, hm_next, lm_next, lk_next])\n",
    "\n",
    "    payoff_reorg, answer = findmax(reorg_value)\n",
    "\n",
    "    return payoff_reorg, answer\n",
    "end\n",
    "\n",
    "function update_beliefs(propositor, hk_next, hm_next, lk_next, lm_next)\n",
    "\n",
    "    if(propositor==\"s\")\n",
    "        hst = hk_next\n",
    "        lst = lk_next\n",
    "\n",
    "        hjt = hm_next\n",
    "        ljt = lm_next\n",
    "\n",
    "    else\n",
    "        hst = hm_next\n",
    "        lst = lm_next\n",
    "\n",
    "        hjt = hk_next\n",
    "        ljt = lk_next\n",
    "    end\n",
    "\n",
    "\n",
    "    return hst, lst, hjt, ljt\n",
    "end"
   ]
  },
  {
   "cell_type": "code",
   "execution_count": 7,
   "metadata": {},
   "outputs": [],
   "source": [
    "#unit testing\n",
    "S = 100\n",
    "N = 66\n",
    "\n",
    "using DelimitedFiles\n",
    "\n",
    "U = readdlm(\"U.csv\", ',')\n",
    "U = reshape(U, (S, N, 120));"
   ]
  },
  {
   "cell_type": "code",
   "execution_count": 8,
   "metadata": {},
   "outputs": [
    {
     "name": "stdout",
     "output_type": "stream",
     "text": [
      "  9.999 μs (56 allocations: 3.05 KiB)\n"
     ]
    },
    {
     "data": {
      "text/plain": [
       "5-element Array{Float64,1}:\n",
       " 0.10211691916287892\n",
       " 0.0006189333333333332\n",
       " 3.0\n",
       " 3.0\n",
       " 1.0"
      ]
     },
     "execution_count": 8,
     "metadata": {},
     "output_type": "execute_result"
    }
   ],
   "source": [
    "#unit testing\n",
    "s = 1\n",
    "n = 1\n",
    "@btime simulate_game(U[s,n,:], 1, data1, game_parameters, simulation_parameters, A1[1], A1[2], A1[3], A1[4])"
   ]
  },
  {
   "cell_type": "code",
   "execution_count": 9,
   "metadata": {},
   "outputs": [
    {
     "data": {
      "text/plain": [
       "3-element Array{Float64,1}:\n",
       " 2.65\n",
       " 0.69\n",
       " 0.74"
      ]
     },
     "execution_count": 9,
     "metadata": {},
     "output_type": "execute_result"
    }
   ],
   "source": [
    "data2"
   ]
  },
  {
   "cell_type": "code",
   "execution_count": 10,
   "metadata": {},
   "outputs": [
    {
     "data": {
      "text/plain": [
       "100×66×7 Array{Float64,3}:\n",
       "[:, :, 1] =\n",
       " 0.102117   0.122221   0.0972567  …    0.418       0.26       66.1115\n",
       " 0.19       0.0766667  0.169208        0.6565      0.938843  104.749\n",
       " 0.19       0.19       0.19            0.260152    0.851623    0.26\n",
       " 0.19       0.19       0.0833333       0.26        0.524502    0.36351\n",
       " 0.19       0.19       0.19            0.421034    0.2855      0.26\n",
       " 0.0833333  0.19       0.19       …    0.260152    0.26        7.202\n",
       " 0.19       0.19       0.19            0.577       0.26        0.260052\n",
       " 0.122221   0.136576   0.19          946.176       0.26        0.26\n",
       " 0.0833333  0.19       0.19           12.449       0.26        0.26\n",
       " 0.19       0.19       0.19            4.1015    559.806      59.672\n",
       " 0.0905468  0.19       0.19       …  675.717       0.26        0.562097\n",
       " 0.19       0.19       0.19            4.5785     59.672       0.26\n",
       " 0.111732   0.19       0.19            0.26        0.26        0.45949\n",
       " ⋮                                ⋱                            ⋮\n",
       " 0.19       0.19       0.19            0.26        0.264148    0.26\n",
       " 0.08       0.19       0.19            0.26        0.26      149.825\n",
       " 0.19       0.08       0.19       …    0.3385      0.26        0.26\n",
       " 0.19       0.19       0.232817        0.26        0.26        0.303027\n",
       " 0.19       0.19       0.0833333       0.289336    0.26        0.26\n",
       " 0.0833333  0.19       0.19            0.265305    0.26        0.26\n",
       " 0.19       0.19       0.19            0.264752    0.347663    0.26\n",
       " 0.19       0.19       0.19       …    0.461915    0.345191    0.26\n",
       " 0.19       0.19       0.19            0.327271    0.26       13.6415\n",
       " 0.0833333  0.19       0.19            0.418       0.26        0.30405\n",
       " 0.0833333  0.19       0.19            0.327271    0.3385      0.26\n",
       " 0.19       0.19       0.19            0.314782    0.26        0.26\n",
       "\n",
       "[:, :, 2] =\n",
       "  0.000618933    0.00698803  0.27976    …     0.313333    0.32\n",
       "  0.0          394.782       0.0108143        0.363682    0.32\n",
       "  0.0            0.0         0.0              0.333474    0.313333\n",
       "  0.0            0.0         1.0484           0.343232    0.322351\n",
       "  0.0            0.197       0.0336           0.326667  965.552\n",
       "  2.132          0.0508      0.0078     …     0.313333    0.323333\n",
       "  0.0078         0.0         0.1196           0.313333    0.460398\n",
       "  0.00698803     0.00315178  0.0              0.43        0.313333\n",
       "  3.0608         0.0164      0.0              0.43        0.313333\n",
       "  0.0422         0.0         0.0              0.316667    0.32\n",
       "  0.00066988     0.0         0.0        …     0.326667    0.3567\n",
       "  0.0078         0.0         0.0              0.32        0.43\n",
       "  0.000739333    0.0         0.0              0.313333    0.324818\n",
       "  ⋮                                     ⋱                 ⋮\n",
       "  0.0            0.0         0.0              0.376538  965.552\n",
       " 21.4046         0.0         0.2486           0.313333    0.32\n",
       "  0.0           33.2468      0.0        …     0.313333    0.313333\n",
       "  0.0594         0.0         0.0251237      733.73        0.315469\n",
       "  0.111          0.0         1.2806           0.43        0.43\n",
       "  4.1444         0.1282      0.0              0.313333    0.43\n",
       "  0.0            0.0         0.0              0.314238    0.43\n",
       "  0.2658         0.0422      0.0        …     0.319591    0.313333\n",
       "  0.0422         0.0336      0.0              0.326667    0.323333\n",
       "  2.906          0.0         0.0              0.43        0.315469\n",
       "  2.906          0.0         0.154            0.326667    0.326667\n",
       "  0.0            0.0         0.0766        1371.24        0.313333\n",
       "\n",
       "[:, :, 3] =\n",
       " 3.0  3.0  3.0  3.0  1.0  3.0  1.0  1.0  …  3.0  3.0  3.0  1.0  3.0  1.0  3.0\n",
       " 1.0  3.0  3.0  1.0  3.0  1.0  3.0  1.0     3.0  3.0  3.0  3.0  3.0  3.0  3.0\n",
       " 1.0  1.0  1.0  1.0  3.0  3.0  1.0  3.0     3.0  1.0  3.0  3.0  3.0  3.0  1.0\n",
       " 1.0  1.0  3.0  1.0  3.0  3.0  3.0  1.0     3.0  1.0  3.0  3.0  1.0  3.0  3.0\n",
       " 1.0  3.0  3.0  3.0  3.0  1.0  1.0  3.0     3.0  3.0  1.0  1.0  3.0  3.0  3.0\n",
       " 3.0  3.0  3.0  3.0  1.0  1.0  1.0  1.0  …  3.0  3.0  3.0  3.0  3.0  1.0  3.0\n",
       " 3.0  1.0  3.0  1.0  1.0  3.0  3.0  3.0     3.0  3.0  3.0  3.0  3.0  1.0  3.0\n",
       " 3.0  3.0  1.0  1.0  3.0  1.0  1.0  1.0     3.0  3.0  1.0  1.0  3.0  1.0  1.0\n",
       " 3.0  3.0  1.0  3.0  3.0  3.0  1.0  1.0     3.0  1.0  3.0  3.0  3.0  1.0  1.0\n",
       " 3.0  1.0  1.0  1.0  1.0  3.0  1.0  1.0     1.0  1.0  1.0  3.0  3.0  3.0  3.0\n",
       " 3.0  1.0  1.0  1.0  3.0  3.0  1.0  3.0  …  3.0  1.0  3.0  1.0  3.0  1.0  3.0\n",
       " 3.0  1.0  1.0  3.0  3.0  1.0  3.0  3.0     3.0  3.0  3.0  3.0  3.0  3.0  1.0\n",
       " 3.0  1.0  1.0  3.0  1.0  3.0  3.0  1.0     3.0  3.0  3.0  3.0  1.0  1.0  3.0\n",
       " ⋮                        ⋮              ⋱       ⋮                        ⋮\n",
       " 1.0  1.0  1.0  1.0  1.0  3.0  3.0  1.0     3.0  1.0  1.0  1.0  1.0  3.0  3.0\n",
       " 3.0  1.0  3.0  1.0  1.0  3.0  3.0  3.0     3.0  3.0  3.0  3.0  3.0  1.0  3.0\n",
       " 1.0  3.0  1.0  3.0  1.0  3.0  3.0  1.0  …  1.0  3.0  3.0  3.0  3.0  1.0  1.0\n",
       " 3.0  1.0  3.0  3.0  3.0  1.0  1.0  3.0     3.0  3.0  1.0  3.0  1.0  3.0  3.0\n",
       " 3.0  1.0  3.0  3.0  3.0  3.0  1.0  1.0     3.0  1.0  3.0  1.0  3.0  1.0  1.0\n",
       " 3.0  3.0  1.0  3.0  3.0  1.0  3.0  1.0     3.0  3.0  1.0  1.0  3.0  1.0  1.0\n",
       " 1.0  1.0  1.0  1.0  1.0  1.0  1.0  3.0     3.0  1.0  1.0  1.0  3.0  3.0  1.0\n",
       " 3.0  3.0  1.0  1.0  1.0  3.0  3.0  1.0  …  1.0  1.0  1.0  3.0  3.0  3.0  1.0\n",
       " 3.0  3.0  1.0  3.0  1.0  1.0  3.0  1.0     1.0  3.0  3.0  3.0  3.0  1.0  3.0\n",
       " 3.0  1.0  1.0  3.0  1.0  1.0  1.0  3.0     3.0  1.0  1.0  3.0  3.0  1.0  3.0\n",
       " 3.0  1.0  3.0  3.0  1.0  1.0  1.0  1.0     1.0  1.0  3.0  3.0  3.0  3.0  1.0\n",
       " 1.0  1.0  3.0  3.0  1.0  1.0  3.0  3.0     3.0  3.0  1.0  3.0  3.0  3.0  1.0\n",
       "\n",
       "[:, :, 4] =\n",
       " 3.0  2.0  2.0  3.0  1.0  1.0  1.0  1.0  …  4.0  2.0  4.0  2.0  1.0  6.0  4.0\n",
       " 1.0  5.0  2.0  1.0  2.0  1.0  1.0  1.0     2.0  5.0  2.0  5.0  2.0  2.0  4.0\n",
       " 1.0  1.0  1.0  1.0  3.0  1.0  1.0  1.0     3.0  1.0  5.0  2.0  3.0  3.0  6.0\n",
       " 1.0  1.0  3.0  1.0  4.0  1.0  1.0  1.0     2.0  6.0  3.0  2.0  1.0  2.0  2.0\n",
       " 1.0  1.0  1.0  3.0  4.0  1.0  1.0  4.0     5.0  5.0  1.0  1.0  2.0  2.0  5.0\n",
       " 3.0  1.0  1.0  2.0  1.0  1.0  1.0  1.0  …  3.0  3.0  2.0  3.0  3.0  6.0  3.0\n",
       " 1.0  1.0  1.0  1.0  1.0  1.0  1.0  1.0     2.0  2.0  3.0  2.0  2.0  6.0  4.0\n",
       " 2.0  3.0  1.0  1.0  3.0  1.0  1.0  1.0     2.0  2.0  6.0  2.0  5.0  1.0  6.0\n",
       " 3.0  1.0  1.0  1.0  2.0  1.0  1.0  1.0     2.0  1.0  4.0  3.0  3.0  1.0  6.0\n",
       " 1.0  1.0  1.0  1.0  1.0  2.0  1.0  1.0     6.0  6.0  1.0  2.0  3.0  5.0  4.0\n",
       " 4.0  1.0  1.0  1.0  3.0  1.0  1.0  4.0  …  4.0  1.0  2.0  6.0  5.0  2.0  3.0\n",
       " 1.0  1.0  1.0  3.0  3.0  1.0  1.0  2.0     2.0  2.0  4.0  2.0  3.0  4.0  1.0\n",
       " 3.0  1.0  1.0  3.0  1.0  1.0  5.0  1.0     2.0  2.0  3.0  4.0  2.0  6.0  3.0\n",
       " ⋮                        ⋮              ⋱       ⋮                        ⋮\n",
       " 1.0  1.0  1.0  1.0  1.0  3.0  1.0  1.0     5.0  6.0  1.0  1.0  1.0  2.0  5.0\n",
       " 4.0  1.0  1.0  1.0  1.0  1.0  2.0  2.0     2.0  1.0  2.0  2.0  5.0  6.0  4.0\n",
       " 1.0  4.0  1.0  1.0  1.0  3.0  4.0  1.0  …  2.0  2.0  1.0  2.0  2.0  6.0  6.0\n",
       " 1.0  1.0  2.0  2.0  2.0  1.0  1.0  1.0     3.0  2.0  2.0  5.0  1.0  5.0  3.0\n",
       " 1.0  1.0  3.0  3.0  3.0  1.0  1.0  1.0     3.0  1.0  2.0  2.0  3.0  1.0  1.0\n",
       " 3.0  1.0  1.0  2.0  3.0  1.0  2.0  1.0     2.0  2.0  1.0  2.0  3.0  6.0  1.0\n",
       " 1.0  1.0  1.0  1.0  1.0  1.0  1.0  3.0     3.0  1.0  1.0  2.0  2.0  4.0  1.0\n",
       " 1.0  1.0  1.0  1.0  1.0  2.0  1.0  1.0  …  1.0  2.0  6.0  4.0  2.0  2.0  6.0\n",
       " 1.0  1.0  1.0  1.0  1.0  1.0  1.0  1.0     6.0  3.0  2.0  5.0  2.0  2.0  3.0\n",
       " 3.0  1.0  1.0  1.0  1.0  1.0  1.0  3.0     3.0  6.0  1.0  3.0  2.0  1.0  3.0\n",
       " 3.0  1.0  1.0  1.0  1.0  1.0  1.0  1.0     6.0  6.0  2.0  2.0  2.0  2.0  2.0\n",
       " 1.0  1.0  1.0  1.0  1.0  1.0  2.0  2.0     2.0  4.0  2.0  2.0  3.0  5.0  6.0\n",
       "\n",
       "[:, :, 5] =\n",
       " 1.0  1.0  1.0  1.0  1.0  1.0  1.0  1.0  …  1.0  1.0  2.0  1.0  1.0  1.0  1.0\n",
       " 1.0  4.0  1.0  1.0  1.0  1.0  1.0  1.0     1.0  1.0  1.0  1.0  1.0  1.0  1.0\n",
       " 1.0  1.0  1.0  1.0  2.0  1.0  1.0  1.0     1.0  1.0  1.0  1.0  1.0  2.0  1.0\n",
       " 1.0  1.0  1.0  1.0  2.0  1.0  1.0  1.0     1.0  1.0  1.0  1.0  1.0  1.0  1.0\n",
       " 1.0  1.0  1.0  2.0  1.0  1.0  1.0  2.0     1.0  1.0  1.0  1.0  1.0  1.0  1.0\n",
       " 2.0  1.0  1.0  1.0  1.0  1.0  1.0  1.0  …  1.0  2.0  1.0  1.0  2.0  1.0  1.0\n",
       " 1.0  1.0  1.0  1.0  1.0  1.0  1.0  1.0     1.0  1.0  1.0  1.0  1.0  1.0  3.0\n",
       " 1.0  1.0  1.0  1.0  2.0  1.0  1.0  1.0     1.0  1.0  1.0  1.0  1.0  1.0  1.0\n",
       " 1.0  1.0  1.0  1.0  1.0  1.0  1.0  1.0     1.0  1.0  1.0  2.0  1.0  1.0  1.0\n",
       " 1.0  1.0  1.0  1.0  1.0  1.0  1.0  1.0     1.0  1.0  1.0  1.0  1.0  1.0  1.0\n",
       " 1.0  1.0  1.0  1.0  1.0  1.0  1.0  1.0  …  2.0  1.0  1.0  1.0  1.0  1.0  2.0\n",
       " 1.0  1.0  1.0  1.0  1.0  1.0  1.0  1.0     1.0  1.0  1.0  1.0  1.0  2.0  1.0\n",
       " 1.0  1.0  1.0  1.0  1.0  1.0  1.0  1.0     1.0  1.0  1.0  1.0  1.0  1.0  2.0\n",
       " ⋮                        ⋮              ⋱       ⋮                        ⋮\n",
       " 1.0  1.0  1.0  1.0  1.0  1.0  1.0  1.0     1.0  1.0  1.0  1.0  1.0  1.0  1.0\n",
       " 1.0  1.0  1.0  1.0  1.0  1.0  1.0  1.0     1.0  1.0  1.0  1.0  2.0  1.0  2.0\n",
       " 1.0  1.0  1.0  1.0  1.0  1.0  3.0  1.0  …  1.0  1.0  1.0  1.0  1.0  1.0  1.0\n",
       " 1.0  1.0  1.0  1.0  1.0  1.0  1.0  1.0     1.0  1.0  1.0  1.0  1.0  1.0  2.0\n",
       " 1.0  1.0  1.0  1.0  1.0  1.0  1.0  1.0     1.0  1.0  1.0  1.0  2.0  1.0  1.0\n",
       " 1.0  1.0  1.0  1.0  1.0  1.0  1.0  1.0     1.0  1.0  1.0  1.0  2.0  1.0  1.0\n",
       " 1.0  1.0  1.0  1.0  1.0  1.0  1.0  1.0     2.0  1.0  1.0  1.0  1.0  3.0  1.0\n",
       " 1.0  1.0  1.0  1.0  1.0  1.0  1.0  1.0  …  1.0  1.0  1.0  1.0  1.0  1.0  1.0\n",
       " 1.0  1.0  1.0  1.0  1.0  1.0  1.0  1.0     1.0  1.0  1.0  1.0  1.0  1.0  1.0\n",
       " 2.0  1.0  1.0  1.0  1.0  1.0  1.0  2.0     1.0  1.0  1.0  1.0  1.0  1.0  2.0\n",
       " 1.0  1.0  1.0  1.0  1.0  1.0  1.0  1.0     1.0  1.0  1.0  1.0  1.0  1.0  1.0\n",
       " 1.0  1.0  1.0  1.0  1.0  1.0  1.0  1.0     1.0  1.0  1.0  1.0  2.0  1.0  2.0\n",
       "\n",
       "[:, :, 6] =\n",
       " 0.2  0.2  0.2  0.2  0.2  0.2  0.2  …  0.26  0.26  0.26  0.26  0.26  0.26\n",
       " 0.2  0.2  0.2  0.2  0.2  0.2  0.2     0.26  0.26  0.26  0.26  0.26  0.26\n",
       " 0.2  0.2  0.2  0.2  0.2  0.2  0.2     0.26  0.26  0.26  0.26  0.26  0.26\n",
       " 0.2  0.2  0.2  0.2  0.2  0.2  0.2     0.26  0.26  0.26  0.26  0.26  0.26\n",
       " 0.2  0.2  0.2  0.2  0.2  0.2  0.2     0.26  0.26  0.26  0.26  0.26  0.26\n",
       " 0.2  0.2  0.2  0.2  0.2  0.2  0.2  …  0.26  0.26  0.26  0.26  0.26  0.26\n",
       " 0.2  0.2  0.2  0.2  0.2  0.2  0.2     0.26  0.26  0.26  0.26  0.26  0.26\n",
       " 0.2  0.2  0.2  0.2  0.2  0.2  0.2     0.26  0.26  0.26  0.26  0.26  0.26\n",
       " 0.2  0.2  0.2  0.2  0.2  0.2  0.2     0.26  0.26  0.26  0.26  0.26  0.26\n",
       " 0.2  0.2  0.2  0.2  0.2  0.2  0.2     0.26  0.26  0.26  0.26  0.26  0.26\n",
       " 0.2  0.2  0.2  0.2  0.2  0.2  0.2  …  0.26  0.26  0.26  0.26  0.26  0.26\n",
       " 0.2  0.2  0.2  0.2  0.2  0.2  0.2     0.26  0.26  0.26  0.26  0.26  0.26\n",
       " 0.2  0.2  0.2  0.2  0.2  0.2  0.2     0.26  0.26  0.26  0.26  0.26  0.26\n",
       " ⋮                        ⋮         ⋱  ⋮                             ⋮\n",
       " 0.2  0.2  0.2  0.2  0.2  0.2  0.2     0.26  0.26  0.26  0.26  0.26  0.26\n",
       " 0.2  0.2  0.2  0.2  0.2  0.2  0.2     0.26  0.26  0.26  0.26  0.26  0.26\n",
       " 0.2  0.2  0.2  0.2  0.2  0.2  0.2  …  0.26  0.26  0.26  0.26  0.26  0.26\n",
       " 0.2  0.2  0.2  0.2  0.2  0.2  0.2     0.26  0.26  0.26  0.26  0.26  0.26\n",
       " 0.2  0.2  0.2  0.2  0.2  0.2  0.2     0.26  0.26  0.26  0.26  0.26  0.26\n",
       " 0.2  0.2  0.2  0.2  0.2  0.2  0.2     0.26  0.26  0.26  0.26  0.26  0.26\n",
       " 0.2  0.2  0.2  0.2  0.2  0.2  0.2     0.26  0.26  0.26  0.26  0.26  0.26\n",
       " 0.2  0.2  0.2  0.2  0.2  0.2  0.2  …  0.26  0.26  0.26  0.26  0.26  0.26\n",
       " 0.2  0.2  0.2  0.2  0.2  0.2  0.2     0.26  0.26  0.26  0.26  0.26  0.26\n",
       " 0.2  0.2  0.2  0.2  0.2  0.2  0.2     0.26  0.26  0.26  0.26  0.26  0.26\n",
       " 0.2  0.2  0.2  0.2  0.2  0.2  0.2     0.26  0.26  0.26  0.26  0.26  0.26\n",
       " 0.2  0.2  0.2  0.2  0.2  0.2  0.2     0.26  0.26  0.26  0.26  0.26  0.26\n",
       "\n",
       "[:, :, 7] =\n",
       " 0.8  0.8  0.8  0.8  0.8  0.8  0.8  …  0.74  0.74  0.74  0.74  0.74  0.74\n",
       " 0.8  0.8  0.8  0.8  0.8  0.8  0.8     0.74  0.74  0.74  0.74  0.74  0.74\n",
       " 0.8  0.8  0.8  0.8  0.8  0.8  0.8     0.74  0.74  0.74  0.74  0.74  0.74\n",
       " 0.8  0.8  0.8  0.8  0.8  0.8  0.8     0.74  0.74  0.74  0.74  0.74  0.74\n",
       " 0.8  0.8  0.8  0.8  0.8  0.8  0.8     0.74  0.74  0.74  0.74  0.74  0.74\n",
       " 0.8  0.8  0.8  0.8  0.8  0.8  0.8  …  0.74  0.74  0.74  0.74  0.74  0.74\n",
       " 0.8  0.8  0.8  0.8  0.8  0.8  0.8     0.74  0.74  0.74  0.74  0.74  0.74\n",
       " 0.8  0.8  0.8  0.8  0.8  0.8  0.8     0.74  0.74  0.74  0.74  0.74  0.74\n",
       " 0.8  0.8  0.8  0.8  0.8  0.8  0.8     0.74  0.74  0.74  0.74  0.74  0.74\n",
       " 0.8  0.8  0.8  0.8  0.8  0.8  0.8     0.74  0.74  0.74  0.74  0.74  0.74\n",
       " 0.8  0.8  0.8  0.8  0.8  0.8  0.8  …  0.74  0.74  0.74  0.74  0.74  0.74\n",
       " 0.8  0.8  0.8  0.8  0.8  0.8  0.8     0.74  0.74  0.74  0.74  0.74  0.74\n",
       " 0.8  0.8  0.8  0.8  0.8  0.8  0.8     0.74  0.74  0.74  0.74  0.74  0.74\n",
       " ⋮                        ⋮         ⋱  ⋮                             ⋮\n",
       " 0.8  0.8  0.8  0.8  0.8  0.8  0.8     0.74  0.74  0.74  0.74  0.74  0.74\n",
       " 0.8  0.8  0.8  0.8  0.8  0.8  0.8     0.74  0.74  0.74  0.74  0.74  0.74\n",
       " 0.8  0.8  0.8  0.8  0.8  0.8  0.8  …  0.74  0.74  0.74  0.74  0.74  0.74\n",
       " 0.8  0.8  0.8  0.8  0.8  0.8  0.8     0.74  0.74  0.74  0.74  0.74  0.74\n",
       " 0.8  0.8  0.8  0.8  0.8  0.8  0.8     0.74  0.74  0.74  0.74  0.74  0.74\n",
       " 0.8  0.8  0.8  0.8  0.8  0.8  0.8     0.74  0.74  0.74  0.74  0.74  0.74\n",
       " 0.8  0.8  0.8  0.8  0.8  0.8  0.8     0.74  0.74  0.74  0.74  0.74  0.74\n",
       " 0.8  0.8  0.8  0.8  0.8  0.8  0.8  …  0.74  0.74  0.74  0.74  0.74  0.74\n",
       " 0.8  0.8  0.8  0.8  0.8  0.8  0.8     0.74  0.74  0.74  0.74  0.74  0.74\n",
       " 0.8  0.8  0.8  0.8  0.8  0.8  0.8     0.74  0.74  0.74  0.74  0.74  0.74\n",
       " 0.8  0.8  0.8  0.8  0.8  0.8  0.8     0.74  0.74  0.74  0.74  0.74  0.74\n",
       " 0.8  0.8  0.8  0.8  0.8  0.8  0.8     0.74  0.74  0.74  0.74  0.74  0.74"
      ]
     },
     "execution_count": 10,
     "metadata": {},
     "output_type": "execute_result"
    }
   ],
   "source": [
    "Results = loop_simulations(U, S, N, game_parameters, simulation_parameters, data1, data2, A1, A2, n1)"
   ]
  },
  {
   "cell_type": "code",
   "execution_count": 18,
   "metadata": {},
   "outputs": [
    {
     "data": {
      "text/plain": [
       "(49,)"
      ]
     },
     "execution_count": 18,
     "metadata": {},
     "output_type": "execute_result"
    }
   ],
   "source": [
    "div = Results[s, :, 7]\n",
    "size(filter(div -> div .== 0.8, div))"
   ]
  },
  {
   "cell_type": "code",
   "execution_count": 19,
   "metadata": {},
   "outputs": [],
   "source": [
    "μ = simulation_parameters[3]\n",
    "\n",
    "DF = DataFrame()\n",
    "DF.payoff_s = Results[s,:,1];\n",
    "DF.payoff_j = Results[s,:,2];\n",
    "DF.out = Results[s,:,3];\n",
    "DF.t = Results[s,:,4];\n",
    "DF.observed_proposals = Results[s,:,5];\n",
    "DF.Ds = Results[s,:,6];\n",
    "DF.Dj = Results[s,:,7];"
   ]
  },
  {
   "cell_type": "code",
   "execution_count": 20,
   "metadata": {},
   "outputs": [
    {
     "data": {
      "text/plain": [
       "(66.1115, 66)"
      ]
     },
     "execution_count": 20,
     "metadata": {},
     "output_type": "execute_result"
    }
   ],
   "source": [
    "findmax(DF.payoff_s)"
   ]
  },
  {
   "cell_type": "code",
   "execution_count": 21,
   "metadata": {},
   "outputs": [
    {
     "data": {
      "text/html": [
       "<p>DataFrameRow (7 columns)</p><table class=\"data-frame\"><thead><tr><th></th><th>payoff_s</th><th>payoff_j</th><th>out</th><th>t</th><th>observed_proposals</th><th>Ds</th><th>Dj</th></tr><tr><th></th><th>Float64</th><th>Float64</th><th>Float64</th><th>Float64</th><th>Float64</th><th>Float64</th><th>Float64</th></tr></thead><tbody><tr><th>66</th><td>66.1115</td><td>0.32</td><td>3.0</td><td>4.0</td><td>1.0</td><td>0.26</td><td>0.74</td></tr></tbody></table>"
      ],
      "text/latex": [
       "\\begin{tabular}{r|ccccccc}\n",
       "\t& payoff\\_s & payoff\\_j & out & t & observed\\_proposals & Ds & Dj\\\\\n",
       "\t\\hline\n",
       "\t& Float64 & Float64 & Float64 & Float64 & Float64 & Float64 & Float64\\\\\n",
       "\t\\hline\n",
       "\t66 & 66.1115 & 0.32 & 3.0 & 4.0 & 1.0 & 0.26 & 0.74 \\\\\n",
       "\\end{tabular}\n"
      ],
      "text/plain": [
       "DataFrameRow. Omitted printing of 1 columns\n",
       "│ Row │ payoff_s │ payoff_j │ out     │ t       │ observed_proposals │ Ds      │\n",
       "│     │ \u001b[90mFloat64\u001b[39m  │ \u001b[90mFloat64\u001b[39m  │ \u001b[90mFloat64\u001b[39m │ \u001b[90mFloat64\u001b[39m │ \u001b[90mFloat64\u001b[39m            │ \u001b[90mFloat64\u001b[39m │\n",
       "├─────┼──────────┼──────────┼─────────┼─────────┼────────────────────┼─────────┤\n",
       "│ 66  │ 66.1115  │ 0.32     │ 3.0     │ 4.0     │ 1.0                │ 0.26    │"
      ]
     },
     "execution_count": 21,
     "metadata": {},
     "output_type": "execute_result"
    }
   ],
   "source": [
    "DF[66, :]"
   ]
  },
  {
   "cell_type": "code",
   "execution_count": 22,
   "metadata": {},
   "outputs": [
    {
     "data": {
      "text/plain": [
       "5-element Array{Float64,1}:\n",
       " 66.1115\n",
       "  0.31999999999999995\n",
       "  3.0\n",
       "  4.0\n",
       "  1.0"
      ]
     },
     "execution_count": 22,
     "metadata": {},
     "output_type": "execute_result"
    }
   ],
   "source": [
    "#note que n = 60 > n1 = 17\n",
    "simulate_game(U[s, 66,:], 1, data2, game_parameters, simulation_parameters, A2[1], A2[2], A2[3], A2[4])"
   ]
  },
  {
   "cell_type": "code",
   "execution_count": 36,
   "metadata": {},
   "outputs": [
    {
     "data": {
      "text/plain": [
       "6-element Array{Float64,1}:\n",
       "   0.3139062153820486\n",
       " 101.0\n",
       "   0.4817104512846178\n",
       "   0.26\n",
       "   0.4817104512846178\n",
       "   3.0"
      ]
     },
     "execution_count": 36,
     "metadata": {},
     "output_type": "execute_result"
    }
   ],
   "source": [
    "A2[3][5, 100, 100, :]"
   ]
  },
  {
   "cell_type": "code",
   "execution_count": 23,
   "metadata": {},
   "outputs": [
    {
     "data": {
      "text/plain": [
       "100"
      ]
     },
     "execution_count": 23,
     "metadata": {},
     "output_type": "execute_result"
    }
   ],
   "source": [
    "#dissecando simulate_game\n",
    "# function simulate_game(U_sn, draw, data, game_parameters, simulation_parameters, s_W=s_W, j_W=j_W, Pst_array=Pst_array, Pjt_array=Pjt_array, t=1, grid=100)\n",
    "\n",
    "\n",
    "U_sn = U[s, 66, :]\n",
    "draw = 1\n",
    "data = data2\n",
    "game_parameters\n",
    "simulation_parameters\n",
    "s_W=A2[1]\n",
    "j_W=A2[2]\n",
    "Pst_array=A2[3]\n",
    "Pjt_array=A2[4]\n",
    "t=1\n",
    "grid=100"
   ]
  },
  {
   "cell_type": "code",
   "execution_count": 25,
   "metadata": {},
   "outputs": [
    {
     "name": "stdout",
     "output_type": "stream",
     "text": [
      "(Vmax, L, Dj) = data = [2.65, 0.69, 0.74]\n"
     ]
    },
    {
     "data": {
      "text/plain": [
       "0.26"
      ]
     },
     "execution_count": 25,
     "metadata": {},
     "output_type": "execute_result"
    }
   ],
   "source": [
    "#U_sn is a vector of U made for simulation s of observation n\n",
    "\n",
    "#         Vmax = data[1]\n",
    "#         L = data[2]\n",
    "#         Dj = data[3]\n",
    "\n",
    "@show Vmax, L, Dj = data\n",
    "Ds = one(1.0) - Dj"
   ]
  },
  {
   "cell_type": "code",
   "execution_count": 26,
   "metadata": {},
   "outputs": [
    {
     "data": {
      "text/plain": [
       "0.74"
      ]
     },
     "execution_count": 26,
     "metadata": {},
     "output_type": "execute_result"
    }
   ],
   "source": [
    "Dj"
   ]
  },
  {
   "cell_type": "code",
   "execution_count": 27,
   "metadata": {},
   "outputs": [
    {
     "name": "stdout",
     "output_type": "stream",
     "text": [
      "(β, ρ, c0, λj) = game_parameters = [0.7, 9.0, 0.1, 0.2]\n"
     ]
    },
    {
     "data": {
      "text/plain": [
       "0.7"
      ]
     },
     "execution_count": 27,
     "metadata": {},
     "output_type": "execute_result"
    }
   ],
   "source": [
    "@show β, ρ, c0, λj = game_parameters;\n",
    "\n",
    "β"
   ]
  },
  {
   "cell_type": "code",
   "execution_count": 31,
   "metadata": {},
   "outputs": [
    {
     "data": {
      "text/plain": [
       "0.0033333333333333335"
      ]
     },
     "execution_count": 31,
     "metadata": {},
     "output_type": "execute_result"
    }
   ],
   "source": [
    "c1 = c0/30"
   ]
  },
  {
   "cell_type": "code",
   "execution_count": 32,
   "metadata": {},
   "outputs": [
    {
     "data": {
      "text/plain": [
       "0.1"
      ]
     },
     "execution_count": 32,
     "metadata": {},
     "output_type": "execute_result"
    }
   ],
   "source": [
    "c0"
   ]
  },
  {
   "cell_type": "code",
   "execution_count": 76,
   "metadata": {},
   "outputs": [
    {
     "name": "stdout",
     "output_type": "stream",
     "text": [
      "hst = Int64(simulation_parameters[1]) = 10\n",
      "hjt = Int64(simulation_parameters[2]) = 10\n"
     ]
    },
    {
     "data": {
      "text/plain": [
       "10"
      ]
     },
     "execution_count": 76,
     "metadata": {},
     "output_type": "execute_result"
    }
   ],
   "source": [
    "@show hst = Int64(simulation_parameters[1])\n",
    "@show hjt = Int64(simulation_parameters[2])"
   ]
  },
  {
   "cell_type": "code",
   "execution_count": 77,
   "metadata": {},
   "outputs": [
    {
     "data": {
      "text/plain": [
       "1"
      ]
     },
     "execution_count": 77,
     "metadata": {},
     "output_type": "execute_result"
    }
   ],
   "source": [
    "#assumindo que lower bounds nos períodos iniciais são as próprias habilidades iniciais\n",
    "lst = hst\n",
    "ljt = hjt\n",
    "\n",
    "result = zeros(5);\n",
    "\n",
    "#number of observed proposals\n",
    "observed_proposals = 0.0\n",
    "\n",
    "\n",
    "#recovering \"T+1\" from s_W \n",
    "T = size(s_W,1)\n",
    "t = 1\n",
    "draw = 1"
   ]
  },
  {
   "cell_type": "code",
   "execution_count": 78,
   "metadata": {},
   "outputs": [
    {
     "data": {
      "text/plain": [
       "5-element Array{Float64,1}:\n",
       " 0.0\n",
       " 0.0\n",
       " 0.0\n",
       " 0.0\n",
       " 0.0"
      ]
     },
     "execution_count": 78,
     "metadata": {},
     "output_type": "execute_result"
    }
   ],
   "source": [
    "result"
   ]
  },
  {
   "cell_type": "code",
   "execution_count": 79,
   "metadata": {},
   "outputs": [],
   "source": [
    "#debugar o código na mão aqui"
   ]
  },
  {
   "cell_type": "code",
   "execution_count": 129,
   "metadata": {},
   "outputs": [
    {
     "data": {
      "text/plain": [
       "13"
      ]
     },
     "execution_count": 129,
     "metadata": {},
     "output_type": "execute_result"
    }
   ],
   "source": [
    "# while(result[1]==0.0 && t < T)\n",
    "\n",
    "\n",
    "#3 draws per turn\n",
    "u1 = U_sn[draw]\n",
    "draw+=1\n",
    "\n",
    "u2 = U_sn[draw]\n",
    "draw+=1\n",
    "\n",
    "u3 = U_sn[draw]\n",
    "draw+=1"
   ]
  },
  {
   "cell_type": "code",
   "execution_count": 130,
   "metadata": {},
   "outputs": [
    {
     "name": "stdout",
     "output_type": "stream",
     "text": [
      "(u1, u2, u3) = (0.08140944839632236, 0.8786511433159945, 0.4704838390908961)\n"
     ]
    },
    {
     "data": {
      "text/plain": [
       "(0.08140944839632236, 0.8786511433159945, 0.4704838390908961)"
      ]
     },
     "execution_count": 130,
     "metadata": {},
     "output_type": "execute_result"
    }
   ],
   "source": [
    "@show u1, u2, u3"
   ]
  },
  {
   "cell_type": "code",
   "execution_count": 131,
   "metadata": {},
   "outputs": [
    {
     "data": {
      "text/plain": [
       "0.2"
      ]
     },
     "execution_count": 131,
     "metadata": {},
     "output_type": "execute_result"
    }
   ],
   "source": [
    "λj"
   ]
  },
  {
   "cell_type": "code",
   "execution_count": 132,
   "metadata": {},
   "outputs": [
    {
     "data": {
      "text/plain": [
       "\"j\""
      ]
     },
     "execution_count": 132,
     "metadata": {},
     "output_type": "execute_result"
    }
   ],
   "source": [
    "if(u1 < λj)\n",
    "    propositor = \"j\"\n",
    "\n",
    "else\n",
    "    propositor = \"s\"\n",
    "\n",
    "end"
   ]
  },
  {
   "cell_type": "code",
   "execution_count": 133,
   "metadata": {},
   "outputs": [
    {
     "data": {
      "text/plain": [
       "([-2.65 -2.65 … 0.3530826576576576 0.3462507507507508; -2.65 -2.65 … 0.2897308725392059 0.287780980980981; … ; -2.65 -2.65 … 0.26083724729729724 0.26022082582582573; -2.65 -2.65 … 0.26016807029529526 0.26005276292959617]\n",
       "\n",
       "[-2.65 -2.65 … 0.3530826576576576 0.3462507507507508; -2.65 -2.65 … 0.2897308725392059 0.287780980980981; … ; -2.65 -2.65 … 0.26083724729729724 0.26022082582582573; -2.65 -2.65 … 0.26016807029529526 0.26005276292959617]\n",
       "\n",
       "[-2.65 -2.65 … 0.3530826576576576 0.35404954954954954; -2.65 -2.65 … 0.2897308725392059 0.287780980980981; … ; -2.65 -2.65 … 0.26083724729729724 0.26022082582582573; -2.65 -2.65 … 0.26016807029529526 0.26005276292959617]\n",
       "\n",
       "...\n",
       "\n",
       "[-2.65 -2.65 … 1.7762854504504504 1.7760305305305308; -2.65 -2.65 … 1.1698467350684016 1.1696567233900566; … ; -2.65 -2.65 … 0.42458566311311297 0.42461214714714707; -2.65 -2.65 … 0.26016807029529526 0.26005276292959617]\n",
       "\n",
       "[-2.65 -2.65 … 1.7943006756756759 1.7942277277277277; -2.65 -2.65 … 1.1698467350684016 1.1696567233900566; … ; -2.65 -2.65 … 0.42458566311311297 0.42461214714714707; -2.65 -2.65 … 0.26016807029529526 0.26005276292959617]\n",
       "\n",
       "[-2.65 -2.65 … 1.8148895045045044 1.8150245245245247; -2.65 -2.65 … 1.1822079129129128 1.1821478812145476; … ; -2.65 -2.65 … 0.4315046102602601 0.4316075225225223; -2.65 -2.65 … 0.26016807029529526 0.26005276292959617]\n",
       "\n",
       "[102.0 102.0 … 32.0 31.0; 102.0 102.0 … 40.0 40.0; … ; 102.0 102.0 … 74.0 73.0; 102.0 102.0 … 101.0 101.0]\n",
       "\n",
       "[102.0 102.0 … 32.0 31.0; 102.0 102.0 … 40.0 40.0; … ; 102.0 102.0 … 74.0 73.0; 102.0 102.0 … 101.0 101.0]\n",
       "\n",
       "[102.0 102.0 … 32.0 32.0; 102.0 102.0 … 40.0 40.0; … ; 102.0 102.0 … 74.0 73.0; 102.0 102.0 … 101.0 101.0]\n",
       "\n",
       "...\n",
       "\n",
       "[102.0 102.0 … 98.0 98.0; 102.0 102.0 … 99.0 99.0; … ; 102.0 102.0 … 99.0 99.0; 102.0 102.0 … 101.0 101.0]\n",
       "\n",
       "[102.0 102.0 … 99.0 99.0; 102.0 102.0 … 99.0 99.0; … ; 102.0 102.0 … 99.0 99.0; 102.0 102.0 … 101.0 101.0]\n",
       "\n",
       "[102.0 102.0 … 100.0 100.0; 102.0 102.0 … 100.0 100.0; … ; 102.0 102.0 … 100.0 100.0; 102.0 102.0 … 101.0 101.0]\n",
       "\n",
       "[0.33024397200822697 0.33152069250204763 … 2.2261776416589134 2.2524330793906824; 0.31786786554213403 0.31816240153842307 … 2.1391287930400855 2.1662667210962137; … ; 0.31398805684250397 0.3140000383890671 … 0.9146662568573526 0.9282273725634425; 0.3133333333333334 0.3133333333333335 … 0.5263768493010587 0.5355639037370703]\n",
       "\n",
       "[0.3302337694887509 0.33153550918324903 … 2.2219400208696847 2.24752336371184; 0.31785043170682786 0.3181619786082524 … 2.1320269345668663 2.1590668993563904; … ; 0.3139869109773195 0.3140000385623622 … 0.9146630097307139 0.9282228194157612; 0.3133333333333334 0.3133333333333335 … 0.5263768493010587 0.5355639037370703]\n",
       "\n",
       "[0.3302257599324109 0.33155545088077204 … 2.2172471082464305 2.242115141278891; 0.31783116876545886 0.3181615335336451 … 2.1243213972530834 2.151255071610457; … ; 0.3139856419998771 0.31400003875427607 … 0.9146594408777916 0.9282178162587505; 0.3133333333333334 0.3133333333333335 … 0.5263768493010587 0.5355639037370703]\n",
       "\n",
       "...\n",
       "\n",
       "[0.34002487369788137 0.3400351911583556 … 0.8367269482258062 0.8618243101963446; 0.32135146426511346 0.3213530241154829 … 1.3502477719718795 1.3768829292367906; … ; 0.31419999590894937 0.31419999910296853 … 0.7508938817316941 0.7638253272355378; 0.3133333333333334 0.3133333333333335 … 0.5263768493010587 0.5355639037370703]\n",
       "\n",
       "[0.3427761510696399 0.3427912091690383 … 0.8290121559179741 0.8554919166216128; 0.3201627308445509 0.3201643626692957 … 1.3472312610767319 1.373791038067969; … ; 0.3140591682815654 0.3140591714755846 … 0.7494134316337684 0.7623032718448439; 0.3133333333333334 0.3133333333333335 … 0.5263768493010587 0.5355639037370703]\n",
       "\n",
       "[0.34167787861212645 0.34169113911033955 … 0.8086622533079956 0.8349754754754752; 0.3215252893921591 0.32152672180815856 … 1.3380105115662535 1.3645187854521188; … ; 0.31445833902274634 0.31445834221676605 … 0.7440357510678646 0.7568924774774773; 0.3133333333333334 0.3133333333333335 … 0.5263768493010587 0.5355639037370703]\n",
       "\n",
       "[0.33024397200822697 0.33152069250204763 … 0.9567379246384166 0.967708525115097; 0.31786786554213403 0.31816240153842307 … 0.6656779683128 0.6727815834003967; … ; 0.31398805684250397 0.3140000383890671 … 0.35594562703129085 0.3577794492253541; 0.3133333333333334 0.3133333333333335 … 0.31333333333333324 0.31333333333333324]\n",
       "\n",
       "[0.3302337694887509 0.33153550918324903 … 0.9549747197534012 0.9659146189789395; 0.31785043170682786 0.3181619786082524 … 0.6655016369759786 0.6726011730047814; … ; 0.3139869109773195 0.3140000385623622 … 0.3559456272045859 0.35777944939864914; 0.3133333333333334 0.3133333333333335 … 0.31333333333333324 0.31333333333333324]\n",
       "\n",
       "[0.3302257599324109 0.33155545088077204 … 0.9530682010829548 0.9639748691541472; 0.31783116876545886 0.3181615335336451 … 0.6653090659006087 0.67240414438305; … ; 0.3139856419998771 0.31400003875427607 … 0.35594562739649993 0.3577794495905632; 0.3133333333333334 0.3133333333333335 … 0.31333333333333324 0.31333333333333324]\n",
       "\n",
       "...\n",
       "\n",
       "[0.34002487369788137 0.3400351911583556 … 0.7069000135343112 0.7122166557472751; 0.32135146426511346 0.3213530241154829 … 0.5451148183516732 0.5516211920103138; … ; 0.31419999590894937 0.31419999910296853 … 0.35614558774519256 0.3579794099392558; 0.3133333333333334 0.3133333333333335 … 0.31333333333333324 0.31333333333333324]\n",
       "\n",
       "[0.3427761510696399 0.3427912091690383 … 0.7069208580855685 0.7122301791345939; 0.3201627308445509 0.3201643626692957 … 0.545636161359247 0.5521646969286178; … ; 0.3140591682815654 0.3140591714755846 … 0.3560047601178084 0.3578385823118717; 0.3133333333333334 0.3133333333333335 … 0.31333333333333324 0.31333333333333324]\n",
       "\n",
       "[0.34167787861212645 0.34169113911033955 … 0.6997283542435812 0.7089828228228228; 0.3215252893921591 0.32152672180815856 … 0.5439769403882067 0.5501877243910577; … ; 0.31445833902274634 0.31445834221676605 … 0.35640393085898975 0.35823775305305294; 0.3133333333333334 0.3133333333333335 … 0.31333333333333324 0.31333333333333324]\n",
       "\n",
       "[0.42999999999999994 0.42999999999999994 … 2.2261776416589134 2.2524330793906824; 0.32666666666666666 0.32666666666666666 … 2.1391287930400855 2.1662667210962137; … ; 0.31999999999999995 0.31999999999999995 … 0.9146662568573526 0.9282273725634425; 0.31666666666666665 0.31666666666666665 … 0.5263768493010587 0.5355639037370703]\n",
       "\n",
       "[0.42999999999999994 0.42999999999999994 … 2.2219400208696847 2.24752336371184; 0.32666666666666666 0.32666666666666666 … 2.1320269345668663 2.1590668993563904; … ; 0.31999999999999995 0.31999999999999995 … 0.9146630097307139 0.9282228194157612; 0.31666666666666665 0.31666666666666665 … 0.5263768493010587 0.5355639037370703]\n",
       "\n",
       "[0.42999999999999994 0.42999999999999994 … 2.2172471082464305 2.242115141278891; 0.32666666666666666 0.32666666666666666 … 2.1243213972530834 2.151255071610457; … ; 0.31999999999999995 0.31999999999999995 … 0.9146594408777916 0.9282178162587505; 0.31666666666666665 0.31666666666666665 … 0.5263768493010587 0.5355639037370703]\n",
       "\n",
       "...\n",
       "\n",
       "[0.42999999999999994 0.42999999999999994 … 0.8367269482258062 0.8618243101963446; 0.32666666666666666 0.32666666666666666 … 1.3502477719718795 1.3768829292367906; … ; 0.31999999999999995 0.31999999999999995 … 0.7508938817316941 0.7638253272355378; 0.31666666666666665 0.31666666666666665 … 0.5263768493010587 0.5355639037370703]\n",
       "\n",
       "[0.42999999999999994 0.42999999999999994 … 0.8290121559179741 0.8554919166216128; 0.32666666666666666 0.32666666666666666 … 1.3472312610767319 1.373791038067969; … ; 0.31999999999999995 0.31999999999999995 … 0.7494134316337684 0.7623032718448439; 0.31666666666666665 0.31666666666666665 … 0.5263768493010587 0.5355639037370703]\n",
       "\n",
       "[0.42999999999999994 0.42999999999999994 … 0.8086622533079956 0.8349754754754752; 0.32666666666666666 0.32666666666666666 … 1.3380105115662535 1.3645187854521188; … ; 0.31999999999999995 0.31999999999999995 … 0.7440357510678646 0.7568924774774773; 0.31666666666666665 0.31666666666666665 … 0.5263768493010587 0.5355639037370703]\n",
       "\n",
       "[1.0 1.0 … 3.0 3.0; 1.0 1.0 … 3.0 3.0; … ; 1.0 1.0 … 3.0 3.0; 1.0 1.0 … 3.0 3.0]\n",
       "\n",
       "[1.0 1.0 … 3.0 3.0; 1.0 1.0 … 3.0 3.0; … ; 1.0 1.0 … 3.0 3.0; 1.0 1.0 … 3.0 3.0]\n",
       "\n",
       "[1.0 1.0 … 3.0 3.0; 1.0 1.0 … 3.0 3.0; … ; 1.0 1.0 … 3.0 3.0; 1.0 1.0 … 3.0 3.0]\n",
       "\n",
       "...\n",
       "\n",
       "[1.0 1.0 … 3.0 3.0; 1.0 1.0 … 3.0 3.0; … ; 1.0 1.0 … 3.0 3.0; 1.0 1.0 … 3.0 3.0]\n",
       "\n",
       "[1.0 1.0 … 3.0 3.0; 1.0 1.0 … 3.0 3.0; … ; 1.0 1.0 … 3.0 3.0; 1.0 1.0 … 3.0 3.0]\n",
       "\n",
       "[1.0 1.0 … 3.0 3.0; 1.0 1.0 … 3.0 3.0; … ; 1.0 1.0 … 3.0 3.0; 1.0 1.0 … 3.0 3.0], [0.29361990882484784 0.2966724120926224 … 2.239544284382583 2.2675570914304237; 0.26502534611640177 0.26546958330965986 … 2.1383220459571035 2.165482453553164; … ; 0.2600000004096147 0.26000000040961435 … 0.4724862701266282 0.48115805249950167; 0.26 0.26 … 0.26 0.26]\n",
       "\n",
       "[0.0 0.2966724120926224 … 2.239544284382583 2.2675570914304237; 0.0 0.26547654080022237 … 2.1383220459571035 2.165482453553164; … ; 0.0 0.26000000040961435 … 0.4724862701266282 0.48115805249950167; 0.26 0.26 … 0.26 0.26]\n",
       "\n",
       "[0.0 0.0 … 2.239544284382583 2.2675570914304237; 0.0 0.0 … 2.1383220459571035 2.165482453553164; … ; 0.0 0.0 … 0.4724862701266282 0.48115805249950167; 0.26 0.26 … 0.26 0.26]\n",
       "\n",
       "...\n",
       "\n",
       "[0.0 0.0 … 2.239544284382583 2.2675570914304237; 0.0 0.0 … 2.163012695031216 2.1904164963926114; … ; 0.0 0.0 … 0.4724862701266282 0.48115805249950167; 0.26 0.26 … 0.26 0.26]\n",
       "\n",
       "[0.0 0.0 … 2.239544284382583 2.2675570914304237; 0.0 0.0 … 2.1640281446224146 2.191440294375499; … ; 0.0 0.0 … 0.4724862701266282 0.48115805249950167; 0.26 0.26 … 0.26 0.26]\n",
       "\n",
       "[0.0 0.0 … 0.0 2.2675570914304237; 0.0 0.0 … 0.0 2.1832329637322174; … ; 0.0 0.0 … 0.0 0.48115805249950167; 0.26 0.26 … 0.26 0.26]\n",
       "\n",
       "[0.29324776299006844 0.29603793152317925 … 2.238663103404714 2.267089758174216; 0.26496183023713765 0.26539954907187124 … 2.134639304130518 2.161765143290687; … ; 0.26000000044880484 0.26000000044880456 … 0.4724862418326163 0.48115802298081956; 0.26 0.26 … 0.26 0.26]\n",
       "\n",
       "[0.0 0.29603793152317925 … 2.238663103404714 2.267089758174216; 0.0 0.2654071722259194 … 2.134639304130518 2.161765143290687; … ; 0.0 0.26000000044880456 … 0.4724862418326163 0.48115802298081956; 0.26 0.26 … 0.26 0.26]\n",
       "\n",
       "[0.0 0.0 … 2.238663103404714 2.267089758174216; 0.0 0.0 … 2.134639304130518 2.161765143290687; … ; 0.0 0.0 … 0.4724862418326163 0.48115802298081956; 0.26 0.26 … 0.26 0.26]\n",
       "\n",
       "...\n",
       "\n",
       "[0.0 0.0 … 2.238663103404714 2.267089758174216; 0.0 0.0 … 2.161692250843251 2.1890847706623235; … ; 0.0 0.0 … 0.4724862418326163 0.48115802298081956; 0.26 0.26 … 0.26 0.26]\n",
       "\n",
       "[0.0 0.0 … 2.238663103404714 2.267089758174216; 0.0 0.0 … 2.1628048543879252 2.190206521337752; … ; 0.0 0.0 … 0.4724862418326163 0.48115802298081956; 0.26 0.26 … 0.26 0.26]\n",
       "\n",
       "[0.0 0.0 … 0.0 2.267089758174216; 0.0 0.0 … 0.0 2.1812139477573647; … ; 0.0 0.0 … 0.0 0.48115802298081956; 0.26 0.26 … 0.26 0.26]\n",
       "\n",
       "[0.29306427297562615 0.29583478807953084 … 2.2382695961357784 2.2665722144282308; 0.2649955612170642 0.26543418599023544 … 2.1305683037108523 2.1576559358592777; … ; 0.2600000004922056 0.26000000049220534 … 0.4724862104986834 0.4811579902906373; 0.26 0.26 … 0.26 0.26]\n",
       "\n",
       "[0.0 0.29583478807953084 … 2.2382695961357784 2.2665722144282308; 0.0 0.26544254632694586 … 2.1305683037108523 2.1576559358592777; … ; 0.0 0.26000000049220534 … 0.4724862104986834 0.4811579902906373; 0.26 0.26 … 0.26 0.26]\n",
       "\n",
       "[0.0 0.0 … 2.2382695961357784 2.2665722144282308; 0.0 0.0 … 2.1305683037108523 2.1576559358592777; … ; 0.0 0.0 … 0.4724862104986834 0.4811579902906373; 0.26 0.26 … 0.26 0.26]\n",
       "\n",
       "...\n",
       "\n",
       "[0.0 0.0 … 2.2382695961357784 2.2665722144282308; 0.0 0.0 … 2.1602373543553828 2.1876174560103263; … ; 0.0 0.0 … 0.4724862104986834 0.4811579902906373; 0.26 0.26 … 0.26 0.26]\n",
       "\n",
       "[0.0 0.0 … 2.2382695961357784 2.2665722144282308; 0.0 0.0 … 2.1614575501168556 2.1888476834584942; … ; 0.0 0.0 … 0.4724862104986834 0.4811579902906373; 0.26 0.26 … 0.26 0.26]\n",
       "\n",
       "[0.0 0.0 … 0.0 2.2665722144282308; 0.0 0.0 … 0.0 2.1789855000958367; … ; 0.0 0.0 … 0.0 0.4811579902906373; 0.26 0.26 … 0.26 0.26]\n",
       "\n",
       "...\n",
       "\n",
       "[0.2937852701312393 0.29459973000232026 … 1.901946722743944 1.9334361338075556; 0.2696706409826027 0.269799585828023 … 1.8177167393672589 1.8457784962085129; … ; 0.2600417484815289 0.26004174848152856 … 0.43055266375020335 0.4374101095092228; 0.26 0.26 … 0.26 0.26]\n",
       "\n",
       "[0.0 0.29459973000232026 … 1.901946722743944 1.9334361338075556; 0.0 0.269799585828023 … 1.8177167393672589 1.8457784962085129; … ; 0.0 0.26004174848152856 … 0.43055266375020335 0.4374101095092228; 0.26 0.26 … 0.26 0.26]\n",
       "\n",
       "[0.0 0.0 … 1.901946722743944 1.9334361338075556; 0.0 0.0 … 1.8177167393672589 1.8457784962085129; … ; 0.0 0.0 … 0.43055266375020335 0.4374101095092228; 0.26 0.26 … 0.26 0.26]\n",
       "\n",
       "...\n",
       "\n",
       "[0.0 0.0 … 1.9014031546586088 1.9334361338075556; 0.0 0.0 … 1.8150011113650668 1.8457784962085129; … ; 0.0 0.0 … 0.43055266375020335 0.4374101095092228; 0.26 0.26 … 0.26 0.26]\n",
       "\n",
       "[0.0 0.0 … 1.8977225364597963 1.9334361338075556; 0.0 0.0 … 1.8150011113650668 1.8457784962085129; … ; 0.0 0.0 … 0.43055266375020335 0.4374101095092228; 0.26 0.26 … 0.26 0.26]\n",
       "\n",
       "[0.0 0.0 … 0.0 1.9276788329919743; 0.0 0.0 … 0.0 1.8420090570526284; … ; 0.0 0.0 … 0.0 0.4374101095092228; 0.26 0.26 … 0.26 0.26]\n",
       "\n",
       "[0.2932064461043545 0.2940037170590769 … 1.9013639475663313 1.9327426245723496; 0.26776077732412695 0.2678907009223754 … 1.8154975835170695 1.8430128343306251; … ; 0.26003356901711966 0.2600335690171194 … 0.43054448428579417 0.43740193004481365; 0.26 0.26 … 0.26 0.26]\n",
       "\n",
       "[0.0 0.2940037170590769 … 1.9013639475663313 1.9327426245723496; 0.0 0.2678907009223754 … 1.8154975835170695 1.8430128343306251; … ; 0.0 0.2600335690171194 … 0.43054448428579417 0.43740193004481365; 0.26 0.26 … 0.26 0.26]\n",
       "\n",
       "[0.0 0.0 … 1.9013639475663313 1.9327426245723496; 0.0 0.0 … 1.8154975835170695 1.8430128343306251; … ; 0.0 0.0 … 0.43054448428579417 0.43740193004481365; 0.26 0.26 … 0.26 0.26]\n",
       "\n",
       "...\n",
       "\n",
       "[0.0 0.0 … 1.9008019212886333 1.9327426245723496; 0.0 0.0 … 1.8126816461988735 1.8430128343306251; … ; 0.0 0.0 … 0.43054448428579417 0.43740193004481365; 0.26 0.26 … 0.26 0.26]\n",
       "\n",
       "[0.0 0.0 … 1.897132893718282 1.9327426245723496; 0.0 0.0 … 1.8126816461988735 1.8430128343306251; … ; 0.0 0.0 … 0.43054448428579417 0.43740193004481365; 0.26 0.26 … 0.26 0.26]\n",
       "\n",
       "[0.0 0.0 … 0.0 1.9271186644793226; 0.0 0.0 … 0.0 1.839171551801414; … ; 0.0 0.0 … 0.0 0.43740193004481365; 0.26 0.26 … 0.26 0.26]\n",
       "\n",
       "[0.2913382537925959 0.2921335607782481 … 1.8953200817208415 1.9284311272681216; 0.2671569108561155 0.26728464210574115 … 1.8153023407662936 1.8413408215257925; … ; 0.26001055258591954 0.26001055258591926 … 0.43052146785459405 0.43737891361361353; 0.26 0.26 … 0.26 0.26]\n",
       "\n",
       "[0.0 0.2921335607782481 … 1.8953200817208415 1.9284311272681216; 0.0 0.26728464210574115 … 1.8153023407662936 1.8413408215257925; … ; 0.0 0.26001055258591926 … 0.43052146785459405 0.43737891361361353; 0.26 0.26 … 0.26 0.26]\n",
       "\n",
       "[0.0 0.0 … 1.8953200817208415 1.9284311272681216; 0.0 0.0 … 1.8153023407662936 1.8413408215257925; … ; 0.0 0.0 … 0.43052146785459405 0.43737891361361353; 0.26 0.26 … 0.26 0.26]\n",
       "\n",
       "...\n",
       "\n",
       "[0.0 0.0 … 1.894789333970961 1.9284311272681216; 0.0 0.0 … 1.8126434087903742 1.8413408215257925; … ; 0.0 0.0 … 0.43052146785459405 0.43737891361361353; 0.26 0.26 … 0.26 0.26]\n",
       "\n",
       "[0.0 0.0 … 1.8911133913838467 1.9284311272681216; 0.0 0.0 … 1.8126434087903742 1.8413408215257925; … ; 0.0 0.0 … 0.43052146785459405 0.43737891361361353; 0.26 0.26 … 0.26 0.26]\n",
       "\n",
       "[0.0 0.0 … 0.0 1.9231678678678679; 0.0 0.0 … 0.0 1.8376838438438439; … ; 0.0 0.0 … 0.0 0.43737891361361353; 0.26 0.26 … 0.26 0.26], 2, 1, s_L, 34, 10, 26, 19, 34, 48, 31)"
      ]
     },
     "execution_count": 133,
     "metadata": {},
     "output_type": "execute_result"
    }
   ],
   "source": [
    "#setting the default variables according to the propositor\n",
    "Pkt_array, Cont_val, prop_index, respondent_index, m_L, hkt, lkt, hmt, lmt, lk_next, hk_next, hm_next = choose_parameters(u2, u3, propositor, hst, lst, hjt, ljt, Pst_array, Pjt_array, s_W, j_W)"
   ]
  },
  {
   "cell_type": "code",
   "execution_count": 134,
   "metadata": {},
   "outputs": [
    {
     "name": "stdout",
     "output_type": "stream",
     "text": [
      "draw_beta(u2, hkt) = 48\n",
      "hk_next = 48\n"
     ]
    },
    {
     "data": {
      "text/plain": [
       "48"
      ]
     },
     "execution_count": 134,
     "metadata": {},
     "output_type": "execute_result"
    }
   ],
   "source": [
    "@show draw_beta(u2, hkt)\n",
    "@show hk_next"
   ]
  },
  {
   "cell_type": "code",
   "execution_count": 135,
   "metadata": {},
   "outputs": [
    {
     "name": "stdout",
     "output_type": "stream",
     "text": [
      "draw_beta(u3, hmt) = 31\n",
      "hm_next = 31\n"
     ]
    },
    {
     "data": {
      "text/plain": [
       "31"
      ]
     },
     "execution_count": 135,
     "metadata": {},
     "output_type": "execute_result"
    }
   ],
   "source": [
    "@show draw_beta(u3, hmt)\n",
    "@show hm_next"
   ]
  },
  {
   "cell_type": "code",
   "execution_count": 136,
   "metadata": {},
   "outputs": [
    {
     "data": {
      "text/plain": [
       "1"
      ]
     },
     "execution_count": 136,
     "metadata": {},
     "output_type": "execute_result"
    }
   ],
   "source": [
    "respondent_index"
   ]
  },
  {
   "cell_type": "code",
   "execution_count": 137,
   "metadata": {},
   "outputs": [
    {
     "data": {
      "text/plain": [
       "34"
      ]
     },
     "execution_count": 137,
     "metadata": {},
     "output_type": "execute_result"
    }
   ],
   "source": [
    "lk_next"
   ]
  },
  {
   "cell_type": "code",
   "execution_count": 138,
   "metadata": {},
   "outputs": [
    {
     "name": "stdout",
     "output_type": "stream",
     "text": [
      "(policy, payoff_prop, payment, lm_next) = proposal(Pkt_array, t, hkt, lmt) = [1.0, 0.31999999999999995, -2.65, 102.0]\n"
     ]
    },
    {
     "data": {
      "text/plain": [
       "4-element Array{Float64,1}:\n",
       "   1.0\n",
       "   0.31999999999999995\n",
       "  -2.65\n",
       " 102.0"
      ]
     },
     "execution_count": 138,
     "metadata": {},
     "output_type": "execute_result"
    }
   ],
   "source": [
    "#proposal ####\n",
    "@show policy, payoff_prop, payment, lm_next = proposal(Pkt_array, t, hkt, lmt)"
   ]
  },
  {
   "cell_type": "code",
   "execution_count": 139,
   "metadata": {},
   "outputs": [
    {
     "data": {
      "text/plain": [
       "100"
      ]
     },
     "execution_count": 139,
     "metadata": {},
     "output_type": "execute_result"
    }
   ],
   "source": [
    "grid"
   ]
  },
  {
   "cell_type": "code",
   "execution_count": 140,
   "metadata": {},
   "outputs": [
    {
     "name": "stdout",
     "output_type": "stream",
     "text": [
      "lm_next = 19\n"
     ]
    },
    {
     "data": {
      "text/plain": [
       "19"
      ]
     },
     "execution_count": 140,
     "metadata": {},
     "output_type": "execute_result"
    }
   ],
   "source": [
    "#lm_next is the update of the adversary's lower bound\n",
    "if(lm_next>=grid+1 || policy!= 3.0) #para evitar update de lowerbound quando proponente não propõe reorg\n",
    "    lm_next = lmt\n",
    "else\n",
    "    lm_next = Int64(lm_next)\n",
    "end\n",
    "\n",
    "@show lm_next"
   ]
  },
  {
   "cell_type": "code",
   "execution_count": 141,
   "metadata": {},
   "outputs": [],
   "source": [
    "if(policy==3.0)\n",
    "\n",
    "    observed_proposals += 1.0\n",
    "\n",
    "    payoff_respondent, answer = answer_reorg(payment, Cont_val, t, hm_next, lm_next, lk_next)\n",
    "\n",
    "\n",
    "    if(answer==1.0)\n",
    "\n",
    "        result[prop_index] = payoff_prop\n",
    "        result[respondent_index] = payoff_respondent\n",
    "        result[3] = 3.0\n",
    "        result[4] = t\n",
    "        result[5] = observed_proposals\n",
    "\n",
    "    else\n",
    "\n",
    "        t+=1\n",
    "\n",
    "        hst, lst, hjt, ljt = update_beliefs(propositor, hk_next, hm_next, lk_next, lm_next)\n",
    "    end\n",
    "\n",
    "elseif(policy==2.0)\n",
    "\n",
    "    t+=1\n",
    "\n",
    "    hst, lst, hjt, ljt = update_beliefs(propositor, hk_next, hm_next, lk_next, lm_next)\n",
    "\n",
    "\n",
    "\n",
    "else      \n",
    "    #(policy==1.0)\n",
    "\n",
    "    observed_proposals += 1.0\n",
    "\n",
    "    payoff_respondent, answer = answer_liq(m_L, t, hm_next, payoff_prop, L, Ds, Dj, Vmax, ρ, c0, c1)\n",
    "\n",
    "\n",
    "\n",
    "    if(answer==1.0)\n",
    "\n",
    "        result[prop_index] = payoff_prop\n",
    "        result[respondent_index] = payoff_respondent\n",
    "        result[3] = 1.0\n",
    "        result[4] = t\n",
    "        result[5] = observed_proposals\n",
    "\n",
    "    else\n",
    "\n",
    "        result[prop_index] = payoff_prop\n",
    "        result[respondent_index] = payoff_respondent\n",
    "        result[3] = 3.0\n",
    "        result[4] = t\n",
    "        result[5] = observed_proposals\n",
    "\n",
    "\n",
    "    end\n",
    "end\n",
    "\n",
    "\n",
    "if(t==T)\n",
    "\n",
    "    result[1] = s_W[T, 1, 1, 1]#todos os valores finais de S são iguais, então acessarei o índice 1\n",
    "    result[2] = j_W[T, 1, 1, 1]\n",
    "    result[3] = 1.0\n",
    "    result[4] = t\n",
    "    result[5] = max(observed_proposals, 1.0)\n",
    "\n",
    "end\n",
    "\n",
    "\n",
    "\n",
    "\n",
    "\n",
    "# end"
   ]
  },
  {
   "cell_type": "code",
   "execution_count": 142,
   "metadata": {},
   "outputs": [
    {
     "name": "stdout",
     "output_type": "stream",
     "text": [
      "(hst, lst, hjt, ljt) = (26, 19, 34, 10)\n"
     ]
    },
    {
     "data": {
      "text/plain": [
       "(26, 19, 34, 10)"
      ]
     },
     "execution_count": 142,
     "metadata": {},
     "output_type": "execute_result"
    }
   ],
   "source": [
    "@show hst, lst, hjt, ljt"
   ]
  },
  {
   "cell_type": "code",
   "execution_count": 143,
   "metadata": {},
   "outputs": [
    {
     "data": {
      "text/plain": [
       "4"
      ]
     },
     "execution_count": 143,
     "metadata": {},
     "output_type": "execute_result"
    }
   ],
   "source": [
    "t"
   ]
  },
  {
   "cell_type": "code",
   "execution_count": 144,
   "metadata": {},
   "outputs": [
    {
     "data": {
      "text/plain": [
       "5-element Array{Float64,1}:\n",
       " 66.1115\n",
       "  0.31999999999999995\n",
       "  3.0\n",
       "  4.0\n",
       "  1.0"
      ]
     },
     "execution_count": 144,
     "metadata": {},
     "output_type": "execute_result"
    }
   ],
   "source": [
    "result"
   ]
  },
  {
   "cell_type": "code",
   "execution_count": 96,
   "metadata": {},
   "outputs": [],
   "source": [
    "#next round"
   ]
  },
  {
   "cell_type": "markdown",
   "metadata": {},
   "source": [
    "Investigando problema no answer_liq"
   ]
  },
  {
   "cell_type": "code",
   "execution_count": 146,
   "metadata": {},
   "outputs": [
    {
     "data": {
      "text/plain": [
       "(66.1115, 2)"
      ]
     },
     "execution_count": 146,
     "metadata": {},
     "output_type": "execute_result"
    }
   ],
   "source": [
    "payoff_respondent, answer = answer_liq(m_L, t, hm_next, payoff_prop, L, Ds, Dj, Vmax, ρ, c0, c1)"
   ]
  },
  {
   "cell_type": "code",
   "execution_count": null,
   "metadata": {},
   "outputs": [],
   "source": [
    "function answer_liq(m_L, t, hm_next, payoff_prop, L, Ds, Dj, Vmax, ρ, c0, c1)\n",
    "\n",
    "    liq = (m_L(t, L, Ds, Dj, c0, c1), Vt(Vmax, ρ, t) * hm_next/100 - Ct(t, c0, c1) - payoff_prop)\n",
    "\n",
    "    payoff_liq, answer = findmax(liq)\n",
    "\n",
    "    return payoff_liq, answer\n",
    "end"
   ]
  },
  {
   "cell_type": "markdown",
   "metadata": {},
   "source": [
    "Fim da investigação"
   ]
  },
  {
   "cell_type": "code",
   "execution_count": 111,
   "metadata": {},
   "outputs": [],
   "source": [
    "while(result[1]==0.0 && t < T)\n",
    "\n",
    "    #3 draws per turn\n",
    "    u1 = U_sn[draw]\n",
    "    draw+=1\n",
    "\n",
    "    u2 = U_sn[draw]\n",
    "    draw+=1\n",
    "\n",
    "    u3 = U_sn[draw]\n",
    "    draw+=1\n",
    "\n",
    "\n",
    "    if(u1 < λj)\n",
    "        propositor = \"j\"\n",
    "\n",
    "    else\n",
    "        propositor = \"s\"\n",
    "\n",
    "    end\n",
    "\n",
    "\n",
    "    #setting the default variables according to the propositor\n",
    "    Pkt_array, Cont_val, prop_index, respondent_index, m_L, hkt, lkt, hmt, lmt, lk_next, hk_next, hm_next = choose_parameters(u2, u3, propositor, hst, lst, hjt, ljt, Pst_array, Pjt_array, s_W, j_W)\n",
    "\n",
    "    #proposal ####\n",
    "    policy, payoff_prop, payment, lm_next = proposal(Pkt_array, t, hkt, lmt)\n",
    "\n",
    "    #lm_next is the update of the adversary's lower bound\n",
    "    if(lm_next>=grid+1 || policy!= 3.0) #para evitar update de lowerbound quando proponente não propõe reorg\n",
    "        lm_next = lmt\n",
    "    else\n",
    "        lm_next = Int64(lm_next)\n",
    "    end\n",
    "\n",
    "\n",
    "    \n",
    "    if(policy==3.0)\n",
    "\n",
    "        observed_proposals += 1.0\n",
    "\n",
    "        payoff_respondent, answer = answer_reorg(payment, Cont_val, t, hm_next, lm_next, lk_next)\n",
    "\n",
    "\n",
    "        if(answer==1.0)\n",
    "\n",
    "            result[prop_index] = payoff_prop\n",
    "            result[respondent_index] = payoff_respondent\n",
    "            result[3] = 3.0\n",
    "            result[4] = t\n",
    "            result[5] = observed_proposals\n",
    "\n",
    "        else\n",
    "\n",
    "            t+=1\n",
    "\n",
    "            hst, lst, hjt, ljt = update_beliefs(propositor, hk_next, hm_next, lk_next, lm_next)\n",
    "        end\n",
    "\n",
    "    elseif(policy==2.0)\n",
    "\n",
    "        t+=1\n",
    "\n",
    "        hst, lst, hjt, ljt = update_beliefs(propositor, hk_next, hm_next, lk_next, lm_next)\n",
    "\n",
    "\n",
    "\n",
    "    else      \n",
    "        #(policy==1.0)\n",
    "\n",
    "        observed_proposals += 1.0\n",
    "\n",
    "        payoff_respondent, answer = answer_liq(m_L, t, hm_next, payoff_prop, L, Ds, Dj, Vmax, ρ, c0, c1)\n",
    "\n",
    "\n",
    "\n",
    "        if(answer==1.0)\n",
    "\n",
    "            result[prop_index] = payoff_prop\n",
    "            result[respondent_index] = payoff_respondent\n",
    "            result[3] = 1.0\n",
    "            result[4] = t\n",
    "            result[5] = observed_proposals\n",
    "\n",
    "        else\n",
    "\n",
    "            result[prop_index] = payoff_prop\n",
    "            result[respondent_index] = payoff_respondent\n",
    "            result[3] = 3.0\n",
    "            result[4] = t\n",
    "            result[5] = observed_proposals\n",
    "\n",
    "\n",
    "        end\n",
    "    end\n",
    "\n",
    "\n",
    "    if(t==T)\n",
    "\n",
    "        result[1] = s_W[T, 1, 1, 1]#todos os valores finais de S são iguais, então acessarei o índice 1\n",
    "        result[2] = j_W[T, 1, 1, 1]\n",
    "        result[3] = 1.0\n",
    "        result[4] = t\n",
    "        result[5] = max(observed_proposals, 1.0)\n",
    "\n",
    "    end\n",
    "\n",
    "\n",
    "\n",
    "\n",
    "\n",
    "end"
   ]
  },
  {
   "cell_type": "code",
   "execution_count": 112,
   "metadata": {},
   "outputs": [
    {
     "data": {
      "text/plain": [
       "5-element Array{Float64,1}:\n",
       " 0.0\n",
       " 0.0\n",
       " 0.0\n",
       " 0.0\n",
       " 0.0"
      ]
     },
     "execution_count": 112,
     "metadata": {},
     "output_type": "execute_result"
    }
   ],
   "source": [
    "result"
   ]
  },
  {
   "cell_type": "code",
   "execution_count": 107,
   "metadata": {},
   "outputs": [],
   "source": [
    "while(result[1]==0.0 && t < T)\n",
    "\n",
    "    #3 draws per turn\n",
    "    u1 = U_sn[draw]\n",
    "    draw+=1\n",
    "\n",
    "    u2 = U_sn[draw]\n",
    "    draw+=1\n",
    "\n",
    "    u3 = U_sn[draw]\n",
    "    draw+=1\n",
    "\n",
    "\n",
    "    if(u1 < λj)\n",
    "        propositor = \"j\"\n",
    "\n",
    "    else\n",
    "        propositor = \"s\"\n",
    "\n",
    "    end\n",
    "\n",
    "\n",
    "    #setting the default variables according to the propositor\n",
    "    Pkt_array, Cont_val, prop_index, respondent_index, m_L, hkt, lkt, hmt, lmt, lk_next, hk_next, hm_next = choose_parameters(u2, u3, propositor, hst, lst, hjt, ljt, Pst_array, Pjt_array, s_W, j_W)\n",
    "\n",
    "    #proposal ####\n",
    "    policy, payoff_prop, payment, lm_next = proposal(Pkt_array, t, hkt, lmt)\n",
    "\n",
    "    #lm_next is the update of the adversary's lower bound\n",
    "    if(lm_next>=grid+1 || policy!= 3.0) #para evitar update de lowerbound quando proponente não propõe reorg\n",
    "        lm_next = lmt\n",
    "    else\n",
    "        lm_next = Int64(lm_next)\n",
    "    end\n",
    "\n",
    "\n",
    "    \n",
    "    if(policy==3.0)\n",
    "\n",
    "        observed_proposals += 1.0\n",
    "\n",
    "        payoff_respondent, answer = answer_reorg(payment, Cont_val, t, hm_next, lm_next, lk_next)\n",
    "\n",
    "\n",
    "        if(answer==1.0)\n",
    "\n",
    "            result[prop_index] = payoff_prop\n",
    "            result[respondent_index] = payoff_respondent\n",
    "            result[3] = 3.0\n",
    "            result[4] = t\n",
    "            result[5] = observed_proposals\n",
    "\n",
    "        else\n",
    "\n",
    "            t+=1\n",
    "\n",
    "            hst, lst, hjt, ljt = update_beliefs(propositor, hk_next, hm_next, lk_next, lm_next)\n",
    "        end\n",
    "\n",
    "    elseif(policy==2.0)\n",
    "\n",
    "        t+=1\n",
    "\n",
    "        hst, lst, hjt, ljt = update_beliefs(propositor, hk_next, hm_next, lk_next, lm_next)\n",
    "\n",
    "\n",
    "\n",
    "    else      \n",
    "        #(policy==1.0)\n",
    "\n",
    "        observed_proposals += 1.0\n",
    "\n",
    "        payoff_respondent, answer = answer_liq(m_L, t, hm_next, payoff_prop, L, Ds, Dj, Vmax, ρ, c0, c1)\n",
    "\n",
    "\n",
    "\n",
    "        if(answer==1.0)\n",
    "\n",
    "            result[prop_index] = payoff_prop\n",
    "            result[respondent_index] = payoff_respondent\n",
    "            result[3] = 1.0\n",
    "            result[4] = t\n",
    "            result[5] = observed_proposals\n",
    "\n",
    "        else\n",
    "\n",
    "            result[prop_index] = payoff_prop\n",
    "            result[respondent_index] = payoff_respondent\n",
    "            result[3] = 3.0\n",
    "            result[4] = t\n",
    "            result[5] = observed_proposals\n",
    "\n",
    "\n",
    "        end\n",
    "    end\n",
    "\n",
    "\n",
    "    if(t==T)\n",
    "\n",
    "        result[1] = s_W[T, 1, 1, 1]#todos os valores finais de S são iguais, então acessarei o índice 1\n",
    "        result[2] = j_W[T, 1, 1, 1]\n",
    "        result[3] = 1.0\n",
    "        result[4] = t\n",
    "        result[5] = max(observed_proposals, 1.0)\n",
    "\n",
    "    end\n",
    "\n",
    "\n",
    "\n",
    "\n",
    "\n",
    "end\n",
    "\n",
    "\n",
    "#     return result\n",
    "# end"
   ]
  },
  {
   "cell_type": "code",
   "execution_count": 108,
   "metadata": {},
   "outputs": [
    {
     "data": {
      "text/plain": [
       "5-element Array{Float64,1}:\n",
       " 0.0\n",
       " 0.0\n",
       " 0.0\n",
       " 0.0\n",
       " 0.0"
      ]
     },
     "execution_count": 108,
     "metadata": {},
     "output_type": "execute_result"
    }
   ],
   "source": [
    "result"
   ]
  },
  {
   "cell_type": "code",
   "execution_count": 100,
   "metadata": {},
   "outputs": [
    {
     "data": {
      "text/plain": [
       "5-element Array{Float64,1}:\n",
       " 66.1115\n",
       "  0.31999999999999995\n",
       "  3.0\n",
       "  4.0\n",
       "  1.0"
      ]
     },
     "execution_count": 100,
     "metadata": {},
     "output_type": "execute_result"
    }
   ],
   "source": [
    "#note que n = 60 > n1 = 17\n",
    "simulate_game(U[s,66,:], 1, data2, game_parameters, simulation_parameters, A2[1], A2[2], A2[3], A2[4])"
   ]
  },
  {
   "cell_type": "code",
   "execution_count": 33,
   "metadata": {},
   "outputs": [
    {
     "data": {
      "text/plain": [
       "0.3260795712211093"
      ]
     },
     "execution_count": 33,
     "metadata": {},
     "output_type": "execute_result"
    }
   ],
   "source": [
    "DF.outcome = ifelse.(DF.out .==3.0, \"R\", \"L\");\n",
    "\n",
    "\n",
    "#desfazendo o deslocamento no índice de t\n",
    "DF.t = DF.t .- 1.0;\n",
    "\n",
    "# DF.incourt = ifelse.(DF.t .> 0.0, \"incourt\", \"precourt\");\n",
    "\n",
    "INCOURT = filter(DF -> DF.t .> 0.0, DF);\n",
    "PRECOURT = filter(DF -> DF.t .<= 0.0, DF);\n",
    "\n",
    "REORG = filter(DF -> DF.outcome .== \"R\", DF);#casos reorganizados dentro e fora da corte\n",
    "\n",
    "PRECOURT_REORG = filter(PRECOURT -> PRECOURT.outcome .== \"R\", PRECOURT)\n",
    "INCOURT_REORG = filter(INCOURT -> INCOURT.outcome .== \"R\", INCOURT)\n",
    "\n",
    "#cálculo dos momentos\n",
    "#1. avg log number of months between observed proposals incourt\n",
    "\n",
    "mm1 = INCOURT\n",
    "mm1 = log.(mm1.t .* μ ./ mm1.observed_proposals)\n",
    "mm1 = mean(mm1)\n",
    "\n",
    "#2. fraction reorganized given that the case went into court\n",
    "\n",
    "mm2 = INCOURT\n",
    "mm2 = size(filter(mm2 -> mm2.outcome .== \"R\", mm2),1)/ size(mm2,1)\n",
    "\n",
    "#3. ln duration of court cases in months\n",
    "\n",
    "mm3 = INCOURT\n",
    "mm3 = filter(mm3 -> mm3.t .> 0.0, mm3) #removendo os casos 0 para não poluir a média\n",
    "mm3.t = mm3.t .* μ\n",
    "mm3 = mean(log.(mm3.t)) #log here uses exp as base, so it's the same as ln\n",
    "\n",
    "#4. fraction of cases incourt\n",
    "mm4 = size(INCOURT,1) / size(DF, 1)\n",
    "\n",
    "#5. avg recovery rate for S given a REORGANIZATION in the 25% fastest cases\n",
    "q = 0.25 #quartil desejado\n",
    "\n",
    "mm5 = REORG\n",
    "\n",
    "if( size(mm5, 1) == 0) #se não tiver casos de reorganização dentro ou fora da corte, retorna zero\n",
    "    mm5 = 0.0\n",
    "    mm6 = 0.0\n",
    "else\n",
    "\n",
    "    mm5.t = mm5.t .* μ #total duration\n",
    "    quartil = quantile(log.(mm5.t), q)\n",
    "\n",
    "    mm5 = filter(mm5 -> log.(mm5.t) .<= quartil, mm5)\n",
    "    mm5.R_s = mm5.payoff_s ./ mm5.Ds\n",
    "    mm5 = mean(mm5.R_s)\n",
    "\n",
    "    #6. avg recovery rate for J given a REORGANIZATION in the 25% fastest cases\n",
    "    mm6 = REORG\n",
    "    mm6 = filter(mm6 -> log.(mm6.t) .<= quartil, mm6)\n",
    "    mm6.R_j = mm6.payoff_j ./ mm6.Dj\n",
    "    mm6 = mean(mm6.R_j)\n",
    "\n",
    "end\n",
    "\n",
    "\n",
    "#7. junior avg fraction gain given incourt REORGANIZATION\n",
    "\n",
    "mm7 = INCOURT_REORG\n",
    "mm7 = mean( (mm7.payoff_j ./ (mm7.payoff_j .+ mm7.payoff_s ))  )"
   ]
  },
  {
   "cell_type": "code",
   "execution_count": 31,
   "metadata": {
    "scrolled": true
   },
   "outputs": [
    {
     "data": {
      "text/plain": [
       "9-element Array{Float64,1}:\n",
       "  2.2218383111752207\n",
       "  0.8796972914774369\n",
       "  2.4011558348304227\n",
       "  0.35469696969696973\n",
       "  0.7849471568301716\n",
       "  0.09441059842817236\n",
       "  0.42937908664529617\n",
       " 57.795752776473066\n",
       "  0.12110266410363578"
      ]
     },
     "execution_count": 31,
     "metadata": {},
     "output_type": "execute_result"
    }
   ],
   "source": [
    "simulated_moments = simulate_moments(U, S, N, game_parameters, simulation_parameters, data1, data2, A1, A2, n1)"
   ]
  },
  {
   "cell_type": "markdown",
   "metadata": {},
   "source": [
    "## Adaptar o código daqui para baixo"
   ]
  },
  {
   "cell_type": "markdown",
   "metadata": {},
   "source": [
    "Calculando a derivada dos momentos em relação aos parâmetros"
   ]
  },
  {
   "cell_type": "code",
   "execution_count": 28,
   "metadata": {},
   "outputs": [
    {
     "data": {
      "text/plain": [
       "simulate_new_moments (generic function with 1 method)"
      ]
     },
     "execution_count": 28,
     "metadata": {},
     "output_type": "execute_result"
    }
   ],
   "source": [
    "function simulate_new_moments(i, S, N, game_parameters, simulation_parameters, data1, data2, A1, A2, n1)\n",
    "    \n",
    "    \n",
    "    println(\"parameter \",i, game_parameters, simulation_parameters)\n",
    "        \n",
    "    θs0, θj0, μ = simulation_parameters;\n",
    "    θs0 = Int64(round(θs0, digits=0));\n",
    "    θj0 = Int64(round(θj0, digits=0));\n",
    "\n",
    "    λj = game_parameters[4];\n",
    "    new_simulated_moments = simulate_moments(S, N, game_parameters, simulation_parameters, data1, data2, A1, A2, n1) \n",
    "    \n",
    "    return new_simulated_moments\n",
    "end"
   ]
  },
  {
   "cell_type": "code",
   "execution_count": 29,
   "metadata": {},
   "outputs": [
    {
     "data": {
      "text/plain": [
       "derivative_moments (generic function with 1 method)"
      ]
     },
     "execution_count": 29,
     "metadata": {},
     "output_type": "execute_result"
    }
   ],
   "source": [
    " \n",
    "function derivative_moments(S, N, game_parameters, simulation_parameters, data1, data2, n1, aux)\n",
    "\n",
    "    \n",
    "    \n",
    "    \n",
    "    #https://en.wikibooks.org/wiki/Introduction_to_Numerical_Methods/Numerical_Differentiation\n",
    "    #backward divided difference method\n",
    "\n",
    "   \n",
    "\n",
    "\n",
    "    estimated_game_parameters = game_parameters\n",
    "    estimated_simulation_parameters = simulation_parameters\n",
    "\n",
    "\n",
    "\n",
    "    A2 = @spawnat aux solve_tree(data2, game_parameters)\n",
    "    A1 = solve_tree(data1, game_parameters)\n",
    "    A2 = fetch(A2)\n",
    "    \n",
    "    \n",
    "    \n",
    "    simulated_moments = simulate_moments(S, N, game_parameters, simulation_parameters, data1, data2, A1, A2, n1)\n",
    "\n",
    "    P = size(game_parameters,1)+size(simulation_parameters,1)\n",
    "    M = size(simulated_moments,1)\n",
    "    D = zeros(M, P)\n",
    "    \n",
    "    #porcentagem de variação no parâmetro\n",
    "    pct = 1/100\n",
    "    \n",
    "    for p in P:-1:1\n",
    "\n",
    "        if(p>size(game_parameters,1))\n",
    "\n",
    "            simulation_parameters = copy(estimated_simulation_parameters)\n",
    "            \n",
    "            delta = simulation_parameters[p-size(game_parameters,1)] * pct\n",
    "\n",
    "            simulation_parameters[p-size(game_parameters,1)] -= delta\n",
    "\n",
    "\n",
    "            if(p == 5 || p ==6) #para ajustar caso seja habilidade inicial de S ou de J\n",
    "                simulation_parameters[p-size(game_parameters,1)] = round(simulation_parameters[p-size(game_parameters,1)], digits=0)\n",
    "            end\n",
    "            \n",
    "            \n",
    "            #caso a variação percentual não seja suficiente para reduzir habilidades iniciais, delta será 1\n",
    "            if(simulation_parameters[p-size(game_parameters,1)] == estimated_simulation_parameters[p-size(game_parameters,1)])\n",
    "                delta = Int64(1)\n",
    "                \n",
    "                simulation_parameters[p-size(game_parameters,1)] -= delta\n",
    "            end\n",
    "\n",
    "            new_simulated_moments = simulate_new_moments(p, S, N, game_parameters, simulation_parameters, data1, data2, A1, A2, n1)\n",
    "\n",
    "            D[:, p] = (simulated_moments - new_simulated_moments) ./ delta\n",
    "            \n",
    "        else\n",
    "\n",
    "            #se for um parâmetro de jogo, precisa recalcular o jogo\n",
    "\n",
    "            game_parameters = copy(estimated_game_parameters)\n",
    "            \n",
    "            delta = game_parameters[p] * pct\n",
    "            game_parameters[p] -= delta\n",
    "\n",
    "            A2 = @spawnat aux solve_tree(data2, game_parameters)\n",
    "            A1 = solve_tree(data1, game_parameters)\n",
    "            A2 = fetch(A2)\n",
    "\n",
    "\n",
    "\n",
    "            new_simulated_moments = simulate_new_moments(p, S, N, game_parameters, simulation_parameters, data1, data2, A1, A2, n1)\n",
    "\n",
    "            D[:, p] = (simulated_moments - new_simulated_moments) ./ delta\n",
    "\n",
    "\n",
    "        end\n",
    "\n",
    "\n",
    "    end\n",
    "    \n",
    "    \n",
    "    \n",
    "    return D\n",
    "end\n",
    "    "
   ]
  },
  {
   "cell_type": "code",
   "execution_count": 30,
   "metadata": {},
   "outputs": [
    {
     "name": "stdout",
     "output_type": "stream",
     "text": [
      " 47.812134 seconds (141.59 M allocations: 3.154 GiB, 2.63% gc time)\n",
      "      From worker 3:\t 36.023834 seconds (141.59 M allocations: 3.154 GiB, 1.82% gc time)\n",
      "parameter 7[0.639, 8.553, 0.01, 0.011][11.0, 90.0, 4.4975700000000005]\n",
      "parameter 6[0.639, 8.553, 0.01, 0.011][11.0, 89.0, 4.543]\n",
      "parameter 5[0.639, 8.553, 0.01, 0.011][10.0, 90.0, 4.543]\n",
      "       From worker 3:\t 53.414062 seconds (141.59 M allocations: 3.154 GiB, 18.75% gc time)\n",
      "71.382463 seconds (141.59 M allocations: 3.154 GiB, 33.65% gc time)\n",
      "parameter 4[0.639, 8.553, 0.01, 0.010889999999999999][10.0, 90.0, 4.543]\n",
      "       From worker 3:\t 43.159837 seconds (141.59 M allocations: 3.154 GiB, 1.75% gc time)\n",
      "48.536867 seconds (141.59 M allocations: 3.154 GiB, 1.18% gc time)\n",
      "parameter 3[0.639, 8.553, 0.0099, 0.011][10.0, 90.0, 4.543]\n",
      "       From worker 3:\t 42.902130 seconds (141.59 M allocations: 3.154 GiB, 1.16% gc time)\n",
      "49.739593 seconds (141.59 M allocations: 3.154 GiB, 1.44% gc time)\n",
      "parameter 2[0.639, 8.46747, 0.01, 0.011][10.0, 90.0, 4.543]\n",
      "       From worker 3:\t 37.256886 seconds (112.66 M allocations: 2.514 GiB, 1.12% gc time)\n",
      "47.950054 seconds (141.59 M allocations: 3.154 GiB, 1.44% gc time)\n",
      "parameter 1[0.63261, 8.553, 0.01, 0.011][10.0, 90.0, 4.543]\n"
     ]
    },
    {
     "data": {
      "text/plain": [
       "8×7 Array{Float64,2}:\n",
       "   1.30515    -0.271256    -1298.28    -1289.38   …  -0.00579645   0.0908207\n",
       "  -2.29123     0.246008     3795.15     3638.48       0.0114915    0.133209\n",
       "   1.32089    -0.335136     -924.149    -946.019     -0.012412     0.113216\n",
       "   0.331958    0.00708594   7351.52     6673.55       0.00521886  -0.00667027\n",
       " -14.7515     -0.314492    -3540.79    -3201.93      -0.172943     1.62298\n",
       " -11.1003     -0.214215    -1867.52    -1673.07   …  -0.131371     1.79867\n",
       "  -0.0167323  -0.0942029      65.6934    158.822      0.0013325   -0.065914\n",
       "   0.0712664   0.0869639   -4248.81    -3818.33       0.0122835    0.088857"
      ]
     },
     "execution_count": 30,
     "metadata": {},
     "output_type": "execute_result"
    }
   ],
   "source": [
    "Derivative = derivative_moments(S, N, game_parameters, simulation_parameters, data1, data2, n1, aux)"
   ]
  },
  {
   "cell_type": "code",
   "execution_count": 31,
   "metadata": {},
   "outputs": [
    {
     "data": {
      "text/plain": [
       "8-element Array{Float64,1}:\n",
       " -0.27125629181626487\n",
       "  0.24600758115314386\n",
       " -0.33513560482442567\n",
       "  0.00708594184567402\n",
       " -0.31449220582857806\n",
       " -0.21421507792458255\n",
       " -0.09420287591189372\n",
       "  0.08696391795142722"
      ]
     },
     "execution_count": 31,
     "metadata": {},
     "output_type": "execute_result"
    }
   ],
   "source": [
    "Derivative[:,2]"
   ]
  },
  {
   "cell_type": "code",
   "execution_count": 32,
   "metadata": {},
   "outputs": [],
   "source": [
    "using DelimitedFiles\n",
    "\n",
    "writedlm( \"Derivative-nocd90_1pct.csv\",  Derivative, ',')"
   ]
  },
  {
   "cell_type": "code",
   "execution_count": null,
   "metadata": {},
   "outputs": [],
   "source": []
  }
 ],
 "metadata": {
  "kernelspec": {
   "display_name": "Julia 1.5.3",
   "language": "julia",
   "name": "julia-1.5"
  },
  "language_info": {
   "file_extension": ".jl",
   "mimetype": "application/julia",
   "name": "julia",
   "version": "1.5.3"
  }
 },
 "nbformat": 4,
 "nbformat_minor": 4
}
