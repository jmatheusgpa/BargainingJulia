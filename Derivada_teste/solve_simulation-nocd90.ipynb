{
 "cells": [
  {
   "cell_type": "markdown",
   "metadata": {},
   "source": [
    "Dou et al. (2020) model\n",
    "\n",
    "Agora em Julia versão 1.5.3\n",
    "\n",
    "This script simulates the model\n",
    "\n",
    "Calculando a derivada fixando os parâmetros iguais aos de Dou et al. e substituindo pelo $\\beta$ encontrado na última estimação com 2 clusters"
   ]
  },
  {
   "cell_type": "code",
   "execution_count": 1,
   "metadata": {},
   "outputs": [],
   "source": [
    "using LinearAlgebra, Statistics\n",
    "\n",
    "using DataFrames\n",
    "using BenchmarkTools\n"
   ]
  },
  {
   "cell_type": "code",
   "execution_count": 2,
   "metadata": {},
   "outputs": [
    {
     "data": {
      "text/plain": [
       "3"
      ]
     },
     "execution_count": 2,
     "metadata": {},
     "output_type": "execute_result"
    }
   ],
   "source": [
    "using Distributed\n",
    "nprocs = 2\n",
    "addprocs(nprocs);\n",
    "\n",
    "@everywhere using NBInclude\n",
    "@everywhere @nbinclude(\"solve_model.ipynb\")\n",
    "\n",
    "#importou a função solve_tree\n",
    "\n",
    "pids = workers()\n",
    "aux = pids[nprocs]"
   ]
  },
  {
   "cell_type": "code",
   "execution_count": 3,
   "metadata": {},
   "outputs": [],
   "source": [
    "#Vh/D, L/D, Dj/D\n",
    "data1 = [0.86, 0.19, 0.8];\n",
    "n1 = 49\n",
    "\n",
    "data2 = [2.65, 0.69, 0.74];\n",
    "n2 = 17\n",
    "\n",
    "#ρ, β, c0, λj\n",
    "game_parameters = [0.639, 8.553, 0.01, 0.011];"
   ]
  },
  {
   "cell_type": "code",
   "execution_count": 4,
   "metadata": {},
   "outputs": [
    {
     "name": "stdout",
     "output_type": "stream",
     "text": [
      "       From worker 3:\t 38.076764 seconds (142.85 M allocations: 3.216 GiB, 1.38% gc time)\n",
      "42.700561 seconds (142.85 M allocations: 3.216 GiB, 1.29% gc time)\n"
     ]
    }
   ],
   "source": [
    "A2 = @spawnat aux solve_tree(data2, game_parameters)\n",
    "\n",
    "A1 = solve_tree(data1, game_parameters);\n",
    "\n",
    "A2 = fetch(A2);"
   ]
  },
  {
   "cell_type": "markdown",
   "metadata": {},
   "source": [
    "Simulation parameters"
   ]
  },
  {
   "cell_type": "code",
   "execution_count": 5,
   "metadata": {},
   "outputs": [],
   "source": [
    "#θs0, θj0, μ\n",
    "simulation_parameters = [11.0, 90.0, 4.543];"
   ]
  },
  {
   "cell_type": "markdown",
   "metadata": {},
   "source": [
    "### Criando funções para simular o jogo"
   ]
  },
  {
   "cell_type": "code",
   "execution_count": 6,
   "metadata": {},
   "outputs": [
    {
     "data": {
      "text/plain": [
       "update_beliefs (generic function with 1 method)"
      ]
     },
     "execution_count": 6,
     "metadata": {},
     "output_type": "execute_result"
    }
   ],
   "source": [
    "#cost function\n",
    "function Ct(t, c0=c0, c1=c1)\n",
    "    \n",
    "    #didn't use D because is normalized to D == 1.0\n",
    "    #cost at period t=0(index1) is 0\n",
    "    if(t <= 1)\n",
    "        return 0\n",
    "    else\n",
    "        return c0 + c1 * (t-1) #test to make index==1 be t==0\n",
    "    end\n",
    "end\n",
    "\n",
    "\n",
    "\n",
    "#liquidation payoffs\n",
    "function s_L(t, L, Ds, Dj, c0, c1)\n",
    "    return min(L - Ct(t, c0, c1), Ds)\n",
    "end\n",
    "\n",
    "\n",
    "function j_L(t, L, Ds, Dj, c0, c1)\n",
    "    return min(L - Ct(t, c0, c1) - s_L(t, L, Ds, Dj, c0, c1), Dj)\n",
    "end\n",
    "\n",
    "\n",
    "function proposal(Pkt_array, t, hkt, lmt)\n",
    "    \n",
    "    #pkt array será sempre do propositor, quem responder às propostas apenas olhará o seu valor de continuação\n",
    "    \n",
    "    return policy, payoff_prop, payment, lm_next = Pkt_array[t, hkt, lmt, [end,end-1, 1, 2]]\n",
    "    \n",
    "end\n",
    "    \n",
    "\n",
    "#maximum value of reorganization each period\n",
    "function Vt(Vmax, ρ, t)\n",
    "\n",
    "    if(t <=1)\n",
    "        return Vmax\n",
    "    else\n",
    "        #(t-2) instead of (t-1) because we shifted the indexes in the game so as to include t==0 at index==1\n",
    "        return ρ^(t-2) * Vmax\n",
    "    end\n",
    "\n",
    "\n",
    "end\n",
    "\n",
    "# answer_liq\n",
    "function answer_liq(m_L, t, hm_next, payoff_prop, L, Ds, Dj, Vmax, ρ, c0, c1)\n",
    "    \n",
    "    liq = (m_L(t, L, Ds, Dj, c0, c1), Vt(Vmax, ρ, t) * hm_next/100 - Ct(t, c0, c1) - payoff_prop)\n",
    "    \n",
    "    payoff_liq, answer = findmax(liq)\n",
    "    \n",
    "    return payoff_liq, answer\n",
    "end\n",
    "\n",
    "function answer_reorg(payment, Cont_val, t, hm_next, lm_next, lk_next)\n",
    "    \n",
    "    reorg_value = (payment, Cont_val[t+1, hm_next, lm_next, lk_next])\n",
    "\n",
    "    payoff_reorg, answer = findmax(reorg_value)\n",
    "    \n",
    "    return payoff_reorg, answer\n",
    "end\n",
    "\n",
    "function update_beliefs(propositor, hk_next, hm_next, lk_next, lm_next)\n",
    "    \n",
    "    if(propositor==\"s\")\n",
    "        hst = hk_next\n",
    "        lst = lk_next\n",
    "        \n",
    "        hjt = hm_next\n",
    "        ljt = lm_next\n",
    "        \n",
    "    else\n",
    "        hst = hm_next\n",
    "        lst = lm_next\n",
    "        \n",
    "        hjt = hk_next\n",
    "        ljt = lk_next\n",
    "    end\n",
    "    \n",
    "    \n",
    "    return hst, lst, hjt, ljt\n",
    "end\n",
    "\n",
    "        "
   ]
  },
  {
   "cell_type": "code",
   "execution_count": 7,
   "metadata": {},
   "outputs": [
    {
     "data": {
      "text/plain": [
       "draw_beta (generic function with 3 methods)"
      ]
     },
     "execution_count": 7,
     "metadata": {},
     "output_type": "execute_result"
    }
   ],
   "source": [
    "#código para tirar um draw da beta\n",
    "\n",
    "function draw_beta(hkt, β=game_parameters[2], grid=100)\n",
    "\n",
    "    u = rand()\n",
    "\n",
    "    if(hkt == grid)\n",
    "        \n",
    "        return grid\n",
    "\n",
    "    else\n",
    "        \n",
    "        x = 1.0 - exp(1.0/β * (log(1.0 - u) + β * log(1.0 - hkt/grid)))\n",
    "        x = round(x * 100, digits=0)\n",
    "#         return Int64(x * 100) #to convert in an integer\n",
    "        return Int64(x)\n",
    "        \n",
    "    end\n",
    "end\n",
    "\n",
    "        \n",
    "\n",
    "# @code_warntype draw_beta(10)\n",
    "\n"
   ]
  },
  {
   "cell_type": "code",
   "execution_count": 8,
   "metadata": {},
   "outputs": [],
   "source": [
    "function choose_parameters(propositor, hst, lst, hjt, ljt, Pst_array, Pjt_array, s_W, j_W)\n",
    "    \n",
    "    if(propositor==\"s\")\n",
    "        \n",
    "        Pkt_array = Pst_array\n",
    "        Cont_val = j_W\n",
    "        prop_index = 1\n",
    "        respondent_index = 2 #índice de j, para organizar o payoff\n",
    "        m_L = j_L\n",
    "\n",
    "        hkt = hst\n",
    "        lkt = lst\n",
    "        \n",
    "        hmt = hjt\n",
    "        lmt = ljt\n",
    "\n",
    "\n",
    "        lk_next = hkt\n",
    "\n",
    "        hk_next = draw_beta(hkt)\n",
    "        hm_next = draw_beta(hmt)\n",
    "        \n",
    "    elseif(propositor==\"j\")\n",
    "        Pkt_array = Pjt_array\n",
    "        Cont_val = s_W\n",
    "        prop_index = 2\n",
    "        respondent_index = 1\n",
    "        m_L = s_L\n",
    "\n",
    "        hkt = hjt\n",
    "        lkt = ljt\n",
    "        \n",
    "        hmt = hst\n",
    "        lmt = lst\n",
    "\n",
    "\n",
    "        lk_next = hkt\n",
    "\n",
    "\n",
    "        hk_next = draw_beta(hkt)\n",
    "        hm_next = draw_beta(hmt)\n",
    "\n",
    "    else\n",
    "        \n",
    "        println(\"error: propositor not valid\")\n",
    "        \n",
    "    end\n",
    "    \n",
    "    return Pkt_array, Cont_val, prop_index, respondent_index, m_L, hkt, lkt, hmt, lmt, lk_next, hk_next, hm_next\n",
    "end\n",
    "\n",
    "\n",
    "\n",
    "\n",
    "# #test\n",
    "# Hs0 = 30\n",
    "# Hj0 = 28\n",
    "\n",
    "\n",
    "# hst = Hs0\n",
    "# hjt = Hj0\n",
    "\n",
    "# #assumindo que lower bounds nos períodos iniciais são as próprias habilidades iniciais\n",
    "# lst = hst\n",
    "# ljt = hjt\n",
    "\n",
    "\n",
    "\n",
    "\n",
    "# choose_parameters(\"s\", hst, lst, hjt, ljt);\n",
    "    \n",
    "    "
   ]
  },
  {
   "cell_type": "code",
   "execution_count": 9,
   "metadata": {},
   "outputs": [
    {
     "data": {
      "text/plain": [
       "simulate_game (generic function with 7 methods)"
      ]
     },
     "execution_count": 9,
     "metadata": {},
     "output_type": "execute_result"
    }
   ],
   "source": [
    "function simulate_game(data, game_parameters, simulation_parameters, s_W=s_W, j_W=j_W, Pst_array=Pst_array, Pjt_array=Pjt_array, t=1, grid=100)\n",
    "    \n",
    "    \n",
    "    Vmax = data[1]\n",
    "    L = data[2]\n",
    "    Dj = data[3]\n",
    "    Ds = one(1.0) - Dj\n",
    "    \n",
    "    \n",
    "    c0 = game_parameters[3];\n",
    "    c1 = c0/30;\n",
    "\n",
    "    ρ = game_parameters[1];\n",
    "    λj = game_parameters[4];\n",
    "\n",
    "    \n",
    "    \n",
    "#     hst = Hs0\n",
    "#     hjt = Hj0\n",
    "    \n",
    "    hst = Int64(simulation_parameters[1])\n",
    "    hjt = Int64(simulation_parameters[2])\n",
    "\n",
    "    #assumindo que lower bounds nos períodos iniciais são as próprias habilidades iniciais\n",
    "    lst = hst\n",
    "    ljt = hjt\n",
    "    \n",
    "    result = zeros(5);\n",
    "    \n",
    "    #number of observed proposals\n",
    "    observed_proposals = 0.0\n",
    "    \n",
    "    \n",
    "    #recovering \"T+1\" from s_W \n",
    "    T = size(s_W,1)\n",
    "    \n",
    "    \n",
    "    while(result[1]==0.0 && t < T)\n",
    "        \n",
    "        \n",
    "        u = rand()\n",
    "\n",
    "        if(u < λj)\n",
    "            propositor = \"j\"\n",
    "\n",
    "        else\n",
    "            propositor = \"s\"\n",
    "\n",
    "        end\n",
    "\n",
    "        \n",
    "        #setting the default variables according to the propositor\n",
    "        Pkt_array, Cont_val, prop_index, respondent_index, m_L, hkt, lkt, hmt, lmt, lk_next, hk_next, hm_next = choose_parameters(propositor, hst, lst, hjt, ljt, Pst_array, Pjt_array, s_W, j_W)\n",
    "        \n",
    "        #proposal ####\n",
    "        policy, payoff_prop, payment, lm_next = proposal(Pkt_array, t, hkt, lmt)\n",
    "\n",
    "        #lm_next is the update of the adversary's lower bound\n",
    "        if(lm_next>=grid+1 || policy!= 3.0) #para evitar update de lowerbound quando proponente não propõe reorg\n",
    "            lm_next = lmt\n",
    "        else\n",
    "            lm_next = Int64(lm_next)\n",
    "        end\n",
    "        \n",
    "        \n",
    "        \n",
    "        if(policy==3.0)\n",
    "            \n",
    "            observed_proposals += 1.0\n",
    "    \n",
    "            payoff_respondent, answer = answer_reorg(payment, Cont_val, t, hm_next, lm_next, lk_next)\n",
    "\n",
    "\n",
    "            if(answer==1.0)\n",
    "\n",
    "                result[prop_index] = payoff_prop\n",
    "                result[respondent_index] = payoff_respondent\n",
    "                result[3] = 3.0\n",
    "                result[4] = t\n",
    "                result[5] = observed_proposals\n",
    "\n",
    "            else\n",
    "                \n",
    "                t+=1\n",
    "\n",
    "                hst, lst, hjt, ljt = update_beliefs(propositor, hk_next, hm_next, lk_next, lm_next)\n",
    "            end\n",
    "\n",
    "        elseif(policy==2.0)\n",
    "            \n",
    "            t+=1\n",
    "            \n",
    "            hst, lst, hjt, ljt = update_beliefs(propositor, hk_next, hm_next, lk_next, lm_next)\n",
    "            \n",
    "            \n",
    "\n",
    "        else      \n",
    "            #(policy==1.0)\n",
    "            \n",
    "            observed_proposals += 1.0\n",
    "\n",
    "            payoff_respondent, answer = answer_liq(m_L, t, hm_next, payoff_prop, L, Ds, Dj, Vmax, ρ, c0, c1)\n",
    "            \n",
    "            \n",
    "\n",
    "            if(answer==1.0)\n",
    "\n",
    "                result[prop_index] = payoff_prop\n",
    "                result[respondent_index] = payoff_respondent\n",
    "                result[3] = 1.0\n",
    "                result[4] = t\n",
    "                result[5] = observed_proposals\n",
    "\n",
    "            else\n",
    "\n",
    "                result[prop_index] = payoff_prop\n",
    "                result[respondent_index] = payoff_respondent\n",
    "                result[3] = 3.0\n",
    "                result[4] = t\n",
    "                result[5] = observed_proposals\n",
    "\n",
    "\n",
    "            end\n",
    "        end\n",
    "\n",
    "\n",
    "        if(t==T)\n",
    "            \n",
    "            result[1] = s_W[T, 1, 1, 1]#todos os valores finais de S são iguais, então acessarei o índice 1\n",
    "            result[2] = j_W[T, 1, 1, 1]\n",
    "            result[3] = 1.0\n",
    "            result[4] = t\n",
    "            result[5] = max(observed_proposals, 1.0)\n",
    "            \n",
    "        end\n",
    "        \n",
    "\n",
    "\n",
    "\n",
    "\n",
    "    end\n",
    "    \n",
    "    \n",
    "    return result\n",
    "end\n",
    "\n",
    "        \n",
    "        \n",
    "#precisa colocar uma condição IF aqui para caso o jogo vá até o último período?\n",
    "    "
   ]
  },
  {
   "cell_type": "code",
   "execution_count": 10,
   "metadata": {},
   "outputs": [
    {
     "name": "stdout",
     "output_type": "stream",
     "text": [
      "  3.971 μs (31 allocations: 1.27 KiB)\n"
     ]
    },
    {
     "data": {
      "text/plain": [
       "5-element Array{Float64,1}:\n",
       " 0.179\n",
       " 0.13657513579999997\n",
       " 3.0\n",
       " 4.0\n",
       " 1.0"
      ]
     },
     "execution_count": 10,
     "metadata": {},
     "output_type": "execute_result"
    }
   ],
   "source": [
    "#unit testing\n",
    "@btime simulate_game(data1, game_parameters, simulation_parameters, A1[1], A1[2], A1[3], A1[4])"
   ]
  },
  {
   "cell_type": "code",
   "execution_count": 11,
   "metadata": {},
   "outputs": [],
   "source": [
    "function loop_simulations(S, N, game_parameters, simulation_parameters, data1, data2, A1, A2, n1)\n",
    "    \n",
    "    \n",
    "    \n",
    "    \n",
    "    \n",
    "    #S is the number of simulations\n",
    "    #N is the number of observations\n",
    "    #data1 is the center of the first cluster\n",
    "    #A1 is the collection of arrays from the first cluster (s_W, j_W, Pst, Pjt)\n",
    "    #n1 is the number of observations in the first cluster\n",
    "    \n",
    "    \n",
    "    \n",
    "    \n",
    "    #no futuro os argumentos podem ser arrays de arrays, assim ele faz o loop para cada cluster\n",
    "    Results = zeros(S, N, 7)\n",
    "\n",
    "    #últimas entradas de Results são os valores das dívidas\n",
    "    \n",
    "    \n",
    "    for s in 1:S\n",
    "        for n in 1:N\n",
    "            if(n <= n1)\n",
    "                Results[s,n,1:5] .= simulate_game(data1, game_parameters, simulation_parameters, A1[1], A1[2], A1[3], A1[4])\n",
    "                Results[s,n, end-1] = A1[5]\n",
    "                Results[s,n, end] = A1[6]\n",
    "            else\n",
    "                Results[s,n,1:5] .= simulate_game(data2, game_parameters, simulation_parameters, A2[1], A2[2], A2[3], A2[4])\n",
    "                Results[s,n, end-1] = A2[5]\n",
    "                Results[s,n, end] = A2[6]\n",
    "            end\n",
    "            \n",
    "        end\n",
    "    end\n",
    "\n",
    "    return Results\n",
    "    \n",
    "end\n",
    "\n",
    "    \n",
    "# loop_simulations(40, 75, θs0, θj0, μ, λj);"
   ]
  },
  {
   "cell_type": "code",
   "execution_count": 12,
   "metadata": {},
   "outputs": [
    {
     "data": {
      "text/plain": [
       "40×66×7 Array{Float64,3}:\n",
       "[:, :, 1] =\n",
       " 0.179333  0.179333  0.179333  0.181488  …  0.261496  0.26      0.26\n",
       " 0.178667  0.179333  0.275091  0.179333     0.309035  0.379928  0.26\n",
       " 0.179333  0.179333  0.179333  0.179        0.403541  0.33271   0.403541\n",
       " 0.179333  0.179     0.179333  0.179333     0.26      0.949208  0.451406\n",
       " 0.179333  0.179333  0.179     0.179333     0.427474  0.26      0.26\n",
       " 0.179     0.179333  0.179333  0.179333  …  0.26      0.522452  0.26\n",
       " 0.179333  0.179     0.179     0.185764     0.33271   0.285562  0.379928\n",
       " 0.179333  0.179     0.179333  0.179        0.33271   0.289729  0.309035\n",
       " 0.179     0.179     0.179333  0.40151      0.427474  0.26      0.759433\n",
       " 0.179     0.312877  0.179333  0.226129     0.26      0.26      0.261496\n",
       " 0.347866  0.179     0.179     0.199451  …  0.475041  0.569878  0.26\n",
       " 0.179333  0.179333  0.179333  0.200586     0.475041  0.26      0.26\n",
       " 0.179333  0.179     0.179     0.179333     0.33271   0.26      0.285562\n",
       " ⋮                                       ⋱                      ⋮\n",
       " 0.179333  0.179333  0.179     0.179        0.26      0.356235  0.26\n",
       " 0.179333  0.179333  0.188404  0.179333     0.26      0.356235  0.26\n",
       " 0.179333  0.179333  0.179333  0.179333  …  0.26      0.26      0.309035\n",
       " 0.179333  0.235776  0.179     0.179333     0.379928  0.26      0.26\n",
       " 0.486387  0.179333  0.179333  0.179        0.759433  0.26      0.26\n",
       " 0.179     0.179333  0.179333  0.179333     0.593742  0.379928  0.309035\n",
       " 0.179     0.179333  0.179     0.179        0.309035  0.403541  0.26\n",
       " 0.179     0.179333  0.179     0.179     …  0.522452  0.26      0.26\n",
       " 0.179333  0.194523  0.226129  0.37418      0.26      0.26      0.26\n",
       " 0.179     0.179333  0.179333  0.179333     0.33271   0.522452  0.593742\n",
       " 0.179333  0.179     0.179333  0.179333     0.26      0.309035  0.854868\n",
       " 0.179333  0.179333  0.179333  0.179333     0.26      0.356235  1.25775\n",
       "\n",
       "[:, :, 2] =\n",
       " 0.310081   0.315577   0.315577   0.0223033  …  1.27396   0.418667  0.418333\n",
       " 0.0254132  0.315577   0.0340123  0.321072      0.432395  0.432713  0.418333\n",
       " 0.310081   0.321072   0.321072   0.14711       0.432825  0.432478  0.432825\n",
       " 0.326568   0.136575   0.332063   0.326568      0.418667  0.432803  0.432207\n",
       " 0.310081   0.337558   0.133064   0.310081      0.432604  0.418333  0.418667\n",
       " 0.12604    0.321072   0.315577   0.315577   …  0.418667  0.432261  0.418333\n",
       " 0.326568   0.14711    0.140087   0.018221      0.432478  0.432116  0.432713\n",
       " 0.310081   0.140087   0.326568   0.143598      0.432478  0.422561  0.432395\n",
       " 0.133064   0.143598   0.321072   0.057304      0.432604  0.418333  0.432792\n",
       " 0.136575   0.0285427  0.321072   0.121524      0.418333  0.418333  1.27481\n",
       " 0.0809523  0.136575   0.143598   0.0817372  …  0.432481  0.432241  0.418333\n",
       " 0.326568   0.315577   0.337558   0.119572      0.432481  0.418333  0.418333\n",
       " 0.315577   0.133064   0.143598   0.315577      0.432478  0.418333  0.432116\n",
       " ⋮                                           ⋱                      ⋮\n",
       " 0.310081   0.315577   0.140087   0.136575      0.418333  0.432676  0.418333\n",
       " 0.326568   0.326568   0.0183702  0.315577      0.418333  0.432676  0.418333\n",
       " 0.310081   0.321072   0.315577   0.332063   …  0.418333  0.418333  0.432395\n",
       " 0.321072   0.119248   0.140087   0.315577      0.432713  0.418333  0.418333\n",
       " 0.0321016  0.310081   0.315577   0.143598      0.432792  0.418333  0.418667\n",
       " 0.133064   0.315577   0.326568   0.315577      0.432392  0.432713  0.432395\n",
       " 0.136575   0.326568   0.14711    0.133064      0.432395  0.432825  0.418333\n",
       " 0.140087   0.321072   0.140087   0.12604    …  0.432261  0.418333  0.418667\n",
       " 0.332063   0.543239   0.121524   0.0695635     0.418333  0.418333  0.418333\n",
       " 0.133064   0.321072   0.321072   0.315577      0.432478  0.432261  0.432392\n",
       " 0.310081   0.136575   0.315577   0.310081      0.418333  0.432395  0.432214\n",
       " 0.315577   0.321072   0.321072   0.321072      0.418333  0.432676  0.432645\n",
       "\n",
       "[:, :, 3] =\n",
       " 3.0  3.0  3.0  3.0  3.0  3.0  3.0  3.0  …  1.0  3.0  1.0  3.0  3.0  1.0  1.0\n",
       " 3.0  3.0  3.0  3.0  3.0  3.0  3.0  3.0     3.0  3.0  1.0  1.0  3.0  3.0  1.0\n",
       " 3.0  3.0  3.0  3.0  3.0  3.0  3.0  3.0     3.0  3.0  3.0  1.0  3.0  3.0  3.0\n",
       " 3.0  3.0  3.0  3.0  3.0  3.0  3.0  3.0     1.0  3.0  1.0  1.0  1.0  3.0  3.0\n",
       " 3.0  3.0  3.0  3.0  3.0  3.0  3.0  3.0     3.0  1.0  3.0  1.0  3.0  1.0  1.0\n",
       " 3.0  3.0  3.0  3.0  3.0  3.0  3.0  3.0  …  3.0  1.0  3.0  3.0  1.0  3.0  1.0\n",
       " 3.0  3.0  3.0  3.0  3.0  3.0  3.0  3.0     3.0  3.0  3.0  1.0  3.0  3.0  3.0\n",
       " 3.0  3.0  3.0  3.0  3.0  3.0  3.0  3.0     3.0  1.0  3.0  3.0  3.0  3.0  3.0\n",
       " 3.0  3.0  3.0  3.0  3.0  3.0  3.0  3.0     1.0  3.0  1.0  1.0  3.0  1.0  3.0\n",
       " 3.0  3.0  3.0  3.0  3.0  3.0  3.0  3.0     3.0  3.0  3.0  3.0  1.0  1.0  3.0\n",
       " 3.0  3.0  3.0  3.0  3.0  3.0  3.0  3.0  …  3.0  1.0  1.0  1.0  3.0  3.0  1.0\n",
       " 3.0  3.0  3.0  3.0  3.0  3.0  3.0  3.0     3.0  3.0  3.0  1.0  3.0  1.0  1.0\n",
       " 3.0  3.0  3.0  3.0  3.0  3.0  3.0  3.0     3.0  1.0  3.0  1.0  3.0  1.0  3.0\n",
       " ⋮                        ⋮              ⋱       ⋮                        ⋮\n",
       " 3.0  3.0  3.0  3.0  3.0  3.0  3.0  3.0     3.0  1.0  3.0  3.0  1.0  3.0  1.0\n",
       " 3.0  3.0  3.0  3.0  3.0  3.0  3.0  3.0     3.0  1.0  1.0  1.0  1.0  3.0  1.0\n",
       " 3.0  3.0  3.0  3.0  3.0  3.0  3.0  3.0  …  3.0  1.0  1.0  3.0  1.0  1.0  3.0\n",
       " 3.0  3.0  3.0  3.0  3.0  3.0  3.0  3.0     1.0  3.0  3.0  1.0  3.0  1.0  1.0\n",
       " 3.0  3.0  3.0  3.0  3.0  3.0  3.0  3.0     1.0  3.0  1.0  1.0  3.0  1.0  1.0\n",
       " 3.0  3.0  3.0  3.0  3.0  3.0  3.0  3.0     3.0  1.0  3.0  1.0  3.0  3.0  3.0\n",
       " 3.0  3.0  3.0  3.0  3.0  3.0  3.0  3.0     3.0  3.0  3.0  3.0  3.0  3.0  1.0\n",
       " 3.0  3.0  3.0  3.0  3.0  3.0  3.0  3.0  …  3.0  3.0  3.0  3.0  3.0  1.0  1.0\n",
       " 3.0  3.0  3.0  3.0  3.0  3.0  3.0  3.0     3.0  3.0  3.0  1.0  1.0  1.0  1.0\n",
       " 3.0  3.0  3.0  3.0  3.0  3.0  3.0  3.0     3.0  1.0  1.0  3.0  3.0  3.0  3.0\n",
       " 3.0  3.0  3.0  3.0  3.0  3.0  3.0  3.0     1.0  3.0  3.0  1.0  1.0  3.0  3.0\n",
       " 3.0  3.0  3.0  3.0  3.0  3.0  3.0  3.0     3.0  3.0  3.0  3.0  1.0  3.0  3.0\n",
       "\n",
       "[:, :, 4] =\n",
       " 3.0  3.0  3.0  4.0  3.0  3.0  4.0  3.0  …  6.0  2.0  6.0  2.0  3.0  5.0  6.0\n",
       " 5.0  3.0  3.0  3.0  2.0  3.0  3.0  3.0     2.0  2.0  5.0  6.0  2.0  2.0  6.0\n",
       " 3.0  3.0  3.0  4.0  3.0  4.0  2.0  4.0     2.0  2.0  2.0  5.0  2.0  2.0  2.0\n",
       " 3.0  4.0  3.0  3.0  4.0  4.0  3.0  3.0     6.0  2.0  6.0  6.0  5.0  2.0  2.0\n",
       " 3.0  3.0  4.0  3.0  4.0  3.0  4.0  3.0     2.0  6.0  2.0  6.0  2.0  6.0  5.0\n",
       " 4.0  3.0  3.0  3.0  3.0  2.0  3.0  3.0  …  2.0  6.0  4.0  2.0  5.0  2.0  6.0\n",
       " 3.0  4.0  4.0  4.0  3.0  3.0  4.0  4.0     2.0  2.0  2.0  6.0  2.0  2.0  2.0\n",
       " 3.0  4.0  3.0  4.0  3.0  3.0  3.0  3.0     2.0  6.0  2.0  3.0  2.0  3.0  2.0\n",
       " 4.0  4.0  3.0  2.0  2.0  2.0  2.0  3.0     6.0  2.0  6.0  6.0  2.0  6.0  2.0\n",
       " 4.0  3.0  3.0  2.0  3.0  2.0  3.0  3.0     4.0  2.0  2.0  1.0  6.0  6.0  3.0\n",
       " 2.0  4.0  4.0  3.0  2.0  3.0  4.0  4.0  …  2.0  5.0  6.0  6.0  2.0  2.0  6.0\n",
       " 3.0  3.0  3.0  2.0  3.0  3.0  4.0  3.0     4.0  2.0  2.0  6.0  2.0  6.0  6.0\n",
       " 3.0  4.0  4.0  3.0  3.0  3.0  4.0  3.0     2.0  6.0  2.0  6.0  2.0  6.0  2.0\n",
       " ⋮                        ⋮              ⋱       ⋮                        ⋮\n",
       " 3.0  3.0  4.0  4.0  3.0  3.0  3.0  4.0     2.0  6.0  2.0  2.0  6.0  2.0  6.0\n",
       " 3.0  3.0  4.0  3.0  4.0  4.0  3.0  4.0     2.0  6.0  5.0  6.0  6.0  2.0  6.0\n",
       " 3.0  3.0  3.0  3.0  3.0  3.0  3.0  3.0  …  2.0  5.0  6.0  2.0  6.0  6.0  2.0\n",
       " 3.0  2.0  4.0  3.0  4.0  3.0  3.0  3.0     6.0  2.0  2.0  6.0  2.0  6.0  6.0\n",
       " 2.0  3.0  3.0  4.0  4.0  5.0  4.0  3.0     6.0  4.0  6.0  6.0  2.0  6.0  5.0\n",
       " 4.0  3.0  3.0  3.0  3.0  2.0  4.0  3.0     2.0  5.0  2.0  5.0  2.0  2.0  2.0\n",
       " 4.0  3.0  4.0  4.0  2.0  4.0  4.0  3.0     4.0  2.0  3.0  2.0  2.0  2.0  6.0\n",
       " 4.0  3.0  4.0  4.0  4.0  2.0  3.0  4.0  …  2.0  2.0  2.0  2.0  2.0  6.0  5.0\n",
       " 3.0  1.0  2.0  2.0  3.0  4.0  3.0  3.0     2.0  2.0  2.0  6.0  6.0  6.0  6.0\n",
       " 4.0  3.0  3.0  3.0  3.0  2.0  3.0  4.0     2.0  6.0  6.0  2.0  2.0  2.0  2.0\n",
       " 3.0  4.0  3.0  3.0  3.0  2.0  3.0  3.0     6.0  2.0  2.0  6.0  6.0  2.0  2.0\n",
       " 3.0  3.0  3.0  3.0  2.0  4.0  4.0  3.0     2.0  2.0  2.0  2.0  6.0  2.0  2.0\n",
       "\n",
       "[:, :, 5] =\n",
       " 1.0  1.0  1.0  2.0  1.0  1.0  1.0  1.0  …  1.0  1.0  1.0  1.0  1.0  1.0  1.0\n",
       " 3.0  1.0  1.0  1.0  1.0  1.0  1.0  1.0     1.0  2.0  1.0  1.0  1.0  1.0  1.0\n",
       " 1.0  1.0  1.0  3.0  1.0  1.0  1.0  1.0     1.0  1.0  1.0  1.0  1.0  1.0  1.0\n",
       " 1.0  1.0  1.0  1.0  1.0  1.0  1.0  1.0     1.0  1.0  1.0  1.0  1.0  1.0  1.0\n",
       " 1.0  1.0  1.0  1.0  2.0  1.0  1.0  1.0     1.0  1.0  1.0  1.0  1.0  1.0  1.0\n",
       " 1.0  1.0  1.0  1.0  1.0  2.0  1.0  1.0  …  1.0  1.0  1.0  1.0  1.0  1.0  1.0\n",
       " 1.0  2.0  1.0  2.0  1.0  1.0  1.0  1.0     1.0  1.0  1.0  1.0  1.0  1.0  1.0\n",
       " 1.0  2.0  1.0  1.0  1.0  1.0  1.0  1.0     1.0  1.0  1.0  1.0  1.0  1.0  1.0\n",
       " 1.0  2.0  1.0  1.0  1.0  1.0  1.0  1.0     1.0  1.0  1.0  1.0  1.0  1.0  1.0\n",
       " 1.0  2.0  1.0  1.0  1.0  1.0  1.0  1.0     1.0  1.0  1.0  1.0  1.0  1.0  1.0\n",
       " 1.0  1.0  2.0  1.0  1.0  1.0  1.0  1.0  …  1.0  1.0  1.0  1.0  1.0  1.0  1.0\n",
       " 1.0  1.0  1.0  1.0  1.0  1.0  1.0  1.0     1.0  1.0  1.0  1.0  1.0  1.0  1.0\n",
       " 1.0  1.0  1.0  1.0  1.0  1.0  2.0  1.0     1.0  1.0  1.0  1.0  1.0  1.0  1.0\n",
       " ⋮                        ⋮              ⋱       ⋮                        ⋮\n",
       " 1.0  1.0  1.0  1.0  1.0  1.0  1.0  1.0     1.0  1.0  1.0  1.0  1.0  1.0  1.0\n",
       " 1.0  1.0  2.0  1.0  1.0  1.0  1.0  1.0     1.0  1.0  1.0  1.0  1.0  1.0  1.0\n",
       " 1.0  1.0  1.0  1.0  1.0  1.0  1.0  1.0  …  1.0  1.0  1.0  1.0  1.0  1.0  1.0\n",
       " 1.0  1.0  2.0  1.0  1.0  1.0  1.0  1.0     1.0  1.0  1.0  1.0  1.0  1.0  1.0\n",
       " 1.0  1.0  1.0  1.0  1.0  2.0  1.0  1.0     1.0  1.0  1.0  1.0  1.0  1.0  1.0\n",
       " 1.0  1.0  1.0  1.0  1.0  1.0  1.0  1.0     1.0  1.0  1.0  1.0  1.0  1.0  1.0\n",
       " 1.0  1.0  1.0  1.0  1.0  1.0  1.0  1.0     1.0  1.0  1.0  1.0  1.0  1.0  1.0\n",
       " 1.0  1.0  1.0  1.0  1.0  1.0  1.0  1.0  …  1.0  1.0  1.0  1.0  1.0  1.0  1.0\n",
       " 1.0  1.0  1.0  1.0  1.0  1.0  1.0  1.0     1.0  1.0  1.0  1.0  1.0  1.0  1.0\n",
       " 1.0  1.0  1.0  1.0  1.0  1.0  1.0  1.0     1.0  1.0  1.0  1.0  1.0  1.0  1.0\n",
       " 1.0  1.0  1.0  1.0  1.0  2.0  1.0  1.0     1.0  1.0  1.0  1.0  1.0  1.0  1.0\n",
       " 1.0  1.0  1.0  1.0  1.0  1.0  1.0  1.0     1.0  1.0  1.0  1.0  1.0  1.0  1.0\n",
       "\n",
       "[:, :, 6] =\n",
       " 0.2  0.2  0.2  0.2  0.2  0.2  0.2  …  0.26  0.26  0.26  0.26  0.26  0.26\n",
       " 0.2  0.2  0.2  0.2  0.2  0.2  0.2     0.26  0.26  0.26  0.26  0.26  0.26\n",
       " 0.2  0.2  0.2  0.2  0.2  0.2  0.2     0.26  0.26  0.26  0.26  0.26  0.26\n",
       " 0.2  0.2  0.2  0.2  0.2  0.2  0.2     0.26  0.26  0.26  0.26  0.26  0.26\n",
       " 0.2  0.2  0.2  0.2  0.2  0.2  0.2     0.26  0.26  0.26  0.26  0.26  0.26\n",
       " 0.2  0.2  0.2  0.2  0.2  0.2  0.2  …  0.26  0.26  0.26  0.26  0.26  0.26\n",
       " 0.2  0.2  0.2  0.2  0.2  0.2  0.2     0.26  0.26  0.26  0.26  0.26  0.26\n",
       " 0.2  0.2  0.2  0.2  0.2  0.2  0.2     0.26  0.26  0.26  0.26  0.26  0.26\n",
       " 0.2  0.2  0.2  0.2  0.2  0.2  0.2     0.26  0.26  0.26  0.26  0.26  0.26\n",
       " 0.2  0.2  0.2  0.2  0.2  0.2  0.2     0.26  0.26  0.26  0.26  0.26  0.26\n",
       " 0.2  0.2  0.2  0.2  0.2  0.2  0.2  …  0.26  0.26  0.26  0.26  0.26  0.26\n",
       " 0.2  0.2  0.2  0.2  0.2  0.2  0.2     0.26  0.26  0.26  0.26  0.26  0.26\n",
       " 0.2  0.2  0.2  0.2  0.2  0.2  0.2     0.26  0.26  0.26  0.26  0.26  0.26\n",
       " ⋮                        ⋮         ⋱  ⋮                             ⋮\n",
       " 0.2  0.2  0.2  0.2  0.2  0.2  0.2     0.26  0.26  0.26  0.26  0.26  0.26\n",
       " 0.2  0.2  0.2  0.2  0.2  0.2  0.2     0.26  0.26  0.26  0.26  0.26  0.26\n",
       " 0.2  0.2  0.2  0.2  0.2  0.2  0.2  …  0.26  0.26  0.26  0.26  0.26  0.26\n",
       " 0.2  0.2  0.2  0.2  0.2  0.2  0.2     0.26  0.26  0.26  0.26  0.26  0.26\n",
       " 0.2  0.2  0.2  0.2  0.2  0.2  0.2     0.26  0.26  0.26  0.26  0.26  0.26\n",
       " 0.2  0.2  0.2  0.2  0.2  0.2  0.2     0.26  0.26  0.26  0.26  0.26  0.26\n",
       " 0.2  0.2  0.2  0.2  0.2  0.2  0.2     0.26  0.26  0.26  0.26  0.26  0.26\n",
       " 0.2  0.2  0.2  0.2  0.2  0.2  0.2  …  0.26  0.26  0.26  0.26  0.26  0.26\n",
       " 0.2  0.2  0.2  0.2  0.2  0.2  0.2     0.26  0.26  0.26  0.26  0.26  0.26\n",
       " 0.2  0.2  0.2  0.2  0.2  0.2  0.2     0.26  0.26  0.26  0.26  0.26  0.26\n",
       " 0.2  0.2  0.2  0.2  0.2  0.2  0.2     0.26  0.26  0.26  0.26  0.26  0.26\n",
       " 0.2  0.2  0.2  0.2  0.2  0.2  0.2     0.26  0.26  0.26  0.26  0.26  0.26\n",
       "\n",
       "[:, :, 7] =\n",
       " 0.8  0.8  0.8  0.8  0.8  0.8  0.8  …  0.74  0.74  0.74  0.74  0.74  0.74\n",
       " 0.8  0.8  0.8  0.8  0.8  0.8  0.8     0.74  0.74  0.74  0.74  0.74  0.74\n",
       " 0.8  0.8  0.8  0.8  0.8  0.8  0.8     0.74  0.74  0.74  0.74  0.74  0.74\n",
       " 0.8  0.8  0.8  0.8  0.8  0.8  0.8     0.74  0.74  0.74  0.74  0.74  0.74\n",
       " 0.8  0.8  0.8  0.8  0.8  0.8  0.8     0.74  0.74  0.74  0.74  0.74  0.74\n",
       " 0.8  0.8  0.8  0.8  0.8  0.8  0.8  …  0.74  0.74  0.74  0.74  0.74  0.74\n",
       " 0.8  0.8  0.8  0.8  0.8  0.8  0.8     0.74  0.74  0.74  0.74  0.74  0.74\n",
       " 0.8  0.8  0.8  0.8  0.8  0.8  0.8     0.74  0.74  0.74  0.74  0.74  0.74\n",
       " 0.8  0.8  0.8  0.8  0.8  0.8  0.8     0.74  0.74  0.74  0.74  0.74  0.74\n",
       " 0.8  0.8  0.8  0.8  0.8  0.8  0.8     0.74  0.74  0.74  0.74  0.74  0.74\n",
       " 0.8  0.8  0.8  0.8  0.8  0.8  0.8  …  0.74  0.74  0.74  0.74  0.74  0.74\n",
       " 0.8  0.8  0.8  0.8  0.8  0.8  0.8     0.74  0.74  0.74  0.74  0.74  0.74\n",
       " 0.8  0.8  0.8  0.8  0.8  0.8  0.8     0.74  0.74  0.74  0.74  0.74  0.74\n",
       " ⋮                        ⋮         ⋱  ⋮                             ⋮\n",
       " 0.8  0.8  0.8  0.8  0.8  0.8  0.8     0.74  0.74  0.74  0.74  0.74  0.74\n",
       " 0.8  0.8  0.8  0.8  0.8  0.8  0.8     0.74  0.74  0.74  0.74  0.74  0.74\n",
       " 0.8  0.8  0.8  0.8  0.8  0.8  0.8  …  0.74  0.74  0.74  0.74  0.74  0.74\n",
       " 0.8  0.8  0.8  0.8  0.8  0.8  0.8     0.74  0.74  0.74  0.74  0.74  0.74\n",
       " 0.8  0.8  0.8  0.8  0.8  0.8  0.8     0.74  0.74  0.74  0.74  0.74  0.74\n",
       " 0.8  0.8  0.8  0.8  0.8  0.8  0.8     0.74  0.74  0.74  0.74  0.74  0.74\n",
       " 0.8  0.8  0.8  0.8  0.8  0.8  0.8     0.74  0.74  0.74  0.74  0.74  0.74\n",
       " 0.8  0.8  0.8  0.8  0.8  0.8  0.8  …  0.74  0.74  0.74  0.74  0.74  0.74\n",
       " 0.8  0.8  0.8  0.8  0.8  0.8  0.8     0.74  0.74  0.74  0.74  0.74  0.74\n",
       " 0.8  0.8  0.8  0.8  0.8  0.8  0.8     0.74  0.74  0.74  0.74  0.74  0.74\n",
       " 0.8  0.8  0.8  0.8  0.8  0.8  0.8     0.74  0.74  0.74  0.74  0.74  0.74\n",
       " 0.8  0.8  0.8  0.8  0.8  0.8  0.8     0.74  0.74  0.74  0.74  0.74  0.74"
      ]
     },
     "execution_count": 12,
     "metadata": {},
     "output_type": "execute_result"
    }
   ],
   "source": [
    "#unit testing\n",
    "S = 40\n",
    "N = 66\n",
    "\n",
    "using Random\n",
    "\n",
    "Random.seed!(2021)\n",
    "\n",
    "Results = loop_simulations(S, N, game_parameters, simulation_parameters, data1, data2, A1, A2, n1)"
   ]
  },
  {
   "cell_type": "code",
   "execution_count": 13,
   "metadata": {},
   "outputs": [
    {
     "data": {
      "text/plain": [
       "66-element Array{Float64,1}:\n",
       " 0.3100814\n",
       " 0.31557680000000005\n",
       " 0.31557680000000005\n",
       " 0.02230333655176977\n",
       " 0.32107220000000003\n",
       " 0.32107220000000003\n",
       " 0.143598257\n",
       " 0.332063\n",
       " 0.3100814\n",
       " 0.31557680000000005\n",
       " 0.304586\n",
       " 0.143598257\n",
       " 0.332063\n",
       " ⋮\n",
       " 0.4183333333333332\n",
       " 0.43260388888888884\n",
       " 1.8688382320579078\n",
       " 0.4328248014681348\n",
       " 0.4324810460460461\n",
       " 0.4183333333333332\n",
       " 0.4324776192859527\n",
       " 0.4183333333333332\n",
       " 0.4326642909576242\n",
       " 1.2739563585730553\n",
       " 0.41866666666666663\n",
       " 0.4183333333333332"
      ]
     },
     "execution_count": 13,
     "metadata": {},
     "output_type": "execute_result"
    }
   ],
   "source": [
    "Results[1,:, 2]"
   ]
  },
  {
   "cell_type": "code",
   "execution_count": 14,
   "metadata": {},
   "outputs": [
    {
     "data": {
      "text/plain": [
       "66-element Array{Float64,1}:\n",
       " 0.6335759405690143\n",
       " 0.6376446525241216\n",
       " 0.6376446525241216\n",
       " 0.10944195968778397\n",
       " 0.6416240001609361\n",
       " 0.6416240001609361\n",
       " 0.4451302940548746\n",
       " 0.6493261260509624\n",
       " 0.6335759405690143\n",
       " 0.6376446525241216\n",
       " 0.6294148198253428\n",
       " 0.4451302940548746\n",
       " 0.6493261260509624\n",
       " ⋮\n",
       " 0.6167076167076166\n",
       " 0.5029825009786767\n",
       " 0.8199239624901448\n",
       " 0.5175064204013511\n",
       " 0.4765515094967668\n",
       " 0.6167076167076166\n",
       " 0.5651913531339122\n",
       " 0.6167076167076166\n",
       " 0.40300064049036055\n",
       " 0.8296945379390959\n",
       " 0.6168958742632613\n",
       " 0.6167076167076166"
      ]
     },
     "execution_count": 14,
     "metadata": {},
     "output_type": "execute_result"
    }
   ],
   "source": [
    "s=1\n",
    "\n",
    "\n",
    "x = Results[s,:, 2] ./ (Results[s, :, 1] .+ Results[s,:, 2])"
   ]
  },
  {
   "cell_type": "code",
   "execution_count": 15,
   "metadata": {},
   "outputs": [
    {
     "data": {
      "text/plain": [
       "Summary Stats:\n",
       "Length:         66\n",
       "Missing Count:  0\n",
       "Mean:           0.561257\n",
       "Minimum:        0.078153\n",
       "1st Quartile:   0.445130\n",
       "Median:         0.633576\n",
       "3rd Quartile:   0.641624\n",
       "Maximum:        0.829874\n"
      ]
     },
     "execution_count": 15,
     "metadata": {},
     "output_type": "execute_result"
    }
   ],
   "source": [
    "using StatsBase\n",
    "summarystats(x)"
   ]
  },
  {
   "cell_type": "code",
   "execution_count": 16,
   "metadata": {},
   "outputs": [
    {
     "data": {
      "text/plain": [
       "67:66"
      ]
     },
     "execution_count": 16,
     "metadata": {},
     "output_type": "execute_result"
    }
   ],
   "source": [
    "searchsorted(x, Inf)"
   ]
  },
  {
   "cell_type": "code",
   "execution_count": 17,
   "metadata": {},
   "outputs": [
    {
     "data": {
      "text/plain": [
       "(0.8298742562240793, 53)"
      ]
     },
     "execution_count": 17,
     "metadata": {},
     "output_type": "execute_result"
    }
   ],
   "source": [
    "findmax(x)"
   ]
  },
  {
   "cell_type": "code",
   "execution_count": 18,
   "metadata": {},
   "outputs": [
    {
     "data": {
      "text/plain": [
       "0.6376446525241216"
      ]
     },
     "execution_count": 18,
     "metadata": {},
     "output_type": "execute_result"
    }
   ],
   "source": [
    "x[26]"
   ]
  },
  {
   "cell_type": "code",
   "execution_count": 19,
   "metadata": {},
   "outputs": [
    {
     "data": {
      "text/plain": [
       "7-element Array{Float64,1}:\n",
       " 0.17933333333333334\n",
       " 0.31557680000000005\n",
       " 3.0\n",
       " 3.0\n",
       " 1.0\n",
       " 0.19999999999999996\n",
       " 0.8"
      ]
     },
     "execution_count": 19,
     "metadata": {},
     "output_type": "execute_result"
    }
   ],
   "source": [
    "Results[s, 26, :]"
   ]
  },
  {
   "cell_type": "code",
   "execution_count": 20,
   "metadata": {},
   "outputs": [
    {
     "data": {
      "text/plain": [
       "Float64[]"
      ]
     },
     "execution_count": 20,
     "metadata": {},
     "output_type": "execute_result"
    }
   ],
   "source": [
    "x[x .== Inf]"
   ]
  },
  {
   "cell_type": "code",
   "execution_count": 21,
   "metadata": {},
   "outputs": [
    {
     "data": {
      "text/plain": [
       "simulate_moments (generic function with 1 method)"
      ]
     },
     "execution_count": 21,
     "metadata": {},
     "output_type": "execute_result"
    }
   ],
   "source": [
    "function simulate_moments(S, N, game_parameters, simulation_parameters, data1, data2, A1, A2, n1)\n",
    "    \n",
    "    \n",
    "    Results = loop_simulations(S, N, game_parameters, simulation_parameters, data1, data2, A1, A2, n1)\n",
    "    \n",
    "    Moments = zeros(S, 8)\n",
    "    \n",
    "    μ = simulation_parameters[3]\n",
    "    for s in 1:S\n",
    "\n",
    "            DF = DataFrame()\n",
    "            DF.payoff_s = Results[s,:,1];\n",
    "            DF.payoff_j = Results[s,:,2];\n",
    "            DF.out = Results[s,:,3];\n",
    "            DF.t = Results[s,:,4];\n",
    "            DF.observed_proposals = Results[s,:,5];\n",
    "            DF.Ds = Results[s,:,6];\n",
    "            DF.Dj = Results[s,:,7];\n",
    "\n",
    "\n",
    "            DF.outcome = ifelse.(DF.out .==3.0, \"R\", \"L\");\n",
    "\n",
    "\n",
    "            #desfazendo o deslocamento no índice de t\n",
    "            DF.t = DF.t .- 1.0;\n",
    "\n",
    "            # DF.incourt = ifelse.(DF.t .> 0.0, \"incourt\", \"precourt\");\n",
    "\n",
    "            INCOURT = filter(DF -> DF.t .> 0.0, DF);\n",
    "            PRECOURT = filter(DF -> DF.t .<= 0.0, DF);\n",
    "\n",
    "            PRECOURT_REORG = filter(PRECOURT -> PRECOURT.outcome .== \"R\", PRECOURT)\n",
    "            INCOURT_REORG = filter(INCOURT -> INCOURT.outcome .== \"R\", INCOURT)\n",
    "\n",
    "            #cálculo dos momentos\n",
    "            #1. avg log number of months between observed proposals incourt\n",
    "\n",
    "            mm1 = INCOURT\n",
    "            mm1 = log.(mm1.t .* μ ./ mm1.observed_proposals)\n",
    "            mm1 = mean(mm1)\n",
    "\n",
    "            #2. fraction reorganized given that the case went into court\n",
    "\n",
    "            mm2 = size(INCOURT_REORG,1)/ size(INCOURT,1)\n",
    "\n",
    "            #3. ln duration of court cases in months\n",
    "\n",
    "            mm3 = INCOURT\n",
    "            mm3 = filter(mm3 -> mm3.t .> 0.0, mm3) #removendo os casos 0 para não poluir a média\n",
    "            mm3.t = mm3.t .* μ\n",
    "            mm3 = mean(log.(mm3.t)) #log here uses exp as base, so it's the same as ln\n",
    "\n",
    "            #4. fraction of cases incourt\n",
    "            mm4 = size(INCOURT,1) / size(DF, 1)\n",
    "\n",
    "            #5. avg recovery rate for senior given precourt REORGANIZATION\n",
    "\n",
    "            #aqui nós temos Ds, então é mais fácil. Preciso automatizar isso no código quando for tudo escalado\n",
    "\n",
    "            mm5 = PRECOURT_REORG\n",
    "            mm5.R_s = mm5.payoff_s ./ mm5.Ds\n",
    "            mm5 = mean(mm5.R_s)\n",
    "\n",
    "\n",
    "\n",
    "            #6. avg recovery rate for junior given precourt REORGANIZATION\n",
    "\n",
    "            #aqui nós temos Ds, então é mais fácil. Preciso automatizar isso no código quando for tudo escalado\n",
    "\n",
    "            mm6 = PRECOURT_REORG\n",
    "            mm6.R_j = mm6.payoff_j ./ mm6.Dj\n",
    "            mm6 = mean(mm6.R_j)\n",
    "\n",
    "\n",
    "            #7. junior avg fraction gain given incourt REORGANIZATION\n",
    "\n",
    "            mm7 = INCOURT_REORG\n",
    "            mm7 = mean(mm7.payoff_j ./ (mm7.payoff_j .+ mm7.payoff_s )) \n",
    "\n",
    "            #8. total recovery rate given incourt REORGANIZATION\n",
    "\n",
    "            mm8 = INCOURT_REORG\n",
    "            mm8 = mean( mm8.payoff_s .+ mm8.payoff_j)\n",
    "        \n",
    "        \n",
    "            Moments[s,:] .= [mm1, mm2, mm3, mm4, mm5, mm6, mm7, mm8]\n",
    "\n",
    "            \n",
    "            #if there are no INCOURT or no PRECOURT cases, it will return NaN\n",
    "            #thus, we replace it by zero\n",
    "            Moments[s,:] .= replace!(Moments[s,:], NaN=> zero(0.0))\n",
    "\n",
    "        end\n",
    "    return vec(mean(Moments, dims=1))\n",
    "end\n",
    "\n",
    "\n",
    "\n",
    "  "
   ]
  },
  {
   "cell_type": "code",
   "execution_count": 23,
   "metadata": {
    "scrolled": true
   },
   "outputs": [
    {
     "data": {
      "text/plain": [
       "8-element Array{Float64,1}:\n",
       " 2.220022962758409\n",
       " 0.8853575348262847\n",
       " 2.2618368968261358\n",
       " 0.9896969696969697\n",
       " 0.6054418352968354\n",
       " 0.5345749164581954\n",
       " 0.5291769118653423\n",
       " 0.5100150830412142"
      ]
     },
     "execution_count": 23,
     "metadata": {},
     "output_type": "execute_result"
    }
   ],
   "source": [
    "using Random\n",
    "\n",
    "Random.seed!(2021)\n",
    "\n",
    "#test\n",
    "S = 100\n",
    "N = 66\n",
    "\n",
    "simulated_moments = simulate_moments(S, N, game_parameters, simulation_parameters, data1, data2, A1, A2, n1)"
   ]
  },
  {
   "cell_type": "markdown",
   "metadata": {},
   "source": [
    "Calculando a matriz de pesos ótima com os resultados dessa estimação\n",
    "\n",
    "\n",
    "Two-step variance covariance estimator of W\n",
    "https://notes.quantecon.org/submission/5b3db2ceb9eab00015b89f93\n",
    "\n"
   ]
  },
  {
   "cell_type": "code",
   "execution_count": 24,
   "metadata": {},
   "outputs": [],
   "source": [
    "#data_moments\n",
    "data_moments = [2.11, 0.843, 2.76, 0.969, 0.6235, 0.5569, 0.773, 0.497];"
   ]
  },
  {
   "cell_type": "code",
   "execution_count": 25,
   "metadata": {},
   "outputs": [
    {
     "data": {
      "text/plain": [
       "omega (generic function with 1 method)"
      ]
     },
     "execution_count": 25,
     "metadata": {},
     "output_type": "execute_result"
    }
   ],
   "source": [
    "function omega(N, data_moments, simulated_moments)\n",
    "    \n",
    "    error = (simulated_moments .- data_moments) ./ data_moments\n",
    "    \n",
    "    omega = 1/N * error * transpose(error)\n",
    "    \n",
    "    return omega\n",
    "end"
   ]
  },
  {
   "cell_type": "code",
   "execution_count": 26,
   "metadata": {},
   "outputs": [
    {
     "data": {
      "text/plain": [
       "8×8 Array{Float64,2}:\n",
       "   9.0388     8.70989  -31.2876    3.70248  …  -6.94905  -54.6771    4.53942\n",
       "   8.70989    8.39296  -30.1491    3.56775     -6.69619  -52.6875    4.37424\n",
       " -31.2876   -30.1491   108.301   -12.8161      24.054    189.263   -15.7131\n",
       "   3.70248    3.56775  -12.8161    1.51661     -2.84648  -22.3969    1.85944\n",
       "  -5.0205    -4.83781   17.3783   -2.0565       3.85977   30.3698   -2.52137\n",
       "  -6.94905   -6.69619   24.054    -2.84648  …   5.34245   42.0359   -3.48992\n",
       " -54.6771   -52.6875   189.263   -22.3969      42.0359   330.75    -27.4596\n",
       "   4.53942    4.37424  -15.7131    1.85944     -3.48992  -27.4596    2.27976"
      ]
     },
     "execution_count": 26,
     "metadata": {},
     "output_type": "execute_result"
    }
   ],
   "source": [
    "W_2step = pinv(omega(N, data_moments, simulated_moments))"
   ]
  },
  {
   "cell_type": "code",
   "execution_count": 27,
   "metadata": {},
   "outputs": [
    {
     "data": {
      "text/plain": [
       "8-element Array{Float64,1}:\n",
       "   9.038796990009615\n",
       "   8.39295849540429\n",
       " 108.3013383421914\n",
       "   1.5166132469418885\n",
       "   2.7885804316048124\n",
       "   5.342451905470017\n",
       " 330.7497607555904\n",
       "   2.279764469905542"
      ]
     },
     "execution_count": 27,
     "metadata": {},
     "output_type": "execute_result"
    }
   ],
   "source": [
    "#pesos dados a cada um dos momentos\n",
    "diag(W_2step)"
   ]
  },
  {
   "cell_type": "markdown",
   "metadata": {},
   "source": [
    "Calculando a derivada dos momentos em relação aos parâmetros"
   ]
  },
  {
   "cell_type": "code",
   "execution_count": 28,
   "metadata": {},
   "outputs": [
    {
     "data": {
      "text/plain": [
       "simulate_new_moments (generic function with 1 method)"
      ]
     },
     "execution_count": 28,
     "metadata": {},
     "output_type": "execute_result"
    }
   ],
   "source": [
    "function simulate_new_moments(i, S, N, game_parameters, simulation_parameters, data1, data2, A1, A2, n1)\n",
    "    \n",
    "    \n",
    "    println(\"parameter \",i, game_parameters, simulation_parameters)\n",
    "        \n",
    "    θs0, θj0, μ = simulation_parameters;\n",
    "    θs0 = Int64(round(θs0, digits=0));\n",
    "    θj0 = Int64(round(θj0, digits=0));\n",
    "\n",
    "    λj = game_parameters[4];\n",
    "    new_simulated_moments = simulate_moments(S, N, game_parameters, simulation_parameters, data1, data2, A1, A2, n1) \n",
    "    \n",
    "    return new_simulated_moments\n",
    "end"
   ]
  },
  {
   "cell_type": "code",
   "execution_count": 29,
   "metadata": {},
   "outputs": [
    {
     "data": {
      "text/plain": [
       "derivative_moments (generic function with 1 method)"
      ]
     },
     "execution_count": 29,
     "metadata": {},
     "output_type": "execute_result"
    }
   ],
   "source": [
    " \n",
    "function derivative_moments(S, N, game_parameters, simulation_parameters, data1, data2, n1, aux)\n",
    "\n",
    "    \n",
    "    \n",
    "    \n",
    "    #https://en.wikibooks.org/wiki/Introduction_to_Numerical_Methods/Numerical_Differentiation\n",
    "    #backward divided difference method\n",
    "\n",
    "   \n",
    "\n",
    "\n",
    "    estimated_game_parameters = game_parameters\n",
    "    estimated_simulation_parameters = simulation_parameters\n",
    "\n",
    "\n",
    "\n",
    "    A2 = @spawnat aux solve_tree(data2, game_parameters)\n",
    "    A1 = solve_tree(data1, game_parameters)\n",
    "    A2 = fetch(A2)\n",
    "    \n",
    "    \n",
    "    \n",
    "    simulated_moments = simulate_moments(S, N, game_parameters, simulation_parameters, data1, data2, A1, A2, n1)\n",
    "\n",
    "    P = size(game_parameters,1)+size(simulation_parameters,1)\n",
    "    M = size(simulated_moments,1)\n",
    "    D = zeros(M, P)\n",
    "    \n",
    "    #porcentagem de variação no parâmetro\n",
    "    pct = 1/100\n",
    "    \n",
    "    for p in P:-1:1\n",
    "\n",
    "        if(p>size(game_parameters,1))\n",
    "\n",
    "            simulation_parameters = copy(estimated_simulation_parameters)\n",
    "            \n",
    "            delta = simulation_parameters[p-size(game_parameters,1)] * pct\n",
    "\n",
    "            simulation_parameters[p-size(game_parameters,1)] -= delta\n",
    "\n",
    "\n",
    "            if(p == 5 || p ==6) #para ajustar caso seja habilidade inicial de S ou de J\n",
    "                simulation_parameters[p-size(game_parameters,1)] = round(simulation_parameters[p-size(game_parameters,1)], digits=0)\n",
    "            end\n",
    "            \n",
    "            \n",
    "            #caso a variação percentual não seja suficiente para reduzir habilidades iniciais, delta será 1\n",
    "            if(simulation_parameters[p-size(game_parameters,1)] == estimated_simulation_parameters[p-size(game_parameters,1)])\n",
    "                delta = Int64(1)\n",
    "                \n",
    "                simulation_parameters[p-size(game_parameters,1)] -= delta\n",
    "            end\n",
    "\n",
    "            new_simulated_moments = simulate_new_moments(p, S, N, game_parameters, simulation_parameters, data1, data2, A1, A2, n1)\n",
    "\n",
    "            D[:, p] = (simulated_moments - new_simulated_moments) ./ delta\n",
    "            \n",
    "        else\n",
    "\n",
    "            #se for um parâmetro de jogo, precisa recalcular o jogo\n",
    "\n",
    "            game_parameters = copy(estimated_game_parameters)\n",
    "            \n",
    "            delta = game_parameters[p] * pct\n",
    "            game_parameters[p] -= delta\n",
    "\n",
    "            A2 = @spawnat aux solve_tree(data2, game_parameters)\n",
    "            A1 = solve_tree(data1, game_parameters)\n",
    "            A2 = fetch(A2)\n",
    "\n",
    "\n",
    "\n",
    "            new_simulated_moments = simulate_new_moments(p, S, N, game_parameters, simulation_parameters, data1, data2, A1, A2, n1)\n",
    "\n",
    "            D[:, p] = (simulated_moments - new_simulated_moments) ./ delta\n",
    "\n",
    "\n",
    "        end\n",
    "\n",
    "\n",
    "    end\n",
    "    \n",
    "    \n",
    "    \n",
    "    return D\n",
    "end\n",
    "    "
   ]
  },
  {
   "cell_type": "code",
   "execution_count": 30,
   "metadata": {},
   "outputs": [
    {
     "name": "stdout",
     "output_type": "stream",
     "text": [
      " 47.812134 seconds (141.59 M allocations: 3.154 GiB, 2.63% gc time)\n",
      "      From worker 3:\t 36.023834 seconds (141.59 M allocations: 3.154 GiB, 1.82% gc time)\n",
      "parameter 7[0.639, 8.553, 0.01, 0.011][11.0, 90.0, 4.4975700000000005]\n",
      "parameter 6[0.639, 8.553, 0.01, 0.011][11.0, 89.0, 4.543]\n",
      "parameter 5[0.639, 8.553, 0.01, 0.011][10.0, 90.0, 4.543]\n",
      "       From worker 3:\t 53.414062 seconds (141.59 M allocations: 3.154 GiB, 18.75% gc time)\n",
      "71.382463 seconds (141.59 M allocations: 3.154 GiB, 33.65% gc time)\n",
      "parameter 4[0.639, 8.553, 0.01, 0.010889999999999999][10.0, 90.0, 4.543]\n",
      "       From worker 3:\t 43.159837 seconds (141.59 M allocations: 3.154 GiB, 1.75% gc time)\n",
      "48.536867 seconds (141.59 M allocations: 3.154 GiB, 1.18% gc time)\n",
      "parameter 3[0.639, 8.553, 0.0099, 0.011][10.0, 90.0, 4.543]\n",
      "       From worker 3:\t 42.902130 seconds (141.59 M allocations: 3.154 GiB, 1.16% gc time)\n",
      "49.739593 seconds (141.59 M allocations: 3.154 GiB, 1.44% gc time)\n",
      "parameter 2[0.639, 8.46747, 0.01, 0.011][10.0, 90.0, 4.543]\n",
      "       From worker 3:\t 37.256886 seconds (112.66 M allocations: 2.514 GiB, 1.12% gc time)\n",
      "47.950054 seconds (141.59 M allocations: 3.154 GiB, 1.44% gc time)\n",
      "parameter 1[0.63261, 8.553, 0.01, 0.011][10.0, 90.0, 4.543]\n"
     ]
    },
    {
     "data": {
      "text/plain": [
       "8×7 Array{Float64,2}:\n",
       "   1.30515    -0.271256    -1298.28    -1289.38   …  -0.00579645   0.0908207\n",
       "  -2.29123     0.246008     3795.15     3638.48       0.0114915    0.133209\n",
       "   1.32089    -0.335136     -924.149    -946.019     -0.012412     0.113216\n",
       "   0.331958    0.00708594   7351.52     6673.55       0.00521886  -0.00667027\n",
       " -14.7515     -0.314492    -3540.79    -3201.93      -0.172943     1.62298\n",
       " -11.1003     -0.214215    -1867.52    -1673.07   …  -0.131371     1.79867\n",
       "  -0.0167323  -0.0942029      65.6934    158.822      0.0013325   -0.065914\n",
       "   0.0712664   0.0869639   -4248.81    -3818.33       0.0122835    0.088857"
      ]
     },
     "execution_count": 30,
     "metadata": {},
     "output_type": "execute_result"
    }
   ],
   "source": [
    "Derivative = derivative_moments(S, N, game_parameters, simulation_parameters, data1, data2, n1, aux)"
   ]
  },
  {
   "cell_type": "code",
   "execution_count": 31,
   "metadata": {},
   "outputs": [
    {
     "data": {
      "text/plain": [
       "8-element Array{Float64,1}:\n",
       " -0.27125629181626487\n",
       "  0.24600758115314386\n",
       " -0.33513560482442567\n",
       "  0.00708594184567402\n",
       " -0.31449220582857806\n",
       " -0.21421507792458255\n",
       " -0.09420287591189372\n",
       "  0.08696391795142722"
      ]
     },
     "execution_count": 31,
     "metadata": {},
     "output_type": "execute_result"
    }
   ],
   "source": [
    "Derivative[:,2]"
   ]
  },
  {
   "cell_type": "code",
   "execution_count": 32,
   "metadata": {},
   "outputs": [],
   "source": [
    "using DelimitedFiles\n",
    "\n",
    "writedlm( \"Derivative-nocd90_1pct.csv\",  Derivative, ',')"
   ]
  },
  {
   "cell_type": "code",
   "execution_count": null,
   "metadata": {},
   "outputs": [],
   "source": []
  }
 ],
 "metadata": {
  "kernelspec": {
   "display_name": "Julia 1.5.3",
   "language": "julia",
   "name": "julia-1.5"
  },
  "language_info": {
   "file_extension": ".jl",
   "mimetype": "application/julia",
   "name": "julia",
   "version": "1.5.3"
  }
 },
 "nbformat": 4,
 "nbformat_minor": 4
}
