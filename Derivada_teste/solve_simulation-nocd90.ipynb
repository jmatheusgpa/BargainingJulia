{
 "cells": [
  {
   "cell_type": "markdown",
   "metadata": {},
   "source": [
    "Dou et al. (2020) model\n",
    "\n",
    "Agora em Julia versão 1.5.3\n",
    "\n",
    "This script simulates the model"
   ]
  },
  {
   "cell_type": "markdown",
   "metadata": {},
   "source": [
    "Investigação do erro que causa SingularException(2) no código com 9 momentos\n",
    "\n",
    "Suspeita é de um erro no cálculo do nono momento, com operação matricial"
   ]
  },
  {
   "cell_type": "code",
   "execution_count": 3,
   "metadata": {},
   "outputs": [],
   "source": [
    "using LinearAlgebra, Statistics\n",
    "\n",
    "using DataFrames\n",
    "using BenchmarkTools\n"
   ]
  },
  {
   "cell_type": "code",
   "execution_count": 4,
   "metadata": {},
   "outputs": [
    {
     "data": {
      "text/plain": [
       "3"
      ]
     },
     "execution_count": 4,
     "metadata": {},
     "output_type": "execute_result"
    }
   ],
   "source": [
    "using Distributed\n",
    "nprocs = 2\n",
    "addprocs(nprocs);\n",
    "\n",
    "@everywhere using NBInclude\n",
    "@everywhere @nbinclude(\"solve_model.ipynb\")\n",
    "\n",
    "#importou a função solve_tree\n",
    "\n",
    "pids = workers()\n",
    "aux = pids[nprocs]"
   ]
  },
  {
   "cell_type": "code",
   "execution_count": 5,
   "metadata": {},
   "outputs": [],
   "source": [
    "#Vh/D, L/D, Dj/D\n",
    "data1 = [0.86, 0.19, 0.8];\n",
    "n1 = 49\n",
    "\n",
    "data2 = [2.65, 0.69, 0.74];\n",
    "n2 = 17\n",
    "\n",
    "#ρ, β, c0, λj\n",
    "game_parameters = [0.93, 9.826, 0.109, 0.99];"
   ]
  },
  {
   "cell_type": "code",
   "execution_count": 6,
   "metadata": {},
   "outputs": [
    {
     "name": "stdout",
     "output_type": "stream",
     "text": [
      "216.669425 seconds (634.66 M allocations: 14.096 GiB      From worker 3:\t208.715185 seconds (576.80 M allocations: 12.816 GiB, 1.25% gc time)\n",
      ", 1.26% gc time)\n"
     ]
    }
   ],
   "source": [
    "A2 = @spawnat aux solve_tree(data2, game_parameters)\n",
    "\n",
    "A1 = solve_tree(data1, game_parameters);\n",
    "\n",
    "A2 = fetch(A2);"
   ]
  },
  {
   "cell_type": "markdown",
   "metadata": {},
   "source": [
    "Simulation parameters"
   ]
  },
  {
   "cell_type": "code",
   "execution_count": 7,
   "metadata": {},
   "outputs": [],
   "source": [
    "#θs0, θj0, μ\n",
    "simulation_parameters = [49.0, 18.0, 2.813];"
   ]
  },
  {
   "cell_type": "markdown",
   "metadata": {},
   "source": [
    "### Criando funções para simular o jogo"
   ]
  },
  {
   "cell_type": "code",
   "execution_count": 8,
   "metadata": {},
   "outputs": [
    {
     "data": {
      "text/plain": [
       "update_beliefs (generic function with 1 method)"
      ]
     },
     "execution_count": 8,
     "metadata": {},
     "output_type": "execute_result"
    }
   ],
   "source": [
    "#cost function\n",
    "function Ct(t, c0=c0, c1=c1)\n",
    "    \n",
    "    #didn't use D because is normalized to D == 1.0\n",
    "    #cost at period t=0(index1) is 0\n",
    "    if(t <= 1)\n",
    "        return 0\n",
    "    else\n",
    "        return c0 + c1 * (t-1) #test to make index==1 be t==0\n",
    "    end\n",
    "end\n",
    "\n",
    "\n",
    "\n",
    "#liquidation payoffs\n",
    "function s_L(t, L, Ds, Dj, c0, c1)\n",
    "    return min(L - Ct(t, c0, c1), Ds)\n",
    "end\n",
    "\n",
    "\n",
    "function j_L(t, L, Ds, Dj, c0, c1)\n",
    "    return min(L - Ct(t, c0, c1) - s_L(t, L, Ds, Dj, c0, c1), Dj)\n",
    "end\n",
    "\n",
    "\n",
    "function proposal(Pkt_array, t, hkt, lmt)\n",
    "    \n",
    "    #pkt array será sempre do propositor, quem responder às propostas apenas olhará o seu valor de continuação\n",
    "    \n",
    "    return policy, payoff_prop, payment, lm_next = Pkt_array[t, hkt, lmt, [end,end-1, 1, 2]]\n",
    "    \n",
    "end\n",
    "    \n",
    "\n",
    "#maximum value of reorganization each period\n",
    "function Vt(Vmax, ρ, t)\n",
    "\n",
    "    if(t <=1)\n",
    "        return Vmax\n",
    "    else\n",
    "        #(t-2) instead of (t-1) because we shifted the indexes in the game so as to include t==0 at index==1\n",
    "        return ρ^(t-2) * Vmax\n",
    "    end\n",
    "\n",
    "\n",
    "end\n",
    "\n",
    "# answer_liq\n",
    "function answer_liq(m_L, t, hm_next, payoff_prop, L, Ds, Dj, Vmax, ρ, c0, c1)\n",
    "    \n",
    "    liq = (m_L(t, L, Ds, Dj, c0, c1), Vt(Vmax, ρ, t) * hm_next/100 - Ct(t, c0, c1) - payoff_prop)\n",
    "    \n",
    "    payoff_liq, answer = findmax(liq)\n",
    "    \n",
    "    return payoff_liq, answer\n",
    "end\n",
    "\n",
    "function answer_reorg(payment, Cont_val, t, hm_next, lm_next, lk_next)\n",
    "    \n",
    "    reorg_value = (payment, Cont_val[t+1, hm_next, lm_next, lk_next])\n",
    "\n",
    "    payoff_reorg, answer = findmax(reorg_value)\n",
    "    \n",
    "    return payoff_reorg, answer\n",
    "end\n",
    "\n",
    "function update_beliefs(propositor, hk_next, hm_next, lk_next, lm_next)\n",
    "    \n",
    "    if(propositor==\"s\")\n",
    "        hst = hk_next\n",
    "        lst = lk_next\n",
    "        \n",
    "        hjt = hm_next\n",
    "        ljt = lm_next\n",
    "        \n",
    "    else\n",
    "        hst = hm_next\n",
    "        lst = lm_next\n",
    "        \n",
    "        hjt = hk_next\n",
    "        ljt = lk_next\n",
    "    end\n",
    "    \n",
    "    \n",
    "    return hst, lst, hjt, ljt\n",
    "end\n",
    "\n",
    "        "
   ]
  },
  {
   "cell_type": "code",
   "execution_count": 9,
   "metadata": {},
   "outputs": [
    {
     "data": {
      "text/plain": [
       "draw_beta (generic function with 3 methods)"
      ]
     },
     "execution_count": 9,
     "metadata": {},
     "output_type": "execute_result"
    }
   ],
   "source": [
    "#código para tirar um draw da beta\n",
    "\n",
    "function draw_beta(hkt, β=game_parameters[2], grid=100)\n",
    "\n",
    "    u = rand()\n",
    "\n",
    "    if(hkt == grid)\n",
    "        \n",
    "        return grid\n",
    "\n",
    "    else\n",
    "        \n",
    "        x = 1.0 - exp(1.0/β * (log(1.0 - u) + β * log(1.0 - hkt/grid)))\n",
    "        x = round(x * 100, digits=0)\n",
    "#         return Int64(x * 100) #to convert in an integer\n",
    "        return Int64(x)\n",
    "        \n",
    "    end\n",
    "end\n",
    "\n",
    "        \n",
    "\n",
    "# @code_warntype draw_beta(10)\n",
    "\n"
   ]
  },
  {
   "cell_type": "code",
   "execution_count": 10,
   "metadata": {},
   "outputs": [],
   "source": [
    "function choose_parameters(propositor, hst, lst, hjt, ljt, Pst_array, Pjt_array, s_W, j_W)\n",
    "    \n",
    "    if(propositor==\"s\")\n",
    "        \n",
    "        Pkt_array = Pst_array\n",
    "        Cont_val = j_W\n",
    "        prop_index = 1\n",
    "        respondent_index = 2 #índice de j, para organizar o payoff\n",
    "        m_L = j_L\n",
    "\n",
    "        hkt = hst\n",
    "        lkt = lst\n",
    "        \n",
    "        hmt = hjt\n",
    "        lmt = ljt\n",
    "\n",
    "\n",
    "        lk_next = hkt\n",
    "\n",
    "        hk_next = draw_beta(hkt)\n",
    "        hm_next = draw_beta(hmt)\n",
    "        \n",
    "    elseif(propositor==\"j\")\n",
    "        Pkt_array = Pjt_array\n",
    "        Cont_val = s_W\n",
    "        prop_index = 2\n",
    "        respondent_index = 1\n",
    "        m_L = s_L\n",
    "\n",
    "        hkt = hjt\n",
    "        lkt = ljt\n",
    "        \n",
    "        hmt = hst\n",
    "        lmt = lst\n",
    "\n",
    "\n",
    "        lk_next = hkt\n",
    "\n",
    "\n",
    "        hk_next = draw_beta(hkt)\n",
    "        hm_next = draw_beta(hmt)\n",
    "\n",
    "    else\n",
    "        \n",
    "        println(\"error: propositor not valid\")\n",
    "        \n",
    "    end\n",
    "    \n",
    "    return Pkt_array, Cont_val, prop_index, respondent_index, m_L, hkt, lkt, hmt, lmt, lk_next, hk_next, hm_next\n",
    "end\n",
    "\n",
    "\n",
    "\n",
    "\n",
    "# #test\n",
    "# Hs0 = 30\n",
    "# Hj0 = 28\n",
    "\n",
    "\n",
    "# hst = Hs0\n",
    "# hjt = Hj0\n",
    "\n",
    "# #assumindo que lower bounds nos períodos iniciais são as próprias habilidades iniciais\n",
    "# lst = hst\n",
    "# ljt = hjt\n",
    "\n",
    "\n",
    "\n",
    "\n",
    "# choose_parameters(\"s\", hst, lst, hjt, ljt);\n",
    "    \n",
    "    "
   ]
  },
  {
   "cell_type": "code",
   "execution_count": 11,
   "metadata": {},
   "outputs": [
    {
     "data": {
      "text/plain": [
       "simulate_game (generic function with 7 methods)"
      ]
     },
     "execution_count": 11,
     "metadata": {},
     "output_type": "execute_result"
    }
   ],
   "source": [
    "function simulate_game(data, game_parameters, simulation_parameters, s_W=s_W, j_W=j_W, Pst_array=Pst_array, Pjt_array=Pjt_array, t=1, grid=100)\n",
    "    \n",
    "    \n",
    "    Vmax = data[1]\n",
    "    L = data[2]\n",
    "    Dj = data[3]\n",
    "    Ds = one(1.0) - Dj\n",
    "    \n",
    "    \n",
    "    c0 = game_parameters[3];\n",
    "    c1 = c0/30;\n",
    "\n",
    "    ρ = game_parameters[1];\n",
    "    λj = game_parameters[4];\n",
    "\n",
    "    \n",
    "    \n",
    "#     hst = Hs0\n",
    "#     hjt = Hj0\n",
    "    \n",
    "    hst = Int64(simulation_parameters[1])\n",
    "    hjt = Int64(simulation_parameters[2])\n",
    "\n",
    "    #assumindo que lower bounds nos períodos iniciais são as próprias habilidades iniciais\n",
    "    lst = hst\n",
    "    ljt = hjt\n",
    "    \n",
    "    result = zeros(5);\n",
    "    \n",
    "    #number of observed proposals\n",
    "    observed_proposals = 0.0\n",
    "    \n",
    "    \n",
    "    #recovering \"T+1\" from s_W \n",
    "    T = size(s_W,1)\n",
    "    \n",
    "    \n",
    "    while(result[1]==0.0 && t < T)\n",
    "        \n",
    "        \n",
    "        u = rand()\n",
    "\n",
    "        if(u < λj)\n",
    "            propositor = \"j\"\n",
    "\n",
    "        else\n",
    "            propositor = \"s\"\n",
    "\n",
    "        end\n",
    "\n",
    "        \n",
    "        #setting the default variables according to the propositor\n",
    "        Pkt_array, Cont_val, prop_index, respondent_index, m_L, hkt, lkt, hmt, lmt, lk_next, hk_next, hm_next = choose_parameters(propositor, hst, lst, hjt, ljt, Pst_array, Pjt_array, s_W, j_W)\n",
    "        \n",
    "        #proposal ####\n",
    "        policy, payoff_prop, payment, lm_next = proposal(Pkt_array, t, hkt, lmt)\n",
    "\n",
    "        #lm_next is the update of the adversary's lower bound\n",
    "        if(lm_next>=grid+1 || policy!= 3.0) #para evitar update de lowerbound quando proponente não propõe reorg\n",
    "            lm_next = lmt\n",
    "        else\n",
    "            lm_next = Int64(lm_next)\n",
    "        end\n",
    "        \n",
    "        \n",
    "        \n",
    "        if(policy==3.0)\n",
    "            \n",
    "            observed_proposals += 1.0\n",
    "    \n",
    "            payoff_respondent, answer = answer_reorg(payment, Cont_val, t, hm_next, lm_next, lk_next)\n",
    "\n",
    "\n",
    "            if(answer==1.0)\n",
    "\n",
    "                result[prop_index] = payoff_prop\n",
    "                result[respondent_index] = payoff_respondent\n",
    "                result[3] = 3.0\n",
    "                result[4] = t\n",
    "                result[5] = observed_proposals\n",
    "\n",
    "            else\n",
    "                \n",
    "                t+=1\n",
    "\n",
    "                hst, lst, hjt, ljt = update_beliefs(propositor, hk_next, hm_next, lk_next, lm_next)\n",
    "            end\n",
    "\n",
    "        elseif(policy==2.0)\n",
    "            \n",
    "            t+=1\n",
    "            \n",
    "            hst, lst, hjt, ljt = update_beliefs(propositor, hk_next, hm_next, lk_next, lm_next)\n",
    "            \n",
    "            \n",
    "\n",
    "        else      \n",
    "            #(policy==1.0)\n",
    "            \n",
    "            observed_proposals += 1.0\n",
    "\n",
    "            payoff_respondent, answer = answer_liq(m_L, t, hm_next, payoff_prop, L, Ds, Dj, Vmax, ρ, c0, c1)\n",
    "            \n",
    "            \n",
    "\n",
    "            if(answer==1.0)\n",
    "\n",
    "                result[prop_index] = payoff_prop\n",
    "                result[respondent_index] = payoff_respondent\n",
    "                result[3] = 1.0\n",
    "                result[4] = t\n",
    "                result[5] = observed_proposals\n",
    "\n",
    "            else\n",
    "\n",
    "                result[prop_index] = payoff_prop\n",
    "                result[respondent_index] = payoff_respondent\n",
    "                result[3] = 3.0\n",
    "                result[4] = t\n",
    "                result[5] = observed_proposals\n",
    "\n",
    "\n",
    "            end\n",
    "        end\n",
    "\n",
    "\n",
    "        if(t==T)\n",
    "            \n",
    "            result[1] = s_W[T, 1, 1, 1]#todos os valores finais de S são iguais, então acessarei o índice 1\n",
    "            result[2] = j_W[T, 1, 1, 1]\n",
    "            result[3] = 1.0\n",
    "            result[4] = t\n",
    "            result[5] = max(observed_proposals, 1.0)\n",
    "            \n",
    "        end\n",
    "        \n",
    "\n",
    "\n",
    "\n",
    "\n",
    "    end\n",
    "    \n",
    "    \n",
    "    return result\n",
    "end\n",
    "\n",
    "        \n",
    "        \n",
    "#precisa colocar uma condição IF aqui para caso o jogo vá até o último período?\n",
    "    "
   ]
  },
  {
   "cell_type": "code",
   "execution_count": 12,
   "metadata": {},
   "outputs": [
    {
     "name": "stdout",
     "output_type": "stream",
     "text": [
      "  3.000 μs (16 allocations: 720 bytes)\n"
     ]
    },
    {
     "data": {
      "text/plain": [
       "5-element Array{Float64,1}:\n",
       " 0.016123860834842366\n",
       " 0.23923694423723704\n",
       " 3.0\n",
       " 7.0\n",
       " 2.0"
      ]
     },
     "execution_count": 12,
     "metadata": {},
     "output_type": "execute_result"
    }
   ],
   "source": [
    "#unit testing\n",
    "@btime simulate_game(data1, game_parameters, simulation_parameters, A1[1], A1[2], A1[3], A1[4])"
   ]
  },
  {
   "cell_type": "code",
   "execution_count": 13,
   "metadata": {},
   "outputs": [],
   "source": [
    "function loop_simulations(S, N, game_parameters, simulation_parameters, data1, data2, A1, A2, n1)\n",
    "    \n",
    "    \n",
    "    \n",
    "    \n",
    "    \n",
    "    #S is the number of simulations\n",
    "    #N is the number of observations\n",
    "    #data1 is the center of the first cluster\n",
    "    #A1 is the collection of arrays from the first cluster (s_W, j_W, Pst, Pjt)\n",
    "    #n1 is the number of observations in the first cluster\n",
    "    \n",
    "    \n",
    "    \n",
    "    \n",
    "    #no futuro os argumentos podem ser arrays de arrays, assim ele faz o loop para cada cluster\n",
    "    Results = zeros(S, N, 7)\n",
    "\n",
    "    #últimas entradas de Results são os valores das dívidas\n",
    "    \n",
    "    \n",
    "    for s in 1:S\n",
    "        for n in 1:N\n",
    "            if(n <= n1)\n",
    "                Results[s,n,1:5] .= simulate_game(data1, game_parameters, simulation_parameters, A1[1], A1[2], A1[3], A1[4])\n",
    "                Results[s,n, end-1] = A1[5]\n",
    "                Results[s,n, end] = A1[6]\n",
    "            else\n",
    "                Results[s,n,1:5] .= simulate_game(data2, game_parameters, simulation_parameters, A2[1], A2[2], A2[3], A2[4])\n",
    "                Results[s,n, end-1] = A2[5]\n",
    "                Results[s,n, end] = A2[6]\n",
    "            end\n",
    "            \n",
    "        end\n",
    "    end\n",
    "\n",
    "    return Results\n",
    "    \n",
    "end\n",
    "\n",
    "    \n",
    "# loop_simulations(40, 75, θs0, θj0, μ, λj);"
   ]
  },
  {
   "cell_type": "code",
   "execution_count": 14,
   "metadata": {},
   "outputs": [
    {
     "data": {
      "text/plain": [
       "40×66×7 Array{Float64,3}:\n",
       "[:, :, 1] =\n",
       " 0.106304   0.0153813  0.0118022  0.0153222  …  0.344779  0.310709  0.337145\n",
       " 0.0150428  0.0173251  0.131518   0.0179555     0.33871   0.346951  0.371681\n",
       " 0.0133758  0.0175418  0.0134523  0.0170844     0.364567  0.333946  0.357148\n",
       " 0.0180302  0.0126676  0.0172928  0.0179555     0.599239  0.536631  0.353228\n",
       " 0.0176475  0.0155741  0.0121165  0.0135919     0.358781  0.498468  0.342209\n",
       " 0.0180535  0.0126155  0.163957   0.0156876  …  0.30703   0.351692  0.395098\n",
       " 0.0168463  0.0159911  0.0145528  0.0162733     0.5191    0.679594  0.318795\n",
       " 0.0158791  0.0152503  0.01776    0.0177368     0.435288  0.333996  0.332811\n",
       " 0.0144148  0.0186286  0.0160698  0.0171641     0.462257  0.304081  0.433475\n",
       " 0.0165292  0.0188685  0.0174397  0.0174331     0.338153  0.315307  0.414286\n",
       " 0.0179279  0.0173559  0.0166368  0.0175034  …  0.423881  0.568352  0.342952\n",
       " 0.0159452  0.0189799  0.0171569  0.0173631     0.350011  0.365185  0.364109\n",
       " 0.0166435  0.0159434  0.0183316  0.0148884     0.34306   0.290862  0.324449\n",
       " ⋮                                           ⋱                      ⋮\n",
       " 0.0150747  0.0143352  0.0137698  0.0181086     0.355251  0.322916  0.359591\n",
       " 0.0152028  0.0157993  0.0167768  0.0181278     0.390877  0.303128  0.354638\n",
       " 0.0181278  0.0147993  0.0179451  0.0163675  …  0.31207   0.331616  0.272201\n",
       " 0.0120622  0.0166072  0.0184968  0.0160257     0.333958  0.346171  0.296427\n",
       " 0.0179309  0.0181699  0.0148375  0.116039      0.326388  0.346264  0.332144\n",
       " 0.0165515  0.16584    0.016526   0.0174331     0.329173  0.351329  0.3232\n",
       " 0.0179308  0.0180774  0.0169277  0.0167328     0.326105  0.597784  0.612707\n",
       " 0.0166077  0.0183692  0.0143031  0.0166686  …  0.604952  0.355605  0.337341\n",
       " 0.0172928  0.0745337  0.0194276  0.0169295     0.287929  0.363846  0.32377\n",
       " 0.0163536  0.017221   0.0184479  0.0179474     0.304479  0.326615  0.373032\n",
       " 0.015492   0.0161239  0.0184869  0.0193848     0.362258  0.360897  0.399799\n",
       " 0.016581   0.0168439  0.0962684  0.136072      0.344738  0.331786  0.328243\n",
       "\n",
       "[:, :, 2] =\n",
       " 0.177419   0.256385   0.0779512  0.132398  …  0.885563  1.25369   0.607643\n",
       " 0.149011   0.229926   0.22293    0.199501     1.02315   0.545747  0.447292\n",
       " 0.0629112  0.205366   0.315718   0.293489     0.607955  0.555303  0.410197\n",
       " 0.194189   0.179756   0.155345   0.199501     0.544602  0.568826  0.517745\n",
       " 0.183348   0.161636   0.0        0.279796     0.80944   0.270133  0.592231\n",
       " 0.235064   0.183919   0.234746   0.203671  …  0.420331  0.539566  0.2665\n",
       " 0.155769   0.0992099  0.128944   0.170464     0.270133  0.677911  0.959123\n",
       " 0.0953019  0.104047   0.181765   0.217788     0.302627  0.937468  0.82677\n",
       " 0.133235   0.274091   0.300722   0.23596      0.2665    0.637982  0.2665\n",
       " 0.1465     0.315727   0.267949   0.221821     0.38855   0.827458  0.2665\n",
       " 0.301988   0.122242   0.259851   0.166863  …  0.2665    0.273767  1.0128\n",
       " 0.170635   0.293635   0.216602   0.216306     0.259233  0.725112  0.262867\n",
       " 0.330253   0.21387    0.182817   0.235262     0.909148  0.328464  1.05528\n",
       " ⋮                                          ⋱                      ⋮\n",
       " 0.153885   0.12055    0.0792455  0.240924     0.752841  0.681063  0.712384\n",
       " 0.166968   0.351305   0.174692   0.193826     0.262867  0.2556    0.836972\n",
       " 0.193826   0.0936885  0.194046   0.121956  …  0.830474  0.910433  0.354759\n",
       " 0.268373   0.233452   0.22286    0.135477     0.957294  0.466964  0.425431\n",
       " 0.200019   0.254769   0.140994   0.19936      0.784015  0.262867  0.417356\n",
       " 0.126357   0.237889   0.294099   0.221872     0.961157  0.688019  0.647184\n",
       " 0.20487    0.223304   0.299937   0.136814     0.553092  0.305705  0.603714\n",
       " 0.227902   0.211273   0.214655   0.211658  …  0.577107  0.551196  0.262867\n",
       " 0.155345   0.162515   0.35263    0.169826     0.363539  0.439907  0.869042\n",
       " 0.239054   0.221906   0.267023   0.171447     0.511845  0.516079  0.262867\n",
       " 0.204243   0.239355   0.155899   0.240764     0.491213  0.673786  0.262867\n",
       " 0.198098   0.192874   0.203549   0.226929     0.780994  0.464679  0.495005\n",
       "\n",
       "[:, :, 3] =\n",
       " 3.0  3.0  3.0  3.0  3.0  3.0  3.0  3.0  …  3.0  3.0  3.0  3.0  3.0  3.0  3.0\n",
       " 3.0  3.0  3.0  3.0  3.0  3.0  3.0  3.0     3.0  3.0  3.0  3.0  3.0  3.0  3.0\n",
       " 3.0  3.0  3.0  3.0  3.0  3.0  3.0  3.0     3.0  3.0  3.0  3.0  3.0  3.0  3.0\n",
       " 3.0  3.0  3.0  3.0  3.0  3.0  3.0  3.0     3.0  3.0  3.0  3.0  3.0  3.0  3.0\n",
       " 3.0  3.0  3.0  3.0  3.0  3.0  3.0  3.0     3.0  3.0  3.0  3.0  3.0  3.0  3.0\n",
       " 3.0  3.0  3.0  3.0  3.0  3.0  3.0  3.0  …  3.0  3.0  3.0  3.0  3.0  3.0  3.0\n",
       " 3.0  3.0  3.0  3.0  3.0  3.0  3.0  3.0     3.0  3.0  3.0  3.0  3.0  3.0  3.0\n",
       " 3.0  3.0  3.0  3.0  3.0  3.0  3.0  3.0     3.0  3.0  3.0  3.0  3.0  3.0  3.0\n",
       " 3.0  3.0  3.0  3.0  3.0  3.0  3.0  3.0     3.0  3.0  3.0  3.0  3.0  3.0  3.0\n",
       " 3.0  3.0  3.0  3.0  3.0  3.0  3.0  3.0     3.0  3.0  3.0  3.0  3.0  3.0  3.0\n",
       " 3.0  3.0  3.0  3.0  3.0  3.0  3.0  3.0  …  3.0  3.0  3.0  3.0  3.0  3.0  3.0\n",
       " 3.0  3.0  3.0  3.0  3.0  3.0  3.0  3.0     3.0  3.0  3.0  3.0  3.0  3.0  3.0\n",
       " 3.0  3.0  3.0  3.0  3.0  3.0  3.0  3.0     3.0  3.0  3.0  3.0  3.0  3.0  3.0\n",
       " ⋮                        ⋮              ⋱       ⋮                        ⋮\n",
       " 3.0  3.0  3.0  3.0  3.0  3.0  3.0  3.0     3.0  3.0  3.0  3.0  3.0  3.0  3.0\n",
       " 3.0  3.0  3.0  3.0  3.0  3.0  3.0  3.0     3.0  3.0  3.0  3.0  3.0  3.0  3.0\n",
       " 3.0  3.0  3.0  3.0  3.0  3.0  3.0  3.0  …  3.0  3.0  3.0  3.0  3.0  3.0  3.0\n",
       " 3.0  3.0  3.0  3.0  3.0  3.0  3.0  3.0     3.0  3.0  3.0  3.0  3.0  3.0  3.0\n",
       " 3.0  3.0  3.0  3.0  3.0  3.0  3.0  3.0     3.0  3.0  3.0  3.0  3.0  3.0  3.0\n",
       " 3.0  3.0  3.0  3.0  3.0  3.0  3.0  3.0     3.0  3.0  3.0  3.0  3.0  3.0  3.0\n",
       " 3.0  3.0  3.0  3.0  3.0  3.0  3.0  3.0     3.0  3.0  3.0  3.0  3.0  3.0  3.0\n",
       " 3.0  3.0  3.0  3.0  3.0  3.0  3.0  3.0  …  3.0  3.0  3.0  3.0  3.0  3.0  3.0\n",
       " 3.0  3.0  3.0  3.0  3.0  3.0  3.0  3.0     3.0  3.0  3.0  3.0  3.0  3.0  3.0\n",
       " 3.0  3.0  3.0  3.0  3.0  3.0  3.0  3.0     3.0  3.0  3.0  3.0  3.0  3.0  3.0\n",
       " 3.0  3.0  3.0  3.0  3.0  3.0  3.0  3.0     3.0  3.0  3.0  3.0  3.0  3.0  3.0\n",
       " 3.0  3.0  3.0  3.0  3.0  3.0  3.0  3.0     3.0  3.0  3.0  3.0  3.0  3.0  3.0\n",
       "\n",
       "[:, :, 4] =\n",
       "  7.0   7.0  15.0  11.0   9.0   8.0  …   8.0   6.0   5.0   5.0   3.0  10.0\n",
       " 11.0   6.0   5.0   7.0   6.0   6.0      8.0   8.0   9.0   3.0  10.0  10.0\n",
       " 14.0   7.0   6.0   5.0   9.0   7.0     15.0   7.0   5.0   7.0  11.0  12.0\n",
       "  6.0  11.0   9.0   7.0   7.0  12.0     14.0  11.0  13.0   8.0   8.0  10.0\n",
       "  7.0   9.0  22.0   7.0   7.0   8.0      7.0   9.0   9.0   4.0  15.0  10.0\n",
       "  6.0  11.0   5.0   8.0   9.0   9.0  …   2.0   7.0   8.0  13.0  11.0  16.0\n",
       "  9.0  11.0  11.0   9.0   4.0   7.0     16.0  16.0   8.0  15.0   1.0   6.0\n",
       " 11.0  11.0   8.0   6.0  13.0   8.0      8.0   8.0   7.0  13.0   5.0   7.0\n",
       " 11.0   4.0   5.0   6.0   5.0  13.0     10.0  16.0  11.0  16.0  11.0  16.0\n",
       "  9.0   3.0   5.0   7.0   5.0   4.0      6.0  19.0  11.0  12.0   8.0  16.0\n",
       "  4.0   9.0   6.0   8.0  11.0  12.0  …  17.0  11.0  10.0  16.0  14.0   2.0\n",
       "  9.0   3.0   7.0   7.0  11.0   8.0      5.0   8.0   7.0  18.0   7.0  17.0\n",
       "  4.0   8.0   7.0   8.0  11.0   5.0      9.0   6.0  18.0   5.0  16.0   4.0\n",
       "  ⋮                             ⋮    ⋱   ⋮                             ⋮\n",
       " 10.0  12.0  12.0   6.0   9.0   8.0      3.0   7.0   5.0   7.0  10.0   5.0\n",
       " 10.0   4.0   9.0   7.0   2.0   9.0      7.0  12.0   6.0  17.0  19.0   4.0\n",
       "  7.0  12.0   7.0  10.0   8.0   9.0  …   7.0  14.0   6.0   8.0   6.0  16.0\n",
       "  8.0   7.0   6.0  10.0   7.0   5.0      6.0   6.0  17.0   5.0  11.0  14.0\n",
       "  6.0   5.0  11.0   5.0   5.0   8.0      6.0  13.0  11.0   8.0  17.0  12.0\n",
       " 10.0   2.0   5.0   7.0   2.0   8.0      6.0   7.0   4.0   5.0   7.0  10.0\n",
       "  7.0   6.0   5.0   9.0   9.0   8.0     10.0  10.0   7.0  11.0  11.0   3.0\n",
       "  7.0   6.0   9.0   7.0   4.0   2.0  …   9.0   3.0   7.0   8.0  11.0  17.0\n",
       "  9.0   9.0   2.0   9.0  10.0   6.0      6.0   6.0   4.0  15.0  10.0   7.0\n",
       "  7.0   7.0   5.0   8.0   8.0  11.0     16.0   7.0  14.0  13.0  12.0  17.0\n",
       "  8.0   7.0   8.0   5.0  12.0   5.0     17.0   7.0   4.0  12.0   7.0  17.0\n",
       "  8.0   8.0   7.0   3.0   7.0   7.0      6.0  13.0   6.0   7.0  11.0  12.0\n",
       "\n",
       "[:, :, 5] =\n",
       " 1.0  2.0  7.0  4.0  3.0  3.0  1.0  3.0  …   3.0   1.0  1.0   3.0   1.0   4.0\n",
       " 5.0  1.0  1.0  2.0  1.0  1.0  4.0  3.0      6.0   3.0  5.0   1.0   5.0   7.0\n",
       " 5.0  2.0  1.0  2.0  3.0  3.0  1.0  6.0      2.0   2.0  2.0   2.0   7.0   5.0\n",
       " 1.0  3.0  4.0  2.0  2.0  4.0  3.0  3.0      7.0   4.0  6.0   5.0   3.0   6.0\n",
       " 2.0  1.0  6.0  2.0  2.0  2.0  3.0  1.0      4.0   4.0  3.0   2.0   4.0   4.0\n",
       " 2.0  5.0  1.0  2.0  2.0  3.0  2.0  1.0  …   1.0   2.0  2.0   7.0   6.0   9.0\n",
       " 3.0  4.0  2.0  2.0  1.0  2.0  5.0  1.0      6.0   6.0  3.0   6.0   1.0   2.0\n",
       " 3.0  3.0  3.0  1.0  5.0  3.0  3.0  5.0      3.0   6.0  2.0   5.0   2.0   3.0\n",
       " 2.0  2.0  1.0  1.0  1.0  3.0  4.0  1.0      5.0   7.0  4.0   8.0   4.0   8.0\n",
       " 2.0  1.0  1.0  3.0  1.0  1.0  2.0  2.0      3.0  12.0  4.0   7.0   3.0   7.0\n",
       " 1.0  3.0  2.0  2.0  5.0  5.0  1.0  1.0  …   7.0   5.0  5.0   9.0   1.0   1.0\n",
       " 2.0  1.0  2.0  2.0  4.0  3.0  1.0  5.0      3.0   4.0  3.0   7.0   4.0  11.0\n",
       " 1.0  3.0  2.0  3.0  2.0  1.0  4.0  3.0      3.0   2.0  9.0   2.0   9.0   1.0\n",
       " ⋮                        ⋮              ⋱   ⋮                            ⋮\n",
       " 2.0  4.0  3.0  2.0  4.0  2.0  3.0  1.0      1.0   3.0  1.0   4.0   9.0   2.0\n",
       " 5.0  1.0  4.0  2.0  1.0  4.0  3.0  1.0      2.0   5.0  2.0  10.0  12.0   1.0\n",
       " 2.0  4.0  2.0  4.0  3.0  2.0  1.0  1.0  …   3.0   9.0  3.0   2.0   3.0   8.0\n",
       " 3.0  2.0  2.0  3.0  2.0  2.0  4.0  1.0      2.0   1.0  8.0   2.0   4.0   5.0\n",
       " 1.0  1.0  3.0  1.0  1.0  3.0  2.0  3.0      3.0   1.0  5.0   4.0   2.0   6.0\n",
       " 4.0  1.0  1.0  2.0  1.0  2.0  3.0  2.0      2.0   1.0  1.0   2.0   3.0   5.0\n",
       " 3.0  2.0  2.0  2.0  3.0  3.0  1.0  1.0      3.0   4.0  2.0   6.0   1.0   1.0\n",
       " 2.0  2.0  3.0  1.0  1.0  1.0  1.0  2.0  …   4.0   1.0  4.0   5.0   7.0  11.0\n",
       " 3.0  2.0  1.0  4.0  4.0  1.0  4.0  2.0      3.0   4.0  1.0   7.0   5.0   3.0\n",
       " 2.0  2.0  2.0  3.0  4.0  4.0  5.0  1.0     10.0   3.0  6.0   7.0   6.0  10.0\n",
       " 1.0  2.0  3.0  3.0  3.0  1.0  4.0  1.0     11.0   2.0  2.0   7.0   4.0  10.0\n",
       " 2.0  2.0  2.0  1.0  2.0  2.0  2.0  3.0      3.0   7.0  2.0   2.0   3.0   5.0\n",
       "\n",
       "[:, :, 6] =\n",
       " 0.2  0.2  0.2  0.2  0.2  0.2  0.2  …  0.26  0.26  0.26  0.26  0.26  0.26\n",
       " 0.2  0.2  0.2  0.2  0.2  0.2  0.2     0.26  0.26  0.26  0.26  0.26  0.26\n",
       " 0.2  0.2  0.2  0.2  0.2  0.2  0.2     0.26  0.26  0.26  0.26  0.26  0.26\n",
       " 0.2  0.2  0.2  0.2  0.2  0.2  0.2     0.26  0.26  0.26  0.26  0.26  0.26\n",
       " 0.2  0.2  0.2  0.2  0.2  0.2  0.2     0.26  0.26  0.26  0.26  0.26  0.26\n",
       " 0.2  0.2  0.2  0.2  0.2  0.2  0.2  …  0.26  0.26  0.26  0.26  0.26  0.26\n",
       " 0.2  0.2  0.2  0.2  0.2  0.2  0.2     0.26  0.26  0.26  0.26  0.26  0.26\n",
       " 0.2  0.2  0.2  0.2  0.2  0.2  0.2     0.26  0.26  0.26  0.26  0.26  0.26\n",
       " 0.2  0.2  0.2  0.2  0.2  0.2  0.2     0.26  0.26  0.26  0.26  0.26  0.26\n",
       " 0.2  0.2  0.2  0.2  0.2  0.2  0.2     0.26  0.26  0.26  0.26  0.26  0.26\n",
       " 0.2  0.2  0.2  0.2  0.2  0.2  0.2  …  0.26  0.26  0.26  0.26  0.26  0.26\n",
       " 0.2  0.2  0.2  0.2  0.2  0.2  0.2     0.26  0.26  0.26  0.26  0.26  0.26\n",
       " 0.2  0.2  0.2  0.2  0.2  0.2  0.2     0.26  0.26  0.26  0.26  0.26  0.26\n",
       " ⋮                        ⋮         ⋱  ⋮                             ⋮\n",
       " 0.2  0.2  0.2  0.2  0.2  0.2  0.2     0.26  0.26  0.26  0.26  0.26  0.26\n",
       " 0.2  0.2  0.2  0.2  0.2  0.2  0.2     0.26  0.26  0.26  0.26  0.26  0.26\n",
       " 0.2  0.2  0.2  0.2  0.2  0.2  0.2  …  0.26  0.26  0.26  0.26  0.26  0.26\n",
       " 0.2  0.2  0.2  0.2  0.2  0.2  0.2     0.26  0.26  0.26  0.26  0.26  0.26\n",
       " 0.2  0.2  0.2  0.2  0.2  0.2  0.2     0.26  0.26  0.26  0.26  0.26  0.26\n",
       " 0.2  0.2  0.2  0.2  0.2  0.2  0.2     0.26  0.26  0.26  0.26  0.26  0.26\n",
       " 0.2  0.2  0.2  0.2  0.2  0.2  0.2     0.26  0.26  0.26  0.26  0.26  0.26\n",
       " 0.2  0.2  0.2  0.2  0.2  0.2  0.2  …  0.26  0.26  0.26  0.26  0.26  0.26\n",
       " 0.2  0.2  0.2  0.2  0.2  0.2  0.2     0.26  0.26  0.26  0.26  0.26  0.26\n",
       " 0.2  0.2  0.2  0.2  0.2  0.2  0.2     0.26  0.26  0.26  0.26  0.26  0.26\n",
       " 0.2  0.2  0.2  0.2  0.2  0.2  0.2     0.26  0.26  0.26  0.26  0.26  0.26\n",
       " 0.2  0.2  0.2  0.2  0.2  0.2  0.2     0.26  0.26  0.26  0.26  0.26  0.26\n",
       "\n",
       "[:, :, 7] =\n",
       " 0.8  0.8  0.8  0.8  0.8  0.8  0.8  …  0.74  0.74  0.74  0.74  0.74  0.74\n",
       " 0.8  0.8  0.8  0.8  0.8  0.8  0.8     0.74  0.74  0.74  0.74  0.74  0.74\n",
       " 0.8  0.8  0.8  0.8  0.8  0.8  0.8     0.74  0.74  0.74  0.74  0.74  0.74\n",
       " 0.8  0.8  0.8  0.8  0.8  0.8  0.8     0.74  0.74  0.74  0.74  0.74  0.74\n",
       " 0.8  0.8  0.8  0.8  0.8  0.8  0.8     0.74  0.74  0.74  0.74  0.74  0.74\n",
       " 0.8  0.8  0.8  0.8  0.8  0.8  0.8  …  0.74  0.74  0.74  0.74  0.74  0.74\n",
       " 0.8  0.8  0.8  0.8  0.8  0.8  0.8     0.74  0.74  0.74  0.74  0.74  0.74\n",
       " 0.8  0.8  0.8  0.8  0.8  0.8  0.8     0.74  0.74  0.74  0.74  0.74  0.74\n",
       " 0.8  0.8  0.8  0.8  0.8  0.8  0.8     0.74  0.74  0.74  0.74  0.74  0.74\n",
       " 0.8  0.8  0.8  0.8  0.8  0.8  0.8     0.74  0.74  0.74  0.74  0.74  0.74\n",
       " 0.8  0.8  0.8  0.8  0.8  0.8  0.8  …  0.74  0.74  0.74  0.74  0.74  0.74\n",
       " 0.8  0.8  0.8  0.8  0.8  0.8  0.8     0.74  0.74  0.74  0.74  0.74  0.74\n",
       " 0.8  0.8  0.8  0.8  0.8  0.8  0.8     0.74  0.74  0.74  0.74  0.74  0.74\n",
       " ⋮                        ⋮         ⋱  ⋮                             ⋮\n",
       " 0.8  0.8  0.8  0.8  0.8  0.8  0.8     0.74  0.74  0.74  0.74  0.74  0.74\n",
       " 0.8  0.8  0.8  0.8  0.8  0.8  0.8     0.74  0.74  0.74  0.74  0.74  0.74\n",
       " 0.8  0.8  0.8  0.8  0.8  0.8  0.8  …  0.74  0.74  0.74  0.74  0.74  0.74\n",
       " 0.8  0.8  0.8  0.8  0.8  0.8  0.8     0.74  0.74  0.74  0.74  0.74  0.74\n",
       " 0.8  0.8  0.8  0.8  0.8  0.8  0.8     0.74  0.74  0.74  0.74  0.74  0.74\n",
       " 0.8  0.8  0.8  0.8  0.8  0.8  0.8     0.74  0.74  0.74  0.74  0.74  0.74\n",
       " 0.8  0.8  0.8  0.8  0.8  0.8  0.8     0.74  0.74  0.74  0.74  0.74  0.74\n",
       " 0.8  0.8  0.8  0.8  0.8  0.8  0.8  …  0.74  0.74  0.74  0.74  0.74  0.74\n",
       " 0.8  0.8  0.8  0.8  0.8  0.8  0.8     0.74  0.74  0.74  0.74  0.74  0.74\n",
       " 0.8  0.8  0.8  0.8  0.8  0.8  0.8     0.74  0.74  0.74  0.74  0.74  0.74\n",
       " 0.8  0.8  0.8  0.8  0.8  0.8  0.8     0.74  0.74  0.74  0.74  0.74  0.74\n",
       " 0.8  0.8  0.8  0.8  0.8  0.8  0.8     0.74  0.74  0.74  0.74  0.74  0.74"
      ]
     },
     "execution_count": 14,
     "metadata": {},
     "output_type": "execute_result"
    }
   ],
   "source": [
    "#unit testing\n",
    "S = 40\n",
    "N = 66\n",
    "Results = loop_simulations(S, N, game_parameters, simulation_parameters, data1, data2, A1, A2, n1)"
   ]
  },
  {
   "cell_type": "code",
   "execution_count": 15,
   "metadata": {},
   "outputs": [
    {
     "data": {
      "text/plain": [
       "simulate_moments (generic function with 1 method)"
      ]
     },
     "execution_count": 15,
     "metadata": {},
     "output_type": "execute_result"
    }
   ],
   "source": [
    "function simulate_moments(S, N, game_parameters, simulation_parameters, data1, data2, A1, A2, n1)\n",
    "    \n",
    "    \n",
    "    Results = loop_simulations(S, N, game_parameters, simulation_parameters, data1, data2, A1, A2, n1)\n",
    "\n",
    "    Moments = zeros(S, 8)\n",
    "\n",
    "    μ = simulation_parameters[3]\n",
    "    for s in 1:S\n",
    "\n",
    "        DF = DataFrame()\n",
    "        DF.payoff_s = Results[s,:,1];\n",
    "        DF.payoff_j = Results[s,:,2];\n",
    "        DF.out = Results[s,:,3];\n",
    "        DF.t = Results[s,:,4];\n",
    "        DF.observed_proposals = Results[s,:,5];\n",
    "        DF.Ds = Results[s,:,6];\n",
    "        DF.Dj = Results[s,:,7];\n",
    "\n",
    "\n",
    "        DF.outcome = ifelse.(DF.out .==3.0, \"R\", \"L\");\n",
    "\n",
    "\n",
    "        #desfazendo o deslocamento no índice de t\n",
    "        DF.t = DF.t .- 1.0;\n",
    "\n",
    "        # DF.incourt = ifelse.(DF.t .> 0.0, \"incourt\", \"precourt\");\n",
    "\n",
    "        INCOURT = filter(DF -> DF.t .> 0.0, DF);\n",
    "        PRECOURT = filter(DF -> DF.t .<= 0.0, DF);\n",
    "\n",
    "        PRECOURT_REORG = filter(PRECOURT -> PRECOURT.outcome .== \"R\", PRECOURT)\n",
    "        INCOURT_REORG = filter(INCOURT -> INCOURT.outcome .== \"R\", INCOURT)\n",
    "\n",
    "        #cálculo dos momentos\n",
    "        #1. avg log number of months between observed proposals incourt\n",
    "\n",
    "        mm1 = INCOURT\n",
    "        mm1 = log.(mm1.t .* μ ./ mm1.observed_proposals)\n",
    "        mm1 = mean(mm1)\n",
    "\n",
    "        #2. fraction reorganized given that the case went into court\n",
    "\n",
    "        mm2 = INCOURT\n",
    "        mm2 = size(filter(mm2 -> mm2.outcome .== \"R\", mm2),1)/ size(mm2,1)\n",
    "\n",
    "        #3. ln duration of court cases in months\n",
    "\n",
    "        mm3 = INCOURT\n",
    "        mm3 = filter(mm3 -> mm3.t .> 0.0, mm3) #removendo os casos 0 para não poluir a média\n",
    "        mm3.t = mm3.t .* μ\n",
    "        mm3 = mean(log.(mm3.t)) #log here uses exp as base, so it's the same as ln\n",
    "\n",
    "        #4. fraction of cases incourt\n",
    "        mm4 = size(INCOURT,1) / size(DF, 1)\n",
    "\n",
    "        #5. avg recovery rate for senior given precourt REORGANIZATION\n",
    "\n",
    "        #aqui nós temos Ds, então é mais fácil. Preciso automatizar isso no código quando for tudo escalado\n",
    "\n",
    "        mm5 = PRECOURT_REORG\n",
    "        mm5.R_s = mm5.payoff_s ./ mm5.Ds\n",
    "        mm5 = mean(mm5.R_s)\n",
    "\n",
    "\n",
    "\n",
    "        #6. avg recovery rate for junior given precourt REORGANIZATION\n",
    "\n",
    "        #aqui nós temos Ds, então é mais fácil. Preciso automatizar isso no código quando for tudo escalado\n",
    "\n",
    "        mm6 = PRECOURT_REORG\n",
    "        mm6.R_j = mm6.payoff_j ./ mm6.Dj\n",
    "        mm6 = mean(mm6.R_j)\n",
    "\n",
    "\n",
    "        #7. junior avg fraction gain given incourt REORGANIZATION\n",
    "\n",
    "        mm7 = INCOURT_REORG\n",
    "        mm7 = mean(mm7.payoff_j ./ (mm7.payoff_j .+ mm7.payoff_s )) \n",
    "\n",
    "        #8. total recovery rate given incourt REORGANIZATION\n",
    "\n",
    "        mm8 = INCOURT_REORG\n",
    "        mm8 = mean( mm8.payoff_s .+ mm8.payoff_j)\n",
    "\n",
    "        Moments[s,:] .= [mm1, mm2, mm3, mm4, mm5, mm6, mm7, mm8]\n",
    "\n",
    "\n",
    "        #if there are no INCOURT or no PRECOURT cases, it will return NaN\n",
    "        #thus, we replace it by zero\n",
    "        Moments[s,:] .= replace!(Moments[s,:], NaN=> zero(0.0))\n",
    "\n",
    "    end\n",
    "\n",
    "\n",
    "\n",
    "\n",
    "\n",
    "    #9. slope of the regression of log(recovery rate | incourt reorg) ~ log(duration)\n",
    "\n",
    "    #fazendo a regressão do nono momento fora do loop para poupar tempo\n",
    "    #isto é, ao invés de fazer uma regressão para cada simulação,\n",
    "    #faremos uma regressão só usando todas as simulações\n",
    "    df = DataFrame()\n",
    "\n",
    "    for s in 1:S\n",
    "        df_result = DataFrame(Results[s,:, 1:4])\n",
    "        append!(df, df_result)\n",
    "    end\n",
    "\n",
    "    rename!(df, [:x1, :x2, :x3, :x4] .=> [:payoff_s, :payoff_j, :out, :t])\n",
    "\n",
    "\n",
    "\n",
    "    #desfazendo o deslocamento no índice de t\n",
    "    df.t = df.t .- 1.0;\n",
    "\n",
    "    #keeping only incourt reorganizations\n",
    "    df = filter(df -> df.t .> 0.0, df);\n",
    "    df = filter(df -> df.out .== 3.0, df)\n",
    "\n",
    "\n",
    "    x = log.(df.payoff_s .+ df.payoff_j)\n",
    "\n",
    "    X = [ones(size(x,1)) x]\n",
    "\n",
    "    y = log.(df.t .* μ)\n",
    "\n",
    "    if(size(df, 1) == 0)\n",
    "        mm9 = zero(0.0)\n",
    "    else\n",
    "        mm9 = (X' * X) \\ (X' * y)\n",
    "        mm9 = mm9[2]\n",
    "    end\n",
    "\n",
    "\n",
    "    MM = vec(mean(Moments, dims=1))\n",
    "    MM = vcat(MM, mm9)\n",
    "\n",
    "    return MM\n",
    "\n",
    "end"
   ]
  },
  {
   "cell_type": "code",
   "execution_count": 16,
   "metadata": {
    "scrolled": true
   },
   "outputs": [
    {
     "data": {
      "text/plain": [
       "9-element Array{Float64,1}:\n",
       "  2.012916361563748\n",
       "  0.9996946386946387\n",
       "  2.8444889593187965\n",
       "  0.9919696969696971\n",
       "  0.5913701651502423\n",
       "  0.19124857221534597\n",
       "  0.8202381297532338\n",
       "  0.41688445986873274\n",
       " -0.10139347473737927"
      ]
     },
     "execution_count": 16,
     "metadata": {},
     "output_type": "execute_result"
    }
   ],
   "source": [
    "using Random\n",
    "\n",
    "Random.seed!(2021)\n",
    "\n",
    "#test\n",
    "S = 100\n",
    "N = 66\n",
    "\n",
    "simulated_moments = simulate_moments(S, N, game_parameters, simulation_parameters, data1, data2, A1, A2, n1)"
   ]
  },
  {
   "cell_type": "markdown",
   "metadata": {},
   "source": [
    "Nova função para calcular a regressão"
   ]
  },
  {
   "cell_type": "code",
   "execution_count": 30,
   "metadata": {},
   "outputs": [
    {
     "data": {
      "text/plain": [
       "0.0"
      ]
     },
     "execution_count": 30,
     "metadata": {},
     "output_type": "execute_result"
    }
   ],
   "source": [
    "using Random\n",
    "\n",
    "N = 10000\n",
    "x = rand(N)\n",
    "X = [ones(N) ones(N)]\n",
    "y = 10 .+ x .* 0.3;\n",
    "\n",
    "\n",
    "\n",
    "function linreg1(y, X)\n",
    "    \n",
    "    denom = (X' * X)\n",
    "    \n",
    "    if(rank(denom) == size(X,2))\n",
    "        \n",
    "        β_hat = (X' * X) \\ X' * y\n",
    "        return(β_hat)\n",
    "        \n",
    "    else\n",
    "        return zero(0.0)\n",
    "    end\n",
    "end\n",
    "\n",
    "linreg1(y,X)"
   ]
  },
  {
   "cell_type": "code",
   "execution_count": 27,
   "metadata": {},
   "outputs": [
    {
     "data": {
      "text/plain": [
       "2"
      ]
     },
     "execution_count": 27,
     "metadata": {},
     "output_type": "execute_result"
    }
   ],
   "source": [
    "size(X,2)"
   ]
  },
  {
   "cell_type": "code",
   "execution_count": 28,
   "metadata": {},
   "outputs": [
    {
     "data": {
      "text/plain": [
       "false"
      ]
     },
     "execution_count": 28,
     "metadata": {},
     "output_type": "execute_result"
    }
   ],
   "source": [
    "rank(X' * X) == size(X,2)"
   ]
  },
  {
   "cell_type": "markdown",
   "metadata": {},
   "source": [
    "Calculando a matriz de pesos ótima com os resultados dessa estimação\n",
    "\n",
    "\n",
    "Two-step variance covariance estimator of W\n",
    "https://notes.quantecon.org/submission/5b3db2ceb9eab00015b89f93\n",
    "\n"
   ]
  },
  {
   "cell_type": "code",
   "execution_count": 18,
   "metadata": {},
   "outputs": [],
   "source": [
    "#data_moments\n",
    "data_moments = [2.11, 0.843, 2.76, 0.969, 0.6235, 0.5569, 0.773, 0.497, -0.098];"
   ]
  },
  {
   "cell_type": "code",
   "execution_count": 19,
   "metadata": {},
   "outputs": [
    {
     "data": {
      "text/plain": [
       "omega (generic function with 1 method)"
      ]
     },
     "execution_count": 19,
     "metadata": {},
     "output_type": "execute_result"
    }
   ],
   "source": [
    "function omega(N, data_moments, simulated_moments)\n",
    "    \n",
    "    error = (simulated_moments .- data_moments) ./ data_moments\n",
    "    \n",
    "    omega = 1/N * error * transpose(error)\n",
    "    \n",
    "    return omega\n",
    "end"
   ]
  },
  {
   "cell_type": "code",
   "execution_count": 20,
   "metadata": {},
   "outputs": [
    {
     "data": {
      "text/plain": [
       "9×9 Array{Float64,2}:\n",
       "  0.370964   0.764711  -0.594267  …   -1.70796    0.330248   -0.868094\n",
       "  0.764711   1.57639   -1.22503       -3.52083    0.68078    -1.7895\n",
       " -0.594267  -1.22503    0.95199        2.73608   -0.529043    1.39065\n",
       " -0.100933  -0.208065   0.16169        0.464708  -0.0898549   0.236193\n",
       "  3.4625     7.13767   -5.54678      -15.9418     3.08247    -8.10262\n",
       " -2.12709   -4.38483    3.40751   …    9.79341   -1.89363     4.97762\n",
       " -1.70796   -3.52083    2.73608        7.86369   -1.52051     3.99682\n",
       "  0.330248   0.68078   -0.529043      -1.52051    0.294002   -0.772816\n",
       " -0.868094  -1.7895     1.39065        3.99682   -0.772816    2.03143"
      ]
     },
     "execution_count": 20,
     "metadata": {},
     "output_type": "execute_result"
    }
   ],
   "source": [
    "W_2step = pinv(omega(N, data_moments, simulated_moments))"
   ]
  },
  {
   "cell_type": "code",
   "execution_count": 21,
   "metadata": {},
   "outputs": [
    {
     "data": {
      "text/plain": [
       "9-element Array{Float64,1}:\n",
       "  0.3709636778796731\n",
       "  1.5763894865257808\n",
       "  0.9519900604881276\n",
       "  0.0274620808354169\n",
       " 32.3183590186174\n",
       " 12.196670280828661\n",
       "  7.863686622877914\n",
       "  0.2940016033191188\n",
       "  2.0314304639745373"
      ]
     },
     "execution_count": 21,
     "metadata": {},
     "output_type": "execute_result"
    }
   ],
   "source": [
    "#pesos dados a cada um dos momentos\n",
    "diag(W_2step)"
   ]
  },
  {
   "cell_type": "markdown",
   "metadata": {},
   "source": [
    "Calculando a derivada dos momentos em relação aos parâmetros"
   ]
  },
  {
   "cell_type": "code",
   "execution_count": 22,
   "metadata": {},
   "outputs": [
    {
     "data": {
      "text/plain": [
       "simulate_new_moments (generic function with 1 method)"
      ]
     },
     "execution_count": 22,
     "metadata": {},
     "output_type": "execute_result"
    }
   ],
   "source": [
    "function simulate_new_moments(i, S, N, game_parameters, simulation_parameters, data1, data2, A1, A2, n1)\n",
    "    \n",
    "    \n",
    "    println(\"parameter \",i, game_parameters, simulation_parameters)\n",
    "        \n",
    "    θs0, θj0, μ = simulation_parameters;\n",
    "    θs0 = Int64(round(θs0, digits=0));\n",
    "    θj0 = Int64(round(θj0, digits=0));\n",
    "\n",
    "    λj = game_parameters[4];\n",
    "    new_simulated_moments = simulate_moments(S, N, game_parameters, simulation_parameters, data1, data2, A1, A2, n1) \n",
    "    \n",
    "    return new_simulated_moments\n",
    "end"
   ]
  },
  {
   "cell_type": "code",
   "execution_count": 23,
   "metadata": {},
   "outputs": [
    {
     "data": {
      "text/plain": [
       "derivative_moments (generic function with 1 method)"
      ]
     },
     "execution_count": 23,
     "metadata": {},
     "output_type": "execute_result"
    }
   ],
   "source": [
    " \n",
    "function derivative_moments(S, N, game_parameters, simulation_parameters, data1, data2, n1, aux)\n",
    "\n",
    "    \n",
    "    \n",
    "    \n",
    "    #https://en.wikibooks.org/wiki/Introduction_to_Numerical_Methods/Numerical_Differentiation\n",
    "    #backward divided difference method\n",
    "\n",
    "   \n",
    "\n",
    "\n",
    "    estimated_game_parameters = game_parameters\n",
    "    estimated_simulation_parameters = simulation_parameters\n",
    "\n",
    "\n",
    "\n",
    "    A2 = @spawnat aux solve_tree(data2, game_parameters)\n",
    "    A1 = solve_tree(data1, game_parameters)\n",
    "    A2 = fetch(A2)\n",
    "    \n",
    "    \n",
    "    \n",
    "    simulated_moments = simulate_moments(S, N, game_parameters, simulation_parameters, data1, data2, A1, A2, n1)\n",
    "\n",
    "    P = size(game_parameters,1)+size(simulation_parameters,1)\n",
    "    M = size(simulated_moments,1)\n",
    "    D = zeros(M, P)\n",
    "    \n",
    "    #porcentagem de variação no parâmetro\n",
    "    pct = 1/100\n",
    "    \n",
    "    for p in P:-1:1\n",
    "\n",
    "        if(p>size(game_parameters,1))\n",
    "\n",
    "            simulation_parameters = copy(estimated_simulation_parameters)\n",
    "            \n",
    "            delta = simulation_parameters[p-size(game_parameters,1)] * pct\n",
    "\n",
    "            simulation_parameters[p-size(game_parameters,1)] -= delta\n",
    "\n",
    "\n",
    "            if(p == 5 || p ==6) #para ajustar caso seja habilidade inicial de S ou de J\n",
    "                simulation_parameters[p-size(game_parameters,1)] = round(simulation_parameters[p-size(game_parameters,1)], digits=0)\n",
    "            end\n",
    "            \n",
    "            \n",
    "            #caso a variação percentual não seja suficiente para reduzir habilidades iniciais, delta será 1\n",
    "            if(simulation_parameters[p-size(game_parameters,1)] == estimated_simulation_parameters[p-size(game_parameters,1)])\n",
    "                delta = Int64(1)\n",
    "                \n",
    "                simulation_parameters[p-size(game_parameters,1)] -= delta\n",
    "            end\n",
    "\n",
    "            new_simulated_moments = simulate_new_moments(p, S, N, game_parameters, simulation_parameters, data1, data2, A1, A2, n1)\n",
    "\n",
    "            D[:, p] = (simulated_moments - new_simulated_moments) ./ delta\n",
    "            \n",
    "        else\n",
    "\n",
    "            #se for um parâmetro de jogo, precisa recalcular o jogo\n",
    "\n",
    "            game_parameters = copy(estimated_game_parameters)\n",
    "            \n",
    "            delta = game_parameters[p] * pct\n",
    "            game_parameters[p] -= delta\n",
    "\n",
    "            A2 = @spawnat aux solve_tree(data2, game_parameters)\n",
    "            A1 = solve_tree(data1, game_parameters)\n",
    "            A2 = fetch(A2)\n",
    "\n",
    "\n",
    "\n",
    "            new_simulated_moments = simulate_new_moments(p, S, N, game_parameters, simulation_parameters, data1, data2, A1, A2, n1)\n",
    "\n",
    "            D[:, p] = (simulated_moments - new_simulated_moments) ./ delta\n",
    "\n",
    "\n",
    "        end\n",
    "\n",
    "\n",
    "    end\n",
    "    \n",
    "    \n",
    "    \n",
    "    return D\n",
    "end\n",
    "    "
   ]
  },
  {
   "cell_type": "code",
   "execution_count": 24,
   "metadata": {},
   "outputs": [
    {
     "name": "stdout",
     "output_type": "stream",
     "text": [
      "       From worker 3:\t 23.313710 seconds (83.73 M allocations: 1.874 GiB, 0.97% gc time)\n",
      "25.404923 seconds (83.73 M allocations: 1.874 GiB, 1.40% gc time)\n",
      "parameter 7[0.4, 14.769, 0.01, 0.87][37.0, 33.0, 10.348469999999999]\n",
      "parameter 6[0.4, 14.769, 0.01, 0.87][37.0, 32.0, 10.453]\n",
      "parameter 5[0.4, 14.769, 0.01, 0.87][36.0, 33.0, 10.453]\n",
      "       From worker 3:\t 23.419455 seconds (83.73 M allocations: 1.874 GiB, 1.61% gc time)\n",
      "25.832891 seconds (83.73 M allocations: 1.874 GiB, 1.72% gc time)\n",
      "parameter 4[0.4, 14.769, 0.01, 0.8613][36.0, 33.0, 10.453]\n",
      "       From worker 3:\t 25.177125 seconds (83.73 M allocations: 1.874 GiB, 1.44% gc time)\n",
      "27.513261 seconds (83.73 M allocations: 1.874 GiB, 1.63% gc time)\n",
      "parameter 3[0.4, 14.769, 0.0099, 0.87][36.0, 33.0, 10.453]\n",
      "       From worker 3:\t 23.478976 seconds (83.73 M allocations: 1.874 GiB, 1.61% gc time)\n",
      "25.621719 seconds (83.73 M allocations: 1.874 GiB, 1.55% gc time)\n",
      "parameter 2[0.4, 14.62131, 0.01, 0.87][36.0, 33.0, 10.453]\n",
      "       From worker 3:\t 23.440483 seconds (83.73 M allocations: 1.874 GiB, 1.54% gc time)\n",
      "25.664974 seconds (83.73 M allocations: 1.874 GiB, 1.68% gc time)\n",
      "parameter 1[0.396, 14.769, 0.01, 0.87][36.0, 33.0, 10.453]\n"
     ]
    },
    {
     "data": {
      "text/plain": [
       "9×7 Array{Float64,2}:\n",
       "  3.07826    0.111155     181.557     2.59262    …   0.00560242    0.122633\n",
       " -0.579151   0.00232621    13.0025    0.0206242      0.00234283    0.00861606\n",
       "  1.6718     0.0147791     46.913     0.540388      -0.00307306    0.0858879\n",
       " -4.96212   -0.140548    -189.394    -2.43817       -0.000909091  -0.0231918\n",
       " 46.5336     0.859421    1514.7      14.461         -0.0107433    -0.0457803\n",
       " 18.8756     0.408077     730.316     1.23518    …  -0.0282202    -0.465375\n",
       " -1.58418   -0.013891    -116.297    -0.591068       0.00582303   -0.0141675\n",
       "  0.183037   0.0161065      6.69913   0.344603       0.0105443     0.0196973\n",
       " -3.05808   -0.037862    -142.294    -1.21377       -0.000394643   0.00378559"
      ]
     },
     "execution_count": 24,
     "metadata": {},
     "output_type": "execute_result"
    }
   ],
   "source": [
    "Derivative = derivative_moments(S, N, game_parameters, simulation_parameters, data1, data2, n1, aux)"
   ]
  },
  {
   "cell_type": "code",
   "execution_count": 25,
   "metadata": {},
   "outputs": [
    {
     "data": {
      "text/plain": [
       "9-element Array{Float64,1}:\n",
       "  0.11115489089649357\n",
       "  0.0023262116256527504\n",
       "  0.014779107130531127\n",
       " -0.14054828192549165\n",
       "  0.859421006386204\n",
       "  0.40807658652734674\n",
       " -0.013891007533846781\n",
       "  0.01610645178977582\n",
       " -0.03786198487329508"
      ]
     },
     "execution_count": 25,
     "metadata": {},
     "output_type": "execute_result"
    }
   ],
   "source": [
    "Derivative[:,2]"
   ]
  },
  {
   "cell_type": "code",
   "execution_count": 26,
   "metadata": {},
   "outputs": [],
   "source": [
    "using DelimitedFiles\n",
    "\n",
    "writedlm( \"Derivative-nocd50_1pct.csv\",  Derivative, ',')"
   ]
  },
  {
   "cell_type": "code",
   "execution_count": null,
   "metadata": {},
   "outputs": [],
   "source": []
  }
 ],
 "metadata": {
  "kernelspec": {
   "display_name": "Julia 1.5.3",
   "language": "julia",
   "name": "julia-1.5"
  },
  "language_info": {
   "file_extension": ".jl",
   "mimetype": "application/julia",
   "name": "julia",
   "version": "1.5.3"
  }
 },
 "nbformat": 4,
 "nbformat_minor": 4
}
