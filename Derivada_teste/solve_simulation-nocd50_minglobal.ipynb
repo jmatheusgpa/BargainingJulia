{
 "cells": [
  {
   "cell_type": "markdown",
   "metadata": {},
   "source": [
    "Dou et al. (2020) model\n",
    "\n",
    "Agora em Julia versão 1.5.3\n",
    "\n",
    "This script simulates the model\n",
    "\n",
    "Calculando a derivada fixando os parâmetros iguais aos de Dou et al. e substituindo pelo $\\beta$ encontrado na última estimação com 2 clusters"
   ]
  },
  {
   "cell_type": "markdown",
   "metadata": {},
   "source": [
    "Calculando os momentos quando a função é avaliada no seu mínimo global"
   ]
  },
  {
   "cell_type": "code",
   "execution_count": 1,
   "metadata": {},
   "outputs": [],
   "source": [
    "using LinearAlgebra, Statistics\n",
    "\n",
    "using DataFrames\n",
    "using BenchmarkTools\n"
   ]
  },
  {
   "cell_type": "code",
   "execution_count": 2,
   "metadata": {},
   "outputs": [
    {
     "data": {
      "text/plain": [
       "3"
      ]
     },
     "execution_count": 2,
     "metadata": {},
     "output_type": "execute_result"
    }
   ],
   "source": [
    "using Distributed\n",
    "nprocs = 2\n",
    "addprocs(nprocs);\n",
    "\n",
    "@everywhere using NBInclude\n",
    "@everywhere @nbinclude(\"solve_model.ipynb\")\n",
    "\n",
    "#importou a função solve_tree\n",
    "\n",
    "pids = workers()\n",
    "aux = pids[nprocs]"
   ]
  },
  {
   "cell_type": "code",
   "execution_count": 3,
   "metadata": {},
   "outputs": [],
   "source": [
    "#Vh/D, L/D, Dj/D\n",
    "data1 = [0.86, 0.19, 0.8];\n",
    "n1 = 49\n",
    "\n",
    "data2 = [2.65, 0.69, 0.74];\n",
    "n2 = 17\n",
    "\n",
    "#ρ, β, c0, λj\n",
    "game_parameters = [0.93, 3.554, 0.179, 0.945];"
   ]
  },
  {
   "cell_type": "code",
   "execution_count": 4,
   "metadata": {},
   "outputs": [
    {
     "name": "stdout",
     "output_type": "stream",
     "text": [
      "214.966087 seconds (634.66 M allocations: 14.096 GiB      From worker 3:\t214.973868 seconds (576.80 M allocations: 12.816 GiB, 2.28% gc time)\n",
      ", 1.93% gc time)\n"
     ]
    }
   ],
   "source": [
    "A2 = @spawnat aux solve_tree(data2, game_parameters)\n",
    "\n",
    "A1 = solve_tree(data1, game_parameters);\n",
    "\n",
    "A2 = fetch(A2);"
   ]
  },
  {
   "cell_type": "markdown",
   "metadata": {},
   "source": [
    "Simulation parameters"
   ]
  },
  {
   "cell_type": "code",
   "execution_count": 5,
   "metadata": {},
   "outputs": [],
   "source": [
    "#θs0, θj0, μ\n",
    "simulation_parameters = [48.0, 14.0, 13.062];"
   ]
  },
  {
   "cell_type": "markdown",
   "metadata": {},
   "source": [
    "### Criando funções para simular o jogo"
   ]
  },
  {
   "cell_type": "code",
   "execution_count": 6,
   "metadata": {},
   "outputs": [
    {
     "data": {
      "text/plain": [
       "update_beliefs (generic function with 1 method)"
      ]
     },
     "execution_count": 6,
     "metadata": {},
     "output_type": "execute_result"
    }
   ],
   "source": [
    "#cost function\n",
    "function Ct(t, c0=c0, c1=c1)\n",
    "    \n",
    "    #didn't use D because is normalized to D == 1.0\n",
    "    #cost at period t=0(index1) is 0\n",
    "    if(t <= 1)\n",
    "        return 0\n",
    "    else\n",
    "        return c0 + c1 * (t-1) #test to make index==1 be t==0\n",
    "    end\n",
    "end\n",
    "\n",
    "\n",
    "\n",
    "#liquidation payoffs\n",
    "function s_L(t, L, Ds, Dj, c0, c1)\n",
    "    return min(L - Ct(t, c0, c1), Ds)\n",
    "end\n",
    "\n",
    "\n",
    "function j_L(t, L, Ds, Dj, c0, c1)\n",
    "    return min(L - Ct(t, c0, c1) - s_L(t, L, Ds, Dj, c0, c1), Dj)\n",
    "end\n",
    "\n",
    "\n",
    "function proposal(Pkt_array, t, hkt, lmt)\n",
    "    \n",
    "    #pkt array será sempre do propositor, quem responder às propostas apenas olhará o seu valor de continuação\n",
    "    \n",
    "    return policy, payoff_prop, payment, lm_next = Pkt_array[t, hkt, lmt, [end,end-1, 1, 2]]\n",
    "    \n",
    "end\n",
    "    \n",
    "\n",
    "#maximum value of reorganization each period\n",
    "function Vt(Vmax, ρ, t)\n",
    "\n",
    "    if(t <=1)\n",
    "        return Vmax\n",
    "    else\n",
    "        #(t-2) instead of (t-1) because we shifted the indexes in the game so as to include t==0 at index==1\n",
    "        return ρ^(t-2) * Vmax\n",
    "    end\n",
    "\n",
    "\n",
    "end\n",
    "\n",
    "# answer_liq\n",
    "function answer_liq(m_L, t, hm_next, payoff_prop, L, Ds, Dj, Vmax, ρ, c0, c1)\n",
    "    \n",
    "    liq = (m_L(t, L, Ds, Dj, c0, c1), Vt(Vmax, ρ, t) * hm_next/100 - Ct(t, c0, c1) - payoff_prop)\n",
    "    \n",
    "    payoff_liq, answer = findmax(liq)\n",
    "    \n",
    "    return payoff_liq, answer\n",
    "end\n",
    "\n",
    "function answer_reorg(payment, Cont_val, t, hm_next, lm_next, lk_next)\n",
    "    \n",
    "    reorg_value = (payment, Cont_val[t+1, hm_next, lm_next, lk_next])\n",
    "\n",
    "    payoff_reorg, answer = findmax(reorg_value)\n",
    "    \n",
    "    return payoff_reorg, answer\n",
    "end\n",
    "\n",
    "function update_beliefs(propositor, hk_next, hm_next, lk_next, lm_next)\n",
    "    \n",
    "    if(propositor==\"s\")\n",
    "        hst = hk_next\n",
    "        lst = lk_next\n",
    "        \n",
    "        hjt = hm_next\n",
    "        ljt = lm_next\n",
    "        \n",
    "    else\n",
    "        hst = hm_next\n",
    "        lst = lm_next\n",
    "        \n",
    "        hjt = hk_next\n",
    "        ljt = lk_next\n",
    "    end\n",
    "    \n",
    "    \n",
    "    return hst, lst, hjt, ljt\n",
    "end\n",
    "\n",
    "        "
   ]
  },
  {
   "cell_type": "code",
   "execution_count": 7,
   "metadata": {},
   "outputs": [
    {
     "data": {
      "text/plain": [
       "draw_beta (generic function with 3 methods)"
      ]
     },
     "execution_count": 7,
     "metadata": {},
     "output_type": "execute_result"
    }
   ],
   "source": [
    "#código para tirar um draw da beta\n",
    "\n",
    "function draw_beta(hkt, β=game_parameters[2], grid=100)\n",
    "\n",
    "    u = rand()\n",
    "\n",
    "    if(hkt == grid)\n",
    "        \n",
    "        return grid\n",
    "\n",
    "    else\n",
    "        \n",
    "        x = 1.0 - exp(1.0/β * (log(1.0 - u) + β * log(1.0 - hkt/grid)))\n",
    "        x = round(x * 100, digits=0)\n",
    "#         return Int64(x * 100) #to convert in an integer\n",
    "        return Int64(x)\n",
    "        \n",
    "    end\n",
    "end\n",
    "\n",
    "        \n",
    "\n",
    "# @code_warntype draw_beta(10)\n",
    "\n"
   ]
  },
  {
   "cell_type": "code",
   "execution_count": 8,
   "metadata": {},
   "outputs": [],
   "source": [
    "function choose_parameters(propositor, hst, lst, hjt, ljt, Pst_array, Pjt_array, s_W, j_W)\n",
    "    \n",
    "    if(propositor==\"s\")\n",
    "        \n",
    "        Pkt_array = Pst_array\n",
    "        Cont_val = j_W\n",
    "        prop_index = 1\n",
    "        respondent_index = 2 #índice de j, para organizar o payoff\n",
    "        m_L = j_L\n",
    "\n",
    "        hkt = hst\n",
    "        lkt = lst\n",
    "        \n",
    "        hmt = hjt\n",
    "        lmt = ljt\n",
    "\n",
    "\n",
    "        lk_next = hkt\n",
    "\n",
    "        hk_next = draw_beta(hkt)\n",
    "        hm_next = draw_beta(hmt)\n",
    "        \n",
    "    elseif(propositor==\"j\")\n",
    "        Pkt_array = Pjt_array\n",
    "        Cont_val = s_W\n",
    "        prop_index = 2\n",
    "        respondent_index = 1\n",
    "        m_L = s_L\n",
    "\n",
    "        hkt = hjt\n",
    "        lkt = ljt\n",
    "        \n",
    "        hmt = hst\n",
    "        lmt = lst\n",
    "\n",
    "\n",
    "        lk_next = hkt\n",
    "\n",
    "\n",
    "        hk_next = draw_beta(hkt)\n",
    "        hm_next = draw_beta(hmt)\n",
    "\n",
    "    else\n",
    "        \n",
    "        println(\"error: propositor not valid\")\n",
    "        \n",
    "    end\n",
    "    \n",
    "    return Pkt_array, Cont_val, prop_index, respondent_index, m_L, hkt, lkt, hmt, lmt, lk_next, hk_next, hm_next\n",
    "end\n",
    "\n",
    "\n",
    "\n",
    "\n",
    "# #test\n",
    "# Hs0 = 30\n",
    "# Hj0 = 28\n",
    "\n",
    "\n",
    "# hst = Hs0\n",
    "# hjt = Hj0\n",
    "\n",
    "# #assumindo que lower bounds nos períodos iniciais são as próprias habilidades iniciais\n",
    "# lst = hst\n",
    "# ljt = hjt\n",
    "\n",
    "\n",
    "\n",
    "\n",
    "# choose_parameters(\"s\", hst, lst, hjt, ljt);\n",
    "    \n",
    "    "
   ]
  },
  {
   "cell_type": "code",
   "execution_count": 9,
   "metadata": {},
   "outputs": [
    {
     "data": {
      "text/plain": [
       "simulate_game (generic function with 7 methods)"
      ]
     },
     "execution_count": 9,
     "metadata": {},
     "output_type": "execute_result"
    }
   ],
   "source": [
    "function simulate_game(data, game_parameters, simulation_parameters, s_W=s_W, j_W=j_W, Pst_array=Pst_array, Pjt_array=Pjt_array, t=1, grid=100)\n",
    "    \n",
    "    \n",
    "    Vmax = data[1]\n",
    "    L = data[2]\n",
    "    Dj = data[3]\n",
    "    Ds = one(1.0) - Dj\n",
    "    \n",
    "    \n",
    "    c0 = game_parameters[3];\n",
    "    c1 = c0/30;\n",
    "\n",
    "    ρ = game_parameters[1];\n",
    "    λj = game_parameters[4];\n",
    "\n",
    "    \n",
    "    \n",
    "#     hst = Hs0\n",
    "#     hjt = Hj0\n",
    "    \n",
    "    hst = Int64(simulation_parameters[1])\n",
    "    hjt = Int64(simulation_parameters[2])\n",
    "\n",
    "    #assumindo que lower bounds nos períodos iniciais são as próprias habilidades iniciais\n",
    "    lst = hst\n",
    "    ljt = hjt\n",
    "    \n",
    "    result = zeros(5);\n",
    "    \n",
    "    #number of observed proposals\n",
    "    observed_proposals = 0.0\n",
    "    \n",
    "    \n",
    "    #recovering \"T+1\" from s_W \n",
    "    T = size(s_W,1)\n",
    "    \n",
    "    \n",
    "    while(result[1]==0.0 && t < T)\n",
    "        \n",
    "        \n",
    "        u = rand()\n",
    "\n",
    "        if(u < λj)\n",
    "            propositor = \"j\"\n",
    "\n",
    "        else\n",
    "            propositor = \"s\"\n",
    "\n",
    "        end\n",
    "\n",
    "        \n",
    "        #setting the default variables according to the propositor\n",
    "        Pkt_array, Cont_val, prop_index, respondent_index, m_L, hkt, lkt, hmt, lmt, lk_next, hk_next, hm_next = choose_parameters(propositor, hst, lst, hjt, ljt, Pst_array, Pjt_array, s_W, j_W)\n",
    "        \n",
    "        #proposal ####\n",
    "        policy, payoff_prop, payment, lm_next = proposal(Pkt_array, t, hkt, lmt)\n",
    "\n",
    "        #lm_next is the update of the adversary's lower bound\n",
    "        if(lm_next>=grid+1 || policy!= 3.0) #para evitar update de lowerbound quando proponente não propõe reorg\n",
    "            lm_next = lmt\n",
    "        else\n",
    "            lm_next = Int64(lm_next)\n",
    "        end\n",
    "        \n",
    "        \n",
    "        \n",
    "        if(policy==3.0)\n",
    "            \n",
    "            observed_proposals += 1.0\n",
    "    \n",
    "            payoff_respondent, answer = answer_reorg(payment, Cont_val, t, hm_next, lm_next, lk_next)\n",
    "\n",
    "\n",
    "            if(answer==1.0)\n",
    "\n",
    "                result[prop_index] = payoff_prop\n",
    "                result[respondent_index] = payoff_respondent\n",
    "                result[3] = 3.0\n",
    "                result[4] = t\n",
    "                result[5] = observed_proposals\n",
    "\n",
    "            else\n",
    "                \n",
    "                t+=1\n",
    "\n",
    "                hst, lst, hjt, ljt = update_beliefs(propositor, hk_next, hm_next, lk_next, lm_next)\n",
    "            end\n",
    "\n",
    "        elseif(policy==2.0)\n",
    "            \n",
    "            t+=1\n",
    "            \n",
    "            hst, lst, hjt, ljt = update_beliefs(propositor, hk_next, hm_next, lk_next, lm_next)\n",
    "            \n",
    "            \n",
    "\n",
    "        else      \n",
    "            #(policy==1.0)\n",
    "            \n",
    "            observed_proposals += 1.0\n",
    "\n",
    "            payoff_respondent, answer = answer_liq(m_L, t, hm_next, payoff_prop, L, Ds, Dj, Vmax, ρ, c0, c1)\n",
    "            \n",
    "            \n",
    "\n",
    "            if(answer==1.0)\n",
    "\n",
    "                result[prop_index] = payoff_prop\n",
    "                result[respondent_index] = payoff_respondent\n",
    "                result[3] = 1.0\n",
    "                result[4] = t\n",
    "                result[5] = observed_proposals\n",
    "\n",
    "            else\n",
    "\n",
    "                result[prop_index] = payoff_prop\n",
    "                result[respondent_index] = payoff_respondent\n",
    "                result[3] = 3.0\n",
    "                result[4] = t\n",
    "                result[5] = observed_proposals\n",
    "\n",
    "\n",
    "            end\n",
    "        end\n",
    "\n",
    "\n",
    "        if(t==T)\n",
    "            \n",
    "            result[1] = s_W[T, 1, 1, 1]#todos os valores finais de S são iguais, então acessarei o índice 1\n",
    "            result[2] = j_W[T, 1, 1, 1]\n",
    "            result[3] = 1.0\n",
    "            result[4] = t\n",
    "            result[5] = max(observed_proposals, 1.0)\n",
    "            \n",
    "        end\n",
    "        \n",
    "\n",
    "\n",
    "\n",
    "\n",
    "    end\n",
    "    \n",
    "    \n",
    "    return result\n",
    "end\n",
    "\n",
    "        \n",
    "        \n",
    "#precisa colocar uma condição IF aqui para caso o jogo vá até o último período?\n",
    "    "
   ]
  },
  {
   "cell_type": "code",
   "execution_count": 10,
   "metadata": {},
   "outputs": [
    {
     "name": "stdout",
     "output_type": "stream",
     "text": [
      "  3.300 μs (27 allocations: 1.05 KiB)\n"
     ]
    },
    {
     "data": {
      "text/plain": [
       "5-element Array{Float64,1}:\n",
       " 0.09139249018946216\n",
       " 0.3763181611411412\n",
       " 3.0\n",
       " 3.0\n",
       " 1.0"
      ]
     },
     "execution_count": 10,
     "metadata": {},
     "output_type": "execute_result"
    }
   ],
   "source": [
    "#unit testing\n",
    "@btime simulate_game(data1, game_parameters, simulation_parameters, A1[1], A1[2], A1[3], A1[4])"
   ]
  },
  {
   "cell_type": "code",
   "execution_count": 11,
   "metadata": {},
   "outputs": [],
   "source": [
    "function loop_simulations(S, N, game_parameters, simulation_parameters, data1, data2, A1, A2, n1)\n",
    "    \n",
    "    \n",
    "    \n",
    "    \n",
    "    \n",
    "    #S is the number of simulations\n",
    "    #N is the number of observations\n",
    "    #data1 is the center of the first cluster\n",
    "    #A1 is the collection of arrays from the first cluster (s_W, j_W, Pst, Pjt)\n",
    "    #n1 is the number of observations in the first cluster\n",
    "    \n",
    "    \n",
    "    \n",
    "    \n",
    "    #no futuro os argumentos podem ser arrays de arrays, assim ele faz o loop para cada cluster\n",
    "    Results = zeros(S, N, 7)\n",
    "\n",
    "    #últimas entradas de Results são os valores das dívidas\n",
    "    \n",
    "    \n",
    "    for s in 1:S\n",
    "        for n in 1:N\n",
    "            if(n <= n1)\n",
    "                Results[s,n,1:5] .= simulate_game(data1, game_parameters, simulation_parameters, A1[1], A1[2], A1[3], A1[4])\n",
    "                Results[s,n, end-1] = A1[5]\n",
    "                Results[s,n, end] = A1[6]\n",
    "            else\n",
    "                Results[s,n,1:5] .= simulate_game(data2, game_parameters, simulation_parameters, A2[1], A2[2], A2[3], A2[4])\n",
    "                Results[s,n, end-1] = A2[5]\n",
    "                Results[s,n, end] = A2[6]\n",
    "            end\n",
    "            \n",
    "        end\n",
    "    end\n",
    "\n",
    "    return Results\n",
    "    \n",
    "end\n",
    "\n",
    "    \n",
    "# loop_simulations(40, 75, θs0, θj0, μ, λj);"
   ]
  },
  {
   "cell_type": "code",
   "execution_count": 12,
   "metadata": {},
   "outputs": [
    {
     "data": {
      "text/plain": [
       "40×66×7 Array{Float64,3}:\n",
       "[:, :, 1] =\n",
       " 0.0158243  0.0319802  0.0215436  0.0305855  …  0.361501  0.344061  0.316235\n",
       " 0.0669986  0.0304725  0.19       0.0205201     0.457255  0.454554  0.318137\n",
       " 0.0315342  0.0250184  0.031933   0.0238206     0.343553  0.36542   0.320322\n",
       " 0.024659   0.0250896  0.0236461  0.0358645     0.361617  0.327186  0.350698\n",
       " 0.0238466  0.0940314  0.0319192  0.0187508     0.370339  0.344574  0.591402\n",
       " 0.0239524  0.0358645  0.0818964  0.102408   …  0.337706  0.339887  0.341407\n",
       " 0.0279485  0.19       0.0308749  0.0225481     0.341308  0.342578  0.332601\n",
       " 0.0285425  0.0248377  0.0193329  0.0321768     0.649228  0.342145  0.340165\n",
       " 0.0224998  0.0780084  0.0258414  0.031658      0.342428  0.320051  0.338612\n",
       " 0.0244459  0.0224388  0.0218441  0.0321768     0.314595  0.330402  0.316706\n",
       " 0.0246116  0.018088   0.022627   0.0204321  …  0.370679  0.3427    0.332092\n",
       " 0.0216968  0.0267174  0.0255589  0.0280332     0.33773   0.344087  0.361501\n",
       " 0.0326421  0.0326421  0.0344516  0.0215977     0.331347  0.333985  0.351973\n",
       " ⋮                                           ⋱                      ⋮\n",
       " 0.140172   0.0244837  0.0288047  0.0289799     0.319438  0.312742  0.333983\n",
       " 0.0222596  0.0633115  0.0287504  0.026512      0.35188   0.516859  0.315068\n",
       " 0.0165405  0.0223071  0.0764029  0.0248548  …  0.321613  0.332749  0.344944\n",
       " 0.0241963  0.0207907  0.0358369  0.0264135     0.343952  0.325754  0.316508\n",
       " 0.0268966  0.0232738  0.0286467  0.0221675     0.345091  0.3427    0.435584\n",
       " 0.0326421  0.19       0.0106284  0.19          0.349984  0.350688  0.314991\n",
       " 0.028206   0.0735214  0.025741   0.19          0.358677  0.348248  0.435584\n",
       " 0.0239825  0.0278086  0.0181915  0.0729123  …  0.338379  0.353635  0.333971\n",
       " 0.0166436  0.0278555  0.0339685  0.0300719     0.361012  0.331398  0.357335\n",
       " 0.0188734  0.0316239  0.0407618  0.0285047     0.332601  0.336303  0.476024\n",
       " 0.19       0.0284605  0.0343398  0.0196791     0.350971  0.333855  0.347646\n",
       " 0.026877   0.0282516  0.0246096  0.0387375     0.378922  0.333971  0.350051\n",
       "\n",
       "[:, :, 2] =\n",
       " 0.185914  0.425823  0.259041   0.364475  …  1.33      1.13155   1.12252\n",
       " 0.284442  0.364238  0.0336     0.250265     1.24681   1.02482   0.80025\n",
       " 0.369893  0.283537  0.413127   0.319998     1.45064   1.52089   0.761062\n",
       " 0.309265  0.294892  0.315154   0.449504     1.31191   0.884353  1.12549\n",
       " 0.304629  0.297266  0.375747   0.229958     1.45855   1.19845   0.940652\n",
       " 0.314745  0.449504  0.304099   0.160285  …  1.40444   1.16981   1.30128\n",
       " 0.320046  0.0       0.370033   0.35633      1.28419   1.26724   1.02162\n",
       " 0.33135   0.371722  0.203243   0.432236     1.09922   1.15253   0.949604\n",
       " 0.351317  0.301254  0.386913   0.445086     1.10524   0.748533  0.901286\n",
       " 0.319322  0.346359  0.244573   0.432236     0.878454  1.13986   0.813818\n",
       " 0.263545  0.234863  0.239295   0.274079  …  1.8232    1.05822   0.848268\n",
       " 0.24941   0.359151  0.398005   0.320095     1.2497    1.14826   1.33\n",
       " 0.387942  0.387942  0.385843   0.235339     1.02263   1.00675   1.40028\n",
       " ⋮                                        ⋱                      ⋮\n",
       " 0.20843   0.299325  0.314023   0.348422     0.774143  0.717453  0.918812\n",
       " 0.295997  0.293198  0.371957   0.461194     1.22609   1.10756   0.64563\n",
       " 0.181261  0.275443  0.331509   0.263338  …  1.02397   1.00713   1.38218\n",
       " 0.2996    0.264415  0.490527   0.375953     1.2154    0.926737  0.839408\n",
       " 0.380935  0.335483  0.34256    0.249156     1.1034    1.05667   1.08459\n",
       " 0.387942  0.0       0.0932372  0.0078       1.43758   1.18519   0.668934\n",
       " 0.297972  0.301526  0.277973   0.0336       1.32356   1.21284   1.08459\n",
       " 0.324871  0.342097  0.247925   0.201388  …  1.4532    1.25438   0.991417\n",
       " 0.305703  0.309172  0.29113    0.35882      1.30139   1.11013   1.12191\n",
       " 0.212308  0.352091  0.294612   0.366039     1.02183   1.07952   1.00847\n",
       " 0.2744    0.383886  0.52516    0.19844      1.20201   1.02046   1.00726\n",
       " 0.364509  0.319689  0.27369    0.244758     1.37494   0.991417  1.26173\n",
       "\n",
       "[:, :, 3] =\n",
       " 3.0  3.0  3.0  3.0  3.0  3.0  3.0  3.0  …  3.0  3.0  3.0  3.0  3.0  3.0  3.0\n",
       " 3.0  3.0  3.0  3.0  3.0  3.0  3.0  3.0     3.0  3.0  3.0  3.0  3.0  3.0  3.0\n",
       " 3.0  3.0  3.0  3.0  3.0  3.0  3.0  3.0     3.0  3.0  3.0  3.0  3.0  3.0  3.0\n",
       " 3.0  3.0  3.0  3.0  3.0  3.0  3.0  3.0     3.0  3.0  3.0  3.0  3.0  3.0  3.0\n",
       " 3.0  3.0  3.0  3.0  3.0  3.0  3.0  3.0     3.0  3.0  3.0  3.0  3.0  3.0  3.0\n",
       " 3.0  3.0  3.0  3.0  3.0  3.0  1.0  3.0  …  3.0  3.0  3.0  3.0  3.0  3.0  3.0\n",
       " 3.0  1.0  3.0  3.0  3.0  3.0  3.0  3.0     3.0  3.0  3.0  3.0  3.0  3.0  3.0\n",
       " 3.0  3.0  3.0  3.0  3.0  3.0  3.0  3.0     3.0  3.0  3.0  3.0  3.0  3.0  3.0\n",
       " 3.0  3.0  3.0  3.0  3.0  3.0  3.0  3.0     3.0  3.0  3.0  3.0  3.0  3.0  3.0\n",
       " 3.0  3.0  3.0  3.0  3.0  3.0  3.0  3.0     3.0  3.0  3.0  3.0  3.0  3.0  3.0\n",
       " 3.0  3.0  3.0  3.0  3.0  3.0  3.0  3.0  …  3.0  3.0  3.0  3.0  3.0  3.0  3.0\n",
       " 3.0  3.0  3.0  3.0  3.0  3.0  3.0  3.0     3.0  3.0  3.0  3.0  3.0  3.0  3.0\n",
       " 3.0  3.0  3.0  3.0  3.0  3.0  3.0  3.0     3.0  3.0  3.0  3.0  3.0  3.0  3.0\n",
       " ⋮                        ⋮              ⋱       ⋮                        ⋮\n",
       " 3.0  3.0  3.0  3.0  3.0  3.0  3.0  3.0     3.0  3.0  3.0  3.0  3.0  3.0  3.0\n",
       " 3.0  3.0  3.0  3.0  3.0  3.0  3.0  3.0     3.0  3.0  3.0  3.0  3.0  3.0  3.0\n",
       " 3.0  3.0  3.0  3.0  3.0  3.0  3.0  3.0  …  3.0  3.0  3.0  3.0  3.0  3.0  3.0\n",
       " 3.0  3.0  3.0  3.0  3.0  3.0  3.0  3.0     3.0  3.0  3.0  3.0  3.0  3.0  3.0\n",
       " 3.0  3.0  3.0  3.0  3.0  3.0  3.0  3.0     3.0  3.0  3.0  3.0  3.0  3.0  3.0\n",
       " 3.0  1.0  3.0  3.0  3.0  3.0  3.0  3.0     3.0  3.0  3.0  3.0  3.0  3.0  3.0\n",
       " 3.0  3.0  3.0  3.0  3.0  3.0  3.0  3.0     3.0  3.0  3.0  3.0  3.0  3.0  3.0\n",
       " 3.0  3.0  3.0  3.0  3.0  3.0  3.0  3.0  …  3.0  3.0  3.0  3.0  3.0  3.0  3.0\n",
       " 3.0  3.0  3.0  3.0  3.0  3.0  3.0  3.0     3.0  3.0  3.0  3.0  3.0  3.0  3.0\n",
       " 3.0  3.0  3.0  3.0  3.0  3.0  3.0  3.0     3.0  3.0  3.0  3.0  3.0  3.0  3.0\n",
       " 3.0  3.0  3.0  3.0  3.0  3.0  3.0  3.0     3.0  3.0  3.0  3.0  3.0  3.0  3.0\n",
       " 3.0  3.0  3.0  3.0  3.0  3.0  3.0  3.0     3.0  3.0  3.0  3.0  3.0  3.0  3.0\n",
       "\n",
       "[:, :, 4] =\n",
       " 9.0  3.0   7.0  4.0  12.0   5.0   3.0  …   7.0   6.0  7.0  3.0   5.0   8.0\n",
       " 5.0  3.0   1.0  7.0   5.0   4.0   5.0      2.0   8.0  5.0  5.0   3.0   9.0\n",
       " 3.0  6.0   3.0  6.0   6.0   4.0  10.0      8.0  11.0  8.0  5.0   3.0   9.0\n",
       " 6.0  5.0   6.0  2.0  11.0   8.0   9.0      7.0   7.0  9.0  3.0   8.0   5.0\n",
       " 6.0  6.0   3.0  8.0   3.0   3.0   7.0      1.0   6.0  3.0  3.0   5.0   5.0\n",
       " 6.0  2.0   2.0  9.0   3.0   8.0   1.0  …   4.0   7.0  4.0  5.0   6.0   5.0\n",
       " 5.0  1.0   4.0  6.0   3.0   7.0   7.0      3.0  11.0  5.0  5.0   5.0   7.0\n",
       " 4.0  5.0   8.0  3.0   9.0   6.0   7.0      6.0   1.0  5.0  3.0   6.0   6.0\n",
       " 6.0  2.0   5.0  3.0   5.0   7.0   6.0      5.0   7.0  5.0  6.0   9.0   7.0\n",
       " 6.0  6.0   7.0  3.0   6.0   3.0   4.0      5.0   4.0  8.0  9.0   7.0   9.0\n",
       " 6.0  8.0   7.0  7.0   8.0   5.0   7.0  …   4.0   7.0  8.0  2.0   6.0   7.0\n",
       " 7.0  5.0   5.0  4.0   5.0   5.0   5.0      2.0   2.0  7.0  6.0   5.0   3.0\n",
       " 3.0  3.0   3.0  7.0   5.0   7.0   2.0      3.0   7.0  6.0  7.0   7.0   4.0\n",
       " ⋮                           ⋮          ⋱   ⋮                           ⋮\n",
       " 6.0  6.0   5.0  4.0   6.0   4.0   5.0      6.0   5.0  9.0  9.0  10.0   7.0\n",
       " 6.0  2.0   4.0  4.0   1.0   5.0   2.0      8.0   7.0  7.0  5.0   2.0  10.0\n",
       " 9.0  6.0   4.0  6.0   3.0   4.0   6.0  …   3.0   9.0  4.0  8.0   7.0   5.0\n",
       " 6.0  7.0   2.0  5.0   5.0   8.0   6.0      6.0   5.0  1.0  5.0   8.0   9.0\n",
       " 5.0  6.0   4.0  7.0   5.0   9.0   6.0      8.0   7.0  5.0  6.0   6.0   1.0\n",
       " 3.0  1.0  11.0  1.0   5.0   7.0   7.0      2.0   8.0  3.0  4.0   4.0  10.0\n",
       " 5.0  6.0   6.0  1.0   7.0  10.0   4.0     12.0   6.0  6.0  4.0   5.0   1.0\n",
       " 6.0  5.0   8.0  9.0   9.0   2.0   5.0  …   6.0   7.0  1.0  5.0   4.0   7.0\n",
       " 8.0  5.0   7.0  3.0   8.0  10.0   3.0      6.0   3.0  3.0  4.0   7.0   5.0\n",
       " 8.0  4.0   5.0  4.0   3.0   6.0   5.0      9.0   7.0  9.0  7.0   6.0   6.0\n",
       " 1.0  4.0   2.0  8.0   6.0   5.0   3.0      5.0   5.0  6.0  4.0   7.0   6.0\n",
       " 5.0  5.0   6.0  3.0   5.0   5.0   5.0     10.0   7.0  4.0  3.0   7.0   5.0\n",
       "\n",
       "[:, :, 5] =\n",
       " 2.0  1.0  2.0  2.0  3.0  2.0  1.0  3.0  …  2.0  3.0  3.0  3.0  1.0  1.0  2.0\n",
       " 1.0  1.0  1.0  2.0  1.0  1.0  2.0  1.0     1.0  1.0  2.0  1.0  2.0  1.0  3.0\n",
       " 1.0  2.0  1.0  2.0  2.0  1.0  1.0  4.0     1.0  4.0  4.0  1.0  2.0  2.0  2.0\n",
       " 3.0  1.0  2.0  1.0  3.0  2.0  3.0  2.0     1.0  2.0  3.0  2.0  1.0  3.0  2.0\n",
       " 2.0  3.0  1.0  3.0  1.0  1.0  3.0  2.0     2.0  1.0  3.0  1.0  2.0  1.0  1.0\n",
       " 3.0  1.0  1.0  1.0  1.0  3.0  1.0  1.0  …  1.0  2.0  3.0  1.0  1.0  4.0  1.0\n",
       " 3.0  1.0  2.0  3.0  1.0  3.0  2.0  1.0     1.0  2.0  4.0  1.0  1.0  1.0  3.0\n",
       " 1.0  2.0  3.0  1.0  4.0  2.0  2.0  1.0     2.0  2.0  1.0  2.0  1.0  3.0  2.0\n",
       " 2.0  1.0  2.0  1.0  1.0  3.0  2.0  1.0     2.0  2.0  2.0  2.0  2.0  3.0  3.0\n",
       " 3.0  2.0  2.0  1.0  1.0  1.0  2.0  1.0     2.0  1.0  1.0  2.0  2.0  2.0  2.0\n",
       " 2.0  3.0  3.0  2.0  3.0  1.0  3.0  2.0  …  1.0  1.0  2.0  2.0  1.0  2.0  2.0\n",
       " 2.0  2.0  2.0  2.0  1.0  2.0  3.0  1.0     3.0  1.0  1.0  2.0  3.0  1.0  1.0\n",
       " 1.0  1.0  2.0  2.0  1.0  2.0  1.0  3.0     1.0  1.0  2.0  2.0  2.0  2.0  1.0\n",
       " ⋮                        ⋮              ⋱       ⋮                        ⋮\n",
       " 1.0  3.0  2.0  1.0  2.0  3.0  2.0  1.0     2.0  1.0  2.0  3.0  5.0  4.0  2.0\n",
       " 1.0  1.0  1.0  3.0  1.0  2.0  1.0  1.0     2.0  2.0  2.0  2.0  2.0  1.0  3.0\n",
       " 3.0  1.0  1.0  2.0  1.0  1.0  2.0  2.0  …  3.0  1.0  3.0  1.0  3.0  2.0  2.0\n",
       " 2.0  2.0  1.0  2.0  3.0  3.0  2.0  2.0     1.0  2.0  2.0  1.0  1.0  3.0  4.0\n",
       " 2.0  2.0  3.0  4.0  1.0  2.0  2.0  1.0     2.0  1.0  2.0  1.0  4.0  2.0  1.0\n",
       " 1.0  1.0  3.0  1.0  1.0  2.0  4.0  4.0     1.0  1.0  2.0  1.0  1.0  1.0  3.0\n",
       " 2.0  3.0  3.0  1.0  1.0  5.0  1.0  2.0     2.0  3.0  2.0  2.0  2.0  2.0  1.0\n",
       " 3.0  2.0  3.0  5.0  2.0  1.0  2.0  3.0  …  2.0  2.0  3.0  1.0  2.0  1.0  3.0\n",
       " 3.0  2.0  2.0  1.0  3.0  5.0  2.0  2.0     1.0  3.0  1.0  1.0  2.0  3.0  3.0\n",
       " 2.0  2.0  2.0  1.0  2.0  1.0  2.0  1.0     1.0  3.0  2.0  3.0  2.0  1.0  2.0\n",
       " 1.0  1.0  1.0  3.0  3.0  1.0  1.0  1.0     2.0  3.0  1.0  2.0  1.0  3.0  2.0\n",
       " 2.0  2.0  3.0  1.0  1.0  2.0  2.0  1.0     3.0  2.0  2.0  2.0  2.0  3.0  3.0\n",
       "\n",
       "[:, :, 6] =\n",
       " 0.2  0.2  0.2  0.2  0.2  0.2  0.2  …  0.26  0.26  0.26  0.26  0.26  0.26\n",
       " 0.2  0.2  0.2  0.2  0.2  0.2  0.2     0.26  0.26  0.26  0.26  0.26  0.26\n",
       " 0.2  0.2  0.2  0.2  0.2  0.2  0.2     0.26  0.26  0.26  0.26  0.26  0.26\n",
       " 0.2  0.2  0.2  0.2  0.2  0.2  0.2     0.26  0.26  0.26  0.26  0.26  0.26\n",
       " 0.2  0.2  0.2  0.2  0.2  0.2  0.2     0.26  0.26  0.26  0.26  0.26  0.26\n",
       " 0.2  0.2  0.2  0.2  0.2  0.2  0.2  …  0.26  0.26  0.26  0.26  0.26  0.26\n",
       " 0.2  0.2  0.2  0.2  0.2  0.2  0.2     0.26  0.26  0.26  0.26  0.26  0.26\n",
       " 0.2  0.2  0.2  0.2  0.2  0.2  0.2     0.26  0.26  0.26  0.26  0.26  0.26\n",
       " 0.2  0.2  0.2  0.2  0.2  0.2  0.2     0.26  0.26  0.26  0.26  0.26  0.26\n",
       " 0.2  0.2  0.2  0.2  0.2  0.2  0.2     0.26  0.26  0.26  0.26  0.26  0.26\n",
       " 0.2  0.2  0.2  0.2  0.2  0.2  0.2  …  0.26  0.26  0.26  0.26  0.26  0.26\n",
       " 0.2  0.2  0.2  0.2  0.2  0.2  0.2     0.26  0.26  0.26  0.26  0.26  0.26\n",
       " 0.2  0.2  0.2  0.2  0.2  0.2  0.2     0.26  0.26  0.26  0.26  0.26  0.26\n",
       " ⋮                        ⋮         ⋱  ⋮                             ⋮\n",
       " 0.2  0.2  0.2  0.2  0.2  0.2  0.2     0.26  0.26  0.26  0.26  0.26  0.26\n",
       " 0.2  0.2  0.2  0.2  0.2  0.2  0.2     0.26  0.26  0.26  0.26  0.26  0.26\n",
       " 0.2  0.2  0.2  0.2  0.2  0.2  0.2  …  0.26  0.26  0.26  0.26  0.26  0.26\n",
       " 0.2  0.2  0.2  0.2  0.2  0.2  0.2     0.26  0.26  0.26  0.26  0.26  0.26\n",
       " 0.2  0.2  0.2  0.2  0.2  0.2  0.2     0.26  0.26  0.26  0.26  0.26  0.26\n",
       " 0.2  0.2  0.2  0.2  0.2  0.2  0.2     0.26  0.26  0.26  0.26  0.26  0.26\n",
       " 0.2  0.2  0.2  0.2  0.2  0.2  0.2     0.26  0.26  0.26  0.26  0.26  0.26\n",
       " 0.2  0.2  0.2  0.2  0.2  0.2  0.2  …  0.26  0.26  0.26  0.26  0.26  0.26\n",
       " 0.2  0.2  0.2  0.2  0.2  0.2  0.2     0.26  0.26  0.26  0.26  0.26  0.26\n",
       " 0.2  0.2  0.2  0.2  0.2  0.2  0.2     0.26  0.26  0.26  0.26  0.26  0.26\n",
       " 0.2  0.2  0.2  0.2  0.2  0.2  0.2     0.26  0.26  0.26  0.26  0.26  0.26\n",
       " 0.2  0.2  0.2  0.2  0.2  0.2  0.2     0.26  0.26  0.26  0.26  0.26  0.26\n",
       "\n",
       "[:, :, 7] =\n",
       " 0.8  0.8  0.8  0.8  0.8  0.8  0.8  …  0.74  0.74  0.74  0.74  0.74  0.74\n",
       " 0.8  0.8  0.8  0.8  0.8  0.8  0.8     0.74  0.74  0.74  0.74  0.74  0.74\n",
       " 0.8  0.8  0.8  0.8  0.8  0.8  0.8     0.74  0.74  0.74  0.74  0.74  0.74\n",
       " 0.8  0.8  0.8  0.8  0.8  0.8  0.8     0.74  0.74  0.74  0.74  0.74  0.74\n",
       " 0.8  0.8  0.8  0.8  0.8  0.8  0.8     0.74  0.74  0.74  0.74  0.74  0.74\n",
       " 0.8  0.8  0.8  0.8  0.8  0.8  0.8  …  0.74  0.74  0.74  0.74  0.74  0.74\n",
       " 0.8  0.8  0.8  0.8  0.8  0.8  0.8     0.74  0.74  0.74  0.74  0.74  0.74\n",
       " 0.8  0.8  0.8  0.8  0.8  0.8  0.8     0.74  0.74  0.74  0.74  0.74  0.74\n",
       " 0.8  0.8  0.8  0.8  0.8  0.8  0.8     0.74  0.74  0.74  0.74  0.74  0.74\n",
       " 0.8  0.8  0.8  0.8  0.8  0.8  0.8     0.74  0.74  0.74  0.74  0.74  0.74\n",
       " 0.8  0.8  0.8  0.8  0.8  0.8  0.8  …  0.74  0.74  0.74  0.74  0.74  0.74\n",
       " 0.8  0.8  0.8  0.8  0.8  0.8  0.8     0.74  0.74  0.74  0.74  0.74  0.74\n",
       " 0.8  0.8  0.8  0.8  0.8  0.8  0.8     0.74  0.74  0.74  0.74  0.74  0.74\n",
       " ⋮                        ⋮         ⋱  ⋮                             ⋮\n",
       " 0.8  0.8  0.8  0.8  0.8  0.8  0.8     0.74  0.74  0.74  0.74  0.74  0.74\n",
       " 0.8  0.8  0.8  0.8  0.8  0.8  0.8     0.74  0.74  0.74  0.74  0.74  0.74\n",
       " 0.8  0.8  0.8  0.8  0.8  0.8  0.8  …  0.74  0.74  0.74  0.74  0.74  0.74\n",
       " 0.8  0.8  0.8  0.8  0.8  0.8  0.8     0.74  0.74  0.74  0.74  0.74  0.74\n",
       " 0.8  0.8  0.8  0.8  0.8  0.8  0.8     0.74  0.74  0.74  0.74  0.74  0.74\n",
       " 0.8  0.8  0.8  0.8  0.8  0.8  0.8     0.74  0.74  0.74  0.74  0.74  0.74\n",
       " 0.8  0.8  0.8  0.8  0.8  0.8  0.8     0.74  0.74  0.74  0.74  0.74  0.74\n",
       " 0.8  0.8  0.8  0.8  0.8  0.8  0.8  …  0.74  0.74  0.74  0.74  0.74  0.74\n",
       " 0.8  0.8  0.8  0.8  0.8  0.8  0.8     0.74  0.74  0.74  0.74  0.74  0.74\n",
       " 0.8  0.8  0.8  0.8  0.8  0.8  0.8     0.74  0.74  0.74  0.74  0.74  0.74\n",
       " 0.8  0.8  0.8  0.8  0.8  0.8  0.8     0.74  0.74  0.74  0.74  0.74  0.74\n",
       " 0.8  0.8  0.8  0.8  0.8  0.8  0.8     0.74  0.74  0.74  0.74  0.74  0.74"
      ]
     },
     "execution_count": 12,
     "metadata": {},
     "output_type": "execute_result"
    }
   ],
   "source": [
    "#unit testing\n",
    "S = 40\n",
    "N = 66\n",
    "\n",
    "using Random\n",
    "\n",
    "Random.seed!(2021)\n",
    "\n",
    "Results = loop_simulations(S, N, game_parameters, simulation_parameters, data1, data2, A1, A2, n1)"
   ]
  },
  {
   "cell_type": "code",
   "execution_count": 13,
   "metadata": {},
   "outputs": [
    {
     "data": {
      "text/plain": [
       "66-element Array{Float64,1}:\n",
       " 0.18591447807242947\n",
       " 0.42582271882785955\n",
       " 0.25904061254505645\n",
       " 0.36447515259998164\n",
       " 0.08535679059122529\n",
       " 0.3589817266262162\n",
       " 0.315829880547214\n",
       " 0.16019562130213358\n",
       " 0.0\n",
       " 0.3919326017843557\n",
       " 0.3754128975928116\n",
       " 0.24437757155722667\n",
       " 0.351317017995327\n",
       " ⋮\n",
       " 1.169297761892497\n",
       " 0.9537839382596064\n",
       " 0.6689337435141804\n",
       " 1.3859873220355474\n",
       " 0.573174548045682\n",
       " 0.9332856241487172\n",
       " 0.9771081127211716\n",
       " 1.0428046329567682\n",
       " 1.0369240019059425\n",
       " 1.329997941176463\n",
       " 1.1315486597507312\n",
       " 1.1225226611157655"
      ]
     },
     "execution_count": 13,
     "metadata": {},
     "output_type": "execute_result"
    }
   ],
   "source": [
    "Results[1,:, 2]"
   ]
  },
  {
   "cell_type": "code",
   "execution_count": 14,
   "metadata": {},
   "outputs": [
    {
     "data": {
      "text/plain": [
       "66-element Array{Float64,1}:\n",
       " 0.9215605817720391\n",
       " 0.9301442757103794\n",
       " 0.9232186300352332\n",
       " 0.922580188362539\n",
       " 0.9126222538122873\n",
       " 0.9298845816004259\n",
       " 0.7083579067326021\n",
       " 0.9400806553834166\n",
       " 0.0\n",
       " 0.9362461213927393\n",
       " 0.9216383763029434\n",
       " 0.9347035578458824\n",
       " 0.9398107111809169\n",
       " ⋮\n",
       " 0.7747876494628759\n",
       " 0.5858887953966382\n",
       " 0.6798627042895995\n",
       " 0.792385143394887\n",
       " 0.6502864751934709\n",
       " 0.7366702891367954\n",
       " 0.7460436824895706\n",
       " 0.752772823411299\n",
       " 0.7573035352708924\n",
       " 0.786283748686893\n",
       " 0.7668348205473435\n",
       " 0.7802026915085156"
      ]
     },
     "execution_count": 14,
     "metadata": {},
     "output_type": "execute_result"
    }
   ],
   "source": [
    "s=1\n",
    "\n",
    "\n",
    "x = Results[s,:, 2] ./ (Results[s, :, 1] .+ Results[s,:, 2])"
   ]
  },
  {
   "cell_type": "code",
   "execution_count": 15,
   "metadata": {},
   "outputs": [
    {
     "data": {
      "text/plain": [
       "Summary Stats:\n",
       "Length:         66\n",
       "Missing Count:  0\n",
       "Mean:           0.828880\n",
       "Minimum:        0.000000\n",
       "1st Quartile:   0.768823\n",
       "Median:         0.912904\n",
       "3rd Quartile:   0.927074\n",
       "Maximum:        0.943896\n"
      ]
     },
     "execution_count": 15,
     "metadata": {},
     "output_type": "execute_result"
    }
   ],
   "source": [
    "using StatsBase\n",
    "summarystats(x)"
   ]
  },
  {
   "cell_type": "code",
   "execution_count": 16,
   "metadata": {},
   "outputs": [
    {
     "data": {
      "text/plain": [
       "67:66"
      ]
     },
     "execution_count": 16,
     "metadata": {},
     "output_type": "execute_result"
    }
   ],
   "source": [
    "searchsorted(x, Inf)"
   ]
  },
  {
   "cell_type": "code",
   "execution_count": 17,
   "metadata": {},
   "outputs": [
    {
     "data": {
      "text/plain": [
       "(0.943895854986404, 19)"
      ]
     },
     "execution_count": 17,
     "metadata": {},
     "output_type": "execute_result"
    }
   ],
   "source": [
    "findmax(x)"
   ]
  },
  {
   "cell_type": "code",
   "execution_count": 18,
   "metadata": {},
   "outputs": [
    {
     "data": {
      "text/plain": [
       "0.933047907942667"
      ]
     },
     "execution_count": 18,
     "metadata": {},
     "output_type": "execute_result"
    }
   ],
   "source": [
    "x[26]"
   ]
  },
  {
   "cell_type": "code",
   "execution_count": 19,
   "metadata": {},
   "outputs": [
    {
     "data": {
      "text/plain": [
       "7-element Array{Float64,1}:\n",
       " 0.02160982891099419\n",
       " 0.3011557224998424\n",
       " 3.0\n",
       " 6.0\n",
       " 1.0\n",
       " 0.19999999999999996\n",
       " 0.8"
      ]
     },
     "execution_count": 19,
     "metadata": {},
     "output_type": "execute_result"
    }
   ],
   "source": [
    "Results[s, 26, :]"
   ]
  },
  {
   "cell_type": "code",
   "execution_count": 20,
   "metadata": {},
   "outputs": [
    {
     "data": {
      "text/plain": [
       "Float64[]"
      ]
     },
     "execution_count": 20,
     "metadata": {},
     "output_type": "execute_result"
    }
   ],
   "source": [
    "x[x .== Inf]"
   ]
  },
  {
   "cell_type": "code",
   "execution_count": 21,
   "metadata": {},
   "outputs": [
    {
     "data": {
      "text/plain": [
       "simulate_moments (generic function with 1 method)"
      ]
     },
     "execution_count": 21,
     "metadata": {},
     "output_type": "execute_result"
    }
   ],
   "source": [
    "function simulate_moments(S, N, game_parameters, simulation_parameters, data1, data2, A1, A2, n1)\n",
    "    \n",
    "    \n",
    "    Results = loop_simulations(S, N, game_parameters, simulation_parameters, data1, data2, A1, A2, n1)\n",
    "    \n",
    "    Moments = zeros(S, 8)\n",
    "    \n",
    "    μ = simulation_parameters[3]\n",
    "    for s in 1:S\n",
    "\n",
    "            DF = DataFrame()\n",
    "            DF.payoff_s = Results[s,:,1];\n",
    "            DF.payoff_j = Results[s,:,2];\n",
    "            DF.out = Results[s,:,3];\n",
    "            DF.t = Results[s,:,4];\n",
    "            DF.observed_proposals = Results[s,:,5];\n",
    "            DF.Ds = Results[s,:,6];\n",
    "            DF.Dj = Results[s,:,7];\n",
    "\n",
    "\n",
    "            DF.outcome = ifelse.(DF.out .==3.0, \"R\", \"L\");\n",
    "\n",
    "\n",
    "            #desfazendo o deslocamento no índice de t\n",
    "            DF.t = DF.t .- 1.0;\n",
    "\n",
    "            # DF.incourt = ifelse.(DF.t .> 0.0, \"incourt\", \"precourt\");\n",
    "\n",
    "            INCOURT = filter(DF -> DF.t .> 0.0, DF);\n",
    "            PRECOURT = filter(DF -> DF.t .<= 0.0, DF);\n",
    "\n",
    "            PRECOURT_REORG = filter(PRECOURT -> PRECOURT.outcome .== \"R\", PRECOURT)\n",
    "            INCOURT_REORG = filter(INCOURT -> INCOURT.outcome .== \"R\", INCOURT)\n",
    "\n",
    "            #cálculo dos momentos\n",
    "            #1. avg log number of months between observed proposals incourt\n",
    "\n",
    "            mm1 = INCOURT\n",
    "            mm1 = log.(mm1.t .* μ ./ mm1.observed_proposals)\n",
    "            mm1 = mean(mm1)\n",
    "\n",
    "            #2. fraction reorganized given that the case went into court\n",
    "\n",
    "            mm2 = size(INCOURT_REORG,1)/ size(INCOURT,1)\n",
    "\n",
    "            #3. ln duration of court cases in months\n",
    "\n",
    "            mm3 = INCOURT\n",
    "            mm3 = filter(mm3 -> mm3.t .> 0.0, mm3) #removendo os casos 0 para não poluir a média\n",
    "            mm3.t = mm3.t .* μ\n",
    "            mm3 = mean(log.(mm3.t)) #log here uses exp as base, so it's the same as ln\n",
    "\n",
    "            #4. fraction of cases incourt\n",
    "            mm4 = size(INCOURT,1) / size(DF, 1)\n",
    "\n",
    "            #5. avg recovery rate for senior given precourt REORGANIZATION\n",
    "\n",
    "            #aqui nós temos Ds, então é mais fácil. Preciso automatizar isso no código quando for tudo escalado\n",
    "\n",
    "            mm5 = PRECOURT_REORG\n",
    "            mm5.R_s = mm5.payoff_s ./ mm5.Ds\n",
    "            mm5 = mean(mm5.R_s)\n",
    "\n",
    "\n",
    "\n",
    "            #6. avg recovery rate for junior given precourt REORGANIZATION\n",
    "\n",
    "            #aqui nós temos Ds, então é mais fácil. Preciso automatizar isso no código quando for tudo escalado\n",
    "\n",
    "            mm6 = PRECOURT_REORG\n",
    "            mm6.R_j = mm6.payoff_j ./ mm6.Dj\n",
    "            mm6 = mean(mm6.R_j)\n",
    "\n",
    "\n",
    "            #7. junior avg fraction gain given incourt REORGANIZATION\n",
    "\n",
    "            mm7 = INCOURT_REORG\n",
    "            mm7 = mean(mm7.payoff_j ./ (mm7.payoff_j .+ mm7.payoff_s )) \n",
    "\n",
    "            #8. total recovery rate given incourt REORGANIZATION\n",
    "\n",
    "            mm8 = INCOURT_REORG\n",
    "            mm8 = mean( mm8.payoff_s .+ mm8.payoff_j)\n",
    "        \n",
    "        \n",
    "            Moments[s,:] .= [mm1, mm2, mm3, mm4, mm5, mm6, mm7, mm8]\n",
    "\n",
    "            \n",
    "            #if there are no INCOURT or no PRECOURT cases, it will return NaN\n",
    "            #thus, we replace it by zero\n",
    "            Moments[s,:] .= replace!(Moments[s,:], NaN=> zero(0.0))\n",
    "\n",
    "        end\n",
    "    return vec(mean(Moments, dims=1))\n",
    "end\n",
    "\n",
    "\n",
    "\n",
    "  "
   ]
  },
  {
   "cell_type": "code",
   "execution_count": 22,
   "metadata": {
    "scrolled": true
   },
   "outputs": [
    {
     "data": {
      "text/plain": [
       "8-element Array{Float64,1}:\n",
       " 3.428204126277358\n",
       " 1.0\n",
       " 3.9897290365164912\n",
       " 0.9525757575757576\n",
       " 1.0341446380059587\n",
       " 0.4164239806998118\n",
       " 0.861583659032241\n",
       " 0.6392394343424989"
      ]
     },
     "execution_count": 22,
     "metadata": {},
     "output_type": "execute_result"
    }
   ],
   "source": [
    "using Random\n",
    "\n",
    "Random.seed!(2021)\n",
    "\n",
    "#test\n",
    "S = 100\n",
    "N = 66\n",
    "\n",
    "simulated_moments = simulate_moments(S, N, game_parameters, simulation_parameters, data1, data2, A1, A2, n1)"
   ]
  },
  {
   "cell_type": "markdown",
   "metadata": {},
   "source": [
    "Calculando a matriz de pesos ótima com os resultados dessa estimação\n",
    "\n",
    "\n",
    "Two-step variance covariance estimator of W\n",
    "https://notes.quantecon.org/submission/5b3db2ceb9eab00015b89f93\n",
    "\n"
   ]
  },
  {
   "cell_type": "code",
   "execution_count": 23,
   "metadata": {},
   "outputs": [],
   "source": [
    "#data_moments\n",
    "data_moments = [2.11, 0.843, 2.76, 0.969, 0.6235, 0.5569, 0.773, 0.497];"
   ]
  },
  {
   "cell_type": "code",
   "execution_count": 25,
   "metadata": {},
   "outputs": [
    {
     "data": {
      "text/plain": [
       "omega (generic function with 1 method)"
      ]
     },
     "execution_count": 25,
     "metadata": {},
     "output_type": "execute_result"
    }
   ],
   "source": [
    "function omega(N, data_moments, simulated_moments)\n",
    "    \n",
    "    error = (simulated_moments .- data_moments) ./ data_moments\n",
    "    \n",
    "    omega = 1/N * error * transpose(error)\n",
    "    \n",
    "    return omega\n",
    "end"
   ]
  },
  {
   "cell_type": "code",
   "execution_count": 26,
   "metadata": {},
   "outputs": [
    {
     "data": {
      "text/plain": [
       "8×8 Array{Float64,2}:\n",
       "   9.0388     8.70989  -31.2876    3.70248  …  -6.94905  -54.6771    4.53942\n",
       "   8.70989    8.39296  -30.1491    3.56775     -6.69619  -52.6875    4.37424\n",
       " -31.2876   -30.1491   108.301   -12.8161      24.054    189.263   -15.7131\n",
       "   3.70248    3.56775  -12.8161    1.51661     -2.84648  -22.3969    1.85944\n",
       "  -5.0205    -4.83781   17.3783   -2.0565       3.85977   30.3698   -2.52137\n",
       "  -6.94905   -6.69619   24.054    -2.84648  …   5.34245   42.0359   -3.48992\n",
       " -54.6771   -52.6875   189.263   -22.3969      42.0359   330.75    -27.4596\n",
       "   4.53942    4.37424  -15.7131    1.85944     -3.48992  -27.4596    2.27976"
      ]
     },
     "execution_count": 26,
     "metadata": {},
     "output_type": "execute_result"
    }
   ],
   "source": [
    "W_2step = pinv(omega(N, data_moments, simulated_moments))"
   ]
  },
  {
   "cell_type": "code",
   "execution_count": 27,
   "metadata": {},
   "outputs": [
    {
     "data": {
      "text/plain": [
       "8-element Array{Float64,1}:\n",
       "   9.038796990009615\n",
       "   8.39295849540429\n",
       " 108.3013383421914\n",
       "   1.5166132469418885\n",
       "   2.7885804316048124\n",
       "   5.342451905470017\n",
       " 330.7497607555904\n",
       "   2.279764469905542"
      ]
     },
     "execution_count": 27,
     "metadata": {},
     "output_type": "execute_result"
    }
   ],
   "source": [
    "#pesos dados a cada um dos momentos\n",
    "diag(W_2step)"
   ]
  },
  {
   "cell_type": "markdown",
   "metadata": {},
   "source": [
    "Calculando a derivada dos momentos em relação aos parâmetros"
   ]
  },
  {
   "cell_type": "code",
   "execution_count": 16,
   "metadata": {},
   "outputs": [
    {
     "data": {
      "text/plain": [
       "simulate_new_moments (generic function with 1 method)"
      ]
     },
     "execution_count": 16,
     "metadata": {},
     "output_type": "execute_result"
    }
   ],
   "source": [
    "function simulate_new_moments(i, S, N, game_parameters, simulation_parameters, data1, data2, A1, A2, n1)\n",
    "    \n",
    "    \n",
    "    println(\"parameter \",i, game_parameters, simulation_parameters)\n",
    "        \n",
    "    θs0, θj0, μ = simulation_parameters;\n",
    "    θs0 = Int64(round(θs0, digits=0));\n",
    "    θj0 = Int64(round(θj0, digits=0));\n",
    "\n",
    "    λj = game_parameters[4];\n",
    "    new_simulated_moments = simulate_moments(S, N, game_parameters, simulation_parameters, data1, data2, A1, A2, n1) \n",
    "    \n",
    "    return new_simulated_moments\n",
    "end"
   ]
  },
  {
   "cell_type": "code",
   "execution_count": 22,
   "metadata": {},
   "outputs": [
    {
     "data": {
      "text/plain": [
       "derivative_moments (generic function with 1 method)"
      ]
     },
     "execution_count": 22,
     "metadata": {},
     "output_type": "execute_result"
    }
   ],
   "source": [
    " \n",
    "function derivative_moments(S, N, game_parameters, simulation_parameters, data1, data2, n1, aux)\n",
    "\n",
    "    \n",
    "    \n",
    "    \n",
    "    #https://en.wikibooks.org/wiki/Introduction_to_Numerical_Methods/Numerical_Differentiation\n",
    "    #backward divided difference method\n",
    "\n",
    "   \n",
    "\n",
    "\n",
    "    estimated_game_parameters = game_parameters\n",
    "    estimated_simulation_parameters = simulation_parameters\n",
    "\n",
    "\n",
    "\n",
    "    A2 = @spawnat aux solve_tree(data2, game_parameters)\n",
    "    A1 = solve_tree(data1, game_parameters)\n",
    "    A2 = fetch(A2)\n",
    "    \n",
    "    \n",
    "    \n",
    "    simulated_moments = simulate_moments(S, N, game_parameters, simulation_parameters, data1, data2, A1, A2, n1)\n",
    "\n",
    "    P = size(game_parameters,1)+size(simulation_parameters,1)\n",
    "    M = size(simulated_moments,1)\n",
    "    D = zeros(M, P)\n",
    "    \n",
    "    #porcentagem de variação no parâmetro\n",
    "    pct = 1/100\n",
    "    \n",
    "    for p in P:-1:1\n",
    "\n",
    "        if(p>size(game_parameters,1))\n",
    "\n",
    "            simulation_parameters = copy(estimated_simulation_parameters)\n",
    "            \n",
    "            delta = simulation_parameters[p-size(game_parameters,1)] * pct\n",
    "\n",
    "            simulation_parameters[p-size(game_parameters,1)] -= delta\n",
    "\n",
    "\n",
    "            if(p == 5 || p ==6) #para ajustar caso seja habilidade inicial de S ou de J\n",
    "                simulation_parameters[p-size(game_parameters,1)] = round(simulation_parameters[p-size(game_parameters,1)], digits=0)\n",
    "            end\n",
    "            \n",
    "            \n",
    "            #caso a variação percentual não seja suficiente para reduzir habilidades iniciais, delta será 1\n",
    "            if(simulation_parameters[p-size(game_parameters,1)] == estimated_simulation_parameters[p-size(game_parameters,1)])\n",
    "                delta = Int64(1)\n",
    "                \n",
    "                simulation_parameters[p-size(game_parameters,1)] -= delta\n",
    "            end\n",
    "\n",
    "            new_simulated_moments = simulate_new_moments(p, S, N, game_parameters, simulation_parameters, data1, data2, A1, A2, n1)\n",
    "\n",
    "            D[:, p] = (simulated_moments - new_simulated_moments) ./ delta\n",
    "            \n",
    "        else\n",
    "\n",
    "            #se for um parâmetro de jogo, precisa recalcular o jogo\n",
    "\n",
    "            game_parameters = copy(estimated_game_parameters)\n",
    "            \n",
    "            delta = game_parameters[p] * pct\n",
    "            game_parameters[p] -= delta\n",
    "\n",
    "            A2 = @spawnat aux solve_tree(data2, game_parameters)\n",
    "            A1 = solve_tree(data1, game_parameters)\n",
    "            A2 = fetch(A2)\n",
    "\n",
    "\n",
    "\n",
    "            new_simulated_moments = simulate_new_moments(p, S, N, game_parameters, simulation_parameters, data1, data2, A1, A2, n1)\n",
    "\n",
    "            D[:, p] = (simulated_moments - new_simulated_moments) ./ delta\n",
    "\n",
    "\n",
    "        end\n",
    "\n",
    "\n",
    "    end\n",
    "    \n",
    "    \n",
    "    \n",
    "    return D\n",
    "end\n",
    "    "
   ]
  },
  {
   "cell_type": "code",
   "execution_count": 23,
   "metadata": {},
   "outputs": [
    {
     "name": "stdout",
     "output_type": "stream",
     "text": [
      "227.226370 seconds (633.40 M allocations: 14.035 GiB      From worker 3:\t178.121535 seconds (575.54 M allocations: 12.754 GiB, 1.22% gc time)\n",
      ", 18.91% gc time)\n",
      "parameter 7[0.93, 9.48, 0.09, 0.96][49.0, 30.0, 3.1976999999999998]\n",
      "parameter 6[0.93, 9.48, 0.09, 0.96][49.0, 29.0, 3.23]\n",
      "parameter 5[0.93, 9.48, 0.09, 0.96][48.0, 30.0, 3.23]\n",
      "190.808640 seconds (633.40 M allocations: 14.035 GiB      From worker 3:\t179.294523 seconds (575.54 M allocations: 12.754 GiB, 1.49% gc time)\n",
      ", 1.19% gc time)\n",
      "parameter 4[0.93, 9.48, 0.09, 0.9503999999999999][48.0, 30.0, 3.23]\n",
      "212.133684 seconds (633.40 M allocations: 14.035 GiB      From worker 3:\t201.467756 seconds (575.54 M allocations: 12.754 GiB, 9.56% gc time)\n",
      ", 8.89% gc time)\n",
      "parameter 3[0.93, 9.48, 0.0891, 0.96][48.0, 30.0, 3.23]\n",
      "189.300016 seconds (633.40 M allocations: 14.035 GiB      From worker 3:\t177.332139 seconds (575.54 M allocations: 12.754 GiB, 1.12% gc time)\n",
      ", 1.24% gc time)\n",
      "parameter 2[0.93, 9.385200000000001, 0.09, 0.96][48.0, 30.0, 3.23]\n",
      "168.954576 seconds (575.54 M allocations: 12.754 GiB      From worker 3:\t155.634996 seconds (517.68 M allocations: 11.474 GiB, 1.22% gc time)\n",
      ", 1.26% gc time)\n",
      "parameter 1[0.9207000000000001, 9.48, 0.09, 0.96][48.0, 30.0, 3.23]\n"
     ]
    },
    {
     "data": {
      "text/plain": [
       "8×7 Array{Float64,2}:\n",
       "   3.70976  -0.644874   -21.6085     3.02036  …  -0.307611      0.0858687\n",
       "   0.0       0.0          0.0        0.0          0.0           0.0\n",
       "   4.99149  -0.216007   -23.7351    -1.67029     -0.0303217     0.308496\n",
       "  42.7175    1.14915      2.52525   -6.01326     -0.0689394    -0.178253\n",
       "  19.6266    1.50413    -33.759    -46.8697      -0.539904     -1.11351\n",
       "   6.56945   0.611586    63.1491     5.14358  …  -0.107467     -0.200658\n",
       "   4.8599    0.0120066    4.0913     1.5965      -0.000517378  -0.0786309\n",
       " -17.279    -0.341621     2.42621    1.47016      0.0218955    -0.0225637"
      ]
     },
     "execution_count": 23,
     "metadata": {},
     "output_type": "execute_result"
    }
   ],
   "source": [
    "Derivative = derivative_moments(S, N, game_parameters, simulation_parameters, data1, data2, n1, aux)"
   ]
  },
  {
   "cell_type": "code",
   "execution_count": 24,
   "metadata": {},
   "outputs": [
    {
     "data": {
      "text/plain": [
       "8-element Array{Float64,1}:\n",
       " -0.6448739051931223\n",
       "  0.0\n",
       " -0.2160071124595145\n",
       "  1.1491497250990939\n",
       "  1.5041330656219154\n",
       "  0.6115857257822519\n",
       "  0.01200656270729233\n",
       " -0.3416208581357861"
      ]
     },
     "execution_count": 24,
     "metadata": {},
     "output_type": "execute_result"
    }
   ],
   "source": [
    "Derivative[:,2]"
   ]
  },
  {
   "cell_type": "code",
   "execution_count": 25,
   "metadata": {},
   "outputs": [],
   "source": [
    "using DelimitedFiles\n",
    "\n",
    "writedlm( \"Derivative-nocd50_1pct.csv\",  Derivative, ',')"
   ]
  }
 ],
 "metadata": {
  "kernelspec": {
   "display_name": "Julia 1.5.3",
   "language": "julia",
   "name": "julia-1.5"
  },
  "language_info": {
   "file_extension": ".jl",
   "mimetype": "application/julia",
   "name": "julia",
   "version": "1.5.3"
  }
 },
 "nbformat": 4,
 "nbformat_minor": 4
}
