{
 "cells": [
  {
   "cell_type": "markdown",
   "metadata": {},
   "source": [
    "Dou et al. (2020) model\n",
    "\n",
    "Agora em Julia versão 1.5.3\n",
    "\n",
    "Obs: não consigo aumentar grid para 1000 porque não há memória o suficiente. Vamos uasr grid=100 mesmo"
   ]
  },
  {
   "cell_type": "code",
   "execution_count": 1,
   "metadata": {},
   "outputs": [],
   "source": [
    "using LinearAlgebra, Statistics\n",
    "\n",
    "# using Distributions, Expectations, NLsolve, Roots, Random, Plots, Parameters\n",
    "\n",
    "using DataFrames\n",
    "\n",
    "\n",
    "#packages to increase the speed of the code\n",
    "using BenchmarkTools\n",
    "using Profile # @profile command\n",
    "using ProfileView #profiling using graphs"
   ]
  },
  {
   "cell_type": "markdown",
   "metadata": {},
   "source": [
    "Game parameters"
   ]
  },
  {
   "cell_type": "code",
   "execution_count": 8,
   "metadata": {},
   "outputs": [
    {
     "data": {
      "text/plain": [
       "0.346"
      ]
     },
     "execution_count": 8,
     "metadata": {},
     "output_type": "execute_result"
    }
   ],
   "source": [
    "const μ = Float64(4.566) #number of months in each period\n",
    "const ρ = Float64(0.884) # (1 - ρ) is the firm's depreciation rate each period\n",
    "# const ρ = Float64(0.63) #testing new depreciation rate\n",
    "const β = Float64(9.84) #inverse of the speed of learning\n",
    "const c0 = Float64(0.044) #fixed cost of going to court\n",
    "const c1 = Float64(0.0015) #variable cost of going to court #funcionou com esse valor\n",
    "# const c1 = Float64(0.01)\n",
    "\n",
    "\n",
    "const hs0 = Float64(0.28) #senior's initial skill level\n",
    "const hj0 = Float64(0.36) #junior's initial skill level\n",
    "\n",
    "const λj = Float64(0.346)\n",
    "\n",
    "#const is to alert Julia that these global variables will not change, so she does not have to worry about then"
   ]
  },
  {
   "cell_type": "markdown",
   "metadata": {},
   "source": [
    "Extra game parameters"
   ]
  },
  {
   "cell_type": "code",
   "execution_count": 3,
   "metadata": {},
   "outputs": [
    {
     "data": {
      "text/plain": [
       "0.0"
      ]
     },
     "execution_count": 3,
     "metadata": {},
     "output_type": "execute_result"
    }
   ],
   "source": [
    "const λd = Float64(0.5) #chance de D ser chamado a propor ao invés de J ou S\n",
    "\n",
    "const γ = Float64(0.0) #chance de cram down, sujeito à fatia da torta. Prob(cd) = γ * share"
   ]
  },
  {
   "cell_type": "markdown",
   "metadata": {},
   "source": [
    "Counterfactual parameters"
   ]
  },
  {
   "cell_type": "code",
   "execution_count": 13,
   "metadata": {},
   "outputs": [
    {
     "data": {
      "text/plain": [
       "0.0"
      ]
     },
     "execution_count": 13,
     "metadata": {},
     "output_type": "execute_result"
    }
   ],
   "source": [
    "const tsym = one(1)\n",
    "const ac = zero(0.0)\n",
    "const acs = ac\n",
    "const acj = ac"
   ]
  },
  {
   "cell_type": "markdown",
   "metadata": {},
   "source": [
    "Data"
   ]
  },
  {
   "cell_type": "code",
   "execution_count": 6,
   "metadata": {},
   "outputs": [
    {
     "data": {
      "text/plain": [
       "1.0"
      ]
     },
     "execution_count": 6,
     "metadata": {},
     "output_type": "execute_result"
    }
   ],
   "source": [
    "const Vmax = Float64(1.0) #firm's maximum reorganization value\n",
    "const L = Float64(0.25) #firm's maximum liquidation value\n",
    "const Ds = Float64(0.32) #senior's debt face value\n",
    "const Dj = Float64(0.68) #junior's debt face value\n",
    "\n",
    "const D = Ds + Dj #total debt, used to scale costs"
   ]
  },
  {
   "cell_type": "markdown",
   "metadata": {},
   "source": [
    "Initial definitions: costs, maximum value of the firm, maximum number of periods\n",
    "\n"
   ]
  },
  {
   "cell_type": "code",
   "execution_count": 14,
   "metadata": {},
   "outputs": [
    {
     "data": {
      "text/plain": [
       "13"
      ]
     },
     "execution_count": 14,
     "metadata": {},
     "output_type": "execute_result"
    }
   ],
   "source": [
    "    #number of periods\n",
    "    function max_turns(Vmax, L, ρ, c0, c1, ac)\n",
    "        t = 0\n",
    "\n",
    "        #using the specification of the theoretical model\n",
    "        #we are not considering the change in indexation from t to t+1 yet\n",
    "\n",
    "        #the condition L - c0 - c1*t >= 0 assures that the liquidation payoffs won't be negative\n",
    "\n",
    "        while( (ρ^(t-1) * Vmax > L) && (L - c0 - c1*t - ac >= 0) )\n",
    "            t = t+1\n",
    "        end\n",
    "        return t\n",
    "\n",
    "    end\n",
    "\n",
    "\n",
    "    T = max_turns(Vmax, L, ρ, c0, c1, ac)"
   ]
  },
  {
   "cell_type": "code",
   "execution_count": 15,
   "metadata": {},
   "outputs": [
    {
     "name": "stdout",
     "output_type": "stream",
     "text": [
      "t = T = 13\n",
      "ρ ^ (t - 1) * Vmax = 0.2277336360006909\n",
      "L = 0.25\n",
      "ρ ^ (t - 1) * Vmax > L = false\n",
      "t = T - 1 = 12\n",
      "ρ ^ (t - 1) * Vmax = 0.2576172352948992\n",
      "L = 0.25\n",
      "ρ ^ (t - 1) * Vmax > L = true\n"
     ]
    },
    {
     "data": {
      "text/plain": [
       "true"
      ]
     },
     "execution_count": 15,
     "metadata": {},
     "output_type": "execute_result"
    }
   ],
   "source": [
    "#checking if T is indeed the final period\n",
    "@show t = T\n",
    "@show ρ^(t-1) * Vmax\n",
    "@show L\n",
    "@show ρ^(t-1) * Vmax > L \n",
    "\n",
    "\n",
    "@show t = T-1\n",
    "@show ρ^(t-1) * Vmax\n",
    "@show L\n",
    "@show ρ^(t-1) * Vmax > L\n",
    "\n",
    "\n"
   ]
  },
  {
   "cell_type": "markdown",
   "metadata": {},
   "source": [
    "### Important: we will create a game with T+1 periods\n",
    "\n",
    "So we'll be able to include period t==0 in the arrays as index 1\n",
    "\n",
    "So the notation is: period t is represented by the index t-1\n"
   ]
  },
  {
   "cell_type": "code",
   "execution_count": 16,
   "metadata": {},
   "outputs": [
    {
     "name": "stdout",
     "output_type": "stream",
     "text": [
      "Ct(0) = 0\n",
      "Ct(1) = 0\n",
      "Ct(2) = 0.0455\n",
      "Ct(2) == c0 * D + c1 * 1 * D = true\n"
     ]
    },
    {
     "data": {
      "text/plain": [
       "true"
      ]
     },
     "execution_count": 16,
     "metadata": {},
     "output_type": "execute_result"
    }
   ],
   "source": [
    "#cost function\n",
    "    #cost function\n",
    "    function Ct(t, c0=c0, c1=c1)\n",
    "        #cost at period t=0(index1) is 0\n",
    "        if(t <= 1)\n",
    "            return 0\n",
    "        else\n",
    "            return c0 * D + c1 * (t-1) * D #test to make index==1 be t==0\n",
    "        end\n",
    "    end\n",
    "#precisa de um 'end' para o if e um 'end' para a função\n",
    "    \n",
    "#test\n",
    "@show Ct(0)    \n",
    "@show Ct(1)\n",
    "@show Ct(2)\n",
    "@show Ct(2) == c0 * D + c1 * (1) * D\n"
   ]
  },
  {
   "cell_type": "code",
   "execution_count": 17,
   "metadata": {},
   "outputs": [
    {
     "name": "stdout",
     "output_type": "stream",
     "text": [
      "Vt(Vmax, ρ, 1, ac) = 1.0\n",
      "Vt(Vmax, ρ, 2, ac) = 1.0\n",
      "Vt(Vmax, ρ, 3, ac) = 0.884\n",
      "Vt(Vmax, ρ, T, ac) = 0.2576172352948992\n",
      "Vt(Vmax, ρ, T + 1, ac) = 0.2277336360006909\n"
     ]
    },
    {
     "data": {
      "text/plain": [
       "0.2277336360006909"
      ]
     },
     "execution_count": 17,
     "metadata": {},
     "output_type": "execute_result"
    }
   ],
   "source": [
    "#maximum value of reorganization each period\n",
    "#maximum value of reorganization each period\n",
    "    function Vt(Vmax, ρ, t, ac)\n",
    "\n",
    "        if(t <=1)\n",
    "            return Vmax\n",
    "        else\n",
    "            #(t-2) instead of (t-1) because we shifted the indexes in the game so as to include t==0 at index==1\n",
    "            return ρ^(t-2) * Vmax - ac\n",
    "        end\n",
    "\n",
    "\n",
    "    end\n",
    "\n",
    "@show Vt(Vmax, ρ, 1, ac)\n",
    "@show Vt(Vmax, ρ, 2, ac)\n",
    "@show Vt(Vmax, ρ, 3, ac)\n",
    "@show Vt(Vmax, ρ, T, ac)\n",
    "@show Vt(Vmax, ρ, T+1, ac)\n",
    "#index 1 corresponds to t=0 and 2 to t=1..."
   ]
  },
  {
   "cell_type": "code",
   "execution_count": 18,
   "metadata": {},
   "outputs": [
    {
     "name": "stdout",
     "output_type": "stream",
     "text": [
      "s_L(0, acs, acj) = 0.25\n",
      "s_L(1, acs, acj) = 0.25\n",
      "s_L(2, acs, acj) = 0.20450000000000002\n",
      "j_L(1, acs, acj) = 0.0\n"
     ]
    },
    {
     "data": {
      "text/plain": [
       "0.0"
      ]
     },
     "execution_count": 18,
     "metadata": {},
     "output_type": "execute_result"
    }
   ],
   "source": [
    "#liquidation payoffs\n",
    "\n",
    "    function s_L(t, acs, acj)\n",
    "        return min(L - Ct(t) - acs, Ds)\n",
    "    end\n",
    "\n",
    "@show s_L(0, acs, acj)\n",
    "@show s_L(1, acs, acj)\n",
    "@show s_L(2, acs, acj)\n",
    "\n",
    "\n",
    "    function j_L(t, acs, acj)\n",
    "        return min(L - Ct(t) - s_L(t, acs, acj)- acj, Dj)\n",
    "    end\n",
    "    \n",
    "@show j_L(1, acs, acj)"
   ]
  },
  {
   "cell_type": "markdown",
   "metadata": {},
   "source": [
    "Skill levels' grid and Probability Mass Function(PMF)\n",
    "\n",
    "Important: we won't use the skill levels directly in the functions, we will use their indexes. For example, index = 40 corresponds to $\\theta_{K,t} = 0.4$."
   ]
  },
  {
   "cell_type": "code",
   "execution_count": 19,
   "metadata": {},
   "outputs": [
    {
     "data": {
      "text/plain": [
       "0.06"
      ]
     },
     "execution_count": 19,
     "metadata": {},
     "output_type": "execute_result"
    }
   ],
   "source": [
    "#grid size\n",
    "const grid = 100\n",
    "\n",
    "hlow = 0.01\n",
    "hhigh = 1.0\n",
    "\n",
    "\n",
    "hvals = LinRange(hlow, hhigh, grid)\n",
    "\n",
    "hvals\n",
    "hvals[6]"
   ]
  },
  {
   "cell_type": "code",
   "execution_count": 20,
   "metadata": {},
   "outputs": [],
   "source": [
    "#array to tell the size of the pie at period t, according to reorganization skill levels\n",
    "#arguments: (period, θkt)\n",
    "U = zeros(T+1, grid)\n",
    "\n",
    "\n",
    "for t in 1:T+1\n",
    "    for h in 1:grid\n",
    "        U[t,h] = hvals[h] * Vt(Vmax, ρ, t, ac) - Ct(t)\n",
    "    end\n",
    "end"
   ]
  },
  {
   "cell_type": "code",
   "execution_count": 25,
   "metadata": {},
   "outputs": [
    {
     "name": "stdout",
     "output_type": "stream",
     "text": [
      "cdf(0.5, 1, β) = 0.0\n",
      "cdf(0.5, 0.4, β) = 0.8337136736331454\n",
      "cdf(0.99, 0.01, β) = 1.0\n",
      "cdf(1, 0.01, β) = 1.0\n",
      "cdf(1, 0.9, β) = 1.0\n",
      "  1.399 ns (0 allocations: 0 bytes)\n"
     ]
    },
    {
     "data": {
      "text/plain": [
       "1.0"
      ]
     },
     "execution_count": 25,
     "metadata": {},
     "output_type": "execute_result"
    }
   ],
   "source": [
    "#cumulative distribution function\n",
    "function cdf(x, lt, β=β)\n",
    "    \n",
    "    #return the cdf of x given the lower bound lt\n",
    "    #geq than 1 because of our discretization method \n",
    "    if(x > 1.0)\n",
    "        \n",
    "        return 1.0\n",
    "    \n",
    "    else\n",
    "        \n",
    "        if(x >= lt)\n",
    "            return 1.0 - ((1.0-x)^β)/((1-lt)^β)\n",
    "        else\n",
    "            return 0.0\n",
    "        end\n",
    "    end\n",
    "end\n",
    "\n",
    "#test      \n",
    "@show cdf(0.5, 1, β)\n",
    "\n",
    "@show cdf(0.5, 0.4, β)\n",
    "\n",
    "@show cdf(0.99, 0.01, β)\n",
    "\n",
    "@show cdf(1, 0.01, β)\n",
    "\n",
    "@show cdf(1, 0.9, β)\n",
    "@btime cdf(1, 0.9, β)"
   ]
  },
  {
   "cell_type": "code",
   "execution_count": 26,
   "metadata": {},
   "outputs": [
    {
     "data": {
      "text/plain": [
       "100-element Array{Float64,1}:\n",
       " 0.048602089527521986\n",
       " 0.09088953125821697\n",
       " 0.08301186884522238\n",
       " 0.07574579901540057\n",
       " 0.06904947823155516\n",
       " 0.06288353216214904\n",
       " 0.05721093367839869\n",
       " 0.05199688568380789\n",
       " 0.04720870863310611\n",
       " 0.04281573260029048\n",
       " 0.038789193758253626\n",
       " 0.03510213513518168\n",
       " 0.03172931151561542\n",
       " ⋮\n",
       " 3.7337122282821156e-10\n",
       " 1.615731992643532e-10\n",
       " 6.408462649432067e-11\n",
       " 2.2833512858255745e-11\n",
       " 7.107758825952715e-12\n",
       " 1.856736986383112e-12\n",
       " 3.83026943495679e-13\n",
       " 5.651035195342047e-14\n",
       " 4.9960036108132044e-15\n",
       " 2.220446049250313e-16\n",
       " 0.0\n",
       " 0.0"
      ]
     },
     "execution_count": 26,
     "metadata": {},
     "output_type": "execute_result"
    }
   ],
   "source": [
    "#pmf: each point of the grid is at the center of the cdf\n",
    "function pmf_cdf(lt, δ = hlow/2, β = β)\n",
    "    pmf = zeros(grid)\n",
    "    \n",
    "    for (i, h) in enumerate(hvals)\n",
    "        pmf[i] = cdf(h+δ, lt) - cdf(h-δ, lt)\n",
    "    end\n",
    "    \n",
    "    return pmf\n",
    "end\n",
    "\n",
    "\n",
    "lt = 0.01\n",
    "pmf_cdf(lt)"
   ]
  },
  {
   "cell_type": "code",
   "execution_count": 27,
   "metadata": {},
   "outputs": [
    {
     "data": {
      "text/plain": [
       "100-element Array{Float64,1}:\n",
       " -0.046239926421080726\n",
       " -0.08201062544335427\n",
       " -0.06652389304197329\n",
       " -0.05297653770265348\n",
       " -0.04117778693388258\n",
       " -0.03095216055945394\n",
       " -0.022138473358402036\n",
       " -0.014588889342129194\n",
       " -0.008168025651978328\n",
       " -0.0027521041142639507\n",
       "  0.0017718514572064026\n",
       "  0.0055067740688657385\n",
       "  0.008546270271650315\n",
       "  ⋮\n",
       "  7.710965259700306e-9\n",
       "  3.4895426000488317e-9\n",
       "  1.4511143376026725e-9\n",
       "  5.43807346649936e-10\n",
       "  1.7875565752175066e-10\n",
       "  4.95698020399729e-11\n",
       "  1.093125330283789e-11\n",
       "  1.7426855209729608e-12\n",
       "  1.6978822815991093e-13\n",
       "  7.239768851825965e-15\n",
       "  5.665150746454088e-17\n",
       "  8.758153619997799e-22"
      ]
     },
     "execution_count": 27,
     "metadata": {},
     "output_type": "execute_result"
    }
   ],
   "source": [
    "#generating the pmfs\n",
    "\n",
    "#probability mass function\n",
    "pmf = zeros(grid,grid)\n",
    "\n",
    "\n",
    "for (t, θt) in enumerate(hvals)\n",
    "    pmf[t,:] = pmf_cdf(θt)\n",
    "end\n",
    "\n",
    "\n",
    "#we need a pmf for when we have lkt and want to know θk,t+1\n",
    "#we will call it 'pmf2'\n",
    "pmf2 = zeros(grid,grid)\n",
    "\n",
    "for i in eachindex(hvals)\n",
    "    for j in eachindex(hvals)\n",
    "        pmf2[i, j] = sum(pmf[i, :] .* pmf[:, j])\n",
    "    end\n",
    "end\n",
    "\n",
    "#rows are the skill levels today, columns are the skill levels tomorrow\n",
    "pmf2[1,:] - pmf[1,:]\n",
    "\n",
    "#should be nice to plot the two pmfs, so we will get the intuition easily"
   ]
  },
  {
   "cell_type": "markdown",
   "metadata": {},
   "source": [
    "Arrays with the continuation values"
   ]
  },
  {
   "cell_type": "code",
   "execution_count": 29,
   "metadata": {},
   "outputs": [],
   "source": [
    "#continuation values\n",
    "#period t (not t+1), θkt, ℓkt, ℓmt\n",
    "s_W = zeros(T+1, grid, grid, grid);\n",
    "j_W = zeros(T+1, grid, grid, grid);\n",
    "\n",
    "#debtor only needs two slots for the skills\n",
    "d_W = zeros(T+1, grid, grid);\n",
    "\n",
    "#optimal payments\n",
    "#period, θkt, ℓmt, outputs\n",
    "Pst_array = zeros(T, grid, grid, 6); #we won't need payment proposal for period T, a.k.a. \"T+1\"\n",
    "Pjt_array = zeros(T, grid, grid, 6);\n",
    "\n",
    "\n",
    "#D needs two payment arrays because he will make one offer to each creditor\n",
    "Pdts = zeros(T, grid, grid, 6);\n",
    "Pdtj = zeros(T, grid, grid, 6);"
   ]
  },
  {
   "cell_type": "code",
   "execution_count": 32,
   "metadata": {},
   "outputs": [],
   "source": [
    "#populating the last period with the liquidation values\n",
    "s_W[T+1, :, :, :] .= s_L(T+1, acs, acj); #we need to use .= because it is a broadcast\n",
    "j_W[T+1, :, :, :] .= j_L(T+1, acs, acj);\n",
    "\n",
    "#D has a negative liquidation value to force him never to propose liquidation\n",
    "d_W[T+1, :,:] .= -one(1.0);"
   ]
  },
  {
   "cell_type": "markdown",
   "metadata": {},
   "source": [
    "Pkt"
   ]
  },
  {
   "cell_type": "code",
   "execution_count": 33,
   "metadata": {
    "scrolled": true
   },
   "outputs": [
    {
     "name": "stdout",
     "output_type": "stream",
     "text": [
      "  86.384 ns (0 allocations: 0 bytes)\n"
     ]
    }
   ],
   "source": [
    "#function to select the pmf function as it is writen in the paper\n",
    "\n",
    "function populate_probm!(t, lmt, probm, pmf, pmf2, grid, tsym)\n",
    "    #takes the indexes of cutoff and lmt\n",
    "\n",
    "    #at t=0(index 1), all information is symmetric, so we use pmf instead of pmf2\n",
    "    if(t <= tsym)\n",
    "\n",
    "        for i in 1:grid\n",
    "            probm[i] = pmf[lmt, i]\n",
    "        end\n",
    "\n",
    "    else\n",
    "\n",
    "        for i in 1:grid\n",
    "            probm[i] = pmf2[lmt, i]\n",
    "        end\n",
    "\n",
    "    end\n",
    "end\n",
    "\n",
    "    \n",
    "#test\n",
    "probm = zeros(grid)\n",
    "@btime populate_probm!(2,50, probm, pmf, pmf2, grid, tsym)"
   ]
  },
  {
   "cell_type": "code",
   "execution_count": 34,
   "metadata": {},
   "outputs": [
    {
     "name": "stdout",
     "output_type": "stream",
     "text": [
      "  183.876 ns (0 allocations: 0 bytes)\n"
     ]
    },
    {
     "data": {
      "text/plain": [
       "101"
      ]
     },
     "execution_count": 34,
     "metadata": {},
     "output_type": "execute_result"
    }
   ],
   "source": [
    "#cutoff function: upgrade\n",
    "\n",
    "function getcutoff_manual(t, pkt, hkt, m_W, grid)\n",
    "    \n",
    "    \n",
    "    cmt=Int64(1)\n",
    "    \n",
    "    while(m_W[t+1, cmt, cmt, hkt] < pkt)\n",
    "        cmt+=1\n",
    "        \n",
    "        #break if cmt==grid+1\n",
    "        if(cmt==grid+1)\n",
    "            return cmt\n",
    "        end\n",
    "            \n",
    "    end\n",
    "\n",
    "    return cmt\n",
    "end\n",
    "\n",
    "#should return 100 because J's continuation value at T is zero\n",
    "@btime getcutoff_manual(T, 0.01, 50, j_W, grid)\n"
   ]
  },
  {
   "cell_type": "code",
   "execution_count": 35,
   "metadata": {},
   "outputs": [
    {
     "name": "stdout",
     "output_type": "stream",
     "text": [
      "cutoff_manual(T, -0.01, 50, 40, j_W, grid) = 102\n",
      "cutoff_manual(T, 0.01, 50, 40, j_W, grid) = 101\n",
      "  186.391 ns (0 allocations: 0 bytes)\n"
     ]
    },
    {
     "data": {
      "text/plain": [
       "101"
      ]
     },
     "execution_count": 35,
     "metadata": {},
     "output_type": "execute_result"
    }
   ],
   "source": [
    "#function to \"filter\" the cutoff\n",
    "\n",
    "function cutoff_manual(t, pkt, hkt, lmt, m_W, grid)\n",
    "    #for now, it will just tell us if the payment offer is negative\n",
    "    \n",
    "    #if payment is negative (waiting offer), the cutoff will be 102 (grid+2), a code for the adversary to always reject it\n",
    "    if(pkt<0)\n",
    "         return grid+2\n",
    "    end\n",
    "    \n",
    "    cmt = getcutoff_manual(t, pkt, hkt, m_W, grid)\n",
    "    \n",
    "    return cmt\n",
    "\n",
    "    \n",
    "#     #if there is no cutoff (cutoff==101), then cutoff_m will return 101\n",
    "#     if(cmt==101)\n",
    "#         return cmt\n",
    "#     else\n",
    "#         return max(cmt, lmt)\n",
    "#     end\n",
    "end\n",
    "\n",
    "@show cutoff_manual(T, -0.01, 50, 40, j_W, grid)\n",
    "@show cutoff_manual(T, 0.01, 50, 40, j_W, grid)\n",
    "@btime cutoff_manual(T, 0.01, 50, 40, j_W, grid)"
   ]
  },
  {
   "cell_type": "code",
   "execution_count": 36,
   "metadata": {},
   "outputs": [
    {
     "data": {
      "text/plain": [
       "dot_W (generic function with 1 method)"
      ]
     },
     "execution_count": 36,
     "metadata": {},
     "output_type": "execute_result"
    }
   ],
   "source": [
    "function dot_W(t, hkt, lkt, lmt, grid, k_W, pmf)\n",
    "    \n",
    "    #calculates the dot product between k_W and pmf\n",
    "    \n",
    "    payoff=0.0\n",
    "    @inbounds for i in hkt:grid\n",
    "        payoff+= k_W[t+1, i, lkt, lmt] * pmf[hkt, i]\n",
    "    end\n",
    "    return payoff\n",
    "end\n",
    "\n",
    "#lkt+1 = hkt, so we input it here"
   ]
  },
  {
   "cell_type": "code",
   "execution_count": 37,
   "metadata": {},
   "outputs": [
    {
     "data": {
      "text/plain": [
       "dot_U (generic function with 1 method)"
      ]
     },
     "execution_count": 37,
     "metadata": {},
     "output_type": "execute_result"
    }
   ],
   "source": [
    "function dot_U(t, hkt, grid, U, pkt, pmf)\n",
    "    \n",
    "    #calculates the dot product between U and pmf\n",
    "    payoff=0.0\n",
    "    @inbounds for i in hkt:grid\n",
    "        payoff+= (U[t, i] - pkt) * pmf[hkt, i]\n",
    "    end\n",
    "    return payoff\n",
    "end"
   ]
  },
  {
   "cell_type": "code",
   "execution_count": 38,
   "metadata": {},
   "outputs": [
    {
     "data": {
      "text/plain": [
       "lastindmax (generic function with 1 method)"
      ]
     },
     "execution_count": 38,
     "metadata": {},
     "output_type": "execute_result"
    }
   ],
   "source": [
    "function lastindmax(x)\n",
    "    #findmax, but returns higher index when two elements are equal\n",
    "   k = 1\n",
    "   m = x[1]\n",
    "   @inbounds for i in eachindex(x)\n",
    "       if x[i]>=m\n",
    "           k = i\n",
    "           m = x[i]\n",
    "       end\n",
    "   end\n",
    "   return k\n",
    "end"
   ]
  },
  {
   "cell_type": "code",
   "execution_count": 40,
   "metadata": {},
   "outputs": [
    {
     "data": {
      "text/plain": [
       "compute_payoff_pkt2! (generic function with 1 method)"
      ]
     },
     "execution_count": 40,
     "metadata": {},
     "output_type": "execute_result"
    }
   ],
   "source": [
    "function compute_payoff_pkt2!(t, payoff, pmf, probm, k_W, m_W, U, pkt_grid, hkt, lmt, Vmax, grid)\n",
    "    \n",
    "    @inbounds for i in 1:(length(pkt_grid))\n",
    "        \n",
    "        pkt = pkt_grid[i]\n",
    "        cmt = lmt + (i)\n",
    "        \n",
    "        \n",
    "        \n",
    "        if(pkt<0)\n",
    "            cmt = grid+2\n",
    "        end\n",
    "\n",
    "        if(cmt==grid+2) \n",
    "            #means that pkt<0, so it will be always rejected\n",
    "            #lmt+1 == lmt\n",
    "            payoff[i] += dot_W(t, hkt, hkt, lmt, grid, k_W, pmf) * sum((probm))\n",
    "#             function dot_W(t, hkt, lkt, lmt, grid, k_W, pmf)\n",
    "    \n",
    "#                 #calculates the dot product between k_W and pmf\n",
    "\n",
    "#                 payoff=0.0\n",
    "#                 @inbounds for i in hkt:grid\n",
    "#                     payoff+= k_W[t+1, i, lkt, lmt] * pmf[hkt, i]\n",
    "#                 end\n",
    "#                 return payoff\n",
    "#             end\n",
    "\n",
    "\n",
    "\n",
    "        elseif(cmt == grid+1) \n",
    "            #means that cutoff doesn't exist, so the payment offer will be accepted by all θmt+1\n",
    "\n",
    "            #since sum(probm[lmt:grid])==1, we didn't include it here\n",
    "            payoff[i] += dot_U(t, hkt, grid, U, pkt, pmf) * sum((probm))\n",
    "#             function dot_U(t, hkt, grid, U, pkt, pmf)\n",
    "\n",
    "#                 #calculates the dot product between U and pmf\n",
    "#                 payoff=0.0\n",
    "#                 @inbounds for i in hkt:grid\n",
    "#                     payoff+= (U[t, i] - pkt) * pmf[hkt, i]\n",
    "#                 end\n",
    "#                 return payoff\n",
    "#             end\n",
    "\n",
    "        else\n",
    "            \n",
    "            #cmt > lmt\n",
    "                #accepted if hmt+1 <=cmt\n",
    "            #se a habilidade é igual ao cutoff então o adversário rejeita\n",
    "                payoff[i] += dot_U(t, hkt, grid, U, pkt, pmf) * sum(@view(probm[lmt:(cmt)]))\n",
    "\n",
    "\n",
    "                #rejected otherwise\n",
    "                #lmt+1 = cmt\n",
    "                payoff[i] += dot_W(t, hkt, hkt, cmt, grid, k_W, pmf) * sum(@view(probm[(cmt+1):grid]))\n",
    "            \n",
    "        end\n",
    "    end\n",
    "end"
   ]
  },
  {
   "cell_type": "code",
   "execution_count": 42,
   "metadata": {},
   "outputs": [
    {
     "name": "stdout",
     "output_type": "stream",
     "text": [
      "Pkt!(t, hkt, lmt, k_W, m_W, k_L, Pkt_array, pmf, pmf2, share, U, Vmax) = [1.9561723529489923e-5, 101.0, 0.19559767357136998, 0.18650000000000025, 0.19559767357136998, 3.0]\n",
      "  2.122 μs (18 allocations: 2.34 KiB)\n",
      "Pkt!(t, hkt, lmt, k_W, m_W, k_L, Pkt_array, pmf, pmf2, share, U, Vmax, grid) = [1.8788871823605225e-5, 101.0, 0.1883011225211499, 0.18650000000000025, 0.1883011225211499, 3.0]\n",
      "Pkt!(t, hkt, lmt, k_W, m_W, k_L, Pkt_array, pmf, pmf2, share, U) = [6.680861764744961e-6, 61.0, 0.18003097459183068, 0.18650000000000044, 0.188, 1.0]\n",
      "  6.560 μs (18 allocations: 2.34 KiB)\n"
     ]
    },
    {
     "data": {
      "text/plain": [
       "6-element view(::Array{Float64,4}, 13, 50, 60, :) with eltype Float64:\n",
       "  6.680861764744961e-6\n",
       " 61.0\n",
       "  0.18003097459183068\n",
       "  0.18650000000000044\n",
       "  0.188\n",
       "  1.0"
      ]
     },
     "execution_count": 42,
     "metadata": {},
     "output_type": "execute_result"
    }
   ],
   "source": [
    "grid_payment = 1000\n",
    "share = LinRange(hlow, hhigh-hlow, grid_payment)\n",
    "\n",
    "#testing cutoff in this newer version of Pkt\n",
    "\n",
    "#function to calculate the optimal payment offer and directly populate the array\n",
    "\n",
    "function Pkt!(t, hkt, lmt, k_W, m_W, k_L, Pkt_array, pmf, pmf2, share, U, Vmax=Vmax, grid=grid, acs=acs, acj=acj, tsym=tsym)\n",
    "\n",
    "    #pmf of m is a function of t (at t=0 (index 1), the information is symmetric)\n",
    "    #array: pmf[lmt, 1:end] or pmf2[lmt, 1:end]\n",
    "    probm = zeros(grid)\n",
    "    populate_probm!(t, lmt, probm, pmf, pmf2, grid, tsym)\n",
    "\n",
    "    pkt_grid = zeros(size(lmt:grid,1))\n",
    "\n",
    "    min_share = 0.0001\n",
    "\n",
    "    #popula o grid de pagamentos de acordo com os valores de continuação do adversário\n",
    "    for (i, cmt) in enumerate(lmt+1:grid)\n",
    "\n",
    "        share = m_W[t+1, cmt, cmt, hkt]\n",
    "\n",
    "        if(U[t,hkt] <= share) #to avoid payment promisses that won't be fulfilled\n",
    "            pkt_grid[i] = -Vmax\n",
    "\n",
    "        else\n",
    "            pkt_grid[i] = share\n",
    "\n",
    "        end\n",
    "\n",
    "\n",
    "         if(pkt_grid[i] == zero(1))\n",
    "                pkt_grid[i] = U[t, hkt] * min_share\n",
    "            end\n",
    "    end\n",
    "\n",
    "    pkt_grid[size(lmt:grid,1)] = m_W[t+1, grid, grid, hkt] + U[t, hkt] * min_share\n",
    "\n",
    "    payoff = zeros(length(pkt_grid))\n",
    "    compute_payoff_pkt2!(t, payoff, pmf, probm, k_W, m_W, U, pkt_grid, hkt, lmt, Vmax, grid)\n",
    "\n",
    "    #payoffs matrix####\n",
    "\n",
    "\n",
    "\n",
    "    index_reorg = lastindmax(payoff)\n",
    "    payoff_reorg = payoff[index_reorg]\n",
    "    payment = pkt_grid[index_reorg] \n",
    "    cmt = lmt + (index_reorg) #tem que seguir a mesma regra do cmt de dentro de compute_payoff_pkt!\n",
    "\n",
    "    if(payment <0)\n",
    "        cmt = grid+2\n",
    "    end\n",
    "\n",
    "#     if(index_reorg==1)\n",
    "\n",
    "#         payment = -Vmax\n",
    "#         cmt = grid+2\n",
    "\n",
    "#     else\n",
    "#         payment = pkt_grid[index_reorg-1]\n",
    "#         cmt = lmt + index_reorg - 1\n",
    "#     end    \n",
    "\n",
    "\n",
    "\n",
    "    #calculating the optimal policy between liquidating, reorganizing or waiting ####\n",
    "    payoff_liq = k_L(t, acs, acj)\n",
    "\n",
    "    #waiting payoff is associated with the first possible payment, the waiting offer(-Vmax)\n",
    "    payoff_wait = dot_W(t, hkt, hkt, lmt, grid, k_W, pmf) * sum(probm)\n",
    "\n",
    "    #se o valor da torta for negativo, os cálculos de reorganização ficam errados\n",
    "    #se o valor da torta for negativo, o jogador ou espera ou liquida a firma\n",
    "    if(U[t,hkt] <= 0.0)\n",
    "        payoff_reorg = payoff_wait\n",
    "        cmt = grid+2\n",
    "        payment = -Vmax\n",
    "    end\n",
    "\n",
    "    payoff_max, policy = findmax((payoff_liq, payoff_wait, payoff_reorg))\n",
    "\n",
    "    if(payoff_max == payoff_wait)\n",
    "        cmt = grid+2\n",
    "        payment = -Vmax\n",
    "    end\n",
    "\n",
    "\n",
    "\n",
    "    #populates the array\n",
    "    Pkt_array[t, hkt, lmt, :] .= payment, cmt, payoff_reorg, payoff_wait, payoff_max, policy\n",
    "\n",
    "end\n",
    "\n",
    "\n",
    "\n",
    "\n",
    "#testing hk = 1\n",
    "t, hkt, lmt, k_W, m_W, k_L, Pkt_array, pmf, pmf2, share, U = T, 100, 60, s_W, j_W, s_L, Pst_array, pmf, pmf2, share, U\n",
    "@show Pkt!(t, hkt, lmt, k_W, m_W, k_L, Pkt_array, pmf, pmf2, share, U, Vmax)\n",
    "@btime Pkt!(t, hkt, lmt, k_W, m_W, k_L, Pkt_array, pmf, pmf2, share, U, Vmax)\n",
    "\n",
    "\n",
    "#testing hkt=97\n",
    "hkt=97\n",
    "@show Pkt!(t, hkt, lmt, k_W, m_W, k_L, Pkt_array, pmf, pmf2, share, U, Vmax, grid)\n",
    "\n",
    "\n",
    "#testing hk = 0.5\n",
    "hkt = 50\n",
    "@show Pkt!(t, hkt, lmt, k_W, m_W, k_L, Pkt_array, pmf, pmf2, share, U)\n",
    "\n",
    "@btime Pkt!(t, hkt, lmt, k_W, m_W, k_L, Pkt_array, pmf, pmf2, share, U)\n",
    "\n"
   ]
  },
  {
   "cell_type": "markdown",
   "metadata": {},
   "source": [
    "### Início da função de propor do devedor"
   ]
  },
  {
   "cell_type": "code",
   "execution_count": 45,
   "metadata": {},
   "outputs": [
    {
     "data": {
      "text/plain": [
       "dot_d_W (generic function with 1 method)"
      ]
     },
     "execution_count": 45,
     "metadata": {},
     "output_type": "execute_result"
    }
   ],
   "source": [
    "function dot_d_W(t, hst, hjt, grid, d_W, pmf)\n",
    "\n",
    "    #calculates the dot product between k_W and pmf\n",
    "    #adapted for the debtor\n",
    "\n",
    "    payoff=0.0\n",
    "    @inbounds for s in hst:grid\n",
    "        @inbounds for j in hjt:grid\n",
    "            payoff += d_W[t+1, s, j] * pmf[hst, s] * pmf[hjt, j]\n",
    "            \n",
    "        end\n",
    "    end\n",
    "    \n",
    "    return payoff\n",
    "end\n"
   ]
  },
  {
   "cell_type": "code",
   "execution_count": 46,
   "metadata": {},
   "outputs": [
    {
     "data": {
      "text/plain": [
       "compute_payoff_pdt! (generic function with 1 method)"
      ]
     },
     "execution_count": 46,
     "metadata": {},
     "output_type": "execute_result"
    }
   ],
   "source": [
    "function compute_payoff_pdt!(t, payoff, pmf, d_W, s_W, j_W, U, pst_grid, pjt_grid, hdt, hst, hjt, Vmax, grid)\n",
    "\n",
    "    @inbounds for s in 1:(length(pst_grid))\n",
    "        @inbounds for j in 1:(length(pjt_grid))\n",
    "            \n",
    "            pst = pst_grid[s]\n",
    "            cst = hst + (s)\n",
    "            \n",
    "            pjt = pjt_grid[j]\n",
    "            cjt = hjt + (j)\n",
    "            \n",
    "            \n",
    "            if(U[t, hdt] < pst + pjt || pst <0 || pjt < 0)\n",
    "                \n",
    "                cst = grid+2\n",
    "                cjt = grid+2\n",
    "                \n",
    "            end\n",
    "                \n",
    "            if(cst == grid+2 || cjt == grid+2)\n",
    "                \n",
    "                payoff[s,j] +=  dot_d_W(t, hst, hjt, grid, d_W, pmf) * sum(pmf[hst, hst:grid]) * sum(pmf[hjt, hjt:grid])\n",
    "            \n",
    "            elseif(cst == grid+1)\n",
    "                #S will always accept the payment offer\n",
    "                \n",
    "                #accepted if hmt+1 <= cmt for m in {s, j}\n",
    "                payoff[s,j] += dot_U(t, hdt, grid, U, pst+pjt, pmf) * sum(pmf[hst, hst:grid]) * sum(pmf[hjt, hjt:cjt])\n",
    "                \n",
    "                #case when J rejects and S accepts\n",
    "                payoff[s,j] += dot_d_W(t, hst, cjt, grid, d_W, pmf) * sum(pmf[hst, hst:grid]) * sum(pmf[hjt, cjt+1:grid])\n",
    "                \n",
    "            elseif(cjt == grid+1)\n",
    "                #J will always accept the payment offer\n",
    "                \n",
    "                #accepted if hmt+1 <= cmt for m in {s, j}\n",
    "                payoff[s,j] += dot_U(t, hdt, grid, U, pst+pjt, pmf) * sum(pmf[hst, hst:cst]) * sum(pmf[hjt, hjt:grid])\n",
    "                \n",
    "                \n",
    "                #case when J accepts and S rejects\n",
    "                payoff[s,j] += dot_d_W(t, cst, hjt, grid, d_W, pmf) * sum(pmf[hst, cst+1:grid]) * sum(pmf[hjt, hjt:grid])\n",
    "                \n",
    "            else\n",
    "                \n",
    "                #accepted if hmt+1 <= cmt for m in {s, j}\n",
    "                payoff[s,j] += dot_U(t, hdt, grid, U, pst+pjt, pmf) * sum(pmf[hst, hst:cst]) * sum(pmf[hjt, hjt:cjt])\n",
    "                \n",
    "                \n",
    "                #rejected if one of them evolves to a skill higher than the cutoff####\n",
    "                #we can add a chance of cram down in these two cases\n",
    "                \n",
    "                #case when J accepts and S rejects\n",
    "                payoff[s,j] += dot_d_W(t, cst, hjt, grid, d_W, pmf) * sum(pmf[hst, cst+1:grid]) * sum(pmf[hjt, hjt:cjt])\n",
    "                \n",
    "                #case when J rejects and S accepts\n",
    "                payoff[s,j] += dot_d_W(t, hst, cjt, grid, d_W, pmf) * sum(pmf[hst, hst:cst]) * sum(pmf[hjt, cjt+1:grid])\n",
    "                \n",
    "                \n",
    "                #rejected if both of them have skill levels above their current cutoffs\n",
    "                payoff[s,j] += dot_d_W(t, cst, cjt, grid, d_W, pmf) * sum(pmf[hst, cst+1:grid]) * sum(pmf[hjt, cjt+1:grid])\n",
    "                \n",
    "                \n",
    "            end\n",
    "            \n",
    "        end\n",
    "        \n",
    "        \n",
    "    end\n",
    "    \n",
    "end"
   ]
  },
  {
   "cell_type": "code",
   "execution_count": 55,
   "metadata": {},
   "outputs": [
    {
     "data": {
      "text/plain": [
       "Pdt! (generic function with 6 methods)"
      ]
     },
     "execution_count": 55,
     "metadata": {},
     "output_type": "execute_result"
    }
   ],
   "source": [
    "function Pdt!(t, hst, hjt, d_W, s_W, j_W, Pdts, Pdtj, pmf, share, U, Vmax=Vmax, grid=grid, acs=acs, acj=acj, tsym=tsym)\n",
    "\n",
    "    #pmf of m is a function of t (at t=0 (index 1), the information is symmetric)\n",
    "    #array: pmf[lmt, 1:end] or pmf2[lmt, 1:end]\n",
    "\n",
    "\n",
    "    #the debtor can see the creditor's real skill levels and can use them to reorganize the firm\n",
    "\n",
    "    hdt = max(hst, hjt)\n",
    "    pie = U[t, hdt]\n",
    "\n",
    "    #grid of payment offers to s and to j####\n",
    "\n",
    "    min_share = 0.0001\n",
    "\n",
    "    #payment grid to s####\n",
    "    pst_grid = zeros(size(hst:grid,1))\n",
    "\n",
    "\n",
    "\n",
    "    #popula o grid de pagamentos de acordo com os valores de continuação do adversário\n",
    "    for (i, cst) in enumerate(hst+1:grid)\n",
    "\n",
    "        share = s_W[t+1, cst, cst, hjt]\n",
    "\n",
    "        if(U[t,hdt] <= share) #to avoid payment promisses that won't be fulfilled\n",
    "            pst_grid[i] = -Vmax\n",
    "\n",
    "        else\n",
    "            pst_grid[i] = share\n",
    "\n",
    "        end\n",
    "\n",
    "\n",
    "         if(pst_grid[i] == zero(1))\n",
    "                pst_grid[i] = U[t, hdt] * min_share\n",
    "            end\n",
    "    end\n",
    "\n",
    "\n",
    "\n",
    "    pst_grid[size(hst:grid,1)] = s_W[t+1, grid, grid, hjt] + U[t, hdt] * min_share\n",
    "\n",
    "    #payment grid to j####\n",
    "    pjt_grid = zeros(size(hjt:grid,1))\n",
    "\n",
    "    #popula o grid de pagamentos de acordo com os valores de continuação do adversário\n",
    "    for (i, cjt) in enumerate(hjt+1:grid)\n",
    "\n",
    "        share = j_W[t+1, cjt, cjt, hst]\n",
    "\n",
    "        if(U[t,hdt] <= share) #to avoid payment promisses that won't be fulfilled\n",
    "            pjt_grid[i] = -Vmax\n",
    "\n",
    "        else\n",
    "            pjt_grid[i] = share\n",
    "\n",
    "        end\n",
    "\n",
    "\n",
    "         if(pjt_grid[i] == zero(1))\n",
    "                pjt_grid[i] = U[t, hdt] * min_share\n",
    "            end\n",
    "    end\n",
    "\n",
    "    pjt_grid[size(hjt:grid,1)] = j_W[t+1, grid, grid, hst] + U[t, hdt] * min_share\n",
    "\n",
    "\n",
    "    #payoff is a matrix\n",
    "    #row i and column j indicates the payoff of pst_grid[i] and pjt_grid[j]\n",
    "    payoff = zeros(length(pst_grid), length(pjt_grid))\n",
    "\n",
    "\n",
    "    #retomar daqui####\n",
    "\n",
    "    compute_payoff_pdt!(t, payoff, pmf, d_W, s_W, j_W, U, pst_grid, pjt_grid, hdt, hst, hjt, Vmax, grid)\n",
    "\n",
    "    #payoffs matrix####\n",
    "\n",
    "\n",
    "    payoff_reorg, index_reorg = findmax(payoff)\n",
    "\n",
    "    payment_s = pst_grid[index_reorg[1]] \n",
    "    cst = hst + (index_reorg[1]) #tem que seguir a mesma regra do cmt de dentro de compute_payoff_pkt!\n",
    "\n",
    "\n",
    "    payment_j = pjt_grid[index_reorg[2]]\n",
    "    cjt = hjt + (index_reorg[2])\n",
    "\n",
    "    #calculating the optimal policy between liquidating, reorganizing or waiting ####\n",
    "\n",
    "    #we suppose the debtor receives a negative payoff in liquidation so he never proposes to liquidate\n",
    "    payoff_liq = -Vmax\n",
    "\n",
    "    #waiting payoff is associated with the first possible payment, the waiting offer(-Vmax)\n",
    "    payoff_wait = dot_d_W(t, hst, hjt, grid, d_W, pmf) * sum(pmf[hst, hst:grid]) * sum(pmf[hjt, hjt:grid])\n",
    "\n",
    "    #se o valor da torta for negativo, os cálculos de reorganização ficam errados\n",
    "    #se o valor da torta for negativo, o jogador ou espera ou liquida a firma\n",
    "    if(U[t,hdt] <= 0.0 || (U[t, hdt] < payment_s + payment_j) || payment_s < 0 || payment_j < 0 )\n",
    "        payoff_reorg = payoff_wait\n",
    "        cst = grid+2\n",
    "        cjt = grid+2\n",
    "        payment_s = -Vmax\n",
    "        payment_j = -Vmax\n",
    "    end\n",
    "\n",
    "    payoff_max, policy = findmax((payoff_liq, payoff_wait, payoff_reorg))\n",
    "\n",
    "    if(payoff_max == payoff_wait)\n",
    "        cst = grid+2\n",
    "        payment_s = -Vmax\n",
    "\n",
    "        cjt = grid+2\n",
    "        payment_j = -Vmax\n",
    "    end\n",
    "\n",
    "\n",
    "\n",
    "    #populates the arrays\n",
    "\n",
    "\n",
    "    Pdts[t, hst, hjt,:] .= payment_s, cst, payoff_reorg, payoff_wait, payoff_max, policy\n",
    "    Pdtj[t, hst, hjt, :] .= payment_j, cjt, payoff_reorg, payoff_wait, payoff_max, policy\n",
    "\n",
    "end"
   ]
  },
  {
   "cell_type": "code",
   "execution_count": 56,
   "metadata": {},
   "outputs": [
    {
     "data": {
      "text/plain": [
       "0.18788871823605224"
      ]
     },
     "execution_count": 56,
     "metadata": {},
     "output_type": "execute_result"
    }
   ],
   "source": [
    "t = T\n",
    "hst = 50\n",
    "hjt = 97\n",
    "U[t, hjt]"
   ]
  },
  {
   "cell_type": "code",
   "execution_count": 57,
   "metadata": {},
   "outputs": [
    {
     "name": "stdout",
     "output_type": "stream",
     "text": [
      "  140.200 μs (1442 allocations: 278.00 KiB)\n"
     ]
    },
    {
     "data": {
      "text/plain": [
       "6-element view(::Array{Float64,4}, 13, 50, 97, :) with eltype Float64:\n",
       "   1.8788871823605225e-5\n",
       " 100.0\n",
       "   0.0018011225211496216\n",
       "  -1.0000000000000013\n",
       "   0.0018011225211496216\n",
       "   3.0"
      ]
     },
     "execution_count": 57,
     "metadata": {},
     "output_type": "execute_result"
    }
   ],
   "source": [
    "@btime Pdt!(t, hst, hjt, d_W, s_W, j_W, Pdts, Pdtj, pmf, share, U)"
   ]
  },
  {
   "cell_type": "markdown",
   "metadata": {},
   "source": [
    "Tentando mudar a função Pdt!()"
   ]
  },
  {
   "cell_type": "code",
   "execution_count": null,
   "metadata": {},
   "outputs": [],
   "source": [
    "hdt = max(hst, hjt)\n",
    "min_share = 0.0001"
   ]
  },
  {
   "cell_type": "code",
   "execution_count": 78,
   "metadata": {},
   "outputs": [
    {
     "data": {
      "text/plain": [
       "compute_pkt_grid (generic function with 1 method)"
      ]
     },
     "execution_count": 78,
     "metadata": {},
     "output_type": "execute_result"
    }
   ],
   "source": [
    "function compute_pkt_grid(t, pmf, min_share, k_W, U, hdt, hkt, hmt, Vmax, grid)\n",
    "    \n",
    "    #hkt is the skill level of creditor k\n",
    "    #hmt is the skill level of the opponent of k\n",
    "\n",
    "    size_hkt = size(hkt:grid, 1)\n",
    "\n",
    "    pkt_grid = zeros(size_hkt, 3)\n",
    "\n",
    "    # pkt_grid[i, 1] = payment offer\n",
    "    # pkt_grid[i, 2] = screening cutoff associated with the payment offer\n",
    "    # pkt_grid[i, 3] = chance that S accepts the payment offer\n",
    "    # for future works: pkt_grid[i, 4] = payment offer as a share of the pie U[t, hdt]\n",
    "    # for future works: pkt_grid[i, 5] = chance of cram down, given the share of the pie\n",
    "\n",
    "    #popula o grid de pagamentos de acordo com os valores de continuação do adversário\n",
    "    for (i, ckt) in enumerate(hkt+1:grid)\n",
    "\n",
    "        share = k_W[t+1, ckt, ckt, hmt]\n",
    "\n",
    "        if(U[t,hdt] <= share) #to avoid payment promisses that won't be fulfilled\n",
    "            pkt_grid[i, 1] = -Vmax\n",
    "            pkt_grid[i, 2] = grid+2\n",
    "            pkt_grid[i, 3] = zero(0.0)\n",
    "            \n",
    "\n",
    "        else\n",
    "            pkt_grid[i, 1] = share\n",
    "            pkt_grid[i, 2] = ckt\n",
    "            pkt_grid[i, 3] = sum(pmf[hkt, hkt:ckt])\n",
    "\n",
    "        end\n",
    "\n",
    "\n",
    "         if(pkt_grid[i] == zero(1))\n",
    "                #to avoid offering zero to J at T if J's liquidation payoff is zero at T+1\n",
    "                pkt_grid[i, 1] = U[t, hdt] * min_share\n",
    "                pkt_grid[i, 2] = grid+1\n",
    "                pkt_grid[i, 3] = sum(pmf[hkt, hkt:grid])\n",
    "            end\n",
    "    end\n",
    "\n",
    "\n",
    "    #the last offer is a offer the creditor can't refuse\n",
    "    pkt_grid[size(hkt:grid, 1), 1] = k_W[t+1, grid, grid, hmt] + U[t, hdt] * min_share\n",
    "    pkt_grid[size(hkt:grid, 1), 2] = grid+1\n",
    "    pkt_grid[size(hkt:grid, 1), 3] = sum(pmf[hkt, hkt:grid])\n",
    "\n",
    "\n",
    "    return pkt_grid\n",
    "end"
   ]
  },
  {
   "cell_type": "code",
   "execution_count": 79,
   "metadata": {},
   "outputs": [
    {
     "data": {
      "text/plain": [
       "51×3 Array{Float64,2}:\n",
       " 0.1865     51.0  0.258973\n",
       " 0.1865     52.0  0.396329\n",
       " 0.1865     53.0  0.510365\n",
       " 0.1865     54.0  0.604663\n",
       " 0.1865     55.0  0.682314\n",
       " 0.1865     56.0  0.745979\n",
       " 0.1865     57.0  0.797939\n",
       " 0.1865     58.0  0.840144\n",
       " 0.1865     59.0  0.874254\n",
       " 0.1865     60.0  0.901678\n",
       " 0.1865     61.0  0.923604\n",
       " 0.1865     62.0  0.941034\n",
       " 0.1865     63.0  0.954804\n",
       " ⋮                \n",
       " 0.1865     90.0  1.0\n",
       " 0.1865     91.0  1.0\n",
       " 0.1865     92.0  1.0\n",
       " 0.1865     93.0  1.0\n",
       " 0.1865     94.0  1.0\n",
       " 0.1865     95.0  1.0\n",
       " 0.1865     96.0  1.0\n",
       " 0.1865     97.0  1.0\n",
       " 0.1865     98.0  1.0\n",
       " 0.1865     99.0  1.0\n",
       " 0.1865    100.0  1.0\n",
       " 0.186519  101.0  1.0"
      ]
     },
     "execution_count": 79,
     "metadata": {},
     "output_type": "execute_result"
    }
   ],
   "source": [
    "pst_grid = compute_pkt_grid(t, pmf, min_share, s_W, U, hdt, hst, hjt, Vmax, grid)"
   ]
  },
  {
   "cell_type": "code",
   "execution_count": 82,
   "metadata": {},
   "outputs": [
    {
     "data": {
      "text/plain": [
       "4×3 Array{Float64,2}:\n",
       " 1.87889e-5  101.0  1.0\n",
       " 1.87889e-5  101.0  1.0\n",
       " 1.87889e-5  101.0  1.0\n",
       " 1.87889e-5  101.0  1.0"
      ]
     },
     "execution_count": 82,
     "metadata": {},
     "output_type": "execute_result"
    }
   ],
   "source": [
    "pjt_grid = compute_pkt_grid(t, pmf, min_share, j_W, U, hdt, hjt, hjt, Vmax, grid)"
   ]
  },
  {
   "cell_type": "code",
   "execution_count": 129,
   "metadata": {},
   "outputs": [
    {
     "data": {
      "text/plain": [
       "compute_payoff_pdt2 (generic function with 1 method)"
      ]
     },
     "execution_count": 129,
     "metadata": {},
     "output_type": "execute_result"
    }
   ],
   "source": [
    "function compute_payoff_pdt2(t, pmf, d_W, s_W, j_W, U, pst_grid, pjt_grid, hdt, hst, hjt, Vmax, grid)\n",
    "\n",
    "    \n",
    "    size_s = size(pst_grid, 1)\n",
    "    size_j = size(pjt_grid, 1)\n",
    "    \n",
    "    payoff = zeros(size_s, size_j)\n",
    "    \n",
    "    \n",
    "    @inbounds for s in 1:size_s\n",
    "        pst, cst, probs = pst_grid[s, :]\n",
    "        cst = Int64(cst)\n",
    "        @inbounds for j in 1:size_j\n",
    "            pjt, cjt, probj = pjt_grid[j, :]\n",
    "            cjt = Int64(cjt)\n",
    "            \n",
    "            \n",
    "            if(U[t, hdt] < pst + pjt || pst <0 || pjt < 0)\n",
    "                cst = grid+2\n",
    "                cjt = grid+2\n",
    "            end\n",
    "                \n",
    "            if(cst == grid+2 || cjt == grid+2)\n",
    "                \n",
    "                payoff[s,j] +=  dot_d_W(t, hst, hjt, grid, d_W, pmf) * sum(pmf[hst, hst:grid]) * sum(pmf[hjt, hjt:grid])\n",
    "            \n",
    "            elseif(cst == grid+1)\n",
    "                #S will always accept the payment offer\n",
    "                \n",
    "                #accepted if hmt+1 <= cmt for m in {s, j}\n",
    "                payoff[s,j] += dot_U(t, hdt, grid, U, pst+pjt, pmf) * sum(pmf[hst, hst:grid]) * sum(pmf[hjt, hjt:cjt])\n",
    "                \n",
    "                #case when J rejects and S accepts\n",
    "                payoff[s,j] += dot_d_W(t, hst, cjt, grid, d_W, pmf) * sum(pmf[hst, hst:grid]) * sum(pmf[hjt, cjt+1:grid])\n",
    "                \n",
    "            elseif(cjt == grid+1)\n",
    "                #J will always accept the payment offer\n",
    "                \n",
    "                #accepted if hmt+1 <= cmt for m in {s, j}\n",
    "                payoff[s,j] += dot_U(t, hdt, grid, U, pst+pjt, pmf) * probs * sum(pmf[hjt, hjt:grid])\n",
    "                \n",
    "                \n",
    "                #case when J accepts and S rejects\n",
    "                payoff[s,j] += dot_d_W(t, cst, hjt, grid, d_W, pmf) * (1.0 - probs) * sum(pmf[hjt, hjt:grid])\n",
    "                \n",
    "            else\n",
    "                \n",
    "                #accepted if hmt+1 <= cmt for m in {s, j}\n",
    "                payoff[s,j] += dot_U(t, hdt, grid, U, pst+pjt, pmf) * probs * probj\n",
    "                \n",
    "                \n",
    "                #rejected if one of them evolves to a skill higher than the cutoff####\n",
    "                #we can add a chance of cram down in these two cases\n",
    "                \n",
    "                #case when J accepts and S rejects\n",
    "                payoff[s,j] += dot_d_W(t, cst, hjt, grid, d_W, pmf) * (1.0 - probs) * probj\n",
    "                \n",
    "                #case when J rejects and S accepts\n",
    "                payoff[s,j] += dot_d_W(t, hst, cjt, grid, d_W, pmf) * probs * (1.0 - prob)\n",
    "                \n",
    "                \n",
    "                #rejected if both of them have skill levels above their current cutoffs\n",
    "                payoff[s,j] += dot_d_W(t, cst, cjt, grid, d_W, pmf) * (1.0 - probs) * (1.0 - prob)\n",
    "                \n",
    "                \n",
    "            end\n",
    "            \n",
    "        end\n",
    "        \n",
    "        \n",
    "    end\n",
    "    \n",
    "    payoff_reorg, index_reorg = findmax(payoff)\n",
    "    s = index_reorg[1]\n",
    "    j = index_reorg[2]\n",
    "    \n",
    "    \n",
    "    payment_s, cst = pst_grid[s, 1:2]\n",
    "    payment_j, cjt = pjt_grid[j, 1:2]\n",
    "    \n",
    "    return payoff_reorg, payment_s, cst, payment_j, cjt\n",
    "    \n",
    "end"
   ]
  },
  {
   "cell_type": "code",
   "execution_count": 130,
   "metadata": {},
   "outputs": [
    {
     "data": {
      "text/plain": [
       "(0.0018011225211505097, 0.1865, 99.0, 1.8788871823605225e-5, 101.0)"
      ]
     },
     "execution_count": 130,
     "metadata": {},
     "output_type": "execute_result"
    }
   ],
   "source": [
    "compute_payoff_pdt2(t, pmf, d_W, s_W, j_W, U, pst_grid, pjt_grid, hdt, hst, hjt, Vmax, grid)"
   ]
  },
  {
   "cell_type": "code",
   "execution_count": 131,
   "metadata": {},
   "outputs": [
    {
     "data": {
      "text/plain": [
       "Pdt! (generic function with 6 methods)"
      ]
     },
     "execution_count": 131,
     "metadata": {},
     "output_type": "execute_result"
    }
   ],
   "source": [
    "function Pdt!(t, hst, hjt, d_W, s_W, j_W, Pdts, Pdtj, pmf, share, U, Vmax=Vmax, grid=grid, acs=acs, acj=acj, tsym=tsym)\n",
    "\n",
    "    #pmf of m is a function of t (at t=0 (index 1), the information is symmetric)\n",
    "    #array: pmf[lmt, 1:end] or pmf2[lmt, 1:end]\n",
    "\n",
    "\n",
    "    #the debtor can see the creditor's real skill levels and can use them to reorganize the firm\n",
    "\n",
    "    hdt = max(hst, hjt)\n",
    "    pie = U[t, hdt]\n",
    "\n",
    "    min_share = 0.0001\n",
    "\n",
    "    #retomar daqui####\n",
    "\n",
    "    payoff_reorg, payment_s, cst, payment_j, cjt = compute_payoff_pdt2(t, pmf, d_W, s_W, j_W, U, pst_grid, pjt_grid, hdt, hst, hjt, Vmax, grid)\n",
    "\n",
    "    #payoffs matrix####\n",
    "\n",
    "    #calculating the optimal policy between liquidating, reorganizing or waiting ####\n",
    "\n",
    "    #we suppose the debtor receives a negative payoff in liquidation so he never proposes to liquidate\n",
    "    payoff_liq = -Vmax\n",
    "\n",
    "    #waiting payoff is associated with the first possible payment, the waiting offer(-Vmax)\n",
    "    payoff_wait = dot_d_W(t, hst, hjt, grid, d_W, pmf) * sum(pmf[hst, hst:grid]) * sum(pmf[hjt, hjt:grid])\n",
    "\n",
    "    #se o valor da torta for negativo, os cálculos de reorganização ficam errados\n",
    "    #se o valor da torta for negativo, o jogador ou espera ou liquida a firma\n",
    "    if(U[t,hdt] <= 0.0 || (U[t, hdt] < payment_s + payment_j) || payment_s < 0 || payment_j < 0 )\n",
    "        payoff_reorg = payoff_wait\n",
    "        cst = grid+2\n",
    "        cjt = grid+2\n",
    "        payment_s = -Vmax\n",
    "        payment_j = -Vmax\n",
    "    end\n",
    "\n",
    "    payoff_max, policy = findmax((payoff_liq, payoff_wait, payoff_reorg))\n",
    "\n",
    "    if(payoff_max == payoff_wait)\n",
    "        cst = grid+2\n",
    "        payment_s = -Vmax\n",
    "\n",
    "        cjt = grid+2\n",
    "        payment_j = -Vmax\n",
    "    end\n",
    "\n",
    "\n",
    "\n",
    "    #populates the arrays\n",
    "\n",
    "\n",
    "    Pdts[t, hst, hjt,:] .= payment_s, cst, payoff_reorg, payoff_wait, payoff_max, policy\n",
    "    Pdtj[t, hst, hjt, :] .= payment_j, cjt, payoff_reorg, payoff_wait, payoff_max, policy\n",
    "\n",
    "end"
   ]
  },
  {
   "cell_type": "code",
   "execution_count": 132,
   "metadata": {},
   "outputs": [
    {
     "name": "stdout",
     "output_type": "stream",
     "text": [
      "  53.100 μs (723 allocations: 80.61 KiB)\n"
     ]
    },
    {
     "data": {
      "text/plain": [
       "6-element view(::Array{Float64,4}, 13, 50, 97, :) with eltype Float64:\n",
       "   1.8788871823605225e-5\n",
       " 101.0\n",
       "   0.0018011225211505097\n",
       "  -1.0000000000000013\n",
       "   0.0018011225211505097\n",
       "   3.0"
      ]
     },
     "execution_count": 132,
     "metadata": {},
     "output_type": "execute_result"
    }
   ],
   "source": [
    "@btime Pdt!(t, hst, hjt, d_W, s_W, j_W, Pdts, Pdtj, pmf, share, U)"
   ]
  },
  {
   "cell_type": "markdown",
   "metadata": {},
   "source": [
    "### fim da função de propor do devedor"
   ]
  },
  {
   "cell_type": "markdown",
   "metadata": {},
   "source": [
    "Fim do debug na função Pkt!"
   ]
  },
  {
   "cell_type": "code",
   "execution_count": 134,
   "metadata": {},
   "outputs": [],
   "source": [
    "#populating the arrays to continue the tests\n",
    "#we populate period T-1, whose index is T\n",
    "t = T\n",
    "for h in 1:grid\n",
    "    for l in 1:grid\n",
    "            Pkt!(t, h, l, s_W, j_W, s_L, Pst_array, pmf, pmf2, share, U, Vmax, grid) #Pst\n",
    "            Pkt!(t, h, l, j_W, s_W, j_L, Pjt_array, pmf, pmf2, share, U, Vmax, grid) #Pjt\n",
    "            Pdt!(t, h, l, d_W, s_W, j_W, Pdts, Pdtj, pmf, share, U, Vmax, grid)\n",
    "    end\n",
    "end"
   ]
  },
  {
   "cell_type": "code",
   "execution_count": 135,
   "metadata": {},
   "outputs": [
    {
     "name": "stdout",
     "output_type": "stream",
     "text": [
      "propose(t, hkt, lkt, lmt, Pkt_array) = (0.188, 1.0)\n",
      "propose(t, hkt, lkt, lmt, Pkt_array) = (0.1883011225211499, 3.0)\n",
      "propose(t, hkt, lkt, lmt, Pkt_array) = (0.19559767357136998, 3.0)\n",
      "  37.097 ns (1 allocation: 32 bytes)\n"
     ]
    },
    {
     "data": {
      "text/plain": [
       "(0.19559767357136998, 3.0)"
      ]
     },
     "execution_count": 135,
     "metadata": {},
     "output_type": "execute_result"
    }
   ],
   "source": [
    "#optimal proposal\n",
    "function propose(t, hkt, lkt, lmt, Pkt_array)\n",
    "    \n",
    "    \n",
    "    #it just searches for the corresponding Pkt\n",
    "    payoff_max, policy = @views Pkt_array[t, hkt, lmt, end-1:end]\n",
    "    \n",
    "    return payoff_max, policy\n",
    "end\n",
    "\n",
    "#test with hk = 0.5 (index 50)\n",
    "t, hkt, lkt, lmt, Pkt_array = T, 50, 1, 60, Pst_array\n",
    "@show propose(t, hkt, lkt, lmt, Pkt_array)\n",
    "\n",
    "#test with hk = 97\n",
    "hkt = 97\n",
    "@show propose(t, hkt, lkt, lmt, Pkt_array)\n",
    "\n",
    "\n",
    "#test with hk = 1.0 (index 100)\n",
    "hkt = 100\n",
    "@show propose(t, hkt, lkt, lmt, Pkt_array)\n",
    "\n",
    "@btime propose(t, hkt, lkt, lmt, Pkt_array)"
   ]
  },
  {
   "cell_type": "code",
   "execution_count": 136,
   "metadata": {},
   "outputs": [
    {
     "name": "stdout",
     "output_type": "stream",
     "text": [
      "cdf_discrete(50, 1, pmf) = 0.9989088992792265\n",
      "  92.347 ns (1 allocation: 16 bytes)\n"
     ]
    },
    {
     "data": {
      "text/plain": [
       "0.9989088992792265"
      ]
     },
     "execution_count": 136,
     "metadata": {},
     "output_type": "execute_result"
    }
   ],
   "source": [
    "#\"cdf\" for the discretized distribution\n",
    "function cdf_discrete(x, lt, pmf)\n",
    "\n",
    "    #returns the probability that θt takes a value less than or equal to x, given lt\n",
    "    #if needed, ie in threshold, we can just subtract 0.01 from x, so cdf_discrete the prob that θt < x, strictly\n",
    "    return sum(@view(pmf[lt, lt:x]))\n",
    "end\n",
    "\n",
    "#test\n",
    "# @show cdf(0.5, 0.01)\n",
    "\n",
    "@show cdf_discrete(50, 1, pmf)\n",
    "\n",
    "@btime cdf_discrete(50,1, pmf)\n",
    "\n",
    "# @code_warntype cdf_discrete(50,1)"
   ]
  },
  {
   "cell_type": "code",
   "execution_count": 137,
   "metadata": {},
   "outputs": [
    {
     "name": "stdout",
     "output_type": "stream",
     "text": [
      "  41.211 ns (0 allocations: 0 bytes)\n"
     ]
    },
    {
     "data": {
      "text/plain": [
       "97"
      ]
     },
     "execution_count": 137,
     "metadata": {},
     "output_type": "execute_result"
    }
   ],
   "source": [
    "#function to calculate the payment offer threshold ϕmt\n",
    "\n",
    "function threshold_m(t, lkt, lmt, Pmt_array)\n",
    "    \n",
    "    #searches the index where the optimal policy is either 2.0 or 3.0 (wait or reorganize)\n",
    "    #\"Return the index of the first value in a greater than or equal to x, according to the specified order. \n",
    "    #Return length(a) + 1 if x is greater than all values in a. a is assumed to be sorted.\"\n",
    "    ts = @views searchsortedfirst(Pmt_array[t, :, lkt, end], 2.0)\n",
    "    \n",
    "    \n",
    "    #returns error message if threshold does not exist (101 is returned if missing by searchsortedfirst)\n",
    "#     @assert ts < 101\n",
    "    \n",
    "    return ts\n",
    "    \n",
    "end\n",
    "\n",
    "#test \n",
    "t, lkt,lmt, Pmt_array = T, 50, 51, Pst_array\n",
    "@btime threshold_m(t, lkt,lmt,  Pmt_array)\n",
    "\n",
    "\n"
   ]
  },
  {
   "cell_type": "code",
   "execution_count": 138,
   "metadata": {},
   "outputs": [
    {
     "name": "stdout",
     "output_type": "stream",
     "text": [
      "  90.283 ns (1 allocation: 16 bytes)\n"
     ]
    },
    {
     "data": {
      "text/plain": [
       "0.9999999999947272"
      ]
     },
     "execution_count": 138,
     "metadata": {},
     "output_type": "execute_result"
    }
   ],
   "source": [
    "function prob_liq_m(t, ts, lmt, pmf)\n",
    "    \n",
    "    #probability that m will propose liquidation next period\n",
    "    \n",
    "    #at t==0 (index 1), the info is symmetric, so lmt == θmt, thus it becomes the indicator function\n",
    "    if(t<=1)\n",
    "        if(lmt >= ts)\n",
    "            return 0.0\n",
    "        else\n",
    "            return 1.0\n",
    "        end\n",
    "\n",
    "\n",
    "    else#if t>0(index>1)\n",
    "\n",
    "        if(lmt >= ts)\n",
    "            return 0.0\n",
    "        else\n",
    "            return cdf_discrete(ts-1,lmt, pmf) #we subtract 1 because we want prob(θt < ts)\n",
    "        end\n",
    "\n",
    "    end\n",
    "    \n",
    "    \n",
    "end\n",
    "\n",
    "t, lkt,lmt, Pmt_array, pmf = T, 50, 51, Pst_array, pmf\n",
    "ts = threshold_m(t, lkt,lmt,  Pmt_array)\n",
    "@btime prob_liq_m(t, ts, lmt, pmf)\n",
    "\n",
    "# @code_warntype prob_liq_m(t, ts, lmt, pmf)\n",
    "    "
   ]
  },
  {
   "cell_type": "code",
   "execution_count": 139,
   "metadata": {},
   "outputs": [
    {
     "data": {
      "text/plain": [
       "1.0"
      ]
     },
     "execution_count": 139,
     "metadata": {},
     "output_type": "execute_result"
    }
   ],
   "source": [
    "cdf_discrete(100, 99, pmf)"
   ]
  },
  {
   "cell_type": "code",
   "execution_count": 140,
   "metadata": {},
   "outputs": [
    {
     "data": {
      "text/plain": [
       "dot_W2 (generic function with 1 method)"
      ]
     },
     "execution_count": 140,
     "metadata": {},
     "output_type": "execute_result"
    }
   ],
   "source": [
    "function dot_W2(t, hkt, hkt_next, lkt, lmt, grid, k_W, pmf)\n",
    "    \n",
    "    #calculates the dot product between k_W and pmf\n",
    "    #modified to include hkt_next, to use in respond_payment\n",
    "    \n",
    "    payoff=0.0\n",
    "    @inbounds for i in hkt_next:grid\n",
    "        payoff+= k_W[t+1, i, lkt, lmt] * pmf[hkt, i]\n",
    "    end\n",
    "    return payoff\n",
    "end"
   ]
  },
  {
   "cell_type": "code",
   "execution_count": 141,
   "metadata": {},
   "outputs": [
    {
     "data": {
      "text/plain": [
       "compute_payoff_pmt (generic function with 2 methods)"
      ]
     },
     "execution_count": 141,
     "metadata": {},
     "output_type": "execute_result"
    }
   ],
   "source": [
    "# function compute_payoff2!(t, payoff, Pkt_grid, cmt, pmf, probm, k_W, m_W, U, hkt, lmt, grid=grid)\n",
    "\n",
    "function compute_payoff_pmt(t, Pmt_array, pmf, k_W, hkt, lkt, lmt, grid=grid)\n",
    "    \n",
    "    \n",
    "    payoff=zero(0.0)\n",
    "    \n",
    "    \n",
    "    @inbounds for lmt_next in lmt:grid\n",
    "        pmt = Pmt_array[t, lmt_next, lkt, 1]\n",
    "        ckt = Int64(Pmt_array[t, lmt_next, lkt, 2])\n",
    "    \n",
    "        if(ckt==grid+2)\n",
    "            #means that the payment offer is negative (waiting offer)\n",
    "            #the proposal will be rejected for sure, without lowerbound update\n",
    "#             payoff += dot(@view(k_W[t+1, hkt:end, lkt, lmt_next]), @view(pmf[hkt, hkt:end])) * pmf[lmt, lmt_next]\n",
    "            payoff += dot_W2(t, hkt, hkt, lkt, lmt_next, grid, k_W, pmf) * pmf[lmt, lmt_next]\n",
    "        \n",
    "        \n",
    "        elseif(ckt==grid+1)\n",
    "            #means that there is no cutoff, K will accept the payment offer for all θkt+1\n",
    "#             payoff += pmt * sum(@view(pmf[hkt, hkt:end])) * pmf[lmt, lmt_next]\n",
    "            payoff += pmt * sum(@view(pmf[hkt, hkt:grid])) * pmf[lmt, lmt_next] \n",
    "            \n",
    "        else\n",
    "            \n",
    "            if(ckt < lkt)\n",
    "                #the proposal will be rejected for sure, without lowerbound update\n",
    "#                 payoff += dot(@view(k_W[t+1, hkt:end, lkt, lmt_next]), @view(pmf[hkt, hkt:end])) * pmf[lmt, lmt_next]\n",
    "                \n",
    "                payoff += dot_W2(t, hkt, hkt, lkt, lmt_next, grid, k_W, pmf) * pmf[lmt, lmt_next]\n",
    "                \n",
    "            \n",
    "            elseif(ckt==lkt)\n",
    "                #will accept only if hkt+1==lkt\n",
    "                payoff += pmt * pmf[hkt, lkt] * pmf[lmt,lmt_next]\n",
    "                \n",
    "                #rejects otherwise\n",
    "#                 payoff += dot(@view(k_W[t+1, lkt+1:end, lkt, lmt_next]), @view(pmf[hkt, lkt+1:end])) * pmf[lmt, lmt_next]\n",
    "                \n",
    "                payoff+= dot_W2(t, hkt, lkt+1, lkt, lmt_next, grid, k_W, pmf) * pmf[lmt, lmt_next]\n",
    "                \n",
    "#                 function dot_W2(t, hkt, hkt_next, lkt, lmt, grid, k_W, pmf)\n",
    "    \n",
    "#                     #calculates the dot product between k_W and pmf\n",
    "#                     #modified to include hkt_next, to use in respond_payment\n",
    "\n",
    "#                     payoff=0.0\n",
    "#                     @inbounds for i in hkt_next:grid\n",
    "#                         payoff+= k_W[t+1, i, lkt, lmt] * pmf[hkt, i]\n",
    "#                     end\n",
    "#                     return payoff\n",
    "#                 end\n",
    "                \n",
    "                \n",
    "            else\n",
    "            #now ckt > lkt\n",
    "                \n",
    "                if(ckt < hkt)\n",
    "                    #he rejects, but there is an update in the lowerbound lkt+1==ckt\n",
    "#                     payoff += dot(@view(k_W[t+1, hkt:end, ckt, lmt_next]), @view(pmf[hkt, hkt:end])) * pmf[lmt, lmt_next]\n",
    "                \n",
    "                    payoff += dot_W2(t, hkt, hkt, ckt, lmt_next, grid, k_W, pmf) * pmf[lmt, lmt_next]\n",
    "                    \n",
    "                else\n",
    "                    \n",
    "                    #receives pmt if his skill level is below or equal to the cutoff\n",
    "#                     payoff += pmt * sum(@view(pmf[hkt, hkt:ckt])) * pmf[lmt, lmt_next]\n",
    "                    \n",
    "                    payoff += pmt * sum(@view(pmf[hkt, hkt:(ckt)])) * pmf[lmt, lmt_next]\n",
    "                    \n",
    "                    \n",
    "                    #receives continuation value k_W if his skill level greather than the cutoff\n",
    "#                     payoff += dot(@view(k_W[t+1, ckt+1:end , ckt, lmt_next]), @view(pmf[hkt, ckt+1:end])) * pmf[lmt, lmt_next]\n",
    "                    \n",
    "                    \n",
    "#                     payoff+= dot_W2(t, hkt, ckt+1, ckt, lmt_next, grid, k_W, pmf) * pmf[lmt, lmt_next]\n",
    "                    \n",
    "                    payoff+= dot_W2(t, hkt, ckt+1, ckt, lmt_next, grid, k_W, pmf) * pmf[lmt, lmt_next]\n",
    "                    \n",
    "                                        \n",
    "#                     function dot_W2(t, hkt, hkt_next, lkt, lmt, grid, k_W, pmf)\n",
    "\n",
    "#                         #calculates the dot product between k_W and pmf\n",
    "#                         #modified to include hkt_next, to use in respond_payment\n",
    "\n",
    "#                         payoff=0.0\n",
    "#                         @inbounds for i in hkt_next:grid\n",
    "#                             payoff+= k_W[t+1, i, lkt, lmt] * pmf[hkt, i]\n",
    "#                         end\n",
    "#                         return payoff\n",
    "#                     end\n",
    "\n",
    "                    \n",
    "                    \n",
    "                end\n",
    "            end\n",
    "        end\n",
    "    end\n",
    "\n",
    "    \n",
    "    return payoff\n",
    "end\n",
    "\n",
    "    "
   ]
  },
  {
   "cell_type": "code",
   "execution_count": 142,
   "metadata": {},
   "outputs": [
    {
     "name": "stdout",
     "output_type": "stream",
     "text": [
      "  279.730 ns (1 allocation: 16 bytes)\n",
      "  2.411 μs (1 allocation: 16 bytes)\n"
     ]
    },
    {
     "data": {
      "text/plain": [
       "0.18650000000000036"
      ]
     },
     "execution_count": 142,
     "metadata": {},
     "output_type": "execute_result"
    }
   ],
   "source": [
    "#expected payoff of answering a payment proposal\n",
    "\n",
    "function respond_payment(t, hkt, lkt, lmt, Pmt_array, k_W, pmf, grid=grid)\n",
    "    \n",
    "    \n",
    "    #the minimum level of hmt necessary for m to offer a payment\n",
    "    #it will be used as hmt\n",
    "    ts = threshold_m(t, lkt, lmt, Pmt_array)\n",
    "    \n",
    "    #updated lower bound\n",
    "    lmt = max(ts, lmt)\n",
    "    \n",
    "    return compute_payoff_pmt(t, Pmt_array, pmf, k_W, hkt, lkt, lmt, grid)\n",
    "\n",
    "end\n",
    "        \n",
    "        \n",
    "\n",
    "#test1: expected payoff of S\n",
    "t, hkt, lkt, lmt, Pmt_array, k_W, pmf = T, 50, 50, 50, Pjt_array, s_W, pmf\n",
    "@btime respond_payment(t, hkt, lkt, lmt, Pmt_array, k_W, pmf, grid)\n",
    "\n",
    "\n",
    "#o tempo maior dessa função é porque ela não faz o update lmt = max(ts, lmt)\n",
    "#a ideia é só checar a quantidade de alocações\n",
    "@btime compute_payoff_pmt(t, Pmt_array, pmf, k_W, hkt, lkt, lmt, grid)"
   ]
  },
  {
   "cell_type": "code",
   "execution_count": 143,
   "metadata": {},
   "outputs": [
    {
     "data": {
      "text/plain": [
       "dot_U2 (generic function with 1 method)"
      ]
     },
     "execution_count": 143,
     "metadata": {},
     "output_type": "execute_result"
    }
   ],
   "source": [
    "# quase mesma função que foi criada para acelerar Pkt!(), mas aqui não subtrai pkt\n",
    "function dot_U2(t, hkt, grid, U, pmf)\n",
    "    \n",
    "    #calculates the dot product between U and pmf\n",
    "    payoff=0.0\n",
    "    @inbounds for i in hkt:grid\n",
    "        payoff+= U[t, i] * pmf[hkt, i]\n",
    "    end\n",
    "    return payoff\n",
    "end"
   ]
  },
  {
   "cell_type": "code",
   "execution_count": 144,
   "metadata": {},
   "outputs": [
    {
     "ename": "LoadError",
     "evalue": "\u001b[91mMethodError: no method matching j_L(::Int64)\u001b[39m\n\u001b[91m\u001b[0mClosest candidates are:\u001b[39m\n\u001b[91m\u001b[0m  j_L(::Any, \u001b[91m::Any\u001b[39m, \u001b[91m::Any\u001b[39m) at In[18]:12\u001b[39m",
     "output_type": "error",
     "traceback": [
      "\u001b[91mMethodError: no method matching j_L(::Int64)\u001b[39m\n\u001b[91m\u001b[0mClosest candidates are:\u001b[39m\n\u001b[91m\u001b[0m  j_L(::Any, \u001b[91m::Any\u001b[39m, \u001b[91m::Any\u001b[39m) at In[18]:12\u001b[39m",
      "",
      "Stacktrace:",
      " [1] respond_liq(::Int64, ::Int64, ::Int64, ::Int64, ::typeof(s_L), ::typeof(j_L), ::Array{Float64,2}, ::Array{Float64,2}, ::Int64) at .\\In[144]:8 (repeats 2 times)",
      " [2] top-level scope at show.jl:641"
     ]
    }
   ],
   "source": [
    "#expected payoff of answering a liquidation proposal\n",
    "\n",
    "function respond_liq(t, hkt, lkt, lmt, k_L, m_L, pmf, U, grid=grid)\n",
    "    \n",
    "    #payoff_reorg is the payoff of reorganizing while paying the opponent's liquidation value\n",
    "    #U_{t} (\\theta_{t+1}) because the skill level is of the next period\n",
    "    #dot is matrix multiplication\n",
    "    payoff_reorg = dot_U2(t, hkt, grid, U, pmf) - m_L(t)\n",
    "    \n",
    "    payoff_liq = k_L(t)\n",
    "    \n",
    "    return max(payoff_liq, payoff_reorg)\n",
    "end\n",
    "\n",
    "\n",
    "#what happens if J proposes to liquidation at the penultimate period and S answers it?\n",
    "#hkt = 0.5\n",
    "t, hkt, lkt, lmt, k_L, m_L, pmf, U = T, 50, 50, 50, s_L, j_L, pmf, U\n",
    "@show respond_liq(t, hkt, lkt, lmt, k_L, m_L, pmf, U)\n",
    "@show dot(pmf[hkt, hkt:end], (U[t, hkt:end] .- m_L(t)))\n",
    "@show k_L(t)\n",
    "\n",
    "@btime respond_liq(t, hkt, lkt, lmt, k_L, m_L, pmf, U)\n",
    "\n",
    "#changing just hkt\n",
    "#hkt = 1.0\n",
    "hkt = 100\n",
    "@show respond_liq(t, hkt, lkt, lmt, k_L, m_L, pmf, U)\n",
    "@show dot(pmf[hkt, hkt:end], (U[t, hkt:end] .- m_L(t)))\n",
    "@show k_L(t)\n",
    "\n",
    "\n",
    "@btime respond_liq(t, hkt, lkt, lmt, k_L, m_L, pmf, U)"
   ]
  },
  {
   "cell_type": "code",
   "execution_count": 145,
   "metadata": {},
   "outputs": [],
   "source": [
    "# @code_warntype respond_liq(t, hkt, lkt, lmt, k_L, m_L)"
   ]
  },
  {
   "cell_type": "code",
   "execution_count": 146,
   "metadata": {},
   "outputs": [
    {
     "ename": "LoadError",
     "evalue": "\u001b[91mMethodError: no method matching j_L(::Int64)\u001b[39m\n\u001b[91m\u001b[0mClosest candidates are:\u001b[39m\n\u001b[91m\u001b[0m  j_L(::Any, \u001b[91m::Any\u001b[39m, \u001b[91m::Any\u001b[39m) at In[18]:12\u001b[39m",
     "output_type": "error",
     "traceback": [
      "\u001b[91mMethodError: no method matching j_L(::Int64)\u001b[39m\n\u001b[91m\u001b[0mClosest candidates are:\u001b[39m\n\u001b[91m\u001b[0m  j_L(::Any, \u001b[91m::Any\u001b[39m, \u001b[91m::Any\u001b[39m) at In[18]:12\u001b[39m",
      "",
      "Stacktrace:",
      " [1] respond_liq(::Int64, ::Int64, ::Int64, ::Int64, ::typeof(s_L), ::typeof(j_L), ::Array{Float64,2}, ::Array{Float64,2}, ::Int64) at .\\In[144]:8",
      " [2] respond(::Int64, ::Int64, ::Int64, ::Int64, ::Array{Float64,4}, ::Array{Float64,4}, ::Function, ::Function, ::Array{Float64,2}, ::Array{Float64,2}, ::Int64) at .\\In[146]:7",
      " [3] respond(::Int64, ::Int64, ::Int64, ::Int64, ::Array{Float64,4}, ::Array{Float64,4}, ::Function, ::Function, ::Array{Float64,2}, ::Array{Float64,2}) at .\\In[146]:4",
      " [4] ##core#391() at C:\\Users\\Zé\\.julia\\packages\\BenchmarkTools\\uq9zP\\src\\execution.jl:479",
      " [5] ##sample#392(::BenchmarkTools.Parameters) at C:\\Users\\Zé\\.julia\\packages\\BenchmarkTools\\uq9zP\\src\\execution.jl:485",
      " [6] _run(::BenchmarkTools.Benchmark, ::BenchmarkTools.Parameters; verbose::Bool, pad::String, kwargs::Base.Iterators.Pairs{Symbol,Integer,NTuple{4,Symbol},NamedTuple{(:samples, :evals, :gctrial, :gcsample),Tuple{Int64,Int64,Bool,Bool}}}) at C:\\Users\\Zé\\.julia\\packages\\BenchmarkTools\\uq9zP\\src\\execution.jl:98",
      " [7] (::Base.var\"#inner#2\"{Base.Iterators.Pairs{Symbol,Integer,NTuple{5,Symbol},NamedTuple{(:verbose, :samples, :evals, :gctrial, :gcsample),Tuple{Bool,Int64,Int64,Bool,Bool}}},typeof(BenchmarkTools._run),Tuple{BenchmarkTools.Benchmark,BenchmarkTools.Parameters}})() at .\\essentials.jl:713",
      " [8] #invokelatest#1 at .\\essentials.jl:714 [inlined]",
      " [9] #run_result#45 at C:\\Users\\Zé\\.julia\\packages\\BenchmarkTools\\uq9zP\\src\\execution.jl:33 [inlined]",
      " [10] run(::BenchmarkTools.Benchmark, ::BenchmarkTools.Parameters; progressid::Nothing, nleaves::Float64, ndone::Float64, kwargs::Base.Iterators.Pairs{Symbol,Integer,NTuple{5,Symbol},NamedTuple{(:verbose, :samples, :evals, :gctrial, :gcsample),Tuple{Bool,Int64,Int64,Bool,Bool}}}) at C:\\Users\\Zé\\.julia\\packages\\BenchmarkTools\\uq9zP\\src\\execution.jl:116",
      " [11] #warmup#54 at C:\\Users\\Zé\\.julia\\packages\\BenchmarkTools\\uq9zP\\src\\execution.jl:168 [inlined]",
      " [12] warmup(::BenchmarkTools.Benchmark) at C:\\Users\\Zé\\.julia\\packages\\BenchmarkTools\\uq9zP\\src\\execution.jl:168",
      " [13] top-level scope at C:\\Users\\Zé\\.julia\\packages\\BenchmarkTools\\uq9zP\\src\\execution.jl:565"
     ]
    }
   ],
   "source": [
    "#expected payoff of being called to respond\n",
    "function respond(t, hkt, lkt, lmt, Pmt_array, k_W, k_L, m_L, pmf, U, grid=grid)\n",
    "    \n",
    "    probm_liq = prob_liq_m(t, threshold_m(t, lkt, lmt, Pmt_array), lmt, pmf)\n",
    "    \n",
    "    \n",
    "    return (1.0 - probm_liq) * respond_payment(t, hkt, lkt, lmt, Pmt_array, k_W, pmf) + probm_liq * respond_liq(t, hkt, lkt, lmt, k_L, m_L, pmf, U, grid)\n",
    "end\n",
    "\n",
    "#test\n",
    "t, hkt, lkt, lmt, k_L, m_L, Pmt_array, k_W, pmf, U = T, 50, 50, 50, s_L, j_L, Pst_array, j_W, pmf, U\n",
    "\n",
    "\n",
    "@btime respond(t, hkt, lkt, lmt, Pmt_array, k_W, k_L, m_L, pmf, U)"
   ]
  },
  {
   "cell_type": "markdown",
   "metadata": {},
   "source": [
    "### Populating the game's arrays"
   ]
  },
  {
   "cell_type": "markdown",
   "metadata": {},
   "source": [
    "#### 1,2,3 testing"
   ]
  },
  {
   "cell_type": "code",
   "execution_count": null,
   "metadata": {},
   "outputs": [],
   "source": [
    "@time begin\n",
    "    \n",
    "    t = T\n",
    "    \n",
    "    for h in 1:grid\n",
    "        for l in 1:grid\n",
    "            Pkt!(t, h, l, s_W, j_W, s_L, Pst_array, pmf, pmf2, share, U, Vmax, grid) #Pst\n",
    "            Pkt!(t, h, l, j_W, s_W, j_L, Pjt_array, pmf, pmf2, share, U, Vmax, grid) #Pjt\n",
    "        end\n",
    "    end\n",
    "    \n",
    "end"
   ]
  },
  {
   "cell_type": "code",
   "execution_count": null,
   "metadata": {},
   "outputs": [],
   "source": [
    "#testing functions\n",
    "# t, hkt, lkt, lmt = T-1, 0.6, 0.4, 0.5\n",
    "t, hkt, lkt, lmt = T, 60, 40, 50"
   ]
  },
  {
   "cell_type": "code",
   "execution_count": null,
   "metadata": {},
   "outputs": [],
   "source": [
    "#s_propose\n",
    "@btime propose(t, hkt, lkt, lmt, Pst_array)"
   ]
  },
  {
   "cell_type": "code",
   "execution_count": null,
   "metadata": {},
   "outputs": [],
   "source": [
    "#threshold_j\n",
    "@btime threshold_m(t, lkt, lmt, Pjt_array)"
   ]
  },
  {
   "cell_type": "code",
   "execution_count": null,
   "metadata": {},
   "outputs": [],
   "source": [
    "#threshold_s\n",
    "#note that threshold_j < threshold_s because j_L(t) < s_L(t) in this case\n",
    "@btime threshold_m(t, lkt, lmt, Pst_array)"
   ]
  },
  {
   "cell_type": "code",
   "execution_count": null,
   "metadata": {},
   "outputs": [],
   "source": [
    "#s_respond\n",
    "@btime respond(t, hkt, lkt, lmt, Pjt_array, s_W, s_L, j_L, pmf, U)"
   ]
  },
  {
   "cell_type": "code",
   "execution_count": null,
   "metadata": {},
   "outputs": [],
   "source": [
    "#this last one is especially important since it will be repeated a million times each period\n",
    "@btime λj * respond(t, hkt, lkt, lmt, Pjt_array, s_W, s_L, j_L, pmf, U) + (1-λj) * propose(t, hkt, lkt, lmt, Pst_array)[1]"
   ]
  },
  {
   "cell_type": "markdown",
   "metadata": {},
   "source": [
    "#### Populating the penultimate period of the game\n",
    "\n",
    "Indexed by T"
   ]
  },
  {
   "cell_type": "code",
   "execution_count": null,
   "metadata": {},
   "outputs": [],
   "source": [
    "function populate_pkt_manual!(t, s_W, j_W, s_L, j_L, Pst_array, Pjt_array, pmf, pmf2, share, U, Vmax, grid)\n",
    "    \n",
    "    @inbounds for l in 1:grid\n",
    "        for h in 1:grid\n",
    "            Pkt!(t, h, l, s_W, j_W, s_L, Pst_array, pmf, pmf2, share, U, Vmax, grid) #Pst\n",
    "            Pkt!(t, h, l, j_W, s_W, j_L, Pjt_array, pmf, pmf2, share, U, Vmax, grid) #Pjt\n",
    "        end\n",
    "    end\n",
    "\n",
    "end"
   ]
  },
  {
   "cell_type": "code",
   "execution_count": null,
   "metadata": {},
   "outputs": [],
   "source": [
    "@btime populate_pkt_manual!(T, s_W, j_W, s_L, j_L, Pst_array, Pjt_array, pmf, pmf2, share, U, Vmax, grid)"
   ]
  },
  {
   "cell_type": "code",
   "execution_count": null,
   "metadata": {},
   "outputs": [],
   "source": [
    "function populate_wkt_manual!(t, s_W, j_W, s_L, j_L, Pst_array, Pjt_array, pmf, pmf2, share, U, grid)\n",
    "    \n",
    "    for lm in 1:grid\n",
    "        for lk in 1:grid\n",
    "           for hk in lk:grid #populates only if hk >= lk, saving time\n",
    "                s_W[t, hk, lk, lm] = λj * respond(t, hk, lk, lm, Pjt_array, s_W, s_L, j_L, pmf, U) + (1-λj) * propose(t, hk, lk, lm, Pst_array)[1]\n",
    "                j_W[t, hk, lk, lm] = λj * propose(t, hk, lk, lm, Pjt_array)[1] + (1-λj) * respond(t, hk, lk, lm, Pst_array, j_W, j_L, s_L, pmf, U)\n",
    "                \n",
    "            end\n",
    "        end\n",
    "    end\n",
    "end\n"
   ]
  },
  {
   "cell_type": "code",
   "execution_count": null,
   "metadata": {},
   "outputs": [],
   "source": [
    "@btime populate_wkt_manual!(T, s_W, j_W, s_L, j_L, Pst_array, Pjt_array, pmf, pmf2, share, U, grid)\n",
    "#não usei λj como argumento porque ele aumenta a quantidade de alocações..."
   ]
  },
  {
   "cell_type": "code",
   "execution_count": null,
   "metadata": {},
   "outputs": [],
   "source": [
    "function populate_periods_manual!(tfinal, tbegin, s_W, j_W, s_L, j_L, Pst_array, Pjt_array, pmf, pmf2, share, U, Vmax, grid)\n",
    "    \n",
    "    @time begin\n",
    "\n",
    "\n",
    "        for t in tfinal:-1:tbegin\n",
    "\n",
    "            @time begin\n",
    "                #populating Pkt\n",
    "                populate_pkt_manual!(t, s_W, j_W, s_L, j_L, Pst_array, Pjt_array, pmf, pmf2, share, U, Vmax, grid)\n",
    "\n",
    "                #populating Wkt\n",
    "                populate_wkt_manual!(t, s_W, j_W, s_L, j_L, Pst_array, Pjt_array, pmf, pmf2, share, U, grid)\n",
    "            end\n",
    "\n",
    "        end\n",
    "        \n",
    "    end\n",
    "        \n",
    "end"
   ]
  },
  {
   "cell_type": "markdown",
   "metadata": {},
   "source": [
    "### Populating the whole game"
   ]
  },
  {
   "cell_type": "code",
   "execution_count": null,
   "metadata": {},
   "outputs": [],
   "source": [
    "#usando a versão manual\n",
    "populate_periods_manual!(T, 1, s_W, j_W, s_L, j_L, Pst_array, Pjt_array, pmf, pmf2, share, U, Vmax, grid)"
   ]
  },
  {
   "cell_type": "markdown",
   "metadata": {},
   "source": [
    "Time necessary to populate the whole game\n",
    "\n",
    "08/01/21: 32 minutes\n",
    "\n",
    "12/01/21:  6.89 minutes (version 5 of respond_payment)\n",
    "\n",
    "13/01/21: 4.081 minutes (version 5 of respond_payment (fixed) and optimized version of Pkt)\n",
    "\n",
    "26/01/21: 5 minutes and 40 seconds (grid_payment=1000)\n",
    "\n",
    "26/01/21: 4min15s (loop populating only if hk>=lk)\n",
    "\n",
    "28/03/21, 19h50: 138s; 281.21M allocations: 55.884GiB, 6.17% gc time\n",
    "\n",
    "28/03/21, 20h10: 130.811769 seconds (254.95 M allocations: 55.297 GiB, 6.55% gc time)\n",
    "\n",
    "28/03/21, 21h07: 133.401700 seconds (254.95 M allocations: 55.297 GiB, 6.92% gc time)\n",
    "\n",
    "29/03/21, 08h46: 113.804470 seconds (161.72 M allocations: 27.636 GiB, 3.34% gc time)\n",
    "\n",
    "29/03/21, 10h17: 87.952999 seconds (135.46 M allocations: 17.426 GiB, 2.26% gc time)\n",
    "\n",
    "30/03/21, 10h54:  84.616759 seconds (122.33 M allocations: 12.974 GiB, 1.82% gc time)\n",
    "\n",
    "30/03/21, 19h18:  78.780158 seconds (109.20 M allocations: 7.869 GiB, 0.87% gc time)\n",
    "\n",
    "30/03/21, 20h27:  84.408751 seconds (108.99 M allocations: 3.908 GiB, 0.76% gc time)"
   ]
  },
  {
   "cell_type": "markdown",
   "metadata": {},
   "source": [
    "#### Tempo necessário para popular período zero (t==1)"
   ]
  },
  {
   "cell_type": "code",
   "execution_count": null,
   "metadata": {},
   "outputs": [],
   "source": [
    "@btime populate_pkt_manual!(1, s_W, j_W, s_L, j_L, Pst_array, Pjt_array, pmf, pmf2, share, U, Vmax, grid)"
   ]
  },
  {
   "cell_type": "code",
   "execution_count": null,
   "metadata": {},
   "outputs": [],
   "source": [
    "@btime populate_wkt_manual!(1, s_W, j_W, s_L, j_L, Pst_array, Pjt_array, pmf, pmf2, share, U, grid)"
   ]
  },
  {
   "cell_type": "markdown",
   "metadata": {},
   "source": [
    "### Graphs"
   ]
  },
  {
   "cell_type": "code",
   "execution_count": null,
   "metadata": {},
   "outputs": [],
   "source": [
    "#definindo as funções de S e J só para facilitar nos gráficos\n",
    "\n",
    "function s_propose(t, hk, lk, lm)\n",
    "    return propose(t, hk, lk, lm, Pst_array)\n",
    "end\n",
    "\n",
    "function j_propose(t, hk, lk, lm)\n",
    "    return propose(t, hk, lk, lm, Pjt_array)\n",
    "end\n",
    "\n",
    "function s_respond(t, hk, lk, lm)\n",
    "    return respond(t, hk, lk, lm, Pjt_array, s_W, s_L, j_L, pmf, U)\n",
    "end\n",
    "\n",
    "function j_respond(t, hk, lk, lm)\n",
    "    return respond(t, hk, lk, lm, Pst_array, j_W, j_L, s_L, pmf, U)\n",
    "end\n"
   ]
  },
  {
   "cell_type": "code",
   "execution_count": null,
   "metadata": {},
   "outputs": [],
   "source": [
    "using Gadfly"
   ]
  },
  {
   "cell_type": "code",
   "execution_count": null,
   "metadata": {},
   "outputs": [],
   "source": [
    "function graf1(t, lkt1, lkt2, lmt1, lmt2, f)\n",
    "    \n",
    "    set_default_plot_size(16cm, 10cm)\n",
    "\n",
    "    #let's cut the X axis to show only values where hkt >=  max(lkt1, lkt2)\n",
    "    cut = max(lkt1,lkt2)\n",
    "    X = hvals[cut:grid]\n",
    "\n",
    "    #arrays to store the outputs\n",
    "    y1 = zeros(length(hvals[cut:end]))\n",
    "    y2 = zeros(length(hvals[cut:end]))\n",
    "\n",
    "\n",
    "    #by default, yi will get lkti and lmti\n",
    "\n",
    "    #condition to avoid getting the wrong value when the function returns a tuple (ie, k_propose)\n",
    "    if(f(t, 1, lkt1, lmt1)==Float64)\n",
    "\n",
    "        for (i, hkt) in enumerate(cut:grid)\n",
    "            y1[i] = f(t, hkt, lkt1, lmt1)\n",
    "        end\n",
    "\n",
    "        for (i, hkt) in enumerate(cut:grid)\n",
    "            y2[i] = f(t, hkt, lkt2, lmt2)\n",
    "        end\n",
    "    else\n",
    "        for (i, hkt) in enumerate(cut:grid)\n",
    "            y1[i] = f(t, hkt, lkt1, lmt1)[1]\n",
    "        end\n",
    "\n",
    "        for (i, hkt) in enumerate(cut:grid)\n",
    "            y2[i] = f(t, hkt, lkt2, lmt2)[1]\n",
    "        end\n",
    "    end\n",
    "\n",
    "    \n",
    "    #plotting\n",
    "    \n",
    "    color_y1 = \"#1f77b4\"\n",
    "    color_y2 = \"#ff7f0e\"\n",
    "    \n",
    "    \n",
    "#     possible line_styles=[:solid :dash :dot :dashdot :dashdotdot]\n",
    "    p = plot()\n",
    "    \n",
    "    push!(p, layer(x=X, y=y1, Geom.line,\n",
    "            Theme(default_color=color(color_y1),\n",
    "                line_style=[:dashdotdot],\n",
    "                line_width=0.4mm)))\n",
    "    \n",
    "    \n",
    "    push!(p, layer(x=X, y=y2, Geom.line, \n",
    "            Theme(default_color=color(color_y2),\n",
    "                line_style=[:dash],\n",
    "                line_width=0.4mm)))\n",
    "    \n",
    "    \n",
    "\n",
    "\n",
    "    push!(p, Guide.manual_color_key(\"Lower bounds\",\n",
    "            [\"ℓst = $(lkt1/100), ℓjt = $(lmt1/100)\",\"ℓst = $(lkt2/100), ℓjt = $(lmt2/100)\"], \n",
    "            [color_y1, color_y2]))\n",
    "#     push!(p, Guide.colorkey(title=\"Lower bounds\", labels=[\"ℓkt = $lkt1, ℓmt = $lmt1\", \"ℓkt = $lkt2, ℓmt = $lmt2\"]))\n",
    "    push!(p, Guide.xlabel(\"θt\"))\n",
    "    push!(p, Guide.ylabel(\"Expected Payoff\"))\n",
    "    push!(p, Guide.title(\"Expected payoff of function $f\"))\n",
    "    \n",
    "    ticksx = collect(cut/100:0.05:hhigh)\n",
    "    push!(p, Guide.xticks(ticks=ticksx))\n",
    "\n",
    "    \n",
    "\n",
    "end\n",
    "\n",
    "\n",
    "\n"
   ]
  },
  {
   "cell_type": "markdown",
   "metadata": {},
   "source": [
    "s_propose"
   ]
  },
  {
   "cell_type": "code",
   "execution_count": null,
   "metadata": {},
   "outputs": [],
   "source": [
    "#variando lkt\n",
    "\n",
    "fig1 = graf1(1, 50, 90, 50, 50, s_propose)\n",
    "draw(PNG(\"fig1.png\", dpi=400), fig1)\n",
    "\n",
    "graf1(1, 50, 90, 50, 50, s_propose)"
   ]
  },
  {
   "cell_type": "code",
   "execution_count": null,
   "metadata": {},
   "outputs": [],
   "source": [
    "#variando lmt\n",
    "fig2 = graf1(1, 50, 50, 50, 90, s_propose)\n",
    "draw(PNG(\"fig2.png\", dpi=400), fig2)\n",
    "\n",
    "\n",
    "graf1(1, 50, 50, 50, 90, s_propose)"
   ]
  },
  {
   "cell_type": "markdown",
   "metadata": {},
   "source": [
    "s_respond"
   ]
  },
  {
   "cell_type": "code",
   "execution_count": null,
   "metadata": {},
   "outputs": [],
   "source": [
    "#variando lkt\n",
    "\n",
    "fig3 = graf1(1, 30, 70, 80, 80, s_respond);\n",
    "draw(PNG(\"fig3.png\", dpi=400), fig3)\n",
    "\n",
    "graf1(1, 30, 70, 80, 80, s_respond)"
   ]
  },
  {
   "cell_type": "code",
   "execution_count": null,
   "metadata": {
    "scrolled": false
   },
   "outputs": [],
   "source": [
    "#variando lmt\n",
    "\n",
    "\n",
    "fig4 = graf1(1, 50, 50, 50, 90, s_respond);\n",
    "draw(PNG(\"fig4.png\", dpi=400), fig4)\n",
    "\n",
    "graf1(1, 50, 50, 50, 90, s_respond)"
   ]
  },
  {
   "cell_type": "code",
   "execution_count": null,
   "metadata": {
    "scrolled": true
   },
   "outputs": [],
   "source": [
    "function graf_func_value(t, lkt, lmt)\n",
    "    \n",
    "    \n",
    "    set_default_plot_size(16cm, 10cm)\n",
    "    \n",
    "    #now the cut is just lkt\n",
    "    X=hvals[lkt:end]\n",
    "    \n",
    "    y1=s_W[t, lkt:end, lkt, lmt]\n",
    "    y2=j_W[t, lkt:end, lkt, lmt]\n",
    "    \n",
    "    \n",
    "    #plotting\n",
    "    \n",
    "    color_y1 = \"#1f77b4\"\n",
    "    color_y2 = \"#ff7f0e\"\n",
    "    \n",
    "    \n",
    "#     possible line_styles=[:solid :dash :dot :dashdot :dashdotdot]\n",
    "    p = plot()\n",
    "    \n",
    "    push!(p, layer(x=X, y=y1, Geom.line,\n",
    "            Theme(default_color=color(color_y1),\n",
    "                line_style=[:dash],\n",
    "                line_width=0.4mm)))\n",
    "    \n",
    "    \n",
    "    push!(p, layer(x=X, y=y2, Geom.line, \n",
    "            Theme(default_color=color(color_y2),\n",
    "                line_style=[:dot],\n",
    "                line_width=0.4mm)))\n",
    "    \n",
    "    \n",
    "\n",
    "\n",
    "    push!(p, Guide.manual_color_key(\"Creditor\",\n",
    "            [\"S\",\"J\"], \n",
    "            [color_y1, color_y2]))\n",
    "    push!(p, Guide.xlabel(\"θt\"))\n",
    "    push!(p, Guide.ylabel(\"Expected Payoff\"))\n",
    "    push!(p, Guide.title(\"Continuation values at t=$(t-1), given ℓst=$(lkt/100) and ℓst=$(lmt/100)\"))\n",
    "    \n",
    "    ticksx = collect(lkt/100:0.05:hhigh)\n",
    "    push!(p, Guide.xticks(ticks=ticksx, orientation=:vertical))\n",
    "    \n",
    "    \n",
    "    \n",
    "\n",
    "    \n",
    "  \n",
    "    \n",
    "    \n",
    "end\n",
    "\n",
    "fig5 = graf_func_value(1,1,1);\n",
    "draw(PNG(\"fig5.png\", dpi=400), fig5)\n",
    "graf_func_value(1,1,1)"
   ]
  },
  {
   "cell_type": "markdown",
   "metadata": {},
   "source": [
    "Proposals"
   ]
  },
  {
   "cell_type": "code",
   "execution_count": null,
   "metadata": {},
   "outputs": [],
   "source": [
    "\n",
    "function graf_proposal(f, t)\n",
    "    \n",
    "    set_default_plot_size(16cm, 10cm)\n",
    "    \n",
    "    #creates a dataframe to store the values\n",
    "    df = DataFrame()\n",
    "    df.hk = repeat(1:grid, inner=grid)\n",
    "    df.lm = repeat(1:grid, outer=grid)\n",
    "    \n",
    "    Policy= zeros( size(df,1) )\n",
    "    \n",
    "    for i in 1:size(df,1)\n",
    "#         Policy[i] = f(t, df.hk[i], 1, df.lm[i])[2]\n",
    "        Policy[i] = f(t, df.hk[i], df.hk[i], df.lm[i])[2]\n",
    "    end\n",
    "    \n",
    "    df.Policy = Policy\n",
    "    \n",
    "#     labeldict = Dict(1=>\"liq\", 2=>\"wait\", 3=>\"reorg\")\n",
    "    \n",
    "    \n",
    "#     p = plot(df, x=:hk, y=:lm, color=:Policy, Geom.point, \n",
    "#         Scale.color_discrete(levels=[1, 2, 3]))  \n",
    "    \n",
    "    #mudanças de cores, ficou meio jamaica\n",
    "#     p = plot(df, x=:hk, y=:lm, color=:Policy, Geom.point,\n",
    "#         Scale.color_discrete_manual(\"red\",\"yellow\", \"green\", levels=[1.0, 2.0, 3.0]))\n",
    "    \n",
    "    \n",
    "    #para ficar comparável ao artigo\n",
    "    p = plot(df, x=:hk, y=:lm, color=:Policy, Geom.point, alpha=[0.7],\n",
    "        Scale.color_discrete_manual(\"black\",\"red\", \"lightskyblue3\", levels=[1.0, 2.0, 3.0]))\n",
    "    \n",
    "    push!(p, Guide.xlabel(\"θt\"))\n",
    "    push!(p, Guide.ylabel(\"Opponent's lower bound\"))\n",
    "    push!(p, Guide.title(\"Optimal policy, $f, at t=$(t-1)\"))\n",
    "    push!(p, Guide.colorkey(title=\"Optimal Policy\", labels=[\"Liquidate\", \"Wait\", \"Reorganize\"]))\n",
    "    \n",
    "                \n",
    "                \n",
    "end\n",
    "            \n",
    "#ficou muito pesado\n",
    "            "
   ]
  },
  {
   "cell_type": "code",
   "execution_count": null,
   "metadata": {},
   "outputs": [],
   "source": [
    "graf_proposal(s_propose, 1)"
   ]
  },
  {
   "cell_type": "code",
   "execution_count": null,
   "metadata": {},
   "outputs": [],
   "source": [
    "graf_proposal(s_propose, 3)"
   ]
  },
  {
   "cell_type": "code",
   "execution_count": null,
   "metadata": {
    "scrolled": true
   },
   "outputs": [],
   "source": [
    "graf_proposal(j_propose,1)"
   ]
  },
  {
   "cell_type": "code",
   "execution_count": null,
   "metadata": {},
   "outputs": [],
   "source": [
    "graf_proposal(j_propose,3)"
   ]
  },
  {
   "cell_type": "markdown",
   "metadata": {},
   "source": [
    "Analisando os valores estranhos no gráfico j_propose em t==3"
   ]
  },
  {
   "cell_type": "code",
   "execution_count": null,
   "metadata": {
    "scrolled": false
   },
   "outputs": [],
   "source": [
    "# show(stdout, \"text/plain\", Pjt_array[3, 40, 30:50, :])\n"
   ]
  },
  {
   "cell_type": "code",
   "execution_count": null,
   "metadata": {},
   "outputs": [],
   "source": [
    "# U[3, 10]"
   ]
  },
  {
   "cell_type": "code",
   "execution_count": null,
   "metadata": {},
   "outputs": [],
   "source": [
    "# s_W[4, 10, 10, 10]"
   ]
  },
  {
   "cell_type": "code",
   "execution_count": null,
   "metadata": {},
   "outputs": [],
   "source": [
    "function dot_U(t, hkt, grid, U, pkt, pmf)\n",
    "    \n",
    "    #calculates the dot product between U and pmf\n",
    "    payoff=0.0\n",
    "    @inbounds for i in hkt:grid\n",
    "        payoff+= (U[t, i] - pkt) * pmf[hkt, i]\n",
    "    end\n",
    "    return payoff\n",
    "end"
   ]
  },
  {
   "cell_type": "code",
   "execution_count": null,
   "metadata": {},
   "outputs": [],
   "source": [
    "# show(stdout, \"text/plain\",U[3, 40] .*share)"
   ]
  }
 ],
 "metadata": {
  "kernelspec": {
   "display_name": "Julia 1.5.3",
   "language": "julia",
   "name": "julia-1.5"
  },
  "language_info": {
   "file_extension": ".jl",
   "mimetype": "application/julia",
   "name": "julia",
   "version": "1.5.3"
  }
 },
 "nbformat": 4,
 "nbformat_minor": 4
}
