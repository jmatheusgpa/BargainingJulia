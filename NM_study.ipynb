{
 "cells": [
  {
   "cell_type": "markdown",
   "metadata": {},
   "source": [
    "Script para replicar o algoritmo de Nelder Mead descrito por Lagarias et al 1999"
   ]
  },
  {
   "cell_type": "code",
   "execution_count": 1,
   "metadata": {},
   "outputs": [],
   "source": [
    "using Distributed"
   ]
  },
  {
   "cell_type": "code",
   "execution_count": 2,
   "metadata": {},
   "outputs": [],
   "source": [
    "nprocs = 3\n",
    "addprocs(nprocs);"
   ]
  },
  {
   "cell_type": "code",
   "execution_count": 3,
   "metadata": {},
   "outputs": [],
   "source": [
    "@everywhere using LinearAlgebra"
   ]
  },
  {
   "cell_type": "code",
   "execution_count": 4,
   "metadata": {},
   "outputs": [],
   "source": [
    "# The six-hump camelback function:\n",
    "# %  camel= @(x)(4-2.1*x(1).^2+x(1).^4/3).*x(1).^2+x(1).*x(2)+4*(x(2).^2-1).*x(2).^2;\n",
    "# %  has a doble minimun at f(-0.0898,0.7126) = f(0.0898,-0.7126) = -1.0316\n",
    "# %  this code works with it as follows:\n",
    "# %  [x0,f0]=sim_anl(camel,[0,0],[-10,-10],[10,10],400)\n",
    "# %  and we get:\n",
    "# %  x0=[-0.0897 0.7126]"
   ]
  },
  {
   "cell_type": "code",
   "execution_count": 5,
   "metadata": {},
   "outputs": [],
   "source": [
    "@everywhere function camel(x)\n",
    "    \n",
    "    return (4-2.1*x[1].^2+x[1].^4/3).*x[1].^2+x[1].*x[2]+4*(x[2].^2-1).*x[2].^2;\n",
    "end"
   ]
  },
  {
   "cell_type": "markdown",
   "metadata": {},
   "source": [
    "Parâmetros"
   ]
  },
  {
   "cell_type": "code",
   "execution_count": 6,
   "metadata": {},
   "outputs": [
    {
     "data": {
      "text/plain": [
       "0.5"
      ]
     },
     "execution_count": 6,
     "metadata": {},
     "output_type": "execute_result"
    }
   ],
   "source": [
    "r = 1 #reflection, denotado ρ\n",
    "e = 2 #expansion, denotado χ\n",
    "c = 1/2 #contraction, denotado γ\n",
    "s = 1/2 #shrinkage, denotado σ"
   ]
  },
  {
   "cell_type": "code",
   "execution_count": 72,
   "metadata": {},
   "outputs": [
    {
     "data": {
      "text/plain": [
       "camel (generic function with 1 method)"
      ]
     },
     "execution_count": 72,
     "metadata": {},
     "output_type": "execute_result"
    }
   ],
   "source": [
    "x0 = [- 0.08, 0.7]\n",
    "\n",
    "n = size(x0,1)\n",
    "\n",
    "f = camel"
   ]
  },
  {
   "cell_type": "code",
   "execution_count": 73,
   "metadata": {},
   "outputs": [
    {
     "data": {
      "text/plain": [
       "3-element Array{Int64,1}:\n",
       " 2\n",
       " 3\n",
       " 4"
      ]
     },
     "execution_count": 73,
     "metadata": {},
     "output_type": "execute_result"
    }
   ],
   "source": [
    "pids = workers()"
   ]
  },
  {
   "cell_type": "markdown",
   "metadata": {},
   "source": [
    "Gerando simplexo inicial"
   ]
  },
  {
   "cell_type": "code",
   "execution_count": 107,
   "metadata": {},
   "outputs": [],
   "source": [
    "#cada linha tem uma possível solução e existem n+1 colunas com possíveis soluções\n",
    "x = zeros(n+1, n)\n",
    "\n",
    "#o simplexo inicial vai ser o chute inicial expandido em cada direção\n",
    "x[1,:] .= x0\n",
    "\n",
    "for i in 2:n+1\n",
    "    exp = ones(size(x0,1))\n",
    "    exp[i-1] = e\n",
    "    x[i,:] = x0 .* exp\n",
    "end\n"
   ]
  },
  {
   "cell_type": "markdown",
   "metadata": {},
   "source": [
    "Iterações"
   ]
  },
  {
   "cell_type": "code",
   "execution_count": 108,
   "metadata": {},
   "outputs": [
    {
     "data": {
      "text/plain": [
       "reflection (generic function with 1 method)"
      ]
     },
     "execution_count": 108,
     "metadata": {},
     "output_type": "execute_result"
    }
   ],
   "source": [
    "function reflection(xn, xw, n, r, f)\n",
    "    #xn é o vetor com as n melhores entradas\n",
    "    #xw é o ponto x_n+1, também conhecido aqui como x worst\n",
    "    \n",
    "    xm = transpose(sum(xn, dims = 1) )/n\n",
    "    \n",
    "    xr = xm .+ r * (xm .- xw)\n",
    "    \n",
    "    fr = f(xr)\n",
    "    \n",
    "    return xr, fr\n",
    "    \n",
    "end"
   ]
  },
  {
   "cell_type": "code",
   "execution_count": 109,
   "metadata": {},
   "outputs": [
    {
     "data": {
      "text/plain": [
       "expand (generic function with 1 method)"
      ]
     },
     "execution_count": 109,
     "metadata": {},
     "output_type": "execute_result"
    }
   ],
   "source": [
    "function expand(xn, xr, n, e, f)\n",
    "    \n",
    "    xm = transpose( sum(xn, dims = 1)) /n\n",
    "    \n",
    "    xe = xm .+ e * (xr .- xm)\n",
    "    \n",
    "    fe = f(xe)\n",
    "    \n",
    "    return xe, fe\n",
    "    \n",
    "end\n",
    "    "
   ]
  },
  {
   "cell_type": "code",
   "execution_count": 110,
   "metadata": {},
   "outputs": [
    {
     "data": {
      "text/plain": [
       "outside_contraction (generic function with 1 method)"
      ]
     },
     "execution_count": 110,
     "metadata": {},
     "output_type": "execute_result"
    }
   ],
   "source": [
    "function outside_contraction(xn, xr, n, c, f)\n",
    "    \n",
    "    xm = transpose( sum(xn, dims = 1)) /n\n",
    "    \n",
    "    xc = xm .+ c * (xr .- xm)\n",
    "    \n",
    "    fc = f(xc)\n",
    "    \n",
    "    return xc, fc\n",
    "    \n",
    "end"
   ]
  },
  {
   "cell_type": "code",
   "execution_count": 111,
   "metadata": {},
   "outputs": [
    {
     "data": {
      "text/plain": [
       "inside_contraction (generic function with 1 method)"
      ]
     },
     "execution_count": 111,
     "metadata": {},
     "output_type": "execute_result"
    }
   ],
   "source": [
    "function inside_contraction(xn, xw, n, c, f)\n",
    "    \n",
    "    xm = transpose( sum(xn, dims = 1)) /n\n",
    "    \n",
    "    xcc = xm .- c * (xm - xw)\n",
    "    \n",
    "    fcc = f(xcc)\n",
    "    \n",
    "    return xcc, fcc\n",
    "    \n",
    "end"
   ]
  },
  {
   "cell_type": "code",
   "execution_count": 112,
   "metadata": {},
   "outputs": [
    {
     "data": {
      "text/plain": [
       "shrink (generic function with 1 method)"
      ]
     },
     "execution_count": 112,
     "metadata": {},
     "output_type": "execute_result"
    }
   ],
   "source": [
    "function shrink(x, n, s)\n",
    "    \n",
    "    #x precisa estar ordenado para funcionar aqui\n",
    "    x1 = x[1,:]\n",
    "    \n",
    "    xs = zeros(size(x))\n",
    "    xs[1, :] = x1\n",
    "    \n",
    "    for i in 2:n+1\n",
    "        xs[i,:] = x1 + s * (x[i,:] - x1)\n",
    "    end\n",
    "    \n",
    "    return xs\n",
    "    \n",
    "    \n",
    "end"
   ]
  },
  {
   "cell_type": "code",
   "execution_count": 113,
   "metadata": {},
   "outputs": [
    {
     "data": {
      "text/plain": [
       "evaluate (generic function with 1 method)"
      ]
     },
     "execution_count": 113,
     "metadata": {},
     "output_type": "execute_result"
    }
   ],
   "source": [
    "function evaluate(x, f, n, pids)\n",
    "    #calcula a função nos pontos e retorna os pontos de interesse\n",
    "    #f é a função que será avaliada\n",
    "    #n é a dimensão do vetor de parâmetros\n",
    "    #pids são os trabalhadores\n",
    "    \n",
    "    F = zeros(n+1)\n",
    "    \n",
    "    @sync for (i, w) in enumerate(pids)\n",
    "        @async F[i] = @fetchfrom w f(x[i,:])\n",
    "        println(w)\n",
    "    end\n",
    "    \n",
    "#     for i in 1:n+1\n",
    "#         F[i] = f(x[i,:])\n",
    "#     end\n",
    "    \n",
    "    order = sortperm(F)\n",
    "    F = F[order]\n",
    "    x = x[order, :]\n",
    "    \n",
    "    xn = x[1:n, :]\n",
    "    xw = x[n+1, :]\n",
    "    \n",
    "    f1 = F[1]\n",
    "    fn = F[n]\n",
    "    fw = F[n+1]\n",
    "    \n",
    "    \n",
    "    #retorna os pontos de interesse para o algoritmo\n",
    "    return x, xn, xw, f1, fn, fw\n",
    "    \n",
    "end\n",
    "    "
   ]
  },
  {
   "cell_type": "code",
   "execution_count": 114,
   "metadata": {},
   "outputs": [],
   "source": [
    "#criar uma função para ajustar o valor inteiro no vetor x"
   ]
  },
  {
   "cell_type": "code",
   "execution_count": 115,
   "metadata": {},
   "outputs": [],
   "source": [
    "#loop\n",
    "#x, f, n, pids, convergência, número max de observações\n",
    "#argumentos da função f"
   ]
  },
  {
   "cell_type": "code",
   "execution_count": 116,
   "metadata": {},
   "outputs": [
    {
     "data": {
      "text/plain": [
       "interation (generic function with 1 method)"
      ]
     },
     "execution_count": 116,
     "metadata": {},
     "output_type": "execute_result"
    }
   ],
   "source": [
    "#estrutura do loop\n",
    "#troquei n+1 por w, de \"worst\"\n",
    "\n",
    "function interation(x, f, n, pids)\n",
    "    #uma iteração do loop. baseado nas páginas 4 a 7 de Lagarias et al (1999)\n",
    "    \n",
    "    x, xn, xw, f1, fn, fw = evaluate(x, f, n, pids)\n",
    "\n",
    "    xr, fr = reflection(xn, xw, n, r, f)\n",
    "\n",
    "    if(f1 <= fr < fn)\n",
    "\n",
    "        #accept reflected\n",
    "        x[n+1, :] = xr\n",
    "\n",
    "        println(\"reflected, xr = $xr\")\n",
    "        x, xn, xw, f1, fn, fw = evaluate(x, f, n, pids)\n",
    "\n",
    "    elseif(fr < f1)\n",
    "\n",
    "        #(fr < f1)\n",
    "        #expand\n",
    "\n",
    "\n",
    "        xe, fe = expand(xn, xr, n, e, f)\n",
    "\n",
    "        if(fe < fr)\n",
    "\n",
    "            #aceita xe e termina a iteração\n",
    "            x[n+1, :] = xe\n",
    "\n",
    "            println(\"expanded, xe = $xe\")\n",
    "            x, xn, xw, f1, fn, fw = evaluate(x, f, n, pids)\n",
    "\n",
    "\n",
    "\n",
    "            else\n",
    "\n",
    "            #(fe >= fr)\n",
    "            #aceita xr e termina a iteração\n",
    "            x[n+1, :] = xr\n",
    "\n",
    "            println(\"reflected, xr = $xr\")\n",
    "            x, xn, xw, f1, fn, fw = evaluate(x, f, n, pids)\n",
    "\n",
    "        end\n",
    "\n",
    "\n",
    "    elseif(fr >= fn)\n",
    "\n",
    "        #outside or inside contraction\n",
    "\n",
    "        if(fn <= fr < fw)\n",
    "\n",
    "\n",
    "            #outside contraction\n",
    "            xc, fc = outside_contraction(xn, xr, n, c, f)\n",
    "\n",
    "                if(fc <= fr)\n",
    "                #aceita xc\n",
    "                x[n+1, :] = xc\n",
    "\n",
    "                println(\"outside contraction, xc = $xc\")\n",
    "                x, xn, xw, f1, fn, fw = evaluate(x, f, n, pids)\n",
    "\n",
    "                else\n",
    "\n",
    "                #(fc > fr)\n",
    "                #shrink\n",
    "                x = shrink(x, n, s)\n",
    "\n",
    "                println(\"shrinked, xs = $x\")\n",
    "                x, xn, xw, f1, fn, fw = evaluate(x, f, n, pids)\n",
    "\n",
    "                end\n",
    "\n",
    "\n",
    "\n",
    "        elseif(fr >= fw)\n",
    "            #inside contraction\n",
    "            xcc, fcc = inside_contraction(xn, xw, n, c, f)\n",
    "\n",
    "                if(fcc < fw)\n",
    "                \n",
    "\n",
    "                #aceita xcc\n",
    "                x[n+1, :] = xcc\n",
    "\n",
    "                println(\"inside contraction, xcc = $xcc\")\n",
    "                x, xn, xw, f1, fn, fw = evaluate(x, f, n, pids)\n",
    "\n",
    "                else\n",
    "                #(fcc > fw)\n",
    "                #shrink\n",
    "                x = shrink(x, n, s)\n",
    "\n",
    "                println(\"shrinked, xs = $x\")\n",
    "                x, xn, xw, f1, fn, fw = evaluate(x, f, n, pids)\n",
    "            end\n",
    "\n",
    "\n",
    "        end\n",
    "\n",
    "    end\n",
    "    \n",
    "    \n",
    "    return x, xn, xw, f1, fn, fw\n",
    "    \n",
    "    \n",
    "end"
   ]
  },
  {
   "cell_type": "code",
   "execution_count": 117,
   "metadata": {},
   "outputs": [
    {
     "data": {
      "text/plain": [
       "convergence (generic function with 1 method)"
      ]
     },
     "execution_count": 117,
     "metadata": {},
     "output_type": "execute_result"
    }
   ],
   "source": [
    "function convergence(x, n, tol)\n",
    "    #x é o vetor com parâmetros\n",
    "    #n é a dimensão\n",
    "    #tol é a tolerância, usaremos tol = 10^-6\n",
    "    \n",
    "    control = zeros(n)\n",
    "    \n",
    "    #olharemos a distância entre cada vetor e o melhor\n",
    "    for i in 2:n+1\n",
    "        control[i-1] = norm(x[1,:] - x[i,:]) < tol\n",
    "    end\n",
    "    \n",
    "    if(sum(control) == n)#se todos os vetores estiverem próximos ao melhor, converge\n",
    "        return 1\n",
    "    else\n",
    "        return 0\n",
    "    end\n",
    "    \n",
    "    \n",
    "end    "
   ]
  },
  {
   "cell_type": "code",
   "execution_count": 118,
   "metadata": {},
   "outputs": [
    {
     "data": {
      "text/plain": [
       "nm (generic function with 1 method)"
      ]
     },
     "execution_count": 118,
     "metadata": {},
     "output_type": "execute_result"
    }
   ],
   "source": [
    "function nm(x, f, n, pids, tol, maxiter)\n",
    "    \n",
    "    k = 1\n",
    "    converged = 0\n",
    "    while(converged == 0 && k < maxiter)\n",
    "        println(\"iteration $k\")\n",
    "        x, xn, xw, f1, fn, fw = interation(x, f, n, pids)\n",
    "        converged = convergence(x, n, tol)\n",
    "        \n",
    "        k+=1\n",
    "        \n",
    "    end\n",
    "    \n",
    "    return x\n",
    "    \n",
    "end"
   ]
  },
  {
   "cell_type": "code",
   "execution_count": 119,
   "metadata": {},
   "outputs": [
    {
     "name": "stdout",
     "output_type": "stream",
     "text": [
      "iteration 1\n",
      "2\n",
      "3\n",
      "4\n",
      "outside contraction, xc = [-0.13999999999999999; 0.35]\n",
      "2\n",
      "3\n",
      "4\n",
      "iteration 2\n",
      "2\n",
      "3\n",
      "4\n",
      "inside contraction, xcc = [-0.13; 0.5249999999999999]\n",
      "2\n",
      "3\n",
      "4\n",
      "iteration 3\n",
      "2\n",
      "3\n",
      "4\n",
      "inside contraction, xcc = [-0.125; 0.6124999999999999]\n",
      "2\n",
      "3\n",
      "4\n",
      "iteration 4\n",
      "2\n",
      "3\n",
      "4\n",
      "outside contraction, xc = [-0.1175; 0.7437499999999999]\n",
      "2\n",
      "3\n",
      "4\n",
      "iteration 5\n",
      "2\n",
      "3\n",
      "4\n",
      "outside contraction, xc = [-0.068125; 0.7328124999999999]\n",
      "2\n",
      "3\n",
      "4\n",
      "iteration 6\n",
      "2\n",
      "3\n",
      "4\n",
      "inside contraction, xcc = [-0.09578125; 0.7300781249999999]\n",
      "2\n",
      "3\n",
      "4\n",
      "iteration 7\n",
      "2\n",
      "3\n",
      "4\n",
      "outside contraction, xc = [-0.0977734375; 0.7061523437499999]\n",
      "2\n",
      "3\n",
      "4\n",
      "iteration 8\n",
      "2\n",
      "3\n",
      "4\n",
      "inside contraction, xcc = [-0.09233398437500001; 0.7165771484374999]\n",
      "2\n",
      "3\n",
      "4\n",
      "iteration 9\n",
      "2\n",
      "3\n",
      "4\n",
      "inside contraction, xcc = [-0.08752685546875; 0.7056823730468749]\n",
      "2\n",
      "3\n",
      "4\n",
      "iteration 10\n",
      "2\n",
      "3\n",
      "4\n",
      "reflected, xr = [-0.08208740234375; 0.7161071777343748]\n",
      "2\n",
      "3\n",
      "4\n",
      "iteration 11\n",
      "2\n",
      "3\n",
      "4\n",
      "inside contraction, xcc = [-0.0873687744140625; 0.7110122680664062]\n",
      "2\n",
      "3\n",
      "4\n",
      "iteration 12\n",
      "2\n",
      "3\n",
      "4\n",
      "outside contraction, xc = [-0.09373336791992187; 0.712638473510742]\n",
      "2\n",
      "3\n",
      "4\n",
      "iteration 13\n",
      "2\n",
      "3\n",
      "4\n",
      "inside contraction, xcc = [-0.0914425277709961; 0.7142012596130369]\n",
      "2\n",
      "3\n",
      "4\n",
      "iteration 14\n",
      "2\n",
      "3\n",
      "4\n",
      "inside contraction, xcc = [-0.09156950950622558; 0.7126226186752318]\n",
      "2\n",
      "3\n",
      "4\n",
      "iteration 15\n",
      "2\n",
      "3\n",
      "4\n",
      "inside contraction, xcc = [-0.08943739652633667; 0.7122121036052702]\n",
      "2\n",
      "3\n",
      "4\n",
      "iteration 16\n",
      "2\n",
      "3\n",
      "4\n",
      "inside contraction, xcc = [-0.09097299039363861; 0.7133093103766439]\n",
      "2\n",
      "3\n",
      "4\n",
      "iteration 17\n",
      "2\n",
      "3\n",
      "4\n",
      "reflected, xr = [-0.08884087741374971; 0.7128987953066823]\n",
      "2\n",
      "3\n",
      "4\n",
      "iteration 18\n",
      "2\n",
      "3\n",
      "4\n",
      "inside contraction, xcc = [-0.09005606368184091; 0.7129323799163101]\n",
      "2\n",
      "3\n",
      "4\n",
      "iteration 19\n",
      "2\n",
      "3\n",
      "4\n",
      "outside contraction, xc = [-0.09019965644925833; 0.712408964987844]\n",
      "2\n",
      "3\n",
      "4\n",
      "iteration 20\n",
      "2\n",
      "3\n",
      "4\n",
      "inside contraction, xcc = [-0.08978262829594315; 0.7124413880286736]\n",
      "2\n",
      "3\n",
      "4\n",
      "iteration 21\n",
      "2\n",
      "3\n",
      "4\n",
      "outside contraction, xc = [-0.08977919075870888; 0.7128258434648157]\n",
      "2\n",
      "3\n",
      "4\n",
      "iteration 22\n",
      "2\n",
      "3\n",
      "4\n",
      "inside contraction, xcc = [-0.08991848660458346; 0.7127829978315274]\n",
      "2\n",
      "3\n",
      "4\n",
      "iteration 23\n",
      "2\n",
      "3\n",
      "4\n",
      "inside contraction, xcc = [-0.08981573348879465; 0.7126229043384227]\n",
      "2\n",
      "3\n",
      "4\n",
      "iteration 24\n",
      "2\n",
      "3\n",
      "4\n",
      "reflected, xr = [-0.08995502933466923; 0.7125800587051344]\n",
      "2\n",
      "3\n",
      "4\n",
      "iteration 25\n",
      "2\n",
      "3\n",
      "4\n",
      "inside contraction, xcc = [-0.0899019340081577; 0.712692239676653]\n",
      "2\n",
      "3\n",
      "4\n",
      "iteration 26\n",
      "2\n",
      "3\n",
      "4\n",
      "outside contraction, xc = [-0.08981073595537964; 0.7126963286587396]\n",
      "2\n",
      "3\n",
      "4\n",
      "iteration 27\n",
      "2\n",
      "3\n",
      "4\n",
      "inside contraction, xcc = [-0.08985758436512242; 0.712675928087617]\n",
      "2\n",
      "3\n",
      "4\n",
      "iteration 28\n",
      "2\n",
      "3\n",
      "4\n",
      "inside contraction, xcc = [-0.08982369744116908; 0.7126728724358797]\n",
      "2\n",
      "3\n",
      "4\n",
      "iteration 29\n",
      "2\n",
      "3\n",
      "4\n",
      "inside contraction, xcc = [-0.0898281871959702; 0.7126486523000856]\n",
      "2\n",
      "3\n",
      "4\n",
      "iteration 30\n",
      "2\n",
      "3\n",
      "4\n",
      "reflected, xr = [-0.08986207411992353; 0.7126517079518229]\n",
      "2\n",
      "3\n",
      "4\n",
      "iteration 31\n",
      "2\n",
      "3\n",
      "4\n",
      "inside contraction, xcc = [-0.08985135751153464; 0.7126630541067855]\n",
      "2\n",
      "3\n",
      "4\n",
      "iteration 32\n",
      "2\n",
      "3\n",
      "4\n",
      "inside contraction, xcc = [-0.08985092323683798; 0.7126537805776292]\n",
      "2\n",
      "3\n",
      "4\n",
      "iteration 33\n",
      "2\n",
      "3\n",
      "4\n",
      "inside contraction, xcc = [-0.08983966378507827; 0.7126535348211465]\n",
      "2\n",
      "3\n",
      "4\n",
      "iteration 34\n",
      "2\n",
      "3\n",
      "4\n",
      "inside contraction, xcc = [-0.08984832551124639; 0.7126583559030867]\n",
      "2\n",
      "3\n",
      "4\n",
      "iteration 35\n",
      "2\n",
      "3\n",
      "4\n",
      "reflected, xr = [-0.08983706605948667; 0.7126581101466041]\n",
      "2\n",
      "3\n",
      "4\n"
     ]
    },
    {
     "data": {
      "text/plain": [
       "3×2 Array{Float64,2}:\n",
       " -0.0898397  0.712654\n",
       " -0.0898371  0.712658\n",
       " -0.0898483  0.712658"
      ]
     },
     "execution_count": 119,
     "metadata": {},
     "output_type": "execute_result"
    }
   ],
   "source": [
    "x_optimal = nm(x, f, n, pids, 10^-5, 1000)"
   ]
  },
  {
   "cell_type": "code",
   "execution_count": 122,
   "metadata": {},
   "outputs": [
    {
     "data": {
      "text/plain": [
       "-1.031628453315627"
      ]
     },
     "execution_count": 122,
     "metadata": {},
     "output_type": "execute_result"
    }
   ],
   "source": [
    "f(x_optimal[3,:])"
   ]
  },
  {
   "cell_type": "code",
   "execution_count": 94,
   "metadata": {},
   "outputs": [
    {
     "data": {
      "text/plain": [
       "0"
      ]
     },
     "execution_count": 94,
     "metadata": {},
     "output_type": "execute_result"
    }
   ],
   "source": [
    "convergence(x_optimal, n, 10^-5)"
   ]
  },
  {
   "cell_type": "code",
   "execution_count": 99,
   "metadata": {},
   "outputs": [],
   "source": [
    "x = x_optimal\n",
    "tol = 10^-5\n",
    "\n",
    "control = zeros(n)\n",
    "    \n",
    "#olharemos a distância entre cada vetor e o melhor\n",
    "for i in 2:n+1\n",
    "    control[i-1] = norm(x[1,:] - x[i,:]) < tol\n",
    "end"
   ]
  },
  {
   "cell_type": "code",
   "execution_count": 100,
   "metadata": {},
   "outputs": [
    {
     "data": {
      "text/plain": [
       "2-element Array{Float64,1}:\n",
       " 1.0\n",
       " 1.0"
      ]
     },
     "execution_count": 100,
     "metadata": {},
     "output_type": "execute_result"
    }
   ],
   "source": [
    "control"
   ]
  },
  {
   "cell_type": "code",
   "execution_count": null,
   "metadata": {},
   "outputs": [],
   "source": [
    "if(sum(control) == n)#se todos os vetores estiverem próximos ao melhor, converge\n",
    "    return 1\n",
    "else\n",
    "    return 0\n",
    "end\n",
    "    "
   ]
  },
  {
   "cell_type": "code",
   "execution_count": 55,
   "metadata": {},
   "outputs": [
    {
     "name": "stdout",
     "output_type": "stream",
     "text": [
      "inside contraction, xcc = [-0.08983928528020402; 0.7126567110769588]\n",
      "2\n",
      "3\n",
      "4\n",
      "(x, xn, xw, f1, fn, fw) = evaluate(x, f, n, pids) = ([-0.08984334521676443 0.7126570891934809; -0.08983928528020402 0.7126567110769588; -0.08983966378507827 0.7126535348211465], [-0.08984334521676443 0.7126570891934809; -0.08983928528020402 0.7126567110769588], [-0.08983966378507827, 0.7126535348211465], -1.0316284534800175, -1.0316284534592501, -1.03162845340773)\n"
     ]
    },
    {
     "data": {
      "text/plain": [
       "([-0.08984334521676443 0.7126570891934809; -0.08983928528020402 0.7126567110769588; -0.08983966378507827 0.7126535348211465], [-0.08984334521676443 0.7126570891934809; -0.08983928528020402 0.7126567110769588], [-0.08983966378507827, 0.7126535348211465], -1.0316284534800175, -1.0316284534592501, -1.03162845340773)"
      ]
     },
     "execution_count": 55,
     "metadata": {},
     "output_type": "execute_result"
    }
   ],
   "source": [
    "#estrutura do loop\n",
    "#troquei n+1 por w, de \"worst\"\n",
    "\n",
    "xr, fr = reflection(xn, xw, n, r, f)\n",
    "\n",
    "if(f1 <= fr < fn)\n",
    "    \n",
    "    #accept reflected\n",
    "    x[n+1, :] = xr\n",
    "    \n",
    "    println(\"reflected, xr = $xr\")\n",
    "    @show x, xn, xw, f1, fn, fw = evaluate(x, f, n, pids)\n",
    "    \n",
    "elseif(fr < f1)\n",
    "    \n",
    "    #(fr < f1)\n",
    "    #expand\n",
    "    \n",
    "    \n",
    "    xe, fe = expand(xn, xr, n, e, f)\n",
    "        \n",
    "    if(fe < fr)\n",
    "        \n",
    "        #aceita xe e termina a iteração\n",
    "        x[n+1, :] = xe\n",
    "        \n",
    "        println(\"expanded, xe = $xe\")\n",
    "        @show x, xn, xw, f1, fn, fw = evaluate(x, f, n, pids)\n",
    "        \n",
    "        \n",
    "        \n",
    "        else\n",
    "        \n",
    "        #(fe >= fr)\n",
    "        #aceita xr e termina a iteração\n",
    "        x[n+1, :] = xr\n",
    "    \n",
    "        println(\"reflected, xr = $xr\")\n",
    "        @show x, xn, xw, f1, fn, fw = evaluate(x, f, n, pids)\n",
    "        \n",
    "    end\n",
    "    \n",
    "    \n",
    "elseif(fr >= fn)\n",
    "    \n",
    "    #outside or inside contraction\n",
    "    \n",
    "    if(fn <= fr < fw)\n",
    "        \n",
    "\n",
    "        #outside contraction\n",
    "        xc, fc = outside_contraction(xn, xr, n, c, f)\n",
    "        \n",
    "            if(fc <= fr)\n",
    "            #aceita xc\n",
    "            x[n+1, :] = xc\n",
    "\n",
    "            println(\"outside contraction, xc = $xc\")\n",
    "            @show x, xn, xw, f1, fn, fw = evaluate(x, f, n, pids)\n",
    "                \n",
    "            else\n",
    "            \n",
    "            #(fc > fr)\n",
    "            #shrink\n",
    "            shrink(x, n, s)\n",
    "\n",
    "            println(\"shrinked, xs = $xs\")\n",
    "            @show x, xn, xw, f1, fn, fw = evaluate(x, f, n, pids)\n",
    "                \n",
    "            end\n",
    "            \n",
    "        \n",
    "            \n",
    "    elseif(fr >= fw)\n",
    "        #inside contraction\n",
    "        xcc, fcc = inside_contraction(xn, xw, n, c, f)\n",
    "\n",
    "            if(fcc < fw)\n",
    "            \n",
    "            #aceita xcc\n",
    "            x[n+1, :] = xcc\n",
    "\n",
    "            println(\"inside contraction, xcc = $xcc\")\n",
    "           @show x, xn, xw, f1, fn, fw = evaluate(x, f, n, pids)\n",
    "\n",
    "            else\n",
    "            #(fcc > fw)\n",
    "            #shrink\n",
    "            shrink(x, n, s)\n",
    "\n",
    "            println(\"shrinked, xs = $xs\")\n",
    "            @show x, xn, xw, f1, fn, fw = evaluate(x, f, n, pids)\n",
    "        end\n",
    "        \n",
    "        \n",
    "    end\n",
    "    \n",
    "end"
   ]
  },
  {
   "cell_type": "code",
   "execution_count": 60,
   "metadata": {},
   "outputs": [
    {
     "data": {
      "text/plain": [
       "true"
      ]
     },
     "execution_count": 60,
     "metadata": {},
     "output_type": "execute_result"
    }
   ],
   "source": [
    "#convergence control\n",
    "norm(x[1,:] - x[2,:]) < 1^-6\n"
   ]
  },
  {
   "cell_type": "code",
   "execution_count": 62,
   "metadata": {},
   "outputs": [
    {
     "data": {
      "text/plain": [
       "1-element Array{Float64,1}:\n",
       " 0.0"
      ]
     },
     "execution_count": 62,
     "metadata": {},
     "output_type": "execute_result"
    }
   ],
   "source": [
    "a = zeros(1)"
   ]
  },
  {
   "cell_type": "code",
   "execution_count": 63,
   "metadata": {},
   "outputs": [
    {
     "data": {
      "text/plain": [
       "true"
      ]
     },
     "execution_count": 63,
     "metadata": {},
     "output_type": "execute_result"
    }
   ],
   "source": [
    "a[1] = true"
   ]
  },
  {
   "cell_type": "code",
   "execution_count": 64,
   "metadata": {},
   "outputs": [
    {
     "data": {
      "text/plain": [
       "1-element Array{Float64,1}:\n",
       " 1.0"
      ]
     },
     "execution_count": 64,
     "metadata": {},
     "output_type": "execute_result"
    }
   ],
   "source": [
    "a"
   ]
  },
  {
   "cell_type": "code",
   "execution_count": 67,
   "metadata": {},
   "outputs": [
    {
     "data": {
      "text/plain": [
       "true"
      ]
     },
     "execution_count": 67,
     "metadata": {},
     "output_type": "execute_result"
    }
   ],
   "source": [
    "sum(ones(2)) == 2"
   ]
  },
  {
   "cell_type": "code",
   "execution_count": 61,
   "metadata": {},
   "outputs": [
    {
     "data": {
      "text/plain": [
       "true"
      ]
     },
     "execution_count": 61,
     "metadata": {},
     "output_type": "execute_result"
    }
   ],
   "source": [
    "norm(x[1,:] - x[3,:]) < 1^-6"
   ]
  },
  {
   "cell_type": "code",
   "execution_count": 56,
   "metadata": {},
   "outputs": [
    {
     "data": {
      "text/plain": [
       "3×2 Array{Float64,2}:\n",
       " -0.0898433  0.712657\n",
       " -0.0898393  0.712657\n",
       " -0.0898397  0.712654"
      ]
     },
     "execution_count": 56,
     "metadata": {},
     "output_type": "execute_result"
    }
   ],
   "source": [
    "x"
   ]
  },
  {
   "cell_type": "markdown",
   "metadata": {},
   "source": [
    "Próximos passos\n",
    "\n",
    "- critério de convergência\n",
    "- arredondar os valores para valores absolutos no caso dos parâmetros 5 e 6\n",
    "- paralelizar no caso de shrink?"
   ]
  }
 ],
 "metadata": {
  "kernelspec": {
   "display_name": "Julia 1.5.3",
   "language": "julia",
   "name": "julia-1.5"
  },
  "language_info": {
   "file_extension": ".jl",
   "mimetype": "application/julia",
   "name": "julia",
   "version": "1.5.3"
  }
 },
 "nbformat": 4,
 "nbformat_minor": 4
}
