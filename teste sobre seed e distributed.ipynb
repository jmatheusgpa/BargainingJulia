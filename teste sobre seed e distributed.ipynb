{
 "cells": [
  {
   "cell_type": "markdown",
   "metadata": {},
   "source": [
    "Teste para saber se usar um determinado seed faz todos os processadores gerarem os mesmos números aleatórios.\n",
    "\n",
    "Em caso positivo, preciso repensar o algoritmo de CSA que coloquei no aguia4"
   ]
  },
  {
   "cell_type": "code",
   "execution_count": 1,
   "metadata": {},
   "outputs": [
    {
     "data": {
      "text/plain": [
       "3-element Array{Int64,1}:\n",
       " 2\n",
       " 3\n",
       " 4"
      ]
     },
     "execution_count": 1,
     "metadata": {},
     "output_type": "execute_result"
    }
   ],
   "source": [
    "using Distributed\n",
    "\n",
    "nprocs = 3\n",
    "addprocs(nprocs)\n",
    "pids = workers()"
   ]
  },
  {
   "cell_type": "code",
   "execution_count": 2,
   "metadata": {},
   "outputs": [],
   "source": [
    "@everywhere using Random\n",
    "@everywhere Random.seed!(1)"
   ]
  },
  {
   "cell_type": "code",
   "execution_count": 3,
   "metadata": {},
   "outputs": [
    {
     "name": "stdout",
     "output_type": "stream",
     "text": [
      "      From worker 2:\t[0.23603334566204692, 0.34651701419196046]\n",
      "      From worker 3:\t[0.23603334566204692, 0.34651701419196046]\n",
      "      From worker 4:\t[0.23603334566204692, 0.34651701419196046]\n"
     ]
    }
   ],
   "source": [
    "for w in pids\n",
    "    @fetchfrom w println(rand(2))\n",
    "end"
   ]
  },
  {
   "cell_type": "markdown",
   "metadata": {},
   "source": [
    "Conclusão: todo processador estará gerando o mesmo número aleatório, e isso pode prejudicar o algoritmo CSA porque na verdade não estão sendo feitos chutes distintos."
   ]
  },
  {
   "cell_type": "markdown",
   "metadata": {},
   "source": [
    "### Tentando colocar um seed para cada worker"
   ]
  },
  {
   "cell_type": "code",
   "execution_count": 4,
   "metadata": {},
   "outputs": [],
   "source": [
    "for w in pids\n",
    "    @spawnat w Random.seed!(w)\n",
    "end"
   ]
  },
  {
   "cell_type": "code",
   "execution_count": 5,
   "metadata": {},
   "outputs": [
    {
     "name": "stdout",
     "output_type": "stream",
     "text": [
      "      From worker 2:\t[0.36679641243992434, 0.5238785747844117]\n",
      "      From worker 3:\t[0.8116984049958615, 0.9884323655013432]\n",
      "      From worker 4:\t[0.680079235935741, 0.8744368931121158]\n"
     ]
    }
   ],
   "source": [
    "for w in pids\n",
    "    @fetchfrom w println(rand(2))\n",
    "end"
   ]
  },
  {
   "cell_type": "markdown",
   "metadata": {},
   "source": [
    "Funcionou! Agora é só adaptar o código com os 20 processadores"
   ]
  }
 ],
 "metadata": {
  "kernelspec": {
   "display_name": "Julia 1.5.3",
   "language": "julia",
   "name": "julia-1.5"
  },
  "language_info": {
   "file_extension": ".jl",
   "mimetype": "application/julia",
   "name": "julia",
   "version": "1.5.3"
  }
 },
 "nbformat": 4,
 "nbformat_minor": 4
}
