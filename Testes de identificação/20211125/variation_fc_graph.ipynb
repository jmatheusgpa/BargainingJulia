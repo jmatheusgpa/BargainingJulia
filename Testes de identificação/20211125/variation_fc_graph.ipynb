{
 "cells": [
  {
   "cell_type": "code",
   "execution_count": 12,
   "metadata": {},
   "outputs": [],
   "source": [
    "using DelimitedFiles"
   ]
  },
  {
   "cell_type": "code",
   "execution_count": 13,
   "metadata": {},
   "outputs": [
    {
     "data": {
      "text/plain": [
       "7×3 Array{Float64,2}:\n",
       "  354.053    1073.41     20969.7\n",
       "    3.92832     6.09317     88.4913\n",
       "   33.3521     92.4266     101.119\n",
       " 1148.28     4441.64     22332.5\n",
       "    1.38707     1.38707      1.38707\n",
       "   32.6733     32.6733      32.6733\n",
       "   13.2536     54.8207     358.284"
      ]
     },
     "execution_count": 13,
     "metadata": {},
     "output_type": "execute_result"
    }
   ],
   "source": [
    "V = readdlm(\"Variation-g1.csv\", ',')"
   ]
  },
  {
   "cell_type": "code",
   "execution_count": 20,
   "metadata": {},
   "outputs": [
    {
     "name": "stdout",
     "output_type": "stream",
     "text": [
      "\\begin{tabular}{ccc}\n",
      "$355.053$ & $1074.409$ & $20970.729$\\\\\n",
      "$4.928$ & $7.093$ & $89.491$\\\\\n",
      "$34.352$ & $93.427$ & $102.119$\\\\\n",
      "$1149.282$ & $4442.638$ & $22333.459$\\\\\n",
      "$2.387$ & $2.387$ & $2.387$\\\\\n",
      "$33.673$ & $33.673$ & $33.673$\\\\\n",
      "$14.254$ & $55.821$ & $359.284$\n",
      "\\end{tabular}\n"
     ]
    }
   ],
   "source": [
    "using LatexPrint\n",
    "#somando 1 porque aí teremos a razão newcrit/crit, \n",
    "#ou seja, quantas vezes a função critério aumenta qdo modificamos os parãmetros\n",
    "tabular( round.(V, digits = 3) .+ 1)"
   ]
  },
  {
   "cell_type": "code",
   "execution_count": 25,
   "metadata": {},
   "outputs": [
    {
     "data": {
      "text/plain": [
       "7×3 Array{Float64,2}:\n",
       "  629.679     2176.71       8511.81\n",
       "   12.7601      95.5015      224.89\n",
       "   23.1239      58.6563       17.8608\n",
       " 1018.35      4673.28      38422.6\n",
       "    0.664996     0.664996      0.664996\n",
       "   25.5749      25.5749       25.5749\n",
       "   14.2204      55.1052      330.078"
      ]
     },
     "execution_count": 25,
     "metadata": {},
     "output_type": "execute_result"
    }
   ],
   "source": [
    "V_plus = readdlm(\"Variation-g1_plus.csv\", ',')"
   ]
  },
  {
   "cell_type": "code",
   "execution_count": 24,
   "metadata": {
    "scrolled": true
   },
   "outputs": [
    {
     "name": "stdout",
     "output_type": "stream",
     "text": [
      "\\begin{tabular}{ccc}\n",
      "$630.679$ & $2177.705$ & $8512.808$\\\\\n",
      "$13.76$ & $96.502$ & $225.89$\\\\\n",
      "$24.124$ & $59.656$ & $18.861$\\\\\n",
      "$1019.353$ & $4674.277$ & $38423.627$\\\\\n",
      "$1.665$ & $1.665$ & $1.665$\\\\\n",
      "$26.575$ & $26.575$ & $26.575$\\\\\n",
      "$15.22$ & $56.105$ & $331.078$\n",
      "\\end{tabular}\n"
     ]
    }
   ],
   "source": [
    "tabular( round.(V_plus, digits = 3) .+ 1)"
   ]
  }
 ],
 "metadata": {
  "kernelspec": {
   "display_name": "Julia 1.5.3",
   "language": "julia",
   "name": "julia-1.5"
  },
  "language_info": {
   "file_extension": ".jl",
   "mimetype": "application/julia",
   "name": "julia",
   "version": "1.5.3"
  }
 },
 "nbformat": 4,
 "nbformat_minor": 4
}
