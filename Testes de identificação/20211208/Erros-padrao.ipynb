{
 "cells": [
  {
   "cell_type": "markdown",
   "metadata": {},
   "source": [
    "Script para calcular os erros padrão com base na matriz de derivada calculada anteriormente"
   ]
  },
  {
   "cell_type": "code",
   "execution_count": 1,
   "metadata": {},
   "outputs": [],
   "source": [
    "using LinearAlgebra\n",
    "using DelimitedFiles"
   ]
  },
  {
   "cell_type": "markdown",
   "metadata": {},
   "source": [
    "As estimações foram feitas usando a matriz Identidade, então usaremos ela para calcular os erros-padrão"
   ]
  },
  {
   "cell_type": "code",
   "execution_count": 2,
   "metadata": {},
   "outputs": [
    {
     "data": {
      "text/plain": [
       "100"
      ]
     },
     "execution_count": 2,
     "metadata": {},
     "output_type": "execute_result"
    }
   ],
   "source": [
    "#número de simulações \n",
    "S = 100"
   ]
  },
  {
   "cell_type": "code",
   "execution_count": 3,
   "metadata": {},
   "outputs": [
    {
     "data": {
      "text/plain": [
       "9×9 Array{Float64,2}:\n",
       " 504739.0        -7.37773e5  …   5.82004e6   4.31208e6  -1.30073e6\n",
       "     -7.37773e5   1.1092e6      -8.67806e6  -6.4245e6    1.94857e6\n",
       "      5.3924e6   -8.04175e6      6.31246e7   4.677e7    -1.41587e7\n",
       "      2.23011e6  -3.32276e6      2.60853e7   1.93264e7  -5.84978e6\n",
       "      1.21021e7  -1.80194e7      1.4154e8    1.04895e8  -3.17407e7\n",
       "     -1.62709e7   2.42619e7  …  -1.90512e8  -1.41192e8   4.27353e7\n",
       "      5.82004e6  -8.67806e6      6.811e7     5.04519e7  -1.52749e7\n",
       "      4.31208e6  -6.4245e6       5.04519e7   3.7395e7   -1.13157e7\n",
       "     -1.30073e6   1.94857e6     -1.52749e7  -1.13157e7   3.42892e6"
      ]
     },
     "execution_count": 3,
     "metadata": {},
     "output_type": "execute_result"
    }
   ],
   "source": [
    "# n_moments = 9\n",
    "# W = Matrix{Int}(I, n_moments, n_moments)\n",
    "\n",
    "W = readdlm(\"WCluster.csv\", ',')"
   ]
  },
  {
   "cell_type": "code",
   "execution_count": 4,
   "metadata": {},
   "outputs": [
    {
     "data": {
      "text/plain": [
       "se (generic function with 1 method)"
      ]
     },
     "execution_count": 4,
     "metadata": {},
     "output_type": "execute_result"
    }
   ],
   "source": [
    "function se(D, W, S)\n",
    "    \n",
    "    #D is the derivative matrix\n",
    "    #W is the weighting matrix\n",
    "    #S is the number of simulations\n",
    "    \n",
    "    \n",
    "    Qs = (1 + 1/S) * inv((transpose(D) * W * D))\n",
    "    \n",
    "    \n",
    "    standard_error = sqrt.(diag(Qs))\n",
    "    \n",
    "    return standard_error\n",
    "end\n",
    "    "
   ]
  },
  {
   "cell_type": "code",
   "execution_count": 17,
   "metadata": {},
   "outputs": [
    {
     "data": {
      "text/plain": [
       "7-element Array{Float64,1}:\n",
       " 0.02820586592572377\n",
       " 1.4683906695282325\n",
       " 0.01708505218975674\n",
       " 0.03281506658024348\n",
       " 0.4849774389543136\n",
       " 0.35451855043166275\n",
       " 1.366460289251786"
      ]
     },
     "execution_count": 17,
     "metadata": {},
     "output_type": "execute_result"
    }
   ],
   "source": [
    "D = readdlm(\"D_game.csv\", ',')\n",
    "\n",
    "se_ze = se(D,W,S)"
   ]
  },
  {
   "cell_type": "code",
   "execution_count": 5,
   "metadata": {},
   "outputs": [
    {
     "data": {
      "text/plain": [
       "7-element Array{Float64,1}:\n",
       " 0.02820586584145793\n",
       " 1.4683906648801495\n",
       " 0.01708505216282926\n",
       " 0.03281506647549436\n",
       " 3.730595672497379\n",
       " 3.5451854927078963\n",
       " 1.3664602849177163"
      ]
     },
     "execution_count": 5,
     "metadata": {},
     "output_type": "execute_result"
    }
   ],
   "source": [
    "D = readdlm(\"D_game.csv\", ',')\n",
    "\n",
    "se_ze = se(D,W,S)"
   ]
  },
  {
   "cell_type": "code",
   "execution_count": 19,
   "metadata": {
    "scrolled": true
   },
   "outputs": [
    {
     "data": {
      "text/plain": [
       "7×4 Array{Float64,2}:\n",
       " 0.93   0.0282059  0.884  0.006\n",
       " 5.575  1.46839    9.835  1.046\n",
       " 0.18   0.0170851  0.044  0.00867\n",
       " 0.93   0.0328151  0.346  0.088\n",
       " 0.13   0.484977   0.28   0.036\n",
       " 0.1    0.354519   0.36   0.016\n",
       " 2.557  1.36646    4.566  0.609"
      ]
     },
     "execution_count": 19,
     "metadata": {},
     "output_type": "execute_result"
    }
   ],
   "source": [
    "param_ze = [0.93, 5.575, 0.18, 0.93, 0.13, 0.10, 2.557];\n",
    "param_dou = [0.884, 9.835, 0.044, 0.346, 0.28, 0.36, 4.566]\n",
    "se_dou = [0.006, 1.046, 0.00867, 0.088, 0.036, 0.016, 0.609 ]\n",
    "\n",
    "hcat(param_ze, se_ze, param_dou, se_dou)"
   ]
  },
  {
   "cell_type": "code",
   "execution_count": 20,
   "metadata": {},
   "outputs": [],
   "source": [
    "using LatexPrint"
   ]
  },
  {
   "cell_type": "code",
   "execution_count": 21,
   "metadata": {},
   "outputs": [
    {
     "data": {
      "text/plain": [
       "7-element Array{String,1}:\n",
       " \"Persistence of Reorganization Value\"\n",
       " \"(Inverse) Speed of Creditor Learning\"\n",
       " \"Fixed cost of going to court\"\n",
       " \"Junior's Probability of Proposing\"\n",
       " \"Senior's Initial Reorganization Skill\"\n",
       " \"Junior's Initial Reorganization Skill\"\n",
       " \"Months per Period\""
      ]
     },
     "execution_count": 21,
     "metadata": {},
     "output_type": "execute_result"
    }
   ],
   "source": [
    "param_descr = [\"Persistence of Reorganization Value\",\n",
    "\"(Inverse) Speed of Creditor Learning\",\n",
    "\"Fixed cost of going to court\",\n",
    "\"Junior's Probability of Proposing\",\n",
    "\"Senior's Initial Reorganization Skill\",\n",
    "\"Junior's Initial Reorganization Skill\",\n",
    "\"Months per Period\"]"
   ]
  },
  {
   "cell_type": "code",
   "execution_count": 22,
   "metadata": {},
   "outputs": [
    {
     "name": "stdout",
     "output_type": "stream",
     "text": [
      "\\begin{tabular}{ccc}\n",
      "$\\text{Persistence of Reorganization Value}$ & $0.93$ & $0.028$\\\\\n",
      "$\\text{(Inverse) Speed of Creditor Learning}$ & $5.575$ & $1.468$\\\\\n",
      "$\\text{Fixed cost of going to court}$ & $0.18$ & $0.017$\\\\\n",
      "$\\text{Junior's Probability of Proposing}$ & $0.93$ & $0.033$\\\\\n",
      "$\\text{Senior's Initial Reorganization Skill}$ & $0.13$ & $0.485$\\\\\n",
      "$\\text{Junior's Initial Reorganization Skill}$ & $0.1$ & $0.355$\\\\\n",
      "$\\text{Months per Period}$ & $2.557$ & $1.366$\n",
      "\\end{tabular}\n"
     ]
    }
   ],
   "source": [
    "tabular( hcat(param_descr, round.(param_ze, digits = 3), round.(se_ze, digits=3) ) )"
   ]
  },
  {
   "cell_type": "code",
   "execution_count": 8,
   "metadata": {},
   "outputs": [
    {
     "data": {
      "text/plain": [
       "7-element Array{Float64,1}:\n",
       " 0.05643327455009538\n",
       " 2.7232698067028203\n",
       " 0.01230037846759595\n",
       " 0.015535442213265608\n",
       " 0.4593101344261842\n",
       " 0.8202377383868706\n",
       " 3.1247632319367207"
      ]
     },
     "execution_count": 8,
     "metadata": {},
     "output_type": "execute_result"
    }
   ],
   "source": [
    "D = readdlm(\"D_game_2pct.csv\", ',')\n",
    "\n",
    "se_ze_2pct = se(D,W,S)"
   ]
  },
  {
   "cell_type": "code",
   "execution_count": 6,
   "metadata": {},
   "outputs": [
    {
     "data": {
      "text/plain": [
       "7-element Array{Float64,1}:\n",
       " 0.056433274726868356\n",
       " 2.723269815277233\n",
       " 0.012300378474659866\n",
       " 0.015535442258373767\n",
       " 3.533154891159503\n",
       " 8.202377408676972\n",
       " 3.124763241653586"
      ]
     },
     "execution_count": 6,
     "metadata": {},
     "output_type": "execute_result"
    }
   ],
   "source": [
    "D = readdlm(\"D_game_2pct.csv\", ',')\n",
    "\n",
    "se_ze_2pct = se(D,W,S)"
   ]
  }
 ],
 "metadata": {
  "kernelspec": {
   "display_name": "Julia 1.5.3",
   "language": "julia",
   "name": "julia-1.5"
  },
  "language_info": {
   "file_extension": ".jl",
   "mimetype": "application/julia",
   "name": "julia",
   "version": "1.5.3"
  }
 },
 "nbformat": 4,
 "nbformat_minor": 4
}
