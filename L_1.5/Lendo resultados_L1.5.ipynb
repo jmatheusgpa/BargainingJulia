{
 "cells": [
  {
   "cell_type": "code",
   "execution_count": 1,
   "metadata": {},
   "outputs": [],
   "source": [
    "using DelimitedFiles"
   ]
  },
  {
   "cell_type": "code",
   "execution_count": 2,
   "metadata": {},
   "outputs": [
    {
     "data": {
      "text/plain": [
       "ler_resultados (generic function with 1 method)"
      ]
     },
     "execution_count": 2,
     "metadata": {},
     "output_type": "execute_result"
    }
   ],
   "source": [
    "function ler_resultados(pasta, gn, dir, extension)\n",
    "    \n",
    "    \n",
    "    file = \"fvals\"\n",
    "    filename = string(dir, pasta, gn, file, extension)\n",
    "    fvals = readdlm(filename, ',')\n",
    "\n",
    "\n",
    "    file = \"gvals\"\n",
    "    filename = string(dir, pasta, gn, file, extension)\n",
    "    gvals = readdlm(filename, ',')\n",
    "\n",
    "    file = \"svals\"\n",
    "    filename = string(dir, pasta, gn, file, extension)\n",
    "    svals = readdlm(filename, ',')\n",
    "    \n",
    "    df = hcat(fvals, gvals, svals)\n",
    "    \n",
    "    return df\n",
    "    \n",
    "end\n"
   ]
  },
  {
   "cell_type": "code",
   "execution_count": 3,
   "metadata": {},
   "outputs": [
    {
     "data": {
      "text/plain": [
       "1000×8 Array{Float64,2}:\n",
       " 41776.0        0.418  14.042  0.01   0.99   27.0  54.0   9.7\n",
       " 41776.0        0.418  14.042  0.01   0.99   27.0  54.0   9.7\n",
       " 41776.0        0.418  14.042  0.01   0.99   27.0  54.0   9.7\n",
       " 25151.8        0.523   2.413  0.285  0.236  15.0  87.0   8.726\n",
       " 11137.6        0.449  14.102  0.01   0.781  10.0  53.0  10.484\n",
       " 11137.6        0.449  14.102  0.01   0.781  10.0  53.0  10.484\n",
       " 11137.6        0.449  14.102  0.01   0.781  10.0  53.0  10.484\n",
       " 11137.6        0.449  14.102  0.01   0.781  10.0  53.0  10.484\n",
       " 11137.6        0.449  14.102  0.01   0.781  10.0  53.0  10.484\n",
       "  6330.91       0.4    16.0    0.376  0.031  13.0  10.0  17.673\n",
       "  6330.91       0.4    16.0    0.376  0.031  13.0  10.0  17.673\n",
       "  6330.91       0.4    16.0    0.376  0.031  13.0  10.0  17.673\n",
       "  5363.44       0.777   4.494  0.563  0.902  21.0  47.0  23.72\n",
       "     ⋮                                        ⋮          \n",
       "  4203.18       0.93    2.532  0.15   0.978  49.0  37.0   6.594\n",
       "  4203.18       0.93    2.532  0.15   0.978  49.0  37.0   6.594\n",
       "  7669.07       0.427   6.65   0.673  0.627  10.0  38.0  18.198\n",
       "  7067.77       0.4     6.64   0.683  0.616  10.0  38.0  18.136\n",
       " 27790.3        0.4     6.615  0.69   0.659  17.0  90.0  24.0\n",
       " 12457.6        0.515  15.909  0.69   0.256  10.0  90.0   8.577\n",
       " 28604.9        0.505  15.57   0.689  0.491  10.0  90.0  20.774\n",
       " 22312.8        0.4    12.49   0.579  0.468  10.0  80.0  13.996\n",
       "     1.26145e5  0.4    12.475  0.58   0.495  14.0  80.0  17.284\n",
       " 17878.7        0.4    15.942  0.01   0.346  27.0  80.0  13.249\n",
       "     1.04336e5  0.929   6.189  0.685  0.489  30.0  90.0   7.363\n",
       "  9409.64       0.738   9.745  0.169  0.462  12.0  70.0   5.77"
      ]
     },
     "execution_count": 3,
     "metadata": {},
     "output_type": "execute_result"
    }
   ],
   "source": [
    "dir = \"C:/Arquivos/Mestrado/Dissert/_Plano de Ação/Acesso ao servidor da USP/20211204\"\n",
    "\n",
    "pasta = \"/L_1_5/\"\n",
    "extension = \".csv\"\n",
    "gn = \"g1\"\n",
    "g1 = ler_resultados(pasta, gn, dir, extension)"
   ]
  },
  {
   "cell_type": "code",
   "execution_count": 4,
   "metadata": {},
   "outputs": [
    {
     "data": {
      "text/plain": [
       "8×8 Array{Float64,2}:\n",
       " 2572.91  0.733  10.011  0.616  0.304  15.0  67.0   7.269\n",
       " 2806.84  0.736   8.838  0.617  0.287  12.0  70.0   6.588\n",
       " 2843.41  0.726  11.647  0.568  0.216  10.0  78.0   4.768\n",
       " 2960.78  0.735   9.004  0.571  0.301  12.0  70.0   6.537\n",
       " 3100.02  0.735   8.987  0.539  0.313  12.0  70.0   6.615\n",
       " 3355.26  0.93    8.375  0.642  0.819  34.0  40.0  19.315\n",
       " 3399.82  0.731  11.629  0.617  0.561  10.0  46.0  11.836\n",
       " 3495.42  0.854  16.0    0.656  0.686  24.0  55.0  14.388"
      ]
     },
     "execution_count": 4,
     "metadata": {},
     "output_type": "execute_result"
    }
   ],
   "source": [
    "function best_fvals(pasta, gn, dir, extension, k)\n",
    "    \n",
    "    #retorna os k-ésimos melhores valores da função critério\n",
    "    \n",
    "    df = ler_resultados(pasta, gn, dir, extension)\n",
    "    \n",
    "    df = unique(df, dims = 1)\n",
    "\n",
    "    index = sortperm(df[:,1])\n",
    "    df = df[index,:]\n",
    "    best = df[1:k, :]\n",
    "    \n",
    "    return best\n",
    "    \n",
    "    \n",
    "end\n",
    "\n",
    "k = 8\n",
    "g1 = best_fvals(pasta, gn, dir, extension, k)"
   ]
  },
  {
   "cell_type": "code",
   "execution_count": 5,
   "metadata": {},
   "outputs": [
    {
     "data": {
      "text/plain": [
       "8×8 Array{Float64,2}:\n",
       " 2407.54  0.792  16.0    0.571  0.325  10.0  65.0   5.82\n",
       " 2498.13  0.762   9.256  0.612  0.396  10.0  60.0   7.633\n",
       " 2541.54  0.791  16.0    0.558  0.332  10.0  65.0   5.862\n",
       " 2638.34  0.895   7.971  0.69   0.35   12.0  59.0   6.849\n",
       " 2784.7   0.788  12.788  0.558  0.335  10.0  65.0   5.831\n",
       " 2976.4   0.799  15.789  0.563  0.214  10.0  80.0   4.227\n",
       " 2980.49  0.93   15.267  0.598  0.657  10.0  44.0  14.317\n",
       " 3052.69  0.878  16.0    0.665  0.579  14.0  47.0  15.216"
      ]
     },
     "execution_count": 5,
     "metadata": {},
     "output_type": "execute_result"
    }
   ],
   "source": [
    "gn = \"g2\"\n",
    "g2 = best_fvals(pasta, gn, dir, extension, k)"
   ]
  },
  {
   "cell_type": "code",
   "execution_count": 6,
   "metadata": {},
   "outputs": [
    {
     "data": {
      "text/plain": [
       "8×8 Array{Float64,2}:\n",
       " 2365.96  0.666  16.0    0.69   0.46   10.0  48.0  10.409\n",
       " 2528.03  0.899   8.793  0.69   0.427  10.0  57.0   9.603\n",
       " 2556.46  0.681  15.558  0.681  0.482  10.0  52.0  10.484\n",
       " 2626.21  0.9     8.796  0.69   0.426  10.0  58.0   9.645\n",
       " 2657.74  0.573  15.687  0.69   0.338  10.0  59.0   6.855\n",
       " 2752.98  0.646  14.816  0.69   0.345  10.0  54.0   7.296\n",
       " 3474.02  0.593  16.0    0.673  0.353  12.0  52.0   6.984\n",
       " 3675.39  0.868   7.722  0.69   0.371  11.0  67.0   8.864"
      ]
     },
     "execution_count": 6,
     "metadata": {},
     "output_type": "execute_result"
    }
   ],
   "source": [
    "gn = \"g3\"\n",
    "g3 = best_fvals(pasta, gn, dir, extension, k)"
   ]
  },
  {
   "cell_type": "code",
   "execution_count": 7,
   "metadata": {},
   "outputs": [
    {
     "data": {
      "text/plain": [
       "8×8 Array{Float64,2}:\n",
       " 2281.1   0.913  11.546  0.69   0.367  10.0  59.0   9.27\n",
       " 2386.87  0.907  11.556  0.69   0.368  10.0  60.0   9.263\n",
       " 2426.97  0.919  11.636  0.69   0.368  10.0  59.0   9.806\n",
       " 2996.79  0.922  11.459  0.69   0.362  10.0  60.0   9.767\n",
       " 3426.92  0.638  16.0    0.523  0.299  11.0  71.0   6.096\n",
       " 3725.8   0.755   9.197  0.661  0.382  10.0  52.0   7.348\n",
       " 3777.74  0.539   4.966  0.266  0.773  10.0  40.0  18.383\n",
       " 3843.12  0.922  15.796  0.631  0.452  14.0  53.0   7.629"
      ]
     },
     "execution_count": 7,
     "metadata": {},
     "output_type": "execute_result"
    }
   ],
   "source": [
    "gn = \"g4\"\n",
    "g4 = best_fvals(pasta, gn, dir, extension, k)"
   ]
  },
  {
   "cell_type": "code",
   "execution_count": 8,
   "metadata": {},
   "outputs": [
    {
     "data": {
      "text/plain": [
       "8×8 Array{Float64,2}:\n",
       " 2222.57  0.892  12.499  0.656  0.454  10.0  53.0   9.681\n",
       " 2372.4   0.682  16.0    0.555  0.537  10.0  46.0  10.887\n",
       " 2602.8   0.754  15.815  0.69   0.645  20.0  50.0  24.0\n",
       " 2743.1   0.87    7.356  0.649  0.544  10.0  51.0  10.458\n",
       " 2758.97  0.657  12.196  0.673  0.511  10.0  51.0  11.609\n",
       " 2806.85  0.879   7.265  0.631  0.544  10.0  52.0  10.549\n",
       " 2821.19  0.682  15.641  0.681  0.26   10.0  73.0   5.209\n",
       " 3002.41  0.689  15.229  0.562  0.534  10.0  45.0  10.916"
      ]
     },
     "execution_count": 8,
     "metadata": {},
     "output_type": "execute_result"
    }
   ],
   "source": [
    "gn = \"g5\"\n",
    "g5 = best_fvals(pasta, gn, dir, extension, k)"
   ]
  },
  {
   "cell_type": "code",
   "execution_count": 9,
   "metadata": {},
   "outputs": [],
   "source": [
    "gbest = vcat(g1, g2, g3, g4)\n",
    "index = sortperm(gbest[:,1])\n",
    "gbest = gbest[index,:]\n",
    "\n",
    "gbest = gbest[1:20, :]\n",
    "\n",
    "writedlm(\"gbest_L_1_5.csv\", gbest, ',')"
   ]
  },
  {
   "cell_type": "code",
   "execution_count": 10,
   "metadata": {},
   "outputs": [
    {
     "data": {
      "text/plain": [
       "20×8 Array{Float64,2}:\n",
       " 2281.1   0.913  11.546  0.69   0.367  10.0  59.0   9.27\n",
       " 2365.96  0.666  16.0    0.69   0.46   10.0  48.0  10.409\n",
       " 2386.87  0.907  11.556  0.69   0.368  10.0  60.0   9.263\n",
       " 2407.54  0.792  16.0    0.571  0.325  10.0  65.0   5.82\n",
       " 2426.97  0.919  11.636  0.69   0.368  10.0  59.0   9.806\n",
       " 2498.13  0.762   9.256  0.612  0.396  10.0  60.0   7.633\n",
       " 2528.03  0.899   8.793  0.69   0.427  10.0  57.0   9.603\n",
       " 2541.54  0.791  16.0    0.558  0.332  10.0  65.0   5.862\n",
       " 2556.46  0.681  15.558  0.681  0.482  10.0  52.0  10.484\n",
       " 2572.91  0.733  10.011  0.616  0.304  15.0  67.0   7.269\n",
       " 2626.21  0.9     8.796  0.69   0.426  10.0  58.0   9.645\n",
       " 2638.34  0.895   7.971  0.69   0.35   12.0  59.0   6.849\n",
       " 2657.74  0.573  15.687  0.69   0.338  10.0  59.0   6.855\n",
       " 2752.98  0.646  14.816  0.69   0.345  10.0  54.0   7.296\n",
       " 2784.7   0.788  12.788  0.558  0.335  10.0  65.0   5.831\n",
       " 2806.84  0.736   8.838  0.617  0.287  12.0  70.0   6.588\n",
       " 2843.41  0.726  11.647  0.568  0.216  10.0  78.0   4.768\n",
       " 2960.78  0.735   9.004  0.571  0.301  12.0  70.0   6.537\n",
       " 2976.4   0.799  15.789  0.563  0.214  10.0  80.0   4.227\n",
       " 2980.49  0.93   15.267  0.598  0.657  10.0  44.0  14.317"
      ]
     },
     "execution_count": 10,
     "metadata": {},
     "output_type": "execute_result"
    }
   ],
   "source": [
    "gbest"
   ]
  }
 ],
 "metadata": {
  "kernelspec": {
   "display_name": "Julia 1.5.3",
   "language": "julia",
   "name": "julia-1.5"
  },
  "language_info": {
   "file_extension": ".jl",
   "mimetype": "application/julia",
   "name": "julia",
   "version": "1.5.3"
  }
 },
 "nbformat": 4,
 "nbformat_minor": 4
}
