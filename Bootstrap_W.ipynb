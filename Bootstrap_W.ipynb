{
 "cells": [
  {
   "cell_type": "markdown",
   "metadata": {},
   "source": [
    "Calculando a matriz de pesos ótima usando bootstraping"
   ]
  },
  {
   "cell_type": "markdown",
   "metadata": {},
   "source": [
    "1. Ler os dados do projeto dentro de Julia\n",
    "2. Calcular os momentos usando os dados\n",
    "3. Calcular os momentos várias vezes usando retiradas aleatórias com recomposição, para ver o quanto os momentos variam"
   ]
  },
  {
   "cell_type": "code",
   "execution_count": 1,
   "metadata": {},
   "outputs": [],
   "source": [
    "#lendo dados do projeto: trilemma_data.xlsx\n",
    "# using Pkg\n",
    "# Pkg.add(\"XLSX\")\n",
    "\n",
    "using XLSX"
   ]
  },
  {
   "cell_type": "code",
   "execution_count": 2,
   "metadata": {},
   "outputs": [],
   "source": [
    "using DataFrames"
   ]
  },
  {
   "cell_type": "code",
   "execution_count": 3,
   "metadata": {},
   "outputs": [],
   "source": [
    "using Statistics\n",
    "using Gadfly"
   ]
  },
  {
   "cell_type": "code",
   "execution_count": 4,
   "metadata": {},
   "outputs": [
    {
     "data": {
      "text/plain": [
       "240"
      ]
     },
     "execution_count": 4,
     "metadata": {},
     "output_type": "execute_result"
    }
   ],
   "source": [
    "ENV[\"COLUMNS\"] = 240 #para aumentar o número de colunas mostradas"
   ]
  },
  {
   "cell_type": "code",
   "execution_count": 5,
   "metadata": {},
   "outputs": [
    {
     "data": {
      "text/html": [
       "<table class=\"data-frame\"><thead><tr><th></th><th>processo</th><th>fil_date</th><th>data_start</th><th>plan_date</th><th>final_date</th><th>months_fil_start</th><th>months_start_plan</th><th>months_plan_final</th><th>months_fil_final</th><th>in_court</th><th>D_junior</th><th>D_labor</th><th>D_senior</th><th>R_junior</th><th>R_labor</th><th>R_senior</th><th>assets_total</th><th>assets_fixed</th></tr><tr><th></th><th>Any</th><th>Any</th><th>Any</th><th>Any</th><th>Any</th><th>Any</th><th>Any</th><th>Any</th><th>Any</th><th>Any</th><th>Any</th><th>Any</th><th>Any</th><th>Any</th><th>Any</th><th>Any</th><th>Any</th><th>Any</th></tr></thead><tbody><p>66 rows × 32 columns (omitted printing of 14 columns)</p><tr><th>1</th><td>0000547-55.2014.8.26.0291</td><td>2014-01-22</td><td>2014-01-29</td><td>2015-09-16</td><td>2018-07-12</td><td>0.233333</td><td>19.8333</td><td>34.3333</td><td>54.4</td><td>1.0</td><td>3.49201e6</td><td>1.38557e6</td><td>3.656e6</td><td>0.442533</td><td>0.941905</td><td>0.442533</td><td>2.53837e7</td><td>2.36164e7</td></tr><tr><th>2</th><td>0000731-65.2011.8.26.0695</td><td>2011-03-22</td><td>2011-04-08</td><td>2011-10-20</td><td>2017-04-20</td><td>0.566667</td><td>6.5</td><td>66.9667</td><td>74.0333</td><td>1.0</td><td>1.58332e6</td><td>9.64064e5</td><td>1.61192e5</td><td>0.81201</td><td>0.941905</td><td>0.81201</td><td>2.77487e6</td><td>1.0668e6</td></tr><tr><th>3</th><td>0003124-79.2014.8.26.0299</td><td>2014-05-28</td><td>2014-09-25</td><td>2016-07-18</td><td>2018-07-02</td><td>4.0</td><td>22.0667</td><td>23.8</td><td>49.8667</td><td>1.0</td><td>9.85081e6</td><td>1.63535e5</td><td>3.30049e6</td><td>0.36744</td><td>0.968244</td><td>0.36744</td><td>1.1296e7</td><td>3.32642e6</td></tr><tr><th>4</th><td>0006202-38.2010.8.26.0100</td><td>2010-02-12</td><td>2010-03-29</td><td>2011-01-03</td><td>2017-08-25</td><td>1.5</td><td>9.33333</td><td>80.8667</td><td>91.7</td><td>1.0</td><td>3.58351e7</td><td>1.72202e6</td><td>4.18984e5</td><td>0.535184</td><td>0.941905</td><td>0.535184</td><td>1.65361e7</td><td>1.15454e7</td></tr><tr><th>5</th><td>0011100-26.2012.8.26.0100</td><td>2012-03-06</td><td>2012-04-04</td><td>2014-05-15</td><td>2015-11-24</td><td>0.966667</td><td>25.7</td><td>18.6</td><td>45.2667</td><td>1.0</td><td>1.43452e7</td><td>0.0</td><td>1.41472e7</td><td>0.465931</td><td>0.0</td><td>0.465931</td><td>1.86502e7</td><td>5.63179e6</td></tr><tr><th>6</th><td>0014297-52.2013.8.26.0100</td><td>2013-02-07</td><td>2013-02-22</td><td>2014-07-21</td><td>2018-05-15</td><td>0.5</td><td>17.1333</td><td>46.4667</td><td>64.1</td><td>1.0</td><td>3.1438e7</td><td>1.41865e6</td><td>1.48989e7</td><td>0.396523</td><td>0.941905</td><td>0.536727</td><td>6.79508e7</td><td>1.23996e7</td></tr><tr><th>7</th><td>0016095-59.2013.8.26.0161</td><td>2013-06-17</td><td>2014-03-18</td><td>2016-06-06</td><td>2018-11-01</td><td>9.13333</td><td>27.0333</td><td>29.2667</td><td>65.4333</td><td>1.0</td><td>1.00002e7</td><td>75754.0</td><td>1.02842e5</td><td>0.814917</td><td>0.941905</td><td>0.814917</td><td>3.684e6</td><td>259066.0</td></tr><tr><th>8</th><td>0023189-81.2012.8.26.0100</td><td>2012-05-07</td><td>2012-06-22</td><td>2013-06-07</td><td>2019-01-15</td><td>1.53333</td><td>11.6667</td><td>68.2667</td><td>81.4667</td><td>1.0</td><td>4.86213e6</td><td>0.0</td><td>3.844e6</td><td>0.206332</td><td>0.0</td><td>0.206332</td><td>2.43727e6</td><td>755068.0</td></tr><tr><th>9</th><td>0025113-93.2013.8.26.0100</td><td>2013-04-03</td><td>2013-08-16</td><td>2014-09-17</td><td>2018-09-24</td><td>4.5</td><td>13.2333</td><td>48.9333</td><td>66.6667</td><td>1.0</td><td>1.07158e6</td><td>0.0</td><td>150000.0</td><td>0.448017</td><td>0.0</td><td>0.448017</td><td>299845.0</td><td>243594.0</td></tr><tr><th>10</th><td>0025535-05.2012.8.26.0100</td><td>2012-05-18</td><td>2012-09-03</td><td>2013-06-07</td><td>2015-10-08</td><td>3.6</td><td>9.23333</td><td>28.4333</td><td>41.2667</td><td>1.0</td><td>8.35837e6</td><td>3.05502e5</td><td>1.26003e6</td><td>0.726299</td><td>0.941905</td><td>0.726299</td><td>2.62484e7</td><td>812587.0</td></tr><tr><th>11</th><td>0026883-58.2012.8.26.0100</td><td>2012-05-28</td><td>2012-05-30</td><td>2014-04-23</td><td>2014-04-23</td><td>0.0666667</td><td>23.1</td><td>0.0</td><td>23.1667</td><td>1.0</td><td>3.49639e7</td><td>1.16436e7</td><td>7.81251e6</td><td>0.208349</td><td>0.941905</td><td>0.208349</td><td>1.16454e8</td><td>2.26655e7</td></tr><tr><th>12</th><td>0031706-12.2011.8.26.0100</td><td>2011-07-12</td><td>2011-08-30</td><td>2013-01-14</td><td>2017-03-13</td><td>1.63333</td><td>16.7667</td><td>50.6333</td><td>69.0333</td><td>1.0</td><td>4.88285e7</td><td>541684.0</td><td>7.02685e6</td><td>0.332966</td><td>0.941905</td><td>0.743505</td><td>7.16827e7</td><td>1.279e7</td></tr><tr><th>13</th><td>0036392-76.2013.8.26.0100</td><td>2013-05-27</td><td>2013-07-04</td><td>2014-07-03</td><td>2015-12-03</td><td>1.26667</td><td>12.1333</td><td>17.2667</td><td>30.6667</td><td>1.0</td><td>1.31804e7</td><td>213276.0</td><td>441615.0</td><td>0.419574</td><td>0.947734</td><td>0.419574</td><td>2.12593e7</td><td>464973.0</td></tr><tr><th>14</th><td>0037381-82.2013.8.26.0100</td><td>2013-06-03</td><td>2013-08-02</td><td>2015-06-02</td><td>2018-03-05</td><td>2.0</td><td>22.3</td><td>33.5667</td><td>57.8667</td><td>1.0</td><td>8.60174e7</td><td>1.47172e6</td><td>3.56249e7</td><td>0.208876</td><td>0.941905</td><td>0.208876</td><td>5.11649e7</td><td>3.36238e6</td></tr><tr><th>15</th><td>0038881-23.2012.8.26.0100</td><td>2012-08-02</td><td>2012-09-06</td><td>2013-12-13</td><td>2016-05-19</td><td>1.16667</td><td>15.4333</td><td>29.6</td><td>46.2</td><td>1.0</td><td>4.04983e6</td><td>0.0</td><td>29067.6</td><td>0.552554</td><td>0.0</td><td>0.537302</td><td>282919.0</td><td>128934.0</td></tr><tr><th>16</th><td>0040759-80.2012.8.26.0100</td><td>2012-08-13</td><td>2012-08-17</td><td>2014-08-07</td><td>2019-04-24</td><td>0.133333</td><td>24.0</td><td>57.3667</td><td>81.5</td><td>1.0</td><td>6.23264e7</td><td>4.06458e6</td><td>3.71427e7</td><td>0.435687</td><td>0.941905</td><td>0.995025</td><td>7.67627e7</td><td>3.97866e7</td></tr><tr><th>17</th><td>0047633-52.2010.8.26.0100</td><td>2010-11-25</td><td>2010-12-14</td><td>2012-01-20</td><td>2016-11-28</td><td>0.633333</td><td>13.4</td><td>59.1333</td><td>73.1667</td><td>1.0</td><td>1.58493e7</td><td>3.33707e5</td><td>2.39977e6</td><td>0.806265</td><td>0.968244</td><td>0.806265</td><td>2.82795e7</td><td>3.31912e6</td></tr><tr><th>18</th><td>0049410-04.2012.8.26.0100</td><td>2012-09-21</td><td>2012-10-19</td><td>2014-05-14</td><td>2014-05-14</td><td>0.933333</td><td>19.0667</td><td>0.0</td><td>20.0</td><td>1.0</td><td>3.24187e7</td><td>1.0339e5</td><td>3.34975e6</td><td>0.389777</td><td>0.985157</td><td>0.467732</td><td>2.97062e7</td><td>963051.0</td></tr><tr><th>19</th><td>0050926-59.2012.8.26.0100</td><td>2012-10-01</td><td>2012-10-04</td><td>2014-02-14</td><td>2016-07-12</td><td>0.1</td><td>16.6</td><td>29.3</td><td>46.0</td><td>1.0</td><td>9.92458e6</td><td>346732.0</td><td>1.1956e6</td><td>0.360493</td><td>0.941905</td><td>0.580947</td><td>2.11199e7</td><td>444084.0</td></tr><tr><th>20</th><td>0052597-54.2011.8.26.0100</td><td>2011-11-03</td><td>2011-12-13</td><td>2013-03-19</td><td>2016-02-25</td><td>1.33333</td><td>15.4</td><td>35.7667</td><td>52.5</td><td>1.0</td><td>3.33873e7</td><td>2860.0</td><td>20000.0</td><td>0.496396</td><td>0.941905</td><td>0.496396</td><td>8.89775e6</td><td>3.31661e6</td></tr><tr><th>21</th><td>0057122-11.2013.8.26.0100</td><td>2013-08-28</td><td>2013-10-09</td><td>2014-10-08</td><td>2016-03-23</td><td>1.4</td><td>12.1333</td><td>17.7333</td><td>31.2667</td><td>1.0</td><td>1.25869e6</td><td>91267.0</td><td>3.07896e6</td><td>0.555154</td><td>0.968244</td><td>0.751999</td><td>6.30519e6</td><td>3.80922e6</td></tr><tr><th>22</th><td>0057970-95.2013.8.26.0100</td><td>2013-09-02</td><td>2013-09-17</td><td>2015-02-02</td><td>2019-04-04</td><td>0.5</td><td>16.7667</td><td>50.7333</td><td>68.0</td><td>1.0</td><td>1.21831e7</td><td>4.32772e6</td><td>316500.0</td><td>0.620106</td><td>0.941905</td><td>0.620106</td><td>1.88919e7</td><td>7.85528e6</td></tr><tr><th>23</th><td>0064111-67.2012.8.26.0100</td><td>2012-11-14</td><td>2013-01-29</td><td>2014-07-30</td><td>2017-07-10</td><td>2.53333</td><td>18.2333</td><td>35.8667</td><td>56.6333</td><td>1.0</td><td>1.60199e7</td><td>3.2556e6</td><td>176530.0</td><td>0.655437</td><td>0.941905</td><td>0.449309</td><td>7.58655e7</td><td>1.34885e7</td></tr><tr><th>24</th><td>0111888-53.2009.8.26.0100</td><td>2009-02-03</td><td>2009-03-24</td><td>2010-10-06</td><td>2016-02-03</td><td>1.63333</td><td>18.7</td><td>64.8667</td><td>85.2</td><td>1.0</td><td>2.82823e7</td><td>2.52368e5</td><td>1.51566e5</td><td>0.422266</td><td>0.941905</td><td>0.422266</td><td>8.61028e7</td><td>3.05071e6</td></tr><tr><th>25</th><td>0128335-19.2009.8.26.0100</td><td>2009-03-19</td><td>2009-04-30</td><td>2010-06-17</td><td>2013-12-18</td><td>1.4</td><td>13.7667</td><td>42.6667</td><td>57.8333</td><td>1.0</td><td>1.21287e7</td><td>1.71332e6</td><td>2.03739e6</td><td>0.665932</td><td>0.968244</td><td>0.995025</td><td>4.8867e7</td><td>1.98944e7</td></tr><tr><th>26</th><td>0133085-64.2009.8.26.0100</td><td>2009-04-01</td><td>2009-05-19</td><td>2010-03-19</td><td>2018-12-04</td><td>1.6</td><td>10.1333</td><td>106.067</td><td>117.8</td><td>1.0</td><td>1.66432e7</td><td>89600.0</td><td>1.12e6</td><td>0.377744</td><td>0.995025</td><td>0.377744</td><td>1.25236e7</td><td>1.60186e6</td></tr><tr><th>27</th><td>0166925-02.2008.8.26.0100</td><td>2008-07-07</td><td>2008-08-07</td><td>2009-08-28</td><td>2014-10-03</td><td>1.03333</td><td>12.8667</td><td>62.0667</td><td>75.9667</td><td>1.0</td><td>3.51184e6</td><td>138030.0</td><td>140000.0</td><td>0.775821</td><td>0.953758</td><td>0.775821</td><td>5.7835e6</td><td>2.27378e6</td></tr><tr><th>28</th><td>0195566-97.2008.8.26.0100</td><td>2008-09-15</td><td>2008-11-10</td><td>2009-10-20</td><td>2017-02-23</td><td>1.86667</td><td>11.4667</td><td>89.4333</td><td>102.767</td><td>1.0</td><td>2.06378e7</td><td>3.27136e6</td><td>5.06453e6</td><td>0.812916</td><td>0.953758</td><td>0.812916</td><td>6.00031e7</td><td>5.04528e6</td></tr><tr><th>29</th><td>0199374-13.2008.8.26.0100</td><td>2008-09-23</td><td>2008-10-30</td><td>2009-09-09</td><td>2017-09-20</td><td>1.23333</td><td>10.4667</td><td>97.7667</td><td>109.467</td><td>1.0</td><td>6.89941e6</td><td>11642.0</td><td>1.16586e6</td><td>0.687773</td><td>0.941905</td><td>0.687773</td><td>8.34309e6</td><td>718390.0</td></tr><tr><th>30</th><td>0228439-53.2008.8.26.0100</td><td>2008-06-15</td><td>2009-01-09</td><td>2009-11-12</td><td>2016-04-19</td><td>6.93333</td><td>10.2333</td><td>78.3333</td><td>95.5</td><td>1.0</td><td>4.24744e7</td><td>9.57444e5</td><td>684573.0</td><td>0.598274</td><td>0.941905</td><td>0.598274</td><td>1.46139e7</td><td>6.41127e6</td></tr><tr><th>&vellip;</th><td>&vellip;</td><td>&vellip;</td><td>&vellip;</td><td>&vellip;</td><td>&vellip;</td><td>&vellip;</td><td>&vellip;</td><td>&vellip;</td><td>&vellip;</td><td>&vellip;</td><td>&vellip;</td><td>&vellip;</td><td>&vellip;</td><td>&vellip;</td><td>&vellip;</td><td>&vellip;</td><td>&vellip;</td><td>&vellip;</td></tr></tbody></table>"
      ],
      "text/latex": [
       "\\begin{tabular}{r|ccccccccccccccccccc}\n",
       "\t& processo & fil\\_date & data\\_start & plan\\_date & final\\_date & months\\_fil\\_start & months\\_start\\_plan & months\\_plan\\_final & months\\_fil\\_final & in\\_court & D\\_junior & D\\_labor & D\\_senior & R\\_junior & R\\_labor & R\\_senior & assets\\_total & assets\\_fixed & \\\\\n",
       "\t\\hline\n",
       "\t& Any & Any & Any & Any & Any & Any & Any & Any & Any & Any & Any & Any & Any & Any & Any & Any & Any & Any & \\\\\n",
       "\t\\hline\n",
       "\t1 & 0000547-55.2014.8.26.0291 & 2014-01-22 & 2014-01-29 & 2015-09-16 & 2018-07-12 & 0.233333 & 19.8333 & 34.3333 & 54.4 & 1.0 & 3.49201e6 & 1.38557e6 & 3.656e6 & 0.442533 & 0.941905 & 0.442533 & 2.53837e7 & 2.36164e7 & $\\dots$ \\\\\n",
       "\t2 & 0000731-65.2011.8.26.0695 & 2011-03-22 & 2011-04-08 & 2011-10-20 & 2017-04-20 & 0.566667 & 6.5 & 66.9667 & 74.0333 & 1.0 & 1.58332e6 & 9.64064e5 & 1.61192e5 & 0.81201 & 0.941905 & 0.81201 & 2.77487e6 & 1.0668e6 & $\\dots$ \\\\\n",
       "\t3 & 0003124-79.2014.8.26.0299 & 2014-05-28 & 2014-09-25 & 2016-07-18 & 2018-07-02 & 4.0 & 22.0667 & 23.8 & 49.8667 & 1.0 & 9.85081e6 & 1.63535e5 & 3.30049e6 & 0.36744 & 0.968244 & 0.36744 & 1.1296e7 & 3.32642e6 & $\\dots$ \\\\\n",
       "\t4 & 0006202-38.2010.8.26.0100 & 2010-02-12 & 2010-03-29 & 2011-01-03 & 2017-08-25 & 1.5 & 9.33333 & 80.8667 & 91.7 & 1.0 & 3.58351e7 & 1.72202e6 & 4.18984e5 & 0.535184 & 0.941905 & 0.535184 & 1.65361e7 & 1.15454e7 & $\\dots$ \\\\\n",
       "\t5 & 0011100-26.2012.8.26.0100 & 2012-03-06 & 2012-04-04 & 2014-05-15 & 2015-11-24 & 0.966667 & 25.7 & 18.6 & 45.2667 & 1.0 & 1.43452e7 & 0.0 & 1.41472e7 & 0.465931 & 0.0 & 0.465931 & 1.86502e7 & 5.63179e6 & $\\dots$ \\\\\n",
       "\t6 & 0014297-52.2013.8.26.0100 & 2013-02-07 & 2013-02-22 & 2014-07-21 & 2018-05-15 & 0.5 & 17.1333 & 46.4667 & 64.1 & 1.0 & 3.1438e7 & 1.41865e6 & 1.48989e7 & 0.396523 & 0.941905 & 0.536727 & 6.79508e7 & 1.23996e7 & $\\dots$ \\\\\n",
       "\t7 & 0016095-59.2013.8.26.0161 & 2013-06-17 & 2014-03-18 & 2016-06-06 & 2018-11-01 & 9.13333 & 27.0333 & 29.2667 & 65.4333 & 1.0 & 1.00002e7 & 75754.0 & 1.02842e5 & 0.814917 & 0.941905 & 0.814917 & 3.684e6 & 259066.0 & $\\dots$ \\\\\n",
       "\t8 & 0023189-81.2012.8.26.0100 & 2012-05-07 & 2012-06-22 & 2013-06-07 & 2019-01-15 & 1.53333 & 11.6667 & 68.2667 & 81.4667 & 1.0 & 4.86213e6 & 0.0 & 3.844e6 & 0.206332 & 0.0 & 0.206332 & 2.43727e6 & 755068.0 & $\\dots$ \\\\\n",
       "\t9 & 0025113-93.2013.8.26.0100 & 2013-04-03 & 2013-08-16 & 2014-09-17 & 2018-09-24 & 4.5 & 13.2333 & 48.9333 & 66.6667 & 1.0 & 1.07158e6 & 0.0 & 150000.0 & 0.448017 & 0.0 & 0.448017 & 299845.0 & 243594.0 & $\\dots$ \\\\\n",
       "\t10 & 0025535-05.2012.8.26.0100 & 2012-05-18 & 2012-09-03 & 2013-06-07 & 2015-10-08 & 3.6 & 9.23333 & 28.4333 & 41.2667 & 1.0 & 8.35837e6 & 3.05502e5 & 1.26003e6 & 0.726299 & 0.941905 & 0.726299 & 2.62484e7 & 812587.0 & $\\dots$ \\\\\n",
       "\t11 & 0026883-58.2012.8.26.0100 & 2012-05-28 & 2012-05-30 & 2014-04-23 & 2014-04-23 & 0.0666667 & 23.1 & 0.0 & 23.1667 & 1.0 & 3.49639e7 & 1.16436e7 & 7.81251e6 & 0.208349 & 0.941905 & 0.208349 & 1.16454e8 & 2.26655e7 & $\\dots$ \\\\\n",
       "\t12 & 0031706-12.2011.8.26.0100 & 2011-07-12 & 2011-08-30 & 2013-01-14 & 2017-03-13 & 1.63333 & 16.7667 & 50.6333 & 69.0333 & 1.0 & 4.88285e7 & 541684.0 & 7.02685e6 & 0.332966 & 0.941905 & 0.743505 & 7.16827e7 & 1.279e7 & $\\dots$ \\\\\n",
       "\t13 & 0036392-76.2013.8.26.0100 & 2013-05-27 & 2013-07-04 & 2014-07-03 & 2015-12-03 & 1.26667 & 12.1333 & 17.2667 & 30.6667 & 1.0 & 1.31804e7 & 213276.0 & 441615.0 & 0.419574 & 0.947734 & 0.419574 & 2.12593e7 & 464973.0 & $\\dots$ \\\\\n",
       "\t14 & 0037381-82.2013.8.26.0100 & 2013-06-03 & 2013-08-02 & 2015-06-02 & 2018-03-05 & 2.0 & 22.3 & 33.5667 & 57.8667 & 1.0 & 8.60174e7 & 1.47172e6 & 3.56249e7 & 0.208876 & 0.941905 & 0.208876 & 5.11649e7 & 3.36238e6 & $\\dots$ \\\\\n",
       "\t15 & 0038881-23.2012.8.26.0100 & 2012-08-02 & 2012-09-06 & 2013-12-13 & 2016-05-19 & 1.16667 & 15.4333 & 29.6 & 46.2 & 1.0 & 4.04983e6 & 0.0 & 29067.6 & 0.552554 & 0.0 & 0.537302 & 282919.0 & 128934.0 & $\\dots$ \\\\\n",
       "\t16 & 0040759-80.2012.8.26.0100 & 2012-08-13 & 2012-08-17 & 2014-08-07 & 2019-04-24 & 0.133333 & 24.0 & 57.3667 & 81.5 & 1.0 & 6.23264e7 & 4.06458e6 & 3.71427e7 & 0.435687 & 0.941905 & 0.995025 & 7.67627e7 & 3.97866e7 & $\\dots$ \\\\\n",
       "\t17 & 0047633-52.2010.8.26.0100 & 2010-11-25 & 2010-12-14 & 2012-01-20 & 2016-11-28 & 0.633333 & 13.4 & 59.1333 & 73.1667 & 1.0 & 1.58493e7 & 3.33707e5 & 2.39977e6 & 0.806265 & 0.968244 & 0.806265 & 2.82795e7 & 3.31912e6 & $\\dots$ \\\\\n",
       "\t18 & 0049410-04.2012.8.26.0100 & 2012-09-21 & 2012-10-19 & 2014-05-14 & 2014-05-14 & 0.933333 & 19.0667 & 0.0 & 20.0 & 1.0 & 3.24187e7 & 1.0339e5 & 3.34975e6 & 0.389777 & 0.985157 & 0.467732 & 2.97062e7 & 963051.0 & $\\dots$ \\\\\n",
       "\t19 & 0050926-59.2012.8.26.0100 & 2012-10-01 & 2012-10-04 & 2014-02-14 & 2016-07-12 & 0.1 & 16.6 & 29.3 & 46.0 & 1.0 & 9.92458e6 & 346732.0 & 1.1956e6 & 0.360493 & 0.941905 & 0.580947 & 2.11199e7 & 444084.0 & $\\dots$ \\\\\n",
       "\t20 & 0052597-54.2011.8.26.0100 & 2011-11-03 & 2011-12-13 & 2013-03-19 & 2016-02-25 & 1.33333 & 15.4 & 35.7667 & 52.5 & 1.0 & 3.33873e7 & 2860.0 & 20000.0 & 0.496396 & 0.941905 & 0.496396 & 8.89775e6 & 3.31661e6 & $\\dots$ \\\\\n",
       "\t21 & 0057122-11.2013.8.26.0100 & 2013-08-28 & 2013-10-09 & 2014-10-08 & 2016-03-23 & 1.4 & 12.1333 & 17.7333 & 31.2667 & 1.0 & 1.25869e6 & 91267.0 & 3.07896e6 & 0.555154 & 0.968244 & 0.751999 & 6.30519e6 & 3.80922e6 & $\\dots$ \\\\\n",
       "\t22 & 0057970-95.2013.8.26.0100 & 2013-09-02 & 2013-09-17 & 2015-02-02 & 2019-04-04 & 0.5 & 16.7667 & 50.7333 & 68.0 & 1.0 & 1.21831e7 & 4.32772e6 & 316500.0 & 0.620106 & 0.941905 & 0.620106 & 1.88919e7 & 7.85528e6 & $\\dots$ \\\\\n",
       "\t23 & 0064111-67.2012.8.26.0100 & 2012-11-14 & 2013-01-29 & 2014-07-30 & 2017-07-10 & 2.53333 & 18.2333 & 35.8667 & 56.6333 & 1.0 & 1.60199e7 & 3.2556e6 & 176530.0 & 0.655437 & 0.941905 & 0.449309 & 7.58655e7 & 1.34885e7 & $\\dots$ \\\\\n",
       "\t24 & 0111888-53.2009.8.26.0100 & 2009-02-03 & 2009-03-24 & 2010-10-06 & 2016-02-03 & 1.63333 & 18.7 & 64.8667 & 85.2 & 1.0 & 2.82823e7 & 2.52368e5 & 1.51566e5 & 0.422266 & 0.941905 & 0.422266 & 8.61028e7 & 3.05071e6 & $\\dots$ \\\\\n",
       "\t25 & 0128335-19.2009.8.26.0100 & 2009-03-19 & 2009-04-30 & 2010-06-17 & 2013-12-18 & 1.4 & 13.7667 & 42.6667 & 57.8333 & 1.0 & 1.21287e7 & 1.71332e6 & 2.03739e6 & 0.665932 & 0.968244 & 0.995025 & 4.8867e7 & 1.98944e7 & $\\dots$ \\\\\n",
       "\t26 & 0133085-64.2009.8.26.0100 & 2009-04-01 & 2009-05-19 & 2010-03-19 & 2018-12-04 & 1.6 & 10.1333 & 106.067 & 117.8 & 1.0 & 1.66432e7 & 89600.0 & 1.12e6 & 0.377744 & 0.995025 & 0.377744 & 1.25236e7 & 1.60186e6 & $\\dots$ \\\\\n",
       "\t27 & 0166925-02.2008.8.26.0100 & 2008-07-07 & 2008-08-07 & 2009-08-28 & 2014-10-03 & 1.03333 & 12.8667 & 62.0667 & 75.9667 & 1.0 & 3.51184e6 & 138030.0 & 140000.0 & 0.775821 & 0.953758 & 0.775821 & 5.7835e6 & 2.27378e6 & $\\dots$ \\\\\n",
       "\t28 & 0195566-97.2008.8.26.0100 & 2008-09-15 & 2008-11-10 & 2009-10-20 & 2017-02-23 & 1.86667 & 11.4667 & 89.4333 & 102.767 & 1.0 & 2.06378e7 & 3.27136e6 & 5.06453e6 & 0.812916 & 0.953758 & 0.812916 & 6.00031e7 & 5.04528e6 & $\\dots$ \\\\\n",
       "\t29 & 0199374-13.2008.8.26.0100 & 2008-09-23 & 2008-10-30 & 2009-09-09 & 2017-09-20 & 1.23333 & 10.4667 & 97.7667 & 109.467 & 1.0 & 6.89941e6 & 11642.0 & 1.16586e6 & 0.687773 & 0.941905 & 0.687773 & 8.34309e6 & 718390.0 & $\\dots$ \\\\\n",
       "\t30 & 0228439-53.2008.8.26.0100 & 2008-06-15 & 2009-01-09 & 2009-11-12 & 2016-04-19 & 6.93333 & 10.2333 & 78.3333 & 95.5 & 1.0 & 4.24744e7 & 9.57444e5 & 684573.0 & 0.598274 & 0.941905 & 0.598274 & 1.46139e7 & 6.41127e6 & $\\dots$ \\\\\n",
       "\t$\\dots$ & $\\dots$ & $\\dots$ & $\\dots$ & $\\dots$ & $\\dots$ & $\\dots$ & $\\dots$ & $\\dots$ & $\\dots$ & $\\dots$ & $\\dots$ & $\\dots$ & $\\dots$ & $\\dots$ & $\\dots$ & $\\dots$ & $\\dots$ & $\\dots$ &  \\\\\n",
       "\\end{tabular}\n"
      ],
      "text/plain": [
       "66×32 DataFrame. Omitted printing of 17 columns\n",
       "│ Row │ processo                  │ fil_date   │ data_start │ plan_date  │ final_date │ months_fil_start │ months_start_plan │ months_plan_final │ months_fil_final │ in_court │ D_junior  │ D_labor   │ D_senior  │ R_junior │ R_labor  │\n",
       "│     │ \u001b[90mAny\u001b[39m                       │ \u001b[90mAny\u001b[39m        │ \u001b[90mAny\u001b[39m        │ \u001b[90mAny\u001b[39m        │ \u001b[90mAny\u001b[39m        │ \u001b[90mAny\u001b[39m              │ \u001b[90mAny\u001b[39m               │ \u001b[90mAny\u001b[39m               │ \u001b[90mAny\u001b[39m              │ \u001b[90mAny\u001b[39m      │ \u001b[90mAny\u001b[39m       │ \u001b[90mAny\u001b[39m       │ \u001b[90mAny\u001b[39m       │ \u001b[90mAny\u001b[39m      │ \u001b[90mAny\u001b[39m      │\n",
       "├─────┼───────────────────────────┼────────────┼────────────┼────────────┼────────────┼──────────────────┼───────────────────┼───────────────────┼──────────────────┼──────────┼───────────┼───────────┼───────────┼──────────┼──────────┤\n",
       "│ 1   │ 0000547-55.2014.8.26.0291 │ 2014-01-22 │ 2014-01-29 │ 2015-09-16 │ 2018-07-12 │ 0.233333         │ 19.8333           │ 34.3333           │ 54.4             │ 1.0      │ 3.49201e6 │ 1.38557e6 │ 3.656e6   │ 0.442533 │ 0.941905 │\n",
       "│ 2   │ 0000731-65.2011.8.26.0695 │ 2011-03-22 │ 2011-04-08 │ 2011-10-20 │ 2017-04-20 │ 0.566667         │ 6.5               │ 66.9667           │ 74.0333          │ 1.0      │ 1.58332e6 │ 9.64064e5 │ 1.61192e5 │ 0.81201  │ 0.941905 │\n",
       "│ 3   │ 0003124-79.2014.8.26.0299 │ 2014-05-28 │ 2014-09-25 │ 2016-07-18 │ 2018-07-02 │ 4.0              │ 22.0667           │ 23.8              │ 49.8667          │ 1.0      │ 9.85081e6 │ 1.63535e5 │ 3.30049e6 │ 0.36744  │ 0.968244 │\n",
       "│ 4   │ 0006202-38.2010.8.26.0100 │ 2010-02-12 │ 2010-03-29 │ 2011-01-03 │ 2017-08-25 │ 1.5              │ 9.33333           │ 80.8667           │ 91.7             │ 1.0      │ 3.58351e7 │ 1.72202e6 │ 4.18984e5 │ 0.535184 │ 0.941905 │\n",
       "│ 5   │ 0011100-26.2012.8.26.0100 │ 2012-03-06 │ 2012-04-04 │ 2014-05-15 │ 2015-11-24 │ 0.966667         │ 25.7              │ 18.6              │ 45.2667          │ 1.0      │ 1.43452e7 │ 0.0       │ 1.41472e7 │ 0.465931 │ 0.0      │\n",
       "│ 6   │ 0014297-52.2013.8.26.0100 │ 2013-02-07 │ 2013-02-22 │ 2014-07-21 │ 2018-05-15 │ 0.5              │ 17.1333           │ 46.4667           │ 64.1             │ 1.0      │ 3.1438e7  │ 1.41865e6 │ 1.48989e7 │ 0.396523 │ 0.941905 │\n",
       "│ 7   │ 0016095-59.2013.8.26.0161 │ 2013-06-17 │ 2014-03-18 │ 2016-06-06 │ 2018-11-01 │ 9.13333          │ 27.0333           │ 29.2667           │ 65.4333          │ 1.0      │ 1.00002e7 │ 75754.0   │ 1.02842e5 │ 0.814917 │ 0.941905 │\n",
       "│ 8   │ 0023189-81.2012.8.26.0100 │ 2012-05-07 │ 2012-06-22 │ 2013-06-07 │ 2019-01-15 │ 1.53333          │ 11.6667           │ 68.2667           │ 81.4667          │ 1.0      │ 4.86213e6 │ 0.0       │ 3.844e6   │ 0.206332 │ 0.0      │\n",
       "│ 9   │ 0025113-93.2013.8.26.0100 │ 2013-04-03 │ 2013-08-16 │ 2014-09-17 │ 2018-09-24 │ 4.5              │ 13.2333           │ 48.9333           │ 66.6667          │ 1.0      │ 1.07158e6 │ 0.0       │ 150000.0  │ 0.448017 │ 0.0      │\n",
       "│ 10  │ 0025535-05.2012.8.26.0100 │ 2012-05-18 │ 2012-09-03 │ 2013-06-07 │ 2015-10-08 │ 3.6              │ 9.23333           │ 28.4333           │ 41.2667          │ 1.0      │ 8.35837e6 │ 3.05502e5 │ 1.26003e6 │ 0.726299 │ 0.941905 │\n",
       "⋮\n",
       "│ 56  │ 1085873-20.2015.8.26.0100 │ 2015-08-24 │ 2016-03-16 │ 2017-05-09 │ 2018-08-10 │ 6.83333          │ 13.9667           │ 15.2667           │ 36.0667          │ 1.0      │ 3.39584e6 │ 4085.73   │ 7.72192e5 │ 0.512246 │ 0.941905 │\n",
       "│ 57  │ 1085973-43.2013.8.26.0100 │ 2013-11-01 │ 2013-11-22 │ 2014-12-10 │ 2017-03-14 │ 0.7              │ 12.7667           │ 27.5              │ 40.9667          │ 1.0      │ 3.1628e8  │ 1.76287e7 │ 9.46264e7 │ 0.596823 │ 0.941905 │\n",
       "│ 58  │ 1093571-43.2016.8.26.0100 │ 2016-08-23 │ 2016-08-24 │ 2018-06-06 │ 2018-06-06 │ 0.0333333        │ 21.7              │ 0.0               │ 21.7333          │ 1.0      │ 5.39331e7 │ 6.40385e6 │ 7.27368e6 │ 0.298644 │ 0.941905 │\n",
       "│ 59  │ 1094025-28.2013.8.26.0100 │ 2013-11-26 │ 2014-01-30 │ 2014-11-07 │ 2017-02-09 │ 2.16667          │ 9.36667           │ 27.5              │ 39.0333          │ 1.0      │ 1.35187e7 │ 2.0442e6  │ 1.27225e6 │ 0.748413 │ 0.941905 │\n",
       "│ 60  │ 1106266-34.2013.8.26.0100 │ 2014-01-07 │ 2014-01-30 │ 2014-10-29 │ 2018-12-05 │ 0.766667         │ 9.06667           │ 49.9333           │ 59.7667          │ 1.0      │ 1.072e7   │ 737470.0  │ 466674.0  │ 0.482878 │ 0.941905 │\n",
       "│ 61  │ 4000115-91.2013.8.26.0132 │ 2013-08-14 │ 2013-09-16 │ 2015-04-15 │ 2020-01-20 │ 1.1              │ 19.2              │ 58.0333           │ 78.3333          │ 1.0      │ 3.97191e7 │ 74587.0   │ 1.64344e7 │ 0.358702 │ 0.953758 │\n",
       "│ 62  │ 4000620-71.2013.8.26.0362 │ 2013-04-26 │ 2013-05-07 │ 2015-07-07 │ 2015-07-07 │ 0.366667         │ 26.3667           │ 0.0               │ 26.7333          │ 1.0      │ 4.02089e6 │ 268610.0  │ 2.82959e6 │ 0.417389 │ 0.941905 │\n",
       "│ 63  │ 4004399-75.2013.8.26.0510 │ 2013-09-23 │ 2013-09-27 │ 2015-05-15 │ 2018-04-02 │ 0.133333         │ 19.8333           │ 35.1              │ 55.0667          │ 1.0      │ 2.94475e7 │ 306210.0  │ 4.18556e6 │ 0.34911  │ 0.875152 │\n",
       "│ 64  │ 4011896-58.2013.8.26.0602 │ 2013-09-16 │ 2013-11-14 │ 2017-10-27 │ 2018-05-24 │ 1.96667          │ 48.1              │ 6.96667           │ 57.0333          │ 1.0      │ 3.24095e6 │ 1.00179e5 │ 1.09539e6 │ 0.441475 │ 0.941905 │\n",
       "│ 65  │ 1071904-64.2017.8.26.0100 │ 0          │ 0          │ 0          │ 0          │ 0.0              │ 0.0               │ 0.0               │ 0.0              │ 0.0      │ 1.66866e9 │ 0.0       │ 4.44703e8 │ 0.805483 │ 0.0      │\n",
       "│ 66  │ 1125916-28.2017.8.26.0100 │ 0          │ 0          │ 0          │ 0          │ 0.0              │ 0.0               │ 0.0               │ 0.0              │ 0.0      │ 4.7173e5  │ 0.0       │ 3.30293e6 │ 0.308326 │ 0.0      │"
      ]
     },
     "execution_count": 5,
     "metadata": {},
     "output_type": "execute_result"
    }
   ],
   "source": [
    "df = DataFrame(XLSX.readtable(\"trilemma_data.xlsx\", \"Sheet1\")...)"
   ]
  },
  {
   "cell_type": "code",
   "execution_count": 6,
   "metadata": {},
   "outputs": [
    {
     "data": {
      "text/plain": [
       "32-element Array{Symbol,1}:\n",
       " :processo\n",
       " :fil_date\n",
       " :data_start\n",
       " :plan_date\n",
       " :final_date\n",
       " :months_fil_start\n",
       " :months_start_plan\n",
       " :months_plan_final\n",
       " :months_fil_final\n",
       " :in_court\n",
       " :D_junior\n",
       " :D_labor\n",
       " :D_senior\n",
       " ⋮\n",
       " :Vh\n",
       " :L\n",
       " :D\n",
       " :Dj_D\n",
       " :L_D\n",
       " :Vh_D\n",
       " :Reorg_incourt\n",
       " :Reorg_precourt\n",
       " :Liq_incourt\n",
       " :Liq_precourt\n",
       " :tempo_medio_agc\n",
       " :ln_n_months"
      ]
     },
     "execution_count": 6,
     "metadata": {},
     "output_type": "execute_result"
    }
   ],
   "source": [
    "names(df)"
   ]
  },
  {
   "cell_type": "code",
   "execution_count": 7,
   "metadata": {},
   "outputs": [],
   "source": [
    "INCOURT = filter(df -> df.in_court .== 1.0, df);\n",
    "PRECOURT = filter(df -> df.in_court .== 0.0, df);"
   ]
  },
  {
   "cell_type": "markdown",
   "metadata": {},
   "source": [
    "MM1: average log number of months between observed proposals, for incourt cases"
   ]
  },
  {
   "cell_type": "code",
   "execution_count": 8,
   "metadata": {},
   "outputs": [
    {
     "data": {
      "text/plain": [
       "2.1118291318473066"
      ]
     },
     "execution_count": 8,
     "metadata": {},
     "output_type": "execute_result"
    }
   ],
   "source": [
    "mm1 = mean(skipmissing(df.ln_n_months))"
   ]
  },
  {
   "cell_type": "code",
   "execution_count": 9,
   "metadata": {},
   "outputs": [],
   "source": [
    "#bootstrap momento 1\n",
    "\n",
    "#B é o número de simulações no bootstrap\n",
    "\n",
    "using Random\n",
    "\n",
    "Random.seed!(2021);"
   ]
  },
  {
   "cell_type": "code",
   "execution_count": 10,
   "metadata": {},
   "outputs": [
    {
     "name": "stdout",
     "output_type": "stream",
     "text": [
      "[0.4057963453000579, 0.06577381398805326, 0.398161853516253, 0.16381573194486343, 0.7830936283777754]\n",
      "[0.13411536438779015, 0.8831208932541377, 0.3868745381902321, 0.2421045713808192, 0.13158810652098185]\n",
      "[0.08533100886462575, 0.3300990804142949, 0.654601431594249, 0.46732767220577864, 0.88933420950256]\n",
      "[0.7052608184890443, 0.09003163507316825, 0.020824438570145487, 0.08350025383140558, 0.6347182042191846]\n",
      "[0.09670492762468053, 0.6645829247112878, 0.6192096802995823, 0.402028439021769, 0.0956702249154826]\n",
      "[0.21939508173188904, 0.6378035407654421, 0.5900120813223357, 0.9475721197828657, 0.9362741702568245]\n",
      "[0.5920906334231977, 0.8027222746910339, 0.7820831768023722, 0.3165252596417607, 0.8031765753318116]\n",
      "[0.06857678860508387, 0.7325300505981869, 0.8462650999089738, 0.3612878414286451, 0.3906443438184044]\n",
      "[0.3449633049543228, 0.09479300414958458, 0.4592302835936417, 0.271188367432212, 0.5673854431130068]\n",
      "[0.050361760620463825, 0.24285216983043645, 0.9249131340531822, 0.5928481337375051, 0.7174515207106891]\n"
     ]
    }
   ],
   "source": [
    "for i in 1:10\n",
    "    println(rand(5))\n",
    "end"
   ]
  },
  {
   "cell_type": "code",
   "execution_count": 11,
   "metadata": {},
   "outputs": [
    {
     "data": {
      "text/plain": [
       "66"
      ]
     },
     "execution_count": 11,
     "metadata": {},
     "output_type": "execute_result"
    }
   ],
   "source": [
    "size(df,1)"
   ]
  },
  {
   "cell_type": "code",
   "execution_count": 12,
   "metadata": {},
   "outputs": [
    {
     "data": {
      "text/plain": [
       "30"
      ]
     },
     "execution_count": 12,
     "metadata": {},
     "output_type": "execute_result"
    }
   ],
   "source": [
    "rand(1:66)"
   ]
  },
  {
   "cell_type": "code",
   "execution_count": 13,
   "metadata": {},
   "outputs": [
    {
     "data": {
      "text/plain": [
       "Array{Any,1}"
      ]
     },
     "execution_count": 13,
     "metadata": {},
     "output_type": "execute_result"
    }
   ],
   "source": [
    "typeof(df.ln_n_months)"
   ]
  },
  {
   "cell_type": "code",
   "execution_count": 14,
   "metadata": {},
   "outputs": [
    {
     "data": {
      "text/plain": [
       "bootstrap_mm1 (generic function with 1 method)"
      ]
     },
     "execution_count": 14,
     "metadata": {},
     "output_type": "execute_result"
    }
   ],
   "source": [
    "function bootstrap_mm1(df, B)\n",
    "    \n",
    "    #S vai ser sempre o tamanho da base de dados\n",
    "    S = size(df,1)\n",
    "    Bootstrap = zeros(B)\n",
    "    \n",
    "    \n",
    "    \n",
    "    for b in 1:B\n",
    "        \n",
    "        mm1 = Array{Any}(undef, S)\n",
    "        \n",
    "        for i in 1:S\n",
    "            mm1[i] = df.ln_n_months[rand(1:S)]\n",
    "        end\n",
    "        \n",
    "        Bootstrap[b] = mean(skipmissing(mm1))\n",
    "        \n",
    "    end\n",
    "    \n",
    "    \n",
    "    return Bootstrap\n",
    "    \n",
    "end\n"
   ]
  },
  {
   "cell_type": "code",
   "execution_count": 15,
   "metadata": {},
   "outputs": [
    {
     "data": {
      "text/plain": [
       "0.014911987746230409"
      ]
     },
     "execution_count": 15,
     "metadata": {},
     "output_type": "execute_result"
    }
   ],
   "source": [
    "B = 100000\n",
    "\n",
    "var(bootstrap_mm1(df, B))"
   ]
  },
  {
   "cell_type": "markdown",
   "metadata": {},
   "source": [
    "MM2: fraction reorganized given that the case went into court"
   ]
  },
  {
   "cell_type": "code",
   "execution_count": 16,
   "metadata": {},
   "outputs": [
    {
     "data": {
      "text/plain": [
       "0.84375"
      ]
     },
     "execution_count": 16,
     "metadata": {},
     "output_type": "execute_result"
    }
   ],
   "source": [
    "mm2 = INCOURT\n",
    "mm2 = size(filter(mm2 -> mm2.outcome_bargain .== \"reorganized\", mm2),1)/ size(mm2,1)"
   ]
  },
  {
   "cell_type": "code",
   "execution_count": 17,
   "metadata": {},
   "outputs": [
    {
     "data": {
      "text/plain": [
       "bootstrap_mm2 (generic function with 1 method)"
      ]
     },
     "execution_count": 17,
     "metadata": {},
     "output_type": "execute_result"
    }
   ],
   "source": [
    "function bootstrap_mm2(df, B)\n",
    "    \n",
    "    #S vai ser sempre o tamanho da base de dados\n",
    "    S = size(df,1)\n",
    "    Bootstrap = zeros(B)\n",
    "    \n",
    "    \n",
    "    for b in 1:B\n",
    "        \n",
    "        mm2 = Array{Any}(undef, S)\n",
    "        \n",
    "        for i in 1:S\n",
    "            mm2[i] = df.outcome_bargain[rand(1:S)]\n",
    "        end\n",
    "        \n",
    "        Bootstrap[b] = size(filter(mm2 -> mm2 .== \"reorganized\", mm2),1)/ size(mm2,1)\n",
    "        \n",
    "    end\n",
    "    \n",
    "    \n",
    "    \n",
    "    \n",
    "    return Bootstrap\n",
    "    \n",
    "end"
   ]
  },
  {
   "cell_type": "code",
   "execution_count": 18,
   "metadata": {},
   "outputs": [
    {
     "data": {
      "text/plain": [
       "0.0020692321663206867"
      ]
     },
     "execution_count": 18,
     "metadata": {},
     "output_type": "execute_result"
    }
   ],
   "source": [
    "var(bootstrap_mm2(INCOURT, B))"
   ]
  },
  {
   "cell_type": "markdown",
   "metadata": {},
   "source": [
    "MM3: avg ln duration of court cases in months"
   ]
  },
  {
   "cell_type": "code",
   "execution_count": 19,
   "metadata": {},
   "outputs": [
    {
     "data": {
      "text/plain": [
       "2.760695631787451"
      ]
     },
     "execution_count": 19,
     "metadata": {},
     "output_type": "execute_result"
    }
   ],
   "source": [
    "mm3 = mean(log.(INCOURT.months_start_plan))"
   ]
  },
  {
   "cell_type": "code",
   "execution_count": 20,
   "metadata": {
    "scrolled": true
   },
   "outputs": [
    {
     "data": {
      "text/plain": [
       "bootstrap_mm3 (generic function with 1 method)"
      ]
     },
     "execution_count": 20,
     "metadata": {},
     "output_type": "execute_result"
    }
   ],
   "source": [
    "function bootstrap_mm3(INCOURT, B)\n",
    "\n",
    "\n",
    "    S = size(INCOURT,1)\n",
    "    Bootstrap = zeros(B)\n",
    "\n",
    "    for b in 1:B\n",
    "\n",
    "        mm3 = Array{Any}(undef, S)\n",
    "\n",
    "        for i in 1:S\n",
    "            mm3[i] = INCOURT.months_start_plan[rand(1:S)]\n",
    "        end\n",
    "\n",
    "        Bootstrap[b] = mean(log.(mm3))\n",
    "\n",
    "    end\n",
    "\n",
    "    return Bootstrap\n",
    "end"
   ]
  },
  {
   "cell_type": "code",
   "execution_count": 21,
   "metadata": {},
   "outputs": [
    {
     "data": {
      "text/plain": [
       "0.0026162866222762377"
      ]
     },
     "execution_count": 21,
     "metadata": {},
     "output_type": "execute_result"
    }
   ],
   "source": [
    "B = 100000\n",
    "\n",
    "var(bootstrap_mm3(INCOURT, B))"
   ]
  },
  {
   "cell_type": "markdown",
   "metadata": {},
   "source": [
    "MM4: Fraction of cases incourt"
   ]
  },
  {
   "cell_type": "code",
   "execution_count": 22,
   "metadata": {},
   "outputs": [
    {
     "data": {
      "text/plain": [
       "0.9696969696969697"
      ]
     },
     "execution_count": 22,
     "metadata": {},
     "output_type": "execute_result"
    }
   ],
   "source": [
    "mm4 = mean(df.in_court)"
   ]
  },
  {
   "cell_type": "code",
   "execution_count": 23,
   "metadata": {},
   "outputs": [
    {
     "data": {
      "text/plain": [
       "bootstrap_mm4 (generic function with 1 method)"
      ]
     },
     "execution_count": 23,
     "metadata": {},
     "output_type": "execute_result"
    }
   ],
   "source": [
    "function bootstrap_mm4(df, B)\n",
    "    \n",
    "    #S vai ser sempre o tamanho da base de dados\n",
    "    S = size(df,1)\n",
    "    Bootstrap = zeros(B)\n",
    "    \n",
    "    for b in 1:B\n",
    "        \n",
    "        mm4 = Array{Any}(undef, S)\n",
    "        \n",
    "        for i in 1:S\n",
    "            mm4[i] = df.in_court[rand(1:S)]\n",
    "        end\n",
    "        \n",
    "        Bootstrap[b] = mean(mm4)\n",
    "        \n",
    "    end\n",
    "    \n",
    "    return Bootstrap\n",
    "    \n",
    "end"
   ]
  },
  {
   "cell_type": "code",
   "execution_count": 24,
   "metadata": {},
   "outputs": [
    {
     "data": {
      "text/plain": [
       "0.00044657718349451605"
      ]
     },
     "execution_count": 24,
     "metadata": {},
     "output_type": "execute_result"
    }
   ],
   "source": [
    "var(bootstrap_mm4(df, B))"
   ]
  },
  {
   "cell_type": "markdown",
   "metadata": {},
   "source": [
    "MM5: avg recovery rate for senior given precourt REORGANIZATION"
   ]
  },
  {
   "cell_type": "code",
   "execution_count": 25,
   "metadata": {},
   "outputs": [],
   "source": [
    "PRECOURT_REORG = filter(PRECOURT -> PRECOURT.outcome_bargain .== \"reorganized\", PRECOURT);"
   ]
  },
  {
   "cell_type": "code",
   "execution_count": 26,
   "metadata": {},
   "outputs": [
    {
     "data": {
      "text/plain": [
       "2-element Array{Any,1}:\n",
       " 0.805482736871508\n",
       " 0.441695046670649"
      ]
     },
     "execution_count": 26,
     "metadata": {},
     "output_type": "execute_result"
    }
   ],
   "source": [
    "PRECOURT_REORG.R_senior"
   ]
  },
  {
   "cell_type": "code",
   "execution_count": 27,
   "metadata": {},
   "outputs": [
    {
     "data": {
      "text/plain": [
       "0.6235888917710785"
      ]
     },
     "execution_count": 27,
     "metadata": {},
     "output_type": "execute_result"
    }
   ],
   "source": [
    "mm5 = mean(PRECOURT.R_senior)"
   ]
  },
  {
   "cell_type": "code",
   "execution_count": 28,
   "metadata": {},
   "outputs": [
    {
     "data": {
      "text/plain": [
       "bootstrap_mm5 (generic function with 1 method)"
      ]
     },
     "execution_count": 28,
     "metadata": {},
     "output_type": "execute_result"
    }
   ],
   "source": [
    "function bootstrap_mm5(PRECOURT_REORG, B)\n",
    "    \n",
    "    #S vai ser sempre o tamanho da base de dados\n",
    "    S = size(PRECOURT_REORG,1)\n",
    "    Bootstrap = zeros(B)\n",
    "    \n",
    "    \n",
    "    for b in 1:B\n",
    "        \n",
    "        mm5 = Array{Any}(undef, S)\n",
    "        \n",
    "        for i in 1:S\n",
    "            mm5[i] = PRECOURT_REORG.R_senior[rand(1:S)]\n",
    "        end\n",
    "        \n",
    "        Bootstrap[b] = mean(mm5)\n",
    "        \n",
    "    end\n",
    "    \n",
    "    \n",
    "    \n",
    "    \n",
    "    return Bootstrap\n",
    "    \n",
    "end"
   ]
  },
  {
   "cell_type": "code",
   "execution_count": 29,
   "metadata": {},
   "outputs": [
    {
     "data": {
      "text/plain": [
       "0.016592225735905203"
      ]
     },
     "execution_count": 29,
     "metadata": {},
     "output_type": "execute_result"
    }
   ],
   "source": [
    "var(bootstrap_mm5(PRECOURT_REORG, B))"
   ]
  },
  {
   "cell_type": "markdown",
   "metadata": {},
   "source": [
    "MM6: avg recovery arte for junior given precourt REORGANIZATION"
   ]
  },
  {
   "cell_type": "code",
   "execution_count": 30,
   "metadata": {},
   "outputs": [
    {
     "data": {
      "text/plain": [
       "2-element Array{Any,1}:\n",
       " 0.805482736871508\n",
       " 0.308326296593457"
      ]
     },
     "execution_count": 30,
     "metadata": {},
     "output_type": "execute_result"
    }
   ],
   "source": [
    "PRECOURT_REORG.R_junior"
   ]
  },
  {
   "cell_type": "code",
   "execution_count": 31,
   "metadata": {},
   "outputs": [
    {
     "data": {
      "text/plain": [
       "0.5569045167324824"
      ]
     },
     "execution_count": 31,
     "metadata": {},
     "output_type": "execute_result"
    }
   ],
   "source": [
    "mm6 = mean(PRECOURT_REORG.R_junior)"
   ]
  },
  {
   "cell_type": "code",
   "execution_count": 32,
   "metadata": {},
   "outputs": [
    {
     "data": {
      "text/plain": [
       "bootstrap_mm6 (generic function with 1 method)"
      ]
     },
     "execution_count": 32,
     "metadata": {},
     "output_type": "execute_result"
    }
   ],
   "source": [
    "function bootstrap_mm6(PRECOURT_REORG, B)\n",
    "    \n",
    "    #S vai ser sempre o tamanho da base de dados\n",
    "    S = size(PRECOURT_REORG,1)\n",
    "    Bootstrap = zeros(B)\n",
    "    \n",
    "    for b in 1:B\n",
    "        \n",
    "        mm6 = Array{Any}(undef, S)\n",
    "        \n",
    "        for i in 1:S\n",
    "            mm6[i] = PRECOURT_REORG.R_junior[rand(1:S)]\n",
    "        end\n",
    "        \n",
    "        Bootstrap[b] = mean(mm6)\n",
    "        \n",
    "    end\n",
    "    \n",
    "    return Bootstrap\n",
    "    \n",
    "end"
   ]
  },
  {
   "cell_type": "code",
   "execution_count": 33,
   "metadata": {},
   "outputs": [
    {
     "data": {
      "text/plain": [
       "0.03091502566019953"
      ]
     },
     "execution_count": 33,
     "metadata": {},
     "output_type": "execute_result"
    }
   ],
   "source": [
    "var(bootstrap_mm6(PRECOURT_REORG, B))"
   ]
  },
  {
   "cell_type": "markdown",
   "metadata": {},
   "source": [
    "MM7: junior creditor’s average fraction gain, conditional on an in-court reorganization"
   ]
  },
  {
   "cell_type": "code",
   "execution_count": 34,
   "metadata": {},
   "outputs": [],
   "source": [
    "INCOURT_REORG = filter(INCOURT -> INCOURT.outcome_bargain .== \"reorganized\", INCOURT);"
   ]
  },
  {
   "cell_type": "code",
   "execution_count": 35,
   "metadata": {},
   "outputs": [],
   "source": [
    "INCOURT_REORG.payoff_j = INCOURT_REORG.R_junior .* INCOURT_REORG.D_junior;\n",
    "INCOURT_REORG.payoff_s = INCOURT_REORG.R_senior .* INCOURT_REORG.D_senior;"
   ]
  },
  {
   "cell_type": "code",
   "execution_count": 36,
   "metadata": {},
   "outputs": [
    {
     "data": {
      "text/plain": [
       "0.7733661464016862"
      ]
     },
     "execution_count": 36,
     "metadata": {},
     "output_type": "execute_result"
    }
   ],
   "source": [
    "mm7 = INCOURT_REORG\n",
    "mm7 = mean(mm7.payoff_j ./ (mm7.payoff_j .+ mm7.payoff_s ))"
   ]
  },
  {
   "cell_type": "code",
   "execution_count": 37,
   "metadata": {},
   "outputs": [
    {
     "data": {
      "text/plain": [
       "bootstrap_mm7 (generic function with 1 method)"
      ]
     },
     "execution_count": 37,
     "metadata": {},
     "output_type": "execute_result"
    }
   ],
   "source": [
    "function bootstrap_mm7(INCOURT_REORG, B)\n",
    "    \n",
    "    #S vai ser sempre o tamanho da base de dados\n",
    "    S = size(INCOURT_REORG,1)\n",
    "    Bootstrap = zeros(B)\n",
    "    \n",
    "    for b in 1:B\n",
    "        \n",
    "        mm7 = Array{Any}(undef, S)\n",
    "        \n",
    "        for i in 1:S\n",
    "            r = rand(1:S) #salvei o número em r para selecionar as 3 colunas na mesma linha\n",
    "            mm7[i] = INCOURT_REORG.payoff_j[r] / (INCOURT_REORG.payoff_j[r] + INCOURT_REORG.payoff_s[r])\n",
    "        end\n",
    "        \n",
    "        Bootstrap[b] = mean(mm7)\n",
    "        \n",
    "    end\n",
    "    \n",
    "    return Bootstrap\n",
    "    \n",
    "end"
   ]
  },
  {
   "cell_type": "code",
   "execution_count": 38,
   "metadata": {},
   "outputs": [
    {
     "data": {
      "text/plain": [
       "0.0009617928185223142"
      ]
     },
     "execution_count": 38,
     "metadata": {},
     "output_type": "execute_result"
    }
   ],
   "source": [
    "var(bootstrap_mm7(INCOURT_REORG, B))"
   ]
  },
  {
   "cell_type": "markdown",
   "metadata": {},
   "source": [
    "MM8: total recovery rate given incourt REORGANIZATION"
   ]
  },
  {
   "cell_type": "code",
   "execution_count": 39,
   "metadata": {},
   "outputs": [
    {
     "data": {
      "text/plain": [
       "0.4977287552407836"
      ]
     },
     "execution_count": 39,
     "metadata": {},
     "output_type": "execute_result"
    }
   ],
   "source": [
    "mm8 = INCOURT_REORG\n",
    "mm8 = mean((mm8.payoff_s .+ mm8.payoff_j) ./ (mm8.D_senior .+ mm8.D_junior))"
   ]
  },
  {
   "cell_type": "code",
   "execution_count": 40,
   "metadata": {},
   "outputs": [
    {
     "data": {
      "text/plain": [
       "bootstrap_mm8 (generic function with 1 method)"
      ]
     },
     "execution_count": 40,
     "metadata": {},
     "output_type": "execute_result"
    }
   ],
   "source": [
    "function bootstrap_mm8(INCOURT_REORG, B)\n",
    "    \n",
    "    #S vai ser sempre o tamanho da base de dados\n",
    "    S = size(INCOURT_REORG,1)\n",
    "    Bootstrap = zeros(B)\n",
    "    \n",
    "    for b in 1:B\n",
    "        \n",
    "        mm8 = Array{Any}(undef, S)\n",
    "        \n",
    "        for i in 1:S\n",
    "            r = rand(1:S)\n",
    "            mm8[i] = (INCOURT_REORG.payoff_j[r] + INCOURT_REORG.payoff_s[r]) / (INCOURT_REORG.D_senior[r] + INCOURT_REORG.D_junior[r])\n",
    "        end\n",
    "        \n",
    "        Bootstrap[b] = mean(mm8)\n",
    "        \n",
    "    end\n",
    "    \n",
    "    return Bootstrap\n",
    "    \n",
    "end"
   ]
  },
  {
   "cell_type": "code",
   "execution_count": 41,
   "metadata": {},
   "outputs": [
    {
     "data": {
      "text/plain": [
       "0.0006774004583424037"
      ]
     },
     "execution_count": 41,
     "metadata": {},
     "output_type": "execute_result"
    }
   ],
   "source": [
    "var(bootstrap_mm8(INCOURT_REORG, B))"
   ]
  },
  {
   "cell_type": "markdown",
   "metadata": {},
   "source": [
    "MM9: slope coefficient of a regression of the log total recovery rate given incourt reorganization on case duration"
   ]
  },
  {
   "cell_type": "code",
   "execution_count": 45,
   "metadata": {},
   "outputs": [
    {
     "data": {
      "text/plain": [
       "54×2 Array{Float64,2}:\n",
       " 1.0  -0.815239\n",
       " 1.0  -0.208243\n",
       " 1.0  -1.0012\n",
       " 1.0  -0.625145\n",
       " 1.0  -0.763717\n",
       " 1.0  -0.817344\n",
       " 1.0  -0.204669\n",
       " 1.0  -1.57827\n",
       " 1.0  -0.802925\n",
       " 1.0  -0.319793\n",
       " 1.0  -0.955516\n",
       " 1.0  -0.868515\n",
       " 1.0  -1.56602\n",
       " ⋮    \n",
       " 1.0  -0.00498754\n",
       " 1.0  -0.447523\n",
       " 1.0  -1.06303\n",
       " 1.0  -0.303923\n",
       " 1.0  -1.19345\n",
       " 1.0  -0.668951\n",
       " 1.0  -0.516135\n",
       " 1.0  -0.315944\n",
       " 1.0  -0.727992\n",
       " 1.0  -0.996418\n",
       " 1.0  -1.04896\n",
       " 1.0  -0.817633"
      ]
     },
     "execution_count": 45,
     "metadata": {},
     "output_type": "execute_result"
    }
   ],
   "source": [
    "mm9 = INCOURT_REORG\n",
    "x = log.((mm9.payoff_s .+ mm9.payoff_j) ./ (mm9.D_senior .+ mm9.D_junior))\n",
    "X = [ones(size(x,1)) x]"
   ]
  },
  {
   "cell_type": "code",
   "execution_count": 48,
   "metadata": {},
   "outputs": [
    {
     "data": {
      "text/plain": [
       "54-element Array{Float64,1}:\n",
       " 2.987364023883473\n",
       " 1.8718021769015913\n",
       " 3.094068174274854\n",
       " 2.233592221507094\n",
       " 3.246490991901174\n",
       " 2.841025883793008\n",
       " 3.2970706724532564\n",
       " 2.4567357728213066\n",
       " 2.5827388990250326\n",
       " 2.2228201245251826\n",
       " 2.819392788437586\n",
       " 2.4959564859745824\n",
       " 3.104586678466073\n",
       " ⋮\n",
       " 2.272125885509337\n",
       " 2.244249515981082\n",
       " 2.445241393395566\n",
       " 2.6414354520202235\n",
       " 2.80537854506277\n",
       " 2.6366735382599846\n",
       " 2.5468376075184933\n",
       " 2.237157287671591\n",
       " 2.2046046846338423\n",
       " 2.954910279033736\n",
       " 2.987364023883473\n",
       " 3.8732821771117156"
      ]
     },
     "execution_count": 48,
     "metadata": {},
     "output_type": "execute_result"
    }
   ],
   "source": [
    "y = log.(mm9.months_start_plan)"
   ]
  },
  {
   "cell_type": "code",
   "execution_count": 51,
   "metadata": {},
   "outputs": [
    {
     "data": {
      "text/plain": [
       "-0.09822867075174749"
      ]
     },
     "execution_count": 51,
     "metadata": {},
     "output_type": "execute_result"
    }
   ],
   "source": [
    "mm9 = (X' * X) \\ (X' * y)\n",
    "mm9 = mm9[2]"
   ]
  },
  {
   "cell_type": "code",
   "execution_count": 55,
   "metadata": {},
   "outputs": [],
   "source": [
    "using LinearAlgebra"
   ]
  },
  {
   "cell_type": "code",
   "execution_count": 73,
   "metadata": {},
   "outputs": [
    {
     "data": {
      "text/plain": [
       "10-element Array{Float64,1}:\n",
       " 0.0\n",
       " 0.0\n",
       " 0.0\n",
       " 0.0\n",
       " 0.0\n",
       " 0.0\n",
       " 0.0\n",
       " 0.0\n",
       " 0.0\n",
       " 0.0"
      ]
     },
     "execution_count": 73,
     "metadata": {},
     "output_type": "execute_result"
    }
   ],
   "source": [
    "a = zeros(10)"
   ]
  },
  {
   "cell_type": "code",
   "execution_count": 79,
   "metadata": {},
   "outputs": [
    {
     "data": {
      "text/plain": [
       "bootstrap_mm9 (generic function with 1 method)"
      ]
     },
     "execution_count": 79,
     "metadata": {},
     "output_type": "execute_result"
    }
   ],
   "source": [
    "function bootstrap_mm9(INCOURT_REORG, B)\n",
    "    \n",
    "    #S vai ser sempre o tamanho da base de dados\n",
    "    S = size(INCOURT_REORG,1)\n",
    "    Bootstrap = zeros(B)\n",
    "    \n",
    "    for b in 1:B\n",
    "        \n",
    "        x = Array{Float64}(undef, S)\n",
    "        y = Array{Float64}(undef, S)\n",
    "        \n",
    "        x = zeros(S)\n",
    "        y = zeros(S)\n",
    "        \n",
    "        \n",
    "        for i in 1:S\n",
    "            r = rand(1:S)\n",
    "            x[i] = log(    (INCOURT_REORG.payoff_j[r] + INCOURT_REORG.payoff_s[r]) / (INCOURT_REORG.D_senior[r] + INCOURT_REORG.D_junior[r]) ) \n",
    "            y[i] = log(INCOURT_REORG.months_start_plan[r])\n",
    "        end\n",
    "        \n",
    "        X = [ones(size(x,1)) x]\n",
    "        \n",
    "        mm9 = (X' * X) \\ (X' * y)\n",
    "        mm9 = mm9[2] \n",
    "        \n",
    "        Bootstrap[b] = mm9\n",
    "        \n",
    "    end\n",
    "    \n",
    "    return Bootstrap\n",
    "    \n",
    "end"
   ]
  },
  {
   "cell_type": "code",
   "execution_count": 81,
   "metadata": {},
   "outputs": [
    {
     "data": {
      "text/plain": [
       "100000-element Array{Float64,1}:\n",
       "  0.04520364351282747\n",
       "  0.04423472561183468\n",
       "  0.09774741349138183\n",
       " -0.3455180230209685\n",
       " -0.10214372666223082\n",
       "  0.15170197470818744\n",
       "  0.039018191021012005\n",
       " -0.0772734831224661\n",
       "  0.09877702487504032\n",
       "  0.022180889801752975\n",
       "  0.002851272848129114\n",
       " -0.294689601215541\n",
       " -0.04253867179831926\n",
       "  ⋮\n",
       " -0.2989201622510334\n",
       " -0.09902244356837321\n",
       "  0.0975584126175234\n",
       "  0.13560483357624023\n",
       " -0.05846310374552311\n",
       " -0.0852890744011216\n",
       "  0.04742675447335224\n",
       " -0.2228474914368736\n",
       " -0.11006163707540317\n",
       " -0.06965414528870728\n",
       "  0.005018140075281715\n",
       " -0.1652533470443733"
      ]
     },
     "execution_count": 81,
     "metadata": {},
     "output_type": "execute_result"
    }
   ],
   "source": [
    "bootstrap_mm9(INCOURT_REORG, B)"
   ]
  },
  {
   "cell_type": "markdown",
   "metadata": {},
   "source": [
    "Criando a matriz e invertendo"
   ]
  },
  {
   "cell_type": "code",
   "execution_count": 82,
   "metadata": {},
   "outputs": [],
   "source": [
    "using LinearAlgebra\n",
    "W_hat = Matrix{Int}(I, 9, 9);"
   ]
  },
  {
   "cell_type": "code",
   "execution_count": 83,
   "metadata": {},
   "outputs": [
    {
     "data": {
      "text/plain": [
       "0.02005779282127588"
      ]
     },
     "execution_count": 83,
     "metadata": {},
     "output_type": "execute_result"
    }
   ],
   "source": [
    "B = 66 * 10000\n",
    "w1 = var(bootstrap_mm1(df, B))\n",
    "w2 = var(bootstrap_mm2(INCOURT, B))\n",
    "w3 = var(bootstrap_mm3(INCOURT, B))\n",
    "w4 = var(bootstrap_mm4(df, B))\n",
    "w5 = var(bootstrap_mm5(PRECOURT_REORG, B))\n",
    "w6 = var(bootstrap_mm6(PRECOURT_REORG, B))\n",
    "w7 = var(bootstrap_mm7(INCOURT_REORG, B))\n",
    "w8 = var(bootstrap_mm8(INCOURT_REORG, B))\n",
    "w9 = var(bootstrap_mm9(INCOURT_REORG, B))"
   ]
  },
  {
   "cell_type": "code",
   "execution_count": 85,
   "metadata": {},
   "outputs": [
    {
     "data": {
      "text/plain": [
       "9-element Array{Float64,1}:\n",
       " 0.014898870803595794\n",
       " 0.002056731961170494\n",
       " 0.0026057041369018283\n",
       " 0.0004462705318302864\n",
       " 0.01654015758863799\n",
       " 0.03092649081084349\n",
       " 0.0009625950047741417\n",
       " 0.0006792048122887158\n",
       " 0.02005779282127588"
      ]
     },
     "execution_count": 85,
     "metadata": {},
     "output_type": "execute_result"
    }
   ],
   "source": [
    "weights = [w1, w2, w3, w4, w5, w6, w7, w8, w9]"
   ]
  },
  {
   "cell_type": "code",
   "execution_count": 86,
   "metadata": {},
   "outputs": [
    {
     "data": {
      "text/plain": [
       "9×9 Array{Float64,2}:\n",
       " 0.0148989  0.0         0.0        0.0          0.0        0.0        0.0          0.0          0.0\n",
       " 0.0        0.00205673  0.0        0.0          0.0        0.0        0.0          0.0          0.0\n",
       " 0.0        0.0         0.0026057  0.0          0.0        0.0        0.0          0.0          0.0\n",
       " 0.0        0.0         0.0        0.000446271  0.0        0.0        0.0          0.0          0.0\n",
       " 0.0        0.0         0.0        0.0          0.0165402  0.0        0.0          0.0          0.0\n",
       " 0.0        0.0         0.0        0.0          0.0        0.0309265  0.0          0.0          0.0\n",
       " 0.0        0.0         0.0        0.0          0.0        0.0        0.000962595  0.0          0.0\n",
       " 0.0        0.0         0.0        0.0          0.0        0.0        0.0          0.000679205  0.0\n",
       " 0.0        0.0         0.0        0.0          0.0        0.0        0.0          0.0          0.0200578"
      ]
     },
     "execution_count": 86,
     "metadata": {},
     "output_type": "execute_result"
    }
   ],
   "source": [
    "omega = W_hat .* weights"
   ]
  },
  {
   "cell_type": "code",
   "execution_count": 87,
   "metadata": {},
   "outputs": [
    {
     "data": {
      "text/plain": [
       "9×9 Array{Float64,2}:\n",
       " 67.1192    0.0      0.0       0.0    0.0      0.0        0.0      0.0    0.0\n",
       "  0.0     486.208    0.0       0.0    0.0      0.0        0.0      0.0    0.0\n",
       "  0.0       0.0    383.773     0.0    0.0      0.0        0.0      0.0    0.0\n",
       "  0.0       0.0      0.0    2240.79   0.0      0.0        0.0      0.0    0.0\n",
       "  0.0       0.0      0.0       0.0   60.4589   0.0        0.0      0.0    0.0\n",
       "  0.0       0.0      0.0       0.0    0.0     32.3347     0.0      0.0    0.0\n",
       "  0.0       0.0      0.0       0.0    0.0      0.0     1038.86     0.0    0.0\n",
       "  0.0       0.0      0.0       0.0    0.0      0.0        0.0   1472.31   0.0\n",
       "  0.0       0.0      0.0       0.0    0.0      0.0        0.0      0.0   49.8559"
      ]
     },
     "execution_count": 87,
     "metadata": {},
     "output_type": "execute_result"
    }
   ],
   "source": [
    "inv(omega)"
   ]
  }
 ],
 "metadata": {
  "kernelspec": {
   "display_name": "Julia 1.5.3",
   "language": "julia",
   "name": "julia-1.5"
  },
  "language_info": {
   "file_extension": ".jl",
   "mimetype": "application/julia",
   "name": "julia",
   "version": "1.5.3"
  }
 },
 "nbformat": 4,
 "nbformat_minor": 4
}
