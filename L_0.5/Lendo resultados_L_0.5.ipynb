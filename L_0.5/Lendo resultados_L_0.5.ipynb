{
 "cells": [
  {
   "cell_type": "code",
   "execution_count": 1,
   "metadata": {},
   "outputs": [],
   "source": [
    "using DelimitedFiles"
   ]
  },
  {
   "cell_type": "code",
   "execution_count": 2,
   "metadata": {},
   "outputs": [
    {
     "data": {
      "text/plain": [
       "ler_resultados (generic function with 1 method)"
      ]
     },
     "execution_count": 2,
     "metadata": {},
     "output_type": "execute_result"
    }
   ],
   "source": [
    "function ler_resultados(pasta, gn, dir, extension)\n",
    "    \n",
    "    \n",
    "    file = \"fvals\"\n",
    "    filename = string(dir, pasta, gn, file, extension)\n",
    "    fvals = readdlm(filename, ',')\n",
    "\n",
    "\n",
    "    file = \"gvals\"\n",
    "    filename = string(dir, pasta, gn, file, extension)\n",
    "    gvals = readdlm(filename, ',')\n",
    "\n",
    "    file = \"svals\"\n",
    "    filename = string(dir, pasta, gn, file, extension)\n",
    "    svals = readdlm(filename, ',')\n",
    "    \n",
    "    df = hcat(fvals, gvals, svals)\n",
    "    \n",
    "    return df\n",
    "    \n",
    "end\n"
   ]
  },
  {
   "cell_type": "code",
   "execution_count": 3,
   "metadata": {},
   "outputs": [
    {
     "data": {
      "text/plain": [
       "1000×8 Array{Float64,2}:\n",
       " 15116.9        0.418  14.042  0.01   0.99   67.0  38.0   8.759\n",
       " 12487.6        0.605   3.444  0.038  0.99   10.0  18.0  16.267\n",
       " 12487.6        0.605   3.444  0.038  0.99   10.0  18.0  16.267\n",
       " 12487.6        0.605   3.444  0.038  0.99   10.0  18.0  16.267\n",
       " 12487.6        0.605   3.444  0.038  0.99   10.0  18.0  16.267\n",
       " 12487.6        0.605   3.444  0.038  0.99   10.0  18.0  16.267\n",
       " 12487.6        0.605   3.444  0.038  0.99   10.0  18.0  16.267\n",
       "  7962.92       0.405   1.0    0.18   0.871  10.0  11.0  18.551\n",
       "  7962.92       0.405   1.0    0.18   0.871  10.0  11.0  18.551\n",
       "  7962.92       0.405   1.0    0.18   0.871  10.0  11.0  18.551\n",
       "  7757.74       0.4     1.0    0.18   0.951  15.0  10.0  17.864\n",
       "  7757.74       0.4     1.0    0.18   0.951  15.0  10.0  17.864\n",
       "  7757.74       0.4     1.0    0.18   0.951  15.0  10.0  17.864\n",
       "     ⋮                                        ⋮          \n",
       "  6440.41       0.739  16.0    0.072  0.161  28.0  64.0  11.766\n",
       "  5174.72       0.739  15.859  0.072  0.01   28.0  71.0  11.801\n",
       " 19092.1        0.856   7.852  0.039  0.984  10.0  42.0  17.685\n",
       " 11831.3        0.465   7.324  0.18   0.357  15.0  43.0  13.636\n",
       " 49980.2        0.809   3.52   0.031  0.761  63.0  88.0   8.78\n",
       "  5511.36       0.564   8.265  0.18   0.341  10.0  49.0  15.442\n",
       "     1.27151e5  0.4    16.0    0.01   0.423  10.0  89.0  24.0\n",
       " 15701.5        0.435  16.0    0.098  0.01   23.0  72.0  23.989\n",
       " 41154.8        0.82   12.01   0.068  0.761  26.0  29.0   7.027\n",
       "  4890.52       0.404  15.982  0.01   0.502  10.0  61.0  14.389\n",
       "  4890.52       0.404  15.982  0.01   0.502  10.0  61.0  14.389\n",
       "  4890.52       0.404  15.982  0.01   0.502  10.0  61.0  14.389"
      ]
     },
     "execution_count": 3,
     "metadata": {},
     "output_type": "execute_result"
    }
   ],
   "source": [
    "dir = \"C:/Arquivos/Mestrado/Dissert/_Plano de Ação/Acesso ao servidor da USP/20211204\"\n",
    "\n",
    "pasta = \"/L_0_5/\"\n",
    "extension = \".csv\"\n",
    "gn = \"g1\"\n",
    "g1 = ler_resultados(pasta, gn, dir, extension)"
   ]
  },
  {
   "cell_type": "code",
   "execution_count": 4,
   "metadata": {},
   "outputs": [
    {
     "data": {
      "text/plain": [
       "8×8 Array{Float64,2}:\n",
       "  583.736  0.926   9.843  0.057  0.963  17.0  10.0   2.34\n",
       "  848.99   0.93    9.941  0.057  0.962  10.0  10.0   2.303\n",
       "  898.152  0.93   10.21   0.049  0.964  17.0  10.0   2.071\n",
       "  924.377  0.93   10.157  0.05   0.964  17.0  10.0   2.121\n",
       " 1543.84   0.93    9.816  0.061  0.959  23.0  10.0   2.079\n",
       " 2364.29   0.894   9.773  0.072  0.962  22.0  10.0   2.577\n",
       " 2725.33   0.926   9.561  0.01   0.99   38.0  10.0   1.759\n",
       " 2968.2    0.675  15.752  0.18   0.704  17.0  33.0  23.959"
      ]
     },
     "execution_count": 4,
     "metadata": {},
     "output_type": "execute_result"
    }
   ],
   "source": [
    "function best_fvals(pasta, gn, dir, extension, k)\n",
    "    \n",
    "    #retorna os k-ésimos melhores valores da função critério\n",
    "    \n",
    "    df = ler_resultados(pasta, gn, dir, extension)\n",
    "    \n",
    "    df = unique(df, dims = 1)\n",
    "\n",
    "    index = sortperm(df[:,1])\n",
    "    df = df[index,:]\n",
    "    best = df[1:k, :]\n",
    "    \n",
    "    return best\n",
    "    \n",
    "    \n",
    "end\n",
    "\n",
    "k = 8\n",
    "g1 = best_fvals(pasta, gn, dir, extension, k)"
   ]
  },
  {
   "cell_type": "code",
   "execution_count": 5,
   "metadata": {},
   "outputs": [
    {
     "data": {
      "text/plain": [
       "8×8 Array{Float64,2}:\n",
       " 1118.29  0.465   5.256  0.088  0.97   14.0  18.0  14.677\n",
       " 1269.45  0.856   7.63   0.054  0.99   27.0  10.0   4.836\n",
       " 1789.88  0.874   6.851  0.11   0.967  40.0  10.0   4.344\n",
       " 1794.52  0.93    4.736  0.141  0.923  58.0  34.0   4.008\n",
       " 2089.71  0.669   1.872  0.18   0.915  64.0  10.0  12.571\n",
       " 2239.77  0.822   3.623  0.083  0.882  10.0  38.0  12.924\n",
       " 2358.0   0.4     7.276  0.062  0.983  10.0  28.0  17.524\n",
       " 2461.49  0.924  13.928  0.169  0.822  10.0  34.0   6.831"
      ]
     },
     "execution_count": 5,
     "metadata": {},
     "output_type": "execute_result"
    }
   ],
   "source": [
    "gn = \"g2\"\n",
    "g2 = best_fvals(pasta, gn, dir, extension, k)"
   ]
  },
  {
   "cell_type": "code",
   "execution_count": 6,
   "metadata": {},
   "outputs": [
    {
     "data": {
      "text/plain": [
       "8×8 Array{Float64,2}:\n",
       "  494.498  0.93   15.626  0.041  0.99   27.0  25.0   2.869\n",
       " 1126.72   0.4     5.999  0.084  0.99   35.0  17.0  15.643\n",
       " 1162.4    0.93   10.361  0.096  0.99   80.0  10.0   2.047\n",
       " 1302.32   0.798   6.148  0.09   0.959  10.0  10.0   7.08\n",
       " 1491.04   0.4     5.392  0.089  0.99   36.0  19.0  16.487\n",
       " 1591.8    0.4     5.477  0.089  0.99   37.0  19.0  16.367\n",
       " 1632.5    0.406   5.509  0.089  0.975  27.0  20.0  16.292\n",
       " 1660.91   0.924  15.101  0.083  0.99   36.0  14.0   2.41"
      ]
     },
     "execution_count": 6,
     "metadata": {},
     "output_type": "execute_result"
    }
   ],
   "source": [
    "gn = \"g3\"\n",
    "g3 = best_fvals(pasta, gn, dir, extension, k)"
   ]
  },
  {
   "cell_type": "code",
   "execution_count": 7,
   "metadata": {},
   "outputs": [
    {
     "data": {
      "text/plain": [
       "8×8 Array{Float64,2}:\n",
       " 1170.44  0.93    9.89   0.064  0.921  10.0  22.0   2.037\n",
       " 1177.73  0.93    9.07   0.077  0.924  16.0  28.0   2.835\n",
       " 1676.02  0.759   5.131  0.084  0.937  10.0  10.0   7.961\n",
       " 1809.8   0.804   6.66   0.055  0.99   15.0  10.0   6.711\n",
       " 1815.6   0.767   1.953  0.18   0.837  31.0  10.0   9.351\n",
       " 1820.07  0.4    11.419  0.041  0.99   41.0  35.0  15.49\n",
       " 1863.18  0.821   6.892  0.05   0.99   15.0  10.0   5.743\n",
       " 2085.63  0.929  12.803  0.041  0.99   72.0  27.0   2.616"
      ]
     },
     "execution_count": 7,
     "metadata": {},
     "output_type": "execute_result"
    }
   ],
   "source": [
    "gn = \"g4\"\n",
    "g4 = best_fvals(pasta, gn, dir, extension, k)"
   ]
  },
  {
   "cell_type": "code",
   "execution_count": 8,
   "metadata": {},
   "outputs": [
    {
     "data": {
      "text/plain": [
       "8×8 Array{Float64,2}:\n",
       "  228.733  0.93   10.237  0.03   0.986  10.0  10.0  2.159\n",
       "  285.512  0.928  11.064  0.03   0.99   10.0  14.0  2.298\n",
       "  355.492  0.93    6.772  0.059  0.923  10.0  10.0  2.225\n",
       "  387.612  0.93    6.772  0.059  0.92   10.0  10.0  2.121\n",
       "  458.106  0.93   10.114  0.022  0.99   15.0  10.0  2.106\n",
       "  718.427  0.93    9.908  0.053  0.962  25.0  10.0  2.068\n",
       " 1156.17   0.899  10.716  0.07   0.99   44.0  10.0  3.102\n",
       " 1519.55   0.904  10.561  0.111  0.99   44.0  10.0  3.117"
      ]
     },
     "execution_count": 8,
     "metadata": {},
     "output_type": "execute_result"
    }
   ],
   "source": [
    "gn = \"g5\"\n",
    "g5 = best_fvals(pasta, gn, dir, extension, k)"
   ]
  },
  {
   "cell_type": "code",
   "execution_count": 10,
   "metadata": {},
   "outputs": [],
   "source": [
    "gbest = vcat(g1, g2, g3, g4)\n",
    "index = sortperm(gbest[:,1])\n",
    "gbest = gbest[index,:]\n",
    "\n",
    "gbest = gbest[1:20, :]\n",
    "\n",
    "writedlm(\"gbest_L_0_5.csv\", gbest, ',')"
   ]
  },
  {
   "cell_type": "code",
   "execution_count": 11,
   "metadata": {},
   "outputs": [
    {
     "data": {
      "text/plain": [
       "20×8 Array{Float64,2}:\n",
       "  494.498  0.93   15.626  0.041  0.99   27.0  25.0   2.869\n",
       "  583.736  0.926   9.843  0.057  0.963  17.0  10.0   2.34\n",
       "  848.99   0.93    9.941  0.057  0.962  10.0  10.0   2.303\n",
       "  898.152  0.93   10.21   0.049  0.964  17.0  10.0   2.071\n",
       "  924.377  0.93   10.157  0.05   0.964  17.0  10.0   2.121\n",
       " 1118.29   0.465   5.256  0.088  0.97   14.0  18.0  14.677\n",
       " 1126.72   0.4     5.999  0.084  0.99   35.0  17.0  15.643\n",
       " 1162.4    0.93   10.361  0.096  0.99   80.0  10.0   2.047\n",
       " 1170.44   0.93    9.89   0.064  0.921  10.0  22.0   2.037\n",
       " 1177.73   0.93    9.07   0.077  0.924  16.0  28.0   2.835\n",
       " 1269.45   0.856   7.63   0.054  0.99   27.0  10.0   4.836\n",
       " 1302.32   0.798   6.148  0.09   0.959  10.0  10.0   7.08\n",
       " 1491.04   0.4     5.392  0.089  0.99   36.0  19.0  16.487\n",
       " 1543.84   0.93    9.816  0.061  0.959  23.0  10.0   2.079\n",
       " 1591.8    0.4     5.477  0.089  0.99   37.0  19.0  16.367\n",
       " 1632.5    0.406   5.509  0.089  0.975  27.0  20.0  16.292\n",
       " 1660.91   0.924  15.101  0.083  0.99   36.0  14.0   2.41\n",
       " 1676.02   0.759   5.131  0.084  0.937  10.0  10.0   7.961\n",
       " 1789.88   0.874   6.851  0.11   0.967  40.0  10.0   4.344\n",
       " 1794.52   0.93    4.736  0.141  0.923  58.0  34.0   4.008"
      ]
     },
     "execution_count": 11,
     "metadata": {},
     "output_type": "execute_result"
    }
   ],
   "source": [
    "gbest"
   ]
  }
 ],
 "metadata": {
  "kernelspec": {
   "display_name": "Julia 1.5.3",
   "language": "julia",
   "name": "julia-1.5"
  },
  "language_info": {
   "file_extension": ".jl",
   "mimetype": "application/julia",
   "name": "julia",
   "version": "1.5.3"
  }
 },
 "nbformat": 4,
 "nbformat_minor": 4
}
